{
  "nbformat": 4,
  "nbformat_minor": 0,
  "metadata": {
    "colab": {
      "name": "BertTrecAugmentationWithVectors.ipynb",
      "provenance": [],
      "authorship_tag": "ABX9TyOH7D8fsA8zNDoG+ON6SnBu",
      "include_colab_link": true
    },
    "kernelspec": {
      "name": "python3",
      "display_name": "Python 3"
    },
    "accelerator": "GPU",
    "widgets": {
      "application/vnd.jupyter.widget-state+json": {
        "c68f5fc1ce224a43886482fb662ebca8": {
          "model_module": "@jupyter-widgets/controls",
          "model_name": "HBoxModel",
          "state": {
            "_view_name": "HBoxView",
            "_dom_classes": [],
            "_model_name": "HBoxModel",
            "_view_module": "@jupyter-widgets/controls",
            "_model_module_version": "1.5.0",
            "_view_count": null,
            "_view_module_version": "1.5.0",
            "box_style": "",
            "layout": "IPY_MODEL_b88112e288ac4561a5674d4467d2c63f",
            "_model_module": "@jupyter-widgets/controls",
            "children": [
              "IPY_MODEL_b7b0956242574bbd8dc1b9f43b5620e9",
              "IPY_MODEL_69b24171ddee4cc6acf798ad825ef189"
            ]
          }
        },
        "b88112e288ac4561a5674d4467d2c63f": {
          "model_module": "@jupyter-widgets/base",
          "model_name": "LayoutModel",
          "state": {
            "_view_name": "LayoutView",
            "grid_template_rows": null,
            "right": null,
            "justify_content": null,
            "_view_module": "@jupyter-widgets/base",
            "overflow": null,
            "_model_module_version": "1.2.0",
            "_view_count": null,
            "flex_flow": null,
            "width": null,
            "min_width": null,
            "border": null,
            "align_items": null,
            "bottom": null,
            "_model_module": "@jupyter-widgets/base",
            "top": null,
            "grid_column": null,
            "overflow_y": null,
            "overflow_x": null,
            "grid_auto_flow": null,
            "grid_area": null,
            "grid_template_columns": null,
            "flex": null,
            "_model_name": "LayoutModel",
            "justify_items": null,
            "grid_row": null,
            "max_height": null,
            "align_content": null,
            "visibility": null,
            "align_self": null,
            "height": null,
            "min_height": null,
            "padding": null,
            "grid_auto_rows": null,
            "grid_gap": null,
            "max_width": null,
            "order": null,
            "_view_module_version": "1.2.0",
            "grid_template_areas": null,
            "object_position": null,
            "object_fit": null,
            "grid_auto_columns": null,
            "margin": null,
            "display": null,
            "left": null
          }
        },
        "b7b0956242574bbd8dc1b9f43b5620e9": {
          "model_module": "@jupyter-widgets/controls",
          "model_name": "IntProgressModel",
          "state": {
            "_view_name": "ProgressView",
            "style": "IPY_MODEL_6fead36ada064d00828a9d8eb8eaa263",
            "_dom_classes": [],
            "description": "Downloading: 100%",
            "_model_name": "IntProgressModel",
            "bar_style": "success",
            "max": 213450,
            "_view_module": "@jupyter-widgets/controls",
            "_model_module_version": "1.5.0",
            "value": 213450,
            "_view_count": null,
            "_view_module_version": "1.5.0",
            "orientation": "horizontal",
            "min": 0,
            "description_tooltip": null,
            "_model_module": "@jupyter-widgets/controls",
            "layout": "IPY_MODEL_b28b09d64ebc4fe2a58a2f0e5f4bddd7"
          }
        },
        "69b24171ddee4cc6acf798ad825ef189": {
          "model_module": "@jupyter-widgets/controls",
          "model_name": "HTMLModel",
          "state": {
            "_view_name": "HTMLView",
            "style": "IPY_MODEL_3e44adc64cdd457790e13831dffc796f",
            "_dom_classes": [],
            "description": "",
            "_model_name": "HTMLModel",
            "placeholder": "​",
            "_view_module": "@jupyter-widgets/controls",
            "_model_module_version": "1.5.0",
            "value": " 213k/213k [00:00&lt;00:00, 717kB/s]",
            "_view_count": null,
            "_view_module_version": "1.5.0",
            "description_tooltip": null,
            "_model_module": "@jupyter-widgets/controls",
            "layout": "IPY_MODEL_a94cedc8b7c443629892854b814be4b8"
          }
        },
        "6fead36ada064d00828a9d8eb8eaa263": {
          "model_module": "@jupyter-widgets/controls",
          "model_name": "ProgressStyleModel",
          "state": {
            "_view_name": "StyleView",
            "_model_name": "ProgressStyleModel",
            "description_width": "initial",
            "_view_module": "@jupyter-widgets/base",
            "_model_module_version": "1.5.0",
            "_view_count": null,
            "_view_module_version": "1.2.0",
            "bar_color": null,
            "_model_module": "@jupyter-widgets/controls"
          }
        },
        "b28b09d64ebc4fe2a58a2f0e5f4bddd7": {
          "model_module": "@jupyter-widgets/base",
          "model_name": "LayoutModel",
          "state": {
            "_view_name": "LayoutView",
            "grid_template_rows": null,
            "right": null,
            "justify_content": null,
            "_view_module": "@jupyter-widgets/base",
            "overflow": null,
            "_model_module_version": "1.2.0",
            "_view_count": null,
            "flex_flow": null,
            "width": null,
            "min_width": null,
            "border": null,
            "align_items": null,
            "bottom": null,
            "_model_module": "@jupyter-widgets/base",
            "top": null,
            "grid_column": null,
            "overflow_y": null,
            "overflow_x": null,
            "grid_auto_flow": null,
            "grid_area": null,
            "grid_template_columns": null,
            "flex": null,
            "_model_name": "LayoutModel",
            "justify_items": null,
            "grid_row": null,
            "max_height": null,
            "align_content": null,
            "visibility": null,
            "align_self": null,
            "height": null,
            "min_height": null,
            "padding": null,
            "grid_auto_rows": null,
            "grid_gap": null,
            "max_width": null,
            "order": null,
            "_view_module_version": "1.2.0",
            "grid_template_areas": null,
            "object_position": null,
            "object_fit": null,
            "grid_auto_columns": null,
            "margin": null,
            "display": null,
            "left": null
          }
        },
        "3e44adc64cdd457790e13831dffc796f": {
          "model_module": "@jupyter-widgets/controls",
          "model_name": "DescriptionStyleModel",
          "state": {
            "_view_name": "StyleView",
            "_model_name": "DescriptionStyleModel",
            "description_width": "",
            "_view_module": "@jupyter-widgets/base",
            "_model_module_version": "1.5.0",
            "_view_count": null,
            "_view_module_version": "1.2.0",
            "_model_module": "@jupyter-widgets/controls"
          }
        },
        "a94cedc8b7c443629892854b814be4b8": {
          "model_module": "@jupyter-widgets/base",
          "model_name": "LayoutModel",
          "state": {
            "_view_name": "LayoutView",
            "grid_template_rows": null,
            "right": null,
            "justify_content": null,
            "_view_module": "@jupyter-widgets/base",
            "overflow": null,
            "_model_module_version": "1.2.0",
            "_view_count": null,
            "flex_flow": null,
            "width": null,
            "min_width": null,
            "border": null,
            "align_items": null,
            "bottom": null,
            "_model_module": "@jupyter-widgets/base",
            "top": null,
            "grid_column": null,
            "overflow_y": null,
            "overflow_x": null,
            "grid_auto_flow": null,
            "grid_area": null,
            "grid_template_columns": null,
            "flex": null,
            "_model_name": "LayoutModel",
            "justify_items": null,
            "grid_row": null,
            "max_height": null,
            "align_content": null,
            "visibility": null,
            "align_self": null,
            "height": null,
            "min_height": null,
            "padding": null,
            "grid_auto_rows": null,
            "grid_gap": null,
            "max_width": null,
            "order": null,
            "_view_module_version": "1.2.0",
            "grid_template_areas": null,
            "object_position": null,
            "object_fit": null,
            "grid_auto_columns": null,
            "margin": null,
            "display": null,
            "left": null
          }
        },
        "0e60f099485e444b8932b2cb69e4458f": {
          "model_module": "@jupyter-widgets/controls",
          "model_name": "HBoxModel",
          "state": {
            "_view_name": "HBoxView",
            "_dom_classes": [],
            "_model_name": "HBoxModel",
            "_view_module": "@jupyter-widgets/controls",
            "_model_module_version": "1.5.0",
            "_view_count": null,
            "_view_module_version": "1.5.0",
            "box_style": "",
            "layout": "IPY_MODEL_30f717b3a31643e5a5545d7419481434",
            "_model_module": "@jupyter-widgets/controls",
            "children": [
              "IPY_MODEL_34c71f89ece34bbc8a8606a3644edd57",
              "IPY_MODEL_511a4b9be1b7442b978a0dd600854d2f"
            ]
          }
        },
        "30f717b3a31643e5a5545d7419481434": {
          "model_module": "@jupyter-widgets/base",
          "model_name": "LayoutModel",
          "state": {
            "_view_name": "LayoutView",
            "grid_template_rows": null,
            "right": null,
            "justify_content": null,
            "_view_module": "@jupyter-widgets/base",
            "overflow": null,
            "_model_module_version": "1.2.0",
            "_view_count": null,
            "flex_flow": null,
            "width": null,
            "min_width": null,
            "border": null,
            "align_items": null,
            "bottom": null,
            "_model_module": "@jupyter-widgets/base",
            "top": null,
            "grid_column": null,
            "overflow_y": null,
            "overflow_x": null,
            "grid_auto_flow": null,
            "grid_area": null,
            "grid_template_columns": null,
            "flex": null,
            "_model_name": "LayoutModel",
            "justify_items": null,
            "grid_row": null,
            "max_height": null,
            "align_content": null,
            "visibility": null,
            "align_self": null,
            "height": null,
            "min_height": null,
            "padding": null,
            "grid_auto_rows": null,
            "grid_gap": null,
            "max_width": null,
            "order": null,
            "_view_module_version": "1.2.0",
            "grid_template_areas": null,
            "object_position": null,
            "object_fit": null,
            "grid_auto_columns": null,
            "margin": null,
            "display": null,
            "left": null
          }
        },
        "34c71f89ece34bbc8a8606a3644edd57": {
          "model_module": "@jupyter-widgets/controls",
          "model_name": "IntProgressModel",
          "state": {
            "_view_name": "ProgressView",
            "style": "IPY_MODEL_f6d8075c34d241489759d7ff04f0dca4",
            "_dom_classes": [],
            "description": "Downloading: 100%",
            "_model_name": "IntProgressModel",
            "bar_style": "success",
            "max": 361,
            "_view_module": "@jupyter-widgets/controls",
            "_model_module_version": "1.5.0",
            "value": 361,
            "_view_count": null,
            "_view_module_version": "1.5.0",
            "orientation": "horizontal",
            "min": 0,
            "description_tooltip": null,
            "_model_module": "@jupyter-widgets/controls",
            "layout": "IPY_MODEL_919bc0327bbf4167a0627f55e4638962"
          }
        },
        "511a4b9be1b7442b978a0dd600854d2f": {
          "model_module": "@jupyter-widgets/controls",
          "model_name": "HTMLModel",
          "state": {
            "_view_name": "HTMLView",
            "style": "IPY_MODEL_c2df2328ebe8400db196afe898ddfacf",
            "_dom_classes": [],
            "description": "",
            "_model_name": "HTMLModel",
            "placeholder": "​",
            "_view_module": "@jupyter-widgets/controls",
            "_model_module_version": "1.5.0",
            "value": " 361/361 [00:10&lt;00:00, 33.8B/s]",
            "_view_count": null,
            "_view_module_version": "1.5.0",
            "description_tooltip": null,
            "_model_module": "@jupyter-widgets/controls",
            "layout": "IPY_MODEL_a5f889b99ea548e9a113e779637c2b64"
          }
        },
        "f6d8075c34d241489759d7ff04f0dca4": {
          "model_module": "@jupyter-widgets/controls",
          "model_name": "ProgressStyleModel",
          "state": {
            "_view_name": "StyleView",
            "_model_name": "ProgressStyleModel",
            "description_width": "initial",
            "_view_module": "@jupyter-widgets/base",
            "_model_module_version": "1.5.0",
            "_view_count": null,
            "_view_module_version": "1.2.0",
            "bar_color": null,
            "_model_module": "@jupyter-widgets/controls"
          }
        },
        "919bc0327bbf4167a0627f55e4638962": {
          "model_module": "@jupyter-widgets/base",
          "model_name": "LayoutModel",
          "state": {
            "_view_name": "LayoutView",
            "grid_template_rows": null,
            "right": null,
            "justify_content": null,
            "_view_module": "@jupyter-widgets/base",
            "overflow": null,
            "_model_module_version": "1.2.0",
            "_view_count": null,
            "flex_flow": null,
            "width": null,
            "min_width": null,
            "border": null,
            "align_items": null,
            "bottom": null,
            "_model_module": "@jupyter-widgets/base",
            "top": null,
            "grid_column": null,
            "overflow_y": null,
            "overflow_x": null,
            "grid_auto_flow": null,
            "grid_area": null,
            "grid_template_columns": null,
            "flex": null,
            "_model_name": "LayoutModel",
            "justify_items": null,
            "grid_row": null,
            "max_height": null,
            "align_content": null,
            "visibility": null,
            "align_self": null,
            "height": null,
            "min_height": null,
            "padding": null,
            "grid_auto_rows": null,
            "grid_gap": null,
            "max_width": null,
            "order": null,
            "_view_module_version": "1.2.0",
            "grid_template_areas": null,
            "object_position": null,
            "object_fit": null,
            "grid_auto_columns": null,
            "margin": null,
            "display": null,
            "left": null
          }
        },
        "c2df2328ebe8400db196afe898ddfacf": {
          "model_module": "@jupyter-widgets/controls",
          "model_name": "DescriptionStyleModel",
          "state": {
            "_view_name": "StyleView",
            "_model_name": "DescriptionStyleModel",
            "description_width": "",
            "_view_module": "@jupyter-widgets/base",
            "_model_module_version": "1.5.0",
            "_view_count": null,
            "_view_module_version": "1.2.0",
            "_model_module": "@jupyter-widgets/controls"
          }
        },
        "a5f889b99ea548e9a113e779637c2b64": {
          "model_module": "@jupyter-widgets/base",
          "model_name": "LayoutModel",
          "state": {
            "_view_name": "LayoutView",
            "grid_template_rows": null,
            "right": null,
            "justify_content": null,
            "_view_module": "@jupyter-widgets/base",
            "overflow": null,
            "_model_module_version": "1.2.0",
            "_view_count": null,
            "flex_flow": null,
            "width": null,
            "min_width": null,
            "border": null,
            "align_items": null,
            "bottom": null,
            "_model_module": "@jupyter-widgets/base",
            "top": null,
            "grid_column": null,
            "overflow_y": null,
            "overflow_x": null,
            "grid_auto_flow": null,
            "grid_area": null,
            "grid_template_columns": null,
            "flex": null,
            "_model_name": "LayoutModel",
            "justify_items": null,
            "grid_row": null,
            "max_height": null,
            "align_content": null,
            "visibility": null,
            "align_self": null,
            "height": null,
            "min_height": null,
            "padding": null,
            "grid_auto_rows": null,
            "grid_gap": null,
            "max_width": null,
            "order": null,
            "_view_module_version": "1.2.0",
            "grid_template_areas": null,
            "object_position": null,
            "object_fit": null,
            "grid_auto_columns": null,
            "margin": null,
            "display": null,
            "left": null
          }
        },
        "eb1a878252a240a898f4b6dd1131c29a": {
          "model_module": "@jupyter-widgets/controls",
          "model_name": "HBoxModel",
          "state": {
            "_view_name": "HBoxView",
            "_dom_classes": [],
            "_model_name": "HBoxModel",
            "_view_module": "@jupyter-widgets/controls",
            "_model_module_version": "1.5.0",
            "_view_count": null,
            "_view_module_version": "1.5.0",
            "box_style": "",
            "layout": "IPY_MODEL_3abfb3a151b644c6ad991d2edd8994ee",
            "_model_module": "@jupyter-widgets/controls",
            "children": [
              "IPY_MODEL_472ac6d0ec2a418fa49115feac65aa8a",
              "IPY_MODEL_5c9a1a5c0e4043f3ad67ac0f22db9645"
            ]
          }
        },
        "3abfb3a151b644c6ad991d2edd8994ee": {
          "model_module": "@jupyter-widgets/base",
          "model_name": "LayoutModel",
          "state": {
            "_view_name": "LayoutView",
            "grid_template_rows": null,
            "right": null,
            "justify_content": null,
            "_view_module": "@jupyter-widgets/base",
            "overflow": null,
            "_model_module_version": "1.2.0",
            "_view_count": null,
            "flex_flow": null,
            "width": null,
            "min_width": null,
            "border": null,
            "align_items": null,
            "bottom": null,
            "_model_module": "@jupyter-widgets/base",
            "top": null,
            "grid_column": null,
            "overflow_y": null,
            "overflow_x": null,
            "grid_auto_flow": null,
            "grid_area": null,
            "grid_template_columns": null,
            "flex": null,
            "_model_name": "LayoutModel",
            "justify_items": null,
            "grid_row": null,
            "max_height": null,
            "align_content": null,
            "visibility": null,
            "align_self": null,
            "height": null,
            "min_height": null,
            "padding": null,
            "grid_auto_rows": null,
            "grid_gap": null,
            "max_width": null,
            "order": null,
            "_view_module_version": "1.2.0",
            "grid_template_areas": null,
            "object_position": null,
            "object_fit": null,
            "grid_auto_columns": null,
            "margin": null,
            "display": null,
            "left": null
          }
        },
        "472ac6d0ec2a418fa49115feac65aa8a": {
          "model_module": "@jupyter-widgets/controls",
          "model_name": "IntProgressModel",
          "state": {
            "_view_name": "ProgressView",
            "style": "IPY_MODEL_1940cb2c7b8c4767910e176f864738c3",
            "_dom_classes": [],
            "description": "Downloading: 100%",
            "_model_name": "IntProgressModel",
            "bar_style": "success",
            "max": 435779157,
            "_view_module": "@jupyter-widgets/controls",
            "_model_module_version": "1.5.0",
            "value": 435779157,
            "_view_count": null,
            "_view_module_version": "1.5.0",
            "orientation": "horizontal",
            "min": 0,
            "description_tooltip": null,
            "_model_module": "@jupyter-widgets/controls",
            "layout": "IPY_MODEL_76d214a2beae47ca9beaf66994dbb87f"
          }
        },
        "5c9a1a5c0e4043f3ad67ac0f22db9645": {
          "model_module": "@jupyter-widgets/controls",
          "model_name": "HTMLModel",
          "state": {
            "_view_name": "HTMLView",
            "style": "IPY_MODEL_c74ee15e22f340d8abc3abf0dc213114",
            "_dom_classes": [],
            "description": "",
            "_model_name": "HTMLModel",
            "placeholder": "​",
            "_view_module": "@jupyter-widgets/controls",
            "_model_module_version": "1.5.0",
            "value": " 436M/436M [00:10&lt;00:00, 43.6MB/s]",
            "_view_count": null,
            "_view_module_version": "1.5.0",
            "description_tooltip": null,
            "_model_module": "@jupyter-widgets/controls",
            "layout": "IPY_MODEL_7016ff814097414b85ce090c0deee749"
          }
        },
        "1940cb2c7b8c4767910e176f864738c3": {
          "model_module": "@jupyter-widgets/controls",
          "model_name": "ProgressStyleModel",
          "state": {
            "_view_name": "StyleView",
            "_model_name": "ProgressStyleModel",
            "description_width": "initial",
            "_view_module": "@jupyter-widgets/base",
            "_model_module_version": "1.5.0",
            "_view_count": null,
            "_view_module_version": "1.2.0",
            "bar_color": null,
            "_model_module": "@jupyter-widgets/controls"
          }
        },
        "76d214a2beae47ca9beaf66994dbb87f": {
          "model_module": "@jupyter-widgets/base",
          "model_name": "LayoutModel",
          "state": {
            "_view_name": "LayoutView",
            "grid_template_rows": null,
            "right": null,
            "justify_content": null,
            "_view_module": "@jupyter-widgets/base",
            "overflow": null,
            "_model_module_version": "1.2.0",
            "_view_count": null,
            "flex_flow": null,
            "width": null,
            "min_width": null,
            "border": null,
            "align_items": null,
            "bottom": null,
            "_model_module": "@jupyter-widgets/base",
            "top": null,
            "grid_column": null,
            "overflow_y": null,
            "overflow_x": null,
            "grid_auto_flow": null,
            "grid_area": null,
            "grid_template_columns": null,
            "flex": null,
            "_model_name": "LayoutModel",
            "justify_items": null,
            "grid_row": null,
            "max_height": null,
            "align_content": null,
            "visibility": null,
            "align_self": null,
            "height": null,
            "min_height": null,
            "padding": null,
            "grid_auto_rows": null,
            "grid_gap": null,
            "max_width": null,
            "order": null,
            "_view_module_version": "1.2.0",
            "grid_template_areas": null,
            "object_position": null,
            "object_fit": null,
            "grid_auto_columns": null,
            "margin": null,
            "display": null,
            "left": null
          }
        },
        "c74ee15e22f340d8abc3abf0dc213114": {
          "model_module": "@jupyter-widgets/controls",
          "model_name": "DescriptionStyleModel",
          "state": {
            "_view_name": "StyleView",
            "_model_name": "DescriptionStyleModel",
            "description_width": "",
            "_view_module": "@jupyter-widgets/base",
            "_model_module_version": "1.5.0",
            "_view_count": null,
            "_view_module_version": "1.2.0",
            "_model_module": "@jupyter-widgets/controls"
          }
        },
        "7016ff814097414b85ce090c0deee749": {
          "model_module": "@jupyter-widgets/base",
          "model_name": "LayoutModel",
          "state": {
            "_view_name": "LayoutView",
            "grid_template_rows": null,
            "right": null,
            "justify_content": null,
            "_view_module": "@jupyter-widgets/base",
            "overflow": null,
            "_model_module_version": "1.2.0",
            "_view_count": null,
            "flex_flow": null,
            "width": null,
            "min_width": null,
            "border": null,
            "align_items": null,
            "bottom": null,
            "_model_module": "@jupyter-widgets/base",
            "top": null,
            "grid_column": null,
            "overflow_y": null,
            "overflow_x": null,
            "grid_auto_flow": null,
            "grid_area": null,
            "grid_template_columns": null,
            "flex": null,
            "_model_name": "LayoutModel",
            "justify_items": null,
            "grid_row": null,
            "max_height": null,
            "align_content": null,
            "visibility": null,
            "align_self": null,
            "height": null,
            "min_height": null,
            "padding": null,
            "grid_auto_rows": null,
            "grid_gap": null,
            "max_width": null,
            "order": null,
            "_view_module_version": "1.2.0",
            "grid_template_areas": null,
            "object_position": null,
            "object_fit": null,
            "grid_auto_columns": null,
            "margin": null,
            "display": null,
            "left": null
          }
        }
      }
    }
  },
  "cells": [
    {
      "cell_type": "markdown",
      "metadata": {
        "id": "view-in-github",
        "colab_type": "text"
      },
      "source": [
        "<a href=\"https://colab.research.google.com/github/semensorokin/data_augmetation/blob/master/BertTrecAugmentationWithVectors.ipynb\" target=\"_parent\"><img src=\"https://colab.research.google.com/assets/colab-badge.svg\" alt=\"Open In Colab\"/></a>"
      ]
    },
    {
      "cell_type": "code",
      "metadata": {
        "id": "CT3_EGH8UHpv",
        "colab_type": "code",
        "outputId": "43954fc7-913f-462e-ae52-fb3718c75463",
        "colab": {
          "base_uri": "https://localhost:8080/",
          "height": 139
        }
      },
      "source": [
        "from google.colab import drive\n",
        "drive.mount('/content/drive')\n",
        "%cd drive/'My Drive'/UniversalEmb"
      ],
      "execution_count": 1,
      "outputs": [
        {
          "output_type": "stream",
          "text": [
            "Go to this URL in a browser: https://accounts.google.com/o/oauth2/auth?client_id=947318989803-6bn6qk8qdgf4n4g3pfee6491hc0brc4i.apps.googleusercontent.com&redirect_uri=urn%3aietf%3awg%3aoauth%3a2.0%3aoob&response_type=code&scope=email%20https%3a%2f%2fwww.googleapis.com%2fauth%2fdocs.test%20https%3a%2f%2fwww.googleapis.com%2fauth%2fdrive%20https%3a%2f%2fwww.googleapis.com%2fauth%2fdrive.photos.readonly%20https%3a%2f%2fwww.googleapis.com%2fauth%2fpeopleapi.readonly\n",
            "\n",
            "Enter your authorization code:\n",
            "··········\n",
            "Mounted at /content/drive\n",
            "/content/drive/My Drive/UniversalEmb\n"
          ],
          "name": "stdout"
        }
      ]
    },
    {
      "cell_type": "code",
      "metadata": {
        "id": "1wwigVPRUcML",
        "colab_type": "code",
        "outputId": "6f076095-856c-49ae-b105-7685ee9f8aed",
        "colab": {
          "base_uri": "https://localhost:8080/",
          "height": 34
        }
      },
      "source": [
        "import pandas as pd\n",
        "n_examples = 6000\n",
        "\n",
        "labels = [i.split(' ', 1 )[0].split(':')[1] for i in open('train_5500.label', encoding = 'windows-1252').readlines()][:n_examples]\n",
        "texts = [ i.split(' ', 1 )[1][:-1] for i in open('train_5500.label', encoding = 'windows-1252').readlines()][:n_examples]\n",
        "train  = pd.DataFrame({'texts':texts, 'labels': labels})\n",
        "\n",
        "labels_t = [i.split(' ', 1)[0].split(':')[1] for i in open('TREC_10.label', encoding = 'windows-1252').readlines()]\n",
        "texts_t = [ i.split(' ', 1)[1][:-1] for i in open('TREC_10.label', encoding = 'windows-1252').readlines()]\n",
        "test  = pd.DataFrame({'texts':texts_t, 'labels': labels_t})\n",
        "test.shape"
      ],
      "execution_count": 2,
      "outputs": [
        {
          "output_type": "execute_result",
          "data": {
            "text/plain": [
              "(500, 2)"
            ]
          },
          "metadata": {
            "tags": []
          },
          "execution_count": 2
        }
      ]
    },
    {
      "cell_type": "code",
      "metadata": {
        "id": "X1yKxnpRUoAd",
        "colab_type": "code",
        "outputId": "8cf3ca0f-bf85-4230-9161-f040df737a26",
        "colab": {
          "base_uri": "https://localhost:8080/",
          "height": 339
        }
      },
      "source": [
        "train.groupby('labels').count().plot.bar()"
      ],
      "execution_count": 3,
      "outputs": [
        {
          "output_type": "execute_result",
          "data": {
            "text/plain": [
              "<matplotlib.axes._subplots.AxesSubplot at 0x7f1d6faed438>"
            ]
          },
          "metadata": {
            "tags": []
          },
          "execution_count": 3
        },
        {
          "output_type": "display_data",
          "data": {
            "image/png": "[encoded data removed]",
            "text/plain": [
              "<Figure size 432x288 with 1 Axes>"
            ]
          },
          "metadata": {
            "tags": [],
            "needs_background": "light"
          }
        }
      ]
    },
    {
      "cell_type": "code",
      "metadata": {
        "id": "BUvsJOCUUzE1",
        "colab_type": "code",
        "outputId": "48229677-9d83-49b8-8147-e68298597492",
        "colab": {
          "base_uri": "https://localhost:8080/",
          "height": 337
        }
      },
      "source": [
        "test.groupby('labels').count().plot.bar()"
      ],
      "execution_count": 4,
      "outputs": [
        {
          "output_type": "execute_result",
          "data": {
            "text/plain": [
              "<matplotlib.axes._subplots.AxesSubplot at 0x7f1d6f8e69b0>"
            ]
          },
          "metadata": {
            "tags": []
          },
          "execution_count": 4
        },
        {
          "output_type": "display_data",
          "data": {
            "image/png": "[encoded data removed]",
            "text/plain": [
              "<Figure size 432x288 with 1 Axes>"
            ]
          },
          "metadata": {
            "tags": [],
            "needs_background": "light"
          }
        }
      ]
    },
    {
      "cell_type": "code",
      "metadata": {
        "id": "MQfBvM17VQ8E",
        "colab_type": "code",
        "outputId": "52b8b31c-d1bd-48a7-c3b5-8b4ef73276a5",
        "colab": {
          "base_uri": "https://localhost:8080/",
          "height": 34
        }
      },
      "source": [
        "from scipy import stats\n",
        "import numpy as np\n",
        "#If the K-S statistic is small or the p-value is high, then we cannot reject the hypothesis that the distributions of the two samples are the same.\n",
        "stats.ks_2samp([i/np.sum(train.groupby('labels').count().values.flatten()) for i in train.groupby('labels').count().values.flatten()],\\\n",
        "               [i/np.sum(test.groupby('labels').count().values.flatten()) for i in test.groupby('labels').count().values.flatten()])"
      ],
      "execution_count": 5,
      "outputs": [
        {
          "output_type": "execute_result",
          "data": {
            "text/plain": [
              "Ks_2sampResult(statistic=0.21222040370976542, pvalue=0.24282366077934026)"
            ]
          },
          "metadata": {
            "tags": []
          },
          "execution_count": 5
        }
      ]
    },
    {
      "cell_type": "code",
      "metadata": {
        "id": "p4u3Cfo5gahT",
        "colab_type": "code",
        "colab": {}
      },
      "source": [
        "def creat_datasets(n, df):\n",
        "  n_trains = []\n",
        "  for i in range(0,df.shape[0],(df.shape[0])//n+1):\n",
        "    #sample = df.sample((df.shape[0]//n)+1, random_state=i+100)\n",
        "    sample = df[i:i+(df.shape[0])//n+1]\n",
        "    n_trains.append(sample)\n",
        "  return n_trains\n",
        "\n",
        "train_samples = creat_datasets(1, train)"
      ],
      "execution_count": 0,
      "outputs": []
    },
    {
      "cell_type": "code",
      "metadata": {
        "id": "XCApdJ65hl7o",
        "colab_type": "code",
        "outputId": "c8cd6304-ed73-4e38-b5ce-b7ca27b17b8b",
        "colab": {
          "base_uri": "https://localhost:8080/",
          "height": 255
        }
      },
      "source": [
        "train_samples"
      ],
      "execution_count": 7,
      "outputs": [
        {
          "output_type": "execute_result",
          "data": {
            "text/plain": [
              "[                                                  texts    labels\n",
              " 0     How did serfdom develop in and then leave Russ...    manner\n",
              " 1      What films featured the character Popeye Doyle ?    cremat\n",
              " 2     How can I find a list of celebrities ' real na...    manner\n",
              " 3     What fowl grabs the spotlight after the Chines...    animal\n",
              " 4                       What is the full form of .com ?       exp\n",
              " ...                                                 ...       ...\n",
              " 5447            What 's the shape of a camel 's spine ?     other\n",
              " 5448           What type of currency is used in China ?  currency\n",
              " 5449                    What is the temperature today ?      temp\n",
              " 5450              What is the temperature for cooking ?      temp\n",
              " 5451               What currency is used in Australia ?  currency\n",
              " \n",
              " [5452 rows x 2 columns]]"
            ]
          },
          "metadata": {
            "tags": []
          },
          "execution_count": 7
        }
      ]
    },
    {
      "cell_type": "code",
      "metadata": {
        "id": "sLIdewb3W2NV",
        "colab_type": "code",
        "outputId": "06694903-5e11-4ca5-d6d4-2c6e3101bc69",
        "colab": {
          "base_uri": "https://localhost:8080/",
          "height": 34
        }
      },
      "source": [
        "for sample in train_samples:\n",
        "  print(stats.ks_2samp([i/np.sum(train.groupby('labels').count().values.flatten()) for i in train.groupby('labels').count().values.flatten()],[i/np.sum(sample.groupby('labels').count().values.flatten()) for i in sample.groupby('labels').count().values.flatten()]))"
      ],
      "execution_count": 8,
      "outputs": [
        {
          "output_type": "stream",
          "text": [
            "Ks_2sampResult(statistic=0.0, pvalue=1.0)\n"
          ],
          "name": "stdout"
        }
      ]
    },
    {
      "cell_type": "code",
      "metadata": {
        "id": "zmF57tWea2Vt",
        "colab_type": "code",
        "outputId": "24d3de8c-31d5-4bdc-eb59-3dc8f3f90949",
        "colab": {
          "base_uri": "https://localhost:8080/",
          "height": 663
        }
      },
      "source": [
        "!pip install transformers"
      ],
      "execution_count": 9,
      "outputs": [
        {
          "output_type": "stream",
          "text": [
            "Collecting transformers\n",
            "\u001b[?25l  Downloading https://files.pythonhosted.org/packages/a3/78/92cedda05552398352ed9784908b834ee32a0bd071a9b32de287327370b7/transformers-2.8.0-py3-none-any.whl (563kB)\n",
            "\u001b[K     |████████████████████████████████| 573kB 4.7MB/s \n",
            "\u001b[?25hCollecting sentencepiece\n",
            "\u001b[?25l  Downloading https://files.pythonhosted.org/packages/74/f4/2d5214cbf13d06e7cb2c20d84115ca25b53ea76fa1f0ade0e3c9749de214/sentencepiece-0.1.85-cp36-cp36m-manylinux1_x86_64.whl (1.0MB)\n",
            "\u001b[K     |████████████████████████████████| 1.0MB 12.0MB/s \n",
            "\u001b[?25hRequirement already satisfied: regex!=2019.12.17 in /usr/local/lib/python3.6/dist-packages (from transformers) (2019.12.20)\n",
            "Collecting sacremoses\n",
            "\u001b[?25l  Downloading https://files.pythonhosted.org/packages/99/50/93509f906a40bffd7d175f97fd75ea328ad9bd91f48f59c4bd084c94a25e/sacremoses-0.0.41.tar.gz (883kB)\n",
            "\u001b[K     |████████████████████████████████| 890kB 29.9MB/s \n",
            "\u001b[?25hRequirement already satisfied: tqdm>=4.27 in /usr/local/lib/python3.6/dist-packages (from transformers) (4.38.0)\n",
            "Requirement already satisfied: requests in /usr/local/lib/python3.6/dist-packages (from transformers) (2.21.0)\n",
            "Collecting tokenizers==0.5.2\n",
            "\u001b[?25l  Downloading https://files.pythonhosted.org/packages/d1/3f/73c881ea4723e43c1e9acf317cf407fab3a278daab3a69c98dcac511c04f/tokenizers-0.5.2-cp36-cp36m-manylinux1_x86_64.whl (3.7MB)\n",
            "\u001b[K     |████████████████████████████████| 3.7MB 51.4MB/s \n",
            "\u001b[?25hRequirement already satisfied: dataclasses; python_version < \"3.7\" in /usr/local/lib/python3.6/dist-packages (from transformers) (0.7)\n",
            "Requirement already satisfied: boto3 in /usr/local/lib/python3.6/dist-packages (from transformers) (1.12.39)\n",
            "Requirement already satisfied: numpy in /usr/local/lib/python3.6/dist-packages (from transformers) (1.18.2)\n",
            "Requirement already satisfied: filelock in /usr/local/lib/python3.6/dist-packages (from transformers) (3.0.12)\n",
            "Requirement already satisfied: six in /usr/local/lib/python3.6/dist-packages (from sacremoses->transformers) (1.12.0)\n",
            "Requirement already satisfied: click in /usr/local/lib/python3.6/dist-packages (from sacremoses->transformers) (7.1.1)\n",
            "Requirement already satisfied: joblib in /usr/local/lib/python3.6/dist-packages (from sacremoses->transformers) (0.14.1)\n",
            "Requirement already satisfied: idna<2.9,>=2.5 in /usr/local/lib/python3.6/dist-packages (from requests->transformers) (2.8)\n",
            "Requirement already satisfied: certifi>=2017.4.17 in /usr/local/lib/python3.6/dist-packages (from requests->transformers) (2020.4.5.1)\n",
            "Requirement already satisfied: urllib3<1.25,>=1.21.1 in /usr/local/lib/python3.6/dist-packages (from requests->transformers) (1.24.3)\n",
            "Requirement already satisfied: chardet<3.1.0,>=3.0.2 in /usr/local/lib/python3.6/dist-packages (from requests->transformers) (3.0.4)\n",
            "Requirement already satisfied: botocore<1.16.0,>=1.15.39 in /usr/local/lib/python3.6/dist-packages (from boto3->transformers) (1.15.39)\n",
            "Requirement already satisfied: jmespath<1.0.0,>=0.7.1 in /usr/local/lib/python3.6/dist-packages (from boto3->transformers) (0.9.5)\n",
            "Requirement already satisfied: s3transfer<0.4.0,>=0.3.0 in /usr/local/lib/python3.6/dist-packages (from boto3->transformers) (0.3.3)\n",
            "Requirement already satisfied: python-dateutil<3.0.0,>=2.1 in /usr/local/lib/python3.6/dist-packages (from botocore<1.16.0,>=1.15.39->boto3->transformers) (2.8.1)\n",
            "Requirement already satisfied: docutils<0.16,>=0.10 in /usr/local/lib/python3.6/dist-packages (from botocore<1.16.0,>=1.15.39->boto3->transformers) (0.15.2)\n",
            "Building wheels for collected packages: sacremoses\n",
            "  Building wheel for sacremoses (setup.py) ... \u001b[?25l\u001b[?25hdone\n",
            "  Created wheel for sacremoses: filename=sacremoses-0.0.41-cp36-none-any.whl size=893334 sha256=5989a68af965b8201c7ded2f684d4d46218c2a7cbad5b90c52c88f503f4b7cf5\n",
            "  Stored in directory: /root/.cache/pip/wheels/22/5a/d4/b020a81249de7dc63758a34222feaa668dbe8ebfe9170cc9b1\n",
            "Successfully built sacremoses\n",
            "Installing collected packages: sentencepiece, sacremoses, tokenizers, transformers\n",
            "Successfully installed sacremoses-0.0.41 sentencepiece-0.1.85 tokenizers-0.5.2 transformers-2.8.0\n"
          ],
          "name": "stdout"
        }
      ]
    },
    {
      "cell_type": "code",
      "metadata": {
        "id": "2bBdb3pt8LuQ",
        "colab_type": "code",
        "outputId": "b3633af6-e730-4c5c-e5f6-c86d3ed5855f",
        "colab": {
          "base_uri": "https://localhost:8080/",
          "height": 34
        }
      },
      "source": [
        "from keras.preprocessing.sequence import pad_sequences\n",
        "from tqdm import tqdm\n",
        "import torch\n",
        "\n",
        "def prep_data(sentences, MAX_LEN = 64):\n",
        "  tokenizer = BertTokenizer.from_pretrained('bert-base-cased')\n",
        "  input_ids = []\n",
        "  for sent in tqdm(sentences):\n",
        "      encoded_sent = tokenizer.encode(sent, add_special_tokens = True)\n",
        "      input_ids.append(encoded_sent[:MAX_LEN])\n",
        "  input_ids = pad_sequences(input_ids, maxlen=MAX_LEN, dtype=\"long\", value=0, truncating=\"post\", padding=\"post\")\n",
        "  attention_masks = []\n",
        "  for sent in input_ids:\n",
        "      att_mask = [int(token_id > 0) for token_id in sent]\n",
        "      attention_masks.append(att_mask)\n",
        "  return input_ids, attention_masks"
      ],
      "execution_count": 10,
      "outputs": [
        {
          "output_type": "stream",
          "text": [
            "Using TensorFlow backend.\n"
          ],
          "name": "stderr"
        }
      ]
    },
    {
      "cell_type": "code",
      "metadata": {
        "id": "GEgLpFVlo1Z-",
        "colab_type": "code",
        "colab": {}
      },
      "source": [
        "from torch.utils.data import TensorDataset, DataLoader, RandomSampler, SequentialSampler\n",
        "from transformers import BertForSequenceClassification, AdamW, BertConfig, BertTokenizer\n",
        "from transformers import get_linear_schedule_with_warmup\n",
        "import time\n",
        "import datetime\n",
        "import random\n",
        "from sklearn.metrics import f1_score"
      ],
      "execution_count": 0,
      "outputs": []
    },
    {
      "cell_type": "code",
      "metadata": {
        "id": "gpt6tR83keZD",
        "colab_type": "code",
        "colab": {}
      },
      "source": [
        "def format_time(elapsed):\n",
        "    '''\n",
        "    Takes a time in seconds and returns a string hh:mm:ss\n",
        "    '''\n",
        "    # Round to the nearest second.\n",
        "    elapsed_rounded = int(round((elapsed)))\n",
        "    return str(datetime.timedelta(seconds=elapsed_rounded))"
      ],
      "execution_count": 0,
      "outputs": []
    },
    {
      "cell_type": "code",
      "metadata": {
        "id": "m0ZDKC3wijTF",
        "colab_type": "code",
        "colab": {}
      },
      "source": [
        "lbls2indx = {lbl:indx for indx, lbl in enumerate(train.labels.unique())}\n",
        "indx2lbl = {indx:lbl for lbl, indx in lbls2indx.items()}"
      ],
      "execution_count": 0,
      "outputs": []
    },
    {
      "cell_type": "code",
      "metadata": {
        "id": "WUwCAk1WlsS1",
        "colab_type": "code",
        "colab": {}
      },
      "source": [
        "def lbl2indx(x):\n",
        "    return lbls2indx[x]"
      ],
      "execution_count": 0,
      "outputs": []
    },
    {
      "cell_type": "code",
      "metadata": {
        "id": "H9GQT4sVdcXR",
        "colab_type": "code",
        "colab": {}
      },
      "source": [
        "from sklearn.metrics import classification_report\n",
        "\n",
        "def train_bert(train, test):\n",
        "  batch_size = 16\n",
        "  \n",
        "\n",
        "  print(train.groupby('labels').count().plot.bar())\n",
        "  print(\"Labels unique in Train %s - amount:%i\" % (train.labels.unique(), len(train.labels.unique())))\n",
        "  print(\"Labels unique in Test %s - amount:%i\" % (test.labels.unique(), len(test.labels.unique())))\n",
        "  print(stats.ks_2samp([i/np.sum(train.groupby('labels').count().values.flatten()) for i in train.groupby('labels').count().values.flatten()],\\\n",
        "               [i/np.sum(test.groupby('labels').count().values.flatten()) for i in test.groupby('labels').count().values.flatten()]))\n",
        "  \n",
        "  train['lb'] = train.labels.apply(lbl2indx)\n",
        "  test['lb'] = test.labels.apply(lbl2indx)\n",
        "\n",
        "\n",
        "  train_input_ids, train_attention_masks = prep_data(train.texts.values.tolist())\n",
        "  test_input_ids, test_attention_masks = prep_data(test.texts.values.tolist())\n",
        "\n",
        "  train_inputs = torch.tensor(train_input_ids)\n",
        "  validation_inputs = torch.tensor(test_input_ids)\n",
        "\n",
        "  train_labels = torch.tensor(train.lb.values.tolist())\n",
        "  validation_labels = torch.tensor(test.lb.values.tolist())\n",
        "\n",
        "  train_masks = torch.tensor(train_attention_masks)\n",
        "  validation_masks = torch.tensor(test_attention_masks)\n",
        "  \n",
        "  train_data = TensorDataset(train_inputs, train_masks, train_labels)\n",
        "  train_sampler = RandomSampler(train_data)\n",
        "  train_dataloader = DataLoader(train_data, sampler=train_sampler, batch_size=batch_size)\n",
        "\n",
        "  validation_data = TensorDataset(validation_inputs, validation_masks, validation_labels)\n",
        "  validation_sampler = SequentialSampler(validation_data)\n",
        "  validation_dataloader = DataLoader(validation_data, sampler=validation_sampler, batch_size=batch_size)\n",
        "\n",
        "  model = BertForSequenceClassification.from_pretrained(\"bert-base-cased\", num_labels = len(list(lbls2indx.values())), output_attentions = False, output_hidden_states = True)\n",
        "  model = model.cuda()\n",
        "  optimizer = AdamW(model.parameters(),\n",
        "                  lr = 2e-5, # args.learning_rate - default is 5e-5, our notebook had 2e-5\n",
        "                  eps = 1e-8 )\n",
        "  epochs = 7\n",
        "  total_steps = len(train_dataloader) * epochs\n",
        "  scheduler = get_linear_schedule_with_warmup(optimizer, \n",
        "                                              num_warmup_steps = 50, # Default value in run_glue.py\n",
        "                                              num_training_steps = total_steps)\n",
        "  device = 'cuda'\n",
        "  seed_val = 42\n",
        "\n",
        "  random.seed(seed_val)\n",
        "  np.random.seed(seed_val)\n",
        "  torch.manual_seed(seed_val)\n",
        "  torch.cuda.manual_seed_all(seed_val)\n",
        "  loss_values = []\n",
        "\n",
        "  for epoch_i in range(0, epochs):\n",
        "      embeddings = []\n",
        "\n",
        "      print(\"\")\n",
        "      print('======== Epoch {:} / {:} ========'.format(epoch_i + 1, epochs))\n",
        "      print('Training...')\n",
        "      t0 = time.time()\n",
        "      total_loss = 0\n",
        "      model.train()\n",
        "\n",
        "      for step, batch in enumerate(train_dataloader):\n",
        "          if step % 40 == 0 and not step == 0:\n",
        "              elapsed = format_time(time.time() - t0)\n",
        "              print('  Batch {:>5,}  of  {:>5,}.    Elapsed: {:}.'.format(step, len(train_dataloader), elapsed))\n",
        "          b_input_ids = batch[0].to(device)\n",
        "          b_input_mask = batch[1].to(device)\n",
        "          b_labels = batch[2].to(device)\n",
        "          model.zero_grad()        \n",
        "\n",
        "          outputs = model(b_input_ids, \n",
        "                      token_type_ids=None, \n",
        "                      attention_mask=b_input_mask, \n",
        "                      labels=b_labels)\n",
        "          \n",
        "          loss  = outputs[0]\n",
        "          embeddings.append(outputs[2][-1][:,0,:])\n",
        "          total_loss += loss.item()\n",
        "          loss.backward()\n",
        "          torch.nn.utils.clip_grad_norm_(model.parameters(), 1.0)\n",
        "\n",
        "          optimizer.step()\n",
        "          scheduler.step()\n",
        "\n",
        "      avg_train_loss = total_loss / len(train_dataloader)            \n",
        "      loss_values.append(avg_train_loss)\n",
        "\n",
        "      print(\"\")\n",
        "      print(\"  Average training loss: {0:.2f}\".format(avg_train_loss))\n",
        "      print(\"  Training epcoh took: {:}\".format(format_time(time.time() - t0)))\n",
        "          \n",
        "      print(\"\")\n",
        "      print(\"Running Validation...\")\n",
        "\n",
        "      t0 = time.time()\n",
        "      test_targets, test_pred_class = [], []\n",
        "\n",
        "      model.eval()\n",
        "\n",
        "      eval_loss, eval_accuracy = 0, 0\n",
        "      nb_eval_steps, nb_eval_examples = 0, 0\n",
        "\n",
        "      for batch in validation_dataloader:\n",
        "          \n",
        "          batch = tuple(t.to(device) for t in batch)\n",
        "          \n",
        "          b_input_ids, b_input_mask, b_labels = batch\n",
        "          with torch.no_grad():        \n",
        "              outputs = model(b_input_ids, \n",
        "                              token_type_ids=None, \n",
        "                              attention_mask=b_input_mask)\n",
        "          logits = outputs[0]\n",
        "\n",
        "          # Move logits and labels to CPU\n",
        "          logits = logits.detach().cpu().numpy()\n",
        "          label_ids = b_labels.to('cpu').numpy()\n",
        "          test_targets.append(label_ids)\n",
        "          test_pred_class.append(np.argmax(logits, axis=1))\n",
        "          \n",
        "          # Calculate the accuracy for this batch of test sentences.          \n",
        "          # Accumulate the total accuracy.\n",
        "\n",
        "          nb_eval_steps += 1\n",
        "      test_targets = np.concatenate(test_targets).squeeze()\n",
        "      test_pred_class = np.concatenate(test_pred_class).squeeze()\n",
        "\n",
        "      f1 = f1_score(test_targets, test_pred_class, average='micro')\n",
        "      print(classification_report(test_targets, test_pred_class))\n",
        "\n",
        "      # Report the final accuracy for this validation run.\n",
        "      print(\"  F1: {0:.4f}\".format(f1))\n",
        "      print(\"  Validation took: {:}\".format(format_time(time.time() - t0)))\n",
        "\n",
        "  print(\"\")\n",
        "  print(\"Training complete!\")\n",
        "  return model"
      ],
      "execution_count": 0,
      "outputs": []
    },
    {
      "cell_type": "code",
      "metadata": {
        "id": "WjUZg1szfys5",
        "colab_type": "code",
        "outputId": "7c2f17af-6e88-4b17-c3b2-d31105344f96",
        "colab": {
          "base_uri": "https://localhost:8080/",
          "height": 1000,
          "referenced_widgets": [
            "c68f5fc1ce224a43886482fb662ebca8",
            "b88112e288ac4561a5674d4467d2c63f",
            "b7b0956242574bbd8dc1b9f43b5620e9",
            "69b24171ddee4cc6acf798ad825ef189",
            "6fead36ada064d00828a9d8eb8eaa263",
            "b28b09d64ebc4fe2a58a2f0e5f4bddd7",
            "3e44adc64cdd457790e13831dffc796f",
            "a94cedc8b7c443629892854b814be4b8",
            "0e60f099485e444b8932b2cb69e4458f",
            "30f717b3a31643e5a5545d7419481434",
            "34c71f89ece34bbc8a8606a3644edd57",
            "511a4b9be1b7442b978a0dd600854d2f",
            "f6d8075c34d241489759d7ff04f0dca4",
            "919bc0327bbf4167a0627f55e4638962",
            "c2df2328ebe8400db196afe898ddfacf",
            "a5f889b99ea548e9a113e779637c2b64",
            "eb1a878252a240a898f4b6dd1131c29a",
            "3abfb3a151b644c6ad991d2edd8994ee",
            "472ac6d0ec2a418fa49115feac65aa8a",
            "5c9a1a5c0e4043f3ad67ac0f22db9645",
            "1940cb2c7b8c4767910e176f864738c3",
            "76d214a2beae47ca9beaf66994dbb87f",
            "c74ee15e22f340d8abc3abf0dc213114",
            "7016ff814097414b85ce090c0deee749"
          ]
        }
      },
      "source": [
        "bert_models=[]\n",
        "for ind,tr_part in enumerate(train_samples):\n",
        "  print('Start fitting bert #{}'.format(ind+1))\n",
        "  bert_models.append(train_bert(tr_part,test))\n"
      ],
      "execution_count": 15,
      "outputs": [
        {
          "output_type": "stream",
          "text": [
            "Start fitting bert #1\n",
            "AxesSubplot(0.125,0.125;0.775x0.755)\n",
            "Labels unique in Train ['manner' 'cremat' 'animal' 'exp' 'ind' 'gr' 'title' 'def' 'date' 'reason'\n",
            " 'event' 'state' 'desc' 'count' 'other' 'letter' 'religion' 'food'\n",
            " 'country' 'color' 'termeq' 'city' 'body' 'dismed' 'mount' 'money'\n",
            " 'product' 'period' 'substance' 'sport' 'plant' 'techmeth' 'volsize'\n",
            " 'instru' 'abb' 'speed' 'word' 'lang' 'perc' 'code' 'dist' 'temp' 'symbol'\n",
            " 'ord' 'veh' 'weight' 'currency'] - amount:47\n",
            "Labels unique in Test ['dist' 'city' 'desc' 'def' 'date' 'gr' 'plant' 'reason' 'ind' 'weight'\n",
            " 'other' 'substance' 'speed' 'mount' 'temp' 'period' 'count' 'animal'\n",
            " 'food' 'state' 'termeq' 'money' 'currency' 'country' 'event' 'manner'\n",
            " 'color' 'product' 'title' 'body' 'veh' 'lang' 'instru' 'abb' 'exp'\n",
            " 'dismed' 'perc' 'sport' 'techmeth'] - amount:39\n",
            "Ks_2sampResult(statistic=0.21222040370976542, pvalue=0.24282366077934026)\n"
          ],
          "name": "stdout"
        },
        {
          "output_type": "stream",
          "text": [
            "/usr/local/lib/python3.6/dist-packages/ipykernel_launcher.py:13: SettingWithCopyWarning: \n",
            "A value is trying to be set on a copy of a slice from a DataFrame.\n",
            "Try using .loc[row_indexer,col_indexer] = value instead\n",
            "\n",
            "See the caveats in the documentation: https://pandas.pydata.org/pandas-docs/stable/user_guide/indexing.html#returning-a-view-versus-a-copy\n",
            "  del sys.path[0]\n"
          ],
          "name": "stderr"
        },
        {
          "output_type": "display_data",
          "data": {
            "application/vnd.jupyter.widget-view+json": {
              "model_id": "c68f5fc1ce224a43886482fb662ebca8",
              "version_minor": 0,
              "version_major": 2
            },
            "text/plain": [
              "HBox(children=(IntProgress(value=0, description='Downloading', max=213450, style=ProgressStyle(description_wid…"
            ]
          },
          "metadata": {
            "tags": []
          }
        },
        {
          "output_type": "stream",
          "text": [
            " 11%|█         | 573/5452 [00:00<00:00, 5725.16it/s]"
          ],
          "name": "stderr"
        },
        {
          "output_type": "stream",
          "text": [
            "\n"
          ],
          "name": "stdout"
        },
        {
          "output_type": "stream",
          "text": [
            "100%|██████████| 5452/5452 [00:00<00:00, 5485.67it/s]\n",
            "100%|██████████| 500/500 [00:00<00:00, 6685.19it/s]\n"
          ],
          "name": "stderr"
        },
        {
          "output_type": "display_data",
          "data": {
            "application/vnd.jupyter.widget-view+json": {
              "model_id": "0e60f099485e444b8932b2cb69e4458f",
              "version_minor": 0,
              "version_major": 2
            },
            "text/plain": [
              "HBox(children=(IntProgress(value=0, description='Downloading', max=361, style=ProgressStyle(description_width=…"
            ]
          },
          "metadata": {
            "tags": []
          }
        },
        {
          "output_type": "stream",
          "text": [
            "\n"
          ],
          "name": "stdout"
        },
        {
          "output_type": "display_data",
          "data": {
            "application/vnd.jupyter.widget-view+json": {
              "model_id": "eb1a878252a240a898f4b6dd1131c29a",
              "version_minor": 0,
              "version_major": 2
            },
            "text/plain": [
              "HBox(children=(IntProgress(value=0, description='Downloading', max=435779157, style=ProgressStyle(description_…"
            ]
          },
          "metadata": {
            "tags": []
          }
        },
        {
          "output_type": "stream",
          "text": [
            "\n",
            "\n",
            "======== Epoch 1 / 7 ========\n",
            "Training...\n",
            "  Batch    40  of    341.    Elapsed: 0:00:06.\n",
            "  Batch    80  of    341.    Elapsed: 0:00:11.\n",
            "  Batch   120  of    341.    Elapsed: 0:00:16.\n",
            "  Batch   160  of    341.    Elapsed: 0:00:21.\n",
            "  Batch   200  of    341.    Elapsed: 0:00:27.\n",
            "  Batch   240  of    341.    Elapsed: 0:00:32.\n",
            "  Batch   280  of    341.    Elapsed: 0:00:37.\n",
            "  Batch   320  of    341.    Elapsed: 0:00:42.\n",
            "\n",
            "  Average training loss: 2.22\n",
            "  Training epcoh took: 0:00:45\n",
            "\n",
            "Running Validation...\n"
          ],
          "name": "stdout"
        },
        {
          "output_type": "stream",
          "text": [
            "/usr/local/lib/python3.6/dist-packages/sklearn/metrics/_classification.py:1272: UndefinedMetricWarning: Precision and F-score are ill-defined and being set to 0.0 in labels with no predicted samples. Use `zero_division` parameter to control this behavior.\n",
            "  _warn_prf(average, modifier, msg_start, len(result))\n"
          ],
          "name": "stderr"
        },
        {
          "output_type": "stream",
          "text": [
            "              precision    recall  f1-score   support\n",
            "\n",
            "           0       0.20      1.00      0.33         2\n",
            "           2       0.71      0.75      0.73        16\n",
            "           3       0.57      0.50      0.53         8\n",
            "           4       1.00      1.00      1.00        55\n",
            "           5       0.71      0.83      0.77         6\n",
            "           6       0.00      0.00      0.00         1\n",
            "           7       0.87      1.00      0.93       123\n",
            "           8       0.92      1.00      0.96        47\n",
            "           9       0.75      1.00      0.86         6\n",
            "          10       0.00      0.00      0.00         2\n",
            "          11       1.00      0.71      0.83         7\n",
            "          12       0.82      0.90      0.86        10\n",
            "          13       0.41      1.00      0.58         9\n",
            "          14       0.64      0.85      0.73        74\n",
            "          17       0.33      1.00      0.50         4\n",
            "          18       0.27      1.00      0.43         3\n",
            "          19       1.00      1.00      1.00        10\n",
            "          20       0.00      0.00      0.00         7\n",
            "          21       1.00      0.83      0.91        18\n",
            "          22       0.00      0.00      0.00         2\n",
            "          23       0.00      0.00      0.00         2\n",
            "          24       0.00      0.00      0.00         3\n",
            "          25       0.33      0.67      0.44         3\n",
            "          26       0.00      0.00      0.00         4\n",
            "          27       0.78      0.88      0.82         8\n",
            "          28       0.00      0.00      0.00        15\n",
            "          29       1.00      1.00      1.00         1\n",
            "          30       0.00      0.00      0.00         5\n",
            "          31       0.00      0.00      0.00         1\n",
            "          33       0.00      0.00      0.00         1\n",
            "          34       0.00      0.00      0.00         1\n",
            "          35       0.00      0.00      0.00         6\n",
            "          37       0.00      0.00      0.00         2\n",
            "          38       0.00      0.00      0.00         3\n",
            "          40       0.00      0.00      0.00        16\n",
            "          41       0.00      0.00      0.00         5\n",
            "          44       1.00      0.25      0.40         4\n",
            "          45       0.00      0.00      0.00         4\n",
            "          46       0.00      0.00      0.00         6\n",
            "\n",
            "    accuracy                           0.77       500\n",
            "   macro avg       0.37      0.44      0.37       500\n",
            "weighted avg       0.68      0.77      0.71       500\n",
            "\n",
            "  F1: 0.7660\n",
            "  Validation took: 0:00:01\n",
            "\n",
            "======== Epoch 2 / 7 ========\n",
            "Training...\n",
            "  Batch    40  of    341.    Elapsed: 0:00:05.\n",
            "  Batch    80  of    341.    Elapsed: 0:00:11.\n",
            "  Batch   120  of    341.    Elapsed: 0:00:16.\n",
            "  Batch   160  of    341.    Elapsed: 0:00:21.\n",
            "  Batch   200  of    341.    Elapsed: 0:00:26.\n",
            "  Batch   240  of    341.    Elapsed: 0:00:31.\n",
            "  Batch   280  of    341.    Elapsed: 0:00:37.\n",
            "  Batch   320  of    341.    Elapsed: 0:00:42.\n",
            "\n",
            "  Average training loss: 0.76\n",
            "  Training epcoh took: 0:00:45\n",
            "\n",
            "Running Validation...\n",
            "              precision    recall  f1-score   support\n",
            "\n",
            "           0       1.00      1.00      1.00         2\n",
            "           2       0.70      1.00      0.82        16\n",
            "           3       0.83      0.62      0.71         8\n",
            "           4       1.00      1.00      1.00        55\n",
            "           5       1.00      0.83      0.91         6\n",
            "           6       1.00      1.00      1.00         1\n",
            "           7       0.97      1.00      0.98       123\n",
            "           8       1.00      1.00      1.00        47\n",
            "           9       1.00      1.00      1.00         6\n",
            "          10       1.00      1.00      1.00         2\n",
            "          11       1.00      0.71      0.83         7\n",
            "          12       0.91      1.00      0.95        10\n",
            "          13       0.32      1.00      0.49         9\n",
            "          14       0.81      0.77      0.79        74\n",
            "          17       0.43      0.75      0.55         4\n",
            "          18       0.50      1.00      0.67         3\n",
            "          19       1.00      1.00      1.00        10\n",
            "          20       1.00      0.86      0.92         7\n",
            "          21       0.94      0.83      0.88        18\n",
            "          22       0.00      0.00      0.00         2\n",
            "          23       0.25      0.50      0.33         2\n",
            "          24       1.00      0.67      0.80         3\n",
            "          25       0.20      0.67      0.31         3\n",
            "          26       1.00      0.25      0.40         4\n",
            "          27       0.67      1.00      0.80         8\n",
            "          28       0.90      0.60      0.72        15\n",
            "          29       1.00      1.00      1.00         1\n",
            "          30       0.00      0.00      0.00         5\n",
            "          31       1.00      1.00      1.00         1\n",
            "          33       0.00      0.00      0.00         1\n",
            "          34       0.00      0.00      0.00         1\n",
            "          35       0.00      0.00      0.00         6\n",
            "          37       1.00      1.00      1.00         2\n",
            "          38       0.00      0.00      0.00         3\n",
            "          40       0.44      0.50      0.47        16\n",
            "          41       0.00      0.00      0.00         5\n",
            "          44       0.67      1.00      0.80         4\n",
            "          45       0.00      0.00      0.00         4\n",
            "          46       0.00      0.00      0.00         6\n",
            "\n",
            "    accuracy                           0.84       500\n",
            "   macro avg       0.63      0.66      0.62       500\n",
            "weighted avg       0.83      0.84      0.82       500\n",
            "\n",
            "  F1: 0.8380\n",
            "  Validation took: 0:00:01\n",
            "\n",
            "======== Epoch 3 / 7 ========\n",
            "Training...\n",
            "  Batch    40  of    341.    Elapsed: 0:00:05.\n",
            "  Batch    80  of    341.    Elapsed: 0:00:10.\n",
            "  Batch   120  of    341.    Elapsed: 0:00:16.\n",
            "  Batch   160  of    341.    Elapsed: 0:00:21.\n",
            "  Batch   200  of    341.    Elapsed: 0:00:26.\n",
            "  Batch   240  of    341.    Elapsed: 0:00:31.\n",
            "  Batch   280  of    341.    Elapsed: 0:00:37.\n",
            "  Batch   320  of    341.    Elapsed: 0:00:42.\n",
            "\n",
            "  Average training loss: 0.39\n",
            "  Training epcoh took: 0:00:45\n",
            "\n",
            "Running Validation...\n",
            "              precision    recall  f1-score   support\n",
            "\n",
            "           0       1.00      1.00      1.00         2\n",
            "           2       0.71      0.94      0.81        16\n",
            "           3       0.83      0.62      0.71         8\n",
            "           4       0.98      1.00      0.99        55\n",
            "           5       0.83      0.83      0.83         6\n",
            "           6       0.00      0.00      0.00         1\n",
            "           7       0.96      1.00      0.98       123\n",
            "           8       1.00      1.00      1.00        47\n",
            "           9       0.86      1.00      0.92         6\n",
            "          10       1.00      1.00      1.00         2\n",
            "          11       1.00      1.00      1.00         7\n",
            "          12       0.91      1.00      0.95        10\n",
            "          13       0.69      1.00      0.82         9\n",
            "          14       0.82      0.82      0.82        74\n",
            "          17       1.00      0.75      0.86         4\n",
            "          18       0.75      1.00      0.86         3\n",
            "          19       0.91      1.00      0.95        10\n",
            "          20       0.86      0.86      0.86         7\n",
            "          21       0.94      0.83      0.88        18\n",
            "          22       0.00      0.00      0.00         2\n",
            "          23       1.00      0.50      0.67         2\n",
            "          24       1.00      0.67      0.80         3\n",
            "          25       0.17      0.67      0.27         3\n",
            "          26       1.00      0.25      0.40         4\n",
            "          27       0.73      1.00      0.84         8\n",
            "          28       0.79      0.73      0.76        15\n",
            "          29       1.00      1.00      1.00         1\n",
            "          30       0.00      0.00      0.00         5\n",
            "          31       1.00      1.00      1.00         1\n",
            "          33       1.00      1.00      1.00         1\n",
            "          34       0.00      0.00      0.00         1\n",
            "          35       0.00      0.00      0.00         6\n",
            "          37       1.00      1.00      1.00         2\n",
            "          38       0.75      1.00      0.86         3\n",
            "          40       0.68      0.81      0.74        16\n",
            "          41       1.00      0.60      0.75         5\n",
            "          44       0.67      1.00      0.80         4\n",
            "          45       1.00      0.25      0.40         4\n",
            "          46       0.00      0.00      0.00         6\n",
            "\n",
            "    accuracy                           0.88       500\n",
            "   macro avg       0.74      0.72      0.71       500\n",
            "weighted avg       0.86      0.88      0.86       500\n",
            "\n",
            "  F1: 0.8760\n",
            "  Validation took: 0:00:01\n",
            "\n",
            "======== Epoch 4 / 7 ========\n",
            "Training...\n",
            "  Batch    40  of    341.    Elapsed: 0:00:05.\n",
            "  Batch    80  of    341.    Elapsed: 0:00:10.\n",
            "  Batch   120  of    341.    Elapsed: 0:00:16.\n",
            "  Batch   160  of    341.    Elapsed: 0:00:21.\n",
            "  Batch   200  of    341.    Elapsed: 0:00:26.\n",
            "  Batch   240  of    341.    Elapsed: 0:00:31.\n",
            "  Batch   280  of    341.    Elapsed: 0:00:37.\n",
            "  Batch   320  of    341.    Elapsed: 0:00:42.\n",
            "\n",
            "  Average training loss: 0.21\n",
            "  Training epcoh took: 0:00:45\n",
            "\n",
            "Running Validation...\n",
            "              precision    recall  f1-score   support\n",
            "\n",
            "           0       1.00      1.00      1.00         2\n",
            "           2       1.00      0.81      0.90        16\n",
            "           3       0.86      0.75      0.80         8\n",
            "           4       1.00      1.00      1.00        55\n",
            "           5       1.00      0.83      0.91         6\n",
            "           6       1.00      1.00      1.00         1\n",
            "           7       0.96      1.00      0.98       123\n",
            "           8       1.00      1.00      1.00        47\n",
            "           9       0.86      1.00      0.92         6\n",
            "          10       1.00      0.50      0.67         2\n",
            "          11       1.00      1.00      1.00         7\n",
            "          12       1.00      1.00      1.00        10\n",
            "          13       0.82      1.00      0.90         9\n",
            "          14       0.78      0.85      0.81        74\n",
            "          17       1.00      0.75      0.86         4\n",
            "          18       0.60      1.00      0.75         3\n",
            "          19       0.91      1.00      0.95        10\n",
            "          20       0.62      0.71      0.67         7\n",
            "          21       0.94      0.83      0.88        18\n",
            "          22       0.00      0.00      0.00         2\n",
            "          23       1.00      0.50      0.67         2\n",
            "          24       1.00      0.67      0.80         3\n",
            "          25       0.22      0.67      0.33         3\n",
            "          26       1.00      0.25      0.40         4\n",
            "          27       0.73      1.00      0.84         8\n",
            "          28       0.79      0.73      0.76        15\n",
            "          29       1.00      1.00      1.00         1\n",
            "          30       1.00      0.80      0.89         5\n",
            "          31       1.00      1.00      1.00         1\n",
            "          33       1.00      1.00      1.00         1\n",
            "          34       0.00      0.00      0.00         1\n",
            "          35       0.00      0.00      0.00         6\n",
            "          37       1.00      1.00      1.00         2\n",
            "          38       0.67      0.67      0.67         3\n",
            "          40       0.74      0.88      0.80        16\n",
            "          41       1.00      1.00      1.00         5\n",
            "          44       0.67      1.00      0.80         4\n",
            "          45       1.00      0.50      0.67         4\n",
            "          46       0.00      0.00      0.00         6\n",
            "\n",
            "    accuracy                           0.89       500\n",
            "   macro avg       0.80      0.76      0.76       500\n",
            "weighted avg       0.88      0.89      0.88       500\n",
            "\n",
            "  F1: 0.8900\n",
            "  Validation took: 0:00:01\n",
            "\n",
            "======== Epoch 5 / 7 ========\n",
            "Training...\n",
            "  Batch    40  of    341.    Elapsed: 0:00:05.\n",
            "  Batch    80  of    341.    Elapsed: 0:00:10.\n",
            "  Batch   120  of    341.    Elapsed: 0:00:16.\n",
            "  Batch   160  of    341.    Elapsed: 0:00:21.\n",
            "  Batch   200  of    341.    Elapsed: 0:00:26.\n",
            "  Batch   240  of    341.    Elapsed: 0:00:31.\n",
            "  Batch   280  of    341.    Elapsed: 0:00:36.\n",
            "  Batch   320  of    341.    Elapsed: 0:00:42.\n",
            "\n",
            "  Average training loss: 0.13\n",
            "  Training epcoh took: 0:00:44\n",
            "\n",
            "Running Validation...\n",
            "              precision    recall  f1-score   support\n",
            "\n",
            "           0       1.00      1.00      1.00         2\n",
            "           2       1.00      0.81      0.90        16\n",
            "           3       0.89      1.00      0.94         8\n",
            "           4       1.00      1.00      1.00        55\n",
            "           5       1.00      0.83      0.91         6\n",
            "           6       1.00      1.00      1.00         1\n",
            "           7       0.98      1.00      0.99       123\n",
            "           8       1.00      1.00      1.00        47\n",
            "           9       1.00      1.00      1.00         6\n",
            "          10       1.00      0.50      0.67         2\n",
            "          11       1.00      1.00      1.00         7\n",
            "          12       0.91      1.00      0.95        10\n",
            "          13       0.75      1.00      0.86         9\n",
            "          14       0.86      0.85      0.86        74\n",
            "          17       1.00      0.75      0.86         4\n",
            "          18       0.75      1.00      0.86         3\n",
            "          19       0.67      1.00      0.80        10\n",
            "          20       0.70      1.00      0.82         7\n",
            "          21       0.94      0.83      0.88        18\n",
            "          22       1.00      1.00      1.00         2\n",
            "          23       1.00      0.50      0.67         2\n",
            "          24       0.67      0.67      0.67         3\n",
            "          25       0.40      0.67      0.50         3\n",
            "          26       1.00      0.25      0.40         4\n",
            "          27       0.73      1.00      0.84         8\n",
            "          28       0.79      0.73      0.76        15\n",
            "          29       1.00      1.00      1.00         1\n",
            "          30       1.00      0.80      0.89         5\n",
            "          31       1.00      1.00      1.00         1\n",
            "          33       1.00      1.00      1.00         1\n",
            "          34       0.00      0.00      0.00         1\n",
            "          35       1.00      0.50      0.67         6\n",
            "          37       1.00      1.00      1.00         2\n",
            "          38       0.60      1.00      0.75         3\n",
            "          40       0.88      0.88      0.88        16\n",
            "          41       1.00      1.00      1.00         5\n",
            "          44       0.67      1.00      0.80         4\n",
            "          45       1.00      1.00      1.00         4\n",
            "          46       0.00      0.00      0.00         6\n",
            "\n",
            "    accuracy                           0.91       500\n",
            "   macro avg       0.85      0.84      0.82       500\n",
            "weighted avg       0.91      0.91      0.91       500\n",
            "\n",
            "  F1: 0.9140\n",
            "  Validation took: 0:00:01\n",
            "\n",
            "======== Epoch 6 / 7 ========\n",
            "Training...\n",
            "  Batch    40  of    341.    Elapsed: 0:00:05.\n",
            "  Batch    80  of    341.    Elapsed: 0:00:10.\n",
            "  Batch   120  of    341.    Elapsed: 0:00:16.\n",
            "  Batch   160  of    341.    Elapsed: 0:00:21.\n",
            "  Batch   200  of    341.    Elapsed: 0:00:26.\n",
            "  Batch   240  of    341.    Elapsed: 0:00:31.\n",
            "  Batch   280  of    341.    Elapsed: 0:00:36.\n",
            "  Batch   320  of    341.    Elapsed: 0:00:42.\n",
            "\n",
            "  Average training loss: 0.09\n",
            "  Training epcoh took: 0:00:44\n",
            "\n",
            "Running Validation...\n"
          ],
          "name": "stdout"
        },
        {
          "output_type": "stream",
          "text": [
            "/usr/local/lib/python3.6/dist-packages/sklearn/metrics/_classification.py:1272: UndefinedMetricWarning: Recall and F-score are ill-defined and being set to 0.0 in labels with no true samples. Use `zero_division` parameter to control this behavior.\n",
            "  _warn_prf(average, modifier, msg_start, len(result))\n"
          ],
          "name": "stderr"
        },
        {
          "output_type": "stream",
          "text": [
            "              precision    recall  f1-score   support\n",
            "\n",
            "           0       1.00      1.00      1.00         2\n",
            "           2       1.00      0.88      0.93        16\n",
            "           3       1.00      1.00      1.00         8\n",
            "           4       1.00      1.00      1.00        55\n",
            "           5       1.00      0.83      0.91         6\n",
            "           6       1.00      1.00      1.00         1\n",
            "           7       0.98      1.00      0.99       123\n",
            "           8       1.00      1.00      1.00        47\n",
            "           9       0.86      1.00      0.92         6\n",
            "          10       1.00      0.50      0.67         2\n",
            "          11       1.00      1.00      1.00         7\n",
            "          12       1.00      1.00      1.00        10\n",
            "          13       0.75      1.00      0.86         9\n",
            "          14       0.85      0.85      0.85        74\n",
            "          15       0.00      0.00      0.00         0\n",
            "          17       1.00      0.75      0.86         4\n",
            "          18       0.75      1.00      0.86         3\n",
            "          19       1.00      1.00      1.00        10\n",
            "          20       0.71      0.71      0.71         7\n",
            "          21       0.94      0.83      0.88        18\n",
            "          22       1.00      1.00      1.00         2\n",
            "          23       1.00      0.50      0.67         2\n",
            "          24       0.67      0.67      0.67         3\n",
            "          25       0.33      0.67      0.44         3\n",
            "          26       1.00      0.25      0.40         4\n",
            "          27       0.73      1.00      0.84         8\n",
            "          28       0.79      0.73      0.76        15\n",
            "          29       1.00      1.00      1.00         1\n",
            "          30       1.00      0.80      0.89         5\n",
            "          31       1.00      1.00      1.00         1\n",
            "          33       1.00      1.00      1.00         1\n",
            "          34       1.00      1.00      1.00         1\n",
            "          35       1.00      0.83      0.91         6\n",
            "          36       0.00      0.00      0.00         0\n",
            "          37       1.00      1.00      1.00         2\n",
            "          38       0.60      1.00      0.75         3\n",
            "          40       1.00      0.88      0.93        16\n",
            "          41       1.00      1.00      1.00         5\n",
            "          44       0.67      1.00      0.80         4\n",
            "          45       1.00      1.00      1.00         4\n",
            "          46       0.00      0.00      0.00         6\n",
            "\n",
            "    accuracy                           0.92       500\n",
            "   macro avg       0.84      0.82      0.82       500\n",
            "weighted avg       0.93      0.92      0.92       500\n",
            "\n",
            "  F1: 0.9180\n",
            "  Validation took: 0:00:01\n",
            "\n",
            "======== Epoch 7 / 7 ========\n",
            "Training...\n",
            "  Batch    40  of    341.    Elapsed: 0:00:05.\n",
            "  Batch    80  of    341.    Elapsed: 0:00:10.\n",
            "  Batch   120  of    341.    Elapsed: 0:00:16.\n",
            "  Batch   160  of    341.    Elapsed: 0:00:21.\n",
            "  Batch   200  of    341.    Elapsed: 0:00:26.\n",
            "  Batch   240  of    341.    Elapsed: 0:00:31.\n",
            "  Batch   280  of    341.    Elapsed: 0:00:36.\n",
            "  Batch   320  of    341.    Elapsed: 0:00:41.\n",
            "\n",
            "  Average training loss: 0.06\n",
            "  Training epcoh took: 0:00:44\n",
            "\n",
            "Running Validation...\n",
            "              precision    recall  f1-score   support\n",
            "\n",
            "           0       1.00      1.00      1.00         2\n",
            "           2       1.00      0.88      0.93        16\n",
            "           3       1.00      1.00      1.00         8\n",
            "           4       1.00      1.00      1.00        55\n",
            "           5       1.00      0.83      0.91         6\n",
            "           6       1.00      1.00      1.00         1\n",
            "           7       0.98      1.00      0.99       123\n",
            "           8       1.00      1.00      1.00        47\n",
            "           9       1.00      1.00      1.00         6\n",
            "          10       1.00      0.50      0.67         2\n",
            "          11       1.00      1.00      1.00         7\n",
            "          12       0.91      1.00      0.95        10\n",
            "          13       0.82      1.00      0.90         9\n",
            "          14       0.85      0.85      0.85        74\n",
            "          15       0.00      0.00      0.00         0\n",
            "          17       1.00      0.75      0.86         4\n",
            "          18       0.75      1.00      0.86         3\n",
            "          19       1.00      1.00      1.00        10\n",
            "          20       0.71      0.71      0.71         7\n",
            "          21       0.94      0.83      0.88        18\n",
            "          22       1.00      1.00      1.00         2\n",
            "          23       1.00      0.50      0.67         2\n",
            "          24       0.67      0.67      0.67         3\n",
            "          25       0.40      0.67      0.50         3\n",
            "          26       1.00      0.25      0.40         4\n",
            "          27       0.73      1.00      0.84         8\n",
            "          28       0.79      0.73      0.76        15\n",
            "          29       1.00      1.00      1.00         1\n",
            "          30       1.00      0.80      0.89         5\n",
            "          31       1.00      1.00      1.00         1\n",
            "          33       1.00      1.00      1.00         1\n",
            "          34       1.00      1.00      1.00         1\n",
            "          35       1.00      0.83      0.91         6\n",
            "          36       0.00      0.00      0.00         0\n",
            "          37       1.00      1.00      1.00         2\n",
            "          38       0.60      1.00      0.75         3\n",
            "          40       1.00      0.94      0.97        16\n",
            "          41       1.00      1.00      1.00         5\n",
            "          44       0.67      1.00      0.80         4\n",
            "          45       1.00      1.00      1.00         4\n",
            "          46       1.00      0.17      0.29         6\n",
            "\n",
            "    accuracy                           0.92       500\n",
            "   macro avg       0.87      0.83      0.83       500\n",
            "weighted avg       0.94      0.92      0.92       500\n",
            "\n",
            "  F1: 0.9220\n",
            "  Validation took: 0:00:01\n",
            "\n",
            "Training complete!\n"
          ],
          "name": "stdout"
        },
        {
          "output_type": "display_data",
          "data": {
            "image/png": "[encoded data removed]",
            "text/plain": [
              "<Figure size 432x288 with 1 Axes>"
            ]
          },
          "metadata": {
            "tags": [],
            "needs_background": "light"
          }
        }
      ]
    },
    {
      "cell_type": "code",
      "metadata": {
        "id": "O4IpFsXKhMe7",
        "colab_type": "code",
        "colab": {}
      },
      "source": [
        "for instance in list(tqdm._instances):\n",
        "    tqdm._decr_instances(instance)"
      ],
      "execution_count": 0,
      "outputs": []
    },
    {
      "cell_type": "code",
      "metadata": {
        "id": "lxnbJSb_h5s7",
        "colab_type": "code",
        "outputId": "28b47ed1-9efb-4d21-eb9a-c6b0d3de8f52",
        "colab": {
          "base_uri": "https://localhost:8080/",
          "height": 34
        }
      },
      "source": [
        "len(bert_models)"
      ],
      "execution_count": 17,
      "outputs": [
        {
          "output_type": "execute_result",
          "data": {
            "text/plain": [
              "1"
            ]
          },
          "metadata": {
            "tags": []
          },
          "execution_count": 17
        }
      ]
    },
    {
      "cell_type": "code",
      "metadata": {
        "id": "1CepB0a2hr5H",
        "colab_type": "code",
        "colab": {}
      },
      "source": [
        "from torch import nn\n",
        "from tqdm import tqdm\n",
        "def bert_vectors(model, sentences):\n",
        "  batch_size = 16\n",
        "  device = \"cuda\"\n",
        "\n",
        "  train_input_ids, train_attention_masks = prep_data(sentences)\n",
        "\n",
        "  train_inputs = torch.tensor(train_input_ids)\n",
        "  train_labels = torch.tensor([0]*len(sentences))\n",
        "  train_masks = torch.tensor(train_attention_masks)\n",
        "  \n",
        "  train_data = TensorDataset(train_inputs, train_masks, train_labels)\n",
        "  train_dataloader = DataLoader(train_data, shuffle=False, batch_size=batch_size)\n",
        "\n",
        "  model.eval()\n",
        "  augmentations = []\n",
        "  embeddings = []\n",
        "  for batch in tqdm(train_dataloader):\n",
        "      \n",
        "      batch = tuple(t.to(device) for t in batch)\n",
        "      \n",
        "      b_input_ids, b_input_mask, b_labels = batch\n",
        "      outputs = model(b_input_ids, token_type_ids=None, attention_mask=b_input_mask, labels=b_labels)\n",
        "      embeddings.append(outputs[2][-1][:,0,:].detach().cpu().numpy())\n",
        "\n",
        "  embeddings = np.concatenate(embeddings, axis = 0)\n",
        "\n",
        "  return embeddings"
      ],
      "execution_count": 0,
      "outputs": []
    },
    {
      "cell_type": "code",
      "metadata": {
        "id": "8L_mC_mRh_83",
        "colab_type": "code",
        "colab": {
          "base_uri": "https://localhost:8080/",
          "height": 51
        },
        "outputId": "ca024a8e-7b73-406e-d1b2-a7f84eb29b0c"
      },
      "source": [
        "for i, model in enumerate(bert_models):\n",
        "  vectors = bert_vectors(model, train.texts.tolist())"
      ],
      "execution_count": 28,
      "outputs": [
        {
          "output_type": "stream",
          "text": [
            "100%|██████████| 5452/5452 [00:00<00:00, 5488.74it/s]\n",
            "100%|██████████| 341/341 [00:22<00:00, 15.38it/s]\n"
          ],
          "name": "stderr"
        }
      ]
    },
    {
      "cell_type": "code",
      "metadata": {
        "id": "srDDmVbamM_y",
        "colab_type": "code",
        "colab": {
          "base_uri": "https://localhost:8080/",
          "height": 204
        },
        "outputId": "85ee7af6-1c51-41ed-9792-634f4668d02f"
      },
      "source": [
        "train_vectors = pd.DataFrame({'vecs': [np.array(i) for i in vectors.tolist()], 'labels_indx' : train.labels.apply(lbl2indx).tolist() })\n",
        "train_vectors.head()"
      ],
      "execution_count": 50,
      "outputs": [
        {
          "output_type": "execute_result",
          "data": {
            "text/html": [
              "<div>\n",
              "<style scoped>\n",
              "    .dataframe tbody tr th:only-of-type {\n",
              "        vertical-align: middle;\n",
              "    }\n",
              "\n",
              "    .dataframe tbody tr th {\n",
              "        vertical-align: top;\n",
              "    }\n",
              "\n",
              "    .dataframe thead th {\n",
              "        text-align: right;\n",
              "    }\n",
              "</style>\n",
              "<table border=\"1\" class=\"dataframe\">\n",
              "  <thead>\n",
              "    <tr style=\"text-align: right;\">\n",
              "      <th></th>\n",
              "      <th>vecs</th>\n",
              "      <th>labels_indx</th>\n",
              "    </tr>\n",
              "  </thead>\n",
              "  <tbody>\n",
              "    <tr>\n",
              "      <th>0</th>\n",
              "      <td>[1.1960028409957886, 0.6502004861831665, 0.016...</td>\n",
              "      <td>0</td>\n",
              "    </tr>\n",
              "    <tr>\n",
              "      <th>1</th>\n",
              "      <td>[0.4109029173851013, -0.8560100793838501, -0.7...</td>\n",
              "      <td>1</td>\n",
              "    </tr>\n",
              "    <tr>\n",
              "      <th>2</th>\n",
              "      <td>[1.2679637670516968, 0.5715430974960327, 0.005...</td>\n",
              "      <td>0</td>\n",
              "    </tr>\n",
              "    <tr>\n",
              "      <th>3</th>\n",
              "      <td>[0.1874140501022339, 1.2150360345840454, 1.596...</td>\n",
              "      <td>2</td>\n",
              "    </tr>\n",
              "    <tr>\n",
              "      <th>4</th>\n",
              "      <td>[0.2751096189022064, -1.8695924282073975, 0.48...</td>\n",
              "      <td>3</td>\n",
              "    </tr>\n",
              "  </tbody>\n",
              "</table>\n",
              "</div>"
            ],
            "text/plain": [
              "                                                vecs  labels_indx\n",
              "0  [1.1960028409957886, 0.6502004861831665, 0.016...            0\n",
              "1  [0.4109029173851013, -0.8560100793838501, -0.7...            1\n",
              "2  [1.2679637670516968, 0.5715430974960327, 0.005...            0\n",
              "3  [0.1874140501022339, 1.2150360345840454, 1.596...            2\n",
              "4  [0.2751096189022064, -1.8695924282073975, 0.48...            3"
            ]
          },
          "metadata": {
            "tags": []
          },
          "execution_count": 50
        }
      ]
    },
    {
      "cell_type": "code",
      "metadata": {
        "id": "NsDPRvc8m8Nn",
        "colab_type": "code",
        "colab": {}
      },
      "source": [
        "center_of_classes = pd.DataFrame({'vecs': train_vectors.groupby('labels_indx')['vecs'].apply(np.mean).tolist(), 'labels_indx': [i for i in range(len(train.labels.unique()))]})"
      ],
      "execution_count": 0,
      "outputs": []
    },
    {
      "cell_type": "code",
      "metadata": {
        "id": "YjaghHxo5mvB",
        "colab_type": "code",
        "colab": {
          "base_uri": "https://localhost:8080/",
          "height": 204
        },
        "outputId": "1cec6c81-b966-49cd-899f-6b62115f800c"
      },
      "source": [
        "from scipy.spatial.distance import cosine\n",
        "distances = []\n",
        "lbl2center = {i: j for i,j in zip(center_of_classes.labels_indx, center_of_classes.vecs)}\n",
        "for row in train_vectors.iterrows():\n",
        "  distances.append(cosine(lbl2center[row[1].labels_indx], row[1].vecs))\n",
        "train_vectors['distances'] = distances\n",
        "train_vectors.head()"
      ],
      "execution_count": 93,
      "outputs": [
        {
          "output_type": "execute_result",
          "data": {
            "text/html": [
              "<div>\n",
              "<style scoped>\n",
              "    .dataframe tbody tr th:only-of-type {\n",
              "        vertical-align: middle;\n",
              "    }\n",
              "\n",
              "    .dataframe tbody tr th {\n",
              "        vertical-align: top;\n",
              "    }\n",
              "\n",
              "    .dataframe thead th {\n",
              "        text-align: right;\n",
              "    }\n",
              "</style>\n",
              "<table border=\"1\" class=\"dataframe\">\n",
              "  <thead>\n",
              "    <tr style=\"text-align: right;\">\n",
              "      <th></th>\n",
              "      <th>vecs</th>\n",
              "      <th>labels_indx</th>\n",
              "      <th>distances</th>\n",
              "    </tr>\n",
              "  </thead>\n",
              "  <tbody>\n",
              "    <tr>\n",
              "      <th>0</th>\n",
              "      <td>[1.1960028409957886, 0.6502004861831665, 0.016...</td>\n",
              "      <td>0</td>\n",
              "      <td>0.004607</td>\n",
              "    </tr>\n",
              "    <tr>\n",
              "      <th>1</th>\n",
              "      <td>[0.4109029173851013, -0.8560100793838501, -0.7...</td>\n",
              "      <td>1</td>\n",
              "      <td>0.007993</td>\n",
              "    </tr>\n",
              "    <tr>\n",
              "      <th>2</th>\n",
              "      <td>[1.2679637670516968, 0.5715430974960327, 0.005...</td>\n",
              "      <td>0</td>\n",
              "      <td>0.003631</td>\n",
              "    </tr>\n",
              "    <tr>\n",
              "      <th>3</th>\n",
              "      <td>[0.1874140501022339, 1.2150360345840454, 1.596...</td>\n",
              "      <td>2</td>\n",
              "      <td>0.010381</td>\n",
              "    </tr>\n",
              "    <tr>\n",
              "      <th>4</th>\n",
              "      <td>[0.2751096189022064, -1.8695924282073975, 0.48...</td>\n",
              "      <td>3</td>\n",
              "      <td>0.054843</td>\n",
              "    </tr>\n",
              "  </tbody>\n",
              "</table>\n",
              "</div>"
            ],
            "text/plain": [
              "                                                vecs  labels_indx  distances\n",
              "0  [1.1960028409957886, 0.6502004861831665, 0.016...            0   0.004607\n",
              "1  [0.4109029173851013, -0.8560100793838501, -0.7...            1   0.007993\n",
              "2  [1.2679637670516968, 0.5715430974960327, 0.005...            0   0.003631\n",
              "3  [0.1874140501022339, 1.2150360345840454, 1.596...            2   0.010381\n",
              "4  [0.2751096189022064, -1.8695924282073975, 0.48...            3   0.054843"
            ]
          },
          "metadata": {
            "tags": []
          },
          "execution_count": 93
        }
      ]
    },
    {
      "cell_type": "code",
      "metadata": {
        "id": "aNZhtxG18z16",
        "colab_type": "code",
        "colab": {
          "base_uri": "https://localhost:8080/",
          "height": 877
        },
        "outputId": "288ba623-47dc-4ec4-a471-9e367b968daf"
      },
      "source": [
        "import pandas as pd\n",
        "import seaborn as sns\n",
        "from matplotlib import pyplot as plt\n",
        "plt.figure(figsize=(20,15))\n",
        "grouped = train_vectors[['labels_indx', 'distances']].groupby('labels_indx')\n",
        "for name, values in grouped:\n",
        "  sns.distplot(values['distances'])\n",
        "plt.show()"
      ],
      "execution_count": 101,
      "outputs": [
        {
          "output_type": "display_data",
          "data": {
            "image/png": "[encoded data removed]",
            "text/plain": [
              "<Figure size 1440x1080 with 1 Axes>"
            ]
          },
          "metadata": {
            "tags": [],
            "needs_background": "light"
          }
        }
      ]
    },
    {
      "cell_type": "code",
      "metadata": {
        "id": "cZv6mCtQB7sz",
        "colab_type": "code",
        "colab": {
          "base_uri": "https://localhost:8080/",
          "height": 878
        },
        "outputId": "a9780d7b-6790-4a26-c036-1552221ddf3d"
      },
      "source": [
        "plt.figure(figsize=(20,15))\n",
        "sns.boxplot(x=\"labels_indx\", y=\"distances\", data=train_vectors)\n",
        "plt.show()"
      ],
      "execution_count": 103,
      "outputs": [
        {
          "output_type": "display_data",
          "data": {
            "image/png": "[encoded data removed]",
            "text/plain": [
              "<Figure size 1440x1080 with 1 Axes>"
            ]
          },
          "metadata": {
            "tags": [],
            "needs_background": "light"
          }
        }
      ]
    },
    {
      "cell_type": "code",
      "metadata": {
        "id": "C_50DQ7IBnLK",
        "colab_type": "code",
        "colab": {}
      },
      "source": [
        "grouped = train_vectors.groupby('labels_indx')\n",
        "min_mean_max_mapping = {} \n",
        "for name, values in grouped:\n",
        "  min_mean_max_mapping[name] = {'min': values.distances.min(), 'mean':values.distances.mean(), 'max': values.distances.max(), 'center_emb': values.vecs.mean()}\n",
        "\n",
        "min_mean_max_mapping"
      ],
      "execution_count": 0,
      "outputs": []
    },
    {
      "cell_type": "code",
      "metadata": {
        "id": "vioUYG7TpjzA",
        "colab_type": "code",
        "colab": {}
      },
      "source": [
        "vectors_with_centers = pd.concat([train_vectors, center_of_classes])"
      ],
      "execution_count": 0,
      "outputs": []
    },
    {
      "cell_type": "code",
      "metadata": {
        "id": "oRFdPoUZn1Yy",
        "colab_type": "code",
        "colab": {}
      },
      "source": [
        "from sklearn.manifold import TSNE\n",
        "X_embedded = TSNE(n_components=2).fit_transform(vectors_with_centers['vecs'].tolist())"
      ],
      "execution_count": 0,
      "outputs": []
    },
    {
      "cell_type": "code",
      "metadata": {
        "id": "1HfIKWA4kR92",
        "colab_type": "code",
        "colab": {}
      },
      "source": [
        "import matplotlib.pyplot as plt\n",
        "import numpy as np\n",
        "\n",
        "\n",
        "def discrete_cmap(N, base_cmap=None):\n",
        "    \"\"\"Create an N-bin discrete colormap from the specified input map\"\"\"\n",
        "\n",
        "    # Note that if base_cmap is a string or None, you can simply do\n",
        "    #    return plt.cm.get_cmap(base_cmap, N)\n",
        "    # The following works for string, None, or a colormap instance:\n",
        "\n",
        "    base = plt.cm.get_cmap(base_cmap)\n",
        "    color_list = base(np.linspace(0, 1, N))\n",
        "    cmap_name = base.name + str(N)\n",
        "    return base.from_list(cmap_name, color_list, N)"
      ],
      "execution_count": 0,
      "outputs": []
    },
    {
      "cell_type": "code",
      "metadata": {
        "id": "c7LLr5Nlk5Q0",
        "colab_type": "code",
        "colab": {
          "base_uri": "https://localhost:8080/",
          "height": 888
        },
        "outputId": "4b5aa1be-a6ac-48d2-d4d2-e74c5d9d91cd"
      },
      "source": [
        "N = len(train.labels.unique())\n",
        "\n",
        "x = [x for x,y in X_embedded][:-len(train.labels.unique())]\n",
        "y = [y for x,y in X_embedded][:-len(train.labels.unique())]\n",
        "c = vectors_with_centers.labels_indx[:-len(train.labels.unique())]\n",
        "\n",
        "x_center = [x for x,y in X_embedded][-len(train.labels.unique()):]\n",
        "y_center = [y for x,y in X_embedded][-len(train.labels.unique()):]\n",
        "c_center = vectors_with_centers.labels_indx[-len(train.labels.unique()):]\n",
        "                                                         \n",
        "plt.figure(figsize=(20,15))\n",
        "# Edit: don't use the default ('jet') because it makes @mwaskom mad...\n",
        "plt.scatter(x, y, c=c, s=50, alpha=0.7, cmap=discrete_cmap(N, 'cubehelix'))\n",
        "plt.scatter(x_center, y_center, c=c_center, s=1000, alpha=0.7, cmap=discrete_cmap(N, 'cubehelix'))\n",
        "plt.colorbar(ticks=range(N))\n",
        "plt.title('Embedding space (Bert last hidden state) for Trec-50 (trainset) with class centers unsing TSNE ', {'fontsize': 25})\n",
        "plt.clim(-0.5, N - 0.5)\n",
        "plt.show()"
      ],
      "execution_count": 110,
      "outputs": [
        {
          "output_type": "display_data",
          "data": {
            "image/png": "[encoded data removed]",
            "text/plain": [
              "<Figure size 1440x1080 with 2 Axes>"
            ]
          },
          "metadata": {
            "tags": [],
            "needs_background": "light"
          }
        }
      ]
    },
    {
      "cell_type": "code",
      "metadata": {
        "id": "05Ff0KGZkRR9",
        "colab_type": "code",
        "colab": {}
      },
      "source": [
        "from torch import nn\n",
        "from tqdm import tqdm\n",
        "def bert_proba(mapping, model, sentences, boundary = 0.5):\n",
        "  batch_size = 16\n",
        "  device = \"cuda\"\n",
        "\n",
        "  train_input_ids, train_attention_masks = prep_data(sentences)\n",
        "\n",
        "  train_inputs = torch.tensor(train_input_ids)\n",
        "  train_labels = torch.tensor([0]*len(sentences))\n",
        "  train_masks = torch.tensor(train_attention_masks)\n",
        "  \n",
        "  train_data = TensorDataset(train_inputs, train_masks, train_labels)\n",
        "  train_dataloader = DataLoader(train_data, shuffle=False, batch_size=batch_size)\n",
        "  not_sampled = 0\n",
        "\n",
        "  model.eval()\n",
        "  augmentations = []\n",
        "  for batch in tqdm(train_dataloader):\n",
        "      \n",
        "      batch = tuple(t.to(device) for t in batch)\n",
        "      \n",
        "      b_input_ids, b_input_mask, b_labels = batch\n",
        "      with torch.no_grad():        \n",
        "          outputs = model(b_input_ids, token_type_ids=None, attention_mask=b_input_mask, labels=b_labels)\n",
        "\n",
        "      embedings = outputs[2][-1][:,0,:]\n",
        "      embedings = embedings.detach().cpu().numpy()\n",
        "      logits = outputs[1]\n",
        "      \n",
        "      probs = nn.Softmax(dim=-1)(logits)\n",
        "      probs = probs.detach().cpu().numpy()\n",
        "  \n",
        "      \n",
        "      samples = []\n",
        "      for indx, class_distribution in enumerate(probs.tolist()):\n",
        "        if any(boundary<prob for prob in class_distribution):\n",
        "          predicted_class_index = class_distribution.index(max(class_distribution)) #argmax\n",
        "          sample_emb = embedings[indx]\n",
        "          predicted_class_center = mapping[predicted_class_index]['center_emb']\n",
        "          dist = cosine(sample_emb, predicted_class_center)\n",
        "          if dist>= mapping[predicted_class_index]['min'] and dist<= (mapping[predicted_class_index]['max']):\n",
        "            samples.append((indx, predicted_class_index ))\n",
        "          else:\n",
        "            not_sampled+=1\n",
        "      augmentations.append(samples)\n",
        "   \n",
        "  aug_samples_indx = []\n",
        "  for ind, i in enumerate(augmentations):\n",
        "    if ind==0:\n",
        "      aug_samples_indx.extend([(j,k) for j,k in i])\n",
        "    else:\n",
        "      aug_samples_indx.extend([((batch_size*ind)+j, k) for j,k in i])\n",
        "  print()\n",
        "  print(len(aug_samples_indx))\n",
        "  print('Not sampled because of vectors distance:', not_sampled)\n",
        "  return aug_samples_indx\n"
      ],
      "execution_count": 0,
      "outputs": []
    },
    {
      "cell_type": "code",
      "metadata": {
        "id": "zmwd0oG_kyFz",
        "colab_type": "code",
        "outputId": "5da4dc76-b1a6-4678-ece7-789dddd38362",
        "colab": {
          "base_uri": "https://localhost:8080/",
          "height": 187
        }
      },
      "source": [
        "sq_sents = [i[:-1] for i in open('SQuAD.txt').readlines()]\n",
        "sq_sents[:10]"
      ],
      "execution_count": 200,
      "outputs": [
        {
          "output_type": "execute_result",
          "data": {
            "text/plain": [
              "['When did Beyonce start becoming popular?',\n",
              " 'After her second solo album, what other entertainment venture did Beyonce explore?',\n",
              " 'In her music, what are some recurring elements in them?',\n",
              " \"Beyonce's younger sibling also sang with her in what band?\",\n",
              " 'What town did Beyonce go to school in?',\n",
              " \"Who decided to place Beyonce's group in Star Search the talent show?\",\n",
              " \"Which film featured Destiny's Child's first major single?\",\n",
              " 'What mental health issue did Beyonce go through?',\n",
              " '\"Charlie\\'s Angels\" featured which single from the band members?',\n",
              " 'Who did Beyonce star with in the movie, \"Austin Powers in Goldmember\"?']"
            ]
          },
          "metadata": {
            "tags": []
          },
          "execution_count": 200
        }
      ]
    },
    {
      "cell_type": "code",
      "metadata": {
        "id": "UM9qKJ-zAH02",
        "colab_type": "code",
        "outputId": "7ee5e813-6442-48ec-acf9-f074284e6441",
        "colab": {
          "base_uri": "https://localhost:8080/",
          "height": 408
        }
      },
      "source": [
        "for i, model in enumerate(bert_models):\n",
        "  augmenations_indexes = bert_proba(min_mean_max_mapping, model, sq_sents, 0.75)\n",
        "  augmetation_squad = pd.DataFrame({\"texts\":[sq_sents[i] for i,j in augmenations_indexes], \"labels\":[indx2lbl[j] for i,j in augmenations_indexes]})\n",
        "  augmetation_squad.groupby('labels').count().plot.bar()\n",
        "  augmetation_squad.to_csv('trec50_n3_bert_{}_squad_07_with_mean_max_distance.csv'.format(str(i)))"
      ],
      "execution_count": 201,
      "outputs": [
        {
          "output_type": "stream",
          "text": [
            "100%|██████████| 130319/130319 [00:25<00:00, 5149.00it/s]\n",
            "100%|██████████| 8145/8145 [04:34<00:00, 29.65it/s]\n"
          ],
          "name": "stderr"
        },
        {
          "output_type": "stream",
          "text": [
            "\n",
            "102325\n",
            "Not sampled because of vectors distance: 10237\n"
          ],
          "name": "stdout"
        },
        {
          "output_type": "display_data",
          "data": {
            "image/png": "[encoded data removed]",
            "text/plain": [
              "<Figure size 432x288 with 1 Axes>"
            ]
          },
          "metadata": {
            "tags": [],
            "needs_background": "light"
          }
        }
      ]
    },
    {
      "cell_type": "code",
      "metadata": {
        "id": "HjAo_z5bblZY",
        "colab_type": "code",
        "colab": {}
      },
      "source": [
        "import pandas as pd\n",
        "trec50_n3_bert_0_squad_065 = pd.read_csv('trec50_n3_bert_0_squad_065.csv', index_col=0)\n",
        "trec50_n3_bert_1_squad_065 = pd.read_csv('trec50_n3_bert_1_squad_065.csv', index_col=0)\n",
        "trec50_n3_bert_2_squad_065 = pd.read_csv('trec50_n3_bert_2_squad_065.csv', index_col=0)"
      ],
      "execution_count": 0,
      "outputs": []
    },
    {
      "cell_type": "code",
      "metadata": {
        "id": "nDGgQKt6s0b0",
        "colab_type": "code",
        "colab": {
          "base_uri": "https://localhost:8080/",
          "height": 68
        },
        "outputId": "47de58ed-129d-4fdb-ff04-8989eca25cd9"
      },
      "source": [
        "frameList = [trec50_n3_bert_0_squad_065,trec50_n3_bert_1_squad_065,trec50_n3_bert_2_squad_065]\n",
        "for i in frameList:\n",
        "  print(i.shape)\n",
        "df_merge = frameList[0]\n",
        "for df in frameList[1:]:       \n",
        "    df_merge = pd.merge(df_merge, df, on=('texts',\"labels\"), how='inner')"
      ],
      "execution_count": 23,
      "outputs": [
        {
          "output_type": "stream",
          "text": [
            "(79527, 2)\n",
            "(72972, 2)\n",
            "(77903, 2)\n"
          ],
          "name": "stdout"
        }
      ]
    },
    {
      "cell_type": "code",
      "metadata": {
        "id": "9OH0OZv2pNWJ",
        "colab_type": "code",
        "colab": {
          "base_uri": "https://localhost:8080/",
          "height": 325
        },
        "outputId": "7cce5c0c-11f6-4b48-ebb8-a42779e93c58"
      },
      "source": [
        "df_merge[['texts', 'labels']].groupby('labels').count().plot.bar()"
      ],
      "execution_count": 24,
      "outputs": [
        {
          "output_type": "execute_result",
          "data": {
            "text/plain": [
              "<matplotlib.axes._subplots.AxesSubplot at 0x7f6a89617d30>"
            ]
          },
          "metadata": {
            "tags": []
          },
          "execution_count": 24
        },
        {
          "output_type": "display_data",
          "data": {
            "image/png": "[encoded data removed]",
            "text/plain": [
              "<Figure size 432x288 with 1 Axes>"
            ]
          },
          "metadata": {
            "tags": [],
            "needs_background": "light"
          }
        }
      ]
    },
    {
      "cell_type": "code",
      "metadata": {
        "id": "qH2JwepSiqpR",
        "colab_type": "code",
        "colab": {
          "base_uri": "https://localhost:8080/",
          "height": 419
        },
        "outputId": "f46f3236-761d-4cac-8bd4-a180389a8e19"
      },
      "source": [
        "df_merge"
      ],
      "execution_count": 25,
      "outputs": [
        {
          "output_type": "execute_result",
          "data": {
            "text/html": [
              "<div>\n",
              "<style scoped>\n",
              "    .dataframe tbody tr th:only-of-type {\n",
              "        vertical-align: middle;\n",
              "    }\n",
              "\n",
              "    .dataframe tbody tr th {\n",
              "        vertical-align: top;\n",
              "    }\n",
              "\n",
              "    .dataframe thead th {\n",
              "        text-align: right;\n",
              "    }\n",
              "</style>\n",
              "<table border=\"1\" class=\"dataframe\">\n",
              "  <thead>\n",
              "    <tr style=\"text-align: right;\">\n",
              "      <th></th>\n",
              "      <th>texts</th>\n",
              "      <th>labels</th>\n",
              "    </tr>\n",
              "  </thead>\n",
              "  <tbody>\n",
              "    <tr>\n",
              "      <th>0</th>\n",
              "      <td>When did Beyonce start becoming popular?</td>\n",
              "      <td>ind</td>\n",
              "    </tr>\n",
              "    <tr>\n",
              "      <th>1</th>\n",
              "      <td>In her music, what are some recurring elements...</td>\n",
              "      <td>desc</td>\n",
              "    </tr>\n",
              "    <tr>\n",
              "      <th>2</th>\n",
              "      <td>Who decided to place Beyonce's group in Star S...</td>\n",
              "      <td>date</td>\n",
              "    </tr>\n",
              "    <tr>\n",
              "      <th>3</th>\n",
              "      <td>Which film featured Destiny's Child's first ma...</td>\n",
              "      <td>ind</td>\n",
              "    </tr>\n",
              "    <tr>\n",
              "      <th>4</th>\n",
              "      <td>\"Charlie's Angels\" featured which single from ...</td>\n",
              "      <td>other</td>\n",
              "    </tr>\n",
              "    <tr>\n",
              "      <th>...</th>\n",
              "      <td>...</td>\n",
              "      <td>...</td>\n",
              "    </tr>\n",
              "    <tr>\n",
              "      <th>60853</th>\n",
              "      <td>What are protons and neutrons made out of?</td>\n",
              "      <td>other</td>\n",
              "    </tr>\n",
              "    <tr>\n",
              "      <th>60854</th>\n",
              "      <td>What is poorly defined besides matter?</td>\n",
              "      <td>ind</td>\n",
              "    </tr>\n",
              "    <tr>\n",
              "      <th>60855</th>\n",
              "      <td>One can add the rest masses of particles in a ...</td>\n",
              "      <td>date</td>\n",
              "    </tr>\n",
              "    <tr>\n",
              "      <th>60856</th>\n",
              "      <td>What is another name for electromagnetic radia...</td>\n",
              "      <td>count</td>\n",
              "    </tr>\n",
              "    <tr>\n",
              "      <th>60857</th>\n",
              "      <td>What type of charge do atoms have?</td>\n",
              "      <td>manner</td>\n",
              "    </tr>\n",
              "  </tbody>\n",
              "</table>\n",
              "<p>60858 rows × 2 columns</p>\n",
              "</div>"
            ],
            "text/plain": [
              "                                                   texts  labels\n",
              "0               When did Beyonce start becoming popular?     ind\n",
              "1      In her music, what are some recurring elements...    desc\n",
              "2      Who decided to place Beyonce's group in Star S...    date\n",
              "3      Which film featured Destiny's Child's first ma...     ind\n",
              "4      \"Charlie's Angels\" featured which single from ...   other\n",
              "...                                                  ...     ...\n",
              "60853         What are protons and neutrons made out of?   other\n",
              "60854             What is poorly defined besides matter?     ind\n",
              "60855  One can add the rest masses of particles in a ...    date\n",
              "60856  What is another name for electromagnetic radia...   count\n",
              "60857                 What type of charge do atoms have?  manner\n",
              "\n",
              "[60858 rows x 2 columns]"
            ]
          },
          "metadata": {
            "tags": []
          },
          "execution_count": 25
        }
      ]
    },
    {
      "cell_type": "code",
      "metadata": {
        "colab_type": "code",
        "id": "OZt90XxyPX-p",
        "colab": {
          "base_uri": "https://localhost:8080/",
          "height": 34
        },
        "outputId": "6cc37d1c-a465-4828-ea81-6a76e271fde3"
      },
      "source": [
        "import pandas as pd\n",
        "n_examples = 5000\n",
        "\n",
        "labels = [i.split(' ', 1 )[0].split(':')[1] for i in open('train_5500.label', encoding = 'windows-1252').readlines()][:n_examples]\n",
        "texts = [ i.split(' ', 1 )[1][:-1] for i in open('train_5500.label', encoding = 'windows-1252').readlines()][:n_examples]\n",
        "train  = pd.DataFrame({'texts':texts, 'labels': labels})\n",
        "\n",
        "labels_t = [i.split(' ', 1)[0].split(':')[1] for i in open('TREC_10.label', encoding = 'windows-1252').readlines()]\n",
        "texts_t = [ i.split(' ', 1)[1][:-1] for i in open('TREC_10.label', encoding = 'windows-1252').readlines()]\n",
        "test  = pd.DataFrame({'texts':texts_t, 'labels': labels_t})\n",
        "test.shape"
      ],
      "execution_count": 202,
      "outputs": [
        {
          "output_type": "execute_result",
          "data": {
            "text/plain": [
              "(500, 2)"
            ]
          },
          "metadata": {
            "tags": []
          },
          "execution_count": 202
        }
      ]
    },
    {
      "cell_type": "code",
      "metadata": {
        "id": "ticno7eP0V4e",
        "colab_type": "code",
        "colab": {
          "base_uri": "https://localhost:8080/",
          "height": 419
        },
        "outputId": "897a94a7-d6a7-4159-edcc-0ebf3ea32568"
      },
      "source": [
        "augmetation_squad"
      ],
      "execution_count": 203,
      "outputs": [
        {
          "output_type": "execute_result",
          "data": {
            "text/html": [
              "<div>\n",
              "<style scoped>\n",
              "    .dataframe tbody tr th:only-of-type {\n",
              "        vertical-align: middle;\n",
              "    }\n",
              "\n",
              "    .dataframe tbody tr th {\n",
              "        vertical-align: top;\n",
              "    }\n",
              "\n",
              "    .dataframe thead th {\n",
              "        text-align: right;\n",
              "    }\n",
              "</style>\n",
              "<table border=\"1\" class=\"dataframe\">\n",
              "  <thead>\n",
              "    <tr style=\"text-align: right;\">\n",
              "      <th></th>\n",
              "      <th>texts</th>\n",
              "      <th>labels</th>\n",
              "    </tr>\n",
              "  </thead>\n",
              "  <tbody>\n",
              "    <tr>\n",
              "      <th>0</th>\n",
              "      <td>When did Beyonce start becoming popular?</td>\n",
              "      <td>date</td>\n",
              "    </tr>\n",
              "    <tr>\n",
              "      <th>1</th>\n",
              "      <td>In her music, what are some recurring elements...</td>\n",
              "      <td>desc</td>\n",
              "    </tr>\n",
              "    <tr>\n",
              "      <th>2</th>\n",
              "      <td>What town did Beyonce go to school in?</td>\n",
              "      <td>city</td>\n",
              "    </tr>\n",
              "    <tr>\n",
              "      <th>3</th>\n",
              "      <td>Who decided to place Beyonce's group in Star S...</td>\n",
              "      <td>ind</td>\n",
              "    </tr>\n",
              "    <tr>\n",
              "      <th>4</th>\n",
              "      <td>Which film featured Destiny's Child's first ma...</td>\n",
              "      <td>cremat</td>\n",
              "    </tr>\n",
              "    <tr>\n",
              "      <th>...</th>\n",
              "      <td>...</td>\n",
              "      <td>...</td>\n",
              "    </tr>\n",
              "    <tr>\n",
              "      <th>102320</th>\n",
              "      <td>How does Descartes use matter and the formal/f...</td>\n",
              "      <td>manner</td>\n",
              "    </tr>\n",
              "    <tr>\n",
              "      <th>102321</th>\n",
              "      <td>Both primary and secondary properties are suit...</td>\n",
              "      <td>other</td>\n",
              "    </tr>\n",
              "    <tr>\n",
              "      <th>102322</th>\n",
              "      <td>What theory uses spinor fields?</td>\n",
              "      <td>def</td>\n",
              "    </tr>\n",
              "    <tr>\n",
              "      <th>102323</th>\n",
              "      <td>We now know that quarks and leptons are not what?</td>\n",
              "      <td>def</td>\n",
              "    </tr>\n",
              "    <tr>\n",
              "      <th>102324</th>\n",
              "      <td>What relation explains the carriers of the ele...</td>\n",
              "      <td>desc</td>\n",
              "    </tr>\n",
              "  </tbody>\n",
              "</table>\n",
              "<p>102325 rows × 2 columns</p>\n",
              "</div>"
            ],
            "text/plain": [
              "                                                    texts  labels\n",
              "0                When did Beyonce start becoming popular?    date\n",
              "1       In her music, what are some recurring elements...    desc\n",
              "2                  What town did Beyonce go to school in?    city\n",
              "3       Who decided to place Beyonce's group in Star S...     ind\n",
              "4       Which film featured Destiny's Child's first ma...  cremat\n",
              "...                                                   ...     ...\n",
              "102320  How does Descartes use matter and the formal/f...  manner\n",
              "102321  Both primary and secondary properties are suit...   other\n",
              "102322                    What theory uses spinor fields?     def\n",
              "102323  We now know that quarks and leptons are not what?     def\n",
              "102324  What relation explains the carriers of the ele...    desc\n",
              "\n",
              "[102325 rows x 2 columns]"
            ]
          },
          "metadata": {
            "tags": []
          },
          "execution_count": 203
        }
      ]
    },
    {
      "cell_type": "code",
      "metadata": {
        "id": "w3x1MviIyKQP",
        "colab_type": "code",
        "colab": {}
      },
      "source": [
        "#frames = [train, df_merge[['texts', 'labels']]]\n",
        "frames = [augmetation_squad, train]\n",
        "result = pd.concat(frames)\n",
        "#result = train\n",
        "#result = result.drop_duplicates('texts')"
      ],
      "execution_count": 0,
      "outputs": []
    },
    {
      "cell_type": "code",
      "metadata": {
        "id": "DOkG5MJrydGI",
        "colab_type": "code",
        "colab": {
          "base_uri": "https://localhost:8080/",
          "height": 419
        },
        "outputId": "941b3077-c36a-455c-d683-afb5d3407c10"
      },
      "source": [
        "result"
      ],
      "execution_count": 205,
      "outputs": [
        {
          "output_type": "execute_result",
          "data": {
            "text/html": [
              "<div>\n",
              "<style scoped>\n",
              "    .dataframe tbody tr th:only-of-type {\n",
              "        vertical-align: middle;\n",
              "    }\n",
              "\n",
              "    .dataframe tbody tr th {\n",
              "        vertical-align: top;\n",
              "    }\n",
              "\n",
              "    .dataframe thead th {\n",
              "        text-align: right;\n",
              "    }\n",
              "</style>\n",
              "<table border=\"1\" class=\"dataframe\">\n",
              "  <thead>\n",
              "    <tr style=\"text-align: right;\">\n",
              "      <th></th>\n",
              "      <th>texts</th>\n",
              "      <th>labels</th>\n",
              "    </tr>\n",
              "  </thead>\n",
              "  <tbody>\n",
              "    <tr>\n",
              "      <th>0</th>\n",
              "      <td>When did Beyonce start becoming popular?</td>\n",
              "      <td>date</td>\n",
              "    </tr>\n",
              "    <tr>\n",
              "      <th>1</th>\n",
              "      <td>In her music, what are some recurring elements...</td>\n",
              "      <td>desc</td>\n",
              "    </tr>\n",
              "    <tr>\n",
              "      <th>2</th>\n",
              "      <td>What town did Beyonce go to school in?</td>\n",
              "      <td>city</td>\n",
              "    </tr>\n",
              "    <tr>\n",
              "      <th>3</th>\n",
              "      <td>Who decided to place Beyonce's group in Star S...</td>\n",
              "      <td>ind</td>\n",
              "    </tr>\n",
              "    <tr>\n",
              "      <th>4</th>\n",
              "      <td>Which film featured Destiny's Child's first ma...</td>\n",
              "      <td>cremat</td>\n",
              "    </tr>\n",
              "    <tr>\n",
              "      <th>...</th>\n",
              "      <td>...</td>\n",
              "      <td>...</td>\n",
              "    </tr>\n",
              "    <tr>\n",
              "      <th>4995</th>\n",
              "      <td>How do I contact Answers.com direct ?</td>\n",
              "      <td>manner</td>\n",
              "    </tr>\n",
              "    <tr>\n",
              "      <th>4996</th>\n",
              "      <td>What causes a person to have constantly sweaty...</td>\n",
              "      <td>reason</td>\n",
              "    </tr>\n",
              "    <tr>\n",
              "      <th>4997</th>\n",
              "      <td>What happened to Answers.com ?</td>\n",
              "      <td>desc</td>\n",
              "    </tr>\n",
              "    <tr>\n",
              "      <th>4998</th>\n",
              "      <td>What is the spectrum of a sine wave ?</td>\n",
              "      <td>def</td>\n",
              "    </tr>\n",
              "    <tr>\n",
              "      <th>4999</th>\n",
              "      <td>What ethnic group introduced the idea of potla...</td>\n",
              "      <td>gr</td>\n",
              "    </tr>\n",
              "  </tbody>\n",
              "</table>\n",
              "<p>107325 rows × 2 columns</p>\n",
              "</div>"
            ],
            "text/plain": [
              "                                                  texts  labels\n",
              "0              When did Beyonce start becoming popular?    date\n",
              "1     In her music, what are some recurring elements...    desc\n",
              "2                What town did Beyonce go to school in?    city\n",
              "3     Who decided to place Beyonce's group in Star S...     ind\n",
              "4     Which film featured Destiny's Child's first ma...  cremat\n",
              "...                                                 ...     ...\n",
              "4995              How do I contact Answers.com direct ?  manner\n",
              "4996  What causes a person to have constantly sweaty...  reason\n",
              "4997                     What happened to Answers.com ?    desc\n",
              "4998              What is the spectrum of a sine wave ?     def\n",
              "4999  What ethnic group introduced the idea of potla...      gr\n",
              "\n",
              "[107325 rows x 2 columns]"
            ]
          },
          "metadata": {
            "tags": []
          },
          "execution_count": 205
        }
      ]
    },
    {
      "cell_type": "code",
      "metadata": {
        "id": "x1E5WL9ZkOhy",
        "colab_type": "code",
        "colab": {}
      },
      "source": [
        "#tr = {i:j for j, i in enumerate(train.labels.unique().tolist())}\n",
        "def t(f):\n",
        "  return lbls2indx[f]\n",
        "result['lb'] = result.labels.apply(t)\n",
        "test['lb'] = test.labels.apply(t)                  "
      ],
      "execution_count": 0,
      "outputs": []
    },
    {
      "cell_type": "code",
      "metadata": {
        "id": "fUAMThdk3MKX",
        "colab_type": "code",
        "colab": {}
      },
      "source": [
        "import numpy as np\n",
        "from sklearn.feature_extraction.text import TfidfVectorizer\n",
        "from sklearn import metrics"
      ],
      "execution_count": 0,
      "outputs": []
    },
    {
      "cell_type": "code",
      "metadata": {
        "id": "-4zlOwLR73qp",
        "colab_type": "code",
        "colab": {
          "base_uri": "https://localhost:8080/",
          "height": 34
        },
        "outputId": "f415179d-dd3f-4ecd-e879-6431ca62dd72"
      },
      "source": [
        "tf = TfidfVectorizer(lowercase = False, ngram_range = (1,3), max_df =0.98, min_df = 3)\n",
        "tf_res = tf.fit_transform(result.texts)\n",
        "test_transform = tf.transform(test.texts)\n",
        "tf_res.shape"
      ],
      "execution_count": 208,
      "outputs": [
        {
          "output_type": "execute_result",
          "data": {
            "text/plain": [
              "(107325, 97666)"
            ]
          },
          "metadata": {
            "tags": []
          },
          "execution_count": 208
        }
      ]
    },
    {
      "cell_type": "code",
      "metadata": {
        "id": "5mBxPWeH7J9W",
        "colab_type": "code",
        "colab": {}
      },
      "source": [
        "import numpy as np\n",
        "from sklearn.metrics import classification_report\n",
        "import torch\n",
        "from torch.utils.data import Dataset\n",
        "from torch.utils.data import DataLoader\n",
        "import matplotlib.pyplot as plt\n",
        "from tqdm import tqdm\n",
        "from sklearn.metrics import accuracy_score\n",
        "import time"
      ],
      "execution_count": 0,
      "outputs": []
    },
    {
      "cell_type": "code",
      "metadata": {
        "id": "7sBSRo7CVKe8",
        "colab_type": "code",
        "colab": {}
      },
      "source": [
        "import torch\n",
        "import numpy as np\n",
        "from torchvision import datasets\n",
        "from torchvision import transforms\n",
        "from torch.utils.data.sampler import SubsetRandomSampler\n",
        "\n",
        "class WordData(Dataset):\n",
        "    \n",
        "    def __init__(self, x_data, y_data):\n",
        "        \n",
        "        super().__init__()\n",
        "        \n",
        "        self.x_data = x_data\n",
        "        self.y_data = torch.LongTensor([int(i) for i in y_data])\n",
        "        \n",
        "    \n",
        "    def __len__(self):\n",
        "        \n",
        "        return self.x_data.shape[0]\n",
        "    \n",
        "    def __getitem__(self, idx):\n",
        "        \n",
        "        x = self.x_data[idx].toarray()\n",
        "        x = torch.FloatTensor(x)\n",
        "        y = self.y_data[idx]\n",
        "        \n",
        "        return x, y\n",
        "\n",
        "\n",
        "dataset_train = WordData(tf_res, result.lb)\n",
        "dataset_test = WordData(test_transform, test.lb)\n",
        "\n",
        "batch_size = 256\n",
        "\n",
        "train_loader = torch.utils.data.DataLoader(dataset_train, batch_size=batch_size,  shuffle=True)\n",
        "validation_loader = torch.utils.data.DataLoader(dataset_test, batch_size=batch_size, shuffle=True)"
      ],
      "execution_count": 0,
      "outputs": []
    },
    {
      "cell_type": "code",
      "metadata": {
        "id": "MyoEqQsp7ROB",
        "colab_type": "code",
        "colab": {}
      },
      "source": [
        "from math import sqrt\n",
        "class MLP(torch.nn.Module):\n",
        "    \n",
        "    def __init__(self, in_features, inner_features, inner_features2, out_features):\n",
        "        \n",
        "        # Главная задача этого метода - возможность использования в классе потомке, методов класса-родителя\n",
        "        # Вызываем __init__ родителя - torch.nn.Module\n",
        "        super().__init__()\n",
        "        \n",
        "        # определяем слои и все что захотим сохранять/использовать\n",
        "        self.linear_1 = torch.nn.Linear(in_features=in_features, out_features=inner_features)\n",
        "        gl = sqrt(6./(in_features+inner_features))\n",
        "        self.linear_1.weight.data.uniform_(-gl, gl)\n",
        "        self.non_linear_function = torch.nn.ReLU()\n",
        "        self.drop_out = torch.nn.Dropout(0.18)\n",
        "        self.linear_2 = torch.nn.Linear(in_features=inner_features, out_features=inner_features2)\n",
        "        gl1 = sqrt(6./(inner_features+inner_features2))\n",
        "        self.linear_2.weight.data.uniform_(-gl1, gl1)\n",
        "        self.non_linear_function2 = torch.nn.ReLU()\n",
        "        self.linear_3 = torch.nn.Linear(in_features=inner_features2, out_features=out_features)\n",
        "        gl2 = sqrt(6./(inner_features2+out_features))\n",
        "        self.linear_3.weight.data.uniform_(-gl2, gl2)\n",
        "  \n",
        "    def forward(self, x):\n",
        "        \n",
        "        # наша привычная схема\n",
        "        x = self.linear_1(x)\n",
        "        x = self.non_linear_function(x)\n",
        "        x = self.drop_out(x)\n",
        "        x = self.linear_2(x)\n",
        "        x = self.non_linear_function2(x)\n",
        "        x = self.linear_3(x)\n",
        "        \n",
        "        return x\n",
        "    "
      ],
      "execution_count": 0,
      "outputs": []
    },
    {
      "cell_type": "code",
      "metadata": {
        "id": "J5IQCaab72fT",
        "colab_type": "code",
        "colab": {}
      },
      "source": [
        "model = MLP(in_features=tf_res.shape[1], inner_features=524, inner_features2=256, out_features=len(set(result.lb.unique())))"
      ],
      "execution_count": 0,
      "outputs": []
    },
    {
      "cell_type": "code",
      "metadata": {
        "id": "c-4hYYZO87Rg",
        "colab_type": "code",
        "colab": {}
      },
      "source": [
        "optimizer = torch.optim.Adam(params=model.parameters(), lr=0.0005,  betas=(0.9, 0.999) )\n",
        "# aka loss function\n",
        "criterion = torch.nn.CrossEntropyLoss()"
      ],
      "execution_count": 0,
      "outputs": []
    },
    {
      "cell_type": "code",
      "metadata": {
        "id": "XeQdxbcU9ng8",
        "colab_type": "code",
        "colab": {}
      },
      "source": [
        "device = torch.device('cuda') if torch.cuda.is_available() else torch.device('cpu')\n",
        "model = model.to(device)"
      ],
      "execution_count": 0,
      "outputs": []
    },
    {
      "cell_type": "code",
      "metadata": {
        "id": "F99bT5uS9qNo",
        "colab_type": "code",
        "colab": {
          "base_uri": "https://localhost:8080/",
          "height": 306
        },
        "outputId": "799a264a-0d34-4021-ca13-ff41a37e107a"
      },
      "source": [
        "\n",
        "from sklearn.metrics import f1_score\n",
        "epochs = 35\n",
        "losses = []\n",
        "best_test_loss = 10.\n",
        "\n",
        "test_f1 = []\n",
        "\n",
        "for n_epoch in range(epochs):\n",
        "    \n",
        "    train_losses = []\n",
        "    test_losses = []\n",
        "    test_targets = []\n",
        "    test_pred_class = []\n",
        "    \n",
        "    progress_bar = tqdm(total=len(train_loader.dataset), desc='Epoch {}'.format(n_epoch + 1))\n",
        "    \n",
        "    model.train()\n",
        "    \n",
        "    for x, y in train_loader:\n",
        "        x = x.to(device)\n",
        "        y = y.to(device)\n",
        "\n",
        "        optimizer.zero_grad()\n",
        "\n",
        "        pred = model(x).squeeze(1)\n",
        "        loss = criterion(pred, y)\n",
        "        \n",
        "        loss.backward()\n",
        "        \n",
        "        optimizer.step()\n",
        "        \n",
        "        train_losses.append(loss.item())\n",
        "        losses.append(loss.item())\n",
        "        \n",
        "        progress_bar.set_postfix(train_loss = np.mean(losses[-500:]))\n",
        "\n",
        "        progress_bar.update(x.shape[0])\n",
        "        \n",
        "    progress_bar.close()\n",
        "    \n",
        "    model.eval()\n",
        "    \n",
        "    for x, y in validation_loader:     \n",
        "        \n",
        "        x = x.to(device)\n",
        "        y = y.to(device)\n",
        "       \n",
        "\n",
        "        with torch.no_grad():\n",
        "            pred = model(x).squeeze(1)\n",
        "\n",
        "            pred = pred.cpu()\n",
        "            y = y.cpu()\n",
        "\n",
        "            test_targets.append(y.numpy())\n",
        "            test_pred_class.append(np.argmax(pred, axis=1))\n",
        "\n",
        "            loss = criterion(pred, y)\n",
        "\n",
        "            test_losses.append(loss.item())\n",
        "        \n",
        "    mean_test_loss = np.mean(test_losses)\n",
        "\n",
        "    test_targets = np.concatenate(test_targets).squeeze()\n",
        "    test_pred_class = np.concatenate(test_pred_class).squeeze()\n",
        "\n",
        "    f1 = f1_score(test_targets, test_pred_class, average='micro')\n",
        "\n",
        "    test_f1.append(f1)\n",
        "    \n",
        "    print()\n",
        "    print('Losses: train - {:.7f}, test - {:.7f}'.format(np.mean(train_losses), mean_test_loss))\n",
        "\n",
        "    print('F1 test - {:.4f}'.format(f1))\n",
        "        \n",
        "    # Early stopping:\n",
        "    if mean_test_loss < best_test_loss:\n",
        "        best_test_loss = mean_test_loss\n",
        "    else:\n",
        "        print('Early stopping')\n",
        "        break"
      ],
      "execution_count": 215,
      "outputs": [
        {
          "output_type": "stream",
          "text": [
            "Epoch 1: 100%|██████████| 107325/107325 [01:10<00:00, 1513.79it/s, train_loss=1.23]\n",
            "Epoch 2:   0%|          | 256/107325 [00:00<01:12, 1471.00it/s, train_loss=1.23]"
          ],
          "name": "stderr"
        },
        {
          "output_type": "stream",
          "text": [
            "\n",
            "Losses: train - 1.2342134, test - 1.3833493\n",
            "F1 test - 0.7860\n"
          ],
          "name": "stdout"
        },
        {
          "output_type": "stream",
          "text": [
            "Epoch 2: 100%|██████████| 107325/107325 [01:10<00:00, 1519.64it/s, train_loss=0.241]\n",
            "Epoch 3:   0%|          | 256/107325 [00:00<01:20, 1335.41it/s, train_loss=0.24]"
          ],
          "name": "stderr"
        },
        {
          "output_type": "stream",
          "text": [
            "\n",
            "Losses: train - 0.1935070, test - 1.2284255\n",
            "F1 test - 0.8140\n"
          ],
          "name": "stdout"
        },
        {
          "output_type": "stream",
          "text": [
            "Epoch 3: 100%|██████████| 107325/107325 [01:10<00:00, 1512.34it/s, train_loss=0.0695]\n",
            "Epoch 4:   0%|          | 256/107325 [00:00<01:09, 1534.75it/s, train_loss=0.0692]"
          ],
          "name": "stderr"
        },
        {
          "output_type": "stream",
          "text": [
            "\n",
            "Losses: train - 0.0504430, test - 1.2202048\n",
            "F1 test - 0.8200\n"
          ],
          "name": "stdout"
        },
        {
          "output_type": "stream",
          "text": [
            "Epoch 4: 100%|██████████| 107325/107325 [01:11<00:00, 1507.90it/s, train_loss=0.026]\n"
          ],
          "name": "stderr"
        },
        {
          "output_type": "stream",
          "text": [
            "\n",
            "Losses: train - 0.0209132, test - 1.2357677\n",
            "F1 test - 0.8280\n",
            "Early stopping\n"
          ],
          "name": "stdout"
        }
      ]
    },
    {
      "cell_type": "code",
      "metadata": {
        "id": "CzYm0sUgvtmJ",
        "colab_type": "code",
        "colab": {}
      },
      "source": [
        ""
      ],
      "execution_count": 0,
      "outputs": []
    }
  ]
}