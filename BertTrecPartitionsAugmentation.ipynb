{
  "nbformat": 4,
  "nbformat_minor": 0,
  "metadata": {
    "colab": {
      "name": "BertTrecPartitionsAugmentation.ipynb",
      "provenance": []
    },
    "kernelspec": {
      "name": "python3",
      "display_name": "Python 3"
    },
    "accelerator": "GPU",
    "widgets": {
      "application/vnd.jupyter.widget-state+json": {
        "44262d25b231423f8f47c9c662759b45": {
          "model_module": "@jupyter-widgets/controls",
          "model_name": "HBoxModel",
          "state": {
            "_view_name": "HBoxView",
            "_dom_classes": [],
            "_model_name": "HBoxModel",
            "_view_module": "@jupyter-widgets/controls",
            "_model_module_version": "1.5.0",
            "_view_count": null,
            "_view_module_version": "1.5.0",
            "box_style": "",
            "layout": "IPY_MODEL_6577b5b1ae0543df8a57e016ae920e85",
            "_model_module": "@jupyter-widgets/controls",
            "children": [
              "IPY_MODEL_5cbddd2b4f2a45e68e78251d0f85b9ba",
              "IPY_MODEL_f70d6626669c412284669a9bfcd8a5f3"
            ]
          }
        },
        "6577b5b1ae0543df8a57e016ae920e85": {
          "model_module": "@jupyter-widgets/base",
          "model_name": "LayoutModel",
          "state": {
            "_view_name": "LayoutView",
            "grid_template_rows": null,
            "right": null,
            "justify_content": null,
            "_view_module": "@jupyter-widgets/base",
            "overflow": null,
            "_model_module_version": "1.2.0",
            "_view_count": null,
            "flex_flow": null,
            "width": null,
            "min_width": null,
            "border": null,
            "align_items": null,
            "bottom": null,
            "_model_module": "@jupyter-widgets/base",
            "top": null,
            "grid_column": null,
            "overflow_y": null,
            "overflow_x": null,
            "grid_auto_flow": null,
            "grid_area": null,
            "grid_template_columns": null,
            "flex": null,
            "_model_name": "LayoutModel",
            "justify_items": null,
            "grid_row": null,
            "max_height": null,
            "align_content": null,
            "visibility": null,
            "align_self": null,
            "height": null,
            "min_height": null,
            "padding": null,
            "grid_auto_rows": null,
            "grid_gap": null,
            "max_width": null,
            "order": null,
            "_view_module_version": "1.2.0",
            "grid_template_areas": null,
            "object_position": null,
            "object_fit": null,
            "grid_auto_columns": null,
            "margin": null,
            "display": null,
            "left": null
          }
        },
        "5cbddd2b4f2a45e68e78251d0f85b9ba": {
          "model_module": "@jupyter-widgets/controls",
          "model_name": "IntProgressModel",
          "state": {
            "_view_name": "ProgressView",
            "style": "IPY_MODEL_950d793bd42b4b62a5376d9116151c4f",
            "_dom_classes": [],
            "description": "Downloading: 100%",
            "_model_name": "IntProgressModel",
            "bar_style": "success",
            "max": 213450,
            "_view_module": "@jupyter-widgets/controls",
            "_model_module_version": "1.5.0",
            "value": 213450,
            "_view_count": null,
            "_view_module_version": "1.5.0",
            "orientation": "horizontal",
            "min": 0,
            "description_tooltip": null,
            "_model_module": "@jupyter-widgets/controls",
            "layout": "IPY_MODEL_a7710ec805404f2a9d994985f19a863a"
          }
        },
        "f70d6626669c412284669a9bfcd8a5f3": {
          "model_module": "@jupyter-widgets/controls",
          "model_name": "HTMLModel",
          "state": {
            "_view_name": "HTMLView",
            "style": "IPY_MODEL_ced480266a5c476eb8916d6d3676b438",
            "_dom_classes": [],
            "description": "",
            "_model_name": "HTMLModel",
            "placeholder": "​",
            "_view_module": "@jupyter-widgets/controls",
            "_model_module_version": "1.5.0",
            "value": " 213k/213k [00:00&lt;00:00, 351kB/s]",
            "_view_count": null,
            "_view_module_version": "1.5.0",
            "description_tooltip": null,
            "_model_module": "@jupyter-widgets/controls",
            "layout": "IPY_MODEL_4f77473ead8c42c7a0495461c9993c5a"
          }
        },
        "950d793bd42b4b62a5376d9116151c4f": {
          "model_module": "@jupyter-widgets/controls",
          "model_name": "ProgressStyleModel",
          "state": {
            "_view_name": "StyleView",
            "_model_name": "ProgressStyleModel",
            "description_width": "initial",
            "_view_module": "@jupyter-widgets/base",
            "_model_module_version": "1.5.0",
            "_view_count": null,
            "_view_module_version": "1.2.0",
            "bar_color": null,
            "_model_module": "@jupyter-widgets/controls"
          }
        },
        "a7710ec805404f2a9d994985f19a863a": {
          "model_module": "@jupyter-widgets/base",
          "model_name": "LayoutModel",
          "state": {
            "_view_name": "LayoutView",
            "grid_template_rows": null,
            "right": null,
            "justify_content": null,
            "_view_module": "@jupyter-widgets/base",
            "overflow": null,
            "_model_module_version": "1.2.0",
            "_view_count": null,
            "flex_flow": null,
            "width": null,
            "min_width": null,
            "border": null,
            "align_items": null,
            "bottom": null,
            "_model_module": "@jupyter-widgets/base",
            "top": null,
            "grid_column": null,
            "overflow_y": null,
            "overflow_x": null,
            "grid_auto_flow": null,
            "grid_area": null,
            "grid_template_columns": null,
            "flex": null,
            "_model_name": "LayoutModel",
            "justify_items": null,
            "grid_row": null,
            "max_height": null,
            "align_content": null,
            "visibility": null,
            "align_self": null,
            "height": null,
            "min_height": null,
            "padding": null,
            "grid_auto_rows": null,
            "grid_gap": null,
            "max_width": null,
            "order": null,
            "_view_module_version": "1.2.0",
            "grid_template_areas": null,
            "object_position": null,
            "object_fit": null,
            "grid_auto_columns": null,
            "margin": null,
            "display": null,
            "left": null
          }
        },
        "ced480266a5c476eb8916d6d3676b438": {
          "model_module": "@jupyter-widgets/controls",
          "model_name": "DescriptionStyleModel",
          "state": {
            "_view_name": "StyleView",
            "_model_name": "DescriptionStyleModel",
            "description_width": "",
            "_view_module": "@jupyter-widgets/base",
            "_model_module_version": "1.5.0",
            "_view_count": null,
            "_view_module_version": "1.2.0",
            "_model_module": "@jupyter-widgets/controls"
          }
        },
        "4f77473ead8c42c7a0495461c9993c5a": {
          "model_module": "@jupyter-widgets/base",
          "model_name": "LayoutModel",
          "state": {
            "_view_name": "LayoutView",
            "grid_template_rows": null,
            "right": null,
            "justify_content": null,
            "_view_module": "@jupyter-widgets/base",
            "overflow": null,
            "_model_module_version": "1.2.0",
            "_view_count": null,
            "flex_flow": null,
            "width": null,
            "min_width": null,
            "border": null,
            "align_items": null,
            "bottom": null,
            "_model_module": "@jupyter-widgets/base",
            "top": null,
            "grid_column": null,
            "overflow_y": null,
            "overflow_x": null,
            "grid_auto_flow": null,
            "grid_area": null,
            "grid_template_columns": null,
            "flex": null,
            "_model_name": "LayoutModel",
            "justify_items": null,
            "grid_row": null,
            "max_height": null,
            "align_content": null,
            "visibility": null,
            "align_self": null,
            "height": null,
            "min_height": null,
            "padding": null,
            "grid_auto_rows": null,
            "grid_gap": null,
            "max_width": null,
            "order": null,
            "_view_module_version": "1.2.0",
            "grid_template_areas": null,
            "object_position": null,
            "object_fit": null,
            "grid_auto_columns": null,
            "margin": null,
            "display": null,
            "left": null
          }
        },
        "3c7e46892fbb4311b8f1a3cd42c5cf56": {
          "model_module": "@jupyter-widgets/controls",
          "model_name": "HBoxModel",
          "state": {
            "_view_name": "HBoxView",
            "_dom_classes": [],
            "_model_name": "HBoxModel",
            "_view_module": "@jupyter-widgets/controls",
            "_model_module_version": "1.5.0",
            "_view_count": null,
            "_view_module_version": "1.5.0",
            "box_style": "",
            "layout": "IPY_MODEL_8968b77a38e94fbda60826382ba1931c",
            "_model_module": "@jupyter-widgets/controls",
            "children": [
              "IPY_MODEL_593d1e4a113a4bd4bc71c78cb51aed25",
              "IPY_MODEL_8b15b4917d2a4867b8f9134fbd728c4f"
            ]
          }
        },
        "8968b77a38e94fbda60826382ba1931c": {
          "model_module": "@jupyter-widgets/base",
          "model_name": "LayoutModel",
          "state": {
            "_view_name": "LayoutView",
            "grid_template_rows": null,
            "right": null,
            "justify_content": null,
            "_view_module": "@jupyter-widgets/base",
            "overflow": null,
            "_model_module_version": "1.2.0",
            "_view_count": null,
            "flex_flow": null,
            "width": null,
            "min_width": null,
            "border": null,
            "align_items": null,
            "bottom": null,
            "_model_module": "@jupyter-widgets/base",
            "top": null,
            "grid_column": null,
            "overflow_y": null,
            "overflow_x": null,
            "grid_auto_flow": null,
            "grid_area": null,
            "grid_template_columns": null,
            "flex": null,
            "_model_name": "LayoutModel",
            "justify_items": null,
            "grid_row": null,
            "max_height": null,
            "align_content": null,
            "visibility": null,
            "align_self": null,
            "height": null,
            "min_height": null,
            "padding": null,
            "grid_auto_rows": null,
            "grid_gap": null,
            "max_width": null,
            "order": null,
            "_view_module_version": "1.2.0",
            "grid_template_areas": null,
            "object_position": null,
            "object_fit": null,
            "grid_auto_columns": null,
            "margin": null,
            "display": null,
            "left": null
          }
        },
        "593d1e4a113a4bd4bc71c78cb51aed25": {
          "model_module": "@jupyter-widgets/controls",
          "model_name": "IntProgressModel",
          "state": {
            "_view_name": "ProgressView",
            "style": "IPY_MODEL_05a80e6ab3cb4c69b1305444f2fe8654",
            "_dom_classes": [],
            "description": "Downloading: 100%",
            "_model_name": "IntProgressModel",
            "bar_style": "success",
            "max": 361,
            "_view_module": "@jupyter-widgets/controls",
            "_model_module_version": "1.5.0",
            "value": 361,
            "_view_count": null,
            "_view_module_version": "1.5.0",
            "orientation": "horizontal",
            "min": 0,
            "description_tooltip": null,
            "_model_module": "@jupyter-widgets/controls",
            "layout": "IPY_MODEL_aa0a71c8bc8142f1a25f44a15b7cba0c"
          }
        },
        "8b15b4917d2a4867b8f9134fbd728c4f": {
          "model_module": "@jupyter-widgets/controls",
          "model_name": "HTMLModel",
          "state": {
            "_view_name": "HTMLView",
            "style": "IPY_MODEL_db2cad747cbf4cb2b173f2131d6484f5",
            "_dom_classes": [],
            "description": "",
            "_model_name": "HTMLModel",
            "placeholder": "​",
            "_view_module": "@jupyter-widgets/controls",
            "_model_module_version": "1.5.0",
            "value": " 361/361 [00:40&lt;00:00, 9.01B/s]",
            "_view_count": null,
            "_view_module_version": "1.5.0",
            "description_tooltip": null,
            "_model_module": "@jupyter-widgets/controls",
            "layout": "IPY_MODEL_c5590c46606e4796b10a44fe60eac6bc"
          }
        },
        "05a80e6ab3cb4c69b1305444f2fe8654": {
          "model_module": "@jupyter-widgets/controls",
          "model_name": "ProgressStyleModel",
          "state": {
            "_view_name": "StyleView",
            "_model_name": "ProgressStyleModel",
            "description_width": "initial",
            "_view_module": "@jupyter-widgets/base",
            "_model_module_version": "1.5.0",
            "_view_count": null,
            "_view_module_version": "1.2.0",
            "bar_color": null,
            "_model_module": "@jupyter-widgets/controls"
          }
        },
        "aa0a71c8bc8142f1a25f44a15b7cba0c": {
          "model_module": "@jupyter-widgets/base",
          "model_name": "LayoutModel",
          "state": {
            "_view_name": "LayoutView",
            "grid_template_rows": null,
            "right": null,
            "justify_content": null,
            "_view_module": "@jupyter-widgets/base",
            "overflow": null,
            "_model_module_version": "1.2.0",
            "_view_count": null,
            "flex_flow": null,
            "width": null,
            "min_width": null,
            "border": null,
            "align_items": null,
            "bottom": null,
            "_model_module": "@jupyter-widgets/base",
            "top": null,
            "grid_column": null,
            "overflow_y": null,
            "overflow_x": null,
            "grid_auto_flow": null,
            "grid_area": null,
            "grid_template_columns": null,
            "flex": null,
            "_model_name": "LayoutModel",
            "justify_items": null,
            "grid_row": null,
            "max_height": null,
            "align_content": null,
            "visibility": null,
            "align_self": null,
            "height": null,
            "min_height": null,
            "padding": null,
            "grid_auto_rows": null,
            "grid_gap": null,
            "max_width": null,
            "order": null,
            "_view_module_version": "1.2.0",
            "grid_template_areas": null,
            "object_position": null,
            "object_fit": null,
            "grid_auto_columns": null,
            "margin": null,
            "display": null,
            "left": null
          }
        },
        "db2cad747cbf4cb2b173f2131d6484f5": {
          "model_module": "@jupyter-widgets/controls",
          "model_name": "DescriptionStyleModel",
          "state": {
            "_view_name": "StyleView",
            "_model_name": "DescriptionStyleModel",
            "description_width": "",
            "_view_module": "@jupyter-widgets/base",
            "_model_module_version": "1.5.0",
            "_view_count": null,
            "_view_module_version": "1.2.0",
            "_model_module": "@jupyter-widgets/controls"
          }
        },
        "c5590c46606e4796b10a44fe60eac6bc": {
          "model_module": "@jupyter-widgets/base",
          "model_name": "LayoutModel",
          "state": {
            "_view_name": "LayoutView",
            "grid_template_rows": null,
            "right": null,
            "justify_content": null,
            "_view_module": "@jupyter-widgets/base",
            "overflow": null,
            "_model_module_version": "1.2.0",
            "_view_count": null,
            "flex_flow": null,
            "width": null,
            "min_width": null,
            "border": null,
            "align_items": null,
            "bottom": null,
            "_model_module": "@jupyter-widgets/base",
            "top": null,
            "grid_column": null,
            "overflow_y": null,
            "overflow_x": null,
            "grid_auto_flow": null,
            "grid_area": null,
            "grid_template_columns": null,
            "flex": null,
            "_model_name": "LayoutModel",
            "justify_items": null,
            "grid_row": null,
            "max_height": null,
            "align_content": null,
            "visibility": null,
            "align_self": null,
            "height": null,
            "min_height": null,
            "padding": null,
            "grid_auto_rows": null,
            "grid_gap": null,
            "max_width": null,
            "order": null,
            "_view_module_version": "1.2.0",
            "grid_template_areas": null,
            "object_position": null,
            "object_fit": null,
            "grid_auto_columns": null,
            "margin": null,
            "display": null,
            "left": null
          }
        },
        "59d4a3f828f64a8986b99d32a99022b6": {
          "model_module": "@jupyter-widgets/controls",
          "model_name": "HBoxModel",
          "state": {
            "_view_name": "HBoxView",
            "_dom_classes": [],
            "_model_name": "HBoxModel",
            "_view_module": "@jupyter-widgets/controls",
            "_model_module_version": "1.5.0",
            "_view_count": null,
            "_view_module_version": "1.5.0",
            "box_style": "",
            "layout": "IPY_MODEL_8d987140462c4cf2b8bb2975142c3ad0",
            "_model_module": "@jupyter-widgets/controls",
            "children": [
              "IPY_MODEL_ee86a297d9874f23896b23a1c53ac297",
              "IPY_MODEL_d54e4d45fcf742d3a5a427ce123b5c49"
            ]
          }
        },
        "8d987140462c4cf2b8bb2975142c3ad0": {
          "model_module": "@jupyter-widgets/base",
          "model_name": "LayoutModel",
          "state": {
            "_view_name": "LayoutView",
            "grid_template_rows": null,
            "right": null,
            "justify_content": null,
            "_view_module": "@jupyter-widgets/base",
            "overflow": null,
            "_model_module_version": "1.2.0",
            "_view_count": null,
            "flex_flow": null,
            "width": null,
            "min_width": null,
            "border": null,
            "align_items": null,
            "bottom": null,
            "_model_module": "@jupyter-widgets/base",
            "top": null,
            "grid_column": null,
            "overflow_y": null,
            "overflow_x": null,
            "grid_auto_flow": null,
            "grid_area": null,
            "grid_template_columns": null,
            "flex": null,
            "_model_name": "LayoutModel",
            "justify_items": null,
            "grid_row": null,
            "max_height": null,
            "align_content": null,
            "visibility": null,
            "align_self": null,
            "height": null,
            "min_height": null,
            "padding": null,
            "grid_auto_rows": null,
            "grid_gap": null,
            "max_width": null,
            "order": null,
            "_view_module_version": "1.2.0",
            "grid_template_areas": null,
            "object_position": null,
            "object_fit": null,
            "grid_auto_columns": null,
            "margin": null,
            "display": null,
            "left": null
          }
        },
        "ee86a297d9874f23896b23a1c53ac297": {
          "model_module": "@jupyter-widgets/controls",
          "model_name": "IntProgressModel",
          "state": {
            "_view_name": "ProgressView",
            "style": "IPY_MODEL_25526b9a520b43698f408cc3ab74867c",
            "_dom_classes": [],
            "description": "Downloading: 100%",
            "_model_name": "IntProgressModel",
            "bar_style": "success",
            "max": 435779157,
            "_view_module": "@jupyter-widgets/controls",
            "_model_module_version": "1.5.0",
            "value": 435779157,
            "_view_count": null,
            "_view_module_version": "1.5.0",
            "orientation": "horizontal",
            "min": 0,
            "description_tooltip": null,
            "_model_module": "@jupyter-widgets/controls",
            "layout": "IPY_MODEL_539fbe418898486f94fab50f54956f29"
          }
        },
        "d54e4d45fcf742d3a5a427ce123b5c49": {
          "model_module": "@jupyter-widgets/controls",
          "model_name": "HTMLModel",
          "state": {
            "_view_name": "HTMLView",
            "style": "IPY_MODEL_bbc53fd78d1a4d4197446f3fde37e1a5",
            "_dom_classes": [],
            "description": "",
            "_model_name": "HTMLModel",
            "placeholder": "​",
            "_view_module": "@jupyter-widgets/controls",
            "_model_module_version": "1.5.0",
            "value": " 436M/436M [00:38&lt;00:00, 11.3MB/s]",
            "_view_count": null,
            "_view_module_version": "1.5.0",
            "description_tooltip": null,
            "_model_module": "@jupyter-widgets/controls",
            "layout": "IPY_MODEL_3cf8313752cb49f4911140fe22dc2a3b"
          }
        },
        "25526b9a520b43698f408cc3ab74867c": {
          "model_module": "@jupyter-widgets/controls",
          "model_name": "ProgressStyleModel",
          "state": {
            "_view_name": "StyleView",
            "_model_name": "ProgressStyleModel",
            "description_width": "initial",
            "_view_module": "@jupyter-widgets/base",
            "_model_module_version": "1.5.0",
            "_view_count": null,
            "_view_module_version": "1.2.0",
            "bar_color": null,
            "_model_module": "@jupyter-widgets/controls"
          }
        },
        "539fbe418898486f94fab50f54956f29": {
          "model_module": "@jupyter-widgets/base",
          "model_name": "LayoutModel",
          "state": {
            "_view_name": "LayoutView",
            "grid_template_rows": null,
            "right": null,
            "justify_content": null,
            "_view_module": "@jupyter-widgets/base",
            "overflow": null,
            "_model_module_version": "1.2.0",
            "_view_count": null,
            "flex_flow": null,
            "width": null,
            "min_width": null,
            "border": null,
            "align_items": null,
            "bottom": null,
            "_model_module": "@jupyter-widgets/base",
            "top": null,
            "grid_column": null,
            "overflow_y": null,
            "overflow_x": null,
            "grid_auto_flow": null,
            "grid_area": null,
            "grid_template_columns": null,
            "flex": null,
            "_model_name": "LayoutModel",
            "justify_items": null,
            "grid_row": null,
            "max_height": null,
            "align_content": null,
            "visibility": null,
            "align_self": null,
            "height": null,
            "min_height": null,
            "padding": null,
            "grid_auto_rows": null,
            "grid_gap": null,
            "max_width": null,
            "order": null,
            "_view_module_version": "1.2.0",
            "grid_template_areas": null,
            "object_position": null,
            "object_fit": null,
            "grid_auto_columns": null,
            "margin": null,
            "display": null,
            "left": null
          }
        },
        "bbc53fd78d1a4d4197446f3fde37e1a5": {
          "model_module": "@jupyter-widgets/controls",
          "model_name": "DescriptionStyleModel",
          "state": {
            "_view_name": "StyleView",
            "_model_name": "DescriptionStyleModel",
            "description_width": "",
            "_view_module": "@jupyter-widgets/base",
            "_model_module_version": "1.5.0",
            "_view_count": null,
            "_view_module_version": "1.2.0",
            "_model_module": "@jupyter-widgets/controls"
          }
        },
        "3cf8313752cb49f4911140fe22dc2a3b": {
          "model_module": "@jupyter-widgets/base",
          "model_name": "LayoutModel",
          "state": {
            "_view_name": "LayoutView",
            "grid_template_rows": null,
            "right": null,
            "justify_content": null,
            "_view_module": "@jupyter-widgets/base",
            "overflow": null,
            "_model_module_version": "1.2.0",
            "_view_count": null,
            "flex_flow": null,
            "width": null,
            "min_width": null,
            "border": null,
            "align_items": null,
            "bottom": null,
            "_model_module": "@jupyter-widgets/base",
            "top": null,
            "grid_column": null,
            "overflow_y": null,
            "overflow_x": null,
            "grid_auto_flow": null,
            "grid_area": null,
            "grid_template_columns": null,
            "flex": null,
            "_model_name": "LayoutModel",
            "justify_items": null,
            "grid_row": null,
            "max_height": null,
            "align_content": null,
            "visibility": null,
            "align_self": null,
            "height": null,
            "min_height": null,
            "padding": null,
            "grid_auto_rows": null,
            "grid_gap": null,
            "max_width": null,
            "order": null,
            "_view_module_version": "1.2.0",
            "grid_template_areas": null,
            "object_position": null,
            "object_fit": null,
            "grid_auto_columns": null,
            "margin": null,
            "display": null,
            "left": null
          }
        }
      }
    }
  },
  "cells": [
    {
      "cell_type": "code",
      "metadata": {
        "id": "CT3_EGH8UHpv",
        "colab_type": "code",
        "outputId": "23984c05-5b56-478d-b8e1-9a02ab53bfed",
        "colab": {
          "base_uri": "https://localhost:8080/",
          "height": 139
        }
      },
      "source": [
        "from google.colab import drive\n",
        "drive.mount('/content/drive')\n",
        "%cd drive/'My Drive'/UniversalEmb"
      ],
      "execution_count": 0,
      "outputs": [
        {
          "output_type": "stream",
          "text": [
            "Go to this URL in a browser: https://accounts.google.com/o/oauth2/auth?client_id=947318989803-6bn6qk8qdgf4n4g3pfee6491hc0brc4i.apps.googleusercontent.com&redirect_uri=urn%3aietf%3awg%3aoauth%3a2.0%3aoob&response_type=code&scope=email%20https%3a%2f%2fwww.googleapis.com%2fauth%2fdocs.test%20https%3a%2f%2fwww.googleapis.com%2fauth%2fdrive%20https%3a%2f%2fwww.googleapis.com%2fauth%2fdrive.photos.readonly%20https%3a%2f%2fwww.googleapis.com%2fauth%2fpeopleapi.readonly\n",
            "\n",
            "Enter your authorization code:\n",
            "··········\n",
            "Mounted at /content/drive\n",
            "/content/drive/My Drive/UniversalEmb\n"
          ],
          "name": "stdout"
        }
      ]
    },
    {
      "cell_type": "code",
      "metadata": {
        "id": "1wwigVPRUcML",
        "colab_type": "code",
        "outputId": "d08498d3-b36c-4c53-93f0-980f117e0190",
        "colab": {
          "base_uri": "https://localhost:8080/",
          "height": 34
        }
      },
      "source": [
        "import pandas as pd\n",
        "n_examples = 5000\n",
        "\n",
        "labels = [i.split(' ', 1 )[0].split(':')[1] for i in open('train_5500.label', encoding = 'windows-1252').readlines()][:n_examples]\n",
        "texts = [ i.split(' ', 1 )[1][:-1] for i in open('train_5500.label', encoding = 'windows-1252').readlines()][:n_examples]\n",
        "train  = pd.DataFrame({'texts':texts, 'labels': labels})\n",
        "\n",
        "labels_t = [i.split(' ', 1)[0].split(':')[1] for i in open('TREC_10.label', encoding = 'windows-1252').readlines()]\n",
        "texts_t = [ i.split(' ', 1)[1][:-1] for i in open('TREC_10.label', encoding = 'windows-1252').readlines()]\n",
        "test  = pd.DataFrame({'texts':texts_t, 'labels': labels_t})\n",
        "test.shape"
      ],
      "execution_count": 0,
      "outputs": [
        {
          "output_type": "execute_result",
          "data": {
            "text/plain": [
              "(500, 2)"
            ]
          },
          "metadata": {
            "tags": []
          },
          "execution_count": 2
        }
      ]
    },
    {
      "cell_type": "code",
      "metadata": {
        "id": "X1yKxnpRUoAd",
        "colab_type": "code",
        "outputId": "8a84134e-7219-4137-8cb8-3135ed29b17e",
        "colab": {
          "base_uri": "https://localhost:8080/",
          "height": 337
        }
      },
      "source": [
        "train.groupby('labels').count().plot.bar()"
      ],
      "execution_count": 0,
      "outputs": [
        {
          "output_type": "execute_result",
          "data": {
            "text/plain": [
              "<matplotlib.axes._subplots.AxesSubplot at 0x7f8d9436c128>"
            ]
          },
          "metadata": {
            "tags": []
          },
          "execution_count": 3
        },
        {
          "output_type": "display_data",
          "data": {
            "image/png": "[encoded data removed]",
            "text/plain": [
              "<Figure size 432x288 with 1 Axes>"
            ]
          },
          "metadata": {
            "tags": []
          }
        }
      ]
    },
    {
      "cell_type": "code",
      "metadata": {
        "id": "BUvsJOCUUzE1",
        "colab_type": "code",
        "outputId": "ed225328-3129-482f-e7b8-75fed6a76465",
        "colab": {
          "base_uri": "https://localhost:8080/",
          "height": 337
        }
      },
      "source": [
        "test.groupby('labels').count().plot.bar()"
      ],
      "execution_count": 0,
      "outputs": [
        {
          "output_type": "execute_result",
          "data": {
            "text/plain": [
              "<matplotlib.axes._subplots.AxesSubplot at 0x7f8d93cfc940>"
            ]
          },
          "metadata": {
            "tags": []
          },
          "execution_count": 4
        },
        {
          "output_type": "display_data",
          "data": {
            "image/png": "[encoded data removed]",
            "text/plain": [
              "<Figure size 432x288 with 1 Axes>"
            ]
          },
          "metadata": {
            "tags": []
          }
        }
      ]
    },
    {
      "cell_type": "code",
      "metadata": {
        "id": "MQfBvM17VQ8E",
        "colab_type": "code",
        "outputId": "f04b311b-13d9-4c87-8196-ac8607dedf6b",
        "colab": {
          "base_uri": "https://localhost:8080/",
          "height": 34
        }
      },
      "source": [
        "from scipy import stats\n",
        "import numpy as np\n",
        "#If the K-S statistic is small or the p-value is high, then we cannot reject the hypothesis that the distributions of the two samples are the same.\n",
        "stats.ks_2samp(train.groupby('labels').count().values.flatten(), test.groupby('labels').count().values.flatten())"
      ],
      "execution_count": 0,
      "outputs": [
        {
          "output_type": "execute_result",
          "data": {
            "text/plain": [
              "Ks_2sampResult(statistic=0.6246590289143481, pvalue=2.5059092023660412e-08)"
            ]
          },
          "metadata": {
            "tags": []
          },
          "execution_count": 5
        }
      ]
    },
    {
      "cell_type": "code",
      "metadata": {
        "id": "jpwLdyDTbYch",
        "colab_type": "code",
        "outputId": "10bfb2b2-cf77-4992-f951-f7390b0de276",
        "colab": {
          "base_uri": "https://localhost:8080/",
          "height": 34
        }
      },
      "source": [
        "stats.ks_2samp([i/np.sum(train.groupby('labels').count().values.flatten()) for i in train.groupby('labels').count().values.flatten()],\\\n",
        "               [i/np.sum(test.groupby('labels').count().values.flatten()) for i in test.groupby('labels').count().values.flatten()])"
      ],
      "execution_count": 0,
      "outputs": [
        {
          "output_type": "execute_result",
          "data": {
            "text/plain": [
              "Ks_2sampResult(statistic=0.19094380796508456, pvalue=0.35620707783127203)"
            ]
          },
          "metadata": {
            "tags": []
          },
          "execution_count": 6
        }
      ]
    },
    {
      "cell_type": "code",
      "metadata": {
        "id": "XKbY9Qq4WHEh",
        "colab_type": "code",
        "colab": {}
      },
      "source": [
        "def creat_datasets(n, df):\n",
        "  lbl_distibution = {i[0]:i[1] for i in df.groupby('labels').count().reset_index().values.tolist()}\n",
        "  n_trains = []\n",
        "  for _ in range(n):\n",
        "    sampled_train = []\n",
        "    for lbl in df.labels.unique():\n",
        "      sample = train[train['labels']==lbl].sample(lbl_distibution[lbl]//n+1)\n",
        "      sampled_train.extend(sample.values)\n",
        "    n_trains.append(pd.DataFrame({'texts':[i for i, j in sampled_train],'labels':[j for i, j in sampled_train]}))\n",
        "  return n_trains\n",
        "\n",
        "n_trains = creat_datasets(4, train)"
      ],
      "execution_count": 0,
      "outputs": []
    },
    {
      "cell_type": "code",
      "metadata": {
        "id": "sLIdewb3W2NV",
        "colab_type": "code",
        "outputId": "abee4566-6652-42ab-9cf4-b5666641a0d8",
        "colab": {
          "base_uri": "https://localhost:8080/",
          "height": 85
        }
      },
      "source": [
        "for tr in n_trains:\n",
        "  print(stats.ks_2samp([i/np.sum(train.groupby('labels').count().values.flatten()) for i in train.groupby('labels').count().values.flatten()],\\\n",
        "               [i/np.sum(tr.groupby('labels').count().values.flatten()) for i in tr.groupby('labels').count().values.flatten()]))"
      ],
      "execution_count": 0,
      "outputs": [
        {
          "output_type": "stream",
          "text": [
            "Ks_2sampResult(statistic=0.14893617021276595, pvalue=0.6800174807197423)\n",
            "Ks_2sampResult(statistic=0.14893617021276595, pvalue=0.6800174807197423)\n",
            "Ks_2sampResult(statistic=0.14893617021276595, pvalue=0.6800174807197423)\n",
            "Ks_2sampResult(statistic=0.14893617021276595, pvalue=0.6800174807197423)\n"
          ],
          "name": "stdout"
        }
      ]
    },
    {
      "cell_type": "code",
      "metadata": {
        "id": "zmF57tWea2Vt",
        "colab_type": "code",
        "colab": {}
      },
      "source": [
        "!pip install transformers"
      ],
      "execution_count": 0,
      "outputs": []
    },
    {
      "cell_type": "code",
      "metadata": {
        "id": "2bBdb3pt8LuQ",
        "colab_type": "code",
        "outputId": "fdc14002-87c4-4a78-d3a8-871aba4a28b7",
        "colab": {
          "base_uri": "https://localhost:8080/",
          "height": 34
        }
      },
      "source": [
        "from keras.preprocessing.sequence import pad_sequences\n",
        "from tqdm import tqdm\n",
        "import torch\n",
        "\n",
        "def prep_data(sentences, MAX_LEN = 64):\n",
        "  tokenizer = BertTokenizer.from_pretrained('bert-base-cased')\n",
        "  input_ids = []\n",
        "  for sent in tqdm(sentences):\n",
        "      encoded_sent = tokenizer.encode(sent, add_special_tokens = True)\n",
        "      input_ids.append(encoded_sent[:MAX_LEN])\n",
        "  input_ids = pad_sequences(input_ids, maxlen=MAX_LEN, dtype=\"long\", value=0, truncating=\"post\", padding=\"post\")\n",
        "  attention_masks = []\n",
        "  for sent in input_ids:\n",
        "      att_mask = [int(token_id > 0) for token_id in sent]\n",
        "      attention_masks.append(att_mask)\n",
        "  return input_ids, attention_masks"
      ],
      "execution_count": 0,
      "outputs": [
        {
          "output_type": "stream",
          "text": [
            "Using TensorFlow backend.\n"
          ],
          "name": "stderr"
        }
      ]
    },
    {
      "cell_type": "code",
      "metadata": {
        "id": "GEgLpFVlo1Z-",
        "colab_type": "code",
        "colab": {}
      },
      "source": [
        "from torch.utils.data import TensorDataset, DataLoader, RandomSampler, SequentialSampler\n",
        "from transformers import BertForSequenceClassification, AdamW, BertConfig, BertTokenizer\n",
        "from transformers import get_linear_schedule_with_warmup\n",
        "import time\n",
        "import datetime\n",
        "import random\n",
        "from sklearn.metrics import f1_score"
      ],
      "execution_count": 0,
      "outputs": []
    },
    {
      "cell_type": "code",
      "metadata": {
        "id": "gpt6tR83keZD",
        "colab_type": "code",
        "colab": {}
      },
      "source": [
        "def format_time(elapsed):\n",
        "    '''\n",
        "    Takes a time in seconds and returns a string hh:mm:ss\n",
        "    '''\n",
        "    # Round to the nearest second.\n",
        "    elapsed_rounded = int(round((elapsed)))\n",
        "    return str(datetime.timedelta(seconds=elapsed_rounded))"
      ],
      "execution_count": 0,
      "outputs": []
    },
    {
      "cell_type": "code",
      "metadata": {
        "id": "H9GQT4sVdcXR",
        "colab_type": "code",
        "colab": {}
      },
      "source": [
        "def train_bert(train, test):\n",
        "  batch_size = 16\n",
        "  tr = {lbl:indx for indx, lbl in enumerate(train.labels.unique())}\n",
        "  def lbl2indx(x):\n",
        "    return tr[x]\n",
        "  train['lb'] = train.labels.apply(lbl2indx)\n",
        "  test['lb'] = test.labels.apply(lbl2indx)\n",
        "\n",
        "  train_input_ids, train_attention_masks = prep_data(train.texts.values.tolist())\n",
        "  test_input_ids, test_attention_masks = prep_data(test.texts.values.tolist())\n",
        "\n",
        "  train_inputs = torch.tensor(train_input_ids)\n",
        "  validation_inputs = torch.tensor(test_input_ids)\n",
        "\n",
        "  train_labels = torch.tensor(train.lb.values.tolist())\n",
        "  validation_labels = torch.tensor(test.lb.values.tolist())\n",
        "\n",
        "  train_masks = torch.tensor(train_attention_masks)\n",
        "  validation_masks = torch.tensor(test_attention_masks)\n",
        "  \n",
        "  train_data = TensorDataset(train_inputs, train_masks, train_labels)\n",
        "  train_sampler = RandomSampler(train_data)\n",
        "  train_dataloader = DataLoader(train_data, sampler=train_sampler, batch_size=batch_size)\n",
        "\n",
        "  validation_data = TensorDataset(validation_inputs, validation_masks, validation_labels)\n",
        "  validation_sampler = SequentialSampler(validation_data)\n",
        "  validation_dataloader = DataLoader(validation_data, sampler=validation_sampler, batch_size=batch_size)\n",
        "\n",
        "  model = BertForSequenceClassification.from_pretrained(\"bert-base-cased\", num_labels = len(list(tr.values())), output_attentions = False, output_hidden_states = True)\n",
        "  model = model.cuda()\n",
        "  optimizer = AdamW(model.parameters(),\n",
        "                  lr = 2e-5, # args.learning_rate - default is 5e-5, our notebook had 2e-5\n",
        "                  eps = 1e-8 )\n",
        "  epochs = 5\n",
        "  total_steps = len(train_dataloader) * epochs\n",
        "  scheduler = get_linear_schedule_with_warmup(optimizer, \n",
        "                                              num_warmup_steps = 50, # Default value in run_glue.py\n",
        "                                              num_training_steps = total_steps)\n",
        "  device = 'cuda'\n",
        "  seed_val = 42\n",
        "\n",
        "  random.seed(seed_val)\n",
        "  np.random.seed(seed_val)\n",
        "  torch.manual_seed(seed_val)\n",
        "  torch.cuda.manual_seed_all(seed_val)\n",
        "  loss_values = []\n",
        "\n",
        "  for epoch_i in range(0, epochs):\n",
        "      embeddings = []\n",
        "\n",
        "      print(\"\")\n",
        "      print('======== Epoch {:} / {:} ========'.format(epoch_i + 1, epochs))\n",
        "      print('Training...')\n",
        "      t0 = time.time()\n",
        "      total_loss = 0\n",
        "      model.train()\n",
        "\n",
        "      for step, batch in enumerate(train_dataloader):\n",
        "          if step % 40 == 0 and not step == 0:\n",
        "              elapsed = format_time(time.time() - t0)\n",
        "              print('  Batch {:>5,}  of  {:>5,}.    Elapsed: {:}.'.format(step, len(train_dataloader), elapsed))\n",
        "          b_input_ids = batch[0].to(device)\n",
        "          b_input_mask = batch[1].to(device)\n",
        "          b_labels = batch[2].to(device)\n",
        "          model.zero_grad()        \n",
        "\n",
        "          outputs = model(b_input_ids, \n",
        "                      token_type_ids=None, \n",
        "                      attention_mask=b_input_mask, \n",
        "                      labels=b_labels)\n",
        "          \n",
        "          loss  = outputs[0]\n",
        "          embeddings.append(outputs[2][-1][:,0,:])\n",
        "          total_loss += loss.item()\n",
        "          loss.backward()\n",
        "          torch.nn.utils.clip_grad_norm_(model.parameters(), 1.0)\n",
        "\n",
        "          optimizer.step()\n",
        "          scheduler.step()\n",
        "\n",
        "      avg_train_loss = total_loss / len(train_dataloader)            \n",
        "      loss_values.append(avg_train_loss)\n",
        "\n",
        "      print(\"\")\n",
        "      print(\"  Average training loss: {0:.2f}\".format(avg_train_loss))\n",
        "      print(\"  Training epcoh took: {:}\".format(format_time(time.time() - t0)))\n",
        "          \n",
        "      print(\"\")\n",
        "      print(\"Running Validation...\")\n",
        "\n",
        "      t0 = time.time()\n",
        "      test_targets, test_pred_class = [], []\n",
        "\n",
        "      model.eval()\n",
        "\n",
        "      eval_loss, eval_accuracy = 0, 0\n",
        "      nb_eval_steps, nb_eval_examples = 0, 0\n",
        "\n",
        "      for batch in validation_dataloader:\n",
        "          \n",
        "          batch = tuple(t.to(device) for t in batch)\n",
        "          \n",
        "          b_input_ids, b_input_mask, b_labels = batch\n",
        "          with torch.no_grad():        \n",
        "              outputs = model(b_input_ids, \n",
        "                              token_type_ids=None, \n",
        "                              attention_mask=b_input_mask)\n",
        "          logits = outputs[0]\n",
        "\n",
        "          # Move logits and labels to CPU\n",
        "          logits = logits.detach().cpu().numpy()\n",
        "          label_ids = b_labels.to('cpu').numpy()\n",
        "          test_targets.append(label_ids)\n",
        "          test_pred_class.append(np.argmax(logits, axis=1))\n",
        "          \n",
        "          # Calculate the accuracy for this batch of test sentences.          \n",
        "          # Accumulate the total accuracy.\n",
        "\n",
        "          nb_eval_steps += 1\n",
        "      test_targets = np.concatenate(test_targets).squeeze()\n",
        "      test_pred_class = np.concatenate(test_pred_class).squeeze()\n",
        "\n",
        "      f1 = f1_score(test_targets, test_pred_class, average='micro')\n",
        "\n",
        "      # Report the final accuracy for this validation run.\n",
        "      print(\"  F1: {0:.4f}\".format(f1))\n",
        "      print(\"  Validation took: {:}\".format(format_time(time.time() - t0)))\n",
        "\n",
        "  print(\"\")\n",
        "  print(\"Training complete!\")\n",
        "  return model"
      ],
      "execution_count": 0,
      "outputs": []
    },
    {
      "cell_type": "code",
      "metadata": {
        "id": "WjUZg1szfys5",
        "colab_type": "code",
        "outputId": "946c333f-252c-481d-cae9-69ea02a353cb",
        "colab": {
          "base_uri": "https://localhost:8080/",
          "height": 1000,
          "referenced_widgets": [
            "44262d25b231423f8f47c9c662759b45",
            "6577b5b1ae0543df8a57e016ae920e85",
            "5cbddd2b4f2a45e68e78251d0f85b9ba",
            "f70d6626669c412284669a9bfcd8a5f3",
            "950d793bd42b4b62a5376d9116151c4f",
            "a7710ec805404f2a9d994985f19a863a",
            "ced480266a5c476eb8916d6d3676b438",
            "4f77473ead8c42c7a0495461c9993c5a",
            "3c7e46892fbb4311b8f1a3cd42c5cf56",
            "8968b77a38e94fbda60826382ba1931c",
            "593d1e4a113a4bd4bc71c78cb51aed25",
            "8b15b4917d2a4867b8f9134fbd728c4f",
            "05a80e6ab3cb4c69b1305444f2fe8654",
            "aa0a71c8bc8142f1a25f44a15b7cba0c",
            "db2cad747cbf4cb2b173f2131d6484f5",
            "c5590c46606e4796b10a44fe60eac6bc",
            "59d4a3f828f64a8986b99d32a99022b6",
            "8d987140462c4cf2b8bb2975142c3ad0",
            "ee86a297d9874f23896b23a1c53ac297",
            "d54e4d45fcf742d3a5a427ce123b5c49",
            "25526b9a520b43698f408cc3ab74867c",
            "539fbe418898486f94fab50f54956f29",
            "bbc53fd78d1a4d4197446f3fde37e1a5",
            "3cf8313752cb49f4911140fe22dc2a3b"
          ]
        }
      },
      "source": [
        "bert_models=[]\n",
        "for ind,tr_part in enumerate(n_trains):\n",
        "  print('Start fitting bert #{}'.format(ind+1))\n",
        "  bert_models.append(train_bert(tr_part,test))\n"
      ],
      "execution_count": 0,
      "outputs": [
        {
          "output_type": "stream",
          "text": [
            "Start fitting bert #1\n"
          ],
          "name": "stdout"
        },
        {
          "output_type": "display_data",
          "data": {
            "application/vnd.jupyter.widget-view+json": {
              "model_id": "44262d25b231423f8f47c9c662759b45",
              "version_minor": 0,
              "version_major": 2
            },
            "text/plain": [
              "HBox(children=(IntProgress(value=0, description='Downloading', max=213450, style=ProgressStyle(description_wid…"
            ]
          },
          "metadata": {
            "tags": []
          }
        },
        {
          "output_type": "stream",
          "text": [
            " 46%|████▌     | 585/1281 [00:00<00:00, 5843.11it/s]"
          ],
          "name": "stderr"
        },
        {
          "output_type": "stream",
          "text": [
            "\n"
          ],
          "name": "stdout"
        },
        {
          "output_type": "stream",
          "text": [
            "100%|██████████| 1281/1281 [00:00<00:00, 5858.97it/s]\n",
            "100%|██████████| 500/500 [00:00<00:00, 7504.87it/s]\n"
          ],
          "name": "stderr"
        },
        {
          "output_type": "display_data",
          "data": {
            "application/vnd.jupyter.widget-view+json": {
              "model_id": "3c7e46892fbb4311b8f1a3cd42c5cf56",
              "version_minor": 0,
              "version_major": 2
            },
            "text/plain": [
              "HBox(children=(IntProgress(value=0, description='Downloading', max=361, style=ProgressStyle(description_width=…"
            ]
          },
          "metadata": {
            "tags": []
          }
        },
        {
          "output_type": "stream",
          "text": [
            "\n"
          ],
          "name": "stdout"
        },
        {
          "output_type": "display_data",
          "data": {
            "application/vnd.jupyter.widget-view+json": {
              "model_id": "59d4a3f828f64a8986b99d32a99022b6",
              "version_minor": 0,
              "version_major": 2
            },
            "text/plain": [
              "HBox(children=(IntProgress(value=0, description='Downloading', max=435779157, style=ProgressStyle(description_…"
            ]
          },
          "metadata": {
            "tags": []
          }
        },
        {
          "output_type": "stream",
          "text": [
            "\n",
            "\n",
            "======== Epoch 1 / 5 ========\n",
            "Training...\n",
            "  Batch    40  of     81.    Elapsed: 0:00:06.\n",
            "  Batch    80  of     81.    Elapsed: 0:00:11.\n",
            "\n",
            "  Average training loss: 3.56\n",
            "  Training epcoh took: 0:00:11\n",
            "\n",
            "Running Validation...\n",
            "  F1: 0.4680\n",
            "  Validation took: 0:00:01\n",
            "\n",
            "======== Epoch 2 / 5 ========\n",
            "Training...\n",
            "  Batch    40  of     81.    Elapsed: 0:00:05.\n",
            "  Batch    80  of     81.    Elapsed: 0:00:10.\n",
            "\n",
            "  Average training loss: 2.55\n",
            "  Training epcoh took: 0:00:11\n",
            "\n",
            "Running Validation...\n",
            "  F1: 0.6040\n",
            "  Validation took: 0:00:01\n",
            "\n",
            "======== Epoch 3 / 5 ========\n",
            "Training...\n",
            "  Batch    40  of     81.    Elapsed: 0:00:05.\n",
            "  Batch    80  of     81.    Elapsed: 0:00:10.\n",
            "\n",
            "  Average training loss: 1.98\n",
            "  Training epcoh took: 0:00:11\n",
            "\n",
            "Running Validation...\n",
            "  F1: 0.6600\n",
            "  Validation took: 0:00:01\n",
            "\n",
            "======== Epoch 4 / 5 ========\n",
            "Training...\n",
            "  Batch    40  of     81.    Elapsed: 0:00:05.\n",
            "  Batch    80  of     81.    Elapsed: 0:00:10.\n",
            "\n",
            "  Average training loss: 1.67\n",
            "  Training epcoh took: 0:00:11\n",
            "\n",
            "Running Validation...\n",
            "  F1: 0.6740\n",
            "  Validation took: 0:00:01\n",
            "\n",
            "======== Epoch 5 / 5 ========\n",
            "Training...\n",
            "  Batch    40  of     81.    Elapsed: 0:00:05.\n",
            "  Batch    80  of     81.    Elapsed: 0:00:10.\n",
            "\n",
            "  Average training loss: 1.51\n",
            "  Training epcoh took: 0:00:11\n",
            "\n",
            "Running Validation...\n",
            "  F1: 0.6940\n",
            "  Validation took: 0:00:01\n",
            "\n",
            "Training complete!\n",
            "Start fitting bert #2\n"
          ],
          "name": "stdout"
        },
        {
          "output_type": "stream",
          "text": [
            "100%|██████████| 1281/1281 [00:00<00:00, 5893.89it/s]\n",
            "100%|██████████| 500/500 [00:00<00:00, 7458.58it/s]\n"
          ],
          "name": "stderr"
        },
        {
          "output_type": "stream",
          "text": [
            "\n",
            "======== Epoch 1 / 5 ========\n",
            "Training...\n",
            "  Batch    40  of     81.    Elapsed: 0:00:05.\n",
            "  Batch    80  of     81.    Elapsed: 0:00:11.\n",
            "\n",
            "  Average training loss: 3.50\n",
            "  Training epcoh took: 0:00:11\n",
            "\n",
            "Running Validation...\n",
            "  F1: 0.4600\n",
            "  Validation took: 0:00:01\n",
            "\n",
            "======== Epoch 2 / 5 ========\n",
            "Training...\n",
            "  Batch    40  of     81.    Elapsed: 0:00:05.\n",
            "  Batch    80  of     81.    Elapsed: 0:00:11.\n",
            "\n",
            "  Average training loss: 2.47\n",
            "  Training epcoh took: 0:00:11\n",
            "\n",
            "Running Validation...\n",
            "  F1: 0.6300\n",
            "  Validation took: 0:00:01\n",
            "\n",
            "======== Epoch 3 / 5 ========\n",
            "Training...\n",
            "  Batch    40  of     81.    Elapsed: 0:00:05.\n",
            "  Batch    80  of     81.    Elapsed: 0:00:11.\n",
            "\n",
            "  Average training loss: 1.82\n",
            "  Training epcoh took: 0:00:11\n",
            "\n",
            "Running Validation...\n",
            "  F1: 0.6540\n",
            "  Validation took: 0:00:01\n",
            "\n",
            "======== Epoch 4 / 5 ========\n",
            "Training...\n",
            "  Batch    40  of     81.    Elapsed: 0:00:05.\n",
            "  Batch    80  of     81.    Elapsed: 0:00:11.\n",
            "\n",
            "  Average training loss: 1.49\n",
            "  Training epcoh took: 0:00:11\n",
            "\n",
            "Running Validation...\n",
            "  F1: 0.7060\n",
            "  Validation took: 0:00:01\n",
            "\n",
            "======== Epoch 5 / 5 ========\n",
            "Training...\n",
            "  Batch    40  of     81.    Elapsed: 0:00:05.\n",
            "  Batch    80  of     81.    Elapsed: 0:00:11.\n",
            "\n",
            "  Average training loss: 1.32\n",
            "  Training epcoh took: 0:00:11\n",
            "\n",
            "Running Validation...\n",
            "  F1: 0.7100\n",
            "  Validation took: 0:00:01\n",
            "\n",
            "Training complete!\n",
            "Start fitting bert #3\n"
          ],
          "name": "stdout"
        },
        {
          "output_type": "stream",
          "text": [
            "100%|██████████| 1281/1281 [00:00<00:00, 5615.05it/s]\n",
            "100%|██████████| 500/500 [00:00<00:00, 7165.46it/s]\n"
          ],
          "name": "stderr"
        },
        {
          "output_type": "stream",
          "text": [
            "\n",
            "======== Epoch 1 / 5 ========\n",
            "Training...\n",
            "  Batch    40  of     81.    Elapsed: 0:00:05.\n",
            "  Batch    80  of     81.    Elapsed: 0:00:11.\n",
            "\n",
            "  Average training loss: 3.51\n",
            "  Training epcoh took: 0:00:11\n",
            "\n",
            "Running Validation...\n",
            "  F1: 0.4800\n",
            "  Validation took: 0:00:01\n",
            "\n",
            "======== Epoch 2 / 5 ========\n",
            "Training...\n",
            "  Batch    40  of     81.    Elapsed: 0:00:05.\n",
            "  Batch    80  of     81.    Elapsed: 0:00:10.\n",
            "\n",
            "  Average training loss: 2.43\n",
            "  Training epcoh took: 0:00:11\n",
            "\n",
            "Running Validation...\n",
            "  F1: 0.6240\n",
            "  Validation took: 0:00:01\n",
            "\n",
            "======== Epoch 3 / 5 ========\n",
            "Training...\n",
            "  Batch    40  of     81.    Elapsed: 0:00:05.\n",
            "  Batch    80  of     81.    Elapsed: 0:00:11.\n",
            "\n",
            "  Average training loss: 1.79\n",
            "  Training epcoh took: 0:00:11\n",
            "\n",
            "Running Validation...\n",
            "  F1: 0.6560\n",
            "  Validation took: 0:00:01\n",
            "\n",
            "======== Epoch 4 / 5 ========\n",
            "Training...\n",
            "  Batch    40  of     81.    Elapsed: 0:00:05.\n",
            "  Batch    80  of     81.    Elapsed: 0:00:10.\n",
            "\n",
            "  Average training loss: 1.44\n",
            "  Training epcoh took: 0:00:11\n",
            "\n",
            "Running Validation...\n",
            "  F1: 0.7040\n",
            "  Validation took: 0:00:01\n",
            "\n",
            "======== Epoch 5 / 5 ========\n",
            "Training...\n",
            "  Batch    40  of     81.    Elapsed: 0:00:05.\n",
            "  Batch    80  of     81.    Elapsed: 0:00:10.\n",
            "\n",
            "  Average training loss: 1.27\n",
            "  Training epcoh took: 0:00:11\n",
            "\n",
            "Running Validation...\n",
            "  F1: 0.7060\n",
            "  Validation took: 0:00:01\n",
            "\n",
            "Training complete!\n",
            "Start fitting bert #4\n"
          ],
          "name": "stdout"
        },
        {
          "output_type": "stream",
          "text": [
            "100%|██████████| 1281/1281 [00:00<00:00, 6090.97it/s]\n",
            "100%|██████████| 500/500 [00:00<00:00, 7897.63it/s]\n"
          ],
          "name": "stderr"
        },
        {
          "output_type": "stream",
          "text": [
            "\n",
            "======== Epoch 1 / 5 ========\n",
            "Training...\n",
            "  Batch    40  of     81.    Elapsed: 0:00:05.\n",
            "  Batch    80  of     81.    Elapsed: 0:00:11.\n",
            "\n",
            "  Average training loss: 3.51\n",
            "  Training epcoh took: 0:00:11\n",
            "\n",
            "Running Validation...\n",
            "  F1: 0.4600\n",
            "  Validation took: 0:00:01\n",
            "\n",
            "======== Epoch 2 / 5 ========\n",
            "Training...\n",
            "  Batch    40  of     81.    Elapsed: 0:00:05.\n",
            "  Batch    80  of     81.    Elapsed: 0:00:10.\n",
            "\n",
            "  Average training loss: 2.44\n",
            "  Training epcoh took: 0:00:11\n",
            "\n",
            "Running Validation...\n",
            "  F1: 0.6220\n",
            "  Validation took: 0:00:01\n",
            "\n",
            "======== Epoch 3 / 5 ========\n",
            "Training...\n",
            "  Batch    40  of     81.    Elapsed: 0:00:05.\n",
            "  Batch    80  of     81.    Elapsed: 0:00:11.\n",
            "\n",
            "  Average training loss: 1.76\n",
            "  Training epcoh took: 0:00:11\n",
            "\n",
            "Running Validation...\n",
            "  F1: 0.6500\n",
            "  Validation took: 0:00:01\n",
            "\n",
            "======== Epoch 4 / 5 ========\n",
            "Training...\n",
            "  Batch    40  of     81.    Elapsed: 0:00:05.\n",
            "  Batch    80  of     81.    Elapsed: 0:00:11.\n",
            "\n",
            "  Average training loss: 1.41\n",
            "  Training epcoh took: 0:00:11\n",
            "\n",
            "Running Validation...\n",
            "  F1: 0.6940\n",
            "  Validation took: 0:00:01\n",
            "\n",
            "======== Epoch 5 / 5 ========\n",
            "Training...\n",
            "  Batch    40  of     81.    Elapsed: 0:00:05.\n",
            "  Batch    80  of     81.    Elapsed: 0:00:11.\n",
            "\n",
            "  Average training loss: 1.25\n",
            "  Training epcoh took: 0:00:11\n",
            "\n",
            "Running Validation...\n",
            "  F1: 0.7020\n",
            "  Validation took: 0:00:01\n",
            "\n",
            "Training complete!\n"
          ],
          "name": "stdout"
        }
      ]
    },
    {
      "cell_type": "code",
      "metadata": {
        "id": "O4IpFsXKhMe7",
        "colab_type": "code",
        "colab": {}
      },
      "source": [
        "for instance in list(tqdm._instances):\n",
        "    tqdm._decr_instances(instance)"
      ],
      "execution_count": 0,
      "outputs": []
    },
    {
      "cell_type": "code",
      "metadata": {
        "id": "lxnbJSb_h5s7",
        "colab_type": "code",
        "outputId": "cb9922b8-ec19-4dff-9b8b-6e9eed2f0a3b",
        "colab": {
          "base_uri": "https://localhost:8080/",
          "height": 34
        }
      },
      "source": [
        "len(bert_models)"
      ],
      "execution_count": 0,
      "outputs": [
        {
          "output_type": "execute_result",
          "data": {
            "text/plain": [
              "4"
            ]
          },
          "metadata": {
            "tags": []
          },
          "execution_count": 16
        }
      ]
    },
    {
      "cell_type": "code",
      "metadata": {
        "id": "05Ff0KGZkRR9",
        "colab_type": "code",
        "colab": {}
      },
      "source": [
        "def bert_proba(boundary, bert_model, sentences):\n",
        "  batch_size = 64\n",
        "\n",
        "  train_input_ids, train_attention_masks = prep_data(sentences)\n",
        "\n",
        "  train_inputs = torch.tensor(train_input_ids)\n",
        "  train_labels = torch.tensor([0]*len(sentences))\n",
        "  train_masks = torch.tensor(train_attention_masks)\n",
        "  \n",
        "  train_data = TensorDataset(train_inputs, train_masks, train_labels)\n",
        "  train_dataloader = DataLoader(train_data, shuffle=False, batch_size=batch_size)\n",
        "\n",
        "  model.eval()\n",
        "  augmentations = []\n",
        "  for batch in train_dataloader:\n",
        "      \n",
        "      batch = tuple(t.to(device) for t in batch)\n",
        "      \n",
        "      b_input_ids, b_input_mask, b_labels = batch\n",
        "      with torch.no_grad():        \n",
        "          outputs = model(b_input_ids, \n",
        "                          token_type_ids=None, \n",
        "                          attention_mask=b_input_mask)\n",
        "      logits = outputs[0]\n",
        "      probs = nn.Softmax(dim=-1)(logits)\n",
        "\n",
        "      probs = probs.detach().cpu().numpy()\n",
        "      samples = []\n",
        "      for indx, i in enumerate(preds.tolist()):\n",
        "        if any(boundary<y for y in i):\n",
        "          samples.append((indx, i.index(max(i))))\n",
        "      augmentations.append(samples)\n",
        "   \n",
        "  aug_samples_indx = []\n",
        "  for ind, i in enumerate(augmentations):\n",
        "    if ind==0:\n",
        "      aug_samples_indx.extend([(j,k) for j,k in i])\n",
        "    else:\n",
        "      aug_samples_indx.extend([((bs*ind)+1+j, k) for j,k in i])\n",
        "  print()\n",
        "  print(len(aug_samples_indx))\n",
        "  return aug_samples_indx\n",
        "\n",
        "\n"
      ],
      "execution_count": 0,
      "outputs": []
    },
    {
      "cell_type": "code",
      "metadata": {
        "id": "Gcibhyzwn6za",
        "colab_type": "code",
        "colab": {}
      },
      "source": [
        ""
      ],
      "execution_count": 0,
      "outputs": []
    }
  ]
}