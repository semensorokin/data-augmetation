{
  "nbformat": 4,
  "nbformat_minor": 0,
  "metadata": {
    "colab": {
      "name": "Aug_BaseModelForScoring.ipynb",
      "provenance": []
    },
    "kernelspec": {
      "name": "python3",
      "display_name": "Python 3"
    },
    "accelerator": "GPU"
  },
  "cells": [
    {
      "cell_type": "code",
      "metadata": {
        "id": "nzg3AIxtLFGr",
        "colab_type": "code",
        "outputId": "89b640d5-0c4e-41e7-a0a5-6e3ae6d99093",
        "colab": {
          "base_uri": "https://localhost:8080/",
          "height": 141
        }
      },
      "source": [
        "from google.colab import drive\n",
        "drive.mount('/content/drive')\n",
        "%cd drive/'My Drive'/UniversalEmb"
      ],
      "execution_count": 0,
      "outputs": [
        {
          "output_type": "stream",
          "text": [
            "Go to this URL in a browser: https://accounts.google.com/o/oauth2/auth?client_id=947318989803-6bn6qk8qdgf4n4g3pfee6491hc0brc4i.apps.googleusercontent.com&redirect_uri=urn%3aietf%3awg%3aoauth%3a2.0%3aoob&response_type=code&scope=email%20https%3a%2f%2fwww.googleapis.com%2fauth%2fdocs.test%20https%3a%2f%2fwww.googleapis.com%2fauth%2fdrive%20https%3a%2f%2fwww.googleapis.com%2fauth%2fdrive.photos.readonly%20https%3a%2f%2fwww.googleapis.com%2fauth%2fpeopleapi.readonly\n",
            "\n",
            "Enter your authorization code:\n",
            "··········\n",
            "Mounted at /content/drive\n",
            "/content/drive/My Drive/UniversalEmb\n"
          ],
          "name": "stdout"
        }
      ]
    },
    {
      "cell_type": "code",
      "metadata": {
        "id": "fUAMThdk3MKX",
        "colab_type": "code",
        "colab": {}
      },
      "source": [
        "import numpy as np\n",
        "from sklearn.feature_extraction.text import TfidfVectorizer\n",
        "from sklearn import metrics\n",
        "from sklearn.metrics import f1_score\n",
        "from sklearn.metrics import classification_report\n",
        "import torch\n",
        "from torch.utils.data import Dataset\n",
        "from torch.utils.data import DataLoader\n",
        "import matplotlib.pyplot as plt\n",
        "from tqdm import tqdm\n",
        "from sklearn.metrics import accuracy_score\n",
        "import time\n",
        "import torch\n",
        "from math import sqrt \n",
        "from torchvision import datasets\n",
        "from torchvision import transforms \n",
        "\n",
        "from torch.utils.data.sampler import SubsetRandomSampler"
      ],
      "execution_count": 0,
      "outputs": []
    },
    {
      "cell_type": "code",
      "metadata": {
        "id": "-4zlOwLR73qp",
        "colab_type": "code",
        "colab": {}
      },
      "source": [
        "def train_base_MLP(train, test):\n",
        "  tf = TfidfVectorizer(lowercase = False, ngram_range = (1,3), max_df=0.98, min_df=3)\n",
        "  tf_res = tf.fit_transform(train.text)\n",
        "  test_transform = tf.transform(test.text)\n",
        "  tf_res.shape\n",
        "  class WordData(Dataset):\n",
        "      \n",
        "      def __init__(self, x_data, y_data):\n",
        "          \n",
        "          super().__init__()\n",
        "          \n",
        "          self.x_data = x_data\n",
        "          self.y_data = torch.LongTensor([int(i) for i in y_data])\n",
        "          \n",
        "      \n",
        "      def __len__(self):\n",
        "          \n",
        "          return self.x_data.shape[0]\n",
        "      \n",
        "      def __getitem__(self, idx):\n",
        "          \n",
        "          x = self.x_data[idx].toarray()\n",
        "          x = torch.FloatTensor(x)\n",
        "          y = self.y_data[idx]\n",
        "          \n",
        "          return x, y\n",
        "\n",
        "\n",
        "  dataset_train = WordData(tf_res, train.lbl_index)\n",
        "  dataset_test = WordData(test_transform, test.lbl_index)\n",
        "\n",
        "  batch_size = 256\n",
        "\n",
        "  train_loader = torch.utils.data.DataLoader(dataset_train, batch_size=batch_size,  shuffle=True)\n",
        "  validation_loader = torch.utils.data.DataLoader(dataset_test, batch_size=batch_size, shuffle=True)\n",
        "\n",
        "  class MLP(torch.nn.Module):\n",
        "      \n",
        "      def __init__(self, in_features, inner_features, inner_features2, out_features):\n",
        "          \n",
        "          # Главная задача этого метода - возможность использования в классе потомке, методов класса-родителя\n",
        "          # Вызываем __init__ родителя - torch.nn.Module\n",
        "          super().__init__()\n",
        "          \n",
        "          # определяем слои и все что захотим сохранять/использовать\n",
        "          self.linear_1 = torch.nn.Linear(in_features=in_features, out_features=inner_features)\n",
        "          gl = sqrt(6./(in_features+inner_features))\n",
        "          self.linear_1.weight.data.uniform_(-gl, gl)\n",
        "          self.non_linear_function = torch.nn.ReLU()\n",
        "          self.drop_out = torch.nn.Dropout(0.18)\n",
        "          self.linear_2 = torch.nn.Linear(in_features=inner_features, out_features=inner_features2)\n",
        "          gl1 = sqrt(6./(inner_features+inner_features2))\n",
        "          self.linear_2.weight.data.uniform_(-gl1, gl1)\n",
        "          self.non_linear_function2 = torch.nn.ReLU()\n",
        "          self.linear_3 = torch.nn.Linear(in_features=inner_features2, out_features=out_features)\n",
        "          gl2 = sqrt(6./(inner_features2+out_features))\n",
        "          self.linear_3.weight.data.uniform_(-gl2, gl2)\n",
        "    \n",
        "      def forward(self, x):\n",
        "          \n",
        "          # наша привычная схема\n",
        "          x = self.linear_1(x)\n",
        "          x = self.non_linear_function(x)\n",
        "          x = self.drop_out(x)\n",
        "          x = self.linear_2(x)\n",
        "          x = self.non_linear_function2(x)\n",
        "          x = self.linear_3(x)\n",
        "          \n",
        "          return x\n",
        "  model = MLP(in_features=tf_res.shape[1], inner_features=524, inner_features2=256, out_features=len(set(train.lbl_index)))\n",
        "  optimizer = torch.optim.Adam(params=model.parameters(), lr=0.0005,  betas=(0.9, 0.999) )\n",
        "  # aka loss function\n",
        "  criterion = torch.nn.CrossEntropyLoss()\n",
        "  device = torch.device('cuda') if torch.cuda.is_available() else torch.device('cpu')\n",
        "  model = model.to(device)\n",
        "\n",
        "  epochs = 35\n",
        "  losses = []\n",
        "  best_test_loss = 10.\n",
        "\n",
        "  test_f1 = []\n",
        "\n",
        "  for n_epoch in range(epochs):\n",
        "      \n",
        "      train_losses = []\n",
        "      test_losses = []\n",
        "      test_targets = []\n",
        "      test_pred_class = []\n",
        "      \n",
        "      progress_bar = tqdm(total=len(train_loader.dataset), desc='Epoch {}'.format(n_epoch + 1))\n",
        "      \n",
        "      model.train()\n",
        "      \n",
        "      for x, y in train_loader:\n",
        "          x = x.to(device)\n",
        "          y = y.to(device)\n",
        "\n",
        "          optimizer.zero_grad()\n",
        "\n",
        "          pred = model(x).squeeze(1)\n",
        "          loss = criterion(pred, y)\n",
        "          \n",
        "          loss.backward()\n",
        "          \n",
        "          optimizer.step()\n",
        "          \n",
        "          train_losses.append(loss.item())\n",
        "          losses.append(loss.item())\n",
        "          \n",
        "          progress_bar.set_postfix(train_loss = np.mean(losses[-500:]))\n",
        "\n",
        "          progress_bar.update(x.shape[0])\n",
        "          \n",
        "      progress_bar.close()\n",
        "      \n",
        "      model.eval()\n",
        "      \n",
        "      for x, y in validation_loader:     \n",
        "          \n",
        "          x = x.to(device)\n",
        "          y = y.to(device)\n",
        "        \n",
        "\n",
        "          with torch.no_grad():\n",
        "              pred = model(x).squeeze(1)\n",
        "\n",
        "              pred = pred.cpu()\n",
        "              y = y.cpu()\n",
        "\n",
        "              test_targets.append(y.numpy())\n",
        "              test_pred_class.append(np.argmax(pred, axis=1))\n",
        "\n",
        "              loss = criterion(pred, y)\n",
        "\n",
        "              test_losses.append(loss.item())\n",
        "          \n",
        "      mean_test_loss = np.mean(test_losses)\n",
        "\n",
        "      test_targets = np.concatenate(test_targets).squeeze()\n",
        "      test_pred_class = np.concatenate(test_pred_class).squeeze()\n",
        "\n",
        "      f1 = f1_score(test_targets, test_pred_class, average='weighted')\n",
        "      acc = accuracy_score(test_targets, test_pred_class)\n",
        "\n",
        "      test_f1.append(f1)\n",
        "      \n",
        "      print()\n",
        "      print('Losses: train - {:.7f}, test - {:.7f}'.format(np.mean(train_losses), mean_test_loss))\n",
        "\n",
        "      print('F1 test - {:.4f}'.format(f1))\n",
        "      print('ACC test - {:.4f}'.format(acc))\n",
        "          \n",
        "      # Early stopping:\n",
        "      if mean_test_loss < best_test_loss:\n",
        "          best_test_loss = mean_test_loss\n",
        "      else:\n",
        "          print('Early stopping')\n",
        "          break\n",
        "  print()\n",
        "  print()\n",
        "  return f1, acc"
      ],
      "execution_count": 0,
      "outputs": []
    },
    {
      "cell_type": "code",
      "metadata": {
        "id": "Y0oPrndIS2iq",
        "colab_type": "code",
        "colab": {}
      },
      "source": [
        "def re_FIT_base_MLP(train, test, model=None, tf=None, epochs=1, batch_size = 256, out_feat=None):\n",
        "  if out_feat is None:\n",
        "    out_feat = len(set(train.lbl_index))\n",
        "  if tf is None:\n",
        "    tf = TfidfVectorizer(lowercase = False, ngram_range = (1,3), max_df=0.98, min_df=3)\n",
        "    tf_res = tf.fit_transform(train.text)\n",
        "  else:\n",
        "    tf_res = tf.transform(train.text)\n",
        "  test_transform = tf.transform(test.text)\n",
        "  tf_res.shape\n",
        "  class WordData(Dataset):\n",
        "      \n",
        "      def __init__(self, x_data, y_data):\n",
        "          \n",
        "          super().__init__()\n",
        "          \n",
        "          self.x_data = x_data\n",
        "          self.y_data = torch.LongTensor([int(i) for i in y_data])\n",
        "          \n",
        "      \n",
        "      def __len__(self):\n",
        "          \n",
        "          return self.x_data.shape[0]\n",
        "      \n",
        "      def __getitem__(self, idx):\n",
        "          \n",
        "          x = self.x_data[idx].toarray()\n",
        "          x = torch.FloatTensor(x)\n",
        "          y = self.y_data[idx]\n",
        "          \n",
        "          return x, y\n",
        "\n",
        "\n",
        "  dataset_train = WordData(tf_res, train.lbl_index)\n",
        "  dataset_test = WordData(test_transform, test.lbl_index)\n",
        "\n",
        "  train_loader = torch.utils.data.DataLoader(dataset_train, batch_size=batch_size,  shuffle=True)\n",
        "  validation_loader = torch.utils.data.DataLoader(dataset_test, batch_size=batch_size, shuffle=True)\n",
        "\n",
        "  class MLP(torch.nn.Module):\n",
        "      \n",
        "      def __init__(self, in_features, inner_features, inner_features2, out_features):\n",
        "          \n",
        "          # Главная задача этого метода - возможность использования в классе потомке, методов класса-родителя\n",
        "          # Вызываем __init__ родителя - torch.nn.Module\n",
        "          super().__init__()\n",
        "          \n",
        "          # определяем слои и все что захотим сохранять/использовать\n",
        "          self.linear_1 = torch.nn.Linear(in_features=in_features, out_features=inner_features)\n",
        "          gl = sqrt(6./(in_features+inner_features))\n",
        "          self.linear_1.weight.data.uniform_(-gl, gl)\n",
        "          self.non_linear_function = torch.nn.ReLU()\n",
        "          self.drop_out = torch.nn.Dropout(0.18)\n",
        "          self.linear_2 = torch.nn.Linear(in_features=inner_features, out_features=inner_features2)\n",
        "          gl1 = sqrt(6./(inner_features+inner_features2))\n",
        "          self.linear_2.weight.data.uniform_(-gl1, gl1)\n",
        "          self.non_linear_function2 = torch.nn.ReLU()\n",
        "          self.linear_3 = torch.nn.Linear(in_features=inner_features2, out_features=out_features)\n",
        "          gl2 = sqrt(6./(inner_features2+out_features))\n",
        "          self.linear_3.weight.data.uniform_(-gl2, gl2)\n",
        "    \n",
        "      def forward(self, x):\n",
        "          \n",
        "          # наша привычная схема\n",
        "          x = self.linear_1(x)\n",
        "          x = self.non_linear_function(x)\n",
        "          x = self.drop_out(x)\n",
        "          x = self.linear_2(x)\n",
        "          x = self.non_linear_function2(x)\n",
        "          x = self.linear_3(x)\n",
        "          \n",
        "          return x\n",
        "  if model is None:\n",
        "    model = MLP(in_features=tf_res.shape[1], inner_features=524, inner_features2=256, out_features=out_feat)\n",
        "  optimizer = torch.optim.Adam(params=model.parameters(), lr=0.0005,  betas=(0.9, 0.999) )\n",
        "  # aka loss function\n",
        "  criterion = torch.nn.CrossEntropyLoss()\n",
        "  device = torch.device('cuda') if torch.cuda.is_available() else torch.device('cpu')\n",
        "  model = model.to(device)\n",
        "\n",
        "  losses = []\n",
        "  best_test_loss = 10.\n",
        "\n",
        "  test_f1 = []\n",
        "\n",
        "  for n_epoch in range(epochs):\n",
        "      \n",
        "      train_losses = []\n",
        "      test_losses = []\n",
        "      test_targets = []\n",
        "      test_pred_class = []\n",
        "      \n",
        "      progress_bar = tqdm(total=len(train_loader.dataset), desc='Epoch {}'.format(n_epoch + 1))\n",
        "      \n",
        "      model.train()\n",
        "      \n",
        "      for x, y in train_loader:\n",
        "          x = x.to(device)\n",
        "          y = y.to(device)\n",
        "\n",
        "          optimizer.zero_grad()\n",
        "\n",
        "          pred = model(x).squeeze(1)\n",
        "          loss = criterion(pred, y)\n",
        "          \n",
        "          loss.backward()\n",
        "          \n",
        "          optimizer.step()\n",
        "          \n",
        "          train_losses.append(loss.item())\n",
        "          losses.append(loss.item())\n",
        "          \n",
        "          progress_bar.set_postfix(train_loss = np.mean(losses[-500:]))\n",
        "\n",
        "          progress_bar.update(x.shape[0])\n",
        "          \n",
        "      progress_bar.close()\n",
        "      \n",
        "      model.eval()\n",
        "      \n",
        "      for x, y in validation_loader:     \n",
        "          \n",
        "          x = x.to(device)\n",
        "          y = y.to(device)\n",
        "        \n",
        "\n",
        "          with torch.no_grad():\n",
        "              pred = model(x).squeeze(1)\n",
        "\n",
        "              pred = pred.cpu()\n",
        "              y = y.cpu()\n",
        "\n",
        "              test_targets.append(y.numpy())\n",
        "              test_pred_class.append(np.argmax(pred, axis=1))\n",
        "\n",
        "              loss = criterion(pred, y)\n",
        "\n",
        "              test_losses.append(loss.item())\n",
        "          \n",
        "      mean_test_loss = np.mean(test_losses)\n",
        "\n",
        "      test_targets = np.concatenate(test_targets).squeeze()\n",
        "      test_pred_class = np.concatenate(test_pred_class).squeeze()\n",
        "\n",
        "      f1 = f1_score(test_targets, test_pred_class, average='weighted')\n",
        "      acc = accuracy_score(test_targets, test_pred_class)\n",
        "\n",
        "      test_f1.append(f1)\n",
        "      \n",
        "      print()\n",
        "      print('Losses: train - {:.7f}, test - {:.7f}'.format(np.mean(train_losses), mean_test_loss))\n",
        "\n",
        "      print('F1 test - {:.4f}'.format(f1))\n",
        "      print('ACC test - {:.4f}'.format(acc))\n",
        "          \n",
        "      # Early stopping:\n",
        "      if mean_test_loss < best_test_loss:\n",
        "          best_test_loss = mean_test_loss\n",
        "      else:\n",
        "          print('Early stopping')\n",
        "          break\n",
        "  print()\n",
        "  print()\n",
        "  return f1, acc, model, tf"
      ],
      "execution_count": 0,
      "outputs": []
    },
    {
      "cell_type": "markdown",
      "metadata": {
        "id": "vXx03_0VMIQB",
        "colab_type": "text"
      },
      "source": [
        "# Trec-6"
      ]
    },
    {
      "cell_type": "code",
      "metadata": {
        "id": "MyoEqQsp7ROB",
        "colab_type": "code",
        "colab": {}
      },
      "source": [
        "import pandas as pd\n",
        "def read_trec6(file_name, typ=0):\n",
        "  train = pd.read_csv(file_name, index_col=0)\n",
        "  lbl2indx = {i:j for j, i in enumerate(train.labels.unique())}\n",
        "  train.columns = ['text', 'labels']\n",
        "  train['lbl_index'] = train.labels.apply(lambda x:lbl2indx[x])\n",
        "\n",
        "\n",
        "  labels_t = [i.split(' ', 1)[0].split(':')[typ] for i in open('TREC_10.label', encoding = 'windows-1252').readlines()]\n",
        "  texts_t = [ i.split(' ', 1)[1][:-1] for i in open('TREC_10.label', encoding = 'windows-1252').readlines()]\n",
        "  test  = pd.DataFrame({'text':texts_t, 'labels': labels_t})\n",
        "  test['lbl_index'] = test.labels.apply(lambda x:lbl2indx[x])\n",
        "\n",
        "  return train, test, lbl2indx\n",
        "\n",
        "def read_eda_trec6(file_name):\n",
        "  \"type = 0 - trec6, type = 1 - trec50\"\n",
        "  labels = [i[:-1].split('\\t' )[0] for i in open(file_name, encoding = 'windows-1252').readlines()]\n",
        "  texts = [ i[:-1].split('\\t' )[1] for i in open(file_name, encoding = 'windows-1252').readlines()]\n",
        "  aug  = pd.DataFrame({'text':texts, 'labels': labels})\n",
        "  lbl2indx = {i:j for j, i in enumerate(aug.labels.unique())}\n",
        "  aug['lbl_index'] = aug.labels.apply(lambda x:lbl2indx[x])\n",
        "  return aug"
      ],
      "execution_count": 0,
      "outputs": []
    },
    {
      "cell_type": "markdown",
      "metadata": {
        "id": "wffa9ov9N6Ap",
        "colab_type": "text"
      },
      "source": [
        "### 5000"
      ]
    },
    {
      "cell_type": "code",
      "metadata": {
        "colab_type": "code",
        "id": "mFYUgqVuGXpn",
        "colab": {}
      },
      "source": [
        "number_of_attemp_to_fit = 3"
      ],
      "execution_count": 0,
      "outputs": []
    },
    {
      "cell_type": "code",
      "metadata": {
        "colab_type": "code",
        "id": "vAJ6bGhDGXpr",
        "colab": {}
      },
      "source": [
        "train_data, test_data, l2i = read_trec6('trec6_splited/trec6_splited_5k.csv')"
      ],
      "execution_count": 0,
      "outputs": []
    },
    {
      "cell_type": "code",
      "metadata": {
        "id": "Hi6MYiyhzfTk",
        "colab_type": "code",
        "colab": {}
      },
      "source": [
        "for instance in list(tqdm._instances):\n",
        "    tqdm._decr_instances(instance)"
      ],
      "execution_count": 0,
      "outputs": []
    },
    {
      "cell_type": "code",
      "metadata": {
        "colab_type": "code",
        "outputId": "e65bdf5a-af7b-42cf-eabb-a5f64a687163",
        "id": "qejZJUDCGXp0",
        "colab": {
          "base_uri": "https://localhost:8080/",
          "height": 1000
        }
      },
      "source": [
        "f1_scores, acc_scores = [], []\n",
        "for _ in range(number_of_attemp_to_fit):\n",
        "  f1_scor, acc_scor = train_base_MLP(train_data, test_data)\n",
        "  f1_scores.append(f1_scor)\n",
        "  acc_scores.append(acc_scor)\n",
        "print(\"f1_average: {}, std:{}\".format(np.mean(f1_scores), np.std(f1_scores)))\n",
        "print(\"acc_average: {}, std:{}\".format(np.mean(acc_scores), np.std(acc_scores)))"
      ],
      "execution_count": 0,
      "outputs": [
        {
          "output_type": "stream",
          "text": [
            "Epoch 1: 100%|██████████| 5006/5006 [00:00<00:00, 7895.16it/s, train_loss=1.73]\n",
            "Epoch 2:  26%|██▌       | 1280/5006 [00:00<00:00, 8160.74it/s, train_loss=1.69]"
          ],
          "name": "stderr"
        },
        {
          "output_type": "stream",
          "text": [
            "\n",
            "Losses: train - 1.7289193, test - 1.6263661\n",
            "F1 test - 0.4199\n",
            "ACC test - 0.5100\n"
          ],
          "name": "stdout"
        },
        {
          "output_type": "stream",
          "text": [
            "Epoch 2: 100%|██████████| 5006/5006 [00:00<00:00, 7834.51it/s, train_loss=1.59]\n",
            "Epoch 3:  26%|██▌       | 1280/5006 [00:00<00:00, 8309.38it/s, train_loss=1.53]"
          ],
          "name": "stderr"
        },
        {
          "output_type": "stream",
          "text": [
            "\n",
            "Losses: train - 1.4559500, test - 1.2172453\n",
            "F1 test - 0.6180\n",
            "ACC test - 0.6500\n"
          ],
          "name": "stdout"
        },
        {
          "output_type": "stream",
          "text": [
            "Epoch 3: 100%|██████████| 5006/5006 [00:00<00:00, 7972.61it/s, train_loss=1.37]\n",
            "Epoch 4:  20%|██        | 1024/5006 [00:00<00:00, 7974.14it/s, train_loss=1.31]"
          ],
          "name": "stderr"
        },
        {
          "output_type": "stream",
          "text": [
            "\n",
            "Losses: train - 0.9229585, test - 0.6510075\n",
            "F1 test - 0.8072\n",
            "ACC test - 0.8160\n"
          ],
          "name": "stdout"
        },
        {
          "output_type": "stream",
          "text": [
            "Epoch 4: 100%|██████████| 5006/5006 [00:00<00:00, 7705.94it/s, train_loss=1.14]\n",
            "Epoch 5:  26%|██▌       | 1280/5006 [00:00<00:00, 8172.94it/s, train_loss=1.08]"
          ],
          "name": "stderr"
        },
        {
          "output_type": "stream",
          "text": [
            "\n",
            "Losses: train - 0.4452261, test - 0.4090727\n",
            "F1 test - 0.8533\n",
            "ACC test - 0.8620\n"
          ],
          "name": "stdout"
        },
        {
          "output_type": "stream",
          "text": [
            "Epoch 5: 100%|██████████| 5006/5006 [00:00<00:00, 7759.20it/s, train_loss=0.96]\n",
            "Epoch 6:  20%|██        | 1024/5006 [00:00<00:00, 8129.48it/s, train_loss=0.924]"
          ],
          "name": "stderr"
        },
        {
          "output_type": "stream",
          "text": [
            "\n",
            "Losses: train - 0.2492786, test - 0.3591498\n",
            "F1 test - 0.8832\n",
            "ACC test - 0.8840\n"
          ],
          "name": "stdout"
        },
        {
          "output_type": "stream",
          "text": [
            "Epoch 6: 100%|██████████| 5006/5006 [00:00<00:00, 7124.40it/s, train_loss=0.828]\n",
            "Epoch 7:  20%|██        | 1024/5006 [00:00<00:00, 7356.75it/s, train_loss=0.8] "
          ],
          "name": "stderr"
        },
        {
          "output_type": "stream",
          "text": [
            "\n",
            "Losses: train - 0.1652624, test - 0.3402478\n",
            "F1 test - 0.8845\n",
            "ACC test - 0.8860\n"
          ],
          "name": "stdout"
        },
        {
          "output_type": "stream",
          "text": [
            "Epoch 7: 100%|██████████| 5006/5006 [00:00<00:00, 7531.17it/s, train_loss=0.727]\n"
          ],
          "name": "stderr"
        },
        {
          "output_type": "stream",
          "text": [
            "\n",
            "Losses: train - 0.1184570, test - 0.3469814\n",
            "F1 test - 0.8743\n",
            "ACC test - 0.8760\n",
            "Early stopping\n",
            "\n",
            "\n"
          ],
          "name": "stdout"
        },
        {
          "output_type": "stream",
          "text": [
            "Epoch 1: 100%|██████████| 5006/5006 [00:00<00:00, 7046.26it/s, train_loss=1.71]\n",
            "Epoch 2:  20%|██        | 1024/5006 [00:00<00:00, 7702.17it/s, train_loss=1.68]"
          ],
          "name": "stderr"
        },
        {
          "output_type": "stream",
          "text": [
            "\n",
            "Losses: train - 1.7103210, test - 1.6018830\n",
            "F1 test - 0.3941\n",
            "ACC test - 0.4960\n"
          ],
          "name": "stdout"
        },
        {
          "output_type": "stream",
          "text": [
            "Epoch 2: 100%|██████████| 5006/5006 [00:00<00:00, 7444.43it/s, train_loss=1.56]\n",
            "Epoch 3:  26%|██▌       | 1280/5006 [00:00<00:00, 7896.86it/s, train_loss=1.5] "
          ],
          "name": "stderr"
        },
        {
          "output_type": "stream",
          "text": [
            "\n",
            "Losses: train - 1.4103934, test - 1.1439949\n",
            "F1 test - 0.6950\n",
            "ACC test - 0.7120\n"
          ],
          "name": "stdout"
        },
        {
          "output_type": "stream",
          "text": [
            "Epoch 3: 100%|██████████| 5006/5006 [00:00<00:00, 7830.41it/s, train_loss=1.32]\n",
            "Epoch 4:  26%|██▌       | 1280/5006 [00:00<00:00, 7818.56it/s, train_loss=1.25]"
          ],
          "name": "stderr"
        },
        {
          "output_type": "stream",
          "text": [
            "\n",
            "Losses: train - 0.8499499, test - 0.5935701\n",
            "F1 test - 0.8125\n",
            "ACC test - 0.8200\n"
          ],
          "name": "stdout"
        },
        {
          "output_type": "stream",
          "text": [
            "Epoch 4: 100%|██████████| 5006/5006 [00:00<00:00, 7672.30it/s, train_loss=1.09]\n",
            "Epoch 5:  20%|██        | 1024/5006 [00:00<00:00, 7368.98it/s, train_loss=1.05]"
          ],
          "name": "stderr"
        },
        {
          "output_type": "stream",
          "text": [
            "\n",
            "Losses: train - 0.4091944, test - 0.4044448\n",
            "F1 test - 0.8517\n",
            "ACC test - 0.8600\n"
          ],
          "name": "stdout"
        },
        {
          "output_type": "stream",
          "text": [
            "Epoch 5: 100%|██████████| 5006/5006 [00:00<00:00, 7494.08it/s, train_loss=0.923]\n",
            "Epoch 6:  26%|██▌       | 1280/5006 [00:00<00:00, 7665.12it/s, train_loss=0.88] "
          ],
          "name": "stderr"
        },
        {
          "output_type": "stream",
          "text": [
            "\n",
            "Losses: train - 0.2354726, test - 0.3509181\n",
            "F1 test - 0.8786\n",
            "ACC test - 0.8800\n"
          ],
          "name": "stdout"
        },
        {
          "output_type": "stream",
          "text": [
            "Epoch 6: 100%|██████████| 5006/5006 [00:00<00:00, 7447.20it/s, train_loss=0.795]\n",
            "Epoch 7:  20%|██        | 1024/5006 [00:00<00:00, 7021.45it/s, train_loss=0.768]"
          ],
          "name": "stderr"
        },
        {
          "output_type": "stream",
          "text": [
            "\n",
            "Losses: train - 0.1557221, test - 0.3376112\n",
            "F1 test - 0.8868\n",
            "ACC test - 0.8880\n"
          ],
          "name": "stdout"
        },
        {
          "output_type": "stream",
          "text": [
            "Epoch 7: 100%|██████████| 5006/5006 [00:00<00:00, 6942.68it/s, train_loss=0.698]\n",
            "Epoch 8:  20%|██        | 1024/5006 [00:00<00:00, 6679.34it/s, train_loss=0.676]"
          ],
          "name": "stderr"
        },
        {
          "output_type": "stream",
          "text": [
            "\n",
            "Losses: train - 0.1115496, test - 0.3281773\n",
            "F1 test - 0.8911\n",
            "ACC test - 0.8920\n"
          ],
          "name": "stdout"
        },
        {
          "output_type": "stream",
          "text": [
            "Epoch 8: 100%|██████████| 5006/5006 [00:00<00:00, 6895.50it/s, train_loss=0.621]\n"
          ],
          "name": "stderr"
        },
        {
          "output_type": "stream",
          "text": [
            "\n",
            "Losses: train - 0.0830299, test - 0.3362748\n",
            "F1 test - 0.8954\n",
            "ACC test - 0.8960\n",
            "Early stopping\n",
            "\n",
            "\n"
          ],
          "name": "stdout"
        },
        {
          "output_type": "stream",
          "text": [
            "Epoch 1: 100%|██████████| 5006/5006 [00:00<00:00, 7873.11it/s, train_loss=1.72]\n",
            "Epoch 2:  20%|██        | 1024/5006 [00:00<00:00, 7761.62it/s, train_loss=1.69]"
          ],
          "name": "stderr"
        },
        {
          "output_type": "stream",
          "text": [
            "\n",
            "Losses: train - 1.7177288, test - 1.6006856\n",
            "F1 test - 0.4608\n",
            "ACC test - 0.5160\n"
          ],
          "name": "stdout"
        },
        {
          "output_type": "stream",
          "text": [
            "Epoch 2: 100%|██████████| 5006/5006 [00:00<00:00, 7452.42it/s, train_loss=1.57]\n",
            "Epoch 3:  26%|██▌       | 1280/5006 [00:00<00:00, 8095.22it/s, train_loss=1.51]"
          ],
          "name": "stderr"
        },
        {
          "output_type": "stream",
          "text": [
            "\n",
            "Losses: train - 1.4306509, test - 1.1573170\n",
            "F1 test - 0.7132\n",
            "ACC test - 0.7280\n"
          ],
          "name": "stdout"
        },
        {
          "output_type": "stream",
          "text": [
            "Epoch 3: 100%|██████████| 5006/5006 [00:00<00:00, 7740.69it/s, train_loss=1.34]\n",
            "Epoch 4:  26%|██▌       | 1280/5006 [00:00<00:00, 7876.45it/s, train_loss=1.26]"
          ],
          "name": "stderr"
        },
        {
          "output_type": "stream",
          "text": [
            "\n",
            "Losses: train - 0.8663752, test - 0.5951343\n",
            "F1 test - 0.8097\n",
            "ACC test - 0.8180\n"
          ],
          "name": "stdout"
        },
        {
          "output_type": "stream",
          "text": [
            "Epoch 4: 100%|██████████| 5006/5006 [00:00<00:00, 8004.76it/s, train_loss=1.11]\n",
            "Epoch 5:  20%|██        | 1024/5006 [00:00<00:00, 7256.73it/s, train_loss=1.06]"
          ],
          "name": "stderr"
        },
        {
          "output_type": "stream",
          "text": [
            "\n",
            "Losses: train - 0.4204200, test - 0.3980338\n",
            "F1 test - 0.8560\n",
            "ACC test - 0.8640\n"
          ],
          "name": "stdout"
        },
        {
          "output_type": "stream",
          "text": [
            "Epoch 5: 100%|██████████| 5006/5006 [00:00<00:00, 7639.68it/s, train_loss=0.936]\n",
            "Epoch 6:  26%|██▌       | 1280/5006 [00:00<00:00, 8382.66it/s, train_loss=0.893]"
          ],
          "name": "stderr"
        },
        {
          "output_type": "stream",
          "text": [
            "\n",
            "Losses: train - 0.2445306, test - 0.3498766\n",
            "F1 test - 0.8830\n",
            "ACC test - 0.8840\n"
          ],
          "name": "stdout"
        },
        {
          "output_type": "stream",
          "text": [
            "Epoch 6: 100%|██████████| 5006/5006 [00:00<00:00, 7863.28it/s, train_loss=0.807]\n",
            "Epoch 7:  26%|██▌       | 1280/5006 [00:00<00:00, 8023.22it/s, train_loss=0.774]"
          ],
          "name": "stderr"
        },
        {
          "output_type": "stream",
          "text": [
            "\n",
            "Losses: train - 0.1611290, test - 0.3443932\n",
            "F1 test - 0.8828\n",
            "ACC test - 0.8840\n"
          ],
          "name": "stdout"
        },
        {
          "output_type": "stream",
          "text": [
            "Epoch 7: 100%|██████████| 5006/5006 [00:00<00:00, 7857.14it/s, train_loss=0.708]\n",
            "Epoch 8:  20%|██        | 1024/5006 [00:00<00:00, 7592.28it/s, train_loss=0.687]"
          ],
          "name": "stderr"
        },
        {
          "output_type": "stream",
          "text": [
            "\n",
            "Losses: train - 0.1185024, test - 0.3261214\n",
            "F1 test - 0.8873\n",
            "ACC test - 0.8880\n"
          ],
          "name": "stdout"
        },
        {
          "output_type": "stream",
          "text": [
            "Epoch 8: 100%|██████████| 5006/5006 [00:00<00:00, 7716.94it/s, train_loss=0.631]\n"
          ],
          "name": "stderr"
        },
        {
          "output_type": "stream",
          "text": [
            "\n",
            "Losses: train - 0.0878727, test - 0.3275309\n",
            "F1 test - 0.8938\n",
            "ACC test - 0.8940\n",
            "Early stopping\n",
            "\n",
            "\n",
            "f1_average: 0.8878438854363614, std:0.009582588134828382\n",
            "acc_average: 0.8886666666666666, std:0.008993825042154702\n"
          ],
          "name": "stdout"
        }
      ]
    },
    {
      "cell_type": "markdown",
      "metadata": {
        "id": "fqc0n6rkOQOq",
        "colab_type": "text"
      },
      "source": [
        "### 4000"
      ]
    },
    {
      "cell_type": "code",
      "metadata": {
        "colab_type": "code",
        "id": "9Lp-jZwyOSZb",
        "colab": {}
      },
      "source": [
        "number_of_attemp_to_fit = 3"
      ],
      "execution_count": 0,
      "outputs": []
    },
    {
      "cell_type": "code",
      "metadata": {
        "colab_type": "code",
        "id": "3NbCPkhlOSZf",
        "colab": {}
      },
      "source": [
        "train_data, test_data, l2i = read_trec6('trec6_splited/trec6_splited_4k.csv')"
      ],
      "execution_count": 0,
      "outputs": []
    },
    {
      "cell_type": "code",
      "metadata": {
        "colab_type": "code",
        "id": "p6TWLfNrOSZi",
        "colab": {}
      },
      "source": [
        "for instance in list(tqdm._instances):\n",
        "    tqdm._decr_instances(instance)"
      ],
      "execution_count": 0,
      "outputs": []
    },
    {
      "cell_type": "code",
      "metadata": {
        "colab_type": "code",
        "outputId": "6df1f1ca-39e9-4847-b8f8-307b5d97ea2f",
        "id": "3tT140kyOSZl",
        "colab": {
          "base_uri": "https://localhost:8080/",
          "height": 1000
        }
      },
      "source": [
        "f1_scores, acc_scores = [], []\n",
        "for _ in range(number_of_attemp_to_fit):\n",
        "  f1_scor, acc_scor = train_base_MLP(train_data, test_data)\n",
        "  f1_scores.append(f1_scor)\n",
        "  acc_scores.append(acc_scor)\n",
        "print(\"f1_average: {}, std:{}\".format(np.mean(f1_scores), np.std(f1_scores)))\n",
        "print(\"acc_average: {}, std:{}\".format(np.mean(acc_scores), np.std(acc_scores)))"
      ],
      "execution_count": 0,
      "outputs": [
        {
          "output_type": "stream",
          "text": [
            "Epoch 1: 100%|██████████| 4004/4004 [00:00<00:00, 7354.03it/s, train_loss=1.74]\n",
            "Epoch 2:  32%|███▏      | 1280/4004 [00:00<00:00, 8115.44it/s, train_loss=1.71]"
          ],
          "name": "stderr"
        },
        {
          "output_type": "stream",
          "text": [
            "\n",
            "Losses: train - 1.7381864, test - 1.6574061\n",
            "F1 test - 0.3821\n",
            "ACC test - 0.4440\n"
          ],
          "name": "stdout"
        },
        {
          "output_type": "stream",
          "text": [
            "Epoch 2: 100%|██████████| 4004/4004 [00:00<00:00, 7929.40it/s, train_loss=1.64]\n",
            "Epoch 3:  32%|███▏      | 1280/4004 [00:00<00:00, 8004.40it/s, train_loss=1.59]"
          ],
          "name": "stderr"
        },
        {
          "output_type": "stream",
          "text": [
            "\n",
            "Losses: train - 1.5486735, test - 1.4095613\n",
            "F1 test - 0.4785\n",
            "ACC test - 0.5580\n"
          ],
          "name": "stdout"
        },
        {
          "output_type": "stream",
          "text": [
            "Epoch 3: 100%|██████████| 4004/4004 [00:00<00:00, 7736.88it/s, train_loss=1.49]\n",
            "Epoch 4:  32%|███▏      | 1280/4004 [00:00<00:00, 7993.63it/s, train_loss=1.42]"
          ],
          "name": "stderr"
        },
        {
          "output_type": "stream",
          "text": [
            "\n",
            "Losses: train - 1.1834487, test - 0.9354751\n",
            "F1 test - 0.7537\n",
            "ACC test - 0.7640\n"
          ],
          "name": "stdout"
        },
        {
          "output_type": "stream",
          "text": [
            "Epoch 4: 100%|██████████| 4004/4004 [00:00<00:00, 8012.57it/s, train_loss=1.29]\n",
            "Epoch 5:  26%|██▌       | 1024/4004 [00:00<00:00, 7247.24it/s, train_loss=1.23]"
          ],
          "name": "stderr"
        },
        {
          "output_type": "stream",
          "text": [
            "\n",
            "Losses: train - 0.7012901, test - 0.5642652\n",
            "F1 test - 0.8114\n",
            "ACC test - 0.8200\n"
          ],
          "name": "stdout"
        },
        {
          "output_type": "stream",
          "text": [
            "Epoch 5: 100%|██████████| 4004/4004 [00:00<00:00, 7825.76it/s, train_loss=1.11]\n",
            "Epoch 6:  32%|███▏      | 1280/4004 [00:00<00:00, 8542.71it/s, train_loss=1.05]"
          ],
          "name": "stderr"
        },
        {
          "output_type": "stream",
          "text": [
            "\n",
            "Losses: train - 0.3923014, test - 0.4205851\n",
            "F1 test - 0.8335\n",
            "ACC test - 0.8420\n"
          ],
          "name": "stdout"
        },
        {
          "output_type": "stream",
          "text": [
            "Epoch 6: 100%|██████████| 4004/4004 [00:00<00:00, 8255.58it/s, train_loss=0.969]\n",
            "Epoch 7:  32%|███▏      | 1280/4004 [00:00<00:00, 7542.46it/s, train_loss=0.922]"
          ],
          "name": "stderr"
        },
        {
          "output_type": "stream",
          "text": [
            "\n",
            "Losses: train - 0.2500827, test - 0.3742416\n",
            "F1 test - 0.8580\n",
            "ACC test - 0.8600\n"
          ],
          "name": "stdout"
        },
        {
          "output_type": "stream",
          "text": [
            "Epoch 7: 100%|██████████| 4004/4004 [00:00<00:00, 7952.97it/s, train_loss=0.856]\n",
            "Epoch 8:  32%|███▏      | 1280/4004 [00:00<00:00, 8543.71it/s, train_loss=0.819]"
          ],
          "name": "stderr"
        },
        {
          "output_type": "stream",
          "text": [
            "\n",
            "Losses: train - 0.1756628, test - 0.3666310\n",
            "F1 test - 0.8562\n",
            "ACC test - 0.8580\n"
          ],
          "name": "stdout"
        },
        {
          "output_type": "stream",
          "text": [
            "Epoch 8: 100%|██████████| 4004/4004 [00:00<00:00, 8058.12it/s, train_loss=0.765]\n",
            "Epoch 9:  32%|███▏      | 1280/4004 [00:00<00:00, 8513.38it/s, train_loss=0.736]"
          ],
          "name": "stderr"
        },
        {
          "output_type": "stream",
          "text": [
            "\n",
            "Losses: train - 0.1314772, test - 0.3409534\n",
            "F1 test - 0.8661\n",
            "ACC test - 0.8680\n"
          ],
          "name": "stdout"
        },
        {
          "output_type": "stream",
          "text": [
            "Epoch 9: 100%|██████████| 4004/4004 [00:00<00:00, 8002.57it/s, train_loss=0.692]\n",
            "Epoch 10:  32%|███▏      | 1280/4004 [00:00<00:00, 8456.01it/s, train_loss=0.668]"
          ],
          "name": "stderr"
        },
        {
          "output_type": "stream",
          "text": [
            "\n",
            "Losses: train - 0.1050922, test - 0.3408680\n",
            "F1 test - 0.8686\n",
            "ACC test - 0.8700\n"
          ],
          "name": "stdout"
        },
        {
          "output_type": "stream",
          "text": [
            "Epoch 10: 100%|██████████| 4004/4004 [00:00<00:00, 8044.19it/s, train_loss=0.631]\n",
            "Epoch 11:  26%|██▌       | 1024/4004 [00:00<00:00, 7643.65it/s, train_loss=0.614]"
          ],
          "name": "stderr"
        },
        {
          "output_type": "stream",
          "text": [
            "\n",
            "Losses: train - 0.0840566, test - 0.3388349\n",
            "F1 test - 0.8660\n",
            "ACC test - 0.8680\n"
          ],
          "name": "stdout"
        },
        {
          "output_type": "stream",
          "text": [
            "Epoch 11: 100%|██████████| 4004/4004 [00:00<00:00, 7792.30it/s, train_loss=0.58]\n",
            "Epoch 1:   0%|          | 0/4004 [00:00<?, ?it/s]"
          ],
          "name": "stderr"
        },
        {
          "output_type": "stream",
          "text": [
            "\n",
            "Losses: train - 0.0686453, test - 0.3582243\n",
            "F1 test - 0.8606\n",
            "ACC test - 0.8620\n",
            "Early stopping\n",
            "\n",
            "\n"
          ],
          "name": "stdout"
        },
        {
          "output_type": "stream",
          "text": [
            "Epoch 1: 100%|██████████| 4004/4004 [00:00<00:00, 7621.20it/s, train_loss=1.72]\n",
            "Epoch 2:  32%|███▏      | 1280/4004 [00:00<00:00, 8255.82it/s, train_loss=1.69]"
          ],
          "name": "stderr"
        },
        {
          "output_type": "stream",
          "text": [
            "\n",
            "Losses: train - 1.7157876, test - 1.6525581\n",
            "F1 test - 0.3035\n",
            "ACC test - 0.3500\n"
          ],
          "name": "stdout"
        },
        {
          "output_type": "stream",
          "text": [
            "Epoch 2: 100%|██████████| 4004/4004 [00:00<00:00, 7795.80it/s, train_loss=1.62]\n",
            "Epoch 3:  32%|███▏      | 1280/4004 [00:00<00:00, 8534.97it/s, train_loss=1.57]"
          ],
          "name": "stderr"
        },
        {
          "output_type": "stream",
          "text": [
            "\n",
            "Losses: train - 1.5212434, test - 1.3802296\n",
            "F1 test - 0.5687\n",
            "ACC test - 0.6180\n"
          ],
          "name": "stdout"
        },
        {
          "output_type": "stream",
          "text": [
            "Epoch 3: 100%|██████████| 4004/4004 [00:00<00:00, 8124.11it/s, train_loss=1.46]\n",
            "Epoch 4:  32%|███▏      | 1280/4004 [00:00<00:00, 7992.18it/s, train_loss=1.38]"
          ],
          "name": "stderr"
        },
        {
          "output_type": "stream",
          "text": [
            "\n",
            "Losses: train - 1.1424204, test - 0.9014076\n",
            "F1 test - 0.7519\n",
            "ACC test - 0.7620\n"
          ],
          "name": "stdout"
        },
        {
          "output_type": "stream",
          "text": [
            "Epoch 4: 100%|██████████| 4004/4004 [00:00<00:00, 7878.24it/s, train_loss=1.26]\n",
            "Epoch 5:  32%|███▏      | 1280/4004 [00:00<00:00, 8198.60it/s, train_loss=1.19]"
          ],
          "name": "stderr"
        },
        {
          "output_type": "stream",
          "text": [
            "\n",
            "Losses: train - 0.6608769, test - 0.5510828\n",
            "F1 test - 0.8053\n",
            "ACC test - 0.8140\n"
          ],
          "name": "stdout"
        },
        {
          "output_type": "stream",
          "text": [
            "Epoch 5: 100%|██████████| 4004/4004 [00:00<00:00, 8018.09it/s, train_loss=1.08]\n",
            "Epoch 6:  32%|███▏      | 1280/4004 [00:00<00:00, 8045.83it/s, train_loss=1.02]"
          ],
          "name": "stderr"
        },
        {
          "output_type": "stream",
          "text": [
            "\n",
            "Losses: train - 0.3679559, test - 0.4230480\n",
            "F1 test - 0.8294\n",
            "ACC test - 0.8380\n"
          ],
          "name": "stdout"
        },
        {
          "output_type": "stream",
          "text": [
            "Epoch 6: 100%|██████████| 4004/4004 [00:00<00:00, 7985.87it/s, train_loss=0.941]\n",
            "Epoch 7:  32%|███▏      | 1280/4004 [00:00<00:00, 7636.95it/s, train_loss=0.897]"
          ],
          "name": "stderr"
        },
        {
          "output_type": "stream",
          "text": [
            "\n",
            "Losses: train - 0.2391612, test - 0.3719369\n",
            "F1 test - 0.8654\n",
            "ACC test - 0.8680\n"
          ],
          "name": "stdout"
        },
        {
          "output_type": "stream",
          "text": [
            "Epoch 7: 100%|██████████| 4004/4004 [00:00<00:00, 7994.40it/s, train_loss=0.831]\n",
            "Epoch 8:  32%|███▏      | 1280/4004 [00:00<00:00, 7974.95it/s, train_loss=0.795]"
          ],
          "name": "stderr"
        },
        {
          "output_type": "stream",
          "text": [
            "\n",
            "Losses: train - 0.1693691, test - 0.3661321\n",
            "F1 test - 0.8568\n",
            "ACC test - 0.8580\n"
          ],
          "name": "stdout"
        },
        {
          "output_type": "stream",
          "text": [
            "Epoch 8: 100%|██████████| 4004/4004 [00:00<00:00, 7448.19it/s, train_loss=0.743]\n",
            "Epoch 9:  32%|███▏      | 1280/4004 [00:00<00:00, 8398.32it/s, train_loss=0.715]"
          ],
          "name": "stderr"
        },
        {
          "output_type": "stream",
          "text": [
            "\n",
            "Losses: train - 0.1277037, test - 0.3455615\n",
            "F1 test - 0.8736\n",
            "ACC test - 0.8740\n"
          ],
          "name": "stdout"
        },
        {
          "output_type": "stream",
          "text": [
            "Epoch 9: 100%|██████████| 4004/4004 [00:00<00:00, 7912.10it/s, train_loss=0.672]\n",
            "Epoch 10:  26%|██▌       | 1024/4004 [00:00<00:00, 7955.82it/s, train_loss=0.656]"
          ],
          "name": "stderr"
        },
        {
          "output_type": "stream",
          "text": [
            "\n",
            "Losses: train - 0.1003733, test - 0.3390097\n",
            "F1 test - 0.8691\n",
            "ACC test - 0.8700\n"
          ],
          "name": "stdout"
        },
        {
          "output_type": "stream",
          "text": [
            "Epoch 10: 100%|██████████| 4004/4004 [00:00<00:00, 7064.11it/s, train_loss=0.613]\n",
            "Epoch 1:   0%|          | 0/4004 [00:00<?, ?it/s]"
          ],
          "name": "stderr"
        },
        {
          "output_type": "stream",
          "text": [
            "\n",
            "Losses: train - 0.0813060, test - 0.3682684\n",
            "F1 test - 0.8547\n",
            "ACC test - 0.8560\n",
            "Early stopping\n",
            "\n",
            "\n"
          ],
          "name": "stdout"
        },
        {
          "output_type": "stream",
          "text": [
            "Epoch 1: 100%|██████████| 4004/4004 [00:00<00:00, 8091.69it/s, train_loss=1.74]\n",
            "Epoch 2:  32%|███▏      | 1280/4004 [00:00<00:00, 7112.88it/s, train_loss=1.71]"
          ],
          "name": "stderr"
        },
        {
          "output_type": "stream",
          "text": [
            "\n",
            "Losses: train - 1.7444111, test - 1.6663203\n",
            "F1 test - 0.3803\n",
            "ACC test - 0.4800\n"
          ],
          "name": "stdout"
        },
        {
          "output_type": "stream",
          "text": [
            "Epoch 2: 100%|██████████| 4004/4004 [00:00<00:00, 7893.18it/s, train_loss=1.65]\n",
            "Epoch 3:  32%|███▏      | 1280/4004 [00:00<00:00, 8061.79it/s, train_loss=1.6] "
          ],
          "name": "stderr"
        },
        {
          "output_type": "stream",
          "text": [
            "\n",
            "Losses: train - 1.5589940, test - 1.4060404\n",
            "F1 test - 0.5944\n",
            "ACC test - 0.6340\n"
          ],
          "name": "stdout"
        },
        {
          "output_type": "stream",
          "text": [
            "Epoch 3: 100%|██████████| 4004/4004 [00:00<00:00, 7935.91it/s, train_loss=1.49]\n",
            "Epoch 4:  32%|███▏      | 1280/4004 [00:00<00:00, 8257.46it/s, train_loss=1.42]"
          ],
          "name": "stderr"
        },
        {
          "output_type": "stream",
          "text": [
            "\n",
            "Losses: train - 1.1803480, test - 0.9070075\n",
            "F1 test - 0.7738\n",
            "ACC test - 0.7820\n"
          ],
          "name": "stdout"
        },
        {
          "output_type": "stream",
          "text": [
            "Epoch 4: 100%|██████████| 4004/4004 [00:00<00:00, 8003.49it/s, train_loss=1.29]\n",
            "Epoch 5:  32%|███▏      | 1280/4004 [00:00<00:00, 8012.30it/s, train_loss=1.22]"
          ],
          "name": "stderr"
        },
        {
          "output_type": "stream",
          "text": [
            "\n",
            "Losses: train - 0.6826481, test - 0.5354867\n",
            "F1 test - 0.8144\n",
            "ACC test - 0.8220\n"
          ],
          "name": "stdout"
        },
        {
          "output_type": "stream",
          "text": [
            "Epoch 5: 100%|██████████| 4004/4004 [00:00<00:00, 7978.03it/s, train_loss=1.11]\n",
            "Epoch 6:  32%|███▏      | 1280/4004 [00:00<00:00, 8242.99it/s, train_loss=1.05]"
          ],
          "name": "stderr"
        },
        {
          "output_type": "stream",
          "text": [
            "\n",
            "Losses: train - 0.3805510, test - 0.4074631\n",
            "F1 test - 0.8363\n",
            "ACC test - 0.8440\n"
          ],
          "name": "stdout"
        },
        {
          "output_type": "stream",
          "text": [
            "Epoch 6: 100%|██████████| 4004/4004 [00:00<00:00, 7805.08it/s, train_loss=0.965]\n",
            "Epoch 7:  32%|███▏      | 1280/4004 [00:00<00:00, 7788.31it/s, train_loss=0.919]"
          ],
          "name": "stderr"
        },
        {
          "output_type": "stream",
          "text": [
            "\n",
            "Losses: train - 0.2416076, test - 0.3690612\n",
            "F1 test - 0.8597\n",
            "ACC test - 0.8620\n"
          ],
          "name": "stdout"
        },
        {
          "output_type": "stream",
          "text": [
            "Epoch 7: 100%|██████████| 4004/4004 [00:00<00:00, 7892.70it/s, train_loss=0.851]\n",
            "Epoch 8:  32%|███▏      | 1280/4004 [00:00<00:00, 8179.77it/s, train_loss=0.815]"
          ],
          "name": "stderr"
        },
        {
          "output_type": "stream",
          "text": [
            "\n",
            "Losses: train - 0.1716487, test - 0.3685445\n",
            "F1 test - 0.8494\n",
            "ACC test - 0.8520\n"
          ],
          "name": "stdout"
        },
        {
          "output_type": "stream",
          "text": [
            "Epoch 8: 100%|██████████| 4004/4004 [00:00<00:00, 8059.86it/s, train_loss=0.761]\n",
            "Epoch 9:  32%|███▏      | 1280/4004 [00:00<00:00, 8154.70it/s, train_loss=0.732]"
          ],
          "name": "stderr"
        },
        {
          "output_type": "stream",
          "text": [
            "\n",
            "Losses: train - 0.1294266, test - 0.3296689\n",
            "F1 test - 0.8757\n",
            "ACC test - 0.8760\n"
          ],
          "name": "stdout"
        },
        {
          "output_type": "stream",
          "text": [
            "Epoch 9: 100%|██████████| 4004/4004 [00:00<00:00, 8046.38it/s, train_loss=0.688]\n"
          ],
          "name": "stderr"
        },
        {
          "output_type": "stream",
          "text": [
            "\n",
            "Losses: train - 0.1001436, test - 0.3339196\n",
            "F1 test - 0.8670\n",
            "ACC test - 0.8680\n",
            "Early stopping\n",
            "\n",
            "\n",
            "f1_average: 0.8607742393747025, std:0.005040419032471774\n",
            "acc_average: 0.862, std:0.00489897948556636\n"
          ],
          "name": "stdout"
        }
      ]
    },
    {
      "cell_type": "markdown",
      "metadata": {
        "id": "oM77zlhZOjY4",
        "colab_type": "text"
      },
      "source": [
        "### 3000"
      ]
    },
    {
      "cell_type": "code",
      "metadata": {
        "colab_type": "code",
        "id": "GK6Jn6yeOi3n",
        "colab": {}
      },
      "source": [
        "number_of_attemp_to_fit = 3"
      ],
      "execution_count": 0,
      "outputs": []
    },
    {
      "cell_type": "code",
      "metadata": {
        "colab_type": "code",
        "id": "f_dvTUHqOi3s",
        "colab": {}
      },
      "source": [
        "train_data, test_data, l2i = read_trec6('trec6_splited/trec6_splited_3k.csv')"
      ],
      "execution_count": 0,
      "outputs": []
    },
    {
      "cell_type": "code",
      "metadata": {
        "colab_type": "code",
        "id": "wciAlgrpOi3v",
        "colab": {}
      },
      "source": [
        "for instance in list(tqdm._instances):\n",
        "    tqdm._decr_instances(instance)"
      ],
      "execution_count": 0,
      "outputs": []
    },
    {
      "cell_type": "code",
      "metadata": {
        "colab_type": "code",
        "outputId": "e9f03bcf-a4b5-45c9-a431-a12d7b7aa80b",
        "id": "Mq93Q_68Oi3x",
        "colab": {
          "base_uri": "https://localhost:8080/",
          "height": 1000
        }
      },
      "source": [
        "f1_scores, acc_scores = [], []\n",
        "for _ in range(number_of_attemp_to_fit):\n",
        "  f1_scor, acc_scor = train_base_MLP(train_data, test_data)\n",
        "  f1_scores.append(f1_scor)\n",
        "  acc_scores.append(acc_scor)\n",
        "print(\"f1_average: {}, std:{}\".format(np.mean(f1_scores), np.std(f1_scores)))\n",
        "print(\"acc_average: {}, std:{}\".format(np.mean(acc_scores), np.std(acc_scores)))"
      ],
      "execution_count": 0,
      "outputs": [
        {
          "output_type": "stream",
          "text": [
            "Epoch 1: 100%|██████████| 3004/3004 [00:00<00:00, 8245.23it/s, train_loss=1.76]\n",
            "Epoch 2:  43%|████▎     | 1280/3004 [00:00<00:00, 8356.11it/s, train_loss=1.73]"
          ],
          "name": "stderr"
        },
        {
          "output_type": "stream",
          "text": [
            "\n",
            "Losses: train - 1.7579603, test - 1.6880293\n",
            "F1 test - 0.3895\n",
            "ACC test - 0.4620\n"
          ],
          "name": "stdout"
        },
        {
          "output_type": "stream",
          "text": [
            "Epoch 2: 100%|██████████| 3004/3004 [00:00<00:00, 7778.45it/s, train_loss=1.7]\n",
            "Epoch 3:  43%|████▎     | 1280/3004 [00:00<00:00, 7998.27it/s, train_loss=1.66]"
          ],
          "name": "stderr"
        },
        {
          "output_type": "stream",
          "text": [
            "\n",
            "Losses: train - 1.6356725, test - 1.5313315\n",
            "F1 test - 0.3680\n",
            "ACC test - 0.4800\n"
          ],
          "name": "stdout"
        },
        {
          "output_type": "stream",
          "text": [
            "Epoch 3: 100%|██████████| 3004/3004 [00:00<00:00, 8020.48it/s, train_loss=1.62]\n",
            "Epoch 4:  43%|████▎     | 1280/3004 [00:00<00:00, 8013.72it/s, train_loss=1.56]"
          ],
          "name": "stderr"
        },
        {
          "output_type": "stream",
          "text": [
            "\n",
            "Losses: train - 1.4532522, test - 1.2957138\n",
            "F1 test - 0.6051\n",
            "ACC test - 0.6340\n"
          ],
          "name": "stdout"
        },
        {
          "output_type": "stream",
          "text": [
            "Epoch 4: 100%|██████████| 3004/3004 [00:00<00:00, 7631.43it/s, train_loss=1.5]\n",
            "Epoch 5:  43%|████▎     | 1280/3004 [00:00<00:00, 7948.06it/s, train_loss=1.43]"
          ],
          "name": "stderr"
        },
        {
          "output_type": "stream",
          "text": [
            "\n",
            "Losses: train - 1.1512325, test - 0.9557265\n",
            "F1 test - 0.7439\n",
            "ACC test - 0.7540\n"
          ],
          "name": "stdout"
        },
        {
          "output_type": "stream",
          "text": [
            "Epoch 5: 100%|██████████| 3004/3004 [00:00<00:00, 7945.07it/s, train_loss=1.36]\n",
            "Epoch 6:  43%|████▎     | 1280/3004 [00:00<00:00, 8209.49it/s, train_loss=1.28]"
          ],
          "name": "stderr"
        },
        {
          "output_type": "stream",
          "text": [
            "\n",
            "Losses: train - 0.7837789, test - 0.6540528\n",
            "F1 test - 0.7919\n",
            "ACC test - 0.8020\n"
          ],
          "name": "stdout"
        },
        {
          "output_type": "stream",
          "text": [
            "Epoch 6: 100%|██████████| 3004/3004 [00:00<00:00, 7894.82it/s, train_loss=1.21]\n",
            "Epoch 7:  43%|████▎     | 1280/3004 [00:00<00:00, 7958.57it/s, train_loss=1.15]"
          ],
          "name": "stderr"
        },
        {
          "output_type": "stream",
          "text": [
            "\n",
            "Losses: train - 0.4969564, test - 0.5011367\n",
            "F1 test - 0.8288\n",
            "ACC test - 0.8320\n"
          ],
          "name": "stdout"
        },
        {
          "output_type": "stream",
          "text": [
            "Epoch 7: 100%|██████████| 3004/3004 [00:00<00:00, 7738.84it/s, train_loss=1.09]\n",
            "Epoch 8:  43%|████▎     | 1280/3004 [00:00<00:00, 8358.29it/s, train_loss=1.03]"
          ],
          "name": "stderr"
        },
        {
          "output_type": "stream",
          "text": [
            "\n",
            "Losses: train - 0.3375516, test - 0.4414454\n",
            "F1 test - 0.8389\n",
            "ACC test - 0.8420\n"
          ],
          "name": "stdout"
        },
        {
          "output_type": "stream",
          "text": [
            "Epoch 8: 100%|██████████| 3004/3004 [00:00<00:00, 8113.93it/s, train_loss=0.982]\n",
            "Epoch 9:  43%|████▎     | 1280/3004 [00:00<00:00, 8364.43it/s, train_loss=0.935]"
          ],
          "name": "stderr"
        },
        {
          "output_type": "stream",
          "text": [
            "\n",
            "Losses: train - 0.2417816, test - 0.4113153\n",
            "F1 test - 0.8617\n",
            "ACC test - 0.8640\n"
          ],
          "name": "stdout"
        },
        {
          "output_type": "stream",
          "text": [
            "Epoch 9: 100%|██████████| 3004/3004 [00:00<00:00, 7659.45it/s, train_loss=0.893]\n",
            "Epoch 10:  34%|███▍      | 1024/3004 [00:00<00:00, 7529.96it/s, train_loss=0.86]"
          ],
          "name": "stderr"
        },
        {
          "output_type": "stream",
          "text": [
            "\n",
            "Losses: train - 0.1827188, test - 0.3992971\n",
            "F1 test - 0.8683\n",
            "ACC test - 0.8700\n"
          ],
          "name": "stdout"
        },
        {
          "output_type": "stream",
          "text": [
            "Epoch 10: 100%|██████████| 3004/3004 [00:00<00:00, 7602.30it/s, train_loss=0.819]\n",
            "Epoch 1:   9%|▊         | 256/3004 [00:00<00:00, 4197.99it/s, train_loss=1.81]"
          ],
          "name": "stderr"
        },
        {
          "output_type": "stream",
          "text": [
            "\n",
            "Losses: train - 0.1446403, test - 0.4087874\n",
            "F1 test - 0.8580\n",
            "ACC test - 0.8600\n",
            "Early stopping\n",
            "\n",
            "\n"
          ],
          "name": "stdout"
        },
        {
          "output_type": "stream",
          "text": [
            "Epoch 1: 100%|██████████| 3004/3004 [00:00<00:00, 7859.98it/s, train_loss=1.76]\n",
            "Epoch 2:  43%|████▎     | 1280/3004 [00:00<00:00, 8587.39it/s, train_loss=1.73]"
          ],
          "name": "stderr"
        },
        {
          "output_type": "stream",
          "text": [
            "\n",
            "Losses: train - 1.7639987, test - 1.6958380\n",
            "F1 test - 0.3984\n",
            "ACC test - 0.4700\n"
          ],
          "name": "stdout"
        },
        {
          "output_type": "stream",
          "text": [
            "Epoch 2: 100%|██████████| 3004/3004 [00:00<00:00, 8278.55it/s, train_loss=1.7]\n",
            "Epoch 3:  43%|████▎     | 1280/3004 [00:00<00:00, 8486.85it/s, train_loss=1.66]"
          ],
          "name": "stderr"
        },
        {
          "output_type": "stream",
          "text": [
            "\n",
            "Losses: train - 1.6404723, test - 1.5471603\n",
            "F1 test - 0.3994\n",
            "ACC test - 0.5000\n"
          ],
          "name": "stdout"
        },
        {
          "output_type": "stream",
          "text": [
            "Epoch 3: 100%|██████████| 3004/3004 [00:00<00:00, 7958.55it/s, train_loss=1.62]\n",
            "Epoch 4:  34%|███▍      | 1024/3004 [00:00<00:00, 7407.01it/s, train_loss=1.57]"
          ],
          "name": "stderr"
        },
        {
          "output_type": "stream",
          "text": [
            "\n",
            "Losses: train - 1.4487982, test - 1.2945969\n",
            "F1 test - 0.6104\n",
            "ACC test - 0.6400\n"
          ],
          "name": "stdout"
        },
        {
          "output_type": "stream",
          "text": [
            "Epoch 4: 100%|██████████| 3004/3004 [00:00<00:00, 7787.97it/s, train_loss=1.5]\n",
            "Epoch 5:  43%|████▎     | 1280/3004 [00:00<00:00, 8568.10it/s, train_loss=1.43]"
          ],
          "name": "stderr"
        },
        {
          "output_type": "stream",
          "text": [
            "\n",
            "Losses: train - 1.1391274, test - 0.9330823\n",
            "F1 test - 0.7354\n",
            "ACC test - 0.7480\n"
          ],
          "name": "stdout"
        },
        {
          "output_type": "stream",
          "text": [
            "Epoch 5: 100%|██████████| 3004/3004 [00:00<00:00, 8125.06it/s, train_loss=1.35]\n",
            "Epoch 6:  43%|████▎     | 1280/3004 [00:00<00:00, 8591.77it/s, train_loss=1.28]"
          ],
          "name": "stderr"
        },
        {
          "output_type": "stream",
          "text": [
            "\n",
            "Losses: train - 0.7638702, test - 0.6380882\n",
            "F1 test - 0.7858\n",
            "ACC test - 0.7940\n"
          ],
          "name": "stdout"
        },
        {
          "output_type": "stream",
          "text": [
            "Epoch 6: 100%|██████████| 3004/3004 [00:00<00:00, 8160.36it/s, train_loss=1.21]\n",
            "Epoch 7:  43%|████▎     | 1280/3004 [00:00<00:00, 8735.31it/s, train_loss=1.14]"
          ],
          "name": "stderr"
        },
        {
          "output_type": "stream",
          "text": [
            "\n",
            "Losses: train - 0.4834626, test - 0.4982033\n",
            "F1 test - 0.8239\n",
            "ACC test - 0.8260\n"
          ],
          "name": "stdout"
        },
        {
          "output_type": "stream",
          "text": [
            "Epoch 7: 100%|██████████| 3004/3004 [00:00<00:00, 8286.46it/s, train_loss=1.08]\n",
            "Epoch 8:  43%|████▎     | 1280/3004 [00:00<00:00, 8104.06it/s, train_loss=1.02]"
          ],
          "name": "stderr"
        },
        {
          "output_type": "stream",
          "text": [
            "\n",
            "Losses: train - 0.3182016, test - 0.4330479\n",
            "F1 test - 0.8483\n",
            "ACC test - 0.8500\n"
          ],
          "name": "stdout"
        },
        {
          "output_type": "stream",
          "text": [
            "Epoch 8: 100%|██████████| 3004/3004 [00:00<00:00, 7992.74it/s, train_loss=0.973]\n",
            "Epoch 9:  43%|████▎     | 1280/3004 [00:00<00:00, 8649.09it/s, train_loss=0.926]"
          ],
          "name": "stderr"
        },
        {
          "output_type": "stream",
          "text": [
            "\n",
            "Losses: train - 0.2261835, test - 0.4126852\n",
            "F1 test - 0.8583\n",
            "ACC test - 0.8600\n"
          ],
          "name": "stdout"
        },
        {
          "output_type": "stream",
          "text": [
            "Epoch 9: 100%|██████████| 3004/3004 [00:00<00:00, 8417.35it/s, train_loss=0.884]\n",
            "Epoch 10:  43%|████▎     | 1280/3004 [00:00<00:00, 8429.54it/s, train_loss=0.845]"
          ],
          "name": "stderr"
        },
        {
          "output_type": "stream",
          "text": [
            "\n",
            "Losses: train - 0.1730441, test - 0.3989312\n",
            "F1 test - 0.8666\n",
            "ACC test - 0.8680\n"
          ],
          "name": "stdout"
        },
        {
          "output_type": "stream",
          "text": [
            "Epoch 10: 100%|██████████| 3004/3004 [00:00<00:00, 8051.15it/s, train_loss=0.809]\n",
            "Epoch 1:   0%|          | 0/3004 [00:00<?, ?it/s, train_loss=1.8]"
          ],
          "name": "stderr"
        },
        {
          "output_type": "stream",
          "text": [
            "\n",
            "Losses: train - 0.1361508, test - 0.4141454\n",
            "F1 test - 0.8539\n",
            "ACC test - 0.8560\n",
            "Early stopping\n",
            "\n",
            "\n"
          ],
          "name": "stdout"
        },
        {
          "output_type": "stream",
          "text": [
            "Epoch 1: 100%|██████████| 3004/3004 [00:00<00:00, 8398.51it/s, train_loss=1.75]\n",
            "Epoch 2:  43%|████▎     | 1280/3004 [00:00<00:00, 8300.13it/s, train_loss=1.72]"
          ],
          "name": "stderr"
        },
        {
          "output_type": "stream",
          "text": [
            "\n",
            "Losses: train - 1.7526103, test - 1.6842970\n",
            "F1 test - 0.4286\n",
            "ACC test - 0.5180\n"
          ],
          "name": "stdout"
        },
        {
          "output_type": "stream",
          "text": [
            "Epoch 2: 100%|██████████| 3004/3004 [00:00<00:00, 8046.38it/s, train_loss=1.69]\n",
            "Epoch 3:  43%|████▎     | 1280/3004 [00:00<00:00, 7981.65it/s, train_loss=1.65]"
          ],
          "name": "stderr"
        },
        {
          "output_type": "stream",
          "text": [
            "\n",
            "Losses: train - 1.6271136, test - 1.5483748\n",
            "F1 test - 0.4079\n",
            "ACC test - 0.5080\n"
          ],
          "name": "stdout"
        },
        {
          "output_type": "stream",
          "text": [
            "Epoch 3: 100%|██████████| 3004/3004 [00:00<00:00, 8116.17it/s, train_loss=1.61]\n",
            "Epoch 4:  43%|████▎     | 1280/3004 [00:00<00:00, 8458.76it/s, train_loss=1.55]"
          ],
          "name": "stderr"
        },
        {
          "output_type": "stream",
          "text": [
            "\n",
            "Losses: train - 1.4356576, test - 1.2955794\n",
            "F1 test - 0.6742\n",
            "ACC test - 0.6900\n"
          ],
          "name": "stdout"
        },
        {
          "output_type": "stream",
          "text": [
            "Epoch 4: 100%|██████████| 3004/3004 [00:00<00:00, 8095.31it/s, train_loss=1.48]\n",
            "Epoch 5:  43%|████▎     | 1280/3004 [00:00<00:00, 8034.30it/s, train_loss=1.41]"
          ],
          "name": "stderr"
        },
        {
          "output_type": "stream",
          "text": [
            "\n",
            "Losses: train - 1.1214278, test - 0.9386918\n",
            "F1 test - 0.7587\n",
            "ACC test - 0.7680\n"
          ],
          "name": "stdout"
        },
        {
          "output_type": "stream",
          "text": [
            "Epoch 5: 100%|██████████| 3004/3004 [00:00<00:00, 8053.16it/s, train_loss=1.34]\n",
            "Epoch 6:  43%|████▎     | 1280/3004 [00:00<00:00, 8052.16it/s, train_loss=1.26]"
          ],
          "name": "stderr"
        },
        {
          "output_type": "stream",
          "text": [
            "\n",
            "Losses: train - 0.7576866, test - 0.6450905\n",
            "F1 test - 0.7873\n",
            "ACC test - 0.7960\n"
          ],
          "name": "stdout"
        },
        {
          "output_type": "stream",
          "text": [
            "Epoch 6: 100%|██████████| 3004/3004 [00:00<00:00, 8202.53it/s, train_loss=1.2]\n",
            "Epoch 7:  43%|████▎     | 1280/3004 [00:00<00:00, 8521.86it/s, train_loss=1.13]"
          ],
          "name": "stderr"
        },
        {
          "output_type": "stream",
          "text": [
            "\n",
            "Losses: train - 0.4847154, test - 0.4945584\n",
            "F1 test - 0.8320\n",
            "ACC test - 0.8340\n"
          ],
          "name": "stdout"
        },
        {
          "output_type": "stream",
          "text": [
            "Epoch 7: 100%|██████████| 3004/3004 [00:00<00:00, 8226.30it/s, train_loss=1.07]\n",
            "Epoch 8:  43%|████▎     | 1280/3004 [00:00<00:00, 8090.19it/s, train_loss=1.02]"
          ],
          "name": "stderr"
        },
        {
          "output_type": "stream",
          "text": [
            "\n",
            "Losses: train - 0.3235619, test - 0.4425077\n",
            "F1 test - 0.8419\n",
            "ACC test - 0.8440\n"
          ],
          "name": "stdout"
        },
        {
          "output_type": "stream",
          "text": [
            "Epoch 8: 100%|██████████| 3004/3004 [00:00<00:00, 8176.85it/s, train_loss=0.967]\n",
            "Epoch 9:  43%|████▎     | 1280/3004 [00:00<00:00, 8303.72it/s, train_loss=0.921]"
          ],
          "name": "stderr"
        },
        {
          "output_type": "stream",
          "text": [
            "\n",
            "Losses: train - 0.2341669, test - 0.4233021\n",
            "F1 test - 0.8517\n",
            "ACC test - 0.8540\n"
          ],
          "name": "stdout"
        },
        {
          "output_type": "stream",
          "text": [
            "Epoch 9: 100%|██████████| 3004/3004 [00:00<00:00, 8027.05it/s, train_loss=0.88]\n",
            "Epoch 10:  43%|████▎     | 1280/3004 [00:00<00:00, 8601.46it/s, train_loss=0.841]"
          ],
          "name": "stderr"
        },
        {
          "output_type": "stream",
          "text": [
            "\n",
            "Losses: train - 0.1797369, test - 0.4098817\n",
            "F1 test - 0.8606\n",
            "ACC test - 0.8620\n"
          ],
          "name": "stdout"
        },
        {
          "output_type": "stream",
          "text": [
            "Epoch 10: 100%|██████████| 3004/3004 [00:00<00:00, 8131.95it/s, train_loss=0.806]\n",
            "Epoch 11:  43%|████▎     | 1280/3004 [00:00<00:00, 8715.81it/s, train_loss=0.773]"
          ],
          "name": "stderr"
        },
        {
          "output_type": "stream",
          "text": [
            "\n",
            "Losses: train - 0.1398295, test - 0.4024213\n",
            "F1 test - 0.8695\n",
            "ACC test - 0.8700\n"
          ],
          "name": "stdout"
        },
        {
          "output_type": "stream",
          "text": [
            "Epoch 11: 100%|██████████| 3004/3004 [00:00<00:00, 8111.53it/s, train_loss=0.743]\n"
          ],
          "name": "stderr"
        },
        {
          "output_type": "stream",
          "text": [
            "\n",
            "Losses: train - 0.1146861, test - 0.4179899\n",
            "F1 test - 0.8685\n",
            "ACC test - 0.8700\n",
            "Early stopping\n",
            "\n",
            "\n",
            "f1_average: 0.8601474628448275, std:0.006139001302686623\n",
            "acc_average: 0.862, std:0.005887840577551903\n"
          ],
          "name": "stdout"
        }
      ]
    },
    {
      "cell_type": "code",
      "metadata": {
        "id": "7xdjCwFHOmJi",
        "colab_type": "code",
        "colab": {}
      },
      "source": [
        ""
      ],
      "execution_count": 0,
      "outputs": []
    },
    {
      "cell_type": "markdown",
      "metadata": {
        "id": "BT43IwzqO4yk",
        "colab_type": "text"
      },
      "source": [
        "## Trec6 + EDA"
      ]
    },
    {
      "cell_type": "markdown",
      "metadata": {
        "id": "_Wz5nliUPHhY",
        "colab_type": "text"
      },
      "source": [
        "### 5000"
      ]
    },
    {
      "cell_type": "code",
      "metadata": {
        "id": "ziCyYlAUO61R",
        "colab_type": "code",
        "colab": {}
      },
      "source": [
        "aug_data =  read_eda_trec6('trec6_splited/augmented_with_eda/trec-6_clear_5k_samples.txt')"
      ],
      "execution_count": 0,
      "outputs": []
    },
    {
      "cell_type": "code",
      "metadata": {
        "colab_type": "code",
        "id": "AxquEG7SO-_T",
        "colab": {}
      },
      "source": [
        "number_of_attemp_to_fit = 3"
      ],
      "execution_count": 0,
      "outputs": []
    },
    {
      "cell_type": "code",
      "metadata": {
        "colab_type": "code",
        "id": "pzuPqWx2O-_Y",
        "colab": {}
      },
      "source": [
        "train_data, test_data, l2i = read_trec6('trec6_splited/trec6_splited_5k.csv')"
      ],
      "execution_count": 0,
      "outputs": []
    },
    {
      "cell_type": "code",
      "metadata": {
        "colab_type": "code",
        "id": "zz58HwEHO-_b",
        "colab": {}
      },
      "source": [
        "for instance in list(tqdm._instances):\n",
        "    tqdm._decr_instances(instance)"
      ],
      "execution_count": 0,
      "outputs": []
    },
    {
      "cell_type": "code",
      "metadata": {
        "colab_type": "code",
        "outputId": "733f88d8-7682-4f70-e2ca-be83172a0147",
        "id": "Y_oMU_ROO-_d",
        "colab": {
          "base_uri": "https://localhost:8080/",
          "height": 799
        }
      },
      "source": [
        "f1_scores, acc_scores = [], []\n",
        "for _ in range(number_of_attemp_to_fit):\n",
        "  f1_scor, acc_scor = train_base_MLP(pd.concat([train_data,aug_data]), test_data)\n",
        "  f1_scores.append(f1_scor)\n",
        "  acc_scores.append(acc_scor)\n",
        "print(\"f1_average: {}, std:{}\".format(np.mean(f1_scores), np.std(f1_scores)))\n",
        "print(\"acc_average: {}, std:{}\".format(np.mean(acc_scores), np.std(acc_scores)))"
      ],
      "execution_count": 0,
      "outputs": [
        {
          "output_type": "stream",
          "text": [
            "Epoch 1: 100%|██████████| 30036/30036 [00:12<00:00, 2360.47it/s, train_loss=0.8]\n",
            "Epoch 2:   1%|          | 256/30036 [00:00<00:12, 2351.27it/s, train_loss=0.793]"
          ],
          "name": "stderr"
        },
        {
          "output_type": "stream",
          "text": [
            "\n",
            "Losses: train - 0.7996461, test - 0.3556166\n",
            "F1 test - 0.8770\n",
            "ACC test - 0.8800\n"
          ],
          "name": "stdout"
        },
        {
          "output_type": "stream",
          "text": [
            "Epoch 2: 100%|██████████| 30036/30036 [00:12<00:00, 2334.05it/s, train_loss=0.412]\n"
          ],
          "name": "stderr"
        },
        {
          "output_type": "stream",
          "text": [
            "\n",
            "Losses: train - 0.0246154, test - 0.3848705\n",
            "F1 test - 0.8818\n",
            "ACC test - 0.8820\n",
            "Early stopping\n",
            "\n",
            "\n"
          ],
          "name": "stdout"
        },
        {
          "output_type": "stream",
          "text": [
            "Epoch 1: 100%|██████████| 30036/30036 [00:12<00:00, 2374.58it/s, train_loss=0.801]\n",
            "Epoch 2:   1%|          | 256/30036 [00:00<00:13, 2266.41it/s, train_loss=0.794]"
          ],
          "name": "stderr"
        },
        {
          "output_type": "stream",
          "text": [
            "\n",
            "Losses: train - 0.8006971, test - 0.3523705\n",
            "F1 test - 0.8839\n",
            "ACC test - 0.8860\n"
          ],
          "name": "stdout"
        },
        {
          "output_type": "stream",
          "text": [
            "Epoch 2: 100%|██████████| 30036/30036 [00:12<00:00, 2397.26it/s, train_loss=0.412]\n",
            "Epoch 3:   1%|          | 256/30036 [00:00<00:12, 2387.49it/s, train_loss=0.41]"
          ],
          "name": "stderr"
        },
        {
          "output_type": "stream",
          "text": [
            "\n",
            "Losses: train - 0.0235299, test - 0.3512460\n",
            "F1 test - 0.8846\n",
            "ACC test - 0.8860\n"
          ],
          "name": "stdout"
        },
        {
          "output_type": "stream",
          "text": [
            "Epoch 3: 100%|██████████| 30036/30036 [00:12<00:00, 2379.79it/s, train_loss=0.277]\n"
          ],
          "name": "stderr"
        },
        {
          "output_type": "stream",
          "text": [
            "\n",
            "Losses: train - 0.0068693, test - 0.4398605\n",
            "F1 test - 0.8861\n",
            "ACC test - 0.8880\n",
            "Early stopping\n",
            "\n",
            "\n"
          ],
          "name": "stdout"
        },
        {
          "output_type": "stream",
          "text": [
            "Epoch 1: 100%|██████████| 30036/30036 [00:12<00:00, 2366.38it/s, train_loss=0.789]\n",
            "Epoch 2:   1%|          | 256/30036 [00:00<00:12, 2440.40it/s, train_loss=0.782]"
          ],
          "name": "stderr"
        },
        {
          "output_type": "stream",
          "text": [
            "\n",
            "Losses: train - 0.7886799, test - 0.3596958\n",
            "F1 test - 0.8809\n",
            "ACC test - 0.8820\n"
          ],
          "name": "stdout"
        },
        {
          "output_type": "stream",
          "text": [
            "Epoch 2: 100%|██████████| 30036/30036 [00:12<00:00, 2400.12it/s, train_loss=0.405]\n"
          ],
          "name": "stderr"
        },
        {
          "output_type": "stream",
          "text": [
            "\n",
            "Losses: train - 0.0220808, test - 0.3745250\n",
            "F1 test - 0.8703\n",
            "ACC test - 0.8720\n",
            "Early stopping\n",
            "\n",
            "\n",
            "f1_average: 0.8793678657275764, std:0.006678311823296894\n",
            "acc_average: 0.8806666666666666, std:0.00659966329107445\n"
          ],
          "name": "stdout"
        }
      ]
    },
    {
      "cell_type": "markdown",
      "metadata": {
        "id": "co5X6c_tPXBE",
        "colab_type": "text"
      },
      "source": [
        "### 4000"
      ]
    },
    {
      "cell_type": "code",
      "metadata": {
        "colab_type": "code",
        "id": "W3QTLJsuPVeX",
        "colab": {}
      },
      "source": [
        "aug_data =  read_eda_trec6('trec6_splited/augmented_with_eda/trec-6_clear_4k_samples.txt')"
      ],
      "execution_count": 0,
      "outputs": []
    },
    {
      "cell_type": "code",
      "metadata": {
        "colab_type": "code",
        "id": "2FAbIIT6PVeb",
        "colab": {}
      },
      "source": [
        "number_of_attemp_to_fit = 3"
      ],
      "execution_count": 0,
      "outputs": []
    },
    {
      "cell_type": "code",
      "metadata": {
        "colab_type": "code",
        "id": "wB4N3SCoPVee",
        "colab": {}
      },
      "source": [
        "train_data, test_data, l2i = read_trec6('trec6_splited/trec6_splited_4k.csv')"
      ],
      "execution_count": 0,
      "outputs": []
    },
    {
      "cell_type": "code",
      "metadata": {
        "colab_type": "code",
        "id": "1PHYVwGHPVeg",
        "colab": {}
      },
      "source": [
        "for instance in list(tqdm._instances):\n",
        "    tqdm._decr_instances(instance)"
      ],
      "execution_count": 0,
      "outputs": []
    },
    {
      "cell_type": "code",
      "metadata": {
        "colab_type": "code",
        "outputId": "f9b62e35-6b45-4df0-e1a8-1052d14b793c",
        "id": "RXeP_mH3PVej",
        "colab": {
          "base_uri": "https://localhost:8080/",
          "height": 969
        }
      },
      "source": [
        "f1_scores, acc_scores = [], []\n",
        "for _ in range(number_of_attemp_to_fit):\n",
        "  f1_scor, acc_scor = train_base_MLP(pd.concat([train_data,aug_data]), test_data)\n",
        "  f1_scores.append(f1_scor)\n",
        "  acc_scores.append(acc_scor)\n",
        "print(\"f1_average: {}, std:{}\".format(np.mean(f1_scores), np.std(f1_scores)))\n",
        "print(\"acc_average: {}, std:{}\".format(np.mean(acc_scores), np.std(acc_scores)))"
      ],
      "execution_count": 0,
      "outputs": [
        {
          "output_type": "stream",
          "text": [
            "Epoch 1: 100%|██████████| 24024/24024 [00:09<00:00, 2630.66it/s, train_loss=0.938]\n",
            "Epoch 2:   2%|▏         | 512/24024 [00:00<00:08, 2794.94it/s, train_loss=0.92]"
          ],
          "name": "stderr"
        },
        {
          "output_type": "stream",
          "text": [
            "\n",
            "Losses: train - 0.9375964, test - 0.3780319\n",
            "F1 test - 0.8682\n",
            "ACC test - 0.8740\n"
          ],
          "name": "stdout"
        },
        {
          "output_type": "stream",
          "text": [
            "Epoch 2: 100%|██████████| 24024/24024 [00:08<00:00, 2687.12it/s, train_loss=0.487]\n",
            "Epoch 3:   2%|▏         | 512/24024 [00:00<00:08, 2741.66it/s, train_loss=0.482]"
          ],
          "name": "stderr"
        },
        {
          "output_type": "stream",
          "text": [
            "\n",
            "Losses: train - 0.0366893, test - 0.3562324\n",
            "F1 test - 0.8816\n",
            "ACC test - 0.8820\n"
          ],
          "name": "stdout"
        },
        {
          "output_type": "stream",
          "text": [
            "Epoch 3: 100%|██████████| 24024/24024 [00:08<00:00, 2700.47it/s, train_loss=0.328]\n"
          ],
          "name": "stderr"
        },
        {
          "output_type": "stream",
          "text": [
            "\n",
            "Losses: train - 0.0091293, test - 0.4174432\n",
            "F1 test - 0.8795\n",
            "ACC test - 0.8800\n",
            "Early stopping\n",
            "\n",
            "\n"
          ],
          "name": "stdout"
        },
        {
          "output_type": "stream",
          "text": [
            "Epoch 1: 100%|██████████| 24024/24024 [00:08<00:00, 2734.53it/s, train_loss=0.934]\n",
            "Epoch 2:   2%|▏         | 512/24024 [00:00<00:08, 2850.20it/s, train_loss=0.915]"
          ],
          "name": "stderr"
        },
        {
          "output_type": "stream",
          "text": [
            "\n",
            "Losses: train - 0.9336639, test - 0.4055919\n",
            "F1 test - 0.8618\n",
            "ACC test - 0.8640\n"
          ],
          "name": "stdout"
        },
        {
          "output_type": "stream",
          "text": [
            "Epoch 2: 100%|██████████| 24024/24024 [00:08<00:00, 2716.07it/s, train_loss=0.485]\n",
            "Epoch 3:   2%|▏         | 512/24024 [00:00<00:08, 2634.99it/s, train_loss=0.48]"
          ],
          "name": "stderr"
        },
        {
          "output_type": "stream",
          "text": [
            "\n",
            "Losses: train - 0.0368823, test - 0.3510730\n",
            "F1 test - 0.8853\n",
            "ACC test - 0.8860\n"
          ],
          "name": "stdout"
        },
        {
          "output_type": "stream",
          "text": [
            "Epoch 3: 100%|██████████| 24024/24024 [00:08<00:00, 2697.24it/s, train_loss=0.327]\n"
          ],
          "name": "stderr"
        },
        {
          "output_type": "stream",
          "text": [
            "\n",
            "Losses: train - 0.0093986, test - 0.4135130\n",
            "F1 test - 0.8745\n",
            "ACC test - 0.8740\n",
            "Early stopping\n",
            "\n",
            "\n"
          ],
          "name": "stdout"
        },
        {
          "output_type": "stream",
          "text": [
            "Epoch 1: 100%|██████████| 24024/24024 [00:08<00:00, 2727.89it/s, train_loss=0.953]\n",
            "Epoch 2:   2%|▏         | 512/24024 [00:00<00:08, 2789.87it/s, train_loss=0.936]"
          ],
          "name": "stderr"
        },
        {
          "output_type": "stream",
          "text": [
            "\n",
            "Losses: train - 0.9534977, test - 0.4034098\n",
            "F1 test - 0.8724\n",
            "ACC test - 0.8740\n"
          ],
          "name": "stdout"
        },
        {
          "output_type": "stream",
          "text": [
            "Epoch 2: 100%|██████████| 24024/24024 [00:08<00:00, 2710.54it/s, train_loss=0.495]\n",
            "Epoch 3:   2%|▏         | 512/24024 [00:00<00:08, 2632.60it/s, train_loss=0.49]"
          ],
          "name": "stderr"
        },
        {
          "output_type": "stream",
          "text": [
            "\n",
            "Losses: train - 0.0373052, test - 0.3570397\n",
            "F1 test - 0.8816\n",
            "ACC test - 0.8820\n"
          ],
          "name": "stdout"
        },
        {
          "output_type": "stream",
          "text": [
            "Epoch 3: 100%|██████████| 24024/24024 [00:08<00:00, 2686.16it/s, train_loss=0.333]\n"
          ],
          "name": "stderr"
        },
        {
          "output_type": "stream",
          "text": [
            "\n",
            "Losses: train - 0.0096596, test - 0.4119398\n",
            "F1 test - 0.8818\n",
            "ACC test - 0.8820\n",
            "Early stopping\n",
            "\n",
            "\n",
            "f1_average: 0.8785708696243617, std:0.0030582021971950354\n",
            "acc_average: 0.8786666666666667, std:0.003399346342395193\n"
          ],
          "name": "stdout"
        }
      ]
    },
    {
      "cell_type": "code",
      "metadata": {
        "id": "3suuVoEbPZQD",
        "colab_type": "code",
        "colab": {}
      },
      "source": [
        ""
      ],
      "execution_count": 0,
      "outputs": []
    },
    {
      "cell_type": "markdown",
      "metadata": {
        "id": "tA25HCHcPaMr",
        "colab_type": "text"
      },
      "source": [
        "### 3000"
      ]
    },
    {
      "cell_type": "code",
      "metadata": {
        "colab_type": "code",
        "id": "MnuUEPmAPZiG",
        "colab": {}
      },
      "source": [
        "aug_data =  read_eda_trec6('trec6_splited/augmented_with_eda/trec-6_clear_3k_samples.txt')"
      ],
      "execution_count": 0,
      "outputs": []
    },
    {
      "cell_type": "code",
      "metadata": {
        "colab_type": "code",
        "id": "TN5VuS5zPZiJ",
        "colab": {}
      },
      "source": [
        "number_of_attemp_to_fit = 3"
      ],
      "execution_count": 0,
      "outputs": []
    },
    {
      "cell_type": "code",
      "metadata": {
        "colab_type": "code",
        "id": "Gk5PH1yMPZiN",
        "colab": {}
      },
      "source": [
        "train_data, test_data, l2i = read_trec6('trec6_splited/trec6_splited_3k.csv')"
      ],
      "execution_count": 0,
      "outputs": []
    },
    {
      "cell_type": "code",
      "metadata": {
        "colab_type": "code",
        "id": "n-pjLGq-PZiQ",
        "colab": {}
      },
      "source": [
        "for instance in list(tqdm._instances):\n",
        "    tqdm._decr_instances(instance)"
      ],
      "execution_count": 0,
      "outputs": []
    },
    {
      "cell_type": "code",
      "metadata": {
        "colab_type": "code",
        "outputId": "d535e825-3ea2-4977-9cf7-c957abd7aa85",
        "id": "ZloOnEXWPZiS",
        "colab": {
          "base_uri": "https://localhost:8080/",
          "height": 1000
        }
      },
      "source": [
        "f1_scores, acc_scores = [], []\n",
        "for _ in range(number_of_attemp_to_fit):\n",
        "  f1_scor, acc_scor = train_base_MLP(pd.concat([train_data,aug_data]), test_data)\n",
        "  f1_scores.append(f1_scor)\n",
        "  acc_scores.append(acc_scor)\n",
        "print(\"f1_average: {}, std:{}\".format(np.mean(f1_scores), np.std(f1_scores)))\n",
        "print(\"acc_average: {}, std:{}\".format(np.mean(acc_scores), np.std(acc_scores)))"
      ],
      "execution_count": 0,
      "outputs": [
        {
          "output_type": "stream",
          "text": [
            "Epoch 1: 100%|██████████| 13319/13319 [00:02<00:00, 4606.86it/s, train_loss=1.29]\n",
            "Epoch 2:   4%|▍         | 512/13319 [00:00<00:02, 4298.88it/s, train_loss=1.24]"
          ],
          "name": "stderr"
        },
        {
          "output_type": "stream",
          "text": [
            "\n",
            "Losses: train - 1.2894137, test - 1.4533884\n",
            "F1 test - 0.3721\n",
            "ACC test - 0.5040\n"
          ],
          "name": "stdout"
        },
        {
          "output_type": "stream",
          "text": [
            "Epoch 2: 100%|██████████| 13319/13319 [00:02<00:00, 4505.55it/s, train_loss=0.779]\n",
            "Epoch 3:   4%|▍         | 512/13319 [00:00<00:02, 4688.07it/s, train_loss=0.76] "
          ],
          "name": "stderr"
        },
        {
          "output_type": "stream",
          "text": [
            "\n",
            "Losses: train - 0.2683131, test - 0.7508914\n",
            "F1 test - 0.8029\n",
            "ACC test - 0.8080\n"
          ],
          "name": "stdout"
        },
        {
          "output_type": "stream",
          "text": [
            "Epoch 3: 100%|██████████| 13319/13319 [00:02<00:00, 4648.35it/s, train_loss=0.537]\n",
            "Epoch 4:   4%|▍         | 512/13319 [00:00<00:02, 4578.08it/s, train_loss=0.528]"
          ],
          "name": "stderr"
        },
        {
          "output_type": "stream",
          "text": [
            "\n",
            "Losses: train - 0.0537219, test - 0.5249664\n",
            "F1 test - 0.8636\n",
            "ACC test - 0.8680\n"
          ],
          "name": "stdout"
        },
        {
          "output_type": "stream",
          "text": [
            "Epoch 4: 100%|██████████| 13319/13319 [00:02<00:00, 4618.24it/s, train_loss=0.407]\n",
            "Epoch 5:   4%|▍         | 512/13319 [00:00<00:02, 4807.66it/s, train_loss=0.402]"
          ],
          "name": "stderr"
        },
        {
          "output_type": "stream",
          "text": [
            "\n",
            "Losses: train - 0.0179582, test - 0.5036929\n",
            "F1 test - 0.8465\n",
            "ACC test - 0.8520\n"
          ],
          "name": "stdout"
        },
        {
          "output_type": "stream",
          "text": [
            "Epoch 5: 100%|██████████| 13319/13319 [00:02<00:00, 4636.43it/s, train_loss=0.328]\n"
          ],
          "name": "stderr"
        },
        {
          "output_type": "stream",
          "text": [
            "\n",
            "Losses: train - 0.0102478, test - 0.5697844\n",
            "F1 test - 0.7620\n",
            "ACC test - 0.7300\n",
            "Early stopping\n",
            "\n",
            "\n"
          ],
          "name": "stdout"
        },
        {
          "output_type": "stream",
          "text": [
            "Epoch 1: 100%|██████████| 13319/13319 [00:02<00:00, 4654.70it/s, train_loss=1.28]\n",
            "Epoch 2:   4%|▍         | 512/13319 [00:00<00:02, 4855.31it/s, train_loss=1.24]"
          ],
          "name": "stderr"
        },
        {
          "output_type": "stream",
          "text": [
            "\n",
            "Losses: train - 1.2846108, test - 1.4273550\n",
            "F1 test - 0.3787\n",
            "ACC test - 0.5100\n"
          ],
          "name": "stdout"
        },
        {
          "output_type": "stream",
          "text": [
            "Epoch 2: 100%|██████████| 13319/13319 [00:02<00:00, 4615.61it/s, train_loss=0.772]\n",
            "Epoch 3:   4%|▍         | 512/13319 [00:00<00:02, 4781.64it/s, train_loss=0.754]"
          ],
          "name": "stderr"
        },
        {
          "output_type": "stream",
          "text": [
            "\n",
            "Losses: train - 0.2586637, test - 0.7588813\n",
            "F1 test - 0.8036\n",
            "ACC test - 0.8060\n"
          ],
          "name": "stdout"
        },
        {
          "output_type": "stream",
          "text": [
            "Epoch 3: 100%|██████████| 13319/13319 [00:02<00:00, 4542.88it/s, train_loss=0.533]\n",
            "Epoch 4:   4%|▍         | 512/13319 [00:00<00:02, 4765.61it/s, train_loss=0.523]"
          ],
          "name": "stderr"
        },
        {
          "output_type": "stream",
          "text": [
            "\n",
            "Losses: train - 0.0555747, test - 0.5216506\n",
            "F1 test - 0.8547\n",
            "ACC test - 0.8580\n"
          ],
          "name": "stdout"
        },
        {
          "output_type": "stream",
          "text": [
            "Epoch 4: 100%|██████████| 13319/13319 [00:02<00:00, 4626.96it/s, train_loss=0.404]\n",
            "Epoch 5:   4%|▍         | 512/13319 [00:00<00:02, 4444.13it/s, train_loss=0.399]"
          ],
          "name": "stderr"
        },
        {
          "output_type": "stream",
          "text": [
            "\n",
            "Losses: train - 0.0189539, test - 0.5179998\n",
            "F1 test - 0.8498\n",
            "ACC test - 0.8560\n"
          ],
          "name": "stdout"
        },
        {
          "output_type": "stream",
          "text": [
            "Epoch 5: 100%|██████████| 13319/13319 [00:02<00:00, 4561.63it/s, train_loss=0.326]\n"
          ],
          "name": "stderr"
        },
        {
          "output_type": "stream",
          "text": [
            "\n",
            "Losses: train - 0.0104921, test - 0.5377932\n",
            "F1 test - 0.8537\n",
            "ACC test - 0.8600\n",
            "Early stopping\n",
            "\n",
            "\n"
          ],
          "name": "stdout"
        },
        {
          "output_type": "stream",
          "text": [
            "Epoch 1: 100%|██████████| 13319/13319 [00:02<00:00, 4565.75it/s, train_loss=1.3]\n",
            "Epoch 2:   4%|▍         | 512/13319 [00:00<00:03, 4137.52it/s, train_loss=1.26]"
          ],
          "name": "stderr"
        },
        {
          "output_type": "stream",
          "text": [
            "\n",
            "Losses: train - 1.3037238, test - 1.4701921\n",
            "F1 test - 0.3774\n",
            "ACC test - 0.5100\n"
          ],
          "name": "stdout"
        },
        {
          "output_type": "stream",
          "text": [
            "Epoch 2: 100%|██████████| 13319/13319 [00:02<00:00, 4455.22it/s, train_loss=0.786]\n",
            "Epoch 3:   4%|▍         | 512/13319 [00:00<00:02, 4759.00it/s, train_loss=0.767]"
          ],
          "name": "stderr"
        },
        {
          "output_type": "stream",
          "text": [
            "\n",
            "Losses: train - 0.2676542, test - 0.7954392\n",
            "F1 test - 0.8191\n",
            "ACC test - 0.8220\n"
          ],
          "name": "stdout"
        },
        {
          "output_type": "stream",
          "text": [
            "Epoch 3: 100%|██████████| 13319/13319 [00:02<00:00, 4584.51it/s, train_loss=0.542]\n",
            "Epoch 4:   4%|▍         | 512/13319 [00:00<00:02, 4842.19it/s, train_loss=0.532]"
          ],
          "name": "stderr"
        },
        {
          "output_type": "stream",
          "text": [
            "\n",
            "Losses: train - 0.0531681, test - 0.5721493\n",
            "F1 test - 0.8548\n",
            "ACC test - 0.8580\n"
          ],
          "name": "stdout"
        },
        {
          "output_type": "stream",
          "text": [
            "Epoch 4: 100%|██████████| 13319/13319 [00:02<00:00, 4588.15it/s, train_loss=0.411]\n",
            "Epoch 5:   4%|▍         | 512/13319 [00:00<00:02, 4749.64it/s, train_loss=0.405]"
          ],
          "name": "stderr"
        },
        {
          "output_type": "stream",
          "text": [
            "\n",
            "Losses: train - 0.0176552, test - 0.5564463\n",
            "F1 test - 0.8522\n",
            "ACC test - 0.8540\n"
          ],
          "name": "stdout"
        },
        {
          "output_type": "stream",
          "text": [
            "Epoch 5: 100%|██████████| 13319/13319 [00:02<00:00, 4568.42it/s, train_loss=0.33]\n"
          ],
          "name": "stderr"
        },
        {
          "output_type": "stream",
          "text": [
            "\n",
            "Losses: train - 0.0100443, test - 0.6252077\n",
            "F1 test - 0.7501\n",
            "ACC test - 0.7220\n",
            "Early stopping\n",
            "\n",
            "\n",
            "f1_average: 0.7885956957503697, std:0.04627219448066691\n",
            "acc_average: 0.7706666666666666, std:0.06325258009669558\n"
          ],
          "name": "stdout"
        }
      ]
    },
    {
      "cell_type": "markdown",
      "metadata": {
        "id": "F2c_yV3-QpIx",
        "colab_type": "text"
      },
      "source": [
        "# TREC-50"
      ]
    },
    {
      "cell_type": "markdown",
      "metadata": {
        "colab_type": "text",
        "id": "hKvi5K3KQoMZ"
      },
      "source": [
        "### 5000"
      ]
    },
    {
      "cell_type": "code",
      "metadata": {
        "id": "-wnQw84zQ76O",
        "colab_type": "code",
        "colab": {}
      },
      "source": [
        "import pandas as pd\n",
        "def read_trec50(file_name, typ=1):\n",
        "  train = pd.read_csv(file_name, index_col=0)\n",
        "  lbl2indx = {i:j for j, i in enumerate(train.labels.unique())}\n",
        "  train.columns = ['text', 'labels']\n",
        "  train['lbl_index'] = train.labels.apply(lambda x:lbl2indx[x])\n",
        "\n",
        "\n",
        "  labels_t = [i.split(' ', 1)[0].split(':')[typ] for i in open('TREC_10.label', encoding = 'windows-1252').readlines()]\n",
        "  texts_t = [ i.split(' ', 1)[1][:-1] for i in open('TREC_10.label', encoding = 'windows-1252').readlines()]\n",
        "  test  = pd.DataFrame({'text':texts_t, 'labels': labels_t})\n",
        "  test['lbl_index'] = test.labels.apply(lambda x:lbl2indx[x])\n",
        "\n",
        "  return train, test, lbl2indx"
      ],
      "execution_count": 0,
      "outputs": []
    },
    {
      "cell_type": "code",
      "metadata": {
        "colab_type": "code",
        "id": "A4K750LOQoMa",
        "colab": {}
      },
      "source": [
        "number_of_attemp_to_fit = 3"
      ],
      "execution_count": 0,
      "outputs": []
    },
    {
      "cell_type": "code",
      "metadata": {
        "colab_type": "code",
        "id": "7aqNtkiCQoMe",
        "colab": {}
      },
      "source": [
        "train_data, test_data, l2i = train_data, test_data, l2i = read_trec50('trec50_splited/trec50_5k.csv')"
      ],
      "execution_count": 0,
      "outputs": []
    },
    {
      "cell_type": "code",
      "metadata": {
        "colab_type": "code",
        "id": "4OpGg0QNQoMg",
        "colab": {}
      },
      "source": [
        "for instance in list(tqdm._instances):\n",
        "    tqdm._decr_instances(instance)"
      ],
      "execution_count": 0,
      "outputs": []
    },
    {
      "cell_type": "code",
      "metadata": {
        "colab_type": "code",
        "outputId": "f5ec3751-fef1-401e-9c75-3d5110d6a110",
        "id": "ryDNLdoUQoMj",
        "colab": {
          "base_uri": "https://localhost:8080/",
          "height": 1000
        }
      },
      "source": [
        "f1_scores, acc_scores = [], []\n",
        "for _ in range(number_of_attemp_to_fit):\n",
        "  f1_scor, acc_scor = train_base_MLP(train_data, test_data)\n",
        "  f1_scores.append(f1_scor)\n",
        "  acc_scores.append(acc_scor)\n",
        "print(\"f1_average: {}, std:{}\".format(np.mean(f1_scores), np.std(f1_scores)))\n",
        "print(\"acc_average: {}, std:{}\".format(np.mean(acc_scores), np.std(acc_scores)))"
      ],
      "execution_count": 0,
      "outputs": [
        {
          "output_type": "stream",
          "text": [
            "Epoch 1: 100%|██████████| 5009/5009 [00:00<00:00, 7577.97it/s, train_loss=3.71]\n",
            "Epoch 2:  20%|██        | 1024/5009 [00:00<00:00, 7418.74it/s, train_loss=3.65]"
          ],
          "name": "stderr"
        },
        {
          "output_type": "stream",
          "text": [
            "\n",
            "Losses: train - 3.7121615, test - 3.4895524\n",
            "F1 test - 0.2673\n",
            "ACC test - 0.3040\n"
          ],
          "name": "stdout"
        },
        {
          "output_type": "stream",
          "text": [
            "Epoch 2: 100%|██████████| 5009/5009 [00:00<00:00, 7582.91it/s, train_loss=3.43]\n",
            "Epoch 3:  26%|██▌       | 1280/5009 [00:00<00:00, 7611.17it/s, train_loss=3.34]"
          ],
          "name": "stderr"
        },
        {
          "output_type": "stream",
          "text": [
            "\n",
            "Losses: train - 3.1435879, test - 2.9023869\n",
            "F1 test - 0.0370\n",
            "ACC test - 0.1180\n"
          ],
          "name": "stdout"
        },
        {
          "output_type": "stream",
          "text": [
            "Epoch 3: 100%|██████████| 5009/5009 [00:00<00:00, 7559.02it/s, train_loss=3.16]\n",
            "Epoch 4:  20%|██        | 1024/5009 [00:00<00:00, 7470.61it/s, train_loss=3.09]"
          ],
          "name": "stderr"
        },
        {
          "output_type": "stream",
          "text": [
            "\n",
            "Losses: train - 2.6195131, test - 2.4588039\n",
            "F1 test - 0.3786\n",
            "ACC test - 0.4980\n"
          ],
          "name": "stdout"
        },
        {
          "output_type": "stream",
          "text": [
            "Epoch 4: 100%|██████████| 5009/5009 [00:00<00:00, 7440.05it/s, train_loss=2.9]\n",
            "Epoch 5:  20%|██        | 1024/5009 [00:00<00:00, 7807.10it/s, train_loss=2.84]"
          ],
          "name": "stderr"
        },
        {
          "output_type": "stream",
          "text": [
            "\n",
            "Losses: train - 2.1323293, test - 2.0192059\n",
            "F1 test - 0.4665\n",
            "ACC test - 0.5860\n"
          ],
          "name": "stdout"
        },
        {
          "output_type": "stream",
          "text": [
            "Epoch 5: 100%|██████████| 5009/5009 [00:00<00:00, 7598.34it/s, train_loss=2.66]\n",
            "Epoch 6:  20%|██        | 1024/5009 [00:00<00:00, 7514.36it/s, train_loss=2.6]"
          ],
          "name": "stderr"
        },
        {
          "output_type": "stream",
          "text": [
            "\n",
            "Losses: train - 1.6720436, test - 1.7230018\n",
            "F1 test - 0.5227\n",
            "ACC test - 0.6320\n"
          ],
          "name": "stdout"
        },
        {
          "output_type": "stream",
          "text": [
            "Epoch 6: 100%|██████████| 5009/5009 [00:00<00:00, 7352.55it/s, train_loss=2.43]\n",
            "Epoch 7:  26%|██▌       | 1280/5009 [00:00<00:00, 7841.40it/s, train_loss=2.36]"
          ],
          "name": "stderr"
        },
        {
          "output_type": "stream",
          "text": [
            "\n",
            "Losses: train - 1.2860011, test - 1.5106857\n",
            "F1 test - 0.5825\n",
            "ACC test - 0.6660\n"
          ],
          "name": "stdout"
        },
        {
          "output_type": "stream",
          "text": [
            "Epoch 7: 100%|██████████| 5009/5009 [00:00<00:00, 7440.02it/s, train_loss=2.22]\n",
            "Epoch 8:  20%|██        | 1024/5009 [00:00<00:00, 7845.59it/s, train_loss=2.18]"
          ],
          "name": "stderr"
        },
        {
          "output_type": "stream",
          "text": [
            "\n",
            "Losses: train - 0.9997723, test - 1.3546631\n",
            "F1 test - 0.6492\n",
            "ACC test - 0.7080\n"
          ],
          "name": "stdout"
        },
        {
          "output_type": "stream",
          "text": [
            "Epoch 8: 100%|██████████| 5009/5009 [00:00<00:00, 7264.40it/s, train_loss=2.04]\n",
            "Epoch 9:  26%|██▌       | 1280/5009 [00:00<00:00, 7799.52it/s, train_loss=1.99]"
          ],
          "name": "stderr"
        },
        {
          "output_type": "stream",
          "text": [
            "\n",
            "Losses: train - 0.7915857, test - 1.2548723\n",
            "F1 test - 0.6845\n",
            "ACC test - 0.7300\n"
          ],
          "name": "stdout"
        },
        {
          "output_type": "stream",
          "text": [
            "Epoch 9: 100%|██████████| 5009/5009 [00:00<00:00, 7702.06it/s, train_loss=1.89]\n",
            "Epoch 10:  20%|██        | 1024/5009 [00:00<00:00, 7389.42it/s, train_loss=1.85]"
          ],
          "name": "stderr"
        },
        {
          "output_type": "stream",
          "text": [
            "\n",
            "Losses: train - 0.6328278, test - 1.1676738\n",
            "F1 test - 0.6984\n",
            "ACC test - 0.7380\n"
          ],
          "name": "stdout"
        },
        {
          "output_type": "stream",
          "text": [
            "Epoch 10: 100%|██████████| 5009/5009 [00:00<00:00, 7414.34it/s, train_loss=1.75]\n",
            "Epoch 11:  20%|██        | 1024/5009 [00:00<00:00, 7309.29it/s, train_loss=1.72]"
          ],
          "name": "stderr"
        },
        {
          "output_type": "stream",
          "text": [
            "\n",
            "Losses: train - 0.5100150, test - 1.1113672\n",
            "F1 test - 0.7035\n",
            "ACC test - 0.7440\n"
          ],
          "name": "stdout"
        },
        {
          "output_type": "stream",
          "text": [
            "Epoch 11: 100%|██████████| 5009/5009 [00:00<00:00, 7302.49it/s, train_loss=1.63]\n",
            "Epoch 12:  20%|██        | 1024/5009 [00:00<00:00, 7827.05it/s, train_loss=1.6] "
          ],
          "name": "stderr"
        },
        {
          "output_type": "stream",
          "text": [
            "\n",
            "Losses: train - 0.4154409, test - 1.0653337\n",
            "F1 test - 0.7128\n",
            "ACC test - 0.7460\n"
          ],
          "name": "stdout"
        },
        {
          "output_type": "stream",
          "text": [
            "Epoch 12: 100%|██████████| 5009/5009 [00:00<00:00, 7414.44it/s, train_loss=1.52]\n",
            "Epoch 13:  20%|██        | 1024/5009 [00:00<00:00, 7556.08it/s, train_loss=1.5]"
          ],
          "name": "stderr"
        },
        {
          "output_type": "stream",
          "text": [
            "\n",
            "Losses: train - 0.3356737, test - 1.0323811\n",
            "F1 test - 0.7295\n",
            "ACC test - 0.7600\n"
          ],
          "name": "stdout"
        },
        {
          "output_type": "stream",
          "text": [
            "Epoch 13: 100%|██████████| 5009/5009 [00:00<00:00, 7490.13it/s, train_loss=1.43]\n",
            "Epoch 14:  20%|██        | 1024/5009 [00:00<00:00, 7978.08it/s, train_loss=1.4] "
          ],
          "name": "stderr"
        },
        {
          "output_type": "stream",
          "text": [
            "\n",
            "Losses: train - 0.2779515, test - 1.0110285\n",
            "F1 test - 0.7407\n",
            "ACC test - 0.7660\n"
          ],
          "name": "stdout"
        },
        {
          "output_type": "stream",
          "text": [
            "Epoch 14: 100%|██████████| 5009/5009 [00:00<00:00, 7295.82it/s, train_loss=1.34]\n",
            "Epoch 15:  20%|██        | 1024/5009 [00:00<00:00, 7372.37it/s, train_loss=1.32]"
          ],
          "name": "stderr"
        },
        {
          "output_type": "stream",
          "text": [
            "\n",
            "Losses: train - 0.2330720, test - 0.9867034\n",
            "F1 test - 0.7517\n",
            "ACC test - 0.7720\n"
          ],
          "name": "stdout"
        },
        {
          "output_type": "stream",
          "text": [
            "Epoch 15: 100%|██████████| 5009/5009 [00:00<00:00, 7209.42it/s, train_loss=1.26]\n",
            "Epoch 16:  20%|██        | 1024/5009 [00:00<00:00, 7676.07it/s, train_loss=1.25]"
          ],
          "name": "stderr"
        },
        {
          "output_type": "stream",
          "text": [
            "\n",
            "Losses: train - 0.1940764, test - 0.9775152\n",
            "F1 test - 0.7638\n",
            "ACC test - 0.7820\n"
          ],
          "name": "stdout"
        },
        {
          "output_type": "stream",
          "text": [
            "Epoch 16: 100%|██████████| 5009/5009 [00:00<00:00, 7512.52it/s, train_loss=1.19]\n",
            "Epoch 17:  20%|██        | 1024/5009 [00:00<00:00, 7378.08it/s, train_loss=1.18]"
          ],
          "name": "stderr"
        },
        {
          "output_type": "stream",
          "text": [
            "\n",
            "Losses: train - 0.1627213, test - 0.9632583\n",
            "F1 test - 0.7666\n",
            "ACC test - 0.7840\n"
          ],
          "name": "stdout"
        },
        {
          "output_type": "stream",
          "text": [
            "Epoch 17: 100%|██████████| 5009/5009 [00:00<00:00, 7309.59it/s, train_loss=1.13]\n",
            "Epoch 18:  20%|██        | 1024/5009 [00:00<00:00, 7835.52it/s, train_loss=1.12]"
          ],
          "name": "stderr"
        },
        {
          "output_type": "stream",
          "text": [
            "\n",
            "Losses: train - 0.1424738, test - 0.9552814\n",
            "F1 test - 0.7660\n",
            "ACC test - 0.7860\n"
          ],
          "name": "stdout"
        },
        {
          "output_type": "stream",
          "text": [
            "Epoch 18: 100%|██████████| 5009/5009 [00:00<00:00, 7358.05it/s, train_loss=1.08]\n",
            "Epoch 19:  26%|██▌       | 1280/5009 [00:00<00:00, 7576.54it/s, train_loss=1.06]"
          ],
          "name": "stderr"
        },
        {
          "output_type": "stream",
          "text": [
            "\n",
            "Losses: train - 0.1252411, test - 0.9546295\n",
            "F1 test - 0.7695\n",
            "ACC test - 0.7840\n"
          ],
          "name": "stdout"
        },
        {
          "output_type": "stream",
          "text": [
            "Epoch 19: 100%|██████████| 5009/5009 [00:00<00:00, 7392.21it/s, train_loss=1.03]\n"
          ],
          "name": "stderr"
        },
        {
          "output_type": "stream",
          "text": [
            "\n",
            "Losses: train - 0.1075380, test - 0.9553969\n",
            "F1 test - 0.7611\n",
            "ACC test - 0.7800\n",
            "Early stopping\n",
            "\n",
            "\n"
          ],
          "name": "stdout"
        },
        {
          "output_type": "stream",
          "text": [
            "Epoch 1: 100%|██████████| 5009/5009 [00:00<00:00, 7604.32it/s, train_loss=3.75]\n",
            "Epoch 2:  26%|██▌       | 1280/5009 [00:00<00:00, 7884.62it/s, train_loss=3.69]"
          ],
          "name": "stderr"
        },
        {
          "output_type": "stream",
          "text": [
            "\n",
            "Losses: train - 3.7493675, test - 3.6029588\n",
            "F1 test - 0.1217\n",
            "ACC test - 0.2500\n"
          ],
          "name": "stdout"
        },
        {
          "output_type": "stream",
          "text": [
            "Epoch 2: 100%|██████████| 5009/5009 [00:00<00:00, 7682.97it/s, train_loss=3.48]\n",
            "Epoch 3:  20%|██        | 1024/5009 [00:00<00:00, 7318.22it/s, train_loss=3.41]"
          ],
          "name": "stderr"
        },
        {
          "output_type": "stream",
          "text": [
            "\n",
            "Losses: train - 3.2182960, test - 3.0191897\n",
            "F1 test - 0.0890\n",
            "ACC test - 0.2180\n"
          ],
          "name": "stdout"
        },
        {
          "output_type": "stream",
          "text": [
            "Epoch 3: 100%|██████████| 5009/5009 [00:00<00:00, 7604.14it/s, train_loss=3.2]\n",
            "Epoch 4:  26%|██▌       | 1280/5009 [00:00<00:00, 7807.87it/s, train_loss=3.12]"
          ],
          "name": "stderr"
        },
        {
          "output_type": "stream",
          "text": [
            "\n",
            "Losses: train - 2.6276291, test - 2.4847560\n",
            "F1 test - 0.3883\n",
            "ACC test - 0.5060\n"
          ],
          "name": "stdout"
        },
        {
          "output_type": "stream",
          "text": [
            "Epoch 4: 100%|██████████| 5009/5009 [00:00<00:00, 7534.67it/s, train_loss=2.93]\n",
            "Epoch 5:  26%|██▌       | 1280/5009 [00:00<00:00, 8139.73it/s, train_loss=2.85]"
          ],
          "name": "stderr"
        },
        {
          "output_type": "stream",
          "text": [
            "\n",
            "Losses: train - 2.1099577, test - 2.0178828\n",
            "F1 test - 0.4862\n",
            "ACC test - 0.5940\n"
          ],
          "name": "stdout"
        },
        {
          "output_type": "stream",
          "text": [
            "Epoch 5: 100%|██████████| 5009/5009 [00:00<00:00, 7912.70it/s, train_loss=2.67]\n",
            "Epoch 6:  20%|██        | 1024/5009 [00:00<00:00, 6936.39it/s, train_loss=2.61]"
          ],
          "name": "stderr"
        },
        {
          "output_type": "stream",
          "text": [
            "\n",
            "Losses: train - 1.6451063, test - 1.7050618\n",
            "F1 test - 0.5267\n",
            "ACC test - 0.6300\n"
          ],
          "name": "stdout"
        },
        {
          "output_type": "stream",
          "text": [
            "Epoch 6: 100%|██████████| 5009/5009 [00:00<00:00, 6862.84it/s, train_loss=2.44]\n",
            "Epoch 7:  20%|██        | 1024/5009 [00:00<00:00, 6751.64it/s, train_loss=2.38]"
          ],
          "name": "stderr"
        },
        {
          "output_type": "stream",
          "text": [
            "\n",
            "Losses: train - 1.2664822, test - 1.4893435\n",
            "F1 test - 0.6143\n",
            "ACC test - 0.6880\n"
          ],
          "name": "stdout"
        },
        {
          "output_type": "stream",
          "text": [
            "Epoch 7: 100%|██████████| 5009/5009 [00:00<00:00, 7236.96it/s, train_loss=2.23]\n",
            "Epoch 8:  26%|██▌       | 1280/5009 [00:00<00:00, 7819.95it/s, train_loss=2.17]"
          ],
          "name": "stderr"
        },
        {
          "output_type": "stream",
          "text": [
            "\n",
            "Losses: train - 0.9809790, test - 1.3306842\n",
            "F1 test - 0.6628\n",
            "ACC test - 0.7160\n"
          ],
          "name": "stdout"
        },
        {
          "output_type": "stream",
          "text": [
            "Epoch 8: 100%|██████████| 5009/5009 [00:00<00:00, 7311.63it/s, train_loss=2.05]\n",
            "Epoch 9:  26%|██▌       | 1280/5009 [00:00<00:00, 8049.78it/s, train_loss=2]"
          ],
          "name": "stderr"
        },
        {
          "output_type": "stream",
          "text": [
            "\n",
            "Losses: train - 0.7766229, test - 1.2258077\n",
            "F1 test - 0.6851\n",
            "ACC test - 0.7280\n"
          ],
          "name": "stdout"
        },
        {
          "output_type": "stream",
          "text": [
            "Epoch 9: 100%|██████████| 5009/5009 [00:00<00:00, 7697.71it/s, train_loss=1.89]\n",
            "Epoch 10:  20%|██        | 1024/5009 [00:00<00:00, 7615.72it/s, train_loss=1.85]"
          ],
          "name": "stderr"
        },
        {
          "output_type": "stream",
          "text": [
            "\n",
            "Losses: train - 0.6227636, test - 1.1471769\n",
            "F1 test - 0.7068\n",
            "ACC test - 0.7480\n"
          ],
          "name": "stdout"
        },
        {
          "output_type": "stream",
          "text": [
            "Epoch 10: 100%|██████████| 5009/5009 [00:00<00:00, 7297.40it/s, train_loss=1.75]\n",
            "Epoch 11:  20%|██        | 1024/5009 [00:00<00:00, 7244.08it/s, train_loss=1.72]"
          ],
          "name": "stderr"
        },
        {
          "output_type": "stream",
          "text": [
            "\n",
            "Losses: train - 0.5053128, test - 1.1090925\n",
            "F1 test - 0.7154\n",
            "ACC test - 0.7520\n"
          ],
          "name": "stdout"
        },
        {
          "output_type": "stream",
          "text": [
            "Epoch 11: 100%|██████████| 5009/5009 [00:00<00:00, 7656.19it/s, train_loss=1.63]\n",
            "Epoch 12:  20%|██        | 1024/5009 [00:00<00:00, 7305.96it/s, train_loss=1.6]"
          ],
          "name": "stderr"
        },
        {
          "output_type": "stream",
          "text": [
            "\n",
            "Losses: train - 0.4122637, test - 1.0477301\n",
            "F1 test - 0.7235\n",
            "ACC test - 0.7580\n"
          ],
          "name": "stdout"
        },
        {
          "output_type": "stream",
          "text": [
            "Epoch 12: 100%|██████████| 5009/5009 [00:00<00:00, 7538.85it/s, train_loss=1.52]\n",
            "Epoch 13:  26%|██▌       | 1280/5009 [00:00<00:00, 7848.32it/s, train_loss=1.49]"
          ],
          "name": "stderr"
        },
        {
          "output_type": "stream",
          "text": [
            "\n",
            "Losses: train - 0.3382127, test - 1.0262710\n",
            "F1 test - 0.7340\n",
            "ACC test - 0.7640\n"
          ],
          "name": "stdout"
        },
        {
          "output_type": "stream",
          "text": [
            "Epoch 13: 100%|██████████| 5009/5009 [00:00<00:00, 7668.57it/s, train_loss=1.43]\n",
            "Epoch 14:  20%|██        | 1024/5009 [00:00<00:00, 7483.32it/s, train_loss=1.4]"
          ],
          "name": "stderr"
        },
        {
          "output_type": "stream",
          "text": [
            "\n",
            "Losses: train - 0.2770098, test - 1.0033339\n",
            "F1 test - 0.7452\n",
            "ACC test - 0.7700\n"
          ],
          "name": "stdout"
        },
        {
          "output_type": "stream",
          "text": [
            "Epoch 14: 100%|██████████| 5009/5009 [00:00<00:00, 7419.60it/s, train_loss=1.34]\n",
            "Epoch 15:  20%|██        | 1024/5009 [00:00<00:00, 7814.02it/s, train_loss=1.32]"
          ],
          "name": "stderr"
        },
        {
          "output_type": "stream",
          "text": [
            "\n",
            "Losses: train - 0.2336635, test - 0.9774005\n",
            "F1 test - 0.7569\n",
            "ACC test - 0.7780\n"
          ],
          "name": "stdout"
        },
        {
          "output_type": "stream",
          "text": [
            "Epoch 15: 100%|██████████| 5009/5009 [00:00<00:00, 7563.61it/s, train_loss=1.26]\n",
            "Epoch 16:  26%|██▌       | 1280/5009 [00:00<00:00, 8167.56it/s, train_loss=1.24]"
          ],
          "name": "stderr"
        },
        {
          "output_type": "stream",
          "text": [
            "\n",
            "Losses: train - 0.1966314, test - 0.9495750\n",
            "F1 test - 0.7639\n",
            "ACC test - 0.7820\n"
          ],
          "name": "stdout"
        },
        {
          "output_type": "stream",
          "text": [
            "Epoch 16: 100%|██████████| 5009/5009 [00:00<00:00, 7668.32it/s, train_loss=1.2]\n",
            "Epoch 17:  26%|██▌       | 1280/5009 [00:00<00:00, 8017.50it/s, train_loss=1.18]"
          ],
          "name": "stderr"
        },
        {
          "output_type": "stream",
          "text": [
            "\n",
            "Losses: train - 0.1684770, test - 0.9467742\n",
            "F1 test - 0.7712\n",
            "ACC test - 0.7880\n"
          ],
          "name": "stdout"
        },
        {
          "output_type": "stream",
          "text": [
            "Epoch 17: 100%|██████████| 5009/5009 [00:00<00:00, 7644.49it/s, train_loss=1.13]\n",
            "Epoch 18:  26%|██▌       | 1280/5009 [00:00<00:00, 7866.79it/s, train_loss=1.12]"
          ],
          "name": "stderr"
        },
        {
          "output_type": "stream",
          "text": [
            "\n",
            "Losses: train - 0.1445301, test - 0.9434350\n",
            "F1 test - 0.7758\n",
            "ACC test - 0.7880\n"
          ],
          "name": "stdout"
        },
        {
          "output_type": "stream",
          "text": [
            "Epoch 18: 100%|██████████| 5009/5009 [00:00<00:00, 7406.89it/s, train_loss=1.08]\n",
            "Epoch 19:  20%|██        | 1024/5009 [00:00<00:00, 7606.95it/s, train_loss=1.06]"
          ],
          "name": "stderr"
        },
        {
          "output_type": "stream",
          "text": [
            "\n",
            "Losses: train - 0.1273034, test - 0.9303226\n",
            "F1 test - 0.7762\n",
            "ACC test - 0.7880\n"
          ],
          "name": "stdout"
        },
        {
          "output_type": "stream",
          "text": [
            "Epoch 19: 100%|██████████| 5009/5009 [00:00<00:00, 7556.66it/s, train_loss=1.03]\n",
            "Epoch 20:  20%|██        | 1024/5009 [00:00<00:00, 7657.26it/s, train_loss=1.01]"
          ],
          "name": "stderr"
        },
        {
          "output_type": "stream",
          "text": [
            "\n",
            "Losses: train - 0.1102697, test - 0.9238633\n",
            "F1 test - 0.7847\n",
            "ACC test - 0.7960\n"
          ],
          "name": "stdout"
        },
        {
          "output_type": "stream",
          "text": [
            "Epoch 20: 100%|██████████| 5009/5009 [00:00<00:00, 7531.59it/s, train_loss=0.98]\n"
          ],
          "name": "stderr"
        },
        {
          "output_type": "stream",
          "text": [
            "\n",
            "Losses: train - 0.0985166, test - 0.9350842\n",
            "F1 test - 0.7845\n",
            "ACC test - 0.7960\n",
            "Early stopping\n",
            "\n",
            "\n"
          ],
          "name": "stdout"
        },
        {
          "output_type": "stream",
          "text": [
            "Epoch 1: 100%|██████████| 5009/5009 [00:00<00:00, 7410.62it/s, train_loss=3.73]\n",
            "Epoch 2:  20%|██        | 1024/5009 [00:00<00:00, 7589.19it/s, train_loss=3.68]"
          ],
          "name": "stderr"
        },
        {
          "output_type": "stream",
          "text": [
            "\n",
            "Losses: train - 3.7346722, test - 3.5322093\n",
            "F1 test - 0.0218\n",
            "ACC test - 0.1100\n"
          ],
          "name": "stdout"
        },
        {
          "output_type": "stream",
          "text": [
            "Epoch 2: 100%|██████████| 5009/5009 [00:00<00:00, 7425.14it/s, train_loss=3.45]\n",
            "Epoch 3:  20%|██        | 1024/5009 [00:00<00:00, 7347.62it/s, train_loss=3.38]"
          ],
          "name": "stderr"
        },
        {
          "output_type": "stream",
          "text": [
            "\n",
            "Losses: train - 3.1631261, test - 2.9057748\n",
            "F1 test - 0.0793\n",
            "ACC test - 0.1900\n"
          ],
          "name": "stdout"
        },
        {
          "output_type": "stream",
          "text": [
            "Epoch 3: 100%|██████████| 5009/5009 [00:00<00:00, 7555.01it/s, train_loss=3.17]\n",
            "Epoch 4:  26%|██▌       | 1280/5009 [00:00<00:00, 8297.99it/s, train_loss=3.09]"
          ],
          "name": "stderr"
        },
        {
          "output_type": "stream",
          "text": [
            "\n",
            "Losses: train - 2.6112718, test - 2.4612987\n",
            "F1 test - 0.3984\n",
            "ACC test - 0.5000\n"
          ],
          "name": "stdout"
        },
        {
          "output_type": "stream",
          "text": [
            "Epoch 4: 100%|██████████| 5009/5009 [00:00<00:00, 7481.29it/s, train_loss=2.91]\n",
            "Epoch 5:  26%|██▌       | 1280/5009 [00:00<00:00, 8270.94it/s, train_loss=2.83]"
          ],
          "name": "stderr"
        },
        {
          "output_type": "stream",
          "text": [
            "\n",
            "Losses: train - 2.1164101, test - 2.0111163\n",
            "F1 test - 0.4673\n",
            "ACC test - 0.5880\n"
          ],
          "name": "stdout"
        },
        {
          "output_type": "stream",
          "text": [
            "Epoch 5: 100%|██████████| 5009/5009 [00:00<00:00, 7867.96it/s, train_loss=2.66]\n",
            "Epoch 6:  26%|██▌       | 1280/5009 [00:00<00:00, 7393.85it/s, train_loss=2.58]"
          ],
          "name": "stderr"
        },
        {
          "output_type": "stream",
          "text": [
            "\n",
            "Losses: train - 1.6569689, test - 1.7191155\n",
            "F1 test - 0.5352\n",
            "ACC test - 0.6360\n"
          ],
          "name": "stdout"
        },
        {
          "output_type": "stream",
          "text": [
            "Epoch 6: 100%|██████████| 5009/5009 [00:00<00:00, 7533.15it/s, train_loss=2.43]\n",
            "Epoch 7:  20%|██        | 1024/5009 [00:00<00:00, 7675.29it/s, train_loss=2.37]"
          ],
          "name": "stderr"
        },
        {
          "output_type": "stream",
          "text": [
            "\n",
            "Losses: train - 1.2773413, test - 1.5023335\n",
            "F1 test - 0.6022\n",
            "ACC test - 0.6820\n"
          ],
          "name": "stdout"
        },
        {
          "output_type": "stream",
          "text": [
            "Epoch 7: 100%|██████████| 5009/5009 [00:00<00:00, 7662.12it/s, train_loss=2.22]\n",
            "Epoch 8:  20%|██        | 1024/5009 [00:00<00:00, 7597.95it/s, train_loss=2.17]"
          ],
          "name": "stderr"
        },
        {
          "output_type": "stream",
          "text": [
            "\n",
            "Losses: train - 0.9883770, test - 1.3441665\n",
            "F1 test - 0.6335\n",
            "ACC test - 0.7020\n"
          ],
          "name": "stdout"
        },
        {
          "output_type": "stream",
          "text": [
            "Epoch 8: 100%|██████████| 5009/5009 [00:00<00:00, 7258.94it/s, train_loss=2.04]\n",
            "Epoch 9:  20%|██        | 1024/5009 [00:00<00:00, 8018.20it/s, train_loss=2]   "
          ],
          "name": "stderr"
        },
        {
          "output_type": "stream",
          "text": [
            "\n",
            "Losses: train - 0.7816184, test - 1.2461967\n",
            "F1 test - 0.6717\n",
            "ACC test - 0.7240\n"
          ],
          "name": "stdout"
        },
        {
          "output_type": "stream",
          "text": [
            "Epoch 9: 100%|██████████| 5009/5009 [00:00<00:00, 7621.46it/s, train_loss=1.88]\n",
            "Epoch 10:  20%|██        | 1024/5009 [00:00<00:00, 7568.83it/s, train_loss=1.85]"
          ],
          "name": "stderr"
        },
        {
          "output_type": "stream",
          "text": [
            "\n",
            "Losses: train - 0.6243713, test - 1.1676162\n",
            "F1 test - 0.6910\n",
            "ACC test - 0.7360\n"
          ],
          "name": "stdout"
        },
        {
          "output_type": "stream",
          "text": [
            "Epoch 10: 100%|██████████| 5009/5009 [00:00<00:00, 7519.15it/s, train_loss=1.75]\n",
            "Epoch 11:  20%|██        | 1024/5009 [00:00<00:00, 7974.73it/s, train_loss=1.71]"
          ],
          "name": "stderr"
        },
        {
          "output_type": "stream",
          "text": [
            "\n",
            "Losses: train - 0.5077672, test - 1.1166565\n",
            "F1 test - 0.7200\n",
            "ACC test - 0.7560\n"
          ],
          "name": "stdout"
        },
        {
          "output_type": "stream",
          "text": [
            "Epoch 11: 100%|██████████| 5009/5009 [00:00<00:00, 7472.04it/s, train_loss=1.63]\n",
            "Epoch 12:  26%|██▌       | 1280/5009 [00:00<00:00, 8079.23it/s, train_loss=1.59]"
          ],
          "name": "stderr"
        },
        {
          "output_type": "stream",
          "text": [
            "\n",
            "Losses: train - 0.4159248, test - 1.0600238\n",
            "F1 test - 0.7317\n",
            "ACC test - 0.7640\n"
          ],
          "name": "stdout"
        },
        {
          "output_type": "stream",
          "text": [
            "Epoch 12: 100%|██████████| 5009/5009 [00:00<00:00, 7516.25it/s, train_loss=1.52]\n",
            "Epoch 13:  26%|██▌       | 1280/5009 [00:00<00:00, 7808.80it/s, train_loss=1.49]"
          ],
          "name": "stderr"
        },
        {
          "output_type": "stream",
          "text": [
            "\n",
            "Losses: train - 0.3395737, test - 1.0419401\n",
            "F1 test - 0.7391\n",
            "ACC test - 0.7680\n"
          ],
          "name": "stdout"
        },
        {
          "output_type": "stream",
          "text": [
            "Epoch 13: 100%|██████████| 5009/5009 [00:00<00:00, 7479.20it/s, train_loss=1.42]\n",
            "Epoch 14:  20%|██        | 1024/5009 [00:00<00:00, 7394.56it/s, train_loss=1.4]"
          ],
          "name": "stderr"
        },
        {
          "output_type": "stream",
          "text": [
            "\n",
            "Losses: train - 0.2771848, test - 1.0061440\n",
            "F1 test - 0.7482\n",
            "ACC test - 0.7740\n"
          ],
          "name": "stdout"
        },
        {
          "output_type": "stream",
          "text": [
            "Epoch 14: 100%|██████████| 5009/5009 [00:00<00:00, 7305.44it/s, train_loss=1.34]\n",
            "Epoch 15:  26%|██▌       | 1280/5009 [00:00<00:00, 7823.97it/s, train_loss=1.31]"
          ],
          "name": "stderr"
        },
        {
          "output_type": "stream",
          "text": [
            "\n",
            "Losses: train - 0.2343920, test - 0.9806735\n",
            "F1 test - 0.7586\n",
            "ACC test - 0.7800\n"
          ],
          "name": "stdout"
        },
        {
          "output_type": "stream",
          "text": [
            "Epoch 15: 100%|██████████| 5009/5009 [00:00<00:00, 7608.41it/s, train_loss=1.26]\n",
            "Epoch 16:  20%|██        | 1024/5009 [00:00<00:00, 7519.54it/s, train_loss=1.24]"
          ],
          "name": "stderr"
        },
        {
          "output_type": "stream",
          "text": [
            "\n",
            "Losses: train - 0.1960242, test - 0.9721916\n",
            "F1 test - 0.7658\n",
            "ACC test - 0.7860\n"
          ],
          "name": "stdout"
        },
        {
          "output_type": "stream",
          "text": [
            "Epoch 16: 100%|██████████| 5009/5009 [00:00<00:00, 7310.80it/s, train_loss=1.19]\n",
            "Epoch 17:  26%|██▌       | 1280/5009 [00:00<00:00, 8009.67it/s, train_loss=1.17]"
          ],
          "name": "stderr"
        },
        {
          "output_type": "stream",
          "text": [
            "\n",
            "Losses: train - 0.1633814, test - 0.9559337\n",
            "F1 test - 0.7675\n",
            "ACC test - 0.7860\n"
          ],
          "name": "stdout"
        },
        {
          "output_type": "stream",
          "text": [
            "Epoch 17: 100%|██████████| 5009/5009 [00:00<00:00, 7739.19it/s, train_loss=1.13]\n",
            "Epoch 18:  20%|██        | 1024/5009 [00:00<00:00, 7078.93it/s, train_loss=1.12]"
          ],
          "name": "stderr"
        },
        {
          "output_type": "stream",
          "text": [
            "\n",
            "Losses: train - 0.1416610, test - 0.9520395\n",
            "F1 test - 0.7671\n",
            "ACC test - 0.7840\n"
          ],
          "name": "stdout"
        },
        {
          "output_type": "stream",
          "text": [
            "Epoch 18: 100%|██████████| 5009/5009 [00:00<00:00, 7470.53it/s, train_loss=1.08]\n"
          ],
          "name": "stderr"
        },
        {
          "output_type": "stream",
          "text": [
            "\n",
            "Losses: train - 0.1226589, test - 0.9533633\n",
            "F1 test - 0.7780\n",
            "ACC test - 0.7960\n",
            "Early stopping\n",
            "\n",
            "\n",
            "f1_average: 0.7745417567534906, std:0.009874308508298924\n",
            "acc_average: 0.7906666666666666, std:0.007542472332656513\n"
          ],
          "name": "stdout"
        }
      ]
    },
    {
      "cell_type": "markdown",
      "metadata": {
        "colab_type": "text",
        "id": "VIrsdmb3QoMo"
      },
      "source": [
        "### 4000"
      ]
    },
    {
      "cell_type": "code",
      "metadata": {
        "colab_type": "code",
        "id": "eienCJmUQoMo",
        "colab": {}
      },
      "source": [
        "number_of_attemp_to_fit = 3"
      ],
      "execution_count": 0,
      "outputs": []
    },
    {
      "cell_type": "code",
      "metadata": {
        "colab_type": "code",
        "id": "olpK_KW6QoMq",
        "colab": {}
      },
      "source": [
        "train_data, test_data, l2i = train_data, test_data, l2i = read_trec50('trec50_splited/trec50_4k.csv')"
      ],
      "execution_count": 0,
      "outputs": []
    },
    {
      "cell_type": "code",
      "metadata": {
        "colab_type": "code",
        "id": "TMd79KFqQoMt",
        "colab": {}
      },
      "source": [
        "for instance in list(tqdm._instances):\n",
        "    tqdm._decr_instances(instance)"
      ],
      "execution_count": 0,
      "outputs": []
    },
    {
      "cell_type": "code",
      "metadata": {
        "colab_type": "code",
        "outputId": "dca237d4-bae5-42c1-87b1-2723a855c39f",
        "id": "5V8_3RJpQoMv",
        "colab": {
          "base_uri": "https://localhost:8080/",
          "height": 1000
        }
      },
      "source": [
        "f1_scores, acc_scores = [], []\n",
        "for _ in range(number_of_attemp_to_fit):\n",
        "  f1_scor, acc_scor = train_base_MLP(train_data, test_data)\n",
        "  f1_scores.append(f1_scor)\n",
        "  acc_scores.append(acc_scor)\n",
        "print(\"f1_average: {}, std:{}\".format(np.mean(f1_scores), np.std(f1_scores)))\n",
        "print(\"acc_average: {}, std:{}\".format(np.mean(acc_scores), np.std(acc_scores)))"
      ],
      "execution_count": 0,
      "outputs": [
        {
          "output_type": "stream",
          "text": [
            "Epoch 1: 100%|██████████| 5009/5009 [00:00<00:00, 6318.25it/s, train_loss=3.7]\n",
            "Epoch 2:  26%|██▌       | 1280/5009 [00:00<00:00, 7514.03it/s, train_loss=3.61]"
          ],
          "name": "stderr"
        },
        {
          "output_type": "stream",
          "text": [
            "\n",
            "Losses: train - 3.6977491, test - 3.4372228\n",
            "F1 test - 0.0543\n",
            "ACC test - 0.1420\n"
          ],
          "name": "stdout"
        },
        {
          "output_type": "stream",
          "text": [
            "Epoch 2: 100%|██████████| 5009/5009 [00:00<00:00, 7629.72it/s, train_loss=3.39]\n",
            "Epoch 3:  20%|██        | 1024/5009 [00:00<00:00, 7801.58it/s, train_loss=3.31]"
          ],
          "name": "stderr"
        },
        {
          "output_type": "stream",
          "text": [
            "\n",
            "Losses: train - 3.0755476, test - 2.8855431\n",
            "F1 test - 0.0809\n",
            "ACC test - 0.1980\n"
          ],
          "name": "stdout"
        },
        {
          "output_type": "stream",
          "text": [
            "Epoch 3: 100%|██████████| 5009/5009 [00:00<00:00, 7562.26it/s, train_loss=3.11]\n",
            "Epoch 4:  20%|██        | 1024/5009 [00:00<00:00, 7339.55it/s, train_loss=3.05]"
          ],
          "name": "stderr"
        },
        {
          "output_type": "stream",
          "text": [
            "\n",
            "Losses: train - 2.5638461, test - 2.4365650\n",
            "F1 test - 0.4120\n",
            "ACC test - 0.5160\n"
          ],
          "name": "stdout"
        },
        {
          "output_type": "stream",
          "text": [
            "Epoch 4: 100%|██████████| 5009/5009 [00:00<00:00, 7575.89it/s, train_loss=2.86]\n",
            "Epoch 5:  26%|██▌       | 1280/5009 [00:00<00:00, 7570.63it/s, train_loss=2.78]"
          ],
          "name": "stderr"
        },
        {
          "output_type": "stream",
          "text": [
            "\n",
            "Losses: train - 2.0917203, test - 1.9965472\n",
            "F1 test - 0.4791\n",
            "ACC test - 0.5940\n"
          ],
          "name": "stdout"
        },
        {
          "output_type": "stream",
          "text": [
            "Epoch 5: 100%|██████████| 5009/5009 [00:00<00:00, 7633.05it/s, train_loss=2.61]\n",
            "Epoch 6:  26%|██▌       | 1280/5009 [00:00<00:00, 7911.94it/s, train_loss=2.54]"
          ],
          "name": "stderr"
        },
        {
          "output_type": "stream",
          "text": [
            "\n",
            "Losses: train - 1.6432986, test - 1.7062028\n",
            "F1 test - 0.5363\n",
            "ACC test - 0.6340\n"
          ],
          "name": "stdout"
        },
        {
          "output_type": "stream",
          "text": [
            "Epoch 6: 100%|██████████| 5009/5009 [00:00<00:00, 7938.65it/s, train_loss=2.39]\n",
            "Epoch 7:  26%|██▌       | 1280/5009 [00:00<00:00, 8217.67it/s, train_loss=2.33]"
          ],
          "name": "stderr"
        },
        {
          "output_type": "stream",
          "text": [
            "\n",
            "Losses: train - 1.2756697, test - 1.5129980\n",
            "F1 test - 0.6020\n",
            "ACC test - 0.6820\n"
          ],
          "name": "stdout"
        },
        {
          "output_type": "stream",
          "text": [
            "Epoch 7: 100%|██████████| 5009/5009 [00:00<00:00, 7718.18it/s, train_loss=2.19]\n",
            "Epoch 8:  26%|██▌       | 1280/5009 [00:00<00:00, 8032.30it/s, train_loss=2.14]"
          ],
          "name": "stderr"
        },
        {
          "output_type": "stream",
          "text": [
            "\n",
            "Losses: train - 1.0011864, test - 1.3744527\n",
            "F1 test - 0.6334\n",
            "ACC test - 0.6960\n"
          ],
          "name": "stdout"
        },
        {
          "output_type": "stream",
          "text": [
            "Epoch 8: 100%|██████████| 5009/5009 [00:00<00:00, 7331.55it/s, train_loss=2.02]\n",
            "Epoch 9:  20%|██        | 1024/5009 [00:00<00:00, 5638.99it/s, train_loss=1.98]"
          ],
          "name": "stderr"
        },
        {
          "output_type": "stream",
          "text": [
            "\n",
            "Losses: train - 0.8016805, test - 1.2603788\n",
            "F1 test - 0.6840\n",
            "ACC test - 0.7280\n"
          ],
          "name": "stdout"
        },
        {
          "output_type": "stream",
          "text": [
            "Epoch 9: 100%|██████████| 5009/5009 [00:00<00:00, 7122.74it/s, train_loss=1.87]\n",
            "Epoch 10:  20%|██        | 1024/5009 [00:00<00:00, 6829.33it/s, train_loss=1.83]"
          ],
          "name": "stderr"
        },
        {
          "output_type": "stream",
          "text": [
            "\n",
            "Losses: train - 0.6485224, test - 1.1909010\n",
            "F1 test - 0.6962\n",
            "ACC test - 0.7360\n"
          ],
          "name": "stdout"
        },
        {
          "output_type": "stream",
          "text": [
            "Epoch 10: 100%|██████████| 5009/5009 [00:00<00:00, 7581.51it/s, train_loss=1.73]\n",
            "Epoch 11:  20%|██        | 1024/5009 [00:00<00:00, 7650.86it/s, train_loss=1.7]"
          ],
          "name": "stderr"
        },
        {
          "output_type": "stream",
          "text": [
            "\n",
            "Losses: train - 0.5287492, test - 1.1209154\n",
            "F1 test - 0.7026\n",
            "ACC test - 0.7420\n"
          ],
          "name": "stdout"
        },
        {
          "output_type": "stream",
          "text": [
            "Epoch 11: 100%|██████████| 5009/5009 [00:00<00:00, 7403.28it/s, train_loss=1.61]\n",
            "Epoch 12:  26%|██▌       | 1280/5009 [00:00<00:00, 8220.33it/s, train_loss=1.58]"
          ],
          "name": "stderr"
        },
        {
          "output_type": "stream",
          "text": [
            "\n",
            "Losses: train - 0.4363197, test - 1.0901943\n",
            "F1 test - 0.7206\n",
            "ACC test - 0.7540\n"
          ],
          "name": "stdout"
        },
        {
          "output_type": "stream",
          "text": [
            "Epoch 12: 100%|██████████| 5009/5009 [00:00<00:00, 7765.43it/s, train_loss=1.51]\n",
            "Epoch 13:  26%|██▌       | 1280/5009 [00:00<00:00, 8183.15it/s, train_loss=1.48]"
          ],
          "name": "stderr"
        },
        {
          "output_type": "stream",
          "text": [
            "\n",
            "Losses: train - 0.3601606, test - 1.0566553\n",
            "F1 test - 0.7301\n",
            "ACC test - 0.7580\n"
          ],
          "name": "stdout"
        },
        {
          "output_type": "stream",
          "text": [
            "Epoch 13: 100%|██████████| 5009/5009 [00:00<00:00, 8095.26it/s, train_loss=1.42]\n",
            "Epoch 14:  20%|██        | 1024/5009 [00:00<00:00, 7467.76it/s, train_loss=1.4]"
          ],
          "name": "stderr"
        },
        {
          "output_type": "stream",
          "text": [
            "\n",
            "Losses: train - 0.3032908, test - 1.0284899\n",
            "F1 test - 0.7343\n",
            "ACC test - 0.7600\n"
          ],
          "name": "stdout"
        },
        {
          "output_type": "stream",
          "text": [
            "Epoch 14: 100%|██████████| 5009/5009 [00:00<00:00, 7454.70it/s, train_loss=1.33]\n",
            "Epoch 15:  26%|██▌       | 1280/5009 [00:00<00:00, 7935.67it/s, train_loss=1.31]"
          ],
          "name": "stderr"
        },
        {
          "output_type": "stream",
          "text": [
            "\n",
            "Losses: train - 0.2481665, test - 1.0055544\n",
            "F1 test - 0.7492\n",
            "ACC test - 0.7700\n"
          ],
          "name": "stdout"
        },
        {
          "output_type": "stream",
          "text": [
            "Epoch 15: 100%|██████████| 5009/5009 [00:00<00:00, 7556.98it/s, train_loss=1.26]\n"
          ],
          "name": "stderr"
        },
        {
          "output_type": "stream",
          "text": [
            "\n",
            "Losses: train - 0.2088062, test - 1.0065381\n",
            "F1 test - 0.7533\n",
            "ACC test - 0.7760\n",
            "Early stopping\n",
            "\n",
            "\n"
          ],
          "name": "stdout"
        },
        {
          "output_type": "stream",
          "text": [
            "Epoch 1: 100%|██████████| 5009/5009 [00:00<00:00, 7558.63it/s, train_loss=3.75]\n",
            "Epoch 2:  26%|██▌       | 1280/5009 [00:00<00:00, 7927.86it/s, train_loss=3.69]"
          ],
          "name": "stderr"
        },
        {
          "output_type": "stream",
          "text": [
            "\n",
            "Losses: train - 3.7473348, test - 3.5815512\n",
            "F1 test - 0.0847\n",
            "ACC test - 0.1620\n"
          ],
          "name": "stdout"
        },
        {
          "output_type": "stream",
          "text": [
            "Epoch 2: 100%|██████████| 5009/5009 [00:00<00:00, 7707.95it/s, train_loss=3.47]\n",
            "Epoch 3:  20%|██        | 1024/5009 [00:00<00:00, 7268.26it/s, train_loss=3.39]"
          ],
          "name": "stderr"
        },
        {
          "output_type": "stream",
          "text": [
            "\n",
            "Losses: train - 3.1903745, test - 2.9554943\n",
            "F1 test - 0.0778\n",
            "ACC test - 0.1880\n"
          ],
          "name": "stdout"
        },
        {
          "output_type": "stream",
          "text": [
            "Epoch 3: 100%|██████████| 5009/5009 [00:00<00:00, 7575.31it/s, train_loss=3.18]\n",
            "Epoch 4:  20%|██        | 1024/5009 [00:00<00:00, 7576.79it/s, train_loss=3.11]"
          ],
          "name": "stderr"
        },
        {
          "output_type": "stream",
          "text": [
            "\n",
            "Losses: train - 2.6081756, test - 2.4205698\n",
            "F1 test - 0.3558\n",
            "ACC test - 0.4940\n"
          ],
          "name": "stdout"
        },
        {
          "output_type": "stream",
          "text": [
            "Epoch 4: 100%|██████████| 5009/5009 [00:00<00:00, 7672.20it/s, train_loss=2.91]\n",
            "Epoch 5:  26%|██▌       | 1280/5009 [00:00<00:00, 8255.93it/s, train_loss=2.83]"
          ],
          "name": "stderr"
        },
        {
          "output_type": "stream",
          "text": [
            "\n",
            "Losses: train - 2.0991476, test - 1.9856130\n",
            "F1 test - 0.4678\n",
            "ACC test - 0.5880\n"
          ],
          "name": "stdout"
        },
        {
          "output_type": "stream",
          "text": [
            "Epoch 5: 100%|██████████| 5009/5009 [00:00<00:00, 7459.16it/s, train_loss=2.65]\n",
            "Epoch 6:  26%|██▌       | 1280/5009 [00:00<00:00, 8026.51it/s, train_loss=2.58]"
          ],
          "name": "stderr"
        },
        {
          "output_type": "stream",
          "text": [
            "\n",
            "Losses: train - 1.6246916, test - 1.6754931\n",
            "F1 test - 0.5335\n",
            "ACC test - 0.6340\n"
          ],
          "name": "stdout"
        },
        {
          "output_type": "stream",
          "text": [
            "Epoch 6: 100%|██████████| 5009/5009 [00:00<00:00, 7922.94it/s, train_loss=2.42]\n",
            "Epoch 7:  20%|██        | 1024/5009 [00:00<00:00, 7393.35it/s, train_loss=2.36]"
          ],
          "name": "stderr"
        },
        {
          "output_type": "stream",
          "text": [
            "\n",
            "Losses: train - 1.2529966, test - 1.4730255\n",
            "F1 test - 0.6079\n",
            "ACC test - 0.6820\n"
          ],
          "name": "stdout"
        },
        {
          "output_type": "stream",
          "text": [
            "Epoch 7: 100%|██████████| 5009/5009 [00:00<00:00, 7660.38it/s, train_loss=2.21]\n",
            "Epoch 8:  20%|██        | 1024/5009 [00:00<00:00, 7268.80it/s, train_loss=2.16]"
          ],
          "name": "stderr"
        },
        {
          "output_type": "stream",
          "text": [
            "\n",
            "Losses: train - 0.9710276, test - 1.3331694\n",
            "F1 test - 0.6587\n",
            "ACC test - 0.7120\n"
          ],
          "name": "stdout"
        },
        {
          "output_type": "stream",
          "text": [
            "Epoch 8: 100%|██████████| 5009/5009 [00:00<00:00, 7363.82it/s, train_loss=2.03]\n",
            "Epoch 9:  26%|██▌       | 1280/5009 [00:00<00:00, 8158.71it/s, train_loss=1.98]"
          ],
          "name": "stderr"
        },
        {
          "output_type": "stream",
          "text": [
            "\n",
            "Losses: train - 0.7716350, test - 1.2146636\n",
            "F1 test - 0.6806\n",
            "ACC test - 0.7260\n"
          ],
          "name": "stdout"
        },
        {
          "output_type": "stream",
          "text": [
            "Epoch 9: 100%|██████████| 5009/5009 [00:00<00:00, 7976.65it/s, train_loss=1.88]\n",
            "Epoch 10:  26%|██▌       | 1280/5009 [00:00<00:00, 8110.22it/s, train_loss=1.83]"
          ],
          "name": "stderr"
        },
        {
          "output_type": "stream",
          "text": [
            "\n",
            "Losses: train - 0.6203370, test - 1.1500624\n",
            "F1 test - 0.7045\n",
            "ACC test - 0.7420\n"
          ],
          "name": "stdout"
        },
        {
          "output_type": "stream",
          "text": [
            "Epoch 10: 100%|██████████| 5009/5009 [00:00<00:00, 7859.74it/s, train_loss=1.74]\n",
            "Epoch 11:  20%|██        | 1024/5009 [00:00<00:00, 7629.91it/s, train_loss=1.71]"
          ],
          "name": "stderr"
        },
        {
          "output_type": "stream",
          "text": [
            "\n",
            "Losses: train - 0.5049393, test - 1.0943748\n",
            "F1 test - 0.7215\n",
            "ACC test - 0.7580\n"
          ],
          "name": "stdout"
        },
        {
          "output_type": "stream",
          "text": [
            "Epoch 11: 100%|██████████| 5009/5009 [00:00<00:00, 7284.23it/s, train_loss=1.62]\n",
            "Epoch 12:  26%|██▌       | 1280/5009 [00:00<00:00, 7840.92it/s, train_loss=1.58]"
          ],
          "name": "stderr"
        },
        {
          "output_type": "stream",
          "text": [
            "\n",
            "Losses: train - 0.4137748, test - 1.0495072\n",
            "F1 test - 0.7314\n",
            "ACC test - 0.7620\n"
          ],
          "name": "stdout"
        },
        {
          "output_type": "stream",
          "text": [
            "Epoch 12: 100%|██████████| 5009/5009 [00:00<00:00, 7644.53it/s, train_loss=1.51]\n",
            "Epoch 13:  20%|██        | 1024/5009 [00:00<00:00, 7389.08it/s, train_loss=1.49]"
          ],
          "name": "stderr"
        },
        {
          "output_type": "stream",
          "text": [
            "\n",
            "Losses: train - 0.3408559, test - 1.0175337\n",
            "F1 test - 0.7382\n",
            "ACC test - 0.7700\n"
          ],
          "name": "stdout"
        },
        {
          "output_type": "stream",
          "text": [
            "Epoch 13: 100%|██████████| 5009/5009 [00:00<00:00, 7572.24it/s, train_loss=1.42]\n",
            "Epoch 14:  20%|██        | 1024/5009 [00:00<00:00, 6402.73it/s, train_loss=1.4]"
          ],
          "name": "stderr"
        },
        {
          "output_type": "stream",
          "text": [
            "\n",
            "Losses: train - 0.2779878, test - 0.9960718\n",
            "F1 test - 0.7570\n",
            "ACC test - 0.7760\n"
          ],
          "name": "stdout"
        },
        {
          "output_type": "stream",
          "text": [
            "Epoch 14: 100%|██████████| 5009/5009 [00:00<00:00, 7159.68it/s, train_loss=1.33]\n",
            "Epoch 15:  26%|██▌       | 1280/5009 [00:00<00:00, 8124.85it/s, train_loss=1.31]"
          ],
          "name": "stderr"
        },
        {
          "output_type": "stream",
          "text": [
            "\n",
            "Losses: train - 0.2347428, test - 0.9789963\n",
            "F1 test - 0.7587\n",
            "ACC test - 0.7800\n"
          ],
          "name": "stdout"
        },
        {
          "output_type": "stream",
          "text": [
            "Epoch 15: 100%|██████████| 5009/5009 [00:00<00:00, 7594.65it/s, train_loss=1.26]\n",
            "Epoch 16:  26%|██▌       | 1280/5009 [00:00<00:00, 8039.65it/s, train_loss=1.24]"
          ],
          "name": "stderr"
        },
        {
          "output_type": "stream",
          "text": [
            "\n",
            "Losses: train - 0.1923529, test - 0.9546747\n",
            "F1 test - 0.7667\n",
            "ACC test - 0.7860\n"
          ],
          "name": "stdout"
        },
        {
          "output_type": "stream",
          "text": [
            "Epoch 16: 100%|██████████| 5009/5009 [00:00<00:00, 7795.18it/s, train_loss=1.19]\n"
          ],
          "name": "stderr"
        },
        {
          "output_type": "stream",
          "text": [
            "\n",
            "Losses: train - 0.1624771, test - 0.9588758\n",
            "F1 test - 0.7698\n",
            "ACC test - 0.7860\n",
            "Early stopping\n",
            "\n",
            "\n"
          ],
          "name": "stdout"
        },
        {
          "output_type": "stream",
          "text": [
            "Epoch 1: 100%|██████████| 5009/5009 [00:00<00:00, 7783.98it/s, train_loss=3.74]\n",
            "Epoch 2:  20%|██        | 1024/5009 [00:00<00:00, 7408.85it/s, train_loss=3.68]"
          ],
          "name": "stderr"
        },
        {
          "output_type": "stream",
          "text": [
            "\n",
            "Losses: train - 3.7356689, test - 3.5189402\n",
            "F1 test - 0.2107\n",
            "ACC test - 0.2600\n"
          ],
          "name": "stdout"
        },
        {
          "output_type": "stream",
          "text": [
            "Epoch 2: 100%|██████████| 5009/5009 [00:00<00:00, 7658.58it/s, train_loss=3.46]\n",
            "Epoch 3:  26%|██▌       | 1280/5009 [00:00<00:00, 7945.46it/s, train_loss=3.38]"
          ],
          "name": "stderr"
        },
        {
          "output_type": "stream",
          "text": [
            "\n",
            "Losses: train - 3.1926095, test - 2.8671135\n",
            "F1 test - 0.0218\n",
            "ACC test - 0.1100\n"
          ],
          "name": "stdout"
        },
        {
          "output_type": "stream",
          "text": [
            "Epoch 3: 100%|██████████| 5009/5009 [00:00<00:00, 7640.55it/s, train_loss=3.19]\n",
            "Epoch 4:  15%|█▌        | 768/5009 [00:00<00:00, 4795.97it/s, train_loss=3.13]"
          ],
          "name": "stderr"
        },
        {
          "output_type": "stream",
          "text": [
            "\n",
            "Losses: train - 2.6325260, test - 2.4642296\n",
            "F1 test - 0.3571\n",
            "ACC test - 0.4840\n"
          ],
          "name": "stdout"
        },
        {
          "output_type": "stream",
          "text": [
            "Epoch 4: 100%|██████████| 5009/5009 [00:00<00:00, 6692.49it/s, train_loss=2.92]\n",
            "Epoch 5:  26%|██▌       | 1280/5009 [00:00<00:00, 7897.00it/s, train_loss=2.85]"
          ],
          "name": "stderr"
        },
        {
          "output_type": "stream",
          "text": [
            "\n",
            "Losses: train - 2.1374784, test - 2.0181535\n",
            "F1 test - 0.4636\n",
            "ACC test - 0.5760\n"
          ],
          "name": "stdout"
        },
        {
          "output_type": "stream",
          "text": [
            "Epoch 5: 100%|██████████| 5009/5009 [00:00<00:00, 7806.40it/s, train_loss=2.67]\n",
            "Epoch 6:  20%|██        | 1024/5009 [00:00<00:00, 7521.48it/s, train_loss=2.61]"
          ],
          "name": "stderr"
        },
        {
          "output_type": "stream",
          "text": [
            "\n",
            "Losses: train - 1.6725397, test - 1.7184227\n",
            "F1 test - 0.5423\n",
            "ACC test - 0.6400\n"
          ],
          "name": "stdout"
        },
        {
          "output_type": "stream",
          "text": [
            "Epoch 6: 100%|██████████| 5009/5009 [00:00<00:00, 7749.13it/s, train_loss=2.44]\n",
            "Epoch 7:  26%|██▌       | 1280/5009 [00:00<00:00, 8237.82it/s, train_loss=2.38]"
          ],
          "name": "stderr"
        },
        {
          "output_type": "stream",
          "text": [
            "\n",
            "Losses: train - 1.2981052, test - 1.5155012\n",
            "F1 test - 0.6076\n",
            "ACC test - 0.6840\n"
          ],
          "name": "stdout"
        },
        {
          "output_type": "stream",
          "text": [
            "Epoch 7: 100%|██████████| 5009/5009 [00:00<00:00, 7818.89it/s, train_loss=2.24]\n",
            "Epoch 8:  26%|██▌       | 1280/5009 [00:00<00:00, 8346.01it/s, train_loss=2.18]"
          ],
          "name": "stderr"
        },
        {
          "output_type": "stream",
          "text": [
            "\n",
            "Losses: train - 1.0009849, test - 1.3564666\n",
            "F1 test - 0.6341\n",
            "ACC test - 0.6960\n"
          ],
          "name": "stdout"
        },
        {
          "output_type": "stream",
          "text": [
            "Epoch 8: 100%|██████████| 5009/5009 [00:00<00:00, 8011.43it/s, train_loss=2.06]\n",
            "Epoch 9:  20%|██        | 1024/5009 [00:00<00:00, 7619.48it/s, train_loss=2.02]"
          ],
          "name": "stderr"
        },
        {
          "output_type": "stream",
          "text": [
            "\n",
            "Losses: train - 0.7911184, test - 1.2655021\n",
            "F1 test - 0.6730\n",
            "ACC test - 0.7220\n"
          ],
          "name": "stdout"
        },
        {
          "output_type": "stream",
          "text": [
            "Epoch 9: 100%|██████████| 5009/5009 [00:00<00:00, 7372.96it/s, train_loss=1.9]\n",
            "Epoch 10:  20%|██        | 1024/5009 [00:00<00:00, 7743.62it/s, train_loss=1.86]"
          ],
          "name": "stderr"
        },
        {
          "output_type": "stream",
          "text": [
            "\n",
            "Losses: train - 0.6378031, test - 1.1737527\n",
            "F1 test - 0.6962\n",
            "ACC test - 0.7340\n"
          ],
          "name": "stdout"
        },
        {
          "output_type": "stream",
          "text": [
            "Epoch 10: 100%|██████████| 5009/5009 [00:00<00:00, 7554.45it/s, train_loss=1.76]\n",
            "Epoch 11:  26%|██▌       | 1280/5009 [00:00<00:00, 8070.93it/s, train_loss=1.72]"
          ],
          "name": "stderr"
        },
        {
          "output_type": "stream",
          "text": [
            "\n",
            "Losses: train - 0.5171830, test - 1.1130141\n",
            "F1 test - 0.7072\n",
            "ACC test - 0.7420\n"
          ],
          "name": "stdout"
        },
        {
          "output_type": "stream",
          "text": [
            "Epoch 11: 100%|██████████| 5009/5009 [00:00<00:00, 7601.30it/s, train_loss=1.64]\n",
            "Epoch 12:  26%|██▌       | 1280/5009 [00:00<00:00, 7916.17it/s, train_loss=1.6] "
          ],
          "name": "stderr"
        },
        {
          "output_type": "stream",
          "text": [
            "\n",
            "Losses: train - 0.4182611, test - 1.0740739\n",
            "F1 test - 0.7239\n",
            "ACC test - 0.7520\n"
          ],
          "name": "stdout"
        },
        {
          "output_type": "stream",
          "text": [
            "Epoch 12: 100%|██████████| 5009/5009 [00:00<00:00, 7628.14it/s, train_loss=1.53]\n",
            "Epoch 13:  20%|██        | 1024/5009 [00:00<00:00, 7088.28it/s, train_loss=1.51]"
          ],
          "name": "stderr"
        },
        {
          "output_type": "stream",
          "text": [
            "\n",
            "Losses: train - 0.3431537, test - 1.0427886\n",
            "F1 test - 0.7376\n",
            "ACC test - 0.7600\n"
          ],
          "name": "stdout"
        },
        {
          "output_type": "stream",
          "text": [
            "Epoch 13: 100%|██████████| 5009/5009 [00:00<00:00, 7596.70it/s, train_loss=1.44]\n",
            "Epoch 14:  26%|██▌       | 1280/5009 [00:00<00:00, 8005.78it/s, train_loss=1.41]"
          ],
          "name": "stderr"
        },
        {
          "output_type": "stream",
          "text": [
            "\n",
            "Losses: train - 0.2821834, test - 1.0111390\n",
            "F1 test - 0.7496\n",
            "ACC test - 0.7740\n"
          ],
          "name": "stdout"
        },
        {
          "output_type": "stream",
          "text": [
            "Epoch 14: 100%|██████████| 5009/5009 [00:00<00:00, 7829.21it/s, train_loss=1.35]\n",
            "Epoch 15:  26%|██▌       | 1280/5009 [00:00<00:00, 8262.73it/s, train_loss=1.33]"
          ],
          "name": "stderr"
        },
        {
          "output_type": "stream",
          "text": [
            "\n",
            "Losses: train - 0.2326684, test - 0.9908547\n",
            "F1 test - 0.7505\n",
            "ACC test - 0.7700\n"
          ],
          "name": "stdout"
        },
        {
          "output_type": "stream",
          "text": [
            "Epoch 15: 100%|██████████| 5009/5009 [00:00<00:00, 8038.87it/s, train_loss=1.27]\n",
            "Epoch 16:  26%|██▌       | 1280/5009 [00:00<00:00, 8379.70it/s, train_loss=1.25]"
          ],
          "name": "stderr"
        },
        {
          "output_type": "stream",
          "text": [
            "\n",
            "Losses: train - 0.1985284, test - 0.9735237\n",
            "F1 test - 0.7598\n",
            "ACC test - 0.7800\n"
          ],
          "name": "stdout"
        },
        {
          "output_type": "stream",
          "text": [
            "Epoch 16: 100%|██████████| 5009/5009 [00:00<00:00, 7897.70it/s, train_loss=1.2]\n",
            "Epoch 17:  20%|██        | 1024/5009 [00:00<00:00, 7390.46it/s, train_loss=1.19]"
          ],
          "name": "stderr"
        },
        {
          "output_type": "stream",
          "text": [
            "\n",
            "Losses: train - 0.1671273, test - 0.9535787\n",
            "F1 test - 0.7673\n",
            "ACC test - 0.7840\n"
          ],
          "name": "stdout"
        },
        {
          "output_type": "stream",
          "text": [
            "Epoch 17: 100%|██████████| 5009/5009 [00:00<00:00, 7536.09it/s, train_loss=1.14]\n",
            "Epoch 18:  26%|██▌       | 1280/5009 [00:00<00:00, 8376.62it/s, train_loss=1.12]"
          ],
          "name": "stderr"
        },
        {
          "output_type": "stream",
          "text": [
            "\n",
            "Losses: train - 0.1410632, test - 0.9492268\n",
            "F1 test - 0.7758\n",
            "ACC test - 0.7920\n"
          ],
          "name": "stdout"
        },
        {
          "output_type": "stream",
          "text": [
            "Epoch 18: 100%|██████████| 5009/5009 [00:00<00:00, 8051.85it/s, train_loss=1.08]\n",
            "Epoch 19:  20%|██        | 1024/5009 [00:00<00:00, 7426.05it/s, train_loss=1.07]"
          ],
          "name": "stderr"
        },
        {
          "output_type": "stream",
          "text": [
            "\n",
            "Losses: train - 0.1230959, test - 0.9427795\n",
            "F1 test - 0.7858\n",
            "ACC test - 0.8000\n"
          ],
          "name": "stdout"
        },
        {
          "output_type": "stream",
          "text": [
            "Epoch 19: 100%|██████████| 5009/5009 [00:00<00:00, 7781.39it/s, train_loss=1.03]\n"
          ],
          "name": "stderr"
        },
        {
          "output_type": "stream",
          "text": [
            "\n",
            "Losses: train - 0.1058740, test - 0.9475265\n",
            "F1 test - 0.7713\n",
            "ACC test - 0.7860\n",
            "Early stopping\n",
            "\n",
            "\n",
            "f1_average: 0.7648240929447264, std:0.008158718577203709\n",
            "acc_average: 0.7826666666666666, std:0.004714045207910321\n"
          ],
          "name": "stdout"
        }
      ]
    },
    {
      "cell_type": "markdown",
      "metadata": {
        "colab_type": "text",
        "id": "4LTxet1tQoMy"
      },
      "source": [
        "### 3000"
      ]
    },
    {
      "cell_type": "code",
      "metadata": {
        "colab_type": "code",
        "id": "05qFMnxGQoMy",
        "colab": {}
      },
      "source": [
        "number_of_attemp_to_fit = 3"
      ],
      "execution_count": 0,
      "outputs": []
    },
    {
      "cell_type": "code",
      "metadata": {
        "colab_type": "code",
        "id": "_9ixWtn8QoM0",
        "colab": {}
      },
      "source": [
        "train_data, test_data, l2i = read_trec50('trec50_splited/trec50_3k.csv')"
      ],
      "execution_count": 0,
      "outputs": []
    },
    {
      "cell_type": "code",
      "metadata": {
        "colab_type": "code",
        "id": "IhqAR9yBQoM2",
        "colab": {}
      },
      "source": [
        "for instance in list(tqdm._instances):\n",
        "    tqdm._decr_instances(instance)"
      ],
      "execution_count": 0,
      "outputs": []
    },
    {
      "cell_type": "code",
      "metadata": {
        "colab_type": "code",
        "outputId": "75f87561-3855-46e3-e010-c01fcf2cad15",
        "id": "mfzvxv7jQoM4",
        "colab": {
          "base_uri": "https://localhost:8080/",
          "height": 1000
        }
      },
      "source": [
        "f1_scores, acc_scores = [], []\n",
        "for _ in range(number_of_attemp_to_fit):\n",
        "  f1_scor, acc_scor = train_base_MLP(train_data, test_data)\n",
        "  f1_scores.append(f1_scor)\n",
        "  acc_scores.append(acc_scor)\n",
        "print(\"f1_average: {}, std:{}\".format(np.mean(f1_scores), np.std(f1_scores)))\n",
        "print(\"acc_average: {}, std:{}\".format(np.mean(acc_scores), np.std(acc_scores)))"
      ],
      "execution_count": 0,
      "outputs": [
        {
          "output_type": "stream",
          "text": [
            "Epoch 1: 100%|██████████| 3029/3029 [00:00<00:00, 7381.27it/s, train_loss=3.81]\n",
            "Epoch 2:  42%|████▏     | 1280/3029 [00:00<00:00, 8554.81it/s, train_loss=3.77]"
          ],
          "name": "stderr"
        },
        {
          "output_type": "stream",
          "text": [
            "\n",
            "Losses: train - 3.8050963, test - 3.7066084\n",
            "F1 test - 0.2868\n",
            "ACC test - 0.3240\n"
          ],
          "name": "stdout"
        },
        {
          "output_type": "stream",
          "text": [
            "Epoch 2: 100%|██████████| 3029/3029 [00:00<00:00, 8161.37it/s, train_loss=3.72]\n",
            "Epoch 3:  42%|████▏     | 1280/3029 [00:00<00:00, 8259.47it/s, train_loss=3.66]"
          ],
          "name": "stderr"
        },
        {
          "output_type": "stream",
          "text": [
            "\n",
            "Losses: train - 3.6339333, test - 3.4293581\n",
            "F1 test - 0.2597\n",
            "ACC test - 0.2900\n"
          ],
          "name": "stdout"
        },
        {
          "output_type": "stream",
          "text": [
            "Epoch 3: 100%|██████████| 3029/3029 [00:00<00:00, 7994.65it/s, train_loss=3.59]\n",
            "Epoch 4:  42%|████▏     | 1280/3029 [00:00<00:00, 8150.83it/s, train_loss=3.51]"
          ],
          "name": "stderr"
        },
        {
          "output_type": "stream",
          "text": [
            "\n",
            "Losses: train - 3.3233373, test - 2.9924016\n",
            "F1 test - 0.2508\n",
            "ACC test - 0.2840\n"
          ],
          "name": "stdout"
        },
        {
          "output_type": "stream",
          "text": [
            "Epoch 4: 100%|██████████| 3029/3029 [00:00<00:00, 7493.93it/s, train_loss=3.44]\n",
            "Epoch 5:  42%|████▏     | 1280/3029 [00:00<00:00, 7512.99it/s, train_loss=3.37]"
          ],
          "name": "stderr"
        },
        {
          "output_type": "stream",
          "text": [
            "\n",
            "Losses: train - 3.0009011, test - 2.6868004\n",
            "F1 test - 0.3183\n",
            "ACC test - 0.4060\n"
          ],
          "name": "stdout"
        },
        {
          "output_type": "stream",
          "text": [
            "Epoch 5: 100%|██████████| 3029/3029 [00:00<00:00, 7743.87it/s, train_loss=3.29]\n",
            "Epoch 6:  42%|████▏     | 1280/3029 [00:00<00:00, 8208.35it/s, train_loss=3.22]"
          ],
          "name": "stderr"
        },
        {
          "output_type": "stream",
          "text": [
            "\n",
            "Losses: train - 2.7030023, test - 2.4021173\n",
            "F1 test - 0.4030\n",
            "ACC test - 0.5140\n"
          ],
          "name": "stdout"
        },
        {
          "output_type": "stream",
          "text": [
            "Epoch 6: 100%|██████████| 3029/3029 [00:00<00:00, 7911.90it/s, train_loss=3.14]\n",
            "Epoch 7:  42%|████▏     | 1280/3029 [00:00<00:00, 8481.66it/s, train_loss=3.06]"
          ],
          "name": "stderr"
        },
        {
          "output_type": "stream",
          "text": [
            "\n",
            "Losses: train - 2.3719849, test - 2.0788486\n",
            "F1 test - 0.4672\n",
            "ACC test - 0.5680\n"
          ],
          "name": "stdout"
        },
        {
          "output_type": "stream",
          "text": [
            "Epoch 7: 100%|██████████| 3029/3029 [00:00<00:00, 7700.36it/s, train_loss=2.98]\n",
            "Epoch 8:  34%|███▍      | 1024/3029 [00:00<00:00, 7510.75it/s, train_loss=2.92]"
          ],
          "name": "stderr"
        },
        {
          "output_type": "stream",
          "text": [
            "\n",
            "Losses: train - 2.0337301, test - 1.8128520\n",
            "F1 test - 0.5675\n",
            "ACC test - 0.6420\n"
          ],
          "name": "stdout"
        },
        {
          "output_type": "stream",
          "text": [
            "Epoch 8: 100%|██████████| 3029/3029 [00:00<00:00, 7131.22it/s, train_loss=2.82]\n",
            "Epoch 9:  42%|████▏     | 1280/3029 [00:00<00:00, 8377.79it/s, train_loss=2.75]"
          ],
          "name": "stderr"
        },
        {
          "output_type": "stream",
          "text": [
            "\n",
            "Losses: train - 1.7257291, test - 1.6086649\n",
            "F1 test - 0.6362\n",
            "ACC test - 0.6960\n"
          ],
          "name": "stdout"
        },
        {
          "output_type": "stream",
          "text": [
            "Epoch 9: 100%|██████████| 3029/3029 [00:00<00:00, 7773.81it/s, train_loss=2.67]\n",
            "Epoch 10:  42%|████▏     | 1280/3029 [00:00<00:00, 8212.87it/s, train_loss=2.59]"
          ],
          "name": "stderr"
        },
        {
          "output_type": "stream",
          "text": [
            "\n",
            "Losses: train - 1.4404926, test - 1.4460995\n",
            "F1 test - 0.6757\n",
            "ACC test - 0.7220\n"
          ],
          "name": "stdout"
        },
        {
          "output_type": "stream",
          "text": [
            "Epoch 10: 100%|██████████| 3029/3029 [00:00<00:00, 8003.17it/s, train_loss=2.52]\n",
            "Epoch 11:  42%|████▏     | 1280/3029 [00:00<00:00, 7468.92it/s, train_loss=2.45]"
          ],
          "name": "stderr"
        },
        {
          "output_type": "stream",
          "text": [
            "\n",
            "Losses: train - 1.2030865, test - 1.3117626\n",
            "F1 test - 0.6882\n",
            "ACC test - 0.7280\n"
          ],
          "name": "stdout"
        },
        {
          "output_type": "stream",
          "text": [
            "Epoch 11: 100%|██████████| 3029/3029 [00:00<00:00, 7972.58it/s, train_loss=2.39]\n",
            "Epoch 12:  42%|████▏     | 1280/3029 [00:00<00:00, 8108.67it/s, train_loss=2.32]"
          ],
          "name": "stderr"
        },
        {
          "output_type": "stream",
          "text": [
            "\n",
            "Losses: train - 1.0044558, test - 1.2240330\n",
            "F1 test - 0.7054\n",
            "ACC test - 0.7440\n"
          ],
          "name": "stdout"
        },
        {
          "output_type": "stream",
          "text": [
            "Epoch 12: 100%|██████████| 3029/3029 [00:00<00:00, 8074.89it/s, train_loss=2.26]\n",
            "Epoch 13:  42%|████▏     | 1280/3029 [00:00<00:00, 8213.04it/s, train_loss=2.2] "
          ],
          "name": "stderr"
        },
        {
          "output_type": "stream",
          "text": [
            "\n",
            "Losses: train - 0.8455592, test - 1.1628410\n",
            "F1 test - 0.7181\n",
            "ACC test - 0.7520\n"
          ],
          "name": "stdout"
        },
        {
          "output_type": "stream",
          "text": [
            "Epoch 13: 100%|██████████| 3029/3029 [00:00<00:00, 7984.85it/s, train_loss=2.14]\n",
            "Epoch 14:  42%|████▏     | 1280/3029 [00:00<00:00, 7985.27it/s, train_loss=2.08]"
          ],
          "name": "stderr"
        },
        {
          "output_type": "stream",
          "text": [
            "\n",
            "Losses: train - 0.7158807, test - 1.0989508\n",
            "F1 test - 0.7278\n",
            "ACC test - 0.7580\n"
          ],
          "name": "stdout"
        },
        {
          "output_type": "stream",
          "text": [
            "Epoch 14: 100%|██████████| 3029/3029 [00:00<00:00, 7931.49it/s, train_loss=2.03]\n",
            "Epoch 15:  42%|████▏     | 1280/3029 [00:00<00:00, 7495.02it/s, train_loss=1.98]"
          ],
          "name": "stderr"
        },
        {
          "output_type": "stream",
          "text": [
            "\n",
            "Losses: train - 0.6096456, test - 1.0617161\n",
            "F1 test - 0.7313\n",
            "ACC test - 0.7600\n"
          ],
          "name": "stdout"
        },
        {
          "output_type": "stream",
          "text": [
            "Epoch 15: 100%|██████████| 3029/3029 [00:00<00:00, 7952.26it/s, train_loss=1.93]\n",
            "Epoch 16:  42%|████▏     | 1280/3029 [00:00<00:00, 8170.26it/s, train_loss=1.88]"
          ],
          "name": "stderr"
        },
        {
          "output_type": "stream",
          "text": [
            "\n",
            "Losses: train - 0.5173124, test - 1.0299849\n",
            "F1 test - 0.7381\n",
            "ACC test - 0.7640\n"
          ],
          "name": "stdout"
        },
        {
          "output_type": "stream",
          "text": [
            "Epoch 16: 100%|██████████| 3029/3029 [00:00<00:00, 7813.69it/s, train_loss=1.84]\n",
            "Epoch 17:  42%|████▏     | 1280/3029 [00:00<00:00, 8193.17it/s, train_loss=1.79]"
          ],
          "name": "stderr"
        },
        {
          "output_type": "stream",
          "text": [
            "\n",
            "Losses: train - 0.4458783, test - 1.0039503\n",
            "F1 test - 0.7522\n",
            "ACC test - 0.7760\n"
          ],
          "name": "stdout"
        },
        {
          "output_type": "stream",
          "text": [
            "Epoch 17: 100%|██████████| 3029/3029 [00:00<00:00, 8032.96it/s, train_loss=1.75]\n",
            "Epoch 18:  42%|████▏     | 1280/3029 [00:00<00:00, 8447.21it/s, train_loss=1.71]"
          ],
          "name": "stderr"
        },
        {
          "output_type": "stream",
          "text": [
            "\n",
            "Losses: train - 0.3847525, test - 0.9720964\n",
            "F1 test - 0.7583\n",
            "ACC test - 0.7780\n"
          ],
          "name": "stdout"
        },
        {
          "output_type": "stream",
          "text": [
            "Epoch 18: 100%|██████████| 3029/3029 [00:00<00:00, 7992.96it/s, train_loss=1.67]\n",
            "Epoch 19:  42%|████▏     | 1280/3029 [00:00<00:00, 8387.97it/s, train_loss=1.64]"
          ],
          "name": "stderr"
        },
        {
          "output_type": "stream",
          "text": [
            "\n",
            "Losses: train - 0.3344440, test - 0.9605248\n",
            "F1 test - 0.7679\n",
            "ACC test - 0.7840\n"
          ],
          "name": "stdout"
        },
        {
          "output_type": "stream",
          "text": [
            "Epoch 19: 100%|██████████| 3029/3029 [00:00<00:00, 7961.06it/s, train_loss=1.6]\n",
            "Epoch 1:   0%|          | 0/3029 [00:00<?, ?it/s, train_loss=3.85]"
          ],
          "name": "stderr"
        },
        {
          "output_type": "stream",
          "text": [
            "\n",
            "Losses: train - 0.2957243, test - 0.9618357\n",
            "F1 test - 0.7716\n",
            "ACC test - 0.7860\n",
            "Early stopping\n",
            "\n",
            "\n"
          ],
          "name": "stdout"
        },
        {
          "output_type": "stream",
          "text": [
            "Epoch 1: 100%|██████████| 3029/3029 [00:00<00:00, 7442.46it/s, train_loss=3.81]\n",
            "Epoch 2:  42%|████▏     | 1280/3029 [00:00<00:00, 8414.97it/s, train_loss=3.77]"
          ],
          "name": "stderr"
        },
        {
          "output_type": "stream",
          "text": [
            "\n",
            "Losses: train - 3.8069540, test - 3.7239224\n",
            "F1 test - 0.0709\n",
            "ACC test - 0.1420\n"
          ],
          "name": "stdout"
        },
        {
          "output_type": "stream",
          "text": [
            "Epoch 2: 100%|██████████| 3029/3029 [00:00<00:00, 8100.91it/s, train_loss=3.72]\n",
            "Epoch 3:  42%|████▏     | 1280/3029 [00:00<00:00, 8197.41it/s, train_loss=3.66]"
          ],
          "name": "stderr"
        },
        {
          "output_type": "stream",
          "text": [
            "\n",
            "Losses: train - 3.6360977, test - 3.4711652\n",
            "F1 test - 0.0218\n",
            "ACC test - 0.1100\n"
          ],
          "name": "stdout"
        },
        {
          "output_type": "stream",
          "text": [
            "Epoch 3: 100%|██████████| 3029/3029 [00:00<00:00, 8068.93it/s, train_loss=3.59]\n",
            "Epoch 4:  42%|████▏     | 1280/3029 [00:00<00:00, 7259.17it/s, train_loss=3.52]"
          ],
          "name": "stderr"
        },
        {
          "output_type": "stream",
          "text": [
            "\n",
            "Losses: train - 3.3398831, test - 3.0850507\n",
            "F1 test - 0.0218\n",
            "ACC test - 0.1100\n"
          ],
          "name": "stdout"
        },
        {
          "output_type": "stream",
          "text": [
            "Epoch 4: 100%|██████████| 3029/3029 [00:00<00:00, 7841.11it/s, train_loss=3.45]\n",
            "Epoch 5:  42%|████▏     | 1280/3029 [00:00<00:00, 8372.97it/s, train_loss=3.38]"
          ],
          "name": "stderr"
        },
        {
          "output_type": "stream",
          "text": [
            "\n",
            "Losses: train - 3.0352353, test - 2.7522626\n",
            "F1 test - 0.3096\n",
            "ACC test - 0.3560\n"
          ],
          "name": "stdout"
        },
        {
          "output_type": "stream",
          "text": [
            "Epoch 5: 100%|██████████| 3029/3029 [00:00<00:00, 8106.27it/s, train_loss=3.31]\n",
            "Epoch 6:  42%|████▏     | 1280/3029 [00:00<00:00, 8683.40it/s, train_loss=3.24]"
          ],
          "name": "stderr"
        },
        {
          "output_type": "stream",
          "text": [
            "\n",
            "Losses: train - 2.7549046, test - 2.4735906\n",
            "F1 test - 0.3906\n",
            "ACC test - 0.5080\n"
          ],
          "name": "stdout"
        },
        {
          "output_type": "stream",
          "text": [
            "Epoch 6: 100%|██████████| 3029/3029 [00:00<00:00, 8037.10it/s, train_loss=3.17]\n",
            "Epoch 7:  34%|███▍      | 1024/3029 [00:00<00:00, 7828.56it/s, train_loss=3.12]"
          ],
          "name": "stderr"
        },
        {
          "output_type": "stream",
          "text": [
            "\n",
            "Losses: train - 2.4432022, test - 2.1626981\n",
            "F1 test - 0.4580\n",
            "ACC test - 0.5640\n"
          ],
          "name": "stdout"
        },
        {
          "output_type": "stream",
          "text": [
            "Epoch 7: 100%|██████████| 3029/3029 [00:00<00:00, 6824.19it/s, train_loss=3.02]\n",
            "Epoch 8:  42%|████▏     | 1280/3029 [00:00<00:00, 8686.97it/s, train_loss=2.94]"
          ],
          "name": "stderr"
        },
        {
          "output_type": "stream",
          "text": [
            "\n",
            "Losses: train - 2.1153198, test - 1.8887748\n",
            "F1 test - 0.5495\n",
            "ACC test - 0.6320\n"
          ],
          "name": "stdout"
        },
        {
          "output_type": "stream",
          "text": [
            "Epoch 8: 100%|██████████| 3029/3029 [00:00<00:00, 8055.45it/s, train_loss=2.87]\n",
            "Epoch 9:  42%|████▏     | 1280/3029 [00:00<00:00, 8513.82it/s, train_loss=2.79]"
          ],
          "name": "stderr"
        },
        {
          "output_type": "stream",
          "text": [
            "\n",
            "Losses: train - 1.8020066, test - 1.6665504\n",
            "F1 test - 0.6074\n",
            "ACC test - 0.6760\n"
          ],
          "name": "stdout"
        },
        {
          "output_type": "stream",
          "text": [
            "Epoch 9: 100%|██████████| 3029/3029 [00:00<00:00, 8116.85it/s, train_loss=2.72]\n",
            "Epoch 10:  42%|████▏     | 1280/3029 [00:00<00:00, 8574.04it/s, train_loss=2.64]"
          ],
          "name": "stderr"
        },
        {
          "output_type": "stream",
          "text": [
            "\n",
            "Losses: train - 1.5193401, test - 1.4956082\n",
            "F1 test - 0.6542\n",
            "ACC test - 0.7080\n"
          ],
          "name": "stdout"
        },
        {
          "output_type": "stream",
          "text": [
            "Epoch 10: 100%|██████████| 3029/3029 [00:00<00:00, 8314.56it/s, train_loss=2.57]\n",
            "Epoch 11:  42%|████▏     | 1280/3029 [00:00<00:00, 7818.06it/s, train_loss=2.5] "
          ],
          "name": "stderr"
        },
        {
          "output_type": "stream",
          "text": [
            "\n",
            "Losses: train - 1.2678140, test - 1.3606428\n",
            "F1 test - 0.6881\n",
            "ACC test - 0.7300\n"
          ],
          "name": "stdout"
        },
        {
          "output_type": "stream",
          "text": [
            "Epoch 11: 100%|██████████| 3029/3029 [00:00<00:00, 7990.67it/s, train_loss=2.44]\n",
            "Epoch 12:  42%|████▏     | 1280/3029 [00:00<00:00, 7474.07it/s, train_loss=2.37]"
          ],
          "name": "stderr"
        },
        {
          "output_type": "stream",
          "text": [
            "\n",
            "Losses: train - 1.0671272, test - 1.2535679\n",
            "F1 test - 0.6987\n",
            "ACC test - 0.7400\n"
          ],
          "name": "stdout"
        },
        {
          "output_type": "stream",
          "text": [
            "Epoch 12: 100%|██████████| 3029/3029 [00:00<00:00, 7733.43it/s, train_loss=2.31]\n",
            "Epoch 13:  34%|███▍      | 1024/3029 [00:00<00:00, 6990.08it/s, train_loss=2.26]"
          ],
          "name": "stderr"
        },
        {
          "output_type": "stream",
          "text": [
            "\n",
            "Losses: train - 0.8958058, test - 1.1725848\n",
            "F1 test - 0.7076\n",
            "ACC test - 0.7460\n"
          ],
          "name": "stdout"
        },
        {
          "output_type": "stream",
          "text": [
            "Epoch 13: 100%|██████████| 3029/3029 [00:00<00:00, 7429.82it/s, train_loss=2.19]\n",
            "Epoch 14:  42%|████▏     | 1280/3029 [00:00<00:00, 8030.09it/s, train_loss=2.13]"
          ],
          "name": "stderr"
        },
        {
          "output_type": "stream",
          "text": [
            "\n",
            "Losses: train - 0.7554726, test - 1.1177316\n",
            "F1 test - 0.7212\n",
            "ACC test - 0.7560\n"
          ],
          "name": "stdout"
        },
        {
          "output_type": "stream",
          "text": [
            "Epoch 14: 100%|██████████| 3029/3029 [00:00<00:00, 8107.23it/s, train_loss=2.08]\n",
            "Epoch 15:  42%|████▏     | 1280/3029 [00:00<00:00, 8548.02it/s, train_loss=2.03]"
          ],
          "name": "stderr"
        },
        {
          "output_type": "stream",
          "text": [
            "\n",
            "Losses: train - 0.6380083, test - 1.0607534\n",
            "F1 test - 0.7258\n",
            "ACC test - 0.7540\n"
          ],
          "name": "stdout"
        },
        {
          "output_type": "stream",
          "text": [
            "Epoch 15: 100%|██████████| 3029/3029 [00:00<00:00, 8015.29it/s, train_loss=1.97]\n",
            "Epoch 16:  42%|████▏     | 1280/3029 [00:00<00:00, 8190.25it/s, train_loss=1.93]"
          ],
          "name": "stderr"
        },
        {
          "output_type": "stream",
          "text": [
            "\n",
            "Losses: train - 0.5474904, test - 1.0275313\n",
            "F1 test - 0.7438\n",
            "ACC test - 0.7660\n"
          ],
          "name": "stdout"
        },
        {
          "output_type": "stream",
          "text": [
            "Epoch 16: 100%|██████████| 3029/3029 [00:00<00:00, 8098.16it/s, train_loss=1.88]\n",
            "Epoch 17:  42%|████▏     | 1280/3029 [00:00<00:00, 8472.27it/s, train_loss=1.84]"
          ],
          "name": "stderr"
        },
        {
          "output_type": "stream",
          "text": [
            "\n",
            "Losses: train - 0.4672360, test - 1.0090408\n",
            "F1 test - 0.7532\n",
            "ACC test - 0.7720\n"
          ],
          "name": "stdout"
        },
        {
          "output_type": "stream",
          "text": [
            "Epoch 17: 100%|██████████| 3029/3029 [00:00<00:00, 7870.91it/s, train_loss=1.79]\n",
            "Epoch 18:  42%|████▏     | 1280/3029 [00:00<00:00, 8515.41it/s, train_loss=1.75]"
          ],
          "name": "stderr"
        },
        {
          "output_type": "stream",
          "text": [
            "\n",
            "Losses: train - 0.4048084, test - 0.9908533\n",
            "F1 test - 0.7509\n",
            "ACC test - 0.7700\n"
          ],
          "name": "stdout"
        },
        {
          "output_type": "stream",
          "text": [
            "Epoch 18: 100%|██████████| 3029/3029 [00:00<00:00, 8181.70it/s, train_loss=1.71]\n",
            "Epoch 19:  42%|████▏     | 1280/3029 [00:00<00:00, 8670.71it/s, train_loss=1.68]"
          ],
          "name": "stderr"
        },
        {
          "output_type": "stream",
          "text": [
            "\n",
            "Losses: train - 0.3498594, test - 0.9621821\n",
            "F1 test - 0.7660\n",
            "ACC test - 0.7820\n"
          ],
          "name": "stdout"
        },
        {
          "output_type": "stream",
          "text": [
            "Epoch 19: 100%|██████████| 3029/3029 [00:00<00:00, 8338.53it/s, train_loss=1.64]\n",
            "Epoch 20:  34%|███▍      | 1024/3029 [00:00<00:00, 7152.24it/s, train_loss=1.61]"
          ],
          "name": "stderr"
        },
        {
          "output_type": "stream",
          "text": [
            "\n",
            "Losses: train - 0.3088571, test - 0.9530812\n",
            "F1 test - 0.7580\n",
            "ACC test - 0.7740\n"
          ],
          "name": "stdout"
        },
        {
          "output_type": "stream",
          "text": [
            "Epoch 20: 100%|██████████| 3029/3029 [00:00<00:00, 7743.66it/s, train_loss=1.57]\n",
            "Epoch 21:  42%|████▏     | 1280/3029 [00:00<00:00, 8521.30it/s, train_loss=1.54]"
          ],
          "name": "stderr"
        },
        {
          "output_type": "stream",
          "text": [
            "\n",
            "Losses: train - 0.2718305, test - 0.9411243\n",
            "F1 test - 0.7763\n",
            "ACC test - 0.7880\n"
          ],
          "name": "stdout"
        },
        {
          "output_type": "stream",
          "text": [
            "Epoch 21: 100%|██████████| 3029/3029 [00:00<00:00, 8186.65it/s, train_loss=1.51]\n",
            "Epoch 1:   0%|          | 0/3029 [00:00<?, ?it/s, train_loss=3.86]"
          ],
          "name": "stderr"
        },
        {
          "output_type": "stream",
          "text": [
            "\n",
            "Losses: train - 0.2412973, test - 0.9436021\n",
            "F1 test - 0.7829\n",
            "ACC test - 0.7940\n",
            "Early stopping\n",
            "\n",
            "\n"
          ],
          "name": "stdout"
        },
        {
          "output_type": "stream",
          "text": [
            "Epoch 1: 100%|██████████| 3029/3029 [00:00<00:00, 7980.34it/s, train_loss=3.82]\n",
            "Epoch 2:  42%|████▏     | 1280/3029 [00:00<00:00, 8600.58it/s, train_loss=3.78]"
          ],
          "name": "stderr"
        },
        {
          "output_type": "stream",
          "text": [
            "\n",
            "Losses: train - 3.8170465, test - 3.7065476\n",
            "F1 test - 0.2270\n",
            "ACC test - 0.2740\n"
          ],
          "name": "stdout"
        },
        {
          "output_type": "stream",
          "text": [
            "Epoch 2: 100%|██████████| 3029/3029 [00:00<00:00, 8367.22it/s, train_loss=3.74]\n",
            "Epoch 3:  42%|████▏     | 1280/3029 [00:00<00:00, 8437.17it/s, train_loss=3.69]"
          ],
          "name": "stderr"
        },
        {
          "output_type": "stream",
          "text": [
            "\n",
            "Losses: train - 3.6716881, test - 3.4503217\n",
            "F1 test - 0.0218\n",
            "ACC test - 0.1100\n"
          ],
          "name": "stdout"
        },
        {
          "output_type": "stream",
          "text": [
            "Epoch 3: 100%|██████████| 3029/3029 [00:00<00:00, 8027.41it/s, train_loss=3.63]\n",
            "Epoch 4:  42%|████▏     | 1280/3029 [00:00<00:00, 8473.21it/s, train_loss=3.56]"
          ],
          "name": "stderr"
        },
        {
          "output_type": "stream",
          "text": [
            "\n",
            "Losses: train - 3.3970479, test - 3.0023866\n",
            "F1 test - 0.0218\n",
            "ACC test - 0.1100\n"
          ],
          "name": "stdout"
        },
        {
          "output_type": "stream",
          "text": [
            "Epoch 4: 100%|██████████| 3029/3029 [00:00<00:00, 8227.83it/s, train_loss=3.49]\n",
            "Epoch 5:  42%|████▏     | 1280/3029 [00:00<00:00, 8678.54it/s, train_loss=3.41]"
          ],
          "name": "stderr"
        },
        {
          "output_type": "stream",
          "text": [
            "\n",
            "Losses: train - 3.0673864, test - 2.6855125\n",
            "F1 test - 0.3037\n",
            "ACC test - 0.3400\n"
          ],
          "name": "stdout"
        },
        {
          "output_type": "stream",
          "text": [
            "Epoch 5: 100%|██████████| 3029/3029 [00:00<00:00, 8201.70it/s, train_loss=3.35]\n",
            "Epoch 6:  42%|████▏     | 1280/3029 [00:00<00:00, 8490.33it/s, train_loss=3.27]"
          ],
          "name": "stderr"
        },
        {
          "output_type": "stream",
          "text": [
            "\n",
            "Losses: train - 2.7738587, test - 2.4152519\n",
            "F1 test - 0.4147\n",
            "ACC test - 0.5240\n"
          ],
          "name": "stdout"
        },
        {
          "output_type": "stream",
          "text": [
            "Epoch 6: 100%|██████████| 3029/3029 [00:00<00:00, 8273.28it/s, train_loss=3.19]\n",
            "Epoch 7:  42%|████▏     | 1280/3029 [00:00<00:00, 8630.81it/s, train_loss=3.11]"
          ],
          "name": "stderr"
        },
        {
          "output_type": "stream",
          "text": [
            "\n",
            "Losses: train - 2.4400083, test - 2.1094091\n",
            "F1 test - 0.4756\n",
            "ACC test - 0.5720\n"
          ],
          "name": "stdout"
        },
        {
          "output_type": "stream",
          "text": [
            "Epoch 7: 100%|██████████| 3029/3029 [00:00<00:00, 8384.79it/s, train_loss=3.04]\n",
            "Epoch 8:  34%|███▍      | 1024/3029 [00:00<00:00, 6903.83it/s, train_loss=2.97]"
          ],
          "name": "stderr"
        },
        {
          "output_type": "stream",
          "text": [
            "\n",
            "Losses: train - 2.0910597, test - 1.8351007\n",
            "F1 test - 0.5416\n",
            "ACC test - 0.6300\n"
          ],
          "name": "stdout"
        },
        {
          "output_type": "stream",
          "text": [
            "Epoch 8: 100%|██████████| 3029/3029 [00:00<00:00, 7756.77it/s, train_loss=2.88]\n",
            "Epoch 9:  42%|████▏     | 1280/3029 [00:00<00:00, 8459.34it/s, train_loss=2.8] "
          ],
          "name": "stderr"
        },
        {
          "output_type": "stream",
          "text": [
            "\n",
            "Losses: train - 1.7589125, test - 1.6231729\n",
            "F1 test - 0.6198\n",
            "ACC test - 0.6860\n"
          ],
          "name": "stdout"
        },
        {
          "output_type": "stream",
          "text": [
            "Epoch 9: 100%|██████████| 3029/3029 [00:00<00:00, 8348.94it/s, train_loss=2.72]\n",
            "Epoch 10:  42%|████▏     | 1280/3029 [00:00<00:00, 8627.53it/s, train_loss=2.65]"
          ],
          "name": "stderr"
        },
        {
          "output_type": "stream",
          "text": [
            "\n",
            "Losses: train - 1.4721028, test - 1.4510123\n",
            "F1 test - 0.6564\n",
            "ACC test - 0.7100\n"
          ],
          "name": "stdout"
        },
        {
          "output_type": "stream",
          "text": [
            "Epoch 10: 100%|██████████| 3029/3029 [00:00<00:00, 7801.10it/s, train_loss=2.57]\n",
            "Epoch 11:  42%|████▏     | 1280/3029 [00:00<00:00, 8176.47it/s, train_loss=2.5] "
          ],
          "name": "stderr"
        },
        {
          "output_type": "stream",
          "text": [
            "\n",
            "Losses: train - 1.2293321, test - 1.3234763\n",
            "F1 test - 0.6834\n",
            "ACC test - 0.7260\n"
          ],
          "name": "stdout"
        },
        {
          "output_type": "stream",
          "text": [
            "Epoch 11: 100%|██████████| 3029/3029 [00:00<00:00, 8137.53it/s, train_loss=2.43]\n",
            "Epoch 12:  42%|████▏     | 1280/3029 [00:00<00:00, 8653.50it/s, train_loss=2.36]"
          ],
          "name": "stderr"
        },
        {
          "output_type": "stream",
          "text": [
            "\n",
            "Losses: train - 1.0191488, test - 1.2317814\n",
            "F1 test - 0.7000\n",
            "ACC test - 0.7400\n"
          ],
          "name": "stdout"
        },
        {
          "output_type": "stream",
          "text": [
            "Epoch 12: 100%|██████████| 3029/3029 [00:00<00:00, 8118.44it/s, train_loss=2.3]\n",
            "Epoch 13:  42%|████▏     | 1280/3029 [00:00<00:00, 8098.03it/s, train_loss=2.24]"
          ],
          "name": "stderr"
        },
        {
          "output_type": "stream",
          "text": [
            "\n",
            "Losses: train - 0.8510426, test - 1.1646524\n",
            "F1 test - 0.7054\n",
            "ACC test - 0.7380\n"
          ],
          "name": "stdout"
        },
        {
          "output_type": "stream",
          "text": [
            "Epoch 13: 100%|██████████| 3029/3029 [00:00<00:00, 8003.49it/s, train_loss=2.18]\n",
            "Epoch 14:  42%|████▏     | 1280/3029 [00:00<00:00, 8618.06it/s, train_loss=2.12]"
          ],
          "name": "stderr"
        },
        {
          "output_type": "stream",
          "text": [
            "\n",
            "Losses: train - 0.7183014, test - 1.1018986\n",
            "F1 test - 0.7206\n",
            "ACC test - 0.7500\n"
          ],
          "name": "stdout"
        },
        {
          "output_type": "stream",
          "text": [
            "Epoch 14: 100%|██████████| 3029/3029 [00:00<00:00, 8093.01it/s, train_loss=2.07]\n",
            "Epoch 15:  42%|████▏     | 1280/3029 [00:00<00:00, 8513.03it/s, train_loss=2.01]"
          ],
          "name": "stderr"
        },
        {
          "output_type": "stream",
          "text": [
            "\n",
            "Losses: train - 0.6081314, test - 1.0623979\n",
            "F1 test - 0.7397\n",
            "ACC test - 0.7660\n"
          ],
          "name": "stdout"
        },
        {
          "output_type": "stream",
          "text": [
            "Epoch 15: 100%|██████████| 3029/3029 [00:00<00:00, 8019.34it/s, train_loss=1.96]\n",
            "Epoch 16:  42%|████▏     | 1280/3029 [00:00<00:00, 8629.37it/s, train_loss=1.91]"
          ],
          "name": "stderr"
        },
        {
          "output_type": "stream",
          "text": [
            "\n",
            "Losses: train - 0.5169409, test - 1.0321704\n",
            "F1 test - 0.7404\n",
            "ACC test - 0.7620\n"
          ],
          "name": "stdout"
        },
        {
          "output_type": "stream",
          "text": [
            "Epoch 16: 100%|██████████| 3029/3029 [00:00<00:00, 8111.75it/s, train_loss=1.87]\n",
            "Epoch 17:  42%|████▏     | 1280/3029 [00:00<00:00, 8652.06it/s, train_loss=1.82]"
          ],
          "name": "stderr"
        },
        {
          "output_type": "stream",
          "text": [
            "\n",
            "Losses: train - 0.4420369, test - 0.9976442\n",
            "F1 test - 0.7458\n",
            "ACC test - 0.7680\n"
          ],
          "name": "stdout"
        },
        {
          "output_type": "stream",
          "text": [
            "Epoch 17: 100%|██████████| 3029/3029 [00:00<00:00, 7859.86it/s, train_loss=1.78]\n",
            "Epoch 18:  42%|████▏     | 1280/3029 [00:00<00:00, 8107.93it/s, train_loss=1.74]"
          ],
          "name": "stderr"
        },
        {
          "output_type": "stream",
          "text": [
            "\n",
            "Losses: train - 0.3841201, test - 0.9881974\n",
            "F1 test - 0.7427\n",
            "ACC test - 0.7620\n"
          ],
          "name": "stdout"
        },
        {
          "output_type": "stream",
          "text": [
            "Epoch 18: 100%|██████████| 3029/3029 [00:00<00:00, 8189.29it/s, train_loss=1.7]\n",
            "Epoch 19:  42%|████▏     | 1280/3029 [00:00<00:00, 8538.35it/s, train_loss=1.66]"
          ],
          "name": "stderr"
        },
        {
          "output_type": "stream",
          "text": [
            "\n",
            "Losses: train - 0.3338863, test - 0.9699503\n",
            "F1 test - 0.7491\n",
            "ACC test - 0.7660\n"
          ],
          "name": "stdout"
        },
        {
          "output_type": "stream",
          "text": [
            "Epoch 19: 100%|██████████| 3029/3029 [00:00<00:00, 8200.06it/s, train_loss=1.63]\n",
            "Epoch 20:  34%|███▍      | 1024/3029 [00:00<00:00, 7529.82it/s, train_loss=1.6]"
          ],
          "name": "stderr"
        },
        {
          "output_type": "stream",
          "text": [
            "\n",
            "Losses: train - 0.2949185, test - 0.9567986\n",
            "F1 test - 0.7590\n",
            "ACC test - 0.7740\n"
          ],
          "name": "stdout"
        },
        {
          "output_type": "stream",
          "text": [
            "Epoch 20: 100%|██████████| 3029/3029 [00:00<00:00, 7867.40it/s, train_loss=1.56]\n",
            "Epoch 21:  42%|████▏     | 1280/3029 [00:00<00:00, 8756.47it/s, train_loss=1.53]"
          ],
          "name": "stderr"
        },
        {
          "output_type": "stream",
          "text": [
            "\n",
            "Losses: train - 0.2611138, test - 0.9466850\n",
            "F1 test - 0.7631\n",
            "ACC test - 0.7780\n"
          ],
          "name": "stdout"
        },
        {
          "output_type": "stream",
          "text": [
            "Epoch 21: 100%|██████████| 3029/3029 [00:00<00:00, 8403.77it/s, train_loss=1.49]\n",
            "Epoch 22:  34%|███▍      | 1024/3029 [00:00<00:00, 8420.93it/s, train_loss=1.47]"
          ],
          "name": "stderr"
        },
        {
          "output_type": "stream",
          "text": [
            "\n",
            "Losses: train - 0.2324864, test - 0.9431956\n",
            "F1 test - 0.7771\n",
            "ACC test - 0.7860\n"
          ],
          "name": "stdout"
        },
        {
          "output_type": "stream",
          "text": [
            "Epoch 22: 100%|██████████| 3029/3029 [00:00<00:00, 7729.65it/s, train_loss=1.44]\n"
          ],
          "name": "stderr"
        },
        {
          "output_type": "stream",
          "text": [
            "\n",
            "Losses: train - 0.2091900, test - 0.9547124\n",
            "F1 test - 0.7813\n",
            "ACC test - 0.7880\n",
            "Early stopping\n",
            "\n",
            "\n",
            "f1_average: 0.7785811294042211, std:0.005006704918078391\n",
            "acc_average: 0.7893333333333334, std:0.003399346342395193\n"
          ],
          "name": "stdout"
        }
      ]
    },
    {
      "cell_type": "code",
      "metadata": {
        "colab_type": "code",
        "id": "bRN8SwlcQoM7",
        "colab": {}
      },
      "source": [
        ""
      ],
      "execution_count": 0,
      "outputs": []
    },
    {
      "cell_type": "markdown",
      "metadata": {
        "id": "r1s90XH3RsNH",
        "colab_type": "text"
      },
      "source": [
        "## Trec-50 + EDA"
      ]
    },
    {
      "cell_type": "code",
      "metadata": {
        "id": "IXbdG47YR-TP",
        "colab_type": "code",
        "colab": {}
      },
      "source": [
        "def read_eda_trec50(file_name, typ = 1):\n",
        "  \"type = 0 - trec6, type = 1 - trec50\"\n",
        "  labels = [i[:-1].split('\\t' )[0] for i in open(file_name, encoding = 'windows-1252').readlines()]\n",
        "  texts = [ i[:-1].split('\\t' )[1] for i in open(file_name, encoding = 'windows-1252').readlines()]\n",
        "  aug  = pd.DataFrame({'text':texts, 'labels': labels})\n",
        "  lbl2indx = {i:j for j, i in enumerate(aug.labels.unique())}\n",
        "  aug['lbl_index'] = aug.labels.apply(lambda x:lbl2indx[x])\n",
        "  return aug"
      ],
      "execution_count": 0,
      "outputs": []
    },
    {
      "cell_type": "markdown",
      "metadata": {
        "colab_type": "text",
        "id": "bV26MoaOQoM9"
      },
      "source": [
        "### 5000"
      ]
    },
    {
      "cell_type": "code",
      "metadata": {
        "colab_type": "code",
        "id": "kTaHm4pbQoM9",
        "colab": {}
      },
      "source": [
        "aug_data =  read_eda_trec50('trec50_splited/augmented_with_eda/trec-50_clear_5k_samples.txt')\n",
        "train_data, test_data, l2i = read_trec50('trec50_splited/trec50_5k.csv')"
      ],
      "execution_count": 0,
      "outputs": []
    },
    {
      "cell_type": "code",
      "metadata": {
        "colab_type": "code",
        "id": "2mpSLdN_QoM_",
        "colab": {}
      },
      "source": [
        "number_of_attemp_to_fit = 3"
      ],
      "execution_count": 0,
      "outputs": []
    },
    {
      "cell_type": "code",
      "metadata": {
        "colab_type": "code",
        "id": "WhgJeSBLQoNE",
        "colab": {}
      },
      "source": [
        "for instance in list(tqdm._instances):\n",
        "    tqdm._decr_instances(instance)"
      ],
      "execution_count": 0,
      "outputs": []
    },
    {
      "cell_type": "code",
      "metadata": {
        "colab_type": "code",
        "outputId": "20300036-56e0-4b5c-f609-b67caec63c81",
        "id": "AilE0NCRQoNG",
        "colab": {
          "base_uri": "https://localhost:8080/",
          "height": 1000
        }
      },
      "source": [
        "f1_scores, acc_scores = [], []\n",
        "for _ in range(number_of_attemp_to_fit):\n",
        "  f1_scor, acc_scor = train_base_MLP(pd.concat([train_data,aug_data]), test_data)\n",
        "  f1_scores.append(f1_scor)\n",
        "  acc_scores.append(acc_scor)\n",
        "print(\"f1_average: {}, std:{}\".format(np.mean(f1_scores), np.std(f1_scores)))\n",
        "print(\"acc_average: {}, std:{}\".format(np.mean(acc_scores), np.std(acc_scores)))"
      ],
      "execution_count": 0,
      "outputs": [
        {
          "output_type": "stream",
          "text": [
            "Epoch 1: 100%|██████████| 30054/30054 [00:12<00:00, 2411.37it/s, train_loss=2.45]\n",
            "Epoch 2:   1%|          | 256/30054 [00:00<00:12, 2388.85it/s, train_loss=2.43]"
          ],
          "name": "stderr"
        },
        {
          "output_type": "stream",
          "text": [
            "\n",
            "Losses: train - 2.4459326, test - 1.6270748\n",
            "F1 test - 0.5630\n",
            "ACC test - 0.6460\n"
          ],
          "name": "stdout"
        },
        {
          "output_type": "stream",
          "text": [
            "Epoch 2: 100%|██████████| 30054/30054 [00:12<00:00, 2386.75it/s, train_loss=1.42]\n",
            "Epoch 3:   1%|          | 256/30054 [00:00<00:12, 2423.73it/s, train_loss=1.42]"
          ],
          "name": "stderr"
        },
        {
          "output_type": "stream",
          "text": [
            "\n",
            "Losses: train - 0.4038181, test - 1.1040304\n",
            "F1 test - 0.7106\n",
            "ACC test - 0.7460\n"
          ],
          "name": "stdout"
        },
        {
          "output_type": "stream",
          "text": [
            "Epoch 3: 100%|██████████| 30054/30054 [00:12<00:00, 2424.08it/s, train_loss=0.975]\n",
            "Epoch 4:   1%|          | 256/30054 [00:00<00:12, 2345.57it/s, train_loss=0.972]"
          ],
          "name": "stderr"
        },
        {
          "output_type": "stream",
          "text": [
            "\n",
            "Losses: train - 0.0750950, test - 1.0050071\n",
            "F1 test - 0.7684\n",
            "ACC test - 0.7840\n"
          ],
          "name": "stdout"
        },
        {
          "output_type": "stream",
          "text": [
            "Epoch 4: 100%|██████████| 30054/30054 [00:12<00:00, 2406.85it/s, train_loss=0.737]\n"
          ],
          "name": "stderr"
        },
        {
          "output_type": "stream",
          "text": [
            "\n",
            "Losses: train - 0.0213205, test - 1.0185074\n",
            "F1 test - 0.6852\n",
            "ACC test - 0.6680\n",
            "Early stopping\n",
            "\n",
            "\n"
          ],
          "name": "stdout"
        },
        {
          "output_type": "stream",
          "text": [
            "Epoch 1: 100%|██████████| 30054/30054 [00:12<00:00, 2437.18it/s, train_loss=2.49]\n",
            "Epoch 2:   1%|          | 256/30054 [00:00<00:12, 2372.49it/s, train_loss=2.48]"
          ],
          "name": "stderr"
        },
        {
          "output_type": "stream",
          "text": [
            "\n",
            "Losses: train - 2.4926456, test - 1.6891851\n",
            "F1 test - 0.5430\n",
            "ACC test - 0.6300\n"
          ],
          "name": "stdout"
        },
        {
          "output_type": "stream",
          "text": [
            "Epoch 2: 100%|██████████| 30054/30054 [00:12<00:00, 2429.31it/s, train_loss=1.45]\n",
            "Epoch 3:   1%|          | 256/30054 [00:00<00:12, 2474.37it/s, train_loss=1.44]"
          ],
          "name": "stderr"
        },
        {
          "output_type": "stream",
          "text": [
            "\n",
            "Losses: train - 0.4067646, test - 1.0518471\n",
            "F1 test - 0.7283\n",
            "ACC test - 0.7580\n"
          ],
          "name": "stdout"
        },
        {
          "output_type": "stream",
          "text": [
            "Epoch 3: 100%|██████████| 30054/30054 [00:12<00:00, 2425.51it/s, train_loss=0.99]\n",
            "Epoch 4:   1%|          | 256/30054 [00:00<00:12, 2336.18it/s, train_loss=0.988]"
          ],
          "name": "stderr"
        },
        {
          "output_type": "stream",
          "text": [
            "\n",
            "Losses: train - 0.0717781, test - 0.9709540\n",
            "F1 test - 0.7758\n",
            "ACC test - 0.7940\n"
          ],
          "name": "stdout"
        },
        {
          "output_type": "stream",
          "text": [
            "Epoch 4: 100%|██████████| 30054/30054 [00:12<00:00, 2432.18it/s, train_loss=0.748]\n",
            "Epoch 5:   1%|          | 256/30054 [00:00<00:11, 2491.70it/s, train_loss=0.746]"
          ],
          "name": "stderr"
        },
        {
          "output_type": "stream",
          "text": [
            "\n",
            "Losses: train - 0.0202719, test - 0.9302223\n",
            "F1 test - 0.7890\n",
            "ACC test - 0.8040\n"
          ],
          "name": "stdout"
        },
        {
          "output_type": "stream",
          "text": [
            "Epoch 5: 100%|██████████| 30054/30054 [00:12<00:00, 2415.52it/s, train_loss=0.193]\n"
          ],
          "name": "stderr"
        },
        {
          "output_type": "stream",
          "text": [
            "\n",
            "Losses: train - 0.0105016, test - 0.9313288\n",
            "F1 test - 0.7807\n",
            "ACC test - 0.7980\n",
            "Early stopping\n",
            "\n",
            "\n"
          ],
          "name": "stdout"
        },
        {
          "output_type": "stream",
          "text": [
            "Epoch 1: 100%|██████████| 30054/30054 [00:12<00:00, 2391.51it/s, train_loss=2.46]\n",
            "Epoch 2:   1%|          | 256/30054 [00:00<00:11, 2486.65it/s, train_loss=2.44]"
          ],
          "name": "stderr"
        },
        {
          "output_type": "stream",
          "text": [
            "\n",
            "Losses: train - 2.4568043, test - 1.6451538\n",
            "F1 test - 0.5461\n",
            "ACC test - 0.6380\n"
          ],
          "name": "stdout"
        },
        {
          "output_type": "stream",
          "text": [
            "Epoch 2: 100%|██████████| 30054/30054 [00:12<00:00, 2438.14it/s, train_loss=1.42]\n",
            "Epoch 3:   1%|          | 256/30054 [00:00<00:11, 2487.23it/s, train_loss=1.42]"
          ],
          "name": "stderr"
        },
        {
          "output_type": "stream",
          "text": [
            "\n",
            "Losses: train - 0.3901491, test - 1.0949644\n",
            "F1 test - 0.7171\n",
            "ACC test - 0.7480\n"
          ],
          "name": "stdout"
        },
        {
          "output_type": "stream",
          "text": [
            "Epoch 3: 100%|██████████| 30054/30054 [00:12<00:00, 2433.78it/s, train_loss=0.972]\n",
            "Epoch 4:   1%|          | 256/30054 [00:00<00:11, 2502.93it/s, train_loss=0.97]"
          ],
          "name": "stderr"
        },
        {
          "output_type": "stream",
          "text": [
            "\n",
            "Losses: train - 0.0695168, test - 1.0176308\n",
            "F1 test - 0.7618\n",
            "ACC test - 0.7760\n"
          ],
          "name": "stdout"
        },
        {
          "output_type": "stream",
          "text": [
            "Epoch 4: 100%|██████████| 30054/30054 [00:12<00:00, 2436.11it/s, train_loss=0.734]\n",
            "Epoch 5:   1%|          | 256/30054 [00:00<00:13, 2208.23it/s, train_loss=0.733]"
          ],
          "name": "stderr"
        },
        {
          "output_type": "stream",
          "text": [
            "\n",
            "Losses: train - 0.0201485, test - 1.0074152\n",
            "F1 test - 0.7759\n",
            "ACC test - 0.7900\n"
          ],
          "name": "stdout"
        },
        {
          "output_type": "stream",
          "text": [
            "Epoch 5: 100%|██████████| 30054/30054 [00:12<00:00, 2428.35it/s, train_loss=0.185]\n"
          ],
          "name": "stderr"
        },
        {
          "output_type": "stream",
          "text": [
            "\n",
            "Losses: train - 0.0105820, test - 1.0120509\n",
            "F1 test - 0.7711\n",
            "ACC test - 0.7860\n",
            "Early stopping\n",
            "\n",
            "\n",
            "f1_average: 0.7456607214281638, std:0.0429153961234971\n",
            "acc_average: 0.7506666666666667, std:0.058659090419890494\n"
          ],
          "name": "stdout"
        }
      ]
    },
    {
      "cell_type": "markdown",
      "metadata": {
        "colab_type": "text",
        "id": "1o5I_QW_QoNI"
      },
      "source": [
        "### 4000"
      ]
    },
    {
      "cell_type": "code",
      "metadata": {
        "colab_type": "code",
        "id": "smbIKcZ2QoNI",
        "colab": {}
      },
      "source": [
        "aug_data =  read_eda_trec50('trec50_splited/augmented_with_eda/trec-50_clear_4k_samples.txt')\n",
        "train_data, test_data, l2i = read_trec50('trec50_splited/trec50_4k.csv')"
      ],
      "execution_count": 0,
      "outputs": []
    },
    {
      "cell_type": "code",
      "metadata": {
        "colab_type": "code",
        "id": "wItzTfltQoNK",
        "colab": {}
      },
      "source": [
        "number_of_attemp_to_fit = 3"
      ],
      "execution_count": 0,
      "outputs": []
    },
    {
      "cell_type": "code",
      "metadata": {
        "colab_type": "code",
        "id": "YPpW7C5QQoNO",
        "colab": {}
      },
      "source": [
        "for instance in list(tqdm._instances):\n",
        "    tqdm._decr_instances(instance)"
      ],
      "execution_count": 0,
      "outputs": []
    },
    {
      "cell_type": "code",
      "metadata": {
        "colab_type": "code",
        "outputId": "dcfe1532-2878-4e97-91ff-2ef15cda3ba2",
        "id": "JzWvpEvOQoNR",
        "colab": {
          "base_uri": "https://localhost:8080/",
          "height": 1000
        }
      },
      "source": [
        "f1_scores, acc_scores = [], []\n",
        "for _ in range(number_of_attemp_to_fit):\n",
        "  f1_scor, acc_scor = train_base_MLP(pd.concat([train_data,aug_data]), test_data)\n",
        "  f1_scores.append(f1_scor)\n",
        "  acc_scores.append(acc_scor)\n",
        "print(\"f1_average: {}, std:{}\".format(np.mean(f1_scores), np.std(f1_scores)))\n",
        "print(\"acc_average: {}, std:{}\".format(np.mean(acc_scores), np.std(acc_scores)))"
      ],
      "execution_count": 0,
      "outputs": [
        {
          "output_type": "stream",
          "text": [
            "Epoch 1: 100%|██████████| 23982/23982 [00:08<00:00, 2752.95it/s, train_loss=2.8]\n",
            "Epoch 2:   2%|▏         | 512/23982 [00:00<00:08, 2755.95it/s, train_loss=2.77]"
          ],
          "name": "stderr"
        },
        {
          "output_type": "stream",
          "text": [
            "\n",
            "Losses: train - 2.8009009, test - 1.9264770\n",
            "F1 test - 0.5185\n",
            "ACC test - 0.6140\n"
          ],
          "name": "stdout"
        },
        {
          "output_type": "stream",
          "text": [
            "Epoch 2: 100%|██████████| 23982/23982 [00:08<00:00, 2773.56it/s, train_loss=1.72]\n",
            "Epoch 3:   2%|▏         | 512/23982 [00:00<00:08, 2823.81it/s, train_loss=1.7]"
          ],
          "name": "stderr"
        },
        {
          "output_type": "stream",
          "text": [
            "\n",
            "Losses: train - 0.6328002, test - 1.1384248\n",
            "F1 test - 0.7199\n",
            "ACC test - 0.7500\n"
          ],
          "name": "stdout"
        },
        {
          "output_type": "stream",
          "text": [
            "Epoch 3: 100%|██████████| 23982/23982 [00:08<00:00, 2749.70it/s, train_loss=1.18]\n",
            "Epoch 4:   1%|          | 256/23982 [00:00<00:09, 2536.61it/s, train_loss=1.18]"
          ],
          "name": "stderr"
        },
        {
          "output_type": "stream",
          "text": [
            "\n",
            "Losses: train - 0.1128506, test - 1.0254436\n",
            "F1 test - 0.7571\n",
            "ACC test - 0.7720\n"
          ],
          "name": "stdout"
        },
        {
          "output_type": "stream",
          "text": [
            "Epoch 4: 100%|██████████| 23982/23982 [00:08<00:00, 2730.62it/s, train_loss=0.895]\n",
            "Epoch 5:   2%|▏         | 512/23982 [00:00<00:08, 2849.22it/s, train_loss=0.89]"
          ],
          "name": "stderr"
        },
        {
          "output_type": "stream",
          "text": [
            "\n",
            "Losses: train - 0.0334087, test - 1.0071841\n",
            "F1 test - 0.7528\n",
            "ACC test - 0.7640\n"
          ],
          "name": "stdout"
        },
        {
          "output_type": "stream",
          "text": [
            "Epoch 5: 100%|██████████| 23982/23982 [00:08<00:00, 2790.07it/s, train_loss=0.719]\n"
          ],
          "name": "stderr"
        },
        {
          "output_type": "stream",
          "text": [
            "\n",
            "Losses: train - 0.0160178, test - 1.0209623\n",
            "F1 test - 0.7660\n",
            "ACC test - 0.7780\n",
            "Early stopping\n",
            "\n",
            "\n"
          ],
          "name": "stdout"
        },
        {
          "output_type": "stream",
          "text": [
            "Epoch 1: 100%|██████████| 23982/23982 [00:08<00:00, 2808.16it/s, train_loss=2.81]\n",
            "Epoch 2:   2%|▏         | 512/23982 [00:00<00:08, 2837.54it/s, train_loss=2.78]"
          ],
          "name": "stderr"
        },
        {
          "output_type": "stream",
          "text": [
            "\n",
            "Losses: train - 2.8050616, test - 1.9187620\n",
            "F1 test - 0.5166\n",
            "ACC test - 0.6100\n"
          ],
          "name": "stdout"
        },
        {
          "output_type": "stream",
          "text": [
            "Epoch 2: 100%|██████████| 23982/23982 [00:08<00:00, 2790.69it/s, train_loss=1.71]\n",
            "Epoch 3:   2%|▏         | 512/23982 [00:00<00:08, 2882.21it/s, train_loss=1.7]"
          ],
          "name": "stderr"
        },
        {
          "output_type": "stream",
          "text": [
            "\n",
            "Losses: train - 0.6191297, test - 1.1208124\n",
            "F1 test - 0.7216\n",
            "ACC test - 0.7560\n"
          ],
          "name": "stdout"
        },
        {
          "output_type": "stream",
          "text": [
            "Epoch 3: 100%|██████████| 23982/23982 [00:08<00:00, 2798.20it/s, train_loss=1.18]\n",
            "Epoch 4:   2%|▏         | 512/23982 [00:00<00:08, 2655.88it/s, train_loss=1.17]"
          ],
          "name": "stderr"
        },
        {
          "output_type": "stream",
          "text": [
            "\n",
            "Losses: train - 0.1064115, test - 0.9930600\n",
            "F1 test - 0.7619\n",
            "ACC test - 0.7780\n"
          ],
          "name": "stdout"
        },
        {
          "output_type": "stream",
          "text": [
            "Epoch 4: 100%|██████████| 23982/23982 [00:08<00:00, 2779.94it/s, train_loss=0.89]\n"
          ],
          "name": "stderr"
        },
        {
          "output_type": "stream",
          "text": [
            "\n",
            "Losses: train - 0.0310554, test - 1.0282712\n",
            "F1 test - 0.7486\n",
            "ACC test - 0.7580\n",
            "Early stopping\n",
            "\n",
            "\n"
          ],
          "name": "stdout"
        },
        {
          "output_type": "stream",
          "text": [
            "Epoch 1: 100%|██████████| 23982/23982 [00:08<00:00, 2782.40it/s, train_loss=2.83]\n",
            "Epoch 2:   2%|▏         | 512/23982 [00:00<00:08, 2874.86it/s, train_loss=2.8]"
          ],
          "name": "stderr"
        },
        {
          "output_type": "stream",
          "text": [
            "\n",
            "Losses: train - 2.8294495, test - 1.9042442\n",
            "F1 test - 0.4880\n",
            "ACC test - 0.5920\n"
          ],
          "name": "stdout"
        },
        {
          "output_type": "stream",
          "text": [
            "Epoch 2: 100%|██████████| 23982/23982 [00:08<00:00, 2811.20it/s, train_loss=1.74]\n",
            "Epoch 3:   2%|▏         | 512/23982 [00:00<00:08, 2668.34it/s, train_loss=1.72]"
          ],
          "name": "stderr"
        },
        {
          "output_type": "stream",
          "text": [
            "\n",
            "Losses: train - 0.6408313, test - 1.0949577\n",
            "F1 test - 0.7143\n",
            "ACC test - 0.7520\n"
          ],
          "name": "stdout"
        },
        {
          "output_type": "stream",
          "text": [
            "Epoch 3: 100%|██████████| 23982/23982 [00:08<00:00, 2779.64it/s, train_loss=1.19]\n",
            "Epoch 4:   2%|▏         | 512/23982 [00:00<00:08, 2816.15it/s, train_loss=1.19]"
          ],
          "name": "stderr"
        },
        {
          "output_type": "stream",
          "text": [
            "\n",
            "Losses: train - 0.1140928, test - 0.9807351\n",
            "F1 test - 0.7677\n",
            "ACC test - 0.7840\n"
          ],
          "name": "stdout"
        },
        {
          "output_type": "stream",
          "text": [
            "Epoch 4: 100%|██████████| 23982/23982 [00:08<00:00, 2790.05it/s, train_loss=0.904]\n",
            "Epoch 5:   2%|▏         | 512/23982 [00:00<00:08, 2763.21it/s, train_loss=0.899]"
          ],
          "name": "stderr"
        },
        {
          "output_type": "stream",
          "text": [
            "\n",
            "Losses: train - 0.0323581, test - 0.9221534\n",
            "F1 test - 0.7705\n",
            "ACC test - 0.7880\n"
          ],
          "name": "stdout"
        },
        {
          "output_type": "stream",
          "text": [
            "Epoch 5: 100%|██████████| 23982/23982 [00:08<00:00, 2767.66it/s, train_loss=0.726]\n"
          ],
          "name": "stderr"
        },
        {
          "output_type": "stream",
          "text": [
            "\n",
            "Losses: train - 0.0154582, test - 0.9251614\n",
            "F1 test - 0.7704\n",
            "ACC test - 0.7880\n",
            "Early stopping\n",
            "\n",
            "\n",
            "f1_average: 0.7616458791313548, std:0.009398492383536931\n",
            "acc_average: 0.7746666666666666, std:0.012472191289246483\n"
          ],
          "name": "stdout"
        }
      ]
    },
    {
      "cell_type": "code",
      "metadata": {
        "colab_type": "code",
        "id": "O3by8rOAQoNT",
        "colab": {}
      },
      "source": [
        ""
      ],
      "execution_count": 0,
      "outputs": []
    },
    {
      "cell_type": "markdown",
      "metadata": {
        "colab_type": "text",
        "id": "NOrstNtYQoNV"
      },
      "source": [
        "### 3000"
      ]
    },
    {
      "cell_type": "code",
      "metadata": {
        "colab_type": "code",
        "id": "XTYsXdt1QoNV",
        "colab": {}
      },
      "source": [
        "aug_data =  read_eda_trec50('trec50_splited/augmented_with_eda/trec-50_clear_3k_samples.txt')\n",
        "train_data, test_data, l2i = read_trec50('trec50_splited/trec50_3k.csv')"
      ],
      "execution_count": 0,
      "outputs": []
    },
    {
      "cell_type": "code",
      "metadata": {
        "colab_type": "code",
        "id": "RnnmXG7MQoNX",
        "colab": {}
      },
      "source": [
        "number_of_attemp_to_fit = 3"
      ],
      "execution_count": 0,
      "outputs": []
    },
    {
      "cell_type": "code",
      "metadata": {
        "colab_type": "code",
        "id": "gHOfR2BEQoNa",
        "colab": {}
      },
      "source": [
        "for instance in list(tqdm._instances):\n",
        "    tqdm._decr_instances(instance)"
      ],
      "execution_count": 0,
      "outputs": []
    },
    {
      "cell_type": "code",
      "metadata": {
        "colab_type": "code",
        "outputId": "714e0211-87fb-4daf-e524-55482c4ae875",
        "id": "Wo-vDFDKQoNc",
        "colab": {
          "base_uri": "https://localhost:8080/",
          "height": 1000
        }
      },
      "source": [
        "f1_scores, acc_scores = [], []\n",
        "for _ in range(number_of_attemp_to_fit):\n",
        "  f1_scor, acc_scor = train_base_MLP(pd.concat([train_data,aug_data]), test_data)\n",
        "  f1_scores.append(f1_scor)\n",
        "  acc_scores.append(acc_scor)\n",
        "print(\"f1_average: {}, std:{}\".format(np.mean(f1_scores), np.std(f1_scores)))\n",
        "print(\"acc_average: {}, std:{}\".format(np.mean(acc_scores), np.std(acc_scores)))"
      ],
      "execution_count": 0,
      "outputs": [
        {
          "output_type": "stream",
          "text": [
            "Epoch 1: 100%|██████████| 13224/13224 [00:02<00:00, 4738.03it/s, train_loss=3.27]\n",
            "Epoch 2:   4%|▍         | 512/13224 [00:00<00:02, 4875.65it/s, train_loss=3.21]"
          ],
          "name": "stderr"
        },
        {
          "output_type": "stream",
          "text": [
            "\n",
            "Losses: train - 3.2687996, test - 2.9510626\n",
            "F1 test - 0.3015\n",
            "ACC test - 0.3700\n"
          ],
          "name": "stdout"
        },
        {
          "output_type": "stream",
          "text": [
            "Epoch 2: 100%|██████████| 13224/13224 [00:02<00:00, 4728.60it/s, train_loss=2.32]\n",
            "Epoch 3:   4%|▍         | 512/13224 [00:00<00:02, 4926.29it/s, train_loss=2.28]"
          ],
          "name": "stderr"
        },
        {
          "output_type": "stream",
          "text": [
            "\n",
            "Losses: train - 1.3809819, test - 2.0284351\n",
            "F1 test - 0.5397\n",
            "ACC test - 0.6280\n"
          ],
          "name": "stdout"
        },
        {
          "output_type": "stream",
          "text": [
            "Epoch 3: 100%|██████████| 13224/13224 [00:02<00:00, 4713.21it/s, train_loss=1.69]\n",
            "Epoch 4:   4%|▍         | 512/13224 [00:00<00:02, 5008.83it/s, train_loss=1.67]"
          ],
          "name": "stderr"
        },
        {
          "output_type": "stream",
          "text": [
            "\n",
            "Losses: train - 0.4271205, test - 1.7062571\n",
            "F1 test - 0.5806\n",
            "ACC test - 0.6420\n"
          ],
          "name": "stdout"
        },
        {
          "output_type": "stream",
          "text": [
            "Epoch 4: 100%|██████████| 13224/13224 [00:02<00:00, 4774.21it/s, train_loss=1.33]\n",
            "Epoch 5:   4%|▍         | 512/13224 [00:00<00:02, 4733.23it/s, train_loss=1.32]"
          ],
          "name": "stderr"
        },
        {
          "output_type": "stream",
          "text": [
            "\n",
            "Losses: train - 0.2549304, test - 1.5258670\n",
            "F1 test - 0.6607\n",
            "ACC test - 0.6920\n"
          ],
          "name": "stdout"
        },
        {
          "output_type": "stream",
          "text": [
            "Epoch 5: 100%|██████████| 13224/13224 [00:02<00:00, 4662.97it/s, train_loss=1.1]\n",
            "Epoch 6:   4%|▍         | 512/13224 [00:00<00:02, 5016.71it/s, train_loss=1.09]"
          ],
          "name": "stderr"
        },
        {
          "output_type": "stream",
          "text": [
            "\n",
            "Losses: train - 0.1747044, test - 1.3811510\n",
            "F1 test - 0.7063\n",
            "ACC test - 0.7260\n"
          ],
          "name": "stdout"
        },
        {
          "output_type": "stream",
          "text": [
            "Epoch 6: 100%|██████████| 13224/13224 [00:02<00:00, 4788.05it/s, train_loss=0.938]\n",
            "Epoch 7:   4%|▍         | 512/13224 [00:00<00:02, 4996.09it/s, train_loss=0.93] "
          ],
          "name": "stderr"
        },
        {
          "output_type": "stream",
          "text": [
            "\n",
            "Losses: train - 0.1203518, test - 1.3068978\n",
            "F1 test - 0.7205\n",
            "ACC test - 0.7300\n"
          ],
          "name": "stdout"
        },
        {
          "output_type": "stream",
          "text": [
            "Epoch 7: 100%|██████████| 13224/13224 [00:02<00:00, 4776.29it/s, train_loss=0.816]\n",
            "Epoch 8:   4%|▍         | 512/13224 [00:00<00:02, 4695.24it/s, train_loss=0.81] "
          ],
          "name": "stderr"
        },
        {
          "output_type": "stream",
          "text": [
            "\n",
            "Losses: train - 0.0838054, test - 1.2807336\n",
            "F1 test - 0.7201\n",
            "ACC test - 0.7260\n"
          ],
          "name": "stdout"
        },
        {
          "output_type": "stream",
          "text": [
            "Epoch 8: 100%|██████████| 13224/13224 [00:02<00:00, 4733.09it/s, train_loss=0.721]\n",
            "Epoch 9:   4%|▍         | 512/13224 [00:00<00:02, 5032.95it/s, train_loss=0.717]"
          ],
          "name": "stderr"
        },
        {
          "output_type": "stream",
          "text": [
            "\n",
            "Losses: train - 0.0598676, test - 1.1743366\n",
            "F1 test - 0.7384\n",
            "ACC test - 0.7500\n"
          ],
          "name": "stdout"
        },
        {
          "output_type": "stream",
          "text": [
            "Epoch 9: 100%|██████████| 13224/13224 [00:02<00:00, 4802.67it/s, train_loss=0.646]\n"
          ],
          "name": "stderr"
        },
        {
          "output_type": "stream",
          "text": [
            "\n",
            "Losses: train - 0.0425984, test - 1.2151657\n",
            "F1 test - 0.7387\n",
            "ACC test - 0.7440\n",
            "Early stopping\n",
            "\n",
            "\n"
          ],
          "name": "stdout"
        },
        {
          "output_type": "stream",
          "text": [
            "Epoch 1: 100%|██████████| 13224/13224 [00:02<00:00, 4506.89it/s, train_loss=3.22]\n",
            "Epoch 2:   4%|▍         | 512/13224 [00:00<00:02, 4925.96it/s, train_loss=3.16]"
          ],
          "name": "stderr"
        },
        {
          "output_type": "stream",
          "text": [
            "\n",
            "Losses: train - 3.2153216, test - 2.9992105\n",
            "F1 test - 0.1173\n",
            "ACC test - 0.2500\n"
          ],
          "name": "stdout"
        },
        {
          "output_type": "stream",
          "text": [
            "Epoch 2: 100%|██████████| 13224/13224 [00:02<00:00, 4629.68it/s, train_loss=2.3]\n",
            "Epoch 3:   4%|▍         | 512/13224 [00:00<00:02, 4959.87it/s, train_loss=2.25]"
          ],
          "name": "stderr"
        },
        {
          "output_type": "stream",
          "text": [
            "\n",
            "Losses: train - 1.3855960, test - 2.0590293\n",
            "F1 test - 0.5376\n",
            "ACC test - 0.6260\n"
          ],
          "name": "stdout"
        },
        {
          "output_type": "stream",
          "text": [
            "Epoch 3: 100%|██████████| 13224/13224 [00:02<00:00, 4754.70it/s, train_loss=1.68]\n",
            "Epoch 4:   4%|▍         | 512/13224 [00:00<00:02, 4714.03it/s, train_loss=1.66]"
          ],
          "name": "stderr"
        },
        {
          "output_type": "stream",
          "text": [
            "\n",
            "Losses: train - 0.4428484, test - 1.7300782\n",
            "F1 test - 0.5889\n",
            "ACC test - 0.6440\n"
          ],
          "name": "stdout"
        },
        {
          "output_type": "stream",
          "text": [
            "Epoch 4: 100%|██████████| 13224/13224 [00:02<00:00, 4753.63it/s, train_loss=1.33]\n",
            "Epoch 5:   4%|▍         | 512/13224 [00:00<00:02, 4963.91it/s, train_loss=1.31]"
          ],
          "name": "stderr"
        },
        {
          "output_type": "stream",
          "text": [
            "\n",
            "Losses: train - 0.2671021, test - 1.5386159\n",
            "F1 test - 0.6565\n",
            "ACC test - 0.6980\n"
          ],
          "name": "stdout"
        },
        {
          "output_type": "stream",
          "text": [
            "Epoch 5: 100%|██████████| 13224/13224 [00:02<00:00, 4749.20it/s, train_loss=1.1]\n",
            "Epoch 6:   4%|▍         | 512/13224 [00:00<00:02, 4896.83it/s, train_loss=1.09]"
          ],
          "name": "stderr"
        },
        {
          "output_type": "stream",
          "text": [
            "\n",
            "Losses: train - 0.1835037, test - 1.3791680\n",
            "F1 test - 0.7022\n",
            "ACC test - 0.7240\n"
          ],
          "name": "stdout"
        },
        {
          "output_type": "stream",
          "text": [
            "Epoch 6: 100%|██████████| 13224/13224 [00:02<00:00, 4716.50it/s, train_loss=0.937]\n",
            "Epoch 7:   4%|▍         | 512/13224 [00:00<00:02, 4997.09it/s, train_loss=0.929]"
          ],
          "name": "stderr"
        },
        {
          "output_type": "stream",
          "text": [
            "\n",
            "Losses: train - 0.1271230, test - 1.2743118\n",
            "F1 test - 0.7187\n",
            "ACC test - 0.7360\n"
          ],
          "name": "stdout"
        },
        {
          "output_type": "stream",
          "text": [
            "Epoch 7: 100%|██████████| 13224/13224 [00:02<00:00, 4715.08it/s, train_loss=0.816]\n"
          ],
          "name": "stderr"
        },
        {
          "output_type": "stream",
          "text": [
            "\n",
            "Losses: train - 0.0894937, test - 1.2841548\n",
            "F1 test - 0.7301\n",
            "ACC test - 0.7340\n",
            "Early stopping\n",
            "\n",
            "\n"
          ],
          "name": "stdout"
        },
        {
          "output_type": "stream",
          "text": [
            "Epoch 1: 100%|██████████| 13224/13224 [00:02<00:00, 4491.34it/s, train_loss=3.21]\n",
            "Epoch 2:   4%|▍         | 512/13224 [00:00<00:02, 4473.37it/s, train_loss=3.15]"
          ],
          "name": "stderr"
        },
        {
          "output_type": "stream",
          "text": [
            "\n",
            "Losses: train - 3.2110194, test - 2.9338326\n",
            "F1 test - 0.1236\n",
            "ACC test - 0.2600\n"
          ],
          "name": "stdout"
        },
        {
          "output_type": "stream",
          "text": [
            "Epoch 2: 100%|██████████| 13224/13224 [00:02<00:00, 4583.17it/s, train_loss=2.27]\n",
            "Epoch 3:   4%|▍         | 512/13224 [00:00<00:02, 4465.05it/s, train_loss=2.23]"
          ],
          "name": "stderr"
        },
        {
          "output_type": "stream",
          "text": [
            "\n",
            "Losses: train - 1.3361687, test - 2.0199640\n",
            "F1 test - 0.5339\n",
            "ACC test - 0.6240\n"
          ],
          "name": "stdout"
        },
        {
          "output_type": "stream",
          "text": [
            "Epoch 3: 100%|██████████| 13224/13224 [00:02<00:00, 4553.29it/s, train_loss=1.66]\n",
            "Epoch 4:   4%|▍         | 512/13224 [00:00<00:02, 4547.61it/s, train_loss=1.63]"
          ],
          "name": "stderr"
        },
        {
          "output_type": "stream",
          "text": [
            "\n",
            "Losses: train - 0.4293866, test - 1.6835470\n",
            "F1 test - 0.5896\n",
            "ACC test - 0.6540\n"
          ],
          "name": "stdout"
        },
        {
          "output_type": "stream",
          "text": [
            "Epoch 4: 100%|██████████| 13224/13224 [00:02<00:00, 4635.46it/s, train_loss=1.31]\n",
            "Epoch 5:   4%|▍         | 512/13224 [00:00<00:02, 4563.22it/s, train_loss=1.29]"
          ],
          "name": "stderr"
        },
        {
          "output_type": "stream",
          "text": [
            "\n",
            "Losses: train - 0.2581733, test - 1.5251436\n",
            "F1 test - 0.6581\n",
            "ACC test - 0.6860\n"
          ],
          "name": "stdout"
        },
        {
          "output_type": "stream",
          "text": [
            "Epoch 5: 100%|██████████| 13224/13224 [00:02<00:00, 4689.04it/s, train_loss=1.08]\n",
            "Epoch 6:   4%|▍         | 512/13224 [00:00<00:02, 4999.68it/s, train_loss=1.07]"
          ],
          "name": "stderr"
        },
        {
          "output_type": "stream",
          "text": [
            "\n",
            "Losses: train - 0.1785914, test - 1.4423379\n",
            "F1 test - 0.7109\n",
            "ACC test - 0.7200\n"
          ],
          "name": "stdout"
        },
        {
          "output_type": "stream",
          "text": [
            "Epoch 6: 100%|██████████| 13224/13224 [00:02<00:00, 4830.00it/s, train_loss=0.923]\n",
            "Epoch 7:   4%|▍         | 512/13224 [00:00<00:02, 4986.86it/s, train_loss=0.915]"
          ],
          "name": "stderr"
        },
        {
          "output_type": "stream",
          "text": [
            "\n",
            "Losses: train - 0.1254362, test - 1.3591104\n",
            "F1 test - 0.7130\n",
            "ACC test - 0.7200\n"
          ],
          "name": "stdout"
        },
        {
          "output_type": "stream",
          "text": [
            "Epoch 7: 100%|██████████| 13224/13224 [00:02<00:00, 4738.41it/s, train_loss=0.804]\n",
            "Epoch 8:   4%|▍         | 512/13224 [00:00<00:02, 4972.09it/s, train_loss=0.798]"
          ],
          "name": "stderr"
        },
        {
          "output_type": "stream",
          "text": [
            "\n",
            "Losses: train - 0.0880996, test - 1.3230854\n",
            "F1 test - 0.6155\n",
            "ACC test - 0.5920\n"
          ],
          "name": "stdout"
        },
        {
          "output_type": "stream",
          "text": [
            "Epoch 8: 100%|██████████| 13224/13224 [00:02<00:00, 4849.28it/s, train_loss=0.711]\n",
            "Epoch 9:   4%|▍         | 512/13224 [00:00<00:02, 4941.52it/s, train_loss=0.707]"
          ],
          "name": "stderr"
        },
        {
          "output_type": "stream",
          "text": [
            "\n",
            "Losses: train - 0.0627728, test - 1.2389755\n",
            "F1 test - 0.7398\n",
            "ACC test - 0.7440\n"
          ],
          "name": "stdout"
        },
        {
          "output_type": "stream",
          "text": [
            "Epoch 9: 100%|██████████| 13224/13224 [00:02<00:00, 4828.64it/s, train_loss=0.637]\n",
            "Epoch 10:   4%|▍         | 512/13224 [00:00<00:02, 4781.20it/s, train_loss=0.633]"
          ],
          "name": "stderr"
        },
        {
          "output_type": "stream",
          "text": [
            "\n",
            "Losses: train - 0.0459189, test - 1.1548907\n",
            "F1 test - 0.7380\n",
            "ACC test - 0.7480\n"
          ],
          "name": "stdout"
        },
        {
          "output_type": "stream",
          "text": [
            "Epoch 10: 100%|██████████| 13224/13224 [00:02<00:00, 4850.53it/s, train_loss=0.45]\n"
          ],
          "name": "stderr"
        },
        {
          "output_type": "stream",
          "text": [
            "\n",
            "Losses: train - 0.0340055, test - 1.1773059\n",
            "F1 test - 0.7599\n",
            "ACC test - 0.7580\n",
            "Early stopping\n",
            "\n",
            "\n",
            "f1_average: 0.7429172888415624, std:0.012494231489869853\n",
            "acc_average: 0.7453333333333333, std:0.009843215373488942\n"
          ],
          "name": "stdout"
        }
      ]
    },
    {
      "cell_type": "code",
      "metadata": {
        "colab_type": "code",
        "id": "DfYQ-gX3QoNg",
        "colab": {}
      },
      "source": [
        ""
      ],
      "execution_count": 0,
      "outputs": []
    },
    {
      "cell_type": "markdown",
      "metadata": {
        "id": "fHl0Jd-CZ014",
        "colab_type": "text"
      },
      "source": [
        "# SST2 - only full sentence"
      ]
    },
    {
      "cell_type": "markdown",
      "metadata": {
        "id": "YNDSP2pCgJef",
        "colab_type": "text"
      },
      "source": [
        "### 5000"
      ]
    },
    {
      "cell_type": "code",
      "metadata": {
        "colab_type": "code",
        "id": "KeoevDbEd5CM",
        "colab": {}
      },
      "source": [
        "train_data = pd.read_csv(\"sst2-splited/sst2_full_rev_5k.csv\", index_col=0)\n",
        "train_data.columns = ['text', 'lbl_index']"
      ],
      "execution_count": 0,
      "outputs": []
    },
    {
      "cell_type": "code",
      "metadata": {
        "colab_type": "code",
        "id": "ESrL2JERd5CO",
        "colab": {}
      },
      "source": [
        "test_data = pd.read_csv(\"sst2-splited/test.csv\", sep = '\\t')\n",
        "test_data.columns = ['text', 'lbl_index']"
      ],
      "execution_count": 0,
      "outputs": []
    },
    {
      "cell_type": "code",
      "metadata": {
        "colab_type": "code",
        "id": "V1dqmSOid5CQ",
        "colab": {}
      },
      "source": [
        "number_of_attemp_to_fit = 3"
      ],
      "execution_count": 0,
      "outputs": []
    },
    {
      "cell_type": "code",
      "metadata": {
        "colab_type": "code",
        "outputId": "cff8c46d-436b-4a21-ad89-5d00eed65044",
        "id": "w9YWpLeHd5CW",
        "colab": {
          "base_uri": "https://localhost:8080/",
          "height": 1000
        }
      },
      "source": [
        "f1_scores, acc_scores = [], []\n",
        "for _ in range(number_of_attemp_to_fit):\n",
        "  f1_scor, acc_scor = train_base_MLP(train_data, test_data)\n",
        "  f1_scores.append(f1_scor)\n",
        "  acc_scores.append(acc_scor)\n",
        "print(\"f1_average: {}, std:{}\".format(np.mean(f1_scores), np.std(f1_scores)))\n",
        "print(\"acc_average: {}, std:{}\".format(np.mean(acc_scores), np.std(acc_scores)))"
      ],
      "execution_count": 0,
      "outputs": [
        {
          "output_type": "stream",
          "text": [
            "Epoch 1: 100%|██████████| 5000/5000 [00:00<00:00, 6305.30it/s, train_loss=0.682]\n",
            "Epoch 2:  20%|██        | 1024/5000 [00:00<00:00, 6618.71it/s, train_loss=0.669]"
          ],
          "name": "stderr"
        },
        {
          "output_type": "stream",
          "text": [
            "\n",
            "Losses: train - 0.6822108, test - 0.6605804\n",
            "F1 test - 0.6386\n",
            "ACC test - 0.6667\n"
          ],
          "name": "stdout"
        },
        {
          "output_type": "stream",
          "text": [
            "Epoch 2: 100%|██████████| 5000/5000 [00:00<00:00, 6226.73it/s, train_loss=0.616]\n",
            "Epoch 3:  20%|██        | 1024/5000 [00:00<00:00, 6679.99it/s, train_loss=0.585]"
          ],
          "name": "stderr"
        },
        {
          "output_type": "stream",
          "text": [
            "\n",
            "Losses: train - 0.5494303, test - 0.5146898\n",
            "F1 test - 0.7796\n",
            "ACC test - 0.7798\n"
          ],
          "name": "stdout"
        },
        {
          "output_type": "stream",
          "text": [
            "Epoch 3: 100%|██████████| 5000/5000 [00:00<00:00, 6180.81it/s, train_loss=0.501]\n",
            "Epoch 4:  15%|█▌        | 768/5000 [00:00<00:00, 6341.24it/s, train_loss=0.477]"
          ],
          "name": "stderr"
        },
        {
          "output_type": "stream",
          "text": [
            "\n",
            "Losses: train - 0.2722840, test - 0.4567166\n",
            "F1 test - 0.7833\n",
            "ACC test - 0.7842\n"
          ],
          "name": "stdout"
        },
        {
          "output_type": "stream",
          "text": [
            "Epoch 4: 100%|██████████| 5000/5000 [00:00<00:00, 6237.60it/s, train_loss=0.401]\n"
          ],
          "name": "stderr"
        },
        {
          "output_type": "stream",
          "text": [
            "\n",
            "Losses: train - 0.0981195, test - 0.5068926\n",
            "F1 test - 0.7930\n",
            "ACC test - 0.7930\n",
            "Early stopping\n",
            "\n",
            "\n"
          ],
          "name": "stdout"
        },
        {
          "output_type": "stream",
          "text": [
            "Epoch 1: 100%|██████████| 5000/5000 [00:00<00:00, 5866.46it/s, train_loss=0.684]\n",
            "Epoch 2:  15%|█▌        | 768/5000 [00:00<00:00, 5735.11it/s, train_loss=0.677]"
          ],
          "name": "stderr"
        },
        {
          "output_type": "stream",
          "text": [
            "\n",
            "Losses: train - 0.6844680, test - 0.6652039\n",
            "F1 test - 0.4577\n",
            "ACC test - 0.5590\n"
          ],
          "name": "stdout"
        },
        {
          "output_type": "stream",
          "text": [
            "Epoch 2: 100%|██████████| 5000/5000 [00:00<00:00, 6034.14it/s, train_loss=0.626]\n",
            "Epoch 3:  15%|█▌        | 768/5000 [00:00<00:00, 5715.44it/s, train_loss=0.603]"
          ],
          "name": "stderr"
        },
        {
          "output_type": "stream",
          "text": [
            "\n",
            "Losses: train - 0.5672222, test - 0.5294781\n",
            "F1 test - 0.7736\n",
            "ACC test - 0.7743\n"
          ],
          "name": "stdout"
        },
        {
          "output_type": "stream",
          "text": [
            "Epoch 3: 100%|██████████| 5000/5000 [00:00<00:00, 6101.47it/s, train_loss=0.515]\n",
            "Epoch 4:  15%|█▌        | 768/5000 [00:00<00:00, 6248.18it/s, train_loss=0.491]"
          ],
          "name": "stderr"
        },
        {
          "output_type": "stream",
          "text": [
            "\n",
            "Losses: train - 0.2932524, test - 0.4392797\n",
            "F1 test - 0.7885\n",
            "ACC test - 0.7886\n"
          ],
          "name": "stdout"
        },
        {
          "output_type": "stream",
          "text": [
            "Epoch 4: 100%|██████████| 5000/5000 [00:00<00:00, 6202.82it/s, train_loss=0.413]\n"
          ],
          "name": "stderr"
        },
        {
          "output_type": "stream",
          "text": [
            "\n",
            "Losses: train - 0.1069238, test - 0.5185607\n",
            "F1 test - 0.7862\n",
            "ACC test - 0.7864\n",
            "Early stopping\n",
            "\n",
            "\n"
          ],
          "name": "stdout"
        },
        {
          "output_type": "stream",
          "text": [
            "Epoch 1: 100%|██████████| 5000/5000 [00:00<00:00, 5850.96it/s, train_loss=0.682]\n",
            "Epoch 2:  15%|█▌        | 768/5000 [00:00<00:00, 6455.28it/s, train_loss=0.672]"
          ],
          "name": "stderr"
        },
        {
          "output_type": "stream",
          "text": [
            "\n",
            "Losses: train - 0.6822996, test - 0.6608292\n",
            "F1 test - 0.6233\n",
            "ACC test - 0.6562\n"
          ],
          "name": "stdout"
        },
        {
          "output_type": "stream",
          "text": [
            "Epoch 2: 100%|██████████| 5000/5000 [00:00<00:00, 5973.60it/s, train_loss=0.614]\n",
            "Epoch 3:  15%|█▌        | 768/5000 [00:00<00:00, 6077.51it/s, train_loss=0.588]"
          ],
          "name": "stderr"
        },
        {
          "output_type": "stream",
          "text": [
            "\n",
            "Losses: train - 0.5450031, test - 0.5177668\n",
            "F1 test - 0.7764\n",
            "ACC test - 0.7770\n"
          ],
          "name": "stdout"
        },
        {
          "output_type": "stream",
          "text": [
            "Epoch 3: 100%|██████████| 5000/5000 [00:00<00:00, 6178.06it/s, train_loss=0.498]\n",
            "Epoch 4:  15%|█▌        | 768/5000 [00:00<00:00, 5772.39it/s, train_loss=0.474]"
          ],
          "name": "stderr"
        },
        {
          "output_type": "stream",
          "text": [
            "\n",
            "Losses: train - 0.2659460, test - 0.4437193\n",
            "F1 test - 0.7946\n",
            "ACC test - 0.7946\n"
          ],
          "name": "stdout"
        },
        {
          "output_type": "stream",
          "text": [
            "Epoch 4: 100%|██████████| 5000/5000 [00:00<00:00, 6057.97it/s, train_loss=0.396]\n"
          ],
          "name": "stderr"
        },
        {
          "output_type": "stream",
          "text": [
            "\n",
            "Losses: train - 0.0926472, test - 0.5216671\n",
            "F1 test - 0.7923\n",
            "ACC test - 0.7924\n",
            "Early stopping\n",
            "\n",
            "\n",
            "f1_average: 0.7904942443622508, std:0.0030600009703950553\n",
            "acc_average: 0.7905912502288119, std:0.0029854487333516636\n"
          ],
          "name": "stdout"
        }
      ]
    },
    {
      "cell_type": "code",
      "metadata": {
        "id": "rz62CzrMfLpD",
        "colab_type": "code",
        "colab": {}
      },
      "source": [
        ""
      ],
      "execution_count": 0,
      "outputs": []
    },
    {
      "cell_type": "markdown",
      "metadata": {
        "id": "Khs8OHWugGuF",
        "colab_type": "text"
      },
      "source": [
        "### 4000"
      ]
    },
    {
      "cell_type": "code",
      "metadata": {
        "colab_type": "code",
        "id": "w0Oy7BlNfkKy",
        "colab": {}
      },
      "source": [
        "train_data = pd.read_csv(\"sst2-splited/sst2_full_rev_4k.csv\", index_col=0)\n",
        "train_data.columns = ['text', 'lbl_index']"
      ],
      "execution_count": 0,
      "outputs": []
    },
    {
      "cell_type": "code",
      "metadata": {
        "colab_type": "code",
        "id": "UeqhR3oGfkK2",
        "colab": {}
      },
      "source": [
        "test_data = pd.read_csv(\"sst2-splited/test.csv\", sep = '\\t')\n",
        "test_data.columns = ['text', 'lbl_index']"
      ],
      "execution_count": 0,
      "outputs": []
    },
    {
      "cell_type": "code",
      "metadata": {
        "colab_type": "code",
        "id": "8XMTKai6fkK6",
        "colab": {}
      },
      "source": [
        "number_of_attemp_to_fit = 3"
      ],
      "execution_count": 0,
      "outputs": []
    },
    {
      "cell_type": "code",
      "metadata": {
        "colab_type": "code",
        "outputId": "f4663500-4ca9-4f0b-fb31-668634dce37e",
        "id": "8f1fRvncfkK8",
        "colab": {
          "base_uri": "https://localhost:8080/",
          "height": 1000
        }
      },
      "source": [
        "f1_scores, acc_scores = [], []\n",
        "for _ in range(number_of_attemp_to_fit):\n",
        "  f1_scor, acc_scor = train_base_MLP(train_data, test_data)\n",
        "  f1_scores.append(f1_scor)\n",
        "  acc_scores.append(acc_scor)\n",
        "print(\"f1_average: {}, std:{}\".format(np.mean(f1_scores), np.std(f1_scores)))\n",
        "print(\"acc_average: {}, std:{}\".format(np.mean(acc_scores), np.std(acc_scores)))"
      ],
      "execution_count": 0,
      "outputs": [
        {
          "output_type": "stream",
          "text": [
            "Epoch 1: 100%|██████████| 4000/4000 [00:00<00:00, 6346.13it/s, train_loss=0.686]\n",
            "Epoch 2:  26%|██▌       | 1024/4000 [00:00<00:00, 6636.32it/s, train_loss=0.676]"
          ],
          "name": "stderr"
        },
        {
          "output_type": "stream",
          "text": [
            "\n",
            "Losses: train - 0.6863489, test - 0.6716585\n",
            "F1 test - 0.4262\n",
            "ACC test - 0.5409\n"
          ],
          "name": "stdout"
        },
        {
          "output_type": "stream",
          "text": [
            "Epoch 2: 100%|██████████| 4000/4000 [00:00<00:00, 6621.31it/s, train_loss=0.646]\n",
            "Epoch 3:  26%|██▌       | 1024/4000 [00:00<00:00, 6713.46it/s, train_loss=0.621]"
          ],
          "name": "stderr"
        },
        {
          "output_type": "stream",
          "text": [
            "\n",
            "Losses: train - 0.6047938, test - 0.5809949\n",
            "F1 test - 0.7600\n",
            "ACC test - 0.7611\n"
          ],
          "name": "stdout"
        },
        {
          "output_type": "stream",
          "text": [
            "Epoch 3: 100%|██████████| 4000/4000 [00:00<00:00, 6646.26it/s, train_loss=0.558]\n",
            "Epoch 4:  26%|██▌       | 1024/4000 [00:00<00:00, 6710.13it/s, train_loss=0.524]"
          ],
          "name": "stderr"
        },
        {
          "output_type": "stream",
          "text": [
            "\n",
            "Losses: train - 0.3820232, test - 0.4534628\n",
            "F1 test - 0.7858\n",
            "ACC test - 0.7858\n"
          ],
          "name": "stdout"
        },
        {
          "output_type": "stream",
          "text": [
            "Epoch 4: 100%|██████████| 4000/4000 [00:00<00:00, 6712.27it/s, train_loss=0.46]\n"
          ],
          "name": "stderr"
        },
        {
          "output_type": "stream",
          "text": [
            "\n",
            "Losses: train - 0.1671372, test - 0.4818974\n",
            "F1 test - 0.7875\n",
            "ACC test - 0.7875\n",
            "Early stopping\n",
            "\n",
            "\n"
          ],
          "name": "stdout"
        },
        {
          "output_type": "stream",
          "text": [
            "Epoch 1: 100%|██████████| 4000/4000 [00:00<00:00, 6525.18it/s, train_loss=0.686]\n",
            "Epoch 2:  26%|██▌       | 1024/4000 [00:00<00:00, 7030.45it/s, train_loss=0.677]"
          ],
          "name": "stderr"
        },
        {
          "output_type": "stream",
          "text": [
            "\n",
            "Losses: train - 0.6864365, test - 0.6748888\n",
            "F1 test - 0.3882\n",
            "ACC test - 0.5250\n"
          ],
          "name": "stdout"
        },
        {
          "output_type": "stream",
          "text": [
            "Epoch 2: 100%|██████████| 4000/4000 [00:00<00:00, 6684.33it/s, train_loss=0.647]\n",
            "Epoch 3:  26%|██▌       | 1024/4000 [00:00<00:00, 6976.22it/s, train_loss=0.623]"
          ],
          "name": "stderr"
        },
        {
          "output_type": "stream",
          "text": [
            "\n",
            "Losses: train - 0.6085488, test - 0.5821758\n",
            "F1 test - 0.7710\n",
            "ACC test - 0.7710\n"
          ],
          "name": "stdout"
        },
        {
          "output_type": "stream",
          "text": [
            "Epoch 3: 100%|██████████| 4000/4000 [00:00<00:00, 6488.06it/s, train_loss=0.563]\n",
            "Epoch 4:  19%|█▉        | 768/4000 [00:00<00:00, 5788.64it/s, train_loss=0.535]"
          ],
          "name": "stderr"
        },
        {
          "output_type": "stream",
          "text": [
            "\n",
            "Losses: train - 0.3929758, test - 0.4623755\n",
            "F1 test - 0.7929\n",
            "ACC test - 0.7930\n"
          ],
          "name": "stdout"
        },
        {
          "output_type": "stream",
          "text": [
            "Epoch 4: 100%|██████████| 4000/4000 [00:00<00:00, 6082.06it/s, train_loss=0.465]\n"
          ],
          "name": "stderr"
        },
        {
          "output_type": "stream",
          "text": [
            "\n",
            "Losses: train - 0.1723148, test - 0.4666920\n",
            "F1 test - 0.7834\n",
            "ACC test - 0.7836\n",
            "Early stopping\n",
            "\n",
            "\n"
          ],
          "name": "stdout"
        },
        {
          "output_type": "stream",
          "text": [
            "Epoch 1: 100%|██████████| 4000/4000 [00:00<00:00, 6723.81it/s, train_loss=0.687]\n",
            "Epoch 2:  26%|██▌       | 1024/4000 [00:00<00:00, 6837.51it/s, train_loss=0.677]"
          ],
          "name": "stderr"
        },
        {
          "output_type": "stream",
          "text": [
            "\n",
            "Losses: train - 0.6873562, test - 0.6766916\n",
            "F1 test - 0.3631\n",
            "ACC test - 0.5129\n"
          ],
          "name": "stdout"
        },
        {
          "output_type": "stream",
          "text": [
            "Epoch 2: 100%|██████████| 4000/4000 [00:00<00:00, 6624.41it/s, train_loss=0.649]\n",
            "Epoch 3:  19%|█▉        | 768/4000 [00:00<00:00, 6280.92it/s, train_loss=0.63] "
          ],
          "name": "stderr"
        },
        {
          "output_type": "stream",
          "text": [
            "\n",
            "Losses: train - 0.6101276, test - 0.5882470\n",
            "F1 test - 0.7566\n",
            "ACC test - 0.7578\n"
          ],
          "name": "stdout"
        },
        {
          "output_type": "stream",
          "text": [
            "Epoch 3: 100%|██████████| 4000/4000 [00:00<00:00, 6502.09it/s, train_loss=0.564]\n",
            "Epoch 4:  19%|█▉        | 768/4000 [00:00<00:00, 6080.40it/s, train_loss=0.538]"
          ],
          "name": "stderr"
        },
        {
          "output_type": "stream",
          "text": [
            "\n",
            "Losses: train - 0.3956631, test - 0.4727655\n",
            "F1 test - 0.7886\n",
            "ACC test - 0.7886\n"
          ],
          "name": "stdout"
        },
        {
          "output_type": "stream",
          "text": [
            "Epoch 4: 100%|██████████| 4000/4000 [00:00<00:00, 6435.59it/s, train_loss=0.468]\n"
          ],
          "name": "stderr"
        },
        {
          "output_type": "stream",
          "text": [
            "\n",
            "Losses: train - 0.1783613, test - 0.5031808\n",
            "F1 test - 0.7793\n",
            "ACC test - 0.7798\n",
            "Early stopping\n",
            "\n",
            "\n",
            "f1_average: 0.7834211859862773, std:0.003316214733265369\n",
            "acc_average: 0.7836353651839648, std:0.003138646933824324\n"
          ],
          "name": "stdout"
        }
      ]
    },
    {
      "cell_type": "code",
      "metadata": {
        "id": "CVDXq0Q5fl_p",
        "colab_type": "code",
        "colab": {}
      },
      "source": [
        ""
      ],
      "execution_count": 0,
      "outputs": []
    },
    {
      "cell_type": "markdown",
      "metadata": {
        "id": "kc3glneJgEAw",
        "colab_type": "text"
      },
      "source": [
        "### 3000"
      ]
    },
    {
      "cell_type": "code",
      "metadata": {
        "colab_type": "code",
        "id": "62pHPVNJfuR1",
        "colab": {}
      },
      "source": [
        "train_data = pd.read_csv(\"sst2-splited/sst2_full_rev_3k.csv\", index_col=0)\n",
        "train_data.columns = ['text', 'lbl_index']"
      ],
      "execution_count": 0,
      "outputs": []
    },
    {
      "cell_type": "code",
      "metadata": {
        "colab_type": "code",
        "id": "Mxct973ufuR4",
        "colab": {}
      },
      "source": [
        "test_data = pd.read_csv(\"sst2-splited/test.csv\", sep = '\\t')\n",
        "test_data.columns = ['text', 'lbl_index']"
      ],
      "execution_count": 0,
      "outputs": []
    },
    {
      "cell_type": "code",
      "metadata": {
        "colab_type": "code",
        "id": "vlo4KJ1ffuR6",
        "colab": {}
      },
      "source": [
        "number_of_attemp_to_fit = 3"
      ],
      "execution_count": 0,
      "outputs": []
    },
    {
      "cell_type": "code",
      "metadata": {
        "colab_type": "code",
        "outputId": "51916951-3d9d-4695-8fce-2b3c6d9a3bb3",
        "id": "8dPWeDKSfuR9",
        "colab": {
          "base_uri": "https://localhost:8080/",
          "height": 1000
        }
      },
      "source": [
        "f1_scores, acc_scores = [], []\n",
        "for _ in range(number_of_attemp_to_fit):\n",
        "  f1_scor, acc_scor = train_base_MLP(train_data, test_data)\n",
        "  f1_scores.append(f1_scor)\n",
        "  acc_scores.append(acc_scor)\n",
        "print(\"f1_average: {}, std:{}\".format(np.mean(f1_scores), np.std(f1_scores)))\n",
        "print(\"acc_average: {}, std:{}\".format(np.mean(acc_scores), np.std(acc_scores)))"
      ],
      "execution_count": 0,
      "outputs": [
        {
          "output_type": "stream",
          "text": [
            "Epoch 1: 100%|██████████| 3000/3000 [00:00<00:00, 6765.13it/s, train_loss=0.688]\n",
            "Epoch 2:  34%|███▍      | 1024/3000 [00:00<00:00, 6819.57it/s, train_loss=0.68]"
          ],
          "name": "stderr"
        },
        {
          "output_type": "stream",
          "text": [
            "\n",
            "Losses: train - 0.6882160, test - 0.6822346\n",
            "F1 test - 0.3361\n",
            "ACC test - 0.5008\n"
          ],
          "name": "stdout"
        },
        {
          "output_type": "stream",
          "text": [
            "Epoch 2: 100%|██████████| 3000/3000 [00:00<00:00, 6498.49it/s, train_loss=0.666]\n",
            "Epoch 3:  34%|███▍      | 1024/3000 [00:00<00:00, 7000.55it/s, train_loss=0.648]"
          ],
          "name": "stderr"
        },
        {
          "output_type": "stream",
          "text": [
            "\n",
            "Losses: train - 0.6430098, test - 0.6428529\n",
            "F1 test - 0.6606\n",
            "ACC test - 0.6798\n"
          ],
          "name": "stdout"
        },
        {
          "output_type": "stream",
          "text": [
            "Epoch 3: 100%|██████████| 3000/3000 [00:00<00:00, 6803.31it/s, train_loss=0.617]\n",
            "Epoch 4:  34%|███▍      | 1024/3000 [00:00<00:00, 6982.07it/s, train_loss=0.587]"
          ],
          "name": "stderr"
        },
        {
          "output_type": "stream",
          "text": [
            "\n",
            "Losses: train - 0.5211129, test - 0.5591526\n",
            "F1 test - 0.7474\n",
            "ACC test - 0.7490\n"
          ],
          "name": "stdout"
        },
        {
          "output_type": "stream",
          "text": [
            "Epoch 4: 100%|██████████| 3000/3000 [00:00<00:00, 6692.20it/s, train_loss=0.544]\n",
            "Epoch 5:  34%|███▍      | 1024/3000 [00:00<00:00, 7340.44it/s, train_loss=0.51]"
          ],
          "name": "stderr"
        },
        {
          "output_type": "stream",
          "text": [
            "\n",
            "Losses: train - 0.3229786, test - 0.4756218\n",
            "F1 test - 0.7747\n",
            "ACC test - 0.7748\n"
          ],
          "name": "stdout"
        },
        {
          "output_type": "stream",
          "text": [
            "Epoch 5: 100%|██████████| 3000/3000 [00:00<00:00, 6865.36it/s, train_loss=0.468]\n"
          ],
          "name": "stderr"
        },
        {
          "output_type": "stream",
          "text": [
            "\n",
            "Losses: train - 0.1636350, test - 0.5160050\n",
            "F1 test - 0.7721\n",
            "ACC test - 0.7727\n",
            "Early stopping\n",
            "\n",
            "\n"
          ],
          "name": "stdout"
        },
        {
          "output_type": "stream",
          "text": [
            "Epoch 1: 100%|██████████| 3000/3000 [00:00<00:00, 6480.62it/s, train_loss=0.689]\n",
            "Epoch 2:  34%|███▍      | 1024/3000 [00:00<00:00, 6822.42it/s, train_loss=0.681]"
          ],
          "name": "stderr"
        },
        {
          "output_type": "stream",
          "text": [
            "\n",
            "Losses: train - 0.6890433, test - 0.6835613\n",
            "F1 test - 0.3493\n",
            "ACC test - 0.5069\n"
          ],
          "name": "stdout"
        },
        {
          "output_type": "stream",
          "text": [
            "Epoch 2: 100%|██████████| 3000/3000 [00:00<00:00, 6739.64it/s, train_loss=0.669]\n",
            "Epoch 3:  34%|███▍      | 1024/3000 [00:00<00:00, 6871.79it/s, train_loss=0.653]"
          ],
          "name": "stderr"
        },
        {
          "output_type": "stream",
          "text": [
            "\n",
            "Losses: train - 0.6484354, test - 0.6491149\n",
            "F1 test - 0.6944\n",
            "ACC test - 0.7040\n"
          ],
          "name": "stdout"
        },
        {
          "output_type": "stream",
          "text": [
            "Epoch 3: 100%|██████████| 3000/3000 [00:00<00:00, 6708.43it/s, train_loss=0.624]\n",
            "Epoch 4:  34%|███▍      | 1024/3000 [00:00<00:00, 6925.85it/s, train_loss=0.595]"
          ],
          "name": "stderr"
        },
        {
          "output_type": "stream",
          "text": [
            "\n",
            "Losses: train - 0.5342934, test - 0.5687403\n",
            "F1 test - 0.7486\n",
            "ACC test - 0.7496\n"
          ],
          "name": "stdout"
        },
        {
          "output_type": "stream",
          "text": [
            "Epoch 4: 100%|██████████| 3000/3000 [00:00<00:00, 6549.72it/s, train_loss=0.551]\n",
            "Epoch 5:  34%|███▍      | 1024/3000 [00:00<00:00, 6874.94it/s, train_loss=0.517]"
          ],
          "name": "stderr"
        },
        {
          "output_type": "stream",
          "text": [
            "\n",
            "Losses: train - 0.3327790, test - 0.4922626\n",
            "F1 test - 0.7715\n",
            "ACC test - 0.7716\n"
          ],
          "name": "stdout"
        },
        {
          "output_type": "stream",
          "text": [
            "Epoch 5: 100%|██████████| 3000/3000 [00:00<00:00, 6626.93it/s, train_loss=0.474]\n"
          ],
          "name": "stderr"
        },
        {
          "output_type": "stream",
          "text": [
            "\n",
            "Losses: train - 0.1654623, test - 0.5089349\n",
            "F1 test - 0.7787\n",
            "ACC test - 0.7787\n",
            "Early stopping\n",
            "\n",
            "\n"
          ],
          "name": "stdout"
        },
        {
          "output_type": "stream",
          "text": [
            "Epoch 1: 100%|██████████| 3000/3000 [00:00<00:00, 6724.55it/s, train_loss=0.688]\n",
            "Epoch 2:  34%|███▍      | 1024/3000 [00:00<00:00, 6215.67it/s, train_loss=0.679]"
          ],
          "name": "stderr"
        },
        {
          "output_type": "stream",
          "text": [
            "\n",
            "Losses: train - 0.6882678, test - 0.6826270\n",
            "F1 test - 0.3336\n",
            "ACC test - 0.4997\n"
          ],
          "name": "stdout"
        },
        {
          "output_type": "stream",
          "text": [
            "Epoch 2: 100%|██████████| 3000/3000 [00:00<00:00, 6416.05it/s, train_loss=0.663]\n",
            "Epoch 3:  34%|███▍      | 1024/3000 [00:00<00:00, 6633.89it/s, train_loss=0.644]"
          ],
          "name": "stderr"
        },
        {
          "output_type": "stream",
          "text": [
            "\n",
            "Losses: train - 0.6385550, test - 0.6380517\n",
            "F1 test - 0.6952\n",
            "ACC test - 0.7035\n"
          ],
          "name": "stdout"
        },
        {
          "output_type": "stream",
          "text": [
            "Epoch 3: 100%|██████████| 3000/3000 [00:00<00:00, 6703.04it/s, train_loss=0.611]\n",
            "Epoch 4:  34%|███▍      | 1024/3000 [00:00<00:00, 7194.07it/s, train_loss=0.58]"
          ],
          "name": "stderr"
        },
        {
          "output_type": "stream",
          "text": [
            "\n",
            "Losses: train - 0.5073611, test - 0.5530916\n",
            "F1 test - 0.7377\n",
            "ACC test - 0.7392\n"
          ],
          "name": "stdout"
        },
        {
          "output_type": "stream",
          "text": [
            "Epoch 4: 100%|██████████| 3000/3000 [00:00<00:00, 6927.06it/s, train_loss=0.535]\n",
            "Epoch 5:  34%|███▍      | 1024/3000 [00:00<00:00, 6661.81it/s, train_loss=0.501]"
          ],
          "name": "stderr"
        },
        {
          "output_type": "stream",
          "text": [
            "\n",
            "Losses: train - 0.3053469, test - 0.4749095\n",
            "F1 test - 0.7560\n",
            "ACC test - 0.7567\n"
          ],
          "name": "stdout"
        },
        {
          "output_type": "stream",
          "text": [
            "Epoch 5: 100%|██████████| 3000/3000 [00:00<00:00, 6539.83it/s, train_loss=0.458]\n"
          ],
          "name": "stderr"
        },
        {
          "output_type": "stream",
          "text": [
            "\n",
            "Losses: train - 0.1512273, test - 0.5179461\n",
            "F1 test - 0.7704\n",
            "ACC test - 0.7705\n",
            "Early stopping\n",
            "\n",
            "\n",
            "f1_average: 0.77371200122608, std:0.003592742944736432\n",
            "acc_average: 0.7739337360424675, std:0.0034827562860041414\n"
          ],
          "name": "stdout"
        }
      ]
    },
    {
      "cell_type": "code",
      "metadata": {
        "id": "JuZID90hfwyR",
        "colab_type": "code",
        "colab": {}
      },
      "source": [
        ""
      ],
      "execution_count": 0,
      "outputs": []
    },
    {
      "cell_type": "markdown",
      "metadata": {
        "id": "XUMtfL26jJ_Y",
        "colab_type": "text"
      },
      "source": [
        "# SST2 + EDA"
      ]
    },
    {
      "cell_type": "code",
      "metadata": {
        "id": "3d2h3fgBjMqH",
        "colab_type": "code",
        "colab": {}
      },
      "source": [
        "def read_eda_sst2(file_name):\n",
        "  labels = [i[:-1].split('\\t' )[0] for i in open(file_name).readlines()]\n",
        "  texts = [ i[:-1].split('\\t' )[1] for i in open(file_name).readlines()]\n",
        "  aug  = pd.DataFrame({'text':texts, 'lbl_index': [int(i) for i in labels]})\n",
        "  return aug"
      ],
      "execution_count": 0,
      "outputs": []
    },
    {
      "cell_type": "markdown",
      "metadata": {
        "id": "Drub5h-FkQsz",
        "colab_type": "text"
      },
      "source": [
        "### 3000"
      ]
    },
    {
      "cell_type": "code",
      "metadata": {
        "id": "7g4n0KpNjb5E",
        "colab_type": "code",
        "colab": {}
      },
      "source": [
        "aug_data = read_eda_sst2('sst2-splited/augmented_with_eda/sst2_full_rev_3k.txt')"
      ],
      "execution_count": 0,
      "outputs": []
    },
    {
      "cell_type": "code",
      "metadata": {
        "colab_type": "code",
        "id": "dNM7ffF6jM8U",
        "colab": {}
      },
      "source": [
        "train_data = pd.read_csv(\"sst2-splited/sst2_full_rev_3k.csv\", index_col=0)\n",
        "train_data.columns = ['text', 'lbl_index']"
      ],
      "execution_count": 0,
      "outputs": []
    },
    {
      "cell_type": "code",
      "metadata": {
        "colab_type": "code",
        "id": "ikAwlZkEjM8Y",
        "colab": {}
      },
      "source": [
        "test_data = pd.read_csv(\"sst2-splited/test.csv\", sep = '\\t')\n",
        "test_data.columns = ['text', 'lbl_index']"
      ],
      "execution_count": 0,
      "outputs": []
    },
    {
      "cell_type": "code",
      "metadata": {
        "colab_type": "code",
        "id": "qJCq5IEZjM8b",
        "colab": {}
      },
      "source": [
        "number_of_attemp_to_fit = 3"
      ],
      "execution_count": 0,
      "outputs": []
    },
    {
      "cell_type": "code",
      "metadata": {
        "colab_type": "code",
        "outputId": "d5322d94-6087-4574-bafd-c94d9ee9e914",
        "id": "-ckSE7FujM8e",
        "colab": {
          "base_uri": "https://localhost:8080/",
          "height": 714
        }
      },
      "source": [
        "f1_scores, acc_scores = [], []\n",
        "for _ in range(number_of_attemp_to_fit):\n",
        "  f1_scor, acc_scor = train_base_MLP(pd.concat([train_data, aug_data]), test_data)\n",
        "  f1_scores.append(f1_scor)\n",
        "  acc_scores.append(acc_scor)\n",
        "print(\"f1_average: {}, std:{}\".format(np.mean(f1_scores), np.std(f1_scores)))\n",
        "print(\"acc_average: {}, std:{}\".format(np.mean(acc_scores), np.std(acc_scores)))"
      ],
      "execution_count": 0,
      "outputs": [
        {
          "output_type": "stream",
          "text": [
            "Epoch 1: 100%|██████████| 18000/18000 [00:11<00:00, 1517.47it/s, train_loss=0.293]\n",
            "Epoch 2:   1%|▏         | 256/18000 [00:00<00:11, 1567.38it/s, train_loss=0.289]"
          ],
          "name": "stderr"
        },
        {
          "output_type": "stream",
          "text": [
            "\n",
            "Losses: train - 0.2926716, test - 0.5255683\n",
            "F1 test - 0.7747\n",
            "ACC test - 0.7748\n"
          ],
          "name": "stdout"
        },
        {
          "output_type": "stream",
          "text": [
            "Epoch 2: 100%|██████████| 18000/18000 [00:11<00:00, 1551.94it/s, train_loss=0.147]\n"
          ],
          "name": "stderr"
        },
        {
          "output_type": "stream",
          "text": [
            "\n",
            "Losses: train - 0.0021820, test - 0.6239300\n",
            "F1 test - 0.7732\n",
            "ACC test - 0.7732\n",
            "Early stopping\n",
            "\n",
            "\n"
          ],
          "name": "stdout"
        },
        {
          "output_type": "stream",
          "text": [
            "Epoch 1: 100%|██████████| 18000/18000 [00:11<00:00, 1586.09it/s, train_loss=0.301]\n",
            "Epoch 2:   1%|▏         | 256/18000 [00:00<00:11, 1590.58it/s, train_loss=0.297]"
          ],
          "name": "stderr"
        },
        {
          "output_type": "stream",
          "text": [
            "\n",
            "Losses: train - 0.3013420, test - 0.5473197\n",
            "F1 test - 0.7756\n",
            "ACC test - 0.7759\n"
          ],
          "name": "stdout"
        },
        {
          "output_type": "stream",
          "text": [
            "Epoch 2: 100%|██████████| 18000/18000 [00:11<00:00, 1584.69it/s, train_loss=0.152]\n"
          ],
          "name": "stderr"
        },
        {
          "output_type": "stream",
          "text": [
            "\n",
            "Losses: train - 0.0023252, test - 0.6042530\n",
            "F1 test - 0.7601\n",
            "ACC test - 0.7611\n",
            "Early stopping\n",
            "\n",
            "\n"
          ],
          "name": "stdout"
        },
        {
          "output_type": "stream",
          "text": [
            "Epoch 1: 100%|██████████| 18000/18000 [00:11<00:00, 1612.93it/s, train_loss=0.298]\n",
            "Epoch 2:   1%|▏         | 256/18000 [00:00<00:10, 1623.72it/s, train_loss=0.294]"
          ],
          "name": "stderr"
        },
        {
          "output_type": "stream",
          "text": [
            "\n",
            "Losses: train - 0.2980768, test - 0.5230800\n",
            "F1 test - 0.7731\n",
            "ACC test - 0.7732\n"
          ],
          "name": "stdout"
        },
        {
          "output_type": "stream",
          "text": [
            "Epoch 2: 100%|██████████| 18000/18000 [00:11<00:00, 1615.86it/s, train_loss=0.15]\n"
          ],
          "name": "stderr"
        },
        {
          "output_type": "stream",
          "text": [
            "\n",
            "Losses: train - 0.0021756, test - 0.6158528\n",
            "F1 test - 0.7625\n",
            "ACC test - 0.7639\n",
            "Early stopping\n",
            "\n",
            "\n",
            "f1_average: 0.7652481353676835, std:0.005710114514164185\n",
            "acc_average: 0.7660626029654036, std:0.005170948889557207\n"
          ],
          "name": "stdout"
        }
      ]
    },
    {
      "cell_type": "code",
      "metadata": {
        "id": "rGnDJXpFjmP2",
        "colab_type": "code",
        "colab": {}
      },
      "source": [
        ""
      ],
      "execution_count": 0,
      "outputs": []
    },
    {
      "cell_type": "markdown",
      "metadata": {
        "id": "wwVFkJ6Bj0On",
        "colab_type": "text"
      },
      "source": [
        "### 4000"
      ]
    },
    {
      "cell_type": "code",
      "metadata": {
        "colab_type": "code",
        "id": "Zk5bfuyhjozB",
        "colab": {}
      },
      "source": [
        "aug_data = read_eda_sst2('sst2-splited/augmented_with_eda/sst2_full_rev_4k.txt')"
      ],
      "execution_count": 0,
      "outputs": []
    },
    {
      "cell_type": "code",
      "metadata": {
        "colab_type": "code",
        "id": "bW19jIxojozF",
        "colab": {}
      },
      "source": [
        "train_data = pd.read_csv(\"sst2-splited/sst2_full_rev_4k.csv\", index_col=0)\n",
        "train_data.columns = ['text', 'lbl_index']\n",
        "test_data = pd.read_csv(\"sst2-splited/test.csv\", sep = '\\t')\n",
        "test_data.columns = ['text', 'lbl_index']\n",
        "number_of_attemp_to_fit = 3"
      ],
      "execution_count": 0,
      "outputs": []
    },
    {
      "cell_type": "code",
      "metadata": {
        "colab_type": "code",
        "outputId": "7b44ca91-add8-41aa-f227-fa691418b283",
        "id": "n0cQPtb-jozM",
        "colab": {
          "base_uri": "https://localhost:8080/",
          "height": 714
        }
      },
      "source": [
        "f1_scores, acc_scores = [], []\n",
        "for _ in range(number_of_attemp_to_fit):\n",
        "  f1_scor, acc_scor = train_base_MLP(pd.concat([train_data, aug_data]), test_data)\n",
        "  f1_scores.append(f1_scor)\n",
        "  acc_scores.append(acc_scor)\n",
        "print(\"f1_average: {}, std:{}\".format(np.mean(f1_scores), np.std(f1_scores)))\n",
        "print(\"acc_average: {}, std:{}\".format(np.mean(acc_scores), np.std(acc_scores)))"
      ],
      "execution_count": 0,
      "outputs": [
        {
          "output_type": "stream",
          "text": [
            "Epoch 1: 100%|██████████| 24000/24000 [00:17<00:00, 1407.91it/s, train_loss=0.243]\n",
            "Epoch 2:   1%|          | 256/24000 [00:00<00:16, 1419.57it/s, train_loss=0.241]"
          ],
          "name": "stderr"
        },
        {
          "output_type": "stream",
          "text": [
            "\n",
            "Losses: train - 0.2432445, test - 0.5312508\n",
            "F1 test - 0.7844\n",
            "ACC test - 0.7847\n"
          ],
          "name": "stdout"
        },
        {
          "output_type": "stream",
          "text": [
            "Epoch 2: 100%|██████████| 24000/24000 [00:16<00:00, 1413.08it/s, train_loss=0.122]\n"
          ],
          "name": "stderr"
        },
        {
          "output_type": "stream",
          "text": [
            "\n",
            "Losses: train - 0.0016989, test - 0.5923023\n",
            "F1 test - 0.7800\n",
            "ACC test - 0.7803\n",
            "Early stopping\n",
            "\n",
            "\n"
          ],
          "name": "stdout"
        },
        {
          "output_type": "stream",
          "text": [
            "Epoch 1: 100%|██████████| 24000/24000 [00:17<00:00, 1407.32it/s, train_loss=0.24]\n",
            "Epoch 2:   1%|          | 256/24000 [00:00<00:16, 1448.47it/s, train_loss=0.237]"
          ],
          "name": "stderr"
        },
        {
          "output_type": "stream",
          "text": [
            "\n",
            "Losses: train - 0.2396566, test - 0.5560362\n",
            "F1 test - 0.7840\n",
            "ACC test - 0.7842\n"
          ],
          "name": "stdout"
        },
        {
          "output_type": "stream",
          "text": [
            "Epoch 2: 100%|██████████| 24000/24000 [00:17<00:00, 1406.00it/s, train_loss=0.121]\n"
          ],
          "name": "stderr"
        },
        {
          "output_type": "stream",
          "text": [
            "\n",
            "Losses: train - 0.0016261, test - 0.6753782\n",
            "F1 test - 0.7835\n",
            "ACC test - 0.7836\n",
            "Early stopping\n",
            "\n",
            "\n"
          ],
          "name": "stdout"
        },
        {
          "output_type": "stream",
          "text": [
            "Epoch 1: 100%|██████████| 24000/24000 [00:17<00:00, 1401.56it/s, train_loss=0.238]\n",
            "Epoch 2:   1%|          | 256/24000 [00:00<00:16, 1436.36it/s, train_loss=0.235]"
          ],
          "name": "stderr"
        },
        {
          "output_type": "stream",
          "text": [
            "\n",
            "Losses: train - 0.2376957, test - 0.6118457\n",
            "F1 test - 0.7924\n",
            "ACC test - 0.7924\n"
          ],
          "name": "stdout"
        },
        {
          "output_type": "stream",
          "text": [
            "Epoch 2: 100%|██████████| 24000/24000 [00:17<00:00, 1401.35it/s, train_loss=0.12]\n"
          ],
          "name": "stderr"
        },
        {
          "output_type": "stream",
          "text": [
            "\n",
            "Losses: train - 0.0020045, test - 0.6124856\n",
            "F1 test - 0.7842\n",
            "ACC test - 0.7847\n",
            "Early stopping\n",
            "\n",
            "\n",
            "f1_average: 0.7825804384674262, std:0.001849636893220908\n",
            "acc_average: 0.7829031667581914, std:0.001866747030420183\n"
          ],
          "name": "stdout"
        }
      ]
    },
    {
      "cell_type": "markdown",
      "metadata": {
        "id": "Pc6ZkeObjx8b",
        "colab_type": "text"
      },
      "source": [
        "### 5000"
      ]
    },
    {
      "cell_type": "code",
      "metadata": {
        "colab_type": "code",
        "id": "PcCgFUpAjvCV",
        "colab": {}
      },
      "source": [
        "aug_data = read_eda_sst2('sst2-splited/augmented_with_eda/sst2_full_rev_5k.txt')"
      ],
      "execution_count": 0,
      "outputs": []
    },
    {
      "cell_type": "code",
      "metadata": {
        "colab_type": "code",
        "id": "kdWT7v4RjvCa",
        "colab": {}
      },
      "source": [
        "train_data = pd.read_csv(\"sst2-splited/sst2_full_rev_5k.csv\", index_col=0)\n",
        "train_data.columns = ['text', 'lbl_index']\n",
        "test_data = pd.read_csv(\"sst2-splited/test.csv\", sep = '\\t')\n",
        "test_data.columns = ['text', 'lbl_index']\n",
        "number_of_attemp_to_fit = 3"
      ],
      "execution_count": 0,
      "outputs": []
    },
    {
      "cell_type": "code",
      "metadata": {
        "colab_type": "code",
        "outputId": "4e0f3c95-aa9a-4b9d-8246-b071d13a2705",
        "id": "-uBXHefjjvCc",
        "colab": {
          "base_uri": "https://localhost:8080/",
          "height": 714
        }
      },
      "source": [
        "f1_scores, acc_scores = [], []\n",
        "for _ in range(number_of_attemp_to_fit):\n",
        "  f1_scor, acc_scor = train_base_MLP(pd.concat([train_data, aug_data]), test_data)\n",
        "  f1_scores.append(f1_scor)\n",
        "  acc_scores.append(acc_scor)\n",
        "print(\"f1_average: {}, std:{}\".format(np.mean(f1_scores), np.std(f1_scores)))\n",
        "print(\"acc_average: {}, std:{}\".format(np.mean(acc_scores), np.std(acc_scores)))"
      ],
      "execution_count": 0,
      "outputs": [
        {
          "output_type": "stream",
          "text": [
            "Epoch 1: 100%|██████████| 27185/27185 [00:21<00:00, 1290.03it/s, train_loss=0.226]\n",
            "Epoch 2:   1%|          | 256/27185 [00:00<00:20, 1304.24it/s, train_loss=0.224]"
          ],
          "name": "stderr"
        },
        {
          "output_type": "stream",
          "text": [
            "\n",
            "Losses: train - 0.2257088, test - 0.5959769\n",
            "F1 test - 0.7804\n",
            "ACC test - 0.7831\n"
          ],
          "name": "stdout"
        },
        {
          "output_type": "stream",
          "text": [
            "Epoch 2: 100%|██████████| 27185/27185 [00:20<00:00, 1306.78it/s, train_loss=0.115]\n"
          ],
          "name": "stderr"
        },
        {
          "output_type": "stream",
          "text": [
            "\n",
            "Losses: train - 0.0048413, test - 0.6151696\n",
            "F1 test - 0.7889\n",
            "ACC test - 0.7891\n",
            "Early stopping\n",
            "\n",
            "\n"
          ],
          "name": "stdout"
        },
        {
          "output_type": "stream",
          "text": [
            "Epoch 1: 100%|██████████| 27185/27185 [00:20<00:00, 1295.76it/s, train_loss=0.223]\n",
            "Epoch 2:   1%|          | 256/27185 [00:00<00:20, 1319.73it/s, train_loss=0.221]"
          ],
          "name": "stderr"
        },
        {
          "output_type": "stream",
          "text": [
            "\n",
            "Losses: train - 0.2233203, test - 0.5286612\n",
            "F1 test - 0.8050\n",
            "ACC test - 0.8051\n"
          ],
          "name": "stdout"
        },
        {
          "output_type": "stream",
          "text": [
            "Epoch 2: 100%|██████████| 27185/27185 [00:21<00:00, 1291.71it/s, train_loss=0.114]\n"
          ],
          "name": "stderr"
        },
        {
          "output_type": "stream",
          "text": [
            "\n",
            "Losses: train - 0.0043080, test - 0.5427252\n",
            "F1 test - 0.8001\n",
            "ACC test - 0.8001\n",
            "Early stopping\n",
            "\n",
            "\n"
          ],
          "name": "stdout"
        },
        {
          "output_type": "stream",
          "text": [
            "Epoch 1: 100%|██████████| 27185/27185 [00:20<00:00, 1305.31it/s, train_loss=0.23]\n",
            "Epoch 2:   1%|          | 256/27185 [00:00<00:20, 1305.01it/s, train_loss=0.228]"
          ],
          "name": "stderr"
        },
        {
          "output_type": "stream",
          "text": [
            "\n",
            "Losses: train - 0.2300002, test - 0.5124146\n",
            "F1 test - 0.7948\n",
            "ACC test - 0.7952\n"
          ],
          "name": "stdout"
        },
        {
          "output_type": "stream",
          "text": [
            "Epoch 2: 100%|██████████| 27185/27185 [00:20<00:00, 1307.20it/s, train_loss=0.118]\n"
          ],
          "name": "stderr"
        },
        {
          "output_type": "stream",
          "text": [
            "\n",
            "Losses: train - 0.0051566, test - 0.5371509\n",
            "F1 test - 0.7928\n",
            "ACC test - 0.7930\n",
            "Early stopping\n",
            "\n",
            "\n",
            "f1_average: 0.7939351565662878, std:0.004619744007620754\n",
            "acc_average: 0.7940691927512357, std:0.004550541056070301\n"
          ],
          "name": "stdout"
        }
      ]
    },
    {
      "cell_type": "code",
      "metadata": {
        "id": "7MZRxU46jxGM",
        "colab_type": "code",
        "colab": {}
      },
      "source": [
        ""
      ],
      "execution_count": 0,
      "outputs": []
    },
    {
      "cell_type": "markdown",
      "metadata": {
        "id": "j37MDYcrRQ9d",
        "colab_type": "text"
      },
      "source": [
        "# SST2 - bert"
      ]
    },
    {
      "cell_type": "code",
      "metadata": {
        "id": "dekAxh6kRW4d",
        "colab_type": "code",
        "colab": {}
      },
      "source": [
        "import pandas as pd\n",
        "def read_sst(file_name):\n",
        "  i2l = {1:\"pos\", 0:\"neg\"}\n",
        "  train_data = pd.read_csv(file_name, index_col=0)\n",
        "  train_data.columns = ['text', 'lbl_index']\n",
        "  train_data[\"labels\"] = train_data.lbl_index.apply(lambda x:i2l[x])\n",
        "  test_data = pd.read_csv(\"test.csv\", sep = '\\t')\n",
        "  test_data.columns = ['text', 'lbl_index']\n",
        "  test_data[\"labels\"] = test_data.lbl_index.apply(lambda x:i2l[x])\n",
        "  return train_data, test_data, {i:j for j,i in i2l.items()}"
      ],
      "execution_count": 0,
      "outputs": []
    },
    {
      "cell_type": "code",
      "metadata": {
        "id": "ydM1Se59R42X",
        "colab_type": "code",
        "outputId": "1241477d-810e-4e78-e063-4edf8c03f90a",
        "colab": {
          "base_uri": "https://localhost:8080/",
          "height": 35
        }
      },
      "source": [
        "%cd  sst2-splited"
      ],
      "execution_count": 0,
      "outputs": [
        {
          "output_type": "stream",
          "text": [
            "/content/drive/My Drive/UniversalEmb/sst2-splited\n"
          ],
          "name": "stdout"
        }
      ]
    },
    {
      "cell_type": "markdown",
      "metadata": {
        "id": "BPRGkkPrRax8",
        "colab_type": "text"
      },
      "source": [
        "## 3k"
      ]
    },
    {
      "cell_type": "code",
      "metadata": {
        "id": "s085aMqfRZJA",
        "colab_type": "code",
        "colab": {}
      },
      "source": [
        "train_data, test_data, l2i = read_sst('sst2_full_rev_3k.csv')"
      ],
      "execution_count": 0,
      "outputs": []
    },
    {
      "cell_type": "code",
      "metadata": {
        "colab_type": "code",
        "id": "oRBLnOyuSb4b",
        "colab": {}
      },
      "source": [
        "from glob import glob \n",
        "files = glob('./sst_Splited_3k_bert_*')\n",
        "all_augs = pd.concat([pd.read_csv(i, index_col=0) for i in files])"
      ],
      "execution_count": 0,
      "outputs": []
    },
    {
      "cell_type": "code",
      "metadata": {
        "colab_type": "code",
        "id": "zuQ85zseSb4g",
        "colab": {}
      },
      "source": [
        "for instance in list(tqdm._instances):\n",
        "    tqdm._decr_instances(instance)"
      ],
      "execution_count": 0,
      "outputs": []
    },
    {
      "cell_type": "code",
      "metadata": {
        "colab_type": "code",
        "outputId": "5aa9ca6a-1706-4e16-b120-a3fdab7adce0",
        "id": "YNclUnzGSb4i",
        "colab": {
          "base_uri": "https://localhost:8080/",
          "height": 138
        }
      },
      "source": [
        "f1_scor, acc_scor, model_aug_mlp, tf = re_FIT_base_MLP(all_augs[:500000], test_data, epochs=1, out_feat=len(train_data.labels.unique()), batch_size=1024)"
      ],
      "execution_count": 0,
      "outputs": [
        {
          "output_type": "stream",
          "text": [
            "Epoch 1: 100%|██████████| 472482/472482 [40:03<00:00, 196.56it/s, train_loss=0.418]\n"
          ],
          "name": "stderr"
        },
        {
          "output_type": "stream",
          "text": [
            "\n",
            "Losses: train - 0.4182943, test - 0.3657654\n",
            "F1 test - 0.8364\n",
            "ACC test - 0.8369\n",
            "\n",
            "\n"
          ],
          "name": "stdout"
        }
      ]
    },
    {
      "cell_type": "code",
      "metadata": {
        "colab_type": "code",
        "outputId": "ebb5655f-afd6-425f-8202-f949afe58451",
        "id": "eF5i8oU7Sb4m",
        "colab": {
          "base_uri": "https://localhost:8080/",
          "height": 242
        }
      },
      "source": [
        "a, b, c, f = re_FIT_base_MLP(train_data, test_data, model_aug_mlp, tf, epochs=35)"
      ],
      "execution_count": 0,
      "outputs": [
        {
          "output_type": "stream",
          "text": [
            "Epoch 1: 100%|██████████| 3000/3000 [00:11<00:00, 257.25it/s, train_loss=0.109]\n",
            "Epoch 2:   0%|          | 0/3000 [00:00<?, ?it/s]"
          ],
          "name": "stderr"
        },
        {
          "output_type": "stream",
          "text": [
            "\n",
            "Losses: train - 0.1090050, test - 0.3724662\n",
            "F1 test - 0.8457\n",
            "ACC test - 0.8457\n"
          ],
          "name": "stdout"
        },
        {
          "output_type": "stream",
          "text": [
            "Epoch 2: 100%|██████████| 3000/3000 [00:11<00:00, 255.50it/s, train_loss=0.0806]\n"
          ],
          "name": "stderr"
        },
        {
          "output_type": "stream",
          "text": [
            "\n",
            "Losses: train - 0.0522227, test - 0.4177550\n",
            "F1 test - 0.8473\n",
            "ACC test - 0.8473\n",
            "Early stopping\n",
            "\n",
            "\n"
          ],
          "name": "stdout"
        }
      ]
    },
    {
      "cell_type": "markdown",
      "metadata": {
        "id": "pIjk4YWpbmlm",
        "colab_type": "text"
      },
      "source": [
        "## 4k"
      ]
    },
    {
      "cell_type": "code",
      "metadata": {
        "colab_type": "code",
        "id": "QebHu31ZbnIf",
        "colab": {}
      },
      "source": [
        "train_data, test_data, l2i = read_sst('sst2_full_rev_4k.csv')"
      ],
      "execution_count": 0,
      "outputs": []
    },
    {
      "cell_type": "code",
      "metadata": {
        "colab_type": "code",
        "id": "dZsjFG80bnIi",
        "colab": {}
      },
      "source": [
        "from glob import glob \n",
        "files = glob('./sst_Splited_4k_bert_*')\n",
        "all_augs = pd.concat([pd.read_csv(i, index_col=0) for i in files])"
      ],
      "execution_count": 0,
      "outputs": []
    },
    {
      "cell_type": "code",
      "metadata": {
        "colab_type": "code",
        "id": "VNe7UySebnIk",
        "colab": {}
      },
      "source": [
        "for instance in list(tqdm._instances):\n",
        "    tqdm._decr_instances(instance)"
      ],
      "execution_count": 0,
      "outputs": []
    },
    {
      "cell_type": "code",
      "metadata": {
        "colab_type": "code",
        "outputId": "4342f2e0-dbb8-48d4-d79c-f8e26547e692",
        "id": "liQkapombnIo",
        "colab": {
          "base_uri": "https://localhost:8080/",
          "height": 138
        }
      },
      "source": [
        "f1_scor, acc_scor, model_aug_mlp, tf = re_FIT_base_MLP(all_augs[:500000], test_data, epochs=1, out_feat=len(train_data.labels.unique()))"
      ],
      "execution_count": 0,
      "outputs": [
        {
          "output_type": "stream",
          "text": [
            "Epoch 1: 100%|██████████| 473601/473601 [33:34<00:00, 235.07it/s, train_loss=0.364]\n"
          ],
          "name": "stderr"
        },
        {
          "output_type": "stream",
          "text": [
            "\n",
            "Losses: train - 0.4012713, test - 0.3443169\n",
            "F1 test - 0.8434\n",
            "ACC test - 0.8440\n",
            "\n",
            "\n"
          ],
          "name": "stdout"
        }
      ]
    },
    {
      "cell_type": "code",
      "metadata": {
        "colab_type": "code",
        "id": "1_cAYUeBbnIq",
        "outputId": "e558d8a3-5b10-48f5-ccda-41a27a64bf41",
        "colab": {
          "base_uri": "https://localhost:8080/",
          "height": 242
        }
      },
      "source": [
        "a, b, c, f = re_FIT_base_MLP(train_data, test_data, model_aug_mlp, tf, epochs=35)"
      ],
      "execution_count": 0,
      "outputs": [
        {
          "output_type": "stream",
          "text": [
            "Epoch 1: 100%|██████████| 4000/4000 [00:14<00:00, 269.55it/s, train_loss=0.299]\n",
            "Epoch 2:   0%|          | 0/4000 [00:00<?, ?it/s]"
          ],
          "name": "stderr"
        },
        {
          "output_type": "stream",
          "text": [
            "\n",
            "Losses: train - 0.2988402, test - 0.3167734\n",
            "F1 test - 0.8594\n",
            "ACC test - 0.8594\n"
          ],
          "name": "stdout"
        },
        {
          "output_type": "stream",
          "text": [
            "Epoch 2: 100%|██████████| 4000/4000 [00:15<00:00, 262.48it/s, train_loss=0.252]\n"
          ],
          "name": "stderr"
        },
        {
          "output_type": "stream",
          "text": [
            "\n",
            "Losses: train - 0.2054606, test - 0.3536180\n",
            "F1 test - 0.8567\n",
            "ACC test - 0.8567\n",
            "Early stopping\n",
            "\n",
            "\n"
          ],
          "name": "stdout"
        }
      ]
    },
    {
      "cell_type": "markdown",
      "metadata": {
        "id": "0zZ9SdaktJjj",
        "colab_type": "text"
      },
      "source": [
        "## 5k"
      ]
    },
    {
      "cell_type": "code",
      "metadata": {
        "colab_type": "code",
        "id": "l3251bUktI19",
        "colab": {}
      },
      "source": [
        "train_data, test_data, l2i = read_sst('sst2_full_rev_5k.csv')"
      ],
      "execution_count": 0,
      "outputs": []
    },
    {
      "cell_type": "code",
      "metadata": {
        "colab_type": "code",
        "id": "9ZrnZbJhtI2A",
        "colab": {}
      },
      "source": [
        "from glob import glob \n",
        "files = glob('./sst_Splited_5k_bert_*')\n",
        "all_augs = pd.concat([pd.read_csv(i, index_col=0) for i in files])"
      ],
      "execution_count": 0,
      "outputs": []
    },
    {
      "cell_type": "code",
      "metadata": {
        "colab_type": "code",
        "id": "co0aemnptI2C",
        "outputId": "d7dcca4d-c8ff-4153-aaa7-52bf1633f2fa",
        "colab": {
          "base_uri": "https://localhost:8080/",
          "height": 138
        }
      },
      "source": [
        "f1_scor, acc_scor, model_aug_mlp, tf = re_FIT_base_MLP(all_augs[:500000], test_data, epochs=1, out_feat=len(train_data.labels.unique()))"
      ],
      "execution_count": 0,
      "outputs": [
        {
          "output_type": "stream",
          "text": [
            "Epoch 1: 100%|██████████| 474301/474301 [30:43<00:00, 257.29it/s, train_loss=0.379]\n"
          ],
          "name": "stderr"
        },
        {
          "output_type": "stream",
          "text": [
            "\n",
            "Losses: train - 0.4139973, test - 0.3532147\n",
            "F1 test - 0.8368\n",
            "ACC test - 0.8375\n",
            "\n",
            "\n"
          ],
          "name": "stdout"
        }
      ]
    },
    {
      "cell_type": "code",
      "metadata": {
        "colab_type": "code",
        "id": "q1vQgMwctI2F",
        "outputId": "915fd53b-5c16-44b5-f9d8-34a88f9d21f8",
        "colab": {
          "base_uri": "https://localhost:8080/",
          "height": 328
        }
      },
      "source": [
        "a, b, c, f = re_FIT_base_MLP(train_data, test_data, model_aug_mlp, tf, epochs=35)"
      ],
      "execution_count": 0,
      "outputs": [
        {
          "output_type": "stream",
          "text": [
            "Epoch 1: 100%|██████████| 5000/5000 [00:18<00:00, 269.88it/s, train_loss=0.313]\n",
            "Epoch 2:   0%|          | 0/5000 [00:00<?, ?it/s]"
          ],
          "name": "stderr"
        },
        {
          "output_type": "stream",
          "text": [
            "\n",
            "Losses: train - 0.3133174, test - 0.3329272\n",
            "F1 test - 0.8501\n",
            "ACC test - 0.8501\n"
          ],
          "name": "stdout"
        },
        {
          "output_type": "stream",
          "text": [
            "Epoch 2: 100%|██████████| 5000/5000 [00:18<00:00, 271.20it/s, train_loss=0.258]\n",
            "Epoch 3:   0%|          | 0/5000 [00:00<?, ?it/s]"
          ],
          "name": "stderr"
        },
        {
          "output_type": "stream",
          "text": [
            "\n",
            "Losses: train - 0.2029715, test - 0.3144914\n",
            "F1 test - 0.8528\n",
            "ACC test - 0.8528\n"
          ],
          "name": "stdout"
        },
        {
          "output_type": "stream",
          "text": [
            "Epoch 3: 100%|██████████| 5000/5000 [00:18<00:00, 272.38it/s, train_loss=0.213]\n"
          ],
          "name": "stderr"
        },
        {
          "output_type": "stream",
          "text": [
            "\n",
            "Losses: train - 0.1239167, test - 0.3701480\n",
            "F1 test - 0.8550\n",
            "ACC test - 0.8550\n",
            "Early stopping\n",
            "\n",
            "\n"
          ],
          "name": "stdout"
        }
      ]
    },
    {
      "cell_type": "markdown",
      "metadata": {
        "id": "daqE0pCoQSNd",
        "colab_type": "text"
      },
      "source": [
        "# Trec-6 bert"
      ]
    },
    {
      "cell_type": "markdown",
      "metadata": {
        "id": "dBe1AwoVQsCL",
        "colab_type": "text"
      },
      "source": [
        "## 3k"
      ]
    },
    {
      "cell_type": "code",
      "metadata": {
        "id": "jpUoWabgQYm-",
        "colab_type": "code",
        "colab": {}
      },
      "source": [
        "from glob import glob \n",
        "import pandas as pd\n",
        "files = glob('./Question_augmentation/TREC6_3k_bert_0.7__*')\n",
        "all_augs = pd.concat([pd.read_csv(i, index_col=0) for i in files])"
      ],
      "execution_count": 0,
      "outputs": []
    },
    {
      "cell_type": "code",
      "metadata": {
        "colab_type": "code",
        "id": "znOGtUGwRxig",
        "colab": {}
      },
      "source": [
        "train_data, test_data, l2i = read_trec6('trec6_splited/trec6_splited_3k.csv')"
      ],
      "execution_count": 0,
      "outputs": []
    },
    {
      "cell_type": "code",
      "metadata": {
        "colab_type": "code",
        "id": "BpFV5bSnRxii",
        "colab": {}
      },
      "source": [
        "for instance in list(tqdm._instances):\n",
        "    tqdm._decr_instances(instance)"
      ],
      "execution_count": 0,
      "outputs": []
    },
    {
      "cell_type": "code",
      "metadata": {
        "colab_type": "code",
        "outputId": "e0c4f6d7-6331-4296-f020-af7e7fb56b5f",
        "id": "1pSzUyI7Rxik",
        "colab": {
          "base_uri": "https://localhost:8080/",
          "height": 136
        }
      },
      "source": [
        "f1_scor, acc_scor, model_aug_mlp, tf = re_FIT_base_MLP(all_augs[:500000], test_data, epochs=1)"
      ],
      "execution_count": 0,
      "outputs": [
        {
          "output_type": "stream",
          "text": [
            "Epoch 1: 100%|██████████| 500000/500000 [31:57<00:00, 260.73it/s, train_loss=0.313]\n"
          ],
          "name": "stderr"
        },
        {
          "output_type": "stream",
          "text": [
            "\n",
            "Losses: train - 0.3974907, test - 0.2558124\n",
            "F1 test - 0.9210\n",
            "ACC test - 0.9200\n",
            "\n",
            "\n"
          ],
          "name": "stdout"
        }
      ]
    },
    {
      "cell_type": "code",
      "metadata": {
        "id": "HwS7ZXwtR_DI",
        "colab_type": "code",
        "outputId": "090582b0-c566-4365-e154-ec74f4d808e3",
        "colab": {
          "base_uri": "https://localhost:8080/",
          "height": 578
        }
      },
      "source": [
        "a, b, c, f = re_FIT_base_MLP(train_data, test_data, model_aug_mlp, tf, epochs=35)"
      ],
      "execution_count": 0,
      "outputs": [
        {
          "output_type": "stream",
          "text": [
            "Epoch 1: 100%|██████████| 3004/3004 [00:10<00:00, 287.49it/s, train_loss=0.287]\n",
            "Epoch 2:   0%|          | 0/3004 [00:00<?, ?it/s]"
          ],
          "name": "stderr"
        },
        {
          "output_type": "stream",
          "text": [
            "\n",
            "Losses: train - 0.2871889, test - 0.2404850\n",
            "F1 test - 0.9308\n",
            "ACC test - 0.9300\n"
          ],
          "name": "stdout"
        },
        {
          "output_type": "stream",
          "text": [
            "Epoch 2: 100%|██████████| 3004/3004 [00:10<00:00, 288.20it/s, train_loss=0.244]\n",
            "Epoch 3:   0%|          | 0/3004 [00:00<?, ?it/s]"
          ],
          "name": "stderr"
        },
        {
          "output_type": "stream",
          "text": [
            "\n",
            "Losses: train - 0.2016172, test - 0.2282677\n",
            "F1 test - 0.9307\n",
            "ACC test - 0.9300\n"
          ],
          "name": "stdout"
        },
        {
          "output_type": "stream",
          "text": [
            "Epoch 3: 100%|██████████| 3004/3004 [00:10<00:00, 288.02it/s, train_loss=0.213]\n",
            "Epoch 4:   0%|          | 0/3004 [00:00<?, ?it/s]"
          ],
          "name": "stderr"
        },
        {
          "output_type": "stream",
          "text": [
            "\n",
            "Losses: train - 0.1510767, test - 0.2152651\n",
            "F1 test - 0.9363\n",
            "ACC test - 0.9360\n"
          ],
          "name": "stdout"
        },
        {
          "output_type": "stream",
          "text": [
            "Epoch 4: 100%|██████████| 3004/3004 [00:10<00:00, 287.69it/s, train_loss=0.188]\n",
            "Epoch 5:   0%|          | 0/3004 [00:00<?, ?it/s]"
          ],
          "name": "stderr"
        },
        {
          "output_type": "stream",
          "text": [
            "\n",
            "Losses: train - 0.1120538, test - 0.2143730\n",
            "F1 test - 0.9381\n",
            "ACC test - 0.9380\n"
          ],
          "name": "stdout"
        },
        {
          "output_type": "stream",
          "text": [
            "Epoch 5: 100%|██████████| 3004/3004 [00:10<00:00, 288.02it/s, train_loss=0.167]\n",
            "Epoch 6:   0%|          | 0/3004 [00:00<?, ?it/s]"
          ],
          "name": "stderr"
        },
        {
          "output_type": "stream",
          "text": [
            "\n",
            "Losses: train - 0.0836750, test - 0.2142863\n",
            "F1 test - 0.9420\n",
            "ACC test - 0.9420\n"
          ],
          "name": "stdout"
        },
        {
          "output_type": "stream",
          "text": [
            "Epoch 6: 100%|██████████| 3004/3004 [00:10<00:00, 288.72it/s, train_loss=0.15]\n"
          ],
          "name": "stderr"
        },
        {
          "output_type": "stream",
          "text": [
            "\n",
            "Losses: train - 0.0653263, test - 0.2153723\n",
            "F1 test - 0.9440\n",
            "ACC test - 0.9440\n",
            "Early stopping\n",
            "\n",
            "\n"
          ],
          "name": "stdout"
        }
      ]
    },
    {
      "cell_type": "markdown",
      "metadata": {
        "id": "TzUpgO8MXR4z",
        "colab_type": "text"
      },
      "source": [
        "# 4k"
      ]
    },
    {
      "cell_type": "code",
      "metadata": {
        "colab_type": "code",
        "id": "rRt9zkP0XTFX",
        "colab": {}
      },
      "source": [
        "from glob import glob \n",
        "import pandas as pd\n",
        "files = glob('./Question_augmentation/TREC6_4k_bert_0.7__*')\n",
        "all_augs = pd.concat([pd.read_csv(i, index_col=0) for i in files])"
      ],
      "execution_count": 0,
      "outputs": []
    },
    {
      "cell_type": "code",
      "metadata": {
        "colab_type": "code",
        "outputId": "1401b362-2b66-4ca0-c188-77a65aa8b767",
        "id": "vgUk62TOXTFa",
        "colab": {
          "base_uri": "https://localhost:8080/",
          "height": 282
        }
      },
      "source": [
        "all_augs.labels.value_counts().plot()"
      ],
      "execution_count": 0,
      "outputs": [
        {
          "output_type": "execute_result",
          "data": {
            "text/plain": [
              "<matplotlib.axes._subplots.AxesSubplot at 0x7fd9dc657208>"
            ]
          },
          "metadata": {
            "tags": []
          },
          "execution_count": 12
        },
        {
          "output_type": "display_data",
          "data": {
            "image/png": "[encoded data removed]",
            "text/plain": [
              "<Figure size 432x288 with 1 Axes>"
            ]
          },
          "metadata": {
            "tags": [],
            "needs_background": "light"
          }
        }
      ]
    },
    {
      "cell_type": "code",
      "metadata": {
        "colab_type": "code",
        "id": "0ftPANWjXTFf",
        "colab": {}
      },
      "source": [
        "train_data, test_data, l2i = read_trec6('trec6_splited/trec6_splited_4k.csv')"
      ],
      "execution_count": 0,
      "outputs": []
    },
    {
      "cell_type": "code",
      "metadata": {
        "colab_type": "code",
        "id": "1bq0EY2GXTFh",
        "colab": {}
      },
      "source": [
        "for instance in list(tqdm._instances):\n",
        "    tqdm._decr_instances(instance)"
      ],
      "execution_count": 0,
      "outputs": []
    },
    {
      "cell_type": "code",
      "metadata": {
        "colab_type": "code",
        "outputId": "3b5b9946-164c-4872-ec74-d2d17489931c",
        "id": "6N9C7qNtXTFj",
        "colab": {
          "base_uri": "https://localhost:8080/",
          "height": 136
        }
      },
      "source": [
        "f1_scor, acc_scor, model_aug_mlp, tf = re_FIT_base_MLP(all_augs[:500000], test_data, epochs=1)"
      ],
      "execution_count": 0,
      "outputs": [
        {
          "output_type": "stream",
          "text": [
            "Epoch 1: 100%|██████████| 500000/500000 [29:53<00:00, 278.71it/s, train_loss=0.29]\n"
          ],
          "name": "stderr"
        },
        {
          "output_type": "stream",
          "text": [
            "\n",
            "Losses: train - 0.3751901, test - 0.2756640\n",
            "F1 test - 0.9168\n",
            "ACC test - 0.9160\n",
            "\n",
            "\n"
          ],
          "name": "stdout"
        }
      ]
    },
    {
      "cell_type": "code",
      "metadata": {
        "colab_type": "code",
        "outputId": "903ae6ec-9ecb-4045-f96c-94e367530e3a",
        "id": "ruc_ZSvrXTFm",
        "colab": {
          "base_uri": "https://localhost:8080/",
          "height": 493
        }
      },
      "source": [
        "a, b, c, f = re_FIT_base_MLP(train_data, test_data, model_aug_mlp, tf, epochs=35 )"
      ],
      "execution_count": 0,
      "outputs": [
        {
          "output_type": "stream",
          "text": [
            "Epoch 1: 100%|██████████| 4004/4004 [00:13<00:00, 287.59it/s, train_loss=0.265]\n",
            "Epoch 2:   0%|          | 0/4004 [00:00<?, ?it/s]"
          ],
          "name": "stderr"
        },
        {
          "output_type": "stream",
          "text": [
            "\n",
            "Losses: train - 0.2652430, test - 0.1999085\n",
            "F1 test - 0.9400\n",
            "ACC test - 0.9400\n"
          ],
          "name": "stdout"
        },
        {
          "output_type": "stream",
          "text": [
            "Epoch 2: 100%|██████████| 4004/4004 [00:13<00:00, 286.11it/s, train_loss=0.221]\n",
            "Epoch 3:   0%|          | 0/4004 [00:00<?, ?it/s]"
          ],
          "name": "stderr"
        },
        {
          "output_type": "stream",
          "text": [
            "\n",
            "Losses: train - 0.1767976, test - 0.1920472\n",
            "F1 test - 0.9436\n",
            "ACC test - 0.9440\n"
          ],
          "name": "stdout"
        },
        {
          "output_type": "stream",
          "text": [
            "Epoch 3: 100%|██████████| 4004/4004 [00:13<00:00, 286.78it/s, train_loss=0.189]\n",
            "Epoch 4:   0%|          | 0/4004 [00:00<?, ?it/s]"
          ],
          "name": "stderr"
        },
        {
          "output_type": "stream",
          "text": [
            "\n",
            "Losses: train - 0.1239663, test - 0.1861012\n",
            "F1 test - 0.9458\n",
            "ACC test - 0.9460\n"
          ],
          "name": "stdout"
        },
        {
          "output_type": "stream",
          "text": [
            "Epoch 4: 100%|██████████| 4004/4004 [00:13<00:00, 286.31it/s, train_loss=0.164]\n",
            "Epoch 5:   0%|          | 0/4004 [00:00<?, ?it/s]"
          ],
          "name": "stderr"
        },
        {
          "output_type": "stream",
          "text": [
            "\n",
            "Losses: train - 0.0886707, test - 0.1812152\n",
            "F1 test - 0.9456\n",
            "ACC test - 0.9460\n"
          ],
          "name": "stdout"
        },
        {
          "output_type": "stream",
          "text": [
            "Epoch 5: 100%|██████████| 4004/4004 [00:13<00:00, 286.79it/s, train_loss=0.144]\n"
          ],
          "name": "stderr"
        },
        {
          "output_type": "stream",
          "text": [
            "\n",
            "Losses: train - 0.0664064, test - 0.1820428\n",
            "F1 test - 0.9376\n",
            "ACC test - 0.9380\n",
            "Early stopping\n",
            "\n",
            "\n"
          ],
          "name": "stdout"
        }
      ]
    },
    {
      "cell_type": "markdown",
      "metadata": {
        "id": "D0BkrGG4YgoJ",
        "colab_type": "text"
      },
      "source": [
        "# 5k"
      ]
    },
    {
      "cell_type": "code",
      "metadata": {
        "colab_type": "code",
        "id": "FwE2zAukYhyA",
        "colab": {}
      },
      "source": [
        "from glob import glob \n",
        "import pandas as pd\n",
        "files = glob('./Question_augmentation/TREC6_5k_bert_0.7__*')\n",
        "all_augs = pd.concat([pd.read_csv(i, index_col=0) for i in files])"
      ],
      "execution_count": 0,
      "outputs": []
    },
    {
      "cell_type": "code",
      "metadata": {
        "colab_type": "code",
        "outputId": "50df3423-783a-4487-9dab-d7bb1e23865a",
        "id": "Y5gdh8CrYhyD",
        "colab": {
          "base_uri": "https://localhost:8080/",
          "height": 282
        }
      },
      "source": [
        "all_augs.labels.value_counts().plot()"
      ],
      "execution_count": 0,
      "outputs": [
        {
          "output_type": "execute_result",
          "data": {
            "text/plain": [
              "<matplotlib.axes._subplots.AxesSubplot at 0x7fd9d28d6da0>"
            ]
          },
          "metadata": {
            "tags": []
          },
          "execution_count": 18
        },
        {
          "output_type": "display_data",
          "data": {
            "image/png": "[encoded data removed]",
            "text/plain": [
              "<Figure size 432x288 with 1 Axes>"
            ]
          },
          "metadata": {
            "tags": [],
            "needs_background": "light"
          }
        }
      ]
    },
    {
      "cell_type": "code",
      "metadata": {
        "colab_type": "code",
        "id": "G1eLr858YhyJ",
        "colab": {}
      },
      "source": [
        "train_data, test_data, l2i = read_trec6('trec6_splited/trec6_splited_5k.csv')"
      ],
      "execution_count": 0,
      "outputs": []
    },
    {
      "cell_type": "code",
      "metadata": {
        "colab_type": "code",
        "id": "znuR5raaYhyM",
        "colab": {}
      },
      "source": [
        "for instance in list(tqdm._instances):\n",
        "    tqdm._decr_instances(instance)"
      ],
      "execution_count": 0,
      "outputs": []
    },
    {
      "cell_type": "code",
      "metadata": {
        "colab_type": "code",
        "outputId": "d9659e6c-c8fa-430a-f737-2d95e6e0655c",
        "id": "WKatGk1jYhyO",
        "colab": {
          "base_uri": "https://localhost:8080/",
          "height": 136
        }
      },
      "source": [
        "f1_scor, acc_scor, model_aug_mlp, tf = re_FIT_base_MLP(all_augs[:500000], test_data, epochs=1)"
      ],
      "execution_count": 0,
      "outputs": [
        {
          "output_type": "stream",
          "text": [
            "Epoch 1: 100%|██████████| 500000/500000 [28:56<00:00, 287.90it/s, train_loss=0.288]\n"
          ],
          "name": "stderr"
        },
        {
          "output_type": "stream",
          "text": [
            "\n",
            "Losses: train - 0.3718795, test - 0.2362436\n",
            "F1 test - 0.9250\n",
            "ACC test - 0.9240\n",
            "\n",
            "\n"
          ],
          "name": "stdout"
        }
      ]
    },
    {
      "cell_type": "code",
      "metadata": {
        "colab_type": "code",
        "outputId": "3e9cd8eb-40b0-4c1a-da46-41e99948fd8f",
        "id": "AWMENF4HYhyQ",
        "colab": {
          "base_uri": "https://localhost:8080/",
          "height": 323
        }
      },
      "source": [
        "a, b, c, f = re_FIT_base_MLP(train_data, test_data, model_aug_mlp, tf, epochs=35)"
      ],
      "execution_count": 0,
      "outputs": [
        {
          "output_type": "stream",
          "text": [
            "Epoch 1: 100%|██████████| 5006/5006 [00:17<00:00, 288.83it/s, train_loss=0.137]\n",
            "Epoch 2:   0%|          | 0/5006 [00:00<?, ?it/s]"
          ],
          "name": "stderr"
        },
        {
          "output_type": "stream",
          "text": [
            "\n",
            "Losses: train - 0.1365006, test - 0.1946371\n",
            "F1 test - 0.9396\n",
            "ACC test - 0.9400\n"
          ],
          "name": "stdout"
        },
        {
          "output_type": "stream",
          "text": [
            "Epoch 2: 100%|██████████| 5006/5006 [00:17<00:00, 291.60it/s, train_loss=0.114]\n",
            "Epoch 3:   0%|          | 0/5006 [00:00<?, ?it/s]"
          ],
          "name": "stderr"
        },
        {
          "output_type": "stream",
          "text": [
            "\n",
            "Losses: train - 0.0923348, test - 0.1893751\n",
            "F1 test - 0.9397\n",
            "ACC test - 0.9400\n"
          ],
          "name": "stdout"
        },
        {
          "output_type": "stream",
          "text": [
            "Epoch 3: 100%|██████████| 5006/5006 [00:17<00:00, 292.54it/s, train_loss=0.0988]\n"
          ],
          "name": "stderr"
        },
        {
          "output_type": "stream",
          "text": [
            "\n",
            "Losses: train - 0.0675433, test - 0.1908168\n",
            "F1 test - 0.9436\n",
            "ACC test - 0.9440\n",
            "Early stopping\n",
            "\n",
            "\n"
          ],
          "name": "stdout"
        }
      ]
    },
    {
      "cell_type": "code",
      "metadata": {
        "id": "DSEaEWQFYrcz",
        "colab_type": "code",
        "colab": {}
      },
      "source": [
        ""
      ],
      "execution_count": 0,
      "outputs": []
    },
    {
      "cell_type": "markdown",
      "metadata": {
        "id": "eEwSDw1XZuxD",
        "colab_type": "text"
      },
      "source": [
        "# Trec-50 bert"
      ]
    },
    {
      "cell_type": "markdown",
      "metadata": {
        "id": "ylKu5upPZzMd",
        "colab_type": "text"
      },
      "source": [
        "## 3k"
      ]
    },
    {
      "cell_type": "code",
      "metadata": {
        "colab_type": "code",
        "id": "AQH2VdQOZ6Bm",
        "colab": {}
      },
      "source": [
        "from glob import glob \n",
        "import pandas as pd\n",
        "files = glob('./Question_augmentation/TREC50_3k_bert_0.7__*')\n",
        "all_augs = pd.concat([pd.read_csv(i, index_col=0) for i in files])"
      ],
      "execution_count": 0,
      "outputs": []
    },
    {
      "cell_type": "code",
      "metadata": {
        "colab_type": "code",
        "outputId": "21c612be-a237-42f7-f66f-95d7b7d06be2",
        "id": "tC2SRb9BZ6Bq",
        "colab": {
          "base_uri": "https://localhost:8080/",
          "height": 282
        }
      },
      "source": [
        "all_augs.labels.value_counts().plot()"
      ],
      "execution_count": 0,
      "outputs": [
        {
          "output_type": "execute_result",
          "data": {
            "text/plain": [
              "<matplotlib.axes._subplots.AxesSubplot at 0x7ff3e9283748>"
            ]
          },
          "metadata": {
            "tags": []
          },
          "execution_count": 84
        },
        {
          "output_type": "display_data",
          "data": {
            "image/png": "[encoded data removed]",
            "text/plain": [
              "<Figure size 432x288 with 1 Axes>"
            ]
          },
          "metadata": {
            "tags": [],
            "needs_background": "light"
          }
        }
      ]
    },
    {
      "cell_type": "code",
      "metadata": {
        "colab_type": "code",
        "id": "MacxjxvsZ6Bt",
        "colab": {}
      },
      "source": [
        "number_of_attemp_to_fit = 1"
      ],
      "execution_count": 0,
      "outputs": []
    },
    {
      "cell_type": "code",
      "metadata": {
        "colab_type": "code",
        "id": "i8JIyXSuZ6Bv",
        "colab": {}
      },
      "source": [
        "train_data, test_data, l2i = read_trec50('trec50_splited/trec50_3k.csv')"
      ],
      "execution_count": 0,
      "outputs": []
    },
    {
      "cell_type": "code",
      "metadata": {
        "colab_type": "code",
        "id": "NtjzW6btZ6Bz",
        "colab": {}
      },
      "source": [
        "for instance in list(tqdm._instances):\n",
        "    tqdm._decr_instances(instance)"
      ],
      "execution_count": 0,
      "outputs": []
    },
    {
      "cell_type": "code",
      "metadata": {
        "colab_type": "code",
        "outputId": "10f56197-5ecc-4a85-f61f-8c47155d8194",
        "id": "oX84AxJdZ6B1",
        "colab": {
          "base_uri": "https://localhost:8080/",
          "height": 136
        }
      },
      "source": [
        "f1_scor, acc_scor, model_aug_mlp, tf = re_FIT_base_MLP(all_augs[:300000], test_data, epochs=1, out_feat=len(train_data.labels.unique()))"
      ],
      "execution_count": 0,
      "outputs": [
        {
          "output_type": "stream",
          "text": [
            "Epoch 1: 100%|██████████| 300000/300000 [07:21<00:00, 680.12it/s, train_loss=0.405]\n"
          ],
          "name": "stderr"
        },
        {
          "output_type": "stream",
          "text": [
            "\n",
            "Losses: train - 0.7664808, test - 1.3075326\n",
            "F1 test - 0.8136\n",
            "ACC test - 0.8300\n",
            "\n",
            "\n"
          ],
          "name": "stdout"
        }
      ]
    },
    {
      "cell_type": "code",
      "metadata": {
        "colab_type": "code",
        "outputId": "b17526ca-9b37-47ac-d649-9a26a4afb3c0",
        "id": "nWfKcMG0Z6B3",
        "colab": {
          "base_uri": "https://localhost:8080/",
          "height": 1000
        }
      },
      "source": [
        "a, b, c, f = re_FIT_base_MLP(train_data, test_data, model_aug_mlp, tf, epochs=35 )"
      ],
      "execution_count": 0,
      "outputs": [
        {
          "output_type": "stream",
          "text": [
            "Epoch 1: 100%|██████████| 3029/3029 [00:04<00:00, 694.11it/s, train_loss=0.969]\n",
            "Epoch 2:   0%|          | 0/3029 [00:00<?, ?it/s]"
          ],
          "name": "stderr"
        },
        {
          "output_type": "stream",
          "text": [
            "\n",
            "Losses: train - 0.9691845, test - 1.1830159\n",
            "F1 test - 0.8297\n",
            "ACC test - 0.8460\n"
          ],
          "name": "stdout"
        },
        {
          "output_type": "stream",
          "text": [
            "Epoch 2: 100%|██████████| 3029/3029 [00:04<00:00, 692.40it/s, train_loss=0.85]\n",
            "Epoch 3:   0%|          | 0/3029 [00:00<?, ?it/s]"
          ],
          "name": "stderr"
        },
        {
          "output_type": "stream",
          "text": [
            "\n",
            "Losses: train - 0.7300985, test - 1.0644313\n",
            "F1 test - 0.8255\n",
            "ACC test - 0.8420\n"
          ],
          "name": "stdout"
        },
        {
          "output_type": "stream",
          "text": [
            "Epoch 3: 100%|██████████| 3029/3029 [00:04<00:00, 690.64it/s, train_loss=0.756]\n",
            "Epoch 4:   0%|          | 0/3029 [00:00<?, ?it/s]"
          ],
          "name": "stderr"
        },
        {
          "output_type": "stream",
          "text": [
            "\n",
            "Losses: train - 0.5689557, test - 1.0021784\n",
            "F1 test - 0.8257\n",
            "ACC test - 0.8420\n"
          ],
          "name": "stdout"
        },
        {
          "output_type": "stream",
          "text": [
            "Epoch 4: 100%|██████████| 3029/3029 [00:04<00:00, 678.57it/s, train_loss=0.681]\n",
            "Epoch 5:   0%|          | 0/3029 [00:00<?, ?it/s]"
          ],
          "name": "stderr"
        },
        {
          "output_type": "stream",
          "text": [
            "\n",
            "Losses: train - 0.4560271, test - 0.9403506\n",
            "F1 test - 0.8269\n",
            "ACC test - 0.8440\n"
          ],
          "name": "stdout"
        },
        {
          "output_type": "stream",
          "text": [
            "Epoch 5: 100%|██████████| 3029/3029 [00:04<00:00, 701.00it/s, train_loss=0.621]\n",
            "Epoch 6:   0%|          | 0/3029 [00:00<?, ?it/s]"
          ],
          "name": "stderr"
        },
        {
          "output_type": "stream",
          "text": [
            "\n",
            "Losses: train - 0.3828230, test - 0.9169306\n",
            "F1 test - 0.8222\n",
            "ACC test - 0.8380\n"
          ],
          "name": "stdout"
        },
        {
          "output_type": "stream",
          "text": [
            "Epoch 6: 100%|██████████| 3029/3029 [00:04<00:00, 707.21it/s, train_loss=0.571]\n",
            "Epoch 7:   0%|          | 0/3029 [00:00<?, ?it/s]"
          ],
          "name": "stderr"
        },
        {
          "output_type": "stream",
          "text": [
            "\n",
            "Losses: train - 0.3176113, test - 0.8728511\n",
            "F1 test - 0.8319\n",
            "ACC test - 0.8460\n"
          ],
          "name": "stdout"
        },
        {
          "output_type": "stream",
          "text": [
            "Epoch 7: 100%|██████████| 3029/3029 [00:04<00:00, 696.10it/s, train_loss=0.528]\n",
            "Epoch 8:   0%|          | 0/3029 [00:00<?, ?it/s]"
          ],
          "name": "stderr"
        },
        {
          "output_type": "stream",
          "text": [
            "\n",
            "Losses: train - 0.2724996, test - 0.8574474\n",
            "F1 test - 0.8247\n",
            "ACC test - 0.8380\n"
          ],
          "name": "stdout"
        },
        {
          "output_type": "stream",
          "text": [
            "Epoch 8: 100%|██████████| 3029/3029 [00:04<00:00, 703.60it/s, train_loss=0.491]\n",
            "Epoch 9:   0%|          | 0/3029 [00:00<?, ?it/s]"
          ],
          "name": "stderr"
        },
        {
          "output_type": "stream",
          "text": [
            "\n",
            "Losses: train - 0.2339724, test - 0.8253845\n",
            "F1 test - 0.8279\n",
            "ACC test - 0.8400\n"
          ],
          "name": "stdout"
        },
        {
          "output_type": "stream",
          "text": [
            "Epoch 9: 100%|██████████| 3029/3029 [00:04<00:00, 706.94it/s, train_loss=0.459]\n",
            "Epoch 10:   0%|          | 0/3029 [00:00<?, ?it/s]"
          ],
          "name": "stderr"
        },
        {
          "output_type": "stream",
          "text": [
            "\n",
            "Losses: train - 0.2026925, test - 0.8046315\n",
            "F1 test - 0.8277\n",
            "ACC test - 0.8400\n"
          ],
          "name": "stdout"
        },
        {
          "output_type": "stream",
          "text": [
            "Epoch 10: 100%|██████████| 3029/3029 [00:04<00:00, 707.91it/s, train_loss=0.431]\n",
            "Epoch 11:   0%|          | 0/3029 [00:00<?, ?it/s]"
          ],
          "name": "stderr"
        },
        {
          "output_type": "stream",
          "text": [
            "\n",
            "Losses: train - 0.1780109, test - 0.7975380\n",
            "F1 test - 0.8246\n",
            "ACC test - 0.8360\n"
          ],
          "name": "stdout"
        },
        {
          "output_type": "stream",
          "text": [
            "Epoch 11: 100%|██████████| 3029/3029 [00:04<00:00, 692.74it/s, train_loss=0.406]\n",
            "Epoch 12:   0%|          | 0/3029 [00:00<?, ?it/s]"
          ],
          "name": "stderr"
        },
        {
          "output_type": "stream",
          "text": [
            "\n",
            "Losses: train - 0.1565911, test - 0.7711656\n",
            "F1 test - 0.8283\n",
            "ACC test - 0.8400\n"
          ],
          "name": "stdout"
        },
        {
          "output_type": "stream",
          "text": [
            "Epoch 12: 100%|██████████| 3029/3029 [00:04<00:00, 684.52it/s, train_loss=0.384]\n",
            "Epoch 13:   0%|          | 0/3029 [00:00<?, ?it/s]"
          ],
          "name": "stderr"
        },
        {
          "output_type": "stream",
          "text": [
            "\n",
            "Losses: train - 0.1409176, test - 0.7522062\n",
            "F1 test - 0.8273\n",
            "ACC test - 0.8400\n"
          ],
          "name": "stdout"
        },
        {
          "output_type": "stream",
          "text": [
            "Epoch 13: 100%|██████████| 3029/3029 [00:04<00:00, 703.67it/s, train_loss=0.364]\n",
            "Epoch 14:   0%|          | 0/3029 [00:00<?, ?it/s]"
          ],
          "name": "stderr"
        },
        {
          "output_type": "stream",
          "text": [
            "\n",
            "Losses: train - 0.1234313, test - 0.7463406\n",
            "F1 test - 0.8224\n",
            "ACC test - 0.8340\n"
          ],
          "name": "stdout"
        },
        {
          "output_type": "stream",
          "text": [
            "Epoch 14: 100%|██████████| 3029/3029 [00:04<00:00, 692.78it/s, train_loss=0.346]\n",
            "Epoch 15:   0%|          | 0/3029 [00:00<?, ?it/s]"
          ],
          "name": "stderr"
        },
        {
          "output_type": "stream",
          "text": [
            "\n",
            "Losses: train - 0.1086316, test - 0.7275649\n",
            "F1 test - 0.8257\n",
            "ACC test - 0.8380\n"
          ],
          "name": "stdout"
        },
        {
          "output_type": "stream",
          "text": [
            "Epoch 15: 100%|██████████| 3029/3029 [00:04<00:00, 693.78it/s, train_loss=0.329]\n",
            "Epoch 16:   0%|          | 0/3029 [00:00<?, ?it/s]"
          ],
          "name": "stderr"
        },
        {
          "output_type": "stream",
          "text": [
            "\n",
            "Losses: train - 0.0951286, test - 0.7090651\n",
            "F1 test - 0.8271\n",
            "ACC test - 0.8400\n"
          ],
          "name": "stdout"
        },
        {
          "output_type": "stream",
          "text": [
            "Epoch 16: 100%|██████████| 3029/3029 [00:04<00:00, 686.25it/s, train_loss=0.314]\n",
            "Epoch 17:   0%|          | 0/3029 [00:00<?, ?it/s]"
          ],
          "name": "stderr"
        },
        {
          "output_type": "stream",
          "text": [
            "\n",
            "Losses: train - 0.0856081, test - 0.6958965\n",
            "F1 test - 0.8344\n",
            "ACC test - 0.8440\n"
          ],
          "name": "stdout"
        },
        {
          "output_type": "stream",
          "text": [
            "Epoch 17: 100%|██████████| 3029/3029 [00:04<00:00, 702.26it/s, train_loss=0.3]\n"
          ],
          "name": "stderr"
        },
        {
          "output_type": "stream",
          "text": [
            "\n",
            "Losses: train - 0.0746226, test - 0.7009194\n",
            "F1 test - 0.8304\n",
            "ACC test - 0.8380\n",
            "Early stopping\n",
            "\n",
            "\n"
          ],
          "name": "stdout"
        }
      ]
    },
    {
      "cell_type": "code",
      "metadata": {
        "id": "wJnPz8PnbsWi",
        "colab_type": "code",
        "colab": {}
      },
      "source": [
        ""
      ],
      "execution_count": 0,
      "outputs": []
    },
    {
      "cell_type": "markdown",
      "metadata": {
        "id": "fDW3JCM5ddFh",
        "colab_type": "text"
      },
      "source": [
        "## 4k"
      ]
    },
    {
      "cell_type": "code",
      "metadata": {
        "id": "TSNmoJbJdeAZ",
        "colab_type": "code",
        "colab": {}
      },
      "source": [
        ""
      ],
      "execution_count": 0,
      "outputs": []
    },
    {
      "cell_type": "code",
      "metadata": {
        "colab_type": "code",
        "id": "luqAvQ78deUN",
        "colab": {}
      },
      "source": [
        "from glob import glob \n",
        "import pandas as pd\n",
        "files = glob('./Question_augmentation/TREC50_4k_bert_0.7__*')\n",
        "all_augs = pd.concat([pd.read_csv(i, index_col=0) for i in files])"
      ],
      "execution_count": 0,
      "outputs": []
    },
    {
      "cell_type": "code",
      "metadata": {
        "colab_type": "code",
        "outputId": "067c5bc8-eee7-42c1-c1a3-2c311836c3a6",
        "id": "xPq2z7rZdeUR",
        "colab": {
          "base_uri": "https://localhost:8080/",
          "height": 286
        }
      },
      "source": [
        "all_augs.labels.value_counts().plot()"
      ],
      "execution_count": 0,
      "outputs": [
        {
          "output_type": "execute_result",
          "data": {
            "text/plain": [
              "<matplotlib.axes._subplots.AxesSubplot at 0x7ff3ecf22ac8>"
            ]
          },
          "metadata": {
            "tags": []
          },
          "execution_count": 110
        },
        {
          "output_type": "display_data",
          "data": {
            "image/png": "[encoded data removed]",
            "text/plain": [
              "<Figure size 432x288 with 1 Axes>"
            ]
          },
          "metadata": {
            "tags": [],
            "needs_background": "light"
          }
        }
      ]
    },
    {
      "cell_type": "code",
      "metadata": {
        "colab_type": "code",
        "id": "buLSN2-3deUU",
        "colab": {}
      },
      "source": [
        "number_of_attemp_to_fit = 1"
      ],
      "execution_count": 0,
      "outputs": []
    },
    {
      "cell_type": "code",
      "metadata": {
        "colab_type": "code",
        "id": "qu-3iL_ZdeUZ",
        "colab": {}
      },
      "source": [
        "train_data, test_data, l2i = read_trec50('trec50_splited/trec50_4k.csv')"
      ],
      "execution_count": 0,
      "outputs": []
    },
    {
      "cell_type": "code",
      "metadata": {
        "colab_type": "code",
        "id": "FESB7iq3deUb",
        "colab": {}
      },
      "source": [
        "for instance in list(tqdm._instances):\n",
        "    tqdm._decr_instances(instance)"
      ],
      "execution_count": 0,
      "outputs": []
    },
    {
      "cell_type": "code",
      "metadata": {
        "colab_type": "code",
        "outputId": "d1050946-8927-4eb6-f87c-ed923be8b6b9",
        "id": "jaySoAnodeUd",
        "colab": {
          "base_uri": "https://localhost:8080/",
          "height": 136
        }
      },
      "source": [
        "f1_scor, acc_scor, model_aug_mlp, tf = re_FIT_base_MLP(all_augs[:400000], test_data, epochs=1, out_feat=len(train_data.labels.unique()))"
      ],
      "execution_count": 0,
      "outputs": [
        {
          "output_type": "stream",
          "text": [
            "Epoch 1: 100%|██████████| 400000/400000 [13:04<00:00, 510.02it/s, train_loss=0.396]\n"
          ],
          "name": "stderr"
        },
        {
          "output_type": "stream",
          "text": [
            "\n",
            "Losses: train - 0.7093457, test - 1.0417978\n",
            "F1 test - 0.8154\n",
            "ACC test - 0.8320\n",
            "\n",
            "\n"
          ],
          "name": "stdout"
        }
      ]
    },
    {
      "cell_type": "code",
      "metadata": {
        "colab_type": "code",
        "outputId": "dbe7e9fd-c010-491f-ac81-03fbb781aedd",
        "id": "kC7hJNhYdeUg",
        "colab": {
          "base_uri": "https://localhost:8080/",
          "height": 1000
        }
      },
      "source": [
        "a, b, c, f = re_FIT_base_MLP(train_data, test_data, model_aug_mlp, tf, epochs=35 )"
      ],
      "execution_count": 0,
      "outputs": [
        {
          "output_type": "stream",
          "text": [
            "Epoch 1: 100%|██████████| 3997/3997 [00:07<00:00, 501.36it/s, train_loss=0.716]\n",
            "Epoch 2:   0%|          | 0/3997 [00:00<?, ?it/s]"
          ],
          "name": "stderr"
        },
        {
          "output_type": "stream",
          "text": [
            "\n",
            "Losses: train - 0.7156377, test - 0.9191076\n",
            "F1 test - 0.8257\n",
            "ACC test - 0.8420\n"
          ],
          "name": "stdout"
        },
        {
          "output_type": "stream",
          "text": [
            "Epoch 2: 100%|██████████| 3997/3997 [00:07<00:00, 501.64it/s, train_loss=0.616]\n",
            "Epoch 3:   0%|          | 0/3997 [00:00<?, ?it/s]"
          ],
          "name": "stderr"
        },
        {
          "output_type": "stream",
          "text": [
            "\n",
            "Losses: train - 0.5162005, test - 0.8534050\n",
            "F1 test - 0.8392\n",
            "ACC test - 0.8520\n"
          ],
          "name": "stdout"
        },
        {
          "output_type": "stream",
          "text": [
            "Epoch 3: 100%|██████████| 3997/3997 [00:07<00:00, 500.88it/s, train_loss=0.542]\n",
            "Epoch 4:   0%|          | 0/3997 [00:00<?, ?it/s]"
          ],
          "name": "stderr"
        },
        {
          "output_type": "stream",
          "text": [
            "\n",
            "Losses: train - 0.3936978, test - 0.8260941\n",
            "F1 test - 0.8430\n",
            "ACC test - 0.8560\n"
          ],
          "name": "stdout"
        },
        {
          "output_type": "stream",
          "text": [
            "Epoch 4: 100%|██████████| 3997/3997 [00:07<00:00, 507.55it/s, train_loss=0.484]\n",
            "Epoch 5:   0%|          | 0/3997 [00:00<?, ?it/s]"
          ],
          "name": "stderr"
        },
        {
          "output_type": "stream",
          "text": [
            "\n",
            "Losses: train - 0.3112526, test - 0.7953534\n",
            "F1 test - 0.8465\n",
            "ACC test - 0.8600\n"
          ],
          "name": "stdout"
        },
        {
          "output_type": "stream",
          "text": [
            "Epoch 5: 100%|██████████| 3997/3997 [00:07<00:00, 504.47it/s, train_loss=0.438]\n",
            "Epoch 6:   0%|          | 0/3997 [00:00<?, ?it/s]"
          ],
          "name": "stderr"
        },
        {
          "output_type": "stream",
          "text": [
            "\n",
            "Losses: train - 0.2526069, test - 0.7859016\n",
            "F1 test - 0.8483\n",
            "ACC test - 0.8620\n"
          ],
          "name": "stdout"
        },
        {
          "output_type": "stream",
          "text": [
            "Epoch 6: 100%|██████████| 3997/3997 [00:07<00:00, 508.20it/s, train_loss=0.399]\n",
            "Epoch 7:   0%|          | 0/3997 [00:00<?, ?it/s]"
          ],
          "name": "stderr"
        },
        {
          "output_type": "stream",
          "text": [
            "\n",
            "Losses: train - 0.2067956, test - 0.7634318\n",
            "F1 test - 0.8472\n",
            "ACC test - 0.8600\n"
          ],
          "name": "stdout"
        },
        {
          "output_type": "stream",
          "text": [
            "Epoch 7: 100%|██████████| 3997/3997 [00:07<00:00, 510.48it/s, train_loss=0.367]\n",
            "Epoch 8:   0%|          | 0/3997 [00:00<?, ?it/s]"
          ],
          "name": "stderr"
        },
        {
          "output_type": "stream",
          "text": [
            "\n",
            "Losses: train - 0.1729514, test - 0.7473334\n",
            "F1 test - 0.8575\n",
            "ACC test - 0.8680\n"
          ],
          "name": "stdout"
        },
        {
          "output_type": "stream",
          "text": [
            "Epoch 8: 100%|██████████| 3997/3997 [00:07<00:00, 508.23it/s, train_loss=0.34]\n",
            "Epoch 9:   0%|          | 0/3997 [00:00<?, ?it/s]"
          ],
          "name": "stderr"
        },
        {
          "output_type": "stream",
          "text": [
            "\n",
            "Losses: train - 0.1493632, test - 0.7397825\n",
            "F1 test - 0.8525\n",
            "ACC test - 0.8640\n"
          ],
          "name": "stdout"
        },
        {
          "output_type": "stream",
          "text": [
            "Epoch 9: 100%|██████████| 3997/3997 [00:07<00:00, 511.57it/s, train_loss=0.316]\n",
            "Epoch 10:   0%|          | 0/3997 [00:00<?, ?it/s]"
          ],
          "name": "stderr"
        },
        {
          "output_type": "stream",
          "text": [
            "\n",
            "Losses: train - 0.1258764, test - 0.7254452\n",
            "F1 test - 0.8562\n",
            "ACC test - 0.8660\n"
          ],
          "name": "stdout"
        },
        {
          "output_type": "stream",
          "text": [
            "Epoch 10: 100%|██████████| 3997/3997 [00:07<00:00, 513.69it/s, train_loss=0.295]\n",
            "Epoch 11:   0%|          | 0/3997 [00:00<?, ?it/s]"
          ],
          "name": "stderr"
        },
        {
          "output_type": "stream",
          "text": [
            "\n",
            "Losses: train - 0.1080787, test - 0.7219956\n",
            "F1 test - 0.8586\n",
            "ACC test - 0.8680\n"
          ],
          "name": "stdout"
        },
        {
          "output_type": "stream",
          "text": [
            "Epoch 11: 100%|██████████| 3997/3997 [00:07<00:00, 510.78it/s, train_loss=0.277]\n",
            "Epoch 12:   0%|          | 0/3997 [00:00<?, ?it/s]"
          ],
          "name": "stderr"
        },
        {
          "output_type": "stream",
          "text": [
            "\n",
            "Losses: train - 0.0952072, test - 0.7166291\n",
            "F1 test - 0.8565\n",
            "ACC test - 0.8660\n"
          ],
          "name": "stdout"
        },
        {
          "output_type": "stream",
          "text": [
            "Epoch 12: 100%|██████████| 3997/3997 [00:07<00:00, 504.74it/s, train_loss=0.261]\n",
            "Epoch 13:   0%|          | 0/3997 [00:00<?, ?it/s]"
          ],
          "name": "stderr"
        },
        {
          "output_type": "stream",
          "text": [
            "\n",
            "Losses: train - 0.0816557, test - 0.7085662\n",
            "F1 test - 0.8538\n",
            "ACC test - 0.8640\n"
          ],
          "name": "stdout"
        },
        {
          "output_type": "stream",
          "text": [
            "Epoch 13: 100%|██████████| 3997/3997 [00:07<00:00, 512.93it/s, train_loss=0.246]\n",
            "Epoch 14:   0%|          | 0/3997 [00:00<?, ?it/s]"
          ],
          "name": "stderr"
        },
        {
          "output_type": "stream",
          "text": [
            "\n",
            "Losses: train - 0.0712747, test - 0.7037603\n",
            "F1 test - 0.8585\n",
            "ACC test - 0.8680\n"
          ],
          "name": "stdout"
        },
        {
          "output_type": "stream",
          "text": [
            "Epoch 14: 100%|██████████| 3997/3997 [00:07<00:00, 515.20it/s, train_loss=0.233]\n",
            "Epoch 15:   0%|          | 0/3997 [00:00<?, ?it/s]"
          ],
          "name": "stderr"
        },
        {
          "output_type": "stream",
          "text": [
            "\n",
            "Losses: train - 0.0614916, test - 0.6964579\n",
            "F1 test - 0.8601\n",
            "ACC test - 0.8700\n"
          ],
          "name": "stdout"
        },
        {
          "output_type": "stream",
          "text": [
            "Epoch 15: 100%|██████████| 3997/3997 [00:07<00:00, 516.25it/s, train_loss=0.221]\n"
          ],
          "name": "stderr"
        },
        {
          "output_type": "stream",
          "text": [
            "\n",
            "Losses: train - 0.0548734, test - 0.6992660\n",
            "F1 test - 0.8585\n",
            "ACC test - 0.8680\n",
            "Early stopping\n",
            "\n",
            "\n"
          ],
          "name": "stdout"
        }
      ]
    },
    {
      "cell_type": "markdown",
      "metadata": {
        "id": "j2DdBr_ldey0",
        "colab_type": "text"
      },
      "source": [
        "## 5k"
      ]
    },
    {
      "cell_type": "code",
      "metadata": {
        "colab_type": "code",
        "id": "IirUWtLYdiC1",
        "colab": {}
      },
      "source": [
        "from glob import glob \n",
        "import pandas as pd\n",
        "files = glob('./Question_augmentation/TREC50_5k_bert_0.7__*')\n",
        "all_augs = pd.concat([pd.read_csv(i, index_col=0) for i in files])"
      ],
      "execution_count": 0,
      "outputs": []
    },
    {
      "cell_type": "code",
      "metadata": {
        "colab_type": "code",
        "outputId": "617422ba-9c85-413d-ee33-3f65f647b58f",
        "id": "MO9k1eMqdiC3",
        "colab": {
          "base_uri": "https://localhost:8080/",
          "height": 282
        }
      },
      "source": [
        "all_augs.labels.value_counts().plot()"
      ],
      "execution_count": 0,
      "outputs": [
        {
          "output_type": "execute_result",
          "data": {
            "text/plain": [
              "<matplotlib.axes._subplots.AxesSubplot at 0x7ff3e21146a0>"
            ]
          },
          "metadata": {
            "tags": []
          },
          "execution_count": 117
        },
        {
          "output_type": "display_data",
          "data": {
            "image/png": "[encoded data removed]",
            "text/plain": [
              "<Figure size 432x288 with 1 Axes>"
            ]
          },
          "metadata": {
            "tags": [],
            "needs_background": "light"
          }
        }
      ]
    },
    {
      "cell_type": "code",
      "metadata": {
        "colab_type": "code",
        "id": "3sWO1_nJdiC5",
        "colab": {}
      },
      "source": [
        "number_of_attemp_to_fit = 1"
      ],
      "execution_count": 0,
      "outputs": []
    },
    {
      "cell_type": "code",
      "metadata": {
        "colab_type": "code",
        "id": "6LJQf2t6diC7",
        "colab": {}
      },
      "source": [
        "train_data, test_data, l2i = read_trec50('trec50_splited/trec50_5k.csv')"
      ],
      "execution_count": 0,
      "outputs": []
    },
    {
      "cell_type": "code",
      "metadata": {
        "colab_type": "code",
        "id": "J-gHDQ5zdiC9",
        "colab": {}
      },
      "source": [
        "for instance in list(tqdm._instances):\n",
        "    tqdm._decr_instances(instance)"
      ],
      "execution_count": 0,
      "outputs": []
    },
    {
      "cell_type": "code",
      "metadata": {
        "colab_type": "code",
        "outputId": "bb849274-68e7-4aa3-b9ed-d5e97cd88b23",
        "id": "QJE3tnEmdiC-",
        "colab": {
          "base_uri": "https://localhost:8080/",
          "height": 136
        }
      },
      "source": [
        "f1_scor, acc_scor, model_aug_mlp, tf = re_FIT_base_MLP(all_augs[:400000], test_data, epochs=1, out_feat=len(train_data.labels.unique()))"
      ],
      "execution_count": 0,
      "outputs": [
        {
          "output_type": "stream",
          "text": [
            "Epoch 1: 100%|██████████| 400000/400000 [12:19<00:00, 540.89it/s, train_loss=0.412]\n"
          ],
          "name": "stderr"
        },
        {
          "output_type": "stream",
          "text": [
            "\n",
            "Losses: train - 0.7222850, test - 0.9084116\n",
            "F1 test - 0.8586\n",
            "ACC test - 0.8660\n",
            "\n",
            "\n"
          ],
          "name": "stdout"
        }
      ]
    },
    {
      "cell_type": "code",
      "metadata": {
        "colab_type": "code",
        "outputId": "19c4198f-81e6-4988-f518-6bf69e98f348",
        "id": "0uqUPtWEdiDA",
        "colab": {
          "base_uri": "https://localhost:8080/",
          "height": 1000
        }
      },
      "source": [
        "a, b, c, f = re_FIT_base_MLP(train_data, test_data, model_aug_mlp, tf, epochs=35 )"
      ],
      "execution_count": 0,
      "outputs": [
        {
          "output_type": "stream",
          "text": [
            "Epoch 1: 100%|██████████| 5009/5009 [00:09<00:00, 539.84it/s, train_loss=0.609]\n",
            "Epoch 2:   0%|          | 0/5009 [00:00<?, ?it/s]"
          ],
          "name": "stderr"
        },
        {
          "output_type": "stream",
          "text": [
            "\n",
            "Losses: train - 0.6086937, test - 0.8365732\n",
            "F1 test - 0.8616\n",
            "ACC test - 0.8680\n"
          ],
          "name": "stdout"
        },
        {
          "output_type": "stream",
          "text": [
            "Epoch 2: 100%|██████████| 5009/5009 [00:09<00:00, 538.62it/s, train_loss=0.508]\n",
            "Epoch 3:   0%|          | 0/5009 [00:00<?, ?it/s]"
          ],
          "name": "stderr"
        },
        {
          "output_type": "stream",
          "text": [
            "\n",
            "Losses: train - 0.4076982, test - 0.7947687\n",
            "F1 test - 0.8628\n",
            "ACC test - 0.8700\n"
          ],
          "name": "stdout"
        },
        {
          "output_type": "stream",
          "text": [
            "Epoch 3: 100%|██████████| 5009/5009 [00:09<00:00, 540.52it/s, train_loss=0.437]\n",
            "Epoch 4:   0%|          | 0/5009 [00:00<?, ?it/s]"
          ],
          "name": "stderr"
        },
        {
          "output_type": "stream",
          "text": [
            "\n",
            "Losses: train - 0.2945391, test - 0.7717591\n",
            "F1 test - 0.8683\n",
            "ACC test - 0.8760\n"
          ],
          "name": "stdout"
        },
        {
          "output_type": "stream",
          "text": [
            "Epoch 4: 100%|██████████| 5009/5009 [00:09<00:00, 539.71it/s, train_loss=0.383]\n",
            "Epoch 5:   0%|          | 0/5009 [00:00<?, ?it/s]"
          ],
          "name": "stderr"
        },
        {
          "output_type": "stream",
          "text": [
            "\n",
            "Losses: train - 0.2196459, test - 0.7553900\n",
            "F1 test - 0.8622\n",
            "ACC test - 0.8680\n"
          ],
          "name": "stdout"
        },
        {
          "output_type": "stream",
          "text": [
            "Epoch 5: 100%|██████████| 5009/5009 [00:09<00:00, 540.39it/s, train_loss=0.34]\n",
            "Epoch 6:   0%|          | 0/5009 [00:00<?, ?it/s]"
          ],
          "name": "stderr"
        },
        {
          "output_type": "stream",
          "text": [
            "\n",
            "Losses: train - 0.1710429, test - 0.7400607\n",
            "F1 test - 0.8638\n",
            "ACC test - 0.8700\n"
          ],
          "name": "stdout"
        },
        {
          "output_type": "stream",
          "text": [
            "Epoch 6: 100%|██████████| 5009/5009 [00:09<00:00, 539.01it/s, train_loss=0.307]\n",
            "Epoch 7:   0%|          | 0/5009 [00:00<?, ?it/s]"
          ],
          "name": "stderr"
        },
        {
          "output_type": "stream",
          "text": [
            "\n",
            "Losses: train - 0.1402434, test - 0.7317985\n",
            "F1 test - 0.8622\n",
            "ACC test - 0.8680\n"
          ],
          "name": "stdout"
        },
        {
          "output_type": "stream",
          "text": [
            "Epoch 7: 100%|██████████| 5009/5009 [00:09<00:00, 540.76it/s, train_loss=0.279]\n",
            "Epoch 8:   0%|          | 0/5009 [00:00<?, ?it/s]"
          ],
          "name": "stderr"
        },
        {
          "output_type": "stream",
          "text": [
            "\n",
            "Losses: train - 0.1117345, test - 0.7286611\n",
            "F1 test - 0.8622\n",
            "ACC test - 0.8680\n"
          ],
          "name": "stdout"
        },
        {
          "output_type": "stream",
          "text": [
            "Epoch 8: 100%|██████████| 5009/5009 [00:09<00:00, 533.22it/s, train_loss=0.256]\n",
            "Epoch 9:   0%|          | 0/5009 [00:00<?, ?it/s]"
          ],
          "name": "stderr"
        },
        {
          "output_type": "stream",
          "text": [
            "\n",
            "Losses: train - 0.0936276, test - 0.7219244\n",
            "F1 test - 0.8586\n",
            "ACC test - 0.8640\n"
          ],
          "name": "stdout"
        },
        {
          "output_type": "stream",
          "text": [
            "Epoch 9: 100%|██████████| 5009/5009 [00:09<00:00, 549.77it/s, train_loss=0.236]\n",
            "Epoch 10:   0%|          | 0/5009 [00:00<?, ?it/s]"
          ],
          "name": "stderr"
        },
        {
          "output_type": "stream",
          "text": [
            "\n",
            "Losses: train - 0.0789992, test - 0.7113533\n",
            "F1 test - 0.8616\n",
            "ACC test - 0.8660\n"
          ],
          "name": "stdout"
        },
        {
          "output_type": "stream",
          "text": [
            "Epoch 10: 100%|██████████| 5009/5009 [00:09<00:00, 538.96it/s, train_loss=0.219]\n",
            "Epoch 11:   0%|          | 0/5009 [00:00<?, ?it/s]"
          ],
          "name": "stderr"
        },
        {
          "output_type": "stream",
          "text": [
            "\n",
            "Losses: train - 0.0667504, test - 0.7045240\n",
            "F1 test - 0.8586\n",
            "ACC test - 0.8640\n"
          ],
          "name": "stdout"
        },
        {
          "output_type": "stream",
          "text": [
            "Epoch 11: 100%|██████████| 5009/5009 [00:09<00:00, 540.71it/s, train_loss=0.205]\n",
            "Epoch 12:   0%|          | 0/5009 [00:00<?, ?it/s]"
          ],
          "name": "stderr"
        },
        {
          "output_type": "stream",
          "text": [
            "\n",
            "Losses: train - 0.0577923, test - 0.6999785\n",
            "F1 test - 0.8578\n",
            "ACC test - 0.8640\n"
          ],
          "name": "stdout"
        },
        {
          "output_type": "stream",
          "text": [
            "Epoch 12: 100%|██████████| 5009/5009 [00:09<00:00, 538.43it/s, train_loss=0.192]\n",
            "Epoch 13:   0%|          | 0/5009 [00:00<?, ?it/s]"
          ],
          "name": "stderr"
        },
        {
          "output_type": "stream",
          "text": [
            "\n",
            "Losses: train - 0.0505400, test - 0.6940719\n",
            "F1 test - 0.8581\n",
            "ACC test - 0.8640\n"
          ],
          "name": "stdout"
        },
        {
          "output_type": "stream",
          "text": [
            "Epoch 13: 100%|██████████| 5009/5009 [00:09<00:00, 546.77it/s, train_loss=0.18]\n",
            "Epoch 14:   0%|          | 0/5009 [00:00<?, ?it/s]"
          ],
          "name": "stderr"
        },
        {
          "output_type": "stream",
          "text": [
            "\n",
            "Losses: train - 0.0436380, test - 0.6876152\n",
            "F1 test - 0.8600\n",
            "ACC test - 0.8660\n"
          ],
          "name": "stdout"
        },
        {
          "output_type": "stream",
          "text": [
            "Epoch 14: 100%|██████████| 5009/5009 [00:09<00:00, 546.85it/s, train_loss=0.17]\n",
            "Epoch 15:   0%|          | 0/5009 [00:00<?, ?it/s]"
          ],
          "name": "stderr"
        },
        {
          "output_type": "stream",
          "text": [
            "\n",
            "Losses: train - 0.0378225, test - 0.6822070\n",
            "F1 test - 0.8628\n",
            "ACC test - 0.8700\n"
          ],
          "name": "stdout"
        },
        {
          "output_type": "stream",
          "text": [
            "Epoch 15: 100%|██████████| 5009/5009 [00:09<00:00, 529.65it/s, train_loss=0.161]\n",
            "Epoch 16:   0%|          | 0/5009 [00:00<?, ?it/s]"
          ],
          "name": "stderr"
        },
        {
          "output_type": "stream",
          "text": [
            "\n",
            "Losses: train - 0.0342816, test - 0.6764696\n",
            "F1 test - 0.8596\n",
            "ACC test - 0.8660\n"
          ],
          "name": "stdout"
        },
        {
          "output_type": "stream",
          "text": [
            "Epoch 16: 100%|██████████| 5009/5009 [00:09<00:00, 539.85it/s, train_loss=0.153]\n",
            "Epoch 17:   0%|          | 0/5009 [00:00<?, ?it/s]"
          ],
          "name": "stderr"
        },
        {
          "output_type": "stream",
          "text": [
            "\n",
            "Losses: train - 0.0308711, test - 0.6724404\n",
            "F1 test - 0.8596\n",
            "ACC test - 0.8660\n"
          ],
          "name": "stdout"
        },
        {
          "output_type": "stream",
          "text": [
            "Epoch 17: 100%|██████████| 5009/5009 [00:09<00:00, 542.82it/s, train_loss=0.146]\n"
          ],
          "name": "stderr"
        },
        {
          "output_type": "stream",
          "text": [
            "\n",
            "Losses: train - 0.0267780, test - 0.6772968\n",
            "F1 test - 0.8638\n",
            "ACC test - 0.8680\n",
            "Early stopping\n",
            "\n",
            "\n"
          ],
          "name": "stdout"
        }
      ]
    },
    {
      "cell_type": "markdown",
      "metadata": {
        "id": "DP8VQ19V7n0k",
        "colab_type": "text"
      },
      "source": [
        "# Trec-6 bert faiss"
      ]
    },
    {
      "cell_type": "markdown",
      "metadata": {
        "id": "BRbYv_-c7te-",
        "colab_type": "text"
      },
      "source": [
        "## 3k"
      ]
    },
    {
      "cell_type": "code",
      "metadata": {
        "colab_type": "code",
        "id": "HN9e4Tdo73gI",
        "colab": {}
      },
      "source": [
        "from glob import glob \n",
        "import pandas as pd\n",
        "files = glob('./USE_filtring_3k*')\n",
        "all_augs = pd.concat([pd.read_csv(i, index_col=0) for i in files])"
      ],
      "execution_count": 0,
      "outputs": []
    },
    {
      "cell_type": "code",
      "metadata": {
        "colab_type": "code",
        "id": "Fn4-lHf373gM",
        "colab": {}
      },
      "source": [
        "train_data, test_data, l2i = read_trec6('trec6_splited/trec6_splited_3k.csv')"
      ],
      "execution_count": 0,
      "outputs": []
    },
    {
      "cell_type": "code",
      "metadata": {
        "colab_type": "code",
        "id": "OorPAwgW73gO",
        "colab": {}
      },
      "source": [
        "for instance in list(tqdm._instances):\n",
        "    tqdm._decr_instances(instance)"
      ],
      "execution_count": 0,
      "outputs": []
    },
    {
      "cell_type": "code",
      "metadata": {
        "colab_type": "code",
        "outputId": "1d9988df-8ce3-43d0-b093-0501ee9a6578",
        "id": "r1X-MUAq73gQ",
        "colab": {
          "base_uri": "https://localhost:8080/",
          "height": 136
        }
      },
      "source": [
        "f1_scor, acc_scor, model_aug_mlp, tf = re_FIT_base_MLP(all_augs, test_data, epochs=1, out_feat=len(train_data.labels.unique()))"
      ],
      "execution_count": 0,
      "outputs": [
        {
          "output_type": "stream",
          "text": [
            "Epoch 1: 100%|██████████| 319823/319823 [15:54<00:00, 335.06it/s, train_loss=0.00515]\n"
          ],
          "name": "stderr"
        },
        {
          "output_type": "stream",
          "text": [
            "\n",
            "Losses: train - 0.1247567, test - 0.3220211\n",
            "F1 test - 0.9065\n",
            "ACC test - 0.9060\n",
            "\n",
            "\n"
          ],
          "name": "stdout"
        }
      ]
    },
    {
      "cell_type": "code",
      "metadata": {
        "colab_type": "code",
        "outputId": "2d01d16a-e2f7-4c43-c1d3-5918b32eed02",
        "id": "02YQ4jji73gS",
        "colab": {
          "base_uri": "https://localhost:8080/",
          "height": 1000
        }
      },
      "source": [
        "a, b, c, f = re_FIT_base_MLP(train_data, test_data, model_aug_mlp, tf, epochs=35 )"
      ],
      "execution_count": 0,
      "outputs": [
        {
          "output_type": "stream",
          "text": [
            "\n",
            "Epoch 1:   0%|          | 0/3004 [00:00<?, ?it/s]\u001b[A\n",
            "Epoch 1:   0%|          | 0/3004 [00:00<?, ?it/s, train_loss=0.394]\u001b[A\n",
            "Epoch 1:   9%|▊         | 256/3004 [00:00<00:10, 263.26it/s, train_loss=0.394]\u001b[A\n",
            "Epoch 1:   9%|▊         | 256/3004 [00:01<00:10, 263.26it/s, train_loss=0.347]\u001b[A\n",
            "Epoch 1:  17%|█▋        | 512/3004 [00:01<00:08, 280.52it/s, train_loss=0.347]\u001b[A\n",
            "Epoch 1:  17%|█▋        | 512/3004 [00:02<00:08, 280.52it/s, train_loss=0.338]\u001b[A\n",
            "Epoch 1:  26%|██▌       | 768/3004 [00:02<00:07, 295.19it/s, train_loss=0.338]\u001b[A\n",
            "Epoch 1:  26%|██▌       | 768/3004 [00:03<00:07, 295.19it/s, train_loss=0.352]\u001b[A\n",
            "Epoch 1:  34%|███▍      | 1024/3004 [00:03<00:06, 306.75it/s, train_loss=0.352]\u001b[A\n",
            "Epoch 1:  34%|███▍      | 1024/3004 [00:04<00:06, 306.75it/s, train_loss=0.342]\u001b[A\n",
            "Epoch 1:  43%|████▎     | 1280/3004 [00:04<00:05, 314.87it/s, train_loss=0.342]\u001b[A\n",
            "Epoch 1:  43%|████▎     | 1280/3004 [00:04<00:05, 314.87it/s, train_loss=0.344]\u001b[A\n",
            "Epoch 1:  51%|█████     | 1536/3004 [00:04<00:04, 319.12it/s, train_loss=0.344]\u001b[A\n",
            "Epoch 1:  51%|█████     | 1536/3004 [00:05<00:04, 319.12it/s, train_loss=0.326]\u001b[A\n",
            "Epoch 1:  60%|█████▉    | 1792/3004 [00:05<00:03, 324.48it/s, train_loss=0.326]\u001b[A\n",
            "Epoch 1:  60%|█████▉    | 1792/3004 [00:06<00:03, 324.48it/s, train_loss=0.318]\u001b[A\n",
            "Epoch 1:  26%|██▌       | 1280/5006 [00:19<00:10, 372.03it/s, train_loss=0.407]\n",
            "Epoch 1:  68%|██████▊   | 2048/3004 [00:07<00:02, 327.80it/s, train_loss=0.322]\u001b[A\n",
            "Epoch 1:  77%|███████▋  | 2304/3004 [00:07<00:02, 328.96it/s, train_loss=0.322]\u001b[A\n",
            "Epoch 1:  77%|███████▋  | 2304/3004 [00:07<00:02, 328.96it/s, train_loss=0.319]\u001b[A\n",
            "Epoch 1:  85%|████████▌ | 2560/3004 [00:07<00:01, 329.21it/s, train_loss=0.319]\u001b[A\n",
            "Epoch 1:  85%|████████▌ | 2560/3004 [00:08<00:01, 329.21it/s, train_loss=0.33] \u001b[A\n",
            "Epoch 1:  94%|█████████▎| 2816/3004 [00:08<00:00, 330.54it/s, train_loss=0.33]\u001b[A\n",
            "Epoch 1:  94%|█████████▎| 2816/3004 [00:09<00:00, 330.54it/s, train_loss=0.324]\u001b[A\n",
            "Epoch 1: 100%|██████████| 3004/3004 [00:09<00:00, 324.46it/s, train_loss=0.324]\n",
            "\n",
            "Epoch 2:   0%|          | 0/3004 [00:00<?, ?it/s]\u001b[A"
          ],
          "name": "stderr"
        },
        {
          "output_type": "stream",
          "text": [
            "\n",
            "Losses: train - 0.3235603, test - 0.2812827\n",
            "F1 test - 0.9202\n",
            "ACC test - 0.9200\n"
          ],
          "name": "stdout"
        },
        {
          "output_type": "stream",
          "text": [
            "\n",
            "Epoch 2:   0%|          | 0/3004 [00:00<?, ?it/s, train_loss=0.311]\u001b[A\n",
            "Epoch 2:   9%|▊         | 256/3004 [00:00<00:08, 331.49it/s, train_loss=0.311]\u001b[A\n",
            "Epoch 2:   9%|▊         | 256/3004 [00:01<00:08, 331.49it/s, train_loss=0.301]\u001b[A\n",
            "Epoch 2:  17%|█▋        | 512/3004 [00:01<00:07, 332.51it/s, train_loss=0.301]\u001b[A\n",
            "Epoch 2:  17%|█▋        | 512/3004 [00:02<00:07, 332.51it/s, train_loss=0.293]\u001b[A\n",
            "Epoch 2:  26%|██▌       | 768/3004 [00:02<00:06, 332.06it/s, train_loss=0.293]\u001b[A\n",
            "Epoch 2:  26%|██▌       | 768/3004 [00:03<00:06, 332.06it/s, train_loss=0.287]\u001b[A\n",
            "Epoch 2:  34%|███▍      | 1024/3004 [00:03<00:05, 332.49it/s, train_loss=0.287]\u001b[A\n",
            "Epoch 2:  34%|███▍      | 1024/3004 [00:03<00:05, 332.49it/s, train_loss=0.279]\u001b[A\n",
            "Epoch 2:  43%|████▎     | 1280/3004 [00:03<00:05, 331.82it/s, train_loss=0.279]\u001b[A\n",
            "Epoch 2:  43%|████▎     | 1280/3004 [00:04<00:05, 331.82it/s, train_loss=0.274]\u001b[A\n",
            "Epoch 2:  51%|█████     | 1536/3004 [00:04<00:04, 332.63it/s, train_loss=0.274]\u001b[A\n",
            "Epoch 2:  51%|█████     | 1536/3004 [00:05<00:04, 332.63it/s, train_loss=0.268]\u001b[A\n",
            "Epoch 2:  60%|█████▉    | 1792/3004 [00:05<00:03, 332.72it/s, train_loss=0.268]\u001b[A\n",
            "Epoch 2:  60%|█████▉    | 1792/3004 [00:06<00:03, 332.72it/s, train_loss=0.269]\u001b[A\n",
            "Epoch 2:  68%|██████▊   | 2048/3004 [00:06<00:02, 333.96it/s, train_loss=0.269]\u001b[A\n",
            "Epoch 2:  68%|██████▊   | 2048/3004 [00:06<00:02, 333.96it/s, train_loss=0.266]\u001b[A\n",
            "Epoch 2:  77%|███████▋  | 2304/3004 [00:06<00:02, 334.83it/s, train_loss=0.266]\u001b[A\n",
            "Epoch 2:  77%|███████▋  | 2304/3004 [00:07<00:02, 334.83it/s, train_loss=0.26] \u001b[A\n",
            "Epoch 2:  85%|████████▌ | 2560/3004 [00:07<00:01, 334.08it/s, train_loss=0.26]\u001b[A\n",
            "Epoch 2:  85%|████████▌ | 2560/3004 [00:08<00:01, 334.08it/s, train_loss=0.258]\u001b[A\n",
            "Epoch 2:  94%|█████████▎| 2816/3004 [00:08<00:00, 333.82it/s, train_loss=0.258]\u001b[A\n",
            "Epoch 2:  94%|█████████▎| 2816/3004 [00:09<00:00, 333.82it/s, train_loss=0.252]\u001b[A\n",
            "Epoch 2: 100%|██████████| 3004/3004 [00:09<00:00, 331.32it/s, train_loss=0.252]\n",
            "\n",
            "Epoch 3:   0%|          | 0/3004 [00:00<?, ?it/s]\u001b[A"
          ],
          "name": "stderr"
        },
        {
          "output_type": "stream",
          "text": [
            "\n",
            "Losses: train - 0.1798985, test - 0.2738299\n",
            "F1 test - 0.9281\n",
            "ACC test - 0.9280\n"
          ],
          "name": "stdout"
        },
        {
          "output_type": "stream",
          "text": [
            "\n",
            "Epoch 3:   0%|          | 0/3004 [00:00<?, ?it/s, train_loss=0.244]\u001b[A\n",
            "Epoch 3:   9%|▊         | 256/3004 [00:00<00:08, 327.40it/s, train_loss=0.244]\u001b[A\n",
            "Epoch 3:   9%|▊         | 256/3004 [00:01<00:08, 327.40it/s, train_loss=0.239]\u001b[A\n",
            "Epoch 3:  17%|█▋        | 512/3004 [00:01<00:07, 329.05it/s, train_loss=0.239]\u001b[A\n",
            "Epoch 3:  17%|█▋        | 512/3004 [00:02<00:07, 329.05it/s, train_loss=0.235]\u001b[A\n",
            "Epoch 3:  26%|██▌       | 768/3004 [00:02<00:06, 328.07it/s, train_loss=0.235]\u001b[A\n",
            "Epoch 3:  26%|██▌       | 768/3004 [00:03<00:06, 328.07it/s, train_loss=0.229]\u001b[A\n",
            "Epoch 3:  34%|███▍      | 1024/3004 [00:03<00:06, 329.12it/s, train_loss=0.229]\u001b[A\n",
            "Epoch 3:  34%|███▍      | 1024/3004 [00:03<00:06, 329.12it/s, train_loss=0.226]\u001b[A\n",
            "Epoch 3:  43%|████▎     | 1280/3004 [00:03<00:05, 329.53it/s, train_loss=0.226]\u001b[A\n",
            "Epoch 3:  43%|████▎     | 1280/3004 [00:04<00:05, 329.53it/s, train_loss=0.222]\u001b[A\n",
            "Epoch 3:  51%|█████     | 1536/3004 [00:04<00:04, 330.47it/s, train_loss=0.222]\u001b[A\n",
            "Epoch 3:  51%|█████     | 1536/3004 [00:05<00:04, 330.47it/s, train_loss=0.221]\u001b[A\n",
            "Epoch 3:  60%|█████▉    | 1792/3004 [00:05<00:03, 330.94it/s, train_loss=0.221]\u001b[A\n",
            "Epoch 3:  60%|█████▉    | 1792/3004 [00:06<00:03, 330.94it/s, train_loss=0.216]\u001b[A\n",
            "Epoch 3:  68%|██████▊   | 2048/3004 [00:06<00:02, 330.75it/s, train_loss=0.216]\u001b[A\n",
            "Epoch 3:  68%|██████▊   | 2048/3004 [00:06<00:02, 330.75it/s, train_loss=0.215]\u001b[A\n",
            "Epoch 3:  77%|███████▋  | 2304/3004 [00:06<00:02, 331.33it/s, train_loss=0.215]\u001b[A\n",
            "Epoch 3:  77%|███████▋  | 2304/3004 [00:07<00:02, 331.33it/s, train_loss=0.211]\u001b[A\n",
            "Epoch 3:  85%|████████▌ | 2560/3004 [00:07<00:01, 331.58it/s, train_loss=0.211]\u001b[A\n",
            "Epoch 3:  85%|████████▌ | 2560/3004 [00:08<00:01, 331.58it/s, train_loss=0.207]\u001b[A\n",
            "Epoch 3:  94%|█████████▎| 2816/3004 [00:08<00:00, 330.98it/s, train_loss=0.207]\u001b[A\n",
            "Epoch 3:  94%|█████████▎| 2816/3004 [00:09<00:00, 330.98it/s, train_loss=0.204]\u001b[A\n",
            "Epoch 3: 100%|██████████| 3004/3004 [00:09<00:00, 328.59it/s, train_loss=0.204]\n",
            "\n",
            "Epoch 4:   0%|          | 0/3004 [00:00<?, ?it/s]\u001b[A"
          ],
          "name": "stderr"
        },
        {
          "output_type": "stream",
          "text": [
            "\n",
            "Losses: train - 0.1096352, test - 0.2700460\n",
            "F1 test - 0.9214\n",
            "ACC test - 0.9220\n"
          ],
          "name": "stdout"
        },
        {
          "output_type": "stream",
          "text": [
            "\n",
            "Epoch 4:   0%|          | 0/3004 [00:00<?, ?it/s, train_loss=0.201]\u001b[A\n",
            "Epoch 4:   9%|▊         | 256/3004 [00:00<00:08, 330.41it/s, train_loss=0.201]\u001b[A\n",
            "Epoch 4:   9%|▊         | 256/3004 [00:01<00:08, 330.41it/s, train_loss=0.197]\u001b[A\n",
            "Epoch 4:  17%|█▋        | 512/3004 [00:01<00:07, 329.32it/s, train_loss=0.197]\u001b[A\n",
            "Epoch 4:  17%|█▋        | 512/3004 [00:02<00:07, 329.32it/s, train_loss=0.194]\u001b[A\n",
            "Epoch 4:  26%|██▌       | 768/3004 [00:02<00:06, 329.93it/s, train_loss=0.194]\u001b[A\n",
            "Epoch 4:  26%|██▌       | 768/3004 [00:03<00:06, 329.93it/s, train_loss=0.192]\u001b[A\n",
            "Epoch 4:  34%|███▍      | 1024/3004 [00:03<00:05, 332.08it/s, train_loss=0.192]\u001b[A\n",
            "Epoch 4:  34%|███▍      | 1024/3004 [00:03<00:05, 332.08it/s, train_loss=0.19] \u001b[A\n",
            "Epoch 4:  43%|████▎     | 1280/3004 [00:03<00:05, 332.56it/s, train_loss=0.19]\u001b[A\n",
            "Epoch 4:  43%|████▎     | 1280/3004 [00:04<00:05, 332.56it/s, train_loss=0.186]\u001b[A\n",
            "Epoch 4:  51%|█████     | 1536/3004 [00:04<00:04, 331.62it/s, train_loss=0.186]\u001b[A\n",
            "Epoch 4:  51%|█████     | 1536/3004 [00:05<00:04, 331.62it/s, train_loss=0.184]\u001b[A\n",
            "Epoch 4:  60%|█████▉    | 1792/3004 [00:05<00:03, 331.00it/s, train_loss=0.184]\u001b[A\n",
            "Epoch 4:  60%|█████▉    | 1792/3004 [00:06<00:03, 331.00it/s, train_loss=0.181]\u001b[A\n",
            "Epoch 4:  68%|██████▊   | 2048/3004 [00:06<00:02, 331.82it/s, train_loss=0.181]\u001b[A\n",
            "Epoch 4:  68%|██████▊   | 2048/3004 [00:06<00:02, 331.82it/s, train_loss=0.179]\u001b[A\n",
            "Epoch 4:  77%|███████▋  | 2304/3004 [00:06<00:02, 332.61it/s, train_loss=0.179]\u001b[A\n",
            "Epoch 4:  77%|███████▋  | 2304/3004 [00:07<00:02, 332.61it/s, train_loss=0.176]\u001b[A\n",
            "Epoch 4:  85%|████████▌ | 2560/3004 [00:07<00:01, 332.65it/s, train_loss=0.176]\u001b[A\n",
            "Epoch 4:  85%|████████▌ | 2560/3004 [00:08<00:01, 332.65it/s, train_loss=0.173]\u001b[A\n",
            "Epoch 4:  94%|█████████▎| 2816/3004 [00:08<00:00, 332.44it/s, train_loss=0.173]\u001b[A\n",
            "Epoch 4:  94%|█████████▎| 2816/3004 [00:09<00:00, 332.44it/s, train_loss=0.171]\u001b[A\n",
            "Epoch 4: 100%|██████████| 3004/3004 [00:09<00:00, 329.98it/s, train_loss=0.171]\n",
            "\n",
            "Epoch 5:   0%|          | 0/3004 [00:00<?, ?it/s]\u001b[A"
          ],
          "name": "stderr"
        },
        {
          "output_type": "stream",
          "text": [
            "\n",
            "Losses: train - 0.0691749, test - 0.2677259\n",
            "F1 test - 0.9280\n",
            "ACC test - 0.9280\n"
          ],
          "name": "stdout"
        },
        {
          "output_type": "stream",
          "text": [
            "\n",
            "Epoch 5:   0%|          | 0/3004 [00:00<?, ?it/s, train_loss=0.168]\u001b[A\n",
            "Epoch 5:   9%|▊         | 256/3004 [00:00<00:08, 333.39it/s, train_loss=0.168]\u001b[A\n",
            "Epoch 5:   9%|▊         | 256/3004 [00:01<00:08, 333.39it/s, train_loss=0.165]\u001b[A\n",
            "Epoch 5:  17%|█▋        | 512/3004 [00:01<00:07, 332.88it/s, train_loss=0.165]\u001b[A\n",
            "Epoch 5:  17%|█▋        | 512/3004 [00:02<00:07, 332.88it/s, train_loss=0.163]\u001b[A\n",
            "Epoch 5:  26%|██▌       | 768/3004 [00:02<00:06, 331.76it/s, train_loss=0.163]\u001b[A\n",
            "Epoch 5:  26%|██▌       | 768/3004 [00:03<00:06, 331.76it/s, train_loss=0.161]\u001b[A\n",
            "Epoch 5:  34%|███▍      | 1024/3004 [00:03<00:05, 331.23it/s, train_loss=0.161]\u001b[A\n",
            "Epoch 5:  34%|███▍      | 1024/3004 [00:03<00:05, 331.23it/s, train_loss=0.159]\u001b[A\n",
            "Epoch 5:  43%|████▎     | 1280/3004 [00:03<00:05, 331.13it/s, train_loss=0.159]\u001b[A\n",
            "Epoch 5:  43%|████▎     | 1280/3004 [00:04<00:05, 331.13it/s, train_loss=0.157]\u001b[A\n",
            "Epoch 5:  51%|█████     | 1536/3004 [00:04<00:04, 332.34it/s, train_loss=0.157]\u001b[A\n",
            "Epoch 5:  51%|█████     | 1536/3004 [00:05<00:04, 332.34it/s, train_loss=0.155]\u001b[A\n",
            "Epoch 5:  60%|█████▉    | 1792/3004 [00:05<00:03, 332.09it/s, train_loss=0.155]\u001b[A\n",
            "Epoch 5:  60%|█████▉    | 1792/3004 [00:06<00:03, 332.09it/s, train_loss=0.153]\u001b[A\n",
            "Epoch 5:  68%|██████▊   | 2048/3004 [00:06<00:02, 330.75it/s, train_loss=0.153]\u001b[A\n",
            "Epoch 5:  68%|██████▊   | 2048/3004 [00:06<00:02, 330.75it/s, train_loss=0.152]\u001b[A\n",
            "Epoch 5:  77%|███████▋  | 2304/3004 [00:06<00:02, 332.22it/s, train_loss=0.152]\u001b[A\n",
            "Epoch 5:  77%|███████▋  | 2304/3004 [00:07<00:02, 332.22it/s, train_loss=0.15] \u001b[A\n",
            "Epoch 5:  85%|████████▌ | 2560/3004 [00:07<00:01, 333.10it/s, train_loss=0.15]\u001b[A\n",
            "Epoch 5:  85%|████████▌ | 2560/3004 [00:08<00:01, 333.10it/s, train_loss=0.149]\u001b[A\n",
            "Epoch 5:  94%|█████████▎| 2816/3004 [00:08<00:00, 333.18it/s, train_loss=0.149]\u001b[A\n",
            "Epoch 5:  94%|█████████▎| 2816/3004 [00:09<00:00, 333.18it/s, train_loss=0.147]\u001b[A\n",
            "Epoch 5: 100%|██████████| 3004/3004 [00:09<00:00, 330.27it/s, train_loss=0.147]\n"
          ],
          "name": "stderr"
        },
        {
          "output_type": "stream",
          "text": [
            "\n",
            "Losses: train - 0.0518437, test - 0.2790036\n",
            "F1 test - 0.9257\n",
            "ACC test - 0.9260\n",
            "Early stopping\n",
            "\n",
            "\n"
          ],
          "name": "stdout"
        }
      ]
    },
    {
      "cell_type": "code",
      "metadata": {
        "id": "LzWvOPAL8M_O",
        "colab_type": "code",
        "colab": {}
      },
      "source": [
        ""
      ],
      "execution_count": 0,
      "outputs": []
    },
    {
      "cell_type": "markdown",
      "metadata": {
        "id": "A3WkTUschx7T",
        "colab_type": "text"
      },
      "source": [
        "## 4k"
      ]
    },
    {
      "cell_type": "code",
      "metadata": {
        "id": "A__OhF30h0Jr",
        "colab_type": "code",
        "colab": {}
      },
      "source": [
        "!ls"
      ],
      "execution_count": 0,
      "outputs": []
    },
    {
      "cell_type": "code",
      "metadata": {
        "colab_type": "code",
        "id": "uyon7grIh0Yp",
        "colab": {}
      },
      "source": [
        "from glob import glob \n",
        "import pandas as pd\n",
        "files = glob('./USE_filtring_trec6_4*')\n",
        "all_augs = pd.concat([pd.read_csv(i, index_col=0) for i in files])"
      ],
      "execution_count": 0,
      "outputs": []
    },
    {
      "cell_type": "code",
      "metadata": {
        "colab_type": "code",
        "id": "Ry6xM58Sh0Ys",
        "colab": {}
      },
      "source": [
        "train_data, test_data, l2i = read_trec6('trec6_splited/trec6_splited_4k.csv')"
      ],
      "execution_count": 0,
      "outputs": []
    },
    {
      "cell_type": "code",
      "metadata": {
        "colab_type": "code",
        "outputId": "94686c48-343b-47f2-ca2b-cac91ec64e51",
        "id": "qSynwujLh0Yu",
        "colab": {
          "base_uri": "https://localhost:8080/",
          "height": 138
        }
      },
      "source": [
        "f1_scor, acc_scor, model_aug_mlp, tf = re_FIT_base_MLP(all_augs, test_data, epochs=1, out_feat=len(train_data.labels.unique()))"
      ],
      "execution_count": 0,
      "outputs": [
        {
          "output_type": "stream",
          "text": [
            "Epoch 1: 100%|██████████| 437297/437297 [33:32<00:00, 217.26it/s, train_loss=0.0024]\n"
          ],
          "name": "stderr"
        },
        {
          "output_type": "stream",
          "text": [
            "\n",
            "Losses: train - 0.0977614, test - 0.2442475\n",
            "F1 test - 0.9224\n",
            "ACC test - 0.9220\n",
            "\n",
            "\n"
          ],
          "name": "stdout"
        }
      ]
    },
    {
      "cell_type": "code",
      "metadata": {
        "colab_type": "code",
        "outputId": "ea5bfa83-01a0-4d7f-f802-0d7f97feaf15",
        "id": "E3_LLBevh0Yw",
        "colab": {
          "base_uri": "https://localhost:8080/",
          "height": 328
        }
      },
      "source": [
        "a, b, c, f = re_FIT_base_MLP(train_data, test_data, model_aug_mlp, tf, epochs=35 )"
      ],
      "execution_count": 0,
      "outputs": [
        {
          "output_type": "stream",
          "text": [
            "Epoch 1: 100%|██████████| 4004/4004 [00:20<00:00, 199.90it/s, train_loss=0.361]\n",
            "Epoch 2:   0%|          | 0/4004 [00:00<?, ?it/s]"
          ],
          "name": "stderr"
        },
        {
          "output_type": "stream",
          "text": [
            "\n",
            "Losses: train - 0.3610421, test - 0.2109840\n",
            "F1 test - 0.9300\n",
            "ACC test - 0.9300\n"
          ],
          "name": "stdout"
        },
        {
          "output_type": "stream",
          "text": [
            "Epoch 2: 100%|██████████| 4004/4004 [00:20<00:00, 198.60it/s, train_loss=0.271]\n",
            "Epoch 3:   0%|          | 0/4004 [00:00<?, ?it/s]"
          ],
          "name": "stderr"
        },
        {
          "output_type": "stream",
          "text": [
            "\n",
            "Losses: train - 0.1805493, test - 0.1917363\n",
            "F1 test - 0.9378\n",
            "ACC test - 0.9380\n"
          ],
          "name": "stdout"
        },
        {
          "output_type": "stream",
          "text": [
            "Epoch 3: 100%|██████████| 4004/4004 [00:19<00:00, 200.88it/s, train_loss=0.214]\n"
          ],
          "name": "stderr"
        },
        {
          "output_type": "stream",
          "text": [
            "\n",
            "Losses: train - 0.0997950, test - 0.1933684\n",
            "F1 test - 0.9358\n",
            "ACC test - 0.9360\n",
            "Early stopping\n",
            "\n",
            "\n"
          ],
          "name": "stdout"
        }
      ]
    },
    {
      "cell_type": "code",
      "metadata": {
        "id": "ok40TJq6jIq5",
        "colab_type": "code",
        "colab": {}
      },
      "source": [
        ""
      ],
      "execution_count": 0,
      "outputs": []
    },
    {
      "cell_type": "code",
      "metadata": {
        "colab_type": "code",
        "id": "qvYKXLZbjI_Z",
        "colab": {}
      },
      "source": [
        "from glob import glob \n",
        "import pandas as pd\n",
        "files = glob('./USE_filtring_trec6_5*')\n",
        "all_augs = pd.concat([pd.read_csv(i, index_col=0) for i in files])"
      ],
      "execution_count": 0,
      "outputs": []
    },
    {
      "cell_type": "code",
      "metadata": {
        "colab_type": "code",
        "id": "XxpqhyGbjI_b",
        "colab": {}
      },
      "source": [
        "train_data, test_data, l2i = read_trec6('trec6_splited/trec6_splited_5k.csv')"
      ],
      "execution_count": 0,
      "outputs": []
    },
    {
      "cell_type": "code",
      "metadata": {
        "colab_type": "code",
        "id": "KSSyPMnGjI_d",
        "outputId": "1f920cf1-acc3-4915-e462-09e30a48b646",
        "colab": {
          "base_uri": "https://localhost:8080/",
          "height": 138
        }
      },
      "source": [
        "f1_scor, acc_scor, model_aug_mlp, tf = re_FIT_base_MLP(all_augs, test_data, epochs=1, out_feat=len(train_data.labels.unique()))"
      ],
      "execution_count": 0,
      "outputs": [
        {
          "output_type": "stream",
          "text": [
            "Epoch 1: 100%|██████████| 531763/531763 [48:14<00:00, 183.71it/s, train_loss=0.0019]\n"
          ],
          "name": "stderr"
        },
        {
          "output_type": "stream",
          "text": [
            "\n",
            "Losses: train - 0.0882109, test - 0.2574628\n",
            "F1 test - 0.9319\n",
            "ACC test - 0.9320\n",
            "\n",
            "\n"
          ],
          "name": "stdout"
        }
      ]
    },
    {
      "cell_type": "code",
      "metadata": {
        "colab_type": "code",
        "id": "j5M7vlTQjI_e",
        "outputId": "1e833093-7f8d-4db6-c3ab-5b16d2e4e665",
        "colab": {
          "base_uri": "https://localhost:8080/",
          "height": 207
        }
      },
      "source": [
        "a, b, c, f = re_FIT_base_MLP(train_data, test_data, model_aug_mlp, tf, epochs=35 )"
      ],
      "execution_count": 0,
      "outputs": [
        {
          "output_type": "stream",
          "text": [
            "Epoch 1: 100%|██████████| 5006/5006 [00:24<00:00, 204.90it/s, train_loss=0.372]\n",
            "Epoch 2:   0%|          | 0/5006 [00:00<?, ?it/s]"
          ],
          "name": "stderr"
        },
        {
          "output_type": "stream",
          "text": [
            "\n",
            "Losses: train - 0.3718233, test - 0.2278614\n",
            "F1 test - 0.9400\n",
            "ACC test - 0.9400\n"
          ],
          "name": "stdout"
        },
        {
          "output_type": "stream",
          "text": [
            "Epoch 2: 100%|██████████| 5006/5006 [00:24<00:00, 205.08it/s, train_loss=0.278]\n",
            "Epoch 3:   0%|          | 0/5006 [00:00<?, ?it/s]"
          ],
          "name": "stderr"
        },
        {
          "output_type": "stream",
          "text": [
            "\n",
            "Losses: train - 0.1832943, test - 0.2196328\n",
            "F1 test - 0.9436\n",
            "ACC test - 0.9440\n"
          ],
          "name": "stdout"
        },
        {
          "output_type": "stream",
          "text": [
            "Epoch 3:  36%|███▌      | 1792/5006 [00:09<00:15, 205.52it/s, train_loss=0.247]"
          ],
          "name": "stderr"
        }
      ]
    },
    {
      "cell_type": "markdown",
      "metadata": {
        "id": "c4VKEpZX_vz7",
        "colab_type": "text"
      },
      "source": [
        "# Trec-50 bert faiss"
      ]
    },
    {
      "cell_type": "markdown",
      "metadata": {
        "id": "n3nWZGUd_zp0",
        "colab_type": "text"
      },
      "source": [
        "## 3k"
      ]
    },
    {
      "cell_type": "code",
      "metadata": {
        "colab_type": "code",
        "id": "CrpBClEo_1bV",
        "colab": {}
      },
      "source": [
        "from glob import glob \n",
        "import pandas as pd\n",
        "files = glob('./USE_filtring_trec50_3k_*')\n",
        "all_augs = pd.concat([pd.read_csv(i, index_col=0) for i in files])"
      ],
      "execution_count": 0,
      "outputs": []
    },
    {
      "cell_type": "code",
      "metadata": {
        "colab_type": "code",
        "id": "wLP7drzi_1bY",
        "colab": {}
      },
      "source": [
        "train_data, test_data, l2i = read_trec50('trec50_splited/trec50_3k.csv')"
      ],
      "execution_count": 0,
      "outputs": []
    },
    {
      "cell_type": "code",
      "metadata": {
        "colab_type": "code",
        "id": "_gpTnUsH_1ba",
        "colab": {}
      },
      "source": [
        "for instance in list(tqdm._instances):\n",
        "    tqdm._decr_instances(instance)"
      ],
      "execution_count": 0,
      "outputs": []
    },
    {
      "cell_type": "code",
      "metadata": {
        "colab_type": "code",
        "outputId": "a44427f8-6236-434c-9b1f-04a3a606e446",
        "id": "6yBkEj-7_1bc",
        "colab": {
          "base_uri": "https://localhost:8080/",
          "height": 138
        }
      },
      "source": [
        "f1_scor, acc_scor, model_aug_mlp, tf = re_FIT_base_MLP(all_augs, test_data, epochs=1, out_feat=len(train_data.labels.unique()))"
      ],
      "execution_count": 0,
      "outputs": [
        {
          "output_type": "stream",
          "text": [
            "Epoch 1: 100%|██████████| 383185/383185 [20:59<00:00, 304.16it/s, train_loss=0.00225]\n"
          ],
          "name": "stderr"
        },
        {
          "output_type": "stream",
          "text": [
            "\n",
            "Losses: train - 0.3134682, test - 1.4217985\n",
            "F1 test - 0.8259\n",
            "ACC test - 0.8380\n",
            "\n",
            "\n"
          ],
          "name": "stdout"
        }
      ]
    },
    {
      "cell_type": "code",
      "metadata": {
        "colab_type": "code",
        "outputId": "1082e37d-4ec1-4452-8c71-9834769c71cc",
        "id": "CMiqN5OT_1be",
        "colab": {
          "base_uri": "https://localhost:8080/",
          "height": 1000
        }
      },
      "source": [
        "a, b, c, f = re_FIT_base_MLP(train_data, test_data, model_aug_mlp, tf, epochs=35 )"
      ],
      "execution_count": 0,
      "outputs": [
        {
          "output_type": "stream",
          "text": [
            "Epoch 1: 100%|██████████| 3029/3029 [00:09<00:00, 329.57it/s, train_loss=1.1]\n",
            "Epoch 2:   0%|          | 0/3029 [00:00<?, ?it/s]"
          ],
          "name": "stderr"
        },
        {
          "output_type": "stream",
          "text": [
            "\n",
            "Losses: train - 1.0994483, test - 1.3606861\n",
            "F1 test - 0.8394\n",
            "ACC test - 0.8440\n"
          ],
          "name": "stdout"
        },
        {
          "output_type": "stream",
          "text": [
            "Epoch 2: 100%|██████████| 3029/3029 [00:09<00:00, 329.75it/s, train_loss=0.947]\n",
            "Epoch 3:   0%|          | 0/3029 [00:00<?, ?it/s]"
          ],
          "name": "stderr"
        },
        {
          "output_type": "stream",
          "text": [
            "\n",
            "Losses: train - 0.7938955, test - 1.2192850\n",
            "F1 test - 0.8351\n",
            "ACC test - 0.8440\n"
          ],
          "name": "stdout"
        },
        {
          "output_type": "stream",
          "text": [
            "Epoch 3: 100%|██████████| 3029/3029 [00:09<00:00, 322.94it/s, train_loss=0.827]\n",
            "Epoch 4:   0%|          | 0/3029 [00:00<?, ?it/s]"
          ],
          "name": "stderr"
        },
        {
          "output_type": "stream",
          "text": [
            "\n",
            "Losses: train - 0.5882109, test - 1.1218241\n",
            "F1 test - 0.8365\n",
            "ACC test - 0.8460\n"
          ],
          "name": "stdout"
        },
        {
          "output_type": "stream",
          "text": [
            "Epoch 4: 100%|██████████| 3029/3029 [00:09<00:00, 334.52it/s, train_loss=0.733]\n",
            "Epoch 5:   0%|          | 0/3029 [00:00<?, ?it/s]"
          ],
          "name": "stderr"
        },
        {
          "output_type": "stream",
          "text": [
            "\n",
            "Losses: train - 0.4490861, test - 1.0452914\n",
            "F1 test - 0.8364\n",
            "ACC test - 0.8460\n"
          ],
          "name": "stdout"
        },
        {
          "output_type": "stream",
          "text": [
            "Epoch 5: 100%|██████████| 3029/3029 [00:09<00:00, 333.11it/s, train_loss=0.656]\n",
            "Epoch 6:   0%|          | 0/3029 [00:00<?, ?it/s]"
          ],
          "name": "stderr"
        },
        {
          "output_type": "stream",
          "text": [
            "\n",
            "Losses: train - 0.3501996, test - 0.9789737\n",
            "F1 test - 0.8382\n",
            "ACC test - 0.8480\n"
          ],
          "name": "stdout"
        },
        {
          "output_type": "stream",
          "text": [
            "Epoch 6: 100%|██████████| 3029/3029 [00:09<00:00, 332.48it/s, train_loss=0.594]\n",
            "Epoch 7:   0%|          | 0/3029 [00:00<?, ?it/s]"
          ],
          "name": "stderr"
        },
        {
          "output_type": "stream",
          "text": [
            "\n",
            "Losses: train - 0.2827247, test - 0.9221051\n",
            "F1 test - 0.8449\n",
            "ACC test - 0.8560\n"
          ],
          "name": "stdout"
        },
        {
          "output_type": "stream",
          "text": [
            "Epoch 7: 100%|██████████| 3029/3029 [00:09<00:00, 324.14it/s, train_loss=0.543]\n",
            "Epoch 8:   0%|          | 0/3029 [00:00<?, ?it/s]"
          ],
          "name": "stderr"
        },
        {
          "output_type": "stream",
          "text": [
            "\n",
            "Losses: train - 0.2382966, test - 0.8960834\n",
            "F1 test - 0.8412\n",
            "ACC test - 0.8520\n"
          ],
          "name": "stdout"
        },
        {
          "output_type": "stream",
          "text": [
            "Epoch 8: 100%|██████████| 3029/3029 [00:09<00:00, 323.27it/s, train_loss=0.5]\n",
            "Epoch 9:   0%|          | 0/3029 [00:00<?, ?it/s]"
          ],
          "name": "stderr"
        },
        {
          "output_type": "stream",
          "text": [
            "\n",
            "Losses: train - 0.1985323, test - 0.8572948\n",
            "F1 test - 0.8414\n",
            "ACC test - 0.8520\n"
          ],
          "name": "stdout"
        },
        {
          "output_type": "stream",
          "text": [
            "Epoch 9: 100%|██████████| 3029/3029 [00:09<00:00, 331.33it/s, train_loss=0.463]\n",
            "Epoch 10:   0%|          | 0/3029 [00:00<?, ?it/s]"
          ],
          "name": "stderr"
        },
        {
          "output_type": "stream",
          "text": [
            "\n",
            "Losses: train - 0.1671511, test - 0.8261130\n",
            "F1 test - 0.8427\n",
            "ACC test - 0.8540\n"
          ],
          "name": "stdout"
        },
        {
          "output_type": "stream",
          "text": [
            "Epoch 10: 100%|██████████| 3029/3029 [00:09<00:00, 327.38it/s, train_loss=0.431]\n",
            "Epoch 11:   0%|          | 0/3029 [00:00<?, ?it/s]"
          ],
          "name": "stderr"
        },
        {
          "output_type": "stream",
          "text": [
            "\n",
            "Losses: train - 0.1461159, test - 0.8103666\n",
            "F1 test - 0.8421\n",
            "ACC test - 0.8540\n"
          ],
          "name": "stdout"
        },
        {
          "output_type": "stream",
          "text": [
            "Epoch 11: 100%|██████████| 3029/3029 [00:09<00:00, 331.89it/s, train_loss=0.404]\n",
            "Epoch 12:   0%|          | 0/3029 [00:00<?, ?it/s]"
          ],
          "name": "stderr"
        },
        {
          "output_type": "stream",
          "text": [
            "\n",
            "Losses: train - 0.1276550, test - 0.7759590\n",
            "F1 test - 0.8421\n",
            "ACC test - 0.8540\n"
          ],
          "name": "stdout"
        },
        {
          "output_type": "stream",
          "text": [
            "Epoch 12: 100%|██████████| 3029/3029 [00:09<00:00, 328.91it/s, train_loss=0.38]\n"
          ],
          "name": "stderr"
        },
        {
          "output_type": "stream",
          "text": [
            "\n",
            "Losses: train - 0.1141298, test - 0.7808569\n",
            "F1 test - 0.8423\n",
            "ACC test - 0.8540\n",
            "Early stopping\n",
            "\n",
            "\n"
          ],
          "name": "stdout"
        }
      ]
    },
    {
      "cell_type": "markdown",
      "metadata": {
        "id": "MGXJKqemAfUP",
        "colab_type": "text"
      },
      "source": [
        "## 4k"
      ]
    },
    {
      "cell_type": "code",
      "metadata": {
        "id": "jr0ZOooLGyZI",
        "colab_type": "code",
        "colab": {}
      },
      "source": [
        ""
      ],
      "execution_count": 0,
      "outputs": []
    },
    {
      "cell_type": "code",
      "metadata": {
        "colab_type": "code",
        "id": "43gi28GaAenr",
        "colab": {}
      },
      "source": [
        "from glob import glob \n",
        "import pandas as pd\n",
        "files = glob('./USE_filtring_trec50_4k_*')\n",
        "all_augs = pd.concat([pd.read_csv(i, index_col=0) for i in files])"
      ],
      "execution_count": 0,
      "outputs": []
    },
    {
      "cell_type": "code",
      "metadata": {
        "colab_type": "code",
        "id": "-jzbl0n8Aenv",
        "colab": {}
      },
      "source": [
        "train_data, test_data, l2i = read_trec50('trec50_splited/trec50_4k.csv')"
      ],
      "execution_count": 0,
      "outputs": []
    },
    {
      "cell_type": "code",
      "metadata": {
        "colab_type": "code",
        "id": "LrhQtwwoAenx",
        "outputId": "3915fec5-bfc9-441d-8e90-4d3540b81bdb",
        "colab": {
          "base_uri": "https://localhost:8080/",
          "height": 138
        }
      },
      "source": [
        "f1_scor, acc_scor, model_aug_mlp, tf = re_FIT_base_MLP(all_augs, test_data, epochs=1, out_feat=len(train_data.labels.unique()))"
      ],
      "execution_count": 0,
      "outputs": [
        {
          "output_type": "stream",
          "text": [
            "Epoch 1: 100%|██████████| 365148/365148 [25:50<00:00, 235.51it/s, train_loss=0.00772]\n"
          ],
          "name": "stderr"
        },
        {
          "output_type": "stream",
          "text": [
            "\n",
            "Losses: train - 0.3522405, test - 1.1417055\n",
            "F1 test - 0.8465\n",
            "ACC test - 0.8540\n",
            "\n",
            "\n"
          ],
          "name": "stdout"
        }
      ]
    },
    {
      "cell_type": "code",
      "metadata": {
        "colab_type": "code",
        "id": "0yIkuNF9Aenz",
        "outputId": "e52425d8-4c81-4956-b1ee-43d9d75de0d0",
        "colab": {
          "base_uri": "https://localhost:8080/",
          "height": 1000
        }
      },
      "source": [
        "a, b, c, f = re_FIT_base_MLP(train_data, test_data, model_aug_mlp, tf, epochs=35 )"
      ],
      "execution_count": 0,
      "outputs": [
        {
          "output_type": "stream",
          "text": [
            "Epoch 1: 100%|██████████| 3997/3997 [00:17<00:00, 223.00it/s, train_loss=0.868]\n",
            "Epoch 2:   0%|          | 0/3997 [00:00<?, ?it/s]"
          ],
          "name": "stderr"
        },
        {
          "output_type": "stream",
          "text": [
            "\n",
            "Losses: train - 0.8679078, test - 1.0338309\n",
            "F1 test - 0.8432\n",
            "ACC test - 0.8480\n"
          ],
          "name": "stdout"
        },
        {
          "output_type": "stream",
          "text": [
            "Epoch 2: 100%|██████████| 3997/3997 [00:18<00:00, 215.82it/s, train_loss=0.716]\n",
            "Epoch 3:   0%|          | 0/3997 [00:00<?, ?it/s]"
          ],
          "name": "stderr"
        },
        {
          "output_type": "stream",
          "text": [
            "\n",
            "Losses: train - 0.5637486, test - 0.9476960\n",
            "F1 test - 0.8537\n",
            "ACC test - 0.8560\n"
          ],
          "name": "stdout"
        },
        {
          "output_type": "stream",
          "text": [
            "Epoch 3: 100%|██████████| 3997/3997 [00:18<00:00, 221.26it/s, train_loss=0.609]\n",
            "Epoch 4:   0%|          | 0/3997 [00:00<?, ?it/s]"
          ],
          "name": "stderr"
        },
        {
          "output_type": "stream",
          "text": [
            "\n",
            "Losses: train - 0.3950760, test - 0.9071976\n",
            "F1 test - 0.8604\n",
            "ACC test - 0.8640\n"
          ],
          "name": "stdout"
        },
        {
          "output_type": "stream",
          "text": [
            "Epoch 4: 100%|██████████| 3997/3997 [00:17<00:00, 224.58it/s, train_loss=0.528]\n",
            "Epoch 5:   0%|          | 0/3997 [00:00<?, ?it/s]"
          ],
          "name": "stderr"
        },
        {
          "output_type": "stream",
          "text": [
            "\n",
            "Losses: train - 0.2834256, test - 0.8677795\n",
            "F1 test - 0.8597\n",
            "ACC test - 0.8640\n"
          ],
          "name": "stdout"
        },
        {
          "output_type": "stream",
          "text": [
            "Epoch 5: 100%|██████████| 3997/3997 [00:18<00:00, 216.81it/s, train_loss=0.465]\n",
            "Epoch 6:   0%|          | 0/3997 [00:00<?, ?it/s]"
          ],
          "name": "stderr"
        },
        {
          "output_type": "stream",
          "text": [
            "\n",
            "Losses: train - 0.2154012, test - 0.8382729\n",
            "F1 test - 0.8574\n",
            "ACC test - 0.8620\n"
          ],
          "name": "stdout"
        },
        {
          "output_type": "stream",
          "text": [
            "Epoch 6: 100%|██████████| 3997/3997 [00:17<00:00, 222.37it/s, train_loss=0.416]\n",
            "Epoch 7:   0%|          | 0/3997 [00:00<?, ?it/s]"
          ],
          "name": "stderr"
        },
        {
          "output_type": "stream",
          "text": [
            "\n",
            "Losses: train - 0.1723569, test - 0.8074419\n",
            "F1 test - 0.8537\n",
            "ACC test - 0.8580\n"
          ],
          "name": "stdout"
        },
        {
          "output_type": "stream",
          "text": [
            "Epoch 7: 100%|██████████| 3997/3997 [00:17<00:00, 223.61it/s, train_loss=0.377]\n",
            "Epoch 8:   0%|          | 0/3997 [00:00<?, ?it/s]"
          ],
          "name": "stderr"
        },
        {
          "output_type": "stream",
          "text": [
            "\n",
            "Losses: train - 0.1416812, test - 0.7855943\n",
            "F1 test - 0.8594\n",
            "ACC test - 0.8640\n"
          ],
          "name": "stdout"
        },
        {
          "output_type": "stream",
          "text": [
            "Epoch 8: 100%|██████████| 3997/3997 [00:17<00:00, 223.40it/s, train_loss=0.345]\n",
            "Epoch 9:   0%|          | 0/3997 [00:00<?, ?it/s]"
          ],
          "name": "stderr"
        },
        {
          "output_type": "stream",
          "text": [
            "\n",
            "Losses: train - 0.1166887, test - 0.7806336\n",
            "F1 test - 0.8503\n",
            "ACC test - 0.8560\n"
          ],
          "name": "stdout"
        },
        {
          "output_type": "stream",
          "text": [
            "Epoch 9: 100%|██████████| 3997/3997 [00:18<00:00, 215.65it/s, train_loss=0.317]\n",
            "Epoch 10:   0%|          | 0/3997 [00:00<?, ?it/s]"
          ],
          "name": "stderr"
        },
        {
          "output_type": "stream",
          "text": [
            "\n",
            "Losses: train - 0.0968025, test - 0.7671749\n",
            "F1 test - 0.8485\n",
            "ACC test - 0.8540\n"
          ],
          "name": "stdout"
        },
        {
          "output_type": "stream",
          "text": [
            "Epoch 10: 100%|██████████| 3997/3997 [00:17<00:00, 223.34it/s, train_loss=0.294]\n",
            "Epoch 11:   0%|          | 0/3997 [00:00<?, ?it/s]"
          ],
          "name": "stderr"
        },
        {
          "output_type": "stream",
          "text": [
            "\n",
            "Losses: train - 0.0838667, test - 0.7561043\n",
            "F1 test - 0.8498\n",
            "ACC test - 0.8560\n"
          ],
          "name": "stdout"
        },
        {
          "output_type": "stream",
          "text": [
            "Epoch 11: 100%|██████████| 3997/3997 [00:17<00:00, 222.33it/s, train_loss=0.274]\n",
            "Epoch 12:   0%|          | 0/3997 [00:00<?, ?it/s]"
          ],
          "name": "stderr"
        },
        {
          "output_type": "stream",
          "text": [
            "\n",
            "Losses: train - 0.0720772, test - 0.7463083\n",
            "F1 test - 0.8435\n",
            "ACC test - 0.8500\n"
          ],
          "name": "stdout"
        },
        {
          "output_type": "stream",
          "text": [
            "Epoch 12: 100%|██████████| 3997/3997 [00:18<00:00, 220.37it/s, train_loss=0.256]\n",
            "Epoch 13:   0%|          | 0/3997 [00:00<?, ?it/s]"
          ],
          "name": "stderr"
        },
        {
          "output_type": "stream",
          "text": [
            "\n",
            "Losses: train - 0.0626004, test - 0.7411050\n",
            "F1 test - 0.8464\n",
            "ACC test - 0.8540\n"
          ],
          "name": "stdout"
        },
        {
          "output_type": "stream",
          "text": [
            "Epoch 13: 100%|██████████| 3997/3997 [00:17<00:00, 223.01it/s, train_loss=0.24]\n"
          ],
          "name": "stderr"
        },
        {
          "output_type": "stream",
          "text": [
            "\n",
            "Losses: train - 0.0533004, test - 0.7444521\n",
            "F1 test - 0.8467\n",
            "ACC test - 0.8540\n",
            "Early stopping\n",
            "\n",
            "\n"
          ],
          "name": "stdout"
        }
      ]
    },
    {
      "cell_type": "markdown",
      "metadata": {
        "id": "1GHn_EZxAjbm",
        "colab_type": "text"
      },
      "source": [
        "## 5k"
      ]
    },
    {
      "cell_type": "code",
      "metadata": {
        "id": "knc0JEl4AkPF",
        "colab_type": "code",
        "colab": {}
      },
      "source": [
        ""
      ],
      "execution_count": 0,
      "outputs": []
    },
    {
      "cell_type": "code",
      "metadata": {
        "colab_type": "code",
        "id": "Ttl_FOb2Ak7P",
        "colab": {}
      },
      "source": [
        "from glob import glob \n",
        "import pandas as pd\n",
        "files = glob('./USE_filtring_trec50_5k_*')\n",
        "all_augs = pd.concat([pd.read_csv(i, index_col=0) for i in files])"
      ],
      "execution_count": 0,
      "outputs": []
    },
    {
      "cell_type": "code",
      "metadata": {
        "colab_type": "code",
        "id": "EpobM6VFAk7S",
        "colab": {}
      },
      "source": [
        "train_data, test_data, l2i = read_trec50('trec50_splited/trec50_5k.csv')"
      ],
      "execution_count": 0,
      "outputs": []
    },
    {
      "cell_type": "code",
      "metadata": {
        "colab_type": "code",
        "id": "C0ychKiSAk7U",
        "outputId": "ff7f70af-93a0-4488-cb31-90f3bd04bd78",
        "colab": {
          "base_uri": "https://localhost:8080/",
          "height": 138
        }
      },
      "source": [
        "f1_scor, acc_scor, model_aug_mlp, tf = re_FIT_base_MLP(all_augs, test_data, epochs=1, out_feat=len(train_data.labels.unique()))"
      ],
      "execution_count": 0,
      "outputs": [
        {
          "output_type": "stream",
          "text": [
            "Epoch 1: 100%|██████████| 472135/472135 [35:45<00:00, 220.10it/s, train_loss=0.00322]\n"
          ],
          "name": "stderr"
        },
        {
          "output_type": "stream",
          "text": [
            "\n",
            "Losses: train - 0.2838174, test - 1.0994843\n",
            "F1 test - 0.8541\n",
            "ACC test - 0.8640\n",
            "\n",
            "\n"
          ],
          "name": "stdout"
        }
      ]
    },
    {
      "cell_type": "code",
      "metadata": {
        "colab_type": "code",
        "id": "hLHZlpKUAk7X",
        "outputId": "65b0f1ec-bae3-4ae2-c888-b312158a6091",
        "colab": {
          "base_uri": "https://localhost:8080/",
          "height": 1000
        }
      },
      "source": [
        "a, b, c, f = re_FIT_base_MLP(train_data, test_data, model_aug_mlp, tf, epochs=35)"
      ],
      "execution_count": 0,
      "outputs": [
        {
          "output_type": "stream",
          "text": [
            "Epoch 1: 100%|██████████| 5009/5009 [00:23<00:00, 211.42it/s, train_loss=0.77]\n",
            "Epoch 2:   0%|          | 0/5009 [00:00<?, ?it/s]"
          ],
          "name": "stderr"
        },
        {
          "output_type": "stream",
          "text": [
            "\n",
            "Losses: train - 0.7704405, test - 0.9774989\n",
            "F1 test - 0.8592\n",
            "ACC test - 0.8640\n"
          ],
          "name": "stdout"
        },
        {
          "output_type": "stream",
          "text": [
            "Epoch 2: 100%|██████████| 5009/5009 [00:24<00:00, 207.54it/s, train_loss=0.616]\n",
            "Epoch 3:   0%|          | 0/5009 [00:00<?, ?it/s]"
          ],
          "name": "stderr"
        },
        {
          "output_type": "stream",
          "text": [
            "\n",
            "Losses: train - 0.4610392, test - 0.9159688\n",
            "F1 test - 0.8670\n",
            "ACC test - 0.8740\n"
          ],
          "name": "stdout"
        },
        {
          "output_type": "stream",
          "text": [
            "Epoch 3: 100%|██████████| 5009/5009 [00:23<00:00, 209.60it/s, train_loss=0.512]\n",
            "Epoch 4:   0%|          | 0/5009 [00:00<?, ?it/s]"
          ],
          "name": "stderr"
        },
        {
          "output_type": "stream",
          "text": [
            "\n",
            "Losses: train - 0.3046430, test - 0.8831213\n",
            "F1 test - 0.8625\n",
            "ACC test - 0.8680\n"
          ],
          "name": "stdout"
        },
        {
          "output_type": "stream",
          "text": [
            "Epoch 4: 100%|██████████| 5009/5009 [00:24<00:00, 206.66it/s, train_loss=0.437]\n",
            "Epoch 5:   0%|          | 0/5009 [00:00<?, ?it/s]"
          ],
          "name": "stderr"
        },
        {
          "output_type": "stream",
          "text": [
            "\n",
            "Losses: train - 0.2107088, test - 0.8442900\n",
            "F1 test - 0.8631\n",
            "ACC test - 0.8680\n"
          ],
          "name": "stdout"
        },
        {
          "output_type": "stream",
          "text": [
            "Epoch 5: 100%|██████████| 5009/5009 [00:23<00:00, 213.73it/s, train_loss=0.381]\n",
            "Epoch 6:   0%|          | 0/5009 [00:00<?, ?it/s]"
          ],
          "name": "stderr"
        },
        {
          "output_type": "stream",
          "text": [
            "\n",
            "Losses: train - 0.1582718, test - 0.8123216\n",
            "F1 test - 0.8587\n",
            "ACC test - 0.8640\n"
          ],
          "name": "stdout"
        },
        {
          "output_type": "stream",
          "text": [
            "Epoch 6: 100%|██████████| 5009/5009 [00:23<00:00, 209.25it/s, train_loss=0.338]\n",
            "Epoch 7:   0%|          | 0/5009 [00:00<?, ?it/s]"
          ],
          "name": "stderr"
        },
        {
          "output_type": "stream",
          "text": [
            "\n",
            "Losses: train - 0.1234274, test - 0.7917598\n",
            "F1 test - 0.8608\n",
            "ACC test - 0.8660\n"
          ],
          "name": "stdout"
        },
        {
          "output_type": "stream",
          "text": [
            "Epoch 7: 100%|██████████| 5009/5009 [00:23<00:00, 214.05it/s, train_loss=0.304]\n",
            "Epoch 8:   0%|          | 0/5009 [00:00<?, ?it/s]"
          ],
          "name": "stderr"
        },
        {
          "output_type": "stream",
          "text": [
            "\n",
            "Losses: train - 0.1003100, test - 0.7719723\n",
            "F1 test - 0.8561\n",
            "ACC test - 0.8620\n"
          ],
          "name": "stdout"
        },
        {
          "output_type": "stream",
          "text": [
            "Epoch 8: 100%|██████████| 5009/5009 [00:23<00:00, 209.15it/s, train_loss=0.276]\n",
            "Epoch 9:   0%|          | 0/5009 [00:00<?, ?it/s]"
          ],
          "name": "stderr"
        },
        {
          "output_type": "stream",
          "text": [
            "\n",
            "Losses: train - 0.0804216, test - 0.7714705\n",
            "F1 test - 0.8553\n",
            "ACC test - 0.8600\n"
          ],
          "name": "stdout"
        },
        {
          "output_type": "stream",
          "text": [
            "Epoch 9: 100%|██████████| 5009/5009 [00:23<00:00, 208.89it/s, train_loss=0.253]\n",
            "Epoch 10:   0%|          | 0/5009 [00:00<?, ?it/s]"
          ],
          "name": "stderr"
        },
        {
          "output_type": "stream",
          "text": [
            "\n",
            "Losses: train - 0.0662274, test - 0.7428123\n",
            "F1 test - 0.8554\n",
            "ACC test - 0.8600\n"
          ],
          "name": "stdout"
        },
        {
          "output_type": "stream",
          "text": [
            "Epoch 10: 100%|██████████| 5009/5009 [00:24<00:00, 205.45it/s, train_loss=0.233]\n",
            "Epoch 11:   0%|          | 0/5009 [00:00<?, ?it/s]"
          ],
          "name": "stderr"
        },
        {
          "output_type": "stream",
          "text": [
            "\n",
            "Losses: train - 0.0563558, test - 0.7322334\n",
            "F1 test - 0.8568\n",
            "ACC test - 0.8620\n"
          ],
          "name": "stdout"
        },
        {
          "output_type": "stream",
          "text": [
            "Epoch 11: 100%|██████████| 5009/5009 [00:23<00:00, 212.11it/s, train_loss=0.216]\n",
            "Epoch 12:   0%|          | 0/5009 [00:00<?, ?it/s]"
          ],
          "name": "stderr"
        },
        {
          "output_type": "stream",
          "text": [
            "\n",
            "Losses: train - 0.0485496, test - 0.7166423\n",
            "F1 test - 0.8558\n",
            "ACC test - 0.8600\n"
          ],
          "name": "stdout"
        },
        {
          "output_type": "stream",
          "text": [
            "Epoch 12: 100%|██████████| 5009/5009 [00:24<00:00, 207.33it/s, train_loss=0.202]\n",
            "Epoch 13:   0%|          | 0/5009 [00:00<?, ?it/s]"
          ],
          "name": "stderr"
        },
        {
          "output_type": "stream",
          "text": [
            "\n",
            "Losses: train - 0.0420597, test - 0.7145860\n",
            "F1 test - 0.8603\n",
            "ACC test - 0.8620\n"
          ],
          "name": "stdout"
        },
        {
          "output_type": "stream",
          "text": [
            "Epoch 13: 100%|██████████| 5009/5009 [00:23<00:00, 210.67it/s, train_loss=0.189]\n",
            "Epoch 14:   0%|          | 0/5009 [00:00<?, ?it/s]"
          ],
          "name": "stderr"
        },
        {
          "output_type": "stream",
          "text": [
            "\n",
            "Losses: train - 0.0399785, test - 0.7038598\n",
            "F1 test - 0.8620\n",
            "ACC test - 0.8640\n"
          ],
          "name": "stdout"
        },
        {
          "output_type": "stream",
          "text": [
            "Epoch 14: 100%|██████████| 5009/5009 [00:23<00:00, 208.98it/s, train_loss=0.178]\n"
          ],
          "name": "stderr"
        },
        {
          "output_type": "stream",
          "text": [
            "\n",
            "Losses: train - 0.0345182, test - 0.7053163\n",
            "F1 test - 0.8566\n",
            "ACC test - 0.8580\n",
            "Early stopping\n",
            "\n",
            "\n"
          ],
          "name": "stdout"
        }
      ]
    },
    {
      "cell_type": "code",
      "metadata": {
        "id": "fRWUtox5OFDR",
        "colab_type": "code",
        "colab": {}
      },
      "source": [
        ""
      ],
      "execution_count": 0,
      "outputs": []
    }
  ]
}