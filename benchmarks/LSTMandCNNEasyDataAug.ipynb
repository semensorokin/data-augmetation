{
  "nbformat": 4,
  "nbformat_minor": 0,
  "metadata": {
    "colab": {
      "name": "LSTMandCNNEasyDataAug.ipynb",
      "provenance": []
    },
    "kernelspec": {
      "name": "python3",
      "display_name": "Python 3"
    },
    "accelerator": "GPU",
    "widgets": {
      "application/vnd.jupyter.widget-state+json": {
        "85526564d7be4f49809799f5011eb0c8": {
          "model_module": "@jupyter-widgets/controls",
          "model_name": "HBoxModel",
          "state": {
            "_view_name": "HBoxView",
            "_dom_classes": [],
            "_model_name": "HBoxModel",
            "_view_module": "@jupyter-widgets/controls",
            "_model_module_version": "1.5.0",
            "_view_count": null,
            "_view_module_version": "1.5.0",
            "box_style": "",
            "layout": "IPY_MODEL_390d75289b82477fad00d1e8442db183",
            "_model_module": "@jupyter-widgets/controls",
            "children": [
              "IPY_MODEL_5bc7069f80754c998908155165141b38",
              "IPY_MODEL_15d470c3b0694bba8383605dde844472"
            ]
          }
        },
        "390d75289b82477fad00d1e8442db183": {
          "model_module": "@jupyter-widgets/base",
          "model_name": "LayoutModel",
          "state": {
            "_view_name": "LayoutView",
            "grid_template_rows": null,
            "right": null,
            "justify_content": null,
            "_view_module": "@jupyter-widgets/base",
            "overflow": null,
            "_model_module_version": "1.2.0",
            "_view_count": null,
            "flex_flow": null,
            "width": null,
            "min_width": null,
            "border": null,
            "align_items": null,
            "bottom": null,
            "_model_module": "@jupyter-widgets/base",
            "top": null,
            "grid_column": null,
            "overflow_y": null,
            "overflow_x": null,
            "grid_auto_flow": null,
            "grid_area": null,
            "grid_template_columns": null,
            "flex": null,
            "_model_name": "LayoutModel",
            "justify_items": null,
            "grid_row": null,
            "max_height": null,
            "align_content": null,
            "visibility": null,
            "align_self": null,
            "height": null,
            "min_height": null,
            "padding": null,
            "grid_auto_rows": null,
            "grid_gap": null,
            "max_width": null,
            "order": null,
            "_view_module_version": "1.2.0",
            "grid_template_areas": null,
            "object_position": null,
            "object_fit": null,
            "grid_auto_columns": null,
            "margin": null,
            "display": null,
            "left": null
          }
        },
        "5bc7069f80754c998908155165141b38": {
          "model_module": "@jupyter-widgets/controls",
          "model_name": "FloatProgressModel",
          "state": {
            "_view_name": "ProgressView",
            "style": "IPY_MODEL_fdd697959e7e4f65950cfd845280aa27",
            "_dom_classes": [],
            "description": "Downloading: 100%",
            "_model_name": "FloatProgressModel",
            "bar_style": "success",
            "max": 433,
            "_view_module": "@jupyter-widgets/controls",
            "_model_module_version": "1.5.0",
            "value": 433,
            "_view_count": null,
            "_view_module_version": "1.5.0",
            "orientation": "horizontal",
            "min": 0,
            "description_tooltip": null,
            "_model_module": "@jupyter-widgets/controls",
            "layout": "IPY_MODEL_ff9ebdc3f94841bf97d987ac4f268af9"
          }
        },
        "15d470c3b0694bba8383605dde844472": {
          "model_module": "@jupyter-widgets/controls",
          "model_name": "HTMLModel",
          "state": {
            "_view_name": "HTMLView",
            "style": "IPY_MODEL_8a43cddc576d4d1c9b527a3fed5d012d",
            "_dom_classes": [],
            "description": "",
            "_model_name": "HTMLModel",
            "placeholder": "​",
            "_view_module": "@jupyter-widgets/controls",
            "_model_module_version": "1.5.0",
            "value": " 433/433 [00:00&lt;00:00, 1.09kB/s]",
            "_view_count": null,
            "_view_module_version": "1.5.0",
            "description_tooltip": null,
            "_model_module": "@jupyter-widgets/controls",
            "layout": "IPY_MODEL_35af4186551a45df92cd1fd6fb4f9c17"
          }
        },
        "fdd697959e7e4f65950cfd845280aa27": {
          "model_module": "@jupyter-widgets/controls",
          "model_name": "ProgressStyleModel",
          "state": {
            "_view_name": "StyleView",
            "_model_name": "ProgressStyleModel",
            "description_width": "initial",
            "_view_module": "@jupyter-widgets/base",
            "_model_module_version": "1.5.0",
            "_view_count": null,
            "_view_module_version": "1.2.0",
            "bar_color": null,
            "_model_module": "@jupyter-widgets/controls"
          }
        },
        "ff9ebdc3f94841bf97d987ac4f268af9": {
          "model_module": "@jupyter-widgets/base",
          "model_name": "LayoutModel",
          "state": {
            "_view_name": "LayoutView",
            "grid_template_rows": null,
            "right": null,
            "justify_content": null,
            "_view_module": "@jupyter-widgets/base",
            "overflow": null,
            "_model_module_version": "1.2.0",
            "_view_count": null,
            "flex_flow": null,
            "width": null,
            "min_width": null,
            "border": null,
            "align_items": null,
            "bottom": null,
            "_model_module": "@jupyter-widgets/base",
            "top": null,
            "grid_column": null,
            "overflow_y": null,
            "overflow_x": null,
            "grid_auto_flow": null,
            "grid_area": null,
            "grid_template_columns": null,
            "flex": null,
            "_model_name": "LayoutModel",
            "justify_items": null,
            "grid_row": null,
            "max_height": null,
            "align_content": null,
            "visibility": null,
            "align_self": null,
            "height": null,
            "min_height": null,
            "padding": null,
            "grid_auto_rows": null,
            "grid_gap": null,
            "max_width": null,
            "order": null,
            "_view_module_version": "1.2.0",
            "grid_template_areas": null,
            "object_position": null,
            "object_fit": null,
            "grid_auto_columns": null,
            "margin": null,
            "display": null,
            "left": null
          }
        },
        "8a43cddc576d4d1c9b527a3fed5d012d": {
          "model_module": "@jupyter-widgets/controls",
          "model_name": "DescriptionStyleModel",
          "state": {
            "_view_name": "StyleView",
            "_model_name": "DescriptionStyleModel",
            "description_width": "",
            "_view_module": "@jupyter-widgets/base",
            "_model_module_version": "1.5.0",
            "_view_count": null,
            "_view_module_version": "1.2.0",
            "_model_module": "@jupyter-widgets/controls"
          }
        },
        "35af4186551a45df92cd1fd6fb4f9c17": {
          "model_module": "@jupyter-widgets/base",
          "model_name": "LayoutModel",
          "state": {
            "_view_name": "LayoutView",
            "grid_template_rows": null,
            "right": null,
            "justify_content": null,
            "_view_module": "@jupyter-widgets/base",
            "overflow": null,
            "_model_module_version": "1.2.0",
            "_view_count": null,
            "flex_flow": null,
            "width": null,
            "min_width": null,
            "border": null,
            "align_items": null,
            "bottom": null,
            "_model_module": "@jupyter-widgets/base",
            "top": null,
            "grid_column": null,
            "overflow_y": null,
            "overflow_x": null,
            "grid_auto_flow": null,
            "grid_area": null,
            "grid_template_columns": null,
            "flex": null,
            "_model_name": "LayoutModel",
            "justify_items": null,
            "grid_row": null,
            "max_height": null,
            "align_content": null,
            "visibility": null,
            "align_self": null,
            "height": null,
            "min_height": null,
            "padding": null,
            "grid_auto_rows": null,
            "grid_gap": null,
            "max_width": null,
            "order": null,
            "_view_module_version": "1.2.0",
            "grid_template_areas": null,
            "object_position": null,
            "object_fit": null,
            "grid_auto_columns": null,
            "margin": null,
            "display": null,
            "left": null
          }
        },
        "871e88c5b0b7494386bd0764fde39442": {
          "model_module": "@jupyter-widgets/controls",
          "model_name": "HBoxModel",
          "state": {
            "_view_name": "HBoxView",
            "_dom_classes": [],
            "_model_name": "HBoxModel",
            "_view_module": "@jupyter-widgets/controls",
            "_model_module_version": "1.5.0",
            "_view_count": null,
            "_view_module_version": "1.5.0",
            "box_style": "",
            "layout": "IPY_MODEL_c1df8a9307ae421286dce283de775cd7",
            "_model_module": "@jupyter-widgets/controls",
            "children": [
              "IPY_MODEL_1c617008e0d5400287c8e65b728a0aed",
              "IPY_MODEL_2391e246b2544144bebadb99f5b52af7"
            ]
          }
        },
        "c1df8a9307ae421286dce283de775cd7": {
          "model_module": "@jupyter-widgets/base",
          "model_name": "LayoutModel",
          "state": {
            "_view_name": "LayoutView",
            "grid_template_rows": null,
            "right": null,
            "justify_content": null,
            "_view_module": "@jupyter-widgets/base",
            "overflow": null,
            "_model_module_version": "1.2.0",
            "_view_count": null,
            "flex_flow": null,
            "width": null,
            "min_width": null,
            "border": null,
            "align_items": null,
            "bottom": null,
            "_model_module": "@jupyter-widgets/base",
            "top": null,
            "grid_column": null,
            "overflow_y": null,
            "overflow_x": null,
            "grid_auto_flow": null,
            "grid_area": null,
            "grid_template_columns": null,
            "flex": null,
            "_model_name": "LayoutModel",
            "justify_items": null,
            "grid_row": null,
            "max_height": null,
            "align_content": null,
            "visibility": null,
            "align_self": null,
            "height": null,
            "min_height": null,
            "padding": null,
            "grid_auto_rows": null,
            "grid_gap": null,
            "max_width": null,
            "order": null,
            "_view_module_version": "1.2.0",
            "grid_template_areas": null,
            "object_position": null,
            "object_fit": null,
            "grid_auto_columns": null,
            "margin": null,
            "display": null,
            "left": null
          }
        },
        "1c617008e0d5400287c8e65b728a0aed": {
          "model_module": "@jupyter-widgets/controls",
          "model_name": "FloatProgressModel",
          "state": {
            "_view_name": "ProgressView",
            "style": "IPY_MODEL_f67920a624fa49f18629c40520bc796e",
            "_dom_classes": [],
            "description": "Downloading: 100%",
            "_model_name": "FloatProgressModel",
            "bar_style": "success",
            "max": 213450,
            "_view_module": "@jupyter-widgets/controls",
            "_model_module_version": "1.5.0",
            "value": 213450,
            "_view_count": null,
            "_view_module_version": "1.5.0",
            "orientation": "horizontal",
            "min": 0,
            "description_tooltip": null,
            "_model_module": "@jupyter-widgets/controls",
            "layout": "IPY_MODEL_625cc82df2604793bcc54052fd918e64"
          }
        },
        "2391e246b2544144bebadb99f5b52af7": {
          "model_module": "@jupyter-widgets/controls",
          "model_name": "HTMLModel",
          "state": {
            "_view_name": "HTMLView",
            "style": "IPY_MODEL_4a31c0882ce7463a80f22aae3f637c42",
            "_dom_classes": [],
            "description": "",
            "_model_name": "HTMLModel",
            "placeholder": "​",
            "_view_module": "@jupyter-widgets/controls",
            "_model_module_version": "1.5.0",
            "value": " 213k/213k [00:00&lt;00:00, 573kB/s]",
            "_view_count": null,
            "_view_module_version": "1.5.0",
            "description_tooltip": null,
            "_model_module": "@jupyter-widgets/controls",
            "layout": "IPY_MODEL_d14cc95f758149749f313db86871e0eb"
          }
        },
        "f67920a624fa49f18629c40520bc796e": {
          "model_module": "@jupyter-widgets/controls",
          "model_name": "ProgressStyleModel",
          "state": {
            "_view_name": "StyleView",
            "_model_name": "ProgressStyleModel",
            "description_width": "initial",
            "_view_module": "@jupyter-widgets/base",
            "_model_module_version": "1.5.0",
            "_view_count": null,
            "_view_module_version": "1.2.0",
            "bar_color": null,
            "_model_module": "@jupyter-widgets/controls"
          }
        },
        "625cc82df2604793bcc54052fd918e64": {
          "model_module": "@jupyter-widgets/base",
          "model_name": "LayoutModel",
          "state": {
            "_view_name": "LayoutView",
            "grid_template_rows": null,
            "right": null,
            "justify_content": null,
            "_view_module": "@jupyter-widgets/base",
            "overflow": null,
            "_model_module_version": "1.2.0",
            "_view_count": null,
            "flex_flow": null,
            "width": null,
            "min_width": null,
            "border": null,
            "align_items": null,
            "bottom": null,
            "_model_module": "@jupyter-widgets/base",
            "top": null,
            "grid_column": null,
            "overflow_y": null,
            "overflow_x": null,
            "grid_auto_flow": null,
            "grid_area": null,
            "grid_template_columns": null,
            "flex": null,
            "_model_name": "LayoutModel",
            "justify_items": null,
            "grid_row": null,
            "max_height": null,
            "align_content": null,
            "visibility": null,
            "align_self": null,
            "height": null,
            "min_height": null,
            "padding": null,
            "grid_auto_rows": null,
            "grid_gap": null,
            "max_width": null,
            "order": null,
            "_view_module_version": "1.2.0",
            "grid_template_areas": null,
            "object_position": null,
            "object_fit": null,
            "grid_auto_columns": null,
            "margin": null,
            "display": null,
            "left": null
          }
        },
        "4a31c0882ce7463a80f22aae3f637c42": {
          "model_module": "@jupyter-widgets/controls",
          "model_name": "DescriptionStyleModel",
          "state": {
            "_view_name": "StyleView",
            "_model_name": "DescriptionStyleModel",
            "description_width": "",
            "_view_module": "@jupyter-widgets/base",
            "_model_module_version": "1.5.0",
            "_view_count": null,
            "_view_module_version": "1.2.0",
            "_model_module": "@jupyter-widgets/controls"
          }
        },
        "d14cc95f758149749f313db86871e0eb": {
          "model_module": "@jupyter-widgets/base",
          "model_name": "LayoutModel",
          "state": {
            "_view_name": "LayoutView",
            "grid_template_rows": null,
            "right": null,
            "justify_content": null,
            "_view_module": "@jupyter-widgets/base",
            "overflow": null,
            "_model_module_version": "1.2.0",
            "_view_count": null,
            "flex_flow": null,
            "width": null,
            "min_width": null,
            "border": null,
            "align_items": null,
            "bottom": null,
            "_model_module": "@jupyter-widgets/base",
            "top": null,
            "grid_column": null,
            "overflow_y": null,
            "overflow_x": null,
            "grid_auto_flow": null,
            "grid_area": null,
            "grid_template_columns": null,
            "flex": null,
            "_model_name": "LayoutModel",
            "justify_items": null,
            "grid_row": null,
            "max_height": null,
            "align_content": null,
            "visibility": null,
            "align_self": null,
            "height": null,
            "min_height": null,
            "padding": null,
            "grid_auto_rows": null,
            "grid_gap": null,
            "max_width": null,
            "order": null,
            "_view_module_version": "1.2.0",
            "grid_template_areas": null,
            "object_position": null,
            "object_fit": null,
            "grid_auto_columns": null,
            "margin": null,
            "display": null,
            "left": null
          }
        },
        "efa6d9b4c32341ada427ae00deece104": {
          "model_module": "@jupyter-widgets/controls",
          "model_name": "HBoxModel",
          "state": {
            "_view_name": "HBoxView",
            "_dom_classes": [],
            "_model_name": "HBoxModel",
            "_view_module": "@jupyter-widgets/controls",
            "_model_module_version": "1.5.0",
            "_view_count": null,
            "_view_module_version": "1.5.0",
            "box_style": "",
            "layout": "IPY_MODEL_ec6b2906731946ec9dc5e6ab4900069b",
            "_model_module": "@jupyter-widgets/controls",
            "children": [
              "IPY_MODEL_984713c120d54955ab6c33cc17317a42",
              "IPY_MODEL_15f74194e2ab45f18a2b2ff3a9a6aff6"
            ]
          }
        },
        "ec6b2906731946ec9dc5e6ab4900069b": {
          "model_module": "@jupyter-widgets/base",
          "model_name": "LayoutModel",
          "state": {
            "_view_name": "LayoutView",
            "grid_template_rows": null,
            "right": null,
            "justify_content": null,
            "_view_module": "@jupyter-widgets/base",
            "overflow": null,
            "_model_module_version": "1.2.0",
            "_view_count": null,
            "flex_flow": null,
            "width": null,
            "min_width": null,
            "border": null,
            "align_items": null,
            "bottom": null,
            "_model_module": "@jupyter-widgets/base",
            "top": null,
            "grid_column": null,
            "overflow_y": null,
            "overflow_x": null,
            "grid_auto_flow": null,
            "grid_area": null,
            "grid_template_columns": null,
            "flex": null,
            "_model_name": "LayoutModel",
            "justify_items": null,
            "grid_row": null,
            "max_height": null,
            "align_content": null,
            "visibility": null,
            "align_self": null,
            "height": null,
            "min_height": null,
            "padding": null,
            "grid_auto_rows": null,
            "grid_gap": null,
            "max_width": null,
            "order": null,
            "_view_module_version": "1.2.0",
            "grid_template_areas": null,
            "object_position": null,
            "object_fit": null,
            "grid_auto_columns": null,
            "margin": null,
            "display": null,
            "left": null
          }
        },
        "984713c120d54955ab6c33cc17317a42": {
          "model_module": "@jupyter-widgets/controls",
          "model_name": "FloatProgressModel",
          "state": {
            "_view_name": "ProgressView",
            "style": "IPY_MODEL_523e9006396c4a4d9ded92829b96c497",
            "_dom_classes": [],
            "description": "Downloading: 100%",
            "_model_name": "FloatProgressModel",
            "bar_style": "success",
            "max": 526681800,
            "_view_module": "@jupyter-widgets/controls",
            "_model_module_version": "1.5.0",
            "value": 526681800,
            "_view_count": null,
            "_view_module_version": "1.5.0",
            "orientation": "horizontal",
            "min": 0,
            "description_tooltip": null,
            "_model_module": "@jupyter-widgets/controls",
            "layout": "IPY_MODEL_6165f7f3a3374f4dad0b88b3d52f481f"
          }
        },
        "15f74194e2ab45f18a2b2ff3a9a6aff6": {
          "model_module": "@jupyter-widgets/controls",
          "model_name": "HTMLModel",
          "state": {
            "_view_name": "HTMLView",
            "style": "IPY_MODEL_90b32fe301874deeb61033add9bc48a6",
            "_dom_classes": [],
            "description": "",
            "_model_name": "HTMLModel",
            "placeholder": "​",
            "_view_module": "@jupyter-widgets/controls",
            "_model_module_version": "1.5.0",
            "value": " 527M/527M [00:09&lt;00:00, 55.5MB/s]",
            "_view_count": null,
            "_view_module_version": "1.5.0",
            "description_tooltip": null,
            "_model_module": "@jupyter-widgets/controls",
            "layout": "IPY_MODEL_714f27bff3d0451089fcb76b775299e5"
          }
        },
        "523e9006396c4a4d9ded92829b96c497": {
          "model_module": "@jupyter-widgets/controls",
          "model_name": "ProgressStyleModel",
          "state": {
            "_view_name": "StyleView",
            "_model_name": "ProgressStyleModel",
            "description_width": "initial",
            "_view_module": "@jupyter-widgets/base",
            "_model_module_version": "1.5.0",
            "_view_count": null,
            "_view_module_version": "1.2.0",
            "bar_color": null,
            "_model_module": "@jupyter-widgets/controls"
          }
        },
        "6165f7f3a3374f4dad0b88b3d52f481f": {
          "model_module": "@jupyter-widgets/base",
          "model_name": "LayoutModel",
          "state": {
            "_view_name": "LayoutView",
            "grid_template_rows": null,
            "right": null,
            "justify_content": null,
            "_view_module": "@jupyter-widgets/base",
            "overflow": null,
            "_model_module_version": "1.2.0",
            "_view_count": null,
            "flex_flow": null,
            "width": null,
            "min_width": null,
            "border": null,
            "align_items": null,
            "bottom": null,
            "_model_module": "@jupyter-widgets/base",
            "top": null,
            "grid_column": null,
            "overflow_y": null,
            "overflow_x": null,
            "grid_auto_flow": null,
            "grid_area": null,
            "grid_template_columns": null,
            "flex": null,
            "_model_name": "LayoutModel",
            "justify_items": null,
            "grid_row": null,
            "max_height": null,
            "align_content": null,
            "visibility": null,
            "align_self": null,
            "height": null,
            "min_height": null,
            "padding": null,
            "grid_auto_rows": null,
            "grid_gap": null,
            "max_width": null,
            "order": null,
            "_view_module_version": "1.2.0",
            "grid_template_areas": null,
            "object_position": null,
            "object_fit": null,
            "grid_auto_columns": null,
            "margin": null,
            "display": null,
            "left": null
          }
        },
        "90b32fe301874deeb61033add9bc48a6": {
          "model_module": "@jupyter-widgets/controls",
          "model_name": "DescriptionStyleModel",
          "state": {
            "_view_name": "StyleView",
            "_model_name": "DescriptionStyleModel",
            "description_width": "",
            "_view_module": "@jupyter-widgets/base",
            "_model_module_version": "1.5.0",
            "_view_count": null,
            "_view_module_version": "1.2.0",
            "_model_module": "@jupyter-widgets/controls"
          }
        },
        "714f27bff3d0451089fcb76b775299e5": {
          "model_module": "@jupyter-widgets/base",
          "model_name": "LayoutModel",
          "state": {
            "_view_name": "LayoutView",
            "grid_template_rows": null,
            "right": null,
            "justify_content": null,
            "_view_module": "@jupyter-widgets/base",
            "overflow": null,
            "_model_module_version": "1.2.0",
            "_view_count": null,
            "flex_flow": null,
            "width": null,
            "min_width": null,
            "border": null,
            "align_items": null,
            "bottom": null,
            "_model_module": "@jupyter-widgets/base",
            "top": null,
            "grid_column": null,
            "overflow_y": null,
            "overflow_x": null,
            "grid_auto_flow": null,
            "grid_area": null,
            "grid_template_columns": null,
            "flex": null,
            "_model_name": "LayoutModel",
            "justify_items": null,
            "grid_row": null,
            "max_height": null,
            "align_content": null,
            "visibility": null,
            "align_self": null,
            "height": null,
            "min_height": null,
            "padding": null,
            "grid_auto_rows": null,
            "grid_gap": null,
            "max_width": null,
            "order": null,
            "_view_module_version": "1.2.0",
            "grid_template_areas": null,
            "object_position": null,
            "object_fit": null,
            "grid_auto_columns": null,
            "margin": null,
            "display": null,
            "left": null
          }
        },
        "5d9c15b6905d42c7aa9442aaab0d4ba4": {
          "model_module": "@jupyter-widgets/controls",
          "model_name": "HBoxModel",
          "state": {
            "_view_name": "HBoxView",
            "_dom_classes": [],
            "_model_name": "HBoxModel",
            "_view_module": "@jupyter-widgets/controls",
            "_model_module_version": "1.5.0",
            "_view_count": null,
            "_view_module_version": "1.5.0",
            "box_style": "",
            "layout": "IPY_MODEL_fd1ff3ea737942e3ac25ec87ad81fdc1",
            "_model_module": "@jupyter-widgets/controls",
            "children": [
              "IPY_MODEL_e55561f2df04497ea13a4bac279174f8",
              "IPY_MODEL_b1a23b6fe3124c10802af9bda23f6e62"
            ]
          }
        },
        "fd1ff3ea737942e3ac25ec87ad81fdc1": {
          "model_module": "@jupyter-widgets/base",
          "model_name": "LayoutModel",
          "state": {
            "_view_name": "LayoutView",
            "grid_template_rows": null,
            "right": null,
            "justify_content": null,
            "_view_module": "@jupyter-widgets/base",
            "overflow": null,
            "_model_module_version": "1.2.0",
            "_view_count": null,
            "flex_flow": null,
            "width": null,
            "min_width": null,
            "border": null,
            "align_items": null,
            "bottom": null,
            "_model_module": "@jupyter-widgets/base",
            "top": null,
            "grid_column": null,
            "overflow_y": null,
            "overflow_x": null,
            "grid_auto_flow": null,
            "grid_area": null,
            "grid_template_columns": null,
            "flex": null,
            "_model_name": "LayoutModel",
            "justify_items": null,
            "grid_row": null,
            "max_height": null,
            "align_content": null,
            "visibility": null,
            "align_self": null,
            "height": null,
            "min_height": null,
            "padding": null,
            "grid_auto_rows": null,
            "grid_gap": null,
            "max_width": null,
            "order": null,
            "_view_module_version": "1.2.0",
            "grid_template_areas": null,
            "object_position": null,
            "object_fit": null,
            "grid_auto_columns": null,
            "margin": null,
            "display": null,
            "left": null
          }
        },
        "e55561f2df04497ea13a4bac279174f8": {
          "model_module": "@jupyter-widgets/controls",
          "model_name": "FloatProgressModel",
          "state": {
            "_view_name": "ProgressView",
            "style": "IPY_MODEL_ae5de66a61654ff68dd824fd1072cc93",
            "_dom_classes": [],
            "description": "Dl Completed...: 100%",
            "_model_name": "FloatProgressModel",
            "bar_style": "success",
            "max": 1,
            "_view_module": "@jupyter-widgets/controls",
            "_model_module_version": "1.5.0",
            "value": 1,
            "_view_count": null,
            "_view_module_version": "1.5.0",
            "orientation": "horizontal",
            "min": 0,
            "description_tooltip": null,
            "_model_module": "@jupyter-widgets/controls",
            "layout": "IPY_MODEL_3fe3dafc82f2422db4cf2ba4a852192b"
          }
        },
        "b1a23b6fe3124c10802af9bda23f6e62": {
          "model_module": "@jupyter-widgets/controls",
          "model_name": "HTMLModel",
          "state": {
            "_view_name": "HTMLView",
            "style": "IPY_MODEL_4683e45acae44541bcbfc38c6cf15d8a",
            "_dom_classes": [],
            "description": "",
            "_model_name": "HTMLModel",
            "placeholder": "​",
            "_view_module": "@jupyter-widgets/controls",
            "_model_module_version": "1.5.0",
            "value": " 1/1 [00:00&lt;00:00,  1.07 url/s]",
            "_view_count": null,
            "_view_module_version": "1.5.0",
            "description_tooltip": null,
            "_model_module": "@jupyter-widgets/controls",
            "layout": "IPY_MODEL_e0ad3cc259ad4031811c9c9b47e13c00"
          }
        },
        "ae5de66a61654ff68dd824fd1072cc93": {
          "model_module": "@jupyter-widgets/controls",
          "model_name": "ProgressStyleModel",
          "state": {
            "_view_name": "StyleView",
            "_model_name": "ProgressStyleModel",
            "description_width": "initial",
            "_view_module": "@jupyter-widgets/base",
            "_model_module_version": "1.5.0",
            "_view_count": null,
            "_view_module_version": "1.2.0",
            "bar_color": null,
            "_model_module": "@jupyter-widgets/controls"
          }
        },
        "3fe3dafc82f2422db4cf2ba4a852192b": {
          "model_module": "@jupyter-widgets/base",
          "model_name": "LayoutModel",
          "state": {
            "_view_name": "LayoutView",
            "grid_template_rows": null,
            "right": null,
            "justify_content": null,
            "_view_module": "@jupyter-widgets/base",
            "overflow": null,
            "_model_module_version": "1.2.0",
            "_view_count": null,
            "flex_flow": null,
            "width": null,
            "min_width": null,
            "border": null,
            "align_items": null,
            "bottom": null,
            "_model_module": "@jupyter-widgets/base",
            "top": null,
            "grid_column": null,
            "overflow_y": null,
            "overflow_x": null,
            "grid_auto_flow": null,
            "grid_area": null,
            "grid_template_columns": null,
            "flex": null,
            "_model_name": "LayoutModel",
            "justify_items": null,
            "grid_row": null,
            "max_height": null,
            "align_content": null,
            "visibility": null,
            "align_self": null,
            "height": null,
            "min_height": null,
            "padding": null,
            "grid_auto_rows": null,
            "grid_gap": null,
            "max_width": null,
            "order": null,
            "_view_module_version": "1.2.0",
            "grid_template_areas": null,
            "object_position": null,
            "object_fit": null,
            "grid_auto_columns": null,
            "margin": null,
            "display": null,
            "left": null
          }
        },
        "4683e45acae44541bcbfc38c6cf15d8a": {
          "model_module": "@jupyter-widgets/controls",
          "model_name": "DescriptionStyleModel",
          "state": {
            "_view_name": "StyleView",
            "_model_name": "DescriptionStyleModel",
            "description_width": "",
            "_view_module": "@jupyter-widgets/base",
            "_model_module_version": "1.5.0",
            "_view_count": null,
            "_view_module_version": "1.2.0",
            "_model_module": "@jupyter-widgets/controls"
          }
        },
        "e0ad3cc259ad4031811c9c9b47e13c00": {
          "model_module": "@jupyter-widgets/base",
          "model_name": "LayoutModel",
          "state": {
            "_view_name": "LayoutView",
            "grid_template_rows": null,
            "right": null,
            "justify_content": null,
            "_view_module": "@jupyter-widgets/base",
            "overflow": null,
            "_model_module_version": "1.2.0",
            "_view_count": null,
            "flex_flow": null,
            "width": null,
            "min_width": null,
            "border": null,
            "align_items": null,
            "bottom": null,
            "_model_module": "@jupyter-widgets/base",
            "top": null,
            "grid_column": null,
            "overflow_y": null,
            "overflow_x": null,
            "grid_auto_flow": null,
            "grid_area": null,
            "grid_template_columns": null,
            "flex": null,
            "_model_name": "LayoutModel",
            "justify_items": null,
            "grid_row": null,
            "max_height": null,
            "align_content": null,
            "visibility": null,
            "align_self": null,
            "height": null,
            "min_height": null,
            "padding": null,
            "grid_auto_rows": null,
            "grid_gap": null,
            "max_width": null,
            "order": null,
            "_view_module_version": "1.2.0",
            "grid_template_areas": null,
            "object_position": null,
            "object_fit": null,
            "grid_auto_columns": null,
            "margin": null,
            "display": null,
            "left": null
          }
        },
        "516a3eef712f4478bd45435b6752cb0d": {
          "model_module": "@jupyter-widgets/controls",
          "model_name": "HBoxModel",
          "state": {
            "_view_name": "HBoxView",
            "_dom_classes": [],
            "_model_name": "HBoxModel",
            "_view_module": "@jupyter-widgets/controls",
            "_model_module_version": "1.5.0",
            "_view_count": null,
            "_view_module_version": "1.5.0",
            "box_style": "",
            "layout": "IPY_MODEL_dff64391df6643c198415229e2af34bd",
            "_model_module": "@jupyter-widgets/controls",
            "children": [
              "IPY_MODEL_b09c911f7a664030a247d46aa2e31ca2",
              "IPY_MODEL_a359c96f132a4374b50200e154881ac6"
            ]
          }
        },
        "dff64391df6643c198415229e2af34bd": {
          "model_module": "@jupyter-widgets/base",
          "model_name": "LayoutModel",
          "state": {
            "_view_name": "LayoutView",
            "grid_template_rows": null,
            "right": null,
            "justify_content": null,
            "_view_module": "@jupyter-widgets/base",
            "overflow": null,
            "_model_module_version": "1.2.0",
            "_view_count": null,
            "flex_flow": null,
            "width": null,
            "min_width": null,
            "border": null,
            "align_items": null,
            "bottom": null,
            "_model_module": "@jupyter-widgets/base",
            "top": null,
            "grid_column": null,
            "overflow_y": null,
            "overflow_x": null,
            "grid_auto_flow": null,
            "grid_area": null,
            "grid_template_columns": null,
            "flex": null,
            "_model_name": "LayoutModel",
            "justify_items": null,
            "grid_row": null,
            "max_height": null,
            "align_content": null,
            "visibility": null,
            "align_self": null,
            "height": null,
            "min_height": null,
            "padding": null,
            "grid_auto_rows": null,
            "grid_gap": null,
            "max_width": null,
            "order": null,
            "_view_module_version": "1.2.0",
            "grid_template_areas": null,
            "object_position": null,
            "object_fit": null,
            "grid_auto_columns": null,
            "margin": null,
            "display": null,
            "left": null
          }
        },
        "b09c911f7a664030a247d46aa2e31ca2": {
          "model_module": "@jupyter-widgets/controls",
          "model_name": "FloatProgressModel",
          "state": {
            "_view_name": "ProgressView",
            "style": "IPY_MODEL_c2c16eff5ff54180890a70da03ee1d63",
            "_dom_classes": [],
            "description": "Dl Size...: 100%",
            "_model_name": "FloatProgressModel",
            "bar_style": "success",
            "max": 1,
            "_view_module": "@jupyter-widgets/controls",
            "_model_module_version": "1.5.0",
            "value": 1,
            "_view_count": null,
            "_view_module_version": "1.5.0",
            "orientation": "horizontal",
            "min": 0,
            "description_tooltip": null,
            "_model_module": "@jupyter-widgets/controls",
            "layout": "IPY_MODEL_5ff3472489254b38a50f88aba0d9d236"
          }
        },
        "a359c96f132a4374b50200e154881ac6": {
          "model_module": "@jupyter-widgets/controls",
          "model_name": "HTMLModel",
          "state": {
            "_view_name": "HTMLView",
            "style": "IPY_MODEL_d22c47438487437b82350f06344db942",
            "_dom_classes": [],
            "description": "",
            "_model_name": "HTMLModel",
            "placeholder": "​",
            "_view_module": "@jupyter-widgets/controls",
            "_model_module_version": "1.5.0",
            "value": " 7/7 [00:00&lt;00:00,  7.74 MiB/s]",
            "_view_count": null,
            "_view_module_version": "1.5.0",
            "description_tooltip": null,
            "_model_module": "@jupyter-widgets/controls",
            "layout": "IPY_MODEL_ad24038758d044f6bb9b0e3db4cae80d"
          }
        },
        "c2c16eff5ff54180890a70da03ee1d63": {
          "model_module": "@jupyter-widgets/controls",
          "model_name": "ProgressStyleModel",
          "state": {
            "_view_name": "StyleView",
            "_model_name": "ProgressStyleModel",
            "description_width": "initial",
            "_view_module": "@jupyter-widgets/base",
            "_model_module_version": "1.5.0",
            "_view_count": null,
            "_view_module_version": "1.2.0",
            "bar_color": null,
            "_model_module": "@jupyter-widgets/controls"
          }
        },
        "5ff3472489254b38a50f88aba0d9d236": {
          "model_module": "@jupyter-widgets/base",
          "model_name": "LayoutModel",
          "state": {
            "_view_name": "LayoutView",
            "grid_template_rows": null,
            "right": null,
            "justify_content": null,
            "_view_module": "@jupyter-widgets/base",
            "overflow": null,
            "_model_module_version": "1.2.0",
            "_view_count": null,
            "flex_flow": null,
            "width": null,
            "min_width": null,
            "border": null,
            "align_items": null,
            "bottom": null,
            "_model_module": "@jupyter-widgets/base",
            "top": null,
            "grid_column": null,
            "overflow_y": null,
            "overflow_x": null,
            "grid_auto_flow": null,
            "grid_area": null,
            "grid_template_columns": null,
            "flex": null,
            "_model_name": "LayoutModel",
            "justify_items": null,
            "grid_row": null,
            "max_height": null,
            "align_content": null,
            "visibility": null,
            "align_self": null,
            "height": null,
            "min_height": null,
            "padding": null,
            "grid_auto_rows": null,
            "grid_gap": null,
            "max_width": null,
            "order": null,
            "_view_module_version": "1.2.0",
            "grid_template_areas": null,
            "object_position": null,
            "object_fit": null,
            "grid_auto_columns": null,
            "margin": null,
            "display": null,
            "left": null
          }
        },
        "d22c47438487437b82350f06344db942": {
          "model_module": "@jupyter-widgets/controls",
          "model_name": "DescriptionStyleModel",
          "state": {
            "_view_name": "StyleView",
            "_model_name": "DescriptionStyleModel",
            "description_width": "",
            "_view_module": "@jupyter-widgets/base",
            "_model_module_version": "1.5.0",
            "_view_count": null,
            "_view_module_version": "1.2.0",
            "_model_module": "@jupyter-widgets/controls"
          }
        },
        "ad24038758d044f6bb9b0e3db4cae80d": {
          "model_module": "@jupyter-widgets/base",
          "model_name": "LayoutModel",
          "state": {
            "_view_name": "LayoutView",
            "grid_template_rows": null,
            "right": null,
            "justify_content": null,
            "_view_module": "@jupyter-widgets/base",
            "overflow": null,
            "_model_module_version": "1.2.0",
            "_view_count": null,
            "flex_flow": null,
            "width": null,
            "min_width": null,
            "border": null,
            "align_items": null,
            "bottom": null,
            "_model_module": "@jupyter-widgets/base",
            "top": null,
            "grid_column": null,
            "overflow_y": null,
            "overflow_x": null,
            "grid_auto_flow": null,
            "grid_area": null,
            "grid_template_columns": null,
            "flex": null,
            "_model_name": "LayoutModel",
            "justify_items": null,
            "grid_row": null,
            "max_height": null,
            "align_content": null,
            "visibility": null,
            "align_self": null,
            "height": null,
            "min_height": null,
            "padding": null,
            "grid_auto_rows": null,
            "grid_gap": null,
            "max_width": null,
            "order": null,
            "_view_module_version": "1.2.0",
            "grid_template_areas": null,
            "object_position": null,
            "object_fit": null,
            "grid_auto_columns": null,
            "margin": null,
            "display": null,
            "left": null
          }
        },
        "1d0b484a0d5c4d8f90c09770116cda5a": {
          "model_module": "@jupyter-widgets/controls",
          "model_name": "HBoxModel",
          "state": {
            "_view_name": "HBoxView",
            "_dom_classes": [],
            "_model_name": "HBoxModel",
            "_view_module": "@jupyter-widgets/controls",
            "_model_module_version": "1.5.0",
            "_view_count": null,
            "_view_module_version": "1.5.0",
            "box_style": "",
            "layout": "IPY_MODEL_09bfb33b99b7479bbf2764b5275e7437",
            "_model_module": "@jupyter-widgets/controls",
            "children": [
              "IPY_MODEL_b247b77bb4b24fbc846cfae362f636cc",
              "IPY_MODEL_f284d9e80c124b929ed31489372e2dce"
            ]
          }
        },
        "09bfb33b99b7479bbf2764b5275e7437": {
          "model_module": "@jupyter-widgets/base",
          "model_name": "LayoutModel",
          "state": {
            "_view_name": "LayoutView",
            "grid_template_rows": null,
            "right": null,
            "justify_content": null,
            "_view_module": "@jupyter-widgets/base",
            "overflow": null,
            "_model_module_version": "1.2.0",
            "_view_count": null,
            "flex_flow": null,
            "width": null,
            "min_width": null,
            "border": null,
            "align_items": null,
            "bottom": null,
            "_model_module": "@jupyter-widgets/base",
            "top": null,
            "grid_column": null,
            "overflow_y": null,
            "overflow_x": null,
            "grid_auto_flow": null,
            "grid_area": null,
            "grid_template_columns": null,
            "flex": null,
            "_model_name": "LayoutModel",
            "justify_items": null,
            "grid_row": null,
            "max_height": null,
            "align_content": null,
            "visibility": null,
            "align_self": null,
            "height": null,
            "min_height": null,
            "padding": null,
            "grid_auto_rows": null,
            "grid_gap": null,
            "max_width": null,
            "order": null,
            "_view_module_version": "1.2.0",
            "grid_template_areas": null,
            "object_position": null,
            "object_fit": null,
            "grid_auto_columns": null,
            "margin": null,
            "display": null,
            "left": null
          }
        },
        "b247b77bb4b24fbc846cfae362f636cc": {
          "model_module": "@jupyter-widgets/controls",
          "model_name": "FloatProgressModel",
          "state": {
            "_view_name": "ProgressView",
            "style": "IPY_MODEL_e4bd1c154f1b43f2ac3bf6b73ffc6bfd",
            "_dom_classes": [],
            "description": "Extraction completed...: 100%",
            "_model_name": "FloatProgressModel",
            "bar_style": "success",
            "max": 1,
            "_view_module": "@jupyter-widgets/controls",
            "_model_module_version": "1.5.0",
            "value": 1,
            "_view_count": null,
            "_view_module_version": "1.5.0",
            "orientation": "horizontal",
            "min": 0,
            "description_tooltip": null,
            "_model_module": "@jupyter-widgets/controls",
            "layout": "IPY_MODEL_3cb83206e0b546c38cb8bb67e6407904"
          }
        },
        "f284d9e80c124b929ed31489372e2dce": {
          "model_module": "@jupyter-widgets/controls",
          "model_name": "HTMLModel",
          "state": {
            "_view_name": "HTMLView",
            "style": "IPY_MODEL_fd8f214a1a86460f870571270a61c7c7",
            "_dom_classes": [],
            "description": "",
            "_model_name": "HTMLModel",
            "placeholder": "​",
            "_view_module": "@jupyter-widgets/controls",
            "_model_module_version": "1.5.0",
            "value": " 1/1 [00:00&lt;00:00,  1.15 file/s]",
            "_view_count": null,
            "_view_module_version": "1.5.0",
            "description_tooltip": null,
            "_model_module": "@jupyter-widgets/controls",
            "layout": "IPY_MODEL_c36efa87db6841e1b3ca24b29bb1649c"
          }
        },
        "e4bd1c154f1b43f2ac3bf6b73ffc6bfd": {
          "model_module": "@jupyter-widgets/controls",
          "model_name": "ProgressStyleModel",
          "state": {
            "_view_name": "StyleView",
            "_model_name": "ProgressStyleModel",
            "description_width": "initial",
            "_view_module": "@jupyter-widgets/base",
            "_model_module_version": "1.5.0",
            "_view_count": null,
            "_view_module_version": "1.2.0",
            "bar_color": null,
            "_model_module": "@jupyter-widgets/controls"
          }
        },
        "3cb83206e0b546c38cb8bb67e6407904": {
          "model_module": "@jupyter-widgets/base",
          "model_name": "LayoutModel",
          "state": {
            "_view_name": "LayoutView",
            "grid_template_rows": null,
            "right": null,
            "justify_content": null,
            "_view_module": "@jupyter-widgets/base",
            "overflow": null,
            "_model_module_version": "1.2.0",
            "_view_count": null,
            "flex_flow": null,
            "width": null,
            "min_width": null,
            "border": null,
            "align_items": null,
            "bottom": null,
            "_model_module": "@jupyter-widgets/base",
            "top": null,
            "grid_column": null,
            "overflow_y": null,
            "overflow_x": null,
            "grid_auto_flow": null,
            "grid_area": null,
            "grid_template_columns": null,
            "flex": null,
            "_model_name": "LayoutModel",
            "justify_items": null,
            "grid_row": null,
            "max_height": null,
            "align_content": null,
            "visibility": null,
            "align_self": null,
            "height": null,
            "min_height": null,
            "padding": null,
            "grid_auto_rows": null,
            "grid_gap": null,
            "max_width": null,
            "order": null,
            "_view_module_version": "1.2.0",
            "grid_template_areas": null,
            "object_position": null,
            "object_fit": null,
            "grid_auto_columns": null,
            "margin": null,
            "display": null,
            "left": null
          }
        },
        "fd8f214a1a86460f870571270a61c7c7": {
          "model_module": "@jupyter-widgets/controls",
          "model_name": "DescriptionStyleModel",
          "state": {
            "_view_name": "StyleView",
            "_model_name": "DescriptionStyleModel",
            "description_width": "",
            "_view_module": "@jupyter-widgets/base",
            "_model_module_version": "1.5.0",
            "_view_count": null,
            "_view_module_version": "1.2.0",
            "_model_module": "@jupyter-widgets/controls"
          }
        },
        "c36efa87db6841e1b3ca24b29bb1649c": {
          "model_module": "@jupyter-widgets/base",
          "model_name": "LayoutModel",
          "state": {
            "_view_name": "LayoutView",
            "grid_template_rows": null,
            "right": null,
            "justify_content": null,
            "_view_module": "@jupyter-widgets/base",
            "overflow": null,
            "_model_module_version": "1.2.0",
            "_view_count": null,
            "flex_flow": null,
            "width": null,
            "min_width": null,
            "border": null,
            "align_items": null,
            "bottom": null,
            "_model_module": "@jupyter-widgets/base",
            "top": null,
            "grid_column": null,
            "overflow_y": null,
            "overflow_x": null,
            "grid_auto_flow": null,
            "grid_area": null,
            "grid_template_columns": null,
            "flex": null,
            "_model_name": "LayoutModel",
            "justify_items": null,
            "grid_row": null,
            "max_height": null,
            "align_content": null,
            "visibility": null,
            "align_self": null,
            "height": null,
            "min_height": null,
            "padding": null,
            "grid_auto_rows": null,
            "grid_gap": null,
            "max_width": null,
            "order": null,
            "_view_module_version": "1.2.0",
            "grid_template_areas": null,
            "object_position": null,
            "object_fit": null,
            "grid_auto_columns": null,
            "margin": null,
            "display": null,
            "left": null
          }
        },
        "e1f45e72db6a4d5d823cd66b313d6763": {
          "model_module": "@jupyter-widgets/controls",
          "model_name": "HBoxModel",
          "state": {
            "_view_name": "HBoxView",
            "_dom_classes": [],
            "_model_name": "HBoxModel",
            "_view_module": "@jupyter-widgets/controls",
            "_model_module_version": "1.5.0",
            "_view_count": null,
            "_view_module_version": "1.5.0",
            "box_style": "",
            "layout": "IPY_MODEL_88c30d3ad9f64c25a54d4687082dda23",
            "_model_module": "@jupyter-widgets/controls",
            "children": [
              "IPY_MODEL_6dd277e13bcb4406925f726b281ffc3c",
              "IPY_MODEL_a8b0676505be4fcba99f85691efda6f0"
            ]
          }
        },
        "88c30d3ad9f64c25a54d4687082dda23": {
          "model_module": "@jupyter-widgets/base",
          "model_name": "LayoutModel",
          "state": {
            "_view_name": "LayoutView",
            "grid_template_rows": null,
            "right": null,
            "justify_content": null,
            "_view_module": "@jupyter-widgets/base",
            "overflow": null,
            "_model_module_version": "1.2.0",
            "_view_count": null,
            "flex_flow": null,
            "width": null,
            "min_width": null,
            "border": null,
            "align_items": null,
            "bottom": null,
            "_model_module": "@jupyter-widgets/base",
            "top": null,
            "grid_column": null,
            "overflow_y": null,
            "overflow_x": null,
            "grid_auto_flow": null,
            "grid_area": null,
            "grid_template_columns": null,
            "flex": null,
            "_model_name": "LayoutModel",
            "justify_items": null,
            "grid_row": null,
            "max_height": null,
            "align_content": null,
            "visibility": null,
            "align_self": null,
            "height": null,
            "min_height": null,
            "padding": null,
            "grid_auto_rows": null,
            "grid_gap": null,
            "max_width": null,
            "order": null,
            "_view_module_version": "1.2.0",
            "grid_template_areas": null,
            "object_position": null,
            "object_fit": null,
            "grid_auto_columns": null,
            "margin": null,
            "display": null,
            "left": null
          }
        },
        "6dd277e13bcb4406925f726b281ffc3c": {
          "model_module": "@jupyter-widgets/controls",
          "model_name": "FloatProgressModel",
          "state": {
            "_view_name": "ProgressView",
            "style": "IPY_MODEL_31a923f9216b4590be6a5d55c1c0f5b8",
            "_dom_classes": [],
            "description": "",
            "_model_name": "FloatProgressModel",
            "bar_style": "info",
            "max": 1,
            "_view_module": "@jupyter-widgets/controls",
            "_model_module_version": "1.5.0",
            "value": 1,
            "_view_count": null,
            "_view_module_version": "1.5.0",
            "orientation": "horizontal",
            "min": 0,
            "description_tooltip": null,
            "_model_module": "@jupyter-widgets/controls",
            "layout": "IPY_MODEL_3cbe3349ad844d59a805ffce779d387c"
          }
        },
        "a8b0676505be4fcba99f85691efda6f0": {
          "model_module": "@jupyter-widgets/controls",
          "model_name": "HTMLModel",
          "state": {
            "_view_name": "HTMLView",
            "style": "IPY_MODEL_16b314abff084042b9299ae367f1154b",
            "_dom_classes": [],
            "description": "",
            "_model_name": "HTMLModel",
            "placeholder": "​",
            "_view_module": "@jupyter-widgets/controls",
            "_model_module_version": "1.5.0",
            "value": " 67349/0 [00:21&lt;00:00, 3141.52 examples/s]",
            "_view_count": null,
            "_view_module_version": "1.5.0",
            "description_tooltip": null,
            "_model_module": "@jupyter-widgets/controls",
            "layout": "IPY_MODEL_b31889154ef241a99d4feae4d4ede970"
          }
        },
        "31a923f9216b4590be6a5d55c1c0f5b8": {
          "model_module": "@jupyter-widgets/controls",
          "model_name": "ProgressStyleModel",
          "state": {
            "_view_name": "StyleView",
            "_model_name": "ProgressStyleModel",
            "description_width": "initial",
            "_view_module": "@jupyter-widgets/base",
            "_model_module_version": "1.5.0",
            "_view_count": null,
            "_view_module_version": "1.2.0",
            "bar_color": null,
            "_model_module": "@jupyter-widgets/controls"
          }
        },
        "3cbe3349ad844d59a805ffce779d387c": {
          "model_module": "@jupyter-widgets/base",
          "model_name": "LayoutModel",
          "state": {
            "_view_name": "LayoutView",
            "grid_template_rows": null,
            "right": null,
            "justify_content": null,
            "_view_module": "@jupyter-widgets/base",
            "overflow": null,
            "_model_module_version": "1.2.0",
            "_view_count": null,
            "flex_flow": null,
            "width": null,
            "min_width": null,
            "border": null,
            "align_items": null,
            "bottom": null,
            "_model_module": "@jupyter-widgets/base",
            "top": null,
            "grid_column": null,
            "overflow_y": null,
            "overflow_x": null,
            "grid_auto_flow": null,
            "grid_area": null,
            "grid_template_columns": null,
            "flex": null,
            "_model_name": "LayoutModel",
            "justify_items": null,
            "grid_row": null,
            "max_height": null,
            "align_content": null,
            "visibility": null,
            "align_self": null,
            "height": null,
            "min_height": null,
            "padding": null,
            "grid_auto_rows": null,
            "grid_gap": null,
            "max_width": null,
            "order": null,
            "_view_module_version": "1.2.0",
            "grid_template_areas": null,
            "object_position": null,
            "object_fit": null,
            "grid_auto_columns": null,
            "margin": null,
            "display": null,
            "left": null
          }
        },
        "16b314abff084042b9299ae367f1154b": {
          "model_module": "@jupyter-widgets/controls",
          "model_name": "DescriptionStyleModel",
          "state": {
            "_view_name": "StyleView",
            "_model_name": "DescriptionStyleModel",
            "description_width": "",
            "_view_module": "@jupyter-widgets/base",
            "_model_module_version": "1.5.0",
            "_view_count": null,
            "_view_module_version": "1.2.0",
            "_model_module": "@jupyter-widgets/controls"
          }
        },
        "b31889154ef241a99d4feae4d4ede970": {
          "model_module": "@jupyter-widgets/base",
          "model_name": "LayoutModel",
          "state": {
            "_view_name": "LayoutView",
            "grid_template_rows": null,
            "right": null,
            "justify_content": null,
            "_view_module": "@jupyter-widgets/base",
            "overflow": null,
            "_model_module_version": "1.2.0",
            "_view_count": null,
            "flex_flow": null,
            "width": null,
            "min_width": null,
            "border": null,
            "align_items": null,
            "bottom": null,
            "_model_module": "@jupyter-widgets/base",
            "top": null,
            "grid_column": null,
            "overflow_y": null,
            "overflow_x": null,
            "grid_auto_flow": null,
            "grid_area": null,
            "grid_template_columns": null,
            "flex": null,
            "_model_name": "LayoutModel",
            "justify_items": null,
            "grid_row": null,
            "max_height": null,
            "align_content": null,
            "visibility": null,
            "align_self": null,
            "height": null,
            "min_height": null,
            "padding": null,
            "grid_auto_rows": null,
            "grid_gap": null,
            "max_width": null,
            "order": null,
            "_view_module_version": "1.2.0",
            "grid_template_areas": null,
            "object_position": null,
            "object_fit": null,
            "grid_auto_columns": null,
            "margin": null,
            "display": null,
            "left": null
          }
        },
        "dad6b6b4cd094a24a91f735a9aebad72": {
          "model_module": "@jupyter-widgets/controls",
          "model_name": "HBoxModel",
          "state": {
            "_view_name": "HBoxView",
            "_dom_classes": [],
            "_model_name": "HBoxModel",
            "_view_module": "@jupyter-widgets/controls",
            "_model_module_version": "1.5.0",
            "_view_count": null,
            "_view_module_version": "1.5.0",
            "box_style": "",
            "layout": "IPY_MODEL_66170716de1b4f4b9279fdc529e95e25",
            "_model_module": "@jupyter-widgets/controls",
            "children": [
              "IPY_MODEL_3c68287d3ae74f7db19d37ccf69d554f",
              "IPY_MODEL_823328e71b964a129f309a6e41961596"
            ]
          }
        },
        "66170716de1b4f4b9279fdc529e95e25": {
          "model_module": "@jupyter-widgets/base",
          "model_name": "LayoutModel",
          "state": {
            "_view_name": "LayoutView",
            "grid_template_rows": null,
            "right": null,
            "justify_content": null,
            "_view_module": "@jupyter-widgets/base",
            "overflow": null,
            "_model_module_version": "1.2.0",
            "_view_count": null,
            "flex_flow": null,
            "width": null,
            "min_width": null,
            "border": null,
            "align_items": null,
            "bottom": null,
            "_model_module": "@jupyter-widgets/base",
            "top": null,
            "grid_column": null,
            "overflow_y": null,
            "overflow_x": null,
            "grid_auto_flow": null,
            "grid_area": null,
            "grid_template_columns": null,
            "flex": null,
            "_model_name": "LayoutModel",
            "justify_items": null,
            "grid_row": null,
            "max_height": null,
            "align_content": null,
            "visibility": null,
            "align_self": null,
            "height": null,
            "min_height": null,
            "padding": null,
            "grid_auto_rows": null,
            "grid_gap": null,
            "max_width": null,
            "order": null,
            "_view_module_version": "1.2.0",
            "grid_template_areas": null,
            "object_position": null,
            "object_fit": null,
            "grid_auto_columns": null,
            "margin": null,
            "display": null,
            "left": null
          }
        },
        "3c68287d3ae74f7db19d37ccf69d554f": {
          "model_module": "@jupyter-widgets/controls",
          "model_name": "FloatProgressModel",
          "state": {
            "_view_name": "ProgressView",
            "style": "IPY_MODEL_3d5703ed9c7b47208f122af31ec789e8",
            "_dom_classes": [],
            "description": " 83%",
            "_model_name": "FloatProgressModel",
            "bar_style": "danger",
            "max": 67349,
            "_view_module": "@jupyter-widgets/controls",
            "_model_module_version": "1.5.0",
            "value": 56143,
            "_view_count": null,
            "_view_module_version": "1.5.0",
            "orientation": "horizontal",
            "min": 0,
            "description_tooltip": null,
            "_model_module": "@jupyter-widgets/controls",
            "layout": "IPY_MODEL_bd26b9004ebb40a5a92d6c1e64941e6a"
          }
        },
        "823328e71b964a129f309a6e41961596": {
          "model_module": "@jupyter-widgets/controls",
          "model_name": "HTMLModel",
          "state": {
            "_view_name": "HTMLView",
            "style": "IPY_MODEL_b5d98aa9d46e4a9e9a2ba9c91dac8898",
            "_dom_classes": [],
            "description": "",
            "_model_name": "HTMLModel",
            "placeholder": "​",
            "_view_module": "@jupyter-widgets/controls",
            "_model_module_version": "1.5.0",
            "value": " 56143/67349 [00:00&lt;00:00, 15089.08 examples/s]",
            "_view_count": null,
            "_view_module_version": "1.5.0",
            "description_tooltip": null,
            "_model_module": "@jupyter-widgets/controls",
            "layout": "IPY_MODEL_cbf14c5c291540a5a60313fffaa9b93f"
          }
        },
        "3d5703ed9c7b47208f122af31ec789e8": {
          "model_module": "@jupyter-widgets/controls",
          "model_name": "ProgressStyleModel",
          "state": {
            "_view_name": "StyleView",
            "_model_name": "ProgressStyleModel",
            "description_width": "initial",
            "_view_module": "@jupyter-widgets/base",
            "_model_module_version": "1.5.0",
            "_view_count": null,
            "_view_module_version": "1.2.0",
            "bar_color": null,
            "_model_module": "@jupyter-widgets/controls"
          }
        },
        "bd26b9004ebb40a5a92d6c1e64941e6a": {
          "model_module": "@jupyter-widgets/base",
          "model_name": "LayoutModel",
          "state": {
            "_view_name": "LayoutView",
            "grid_template_rows": null,
            "right": null,
            "justify_content": null,
            "_view_module": "@jupyter-widgets/base",
            "overflow": null,
            "_model_module_version": "1.2.0",
            "_view_count": null,
            "flex_flow": null,
            "width": null,
            "min_width": null,
            "border": null,
            "align_items": null,
            "bottom": null,
            "_model_module": "@jupyter-widgets/base",
            "top": null,
            "grid_column": null,
            "overflow_y": null,
            "overflow_x": null,
            "grid_auto_flow": null,
            "grid_area": null,
            "grid_template_columns": null,
            "flex": null,
            "_model_name": "LayoutModel",
            "justify_items": null,
            "grid_row": null,
            "max_height": null,
            "align_content": null,
            "visibility": null,
            "align_self": null,
            "height": null,
            "min_height": null,
            "padding": null,
            "grid_auto_rows": null,
            "grid_gap": null,
            "max_width": null,
            "order": null,
            "_view_module_version": "1.2.0",
            "grid_template_areas": null,
            "object_position": null,
            "object_fit": null,
            "grid_auto_columns": null,
            "margin": null,
            "display": null,
            "left": null
          }
        },
        "b5d98aa9d46e4a9e9a2ba9c91dac8898": {
          "model_module": "@jupyter-widgets/controls",
          "model_name": "DescriptionStyleModel",
          "state": {
            "_view_name": "StyleView",
            "_model_name": "DescriptionStyleModel",
            "description_width": "",
            "_view_module": "@jupyter-widgets/base",
            "_model_module_version": "1.5.0",
            "_view_count": null,
            "_view_module_version": "1.2.0",
            "_model_module": "@jupyter-widgets/controls"
          }
        },
        "cbf14c5c291540a5a60313fffaa9b93f": {
          "model_module": "@jupyter-widgets/base",
          "model_name": "LayoutModel",
          "state": {
            "_view_name": "LayoutView",
            "grid_template_rows": null,
            "right": null,
            "justify_content": null,
            "_view_module": "@jupyter-widgets/base",
            "overflow": null,
            "_model_module_version": "1.2.0",
            "_view_count": null,
            "flex_flow": null,
            "width": null,
            "min_width": null,
            "border": null,
            "align_items": null,
            "bottom": null,
            "_model_module": "@jupyter-widgets/base",
            "top": null,
            "grid_column": null,
            "overflow_y": null,
            "overflow_x": null,
            "grid_auto_flow": null,
            "grid_area": null,
            "grid_template_columns": null,
            "flex": null,
            "_model_name": "LayoutModel",
            "justify_items": null,
            "grid_row": null,
            "max_height": null,
            "align_content": null,
            "visibility": null,
            "align_self": null,
            "height": null,
            "min_height": null,
            "padding": null,
            "grid_auto_rows": null,
            "grid_gap": null,
            "max_width": null,
            "order": null,
            "_view_module_version": "1.2.0",
            "grid_template_areas": null,
            "object_position": null,
            "object_fit": null,
            "grid_auto_columns": null,
            "margin": null,
            "display": null,
            "left": null
          }
        },
        "0fdc4d05ee4c48d3907402b04ab52e86": {
          "model_module": "@jupyter-widgets/controls",
          "model_name": "HBoxModel",
          "state": {
            "_view_name": "HBoxView",
            "_dom_classes": [],
            "_model_name": "HBoxModel",
            "_view_module": "@jupyter-widgets/controls",
            "_model_module_version": "1.5.0",
            "_view_count": null,
            "_view_module_version": "1.5.0",
            "box_style": "",
            "layout": "IPY_MODEL_9425e2a636c94d1185b7cdccc12b3578",
            "_model_module": "@jupyter-widgets/controls",
            "children": [
              "IPY_MODEL_2fb3ea548b46433787752860a150ecc2",
              "IPY_MODEL_16c234f169e84d658cf8b7c9b9c7bb5d"
            ]
          }
        },
        "9425e2a636c94d1185b7cdccc12b3578": {
          "model_module": "@jupyter-widgets/base",
          "model_name": "LayoutModel",
          "state": {
            "_view_name": "LayoutView",
            "grid_template_rows": null,
            "right": null,
            "justify_content": null,
            "_view_module": "@jupyter-widgets/base",
            "overflow": null,
            "_model_module_version": "1.2.0",
            "_view_count": null,
            "flex_flow": null,
            "width": null,
            "min_width": null,
            "border": null,
            "align_items": null,
            "bottom": null,
            "_model_module": "@jupyter-widgets/base",
            "top": null,
            "grid_column": null,
            "overflow_y": null,
            "overflow_x": null,
            "grid_auto_flow": null,
            "grid_area": null,
            "grid_template_columns": null,
            "flex": null,
            "_model_name": "LayoutModel",
            "justify_items": null,
            "grid_row": null,
            "max_height": null,
            "align_content": null,
            "visibility": null,
            "align_self": null,
            "height": null,
            "min_height": null,
            "padding": null,
            "grid_auto_rows": null,
            "grid_gap": null,
            "max_width": null,
            "order": null,
            "_view_module_version": "1.2.0",
            "grid_template_areas": null,
            "object_position": null,
            "object_fit": null,
            "grid_auto_columns": null,
            "margin": null,
            "display": null,
            "left": null
          }
        },
        "2fb3ea548b46433787752860a150ecc2": {
          "model_module": "@jupyter-widgets/controls",
          "model_name": "FloatProgressModel",
          "state": {
            "_view_name": "ProgressView",
            "style": "IPY_MODEL_b8556ff465614b7fa0c7240914bb3657",
            "_dom_classes": [],
            "description": "",
            "_model_name": "FloatProgressModel",
            "bar_style": "info",
            "max": 1,
            "_view_module": "@jupyter-widgets/controls",
            "_model_module_version": "1.5.0",
            "value": 1,
            "_view_count": null,
            "_view_module_version": "1.5.0",
            "orientation": "horizontal",
            "min": 0,
            "description_tooltip": null,
            "_model_module": "@jupyter-widgets/controls",
            "layout": "IPY_MODEL_d1a69a0f8d58483fb8490cad0d71a2a7"
          }
        },
        "16c234f169e84d658cf8b7c9b9c7bb5d": {
          "model_module": "@jupyter-widgets/controls",
          "model_name": "HTMLModel",
          "state": {
            "_view_name": "HTMLView",
            "style": "IPY_MODEL_f3aac2069a4b4d6c9728e3c27be63dcc",
            "_dom_classes": [],
            "description": "",
            "_model_name": "HTMLModel",
            "placeholder": "​",
            "_view_module": "@jupyter-widgets/controls",
            "_model_module_version": "1.5.0",
            "value": " 872/0 [00:00&lt;00:00, 2441.69 examples/s]",
            "_view_count": null,
            "_view_module_version": "1.5.0",
            "description_tooltip": null,
            "_model_module": "@jupyter-widgets/controls",
            "layout": "IPY_MODEL_492988fee2314b3f8b009abad1ee3b88"
          }
        },
        "b8556ff465614b7fa0c7240914bb3657": {
          "model_module": "@jupyter-widgets/controls",
          "model_name": "ProgressStyleModel",
          "state": {
            "_view_name": "StyleView",
            "_model_name": "ProgressStyleModel",
            "description_width": "initial",
            "_view_module": "@jupyter-widgets/base",
            "_model_module_version": "1.5.0",
            "_view_count": null,
            "_view_module_version": "1.2.0",
            "bar_color": null,
            "_model_module": "@jupyter-widgets/controls"
          }
        },
        "d1a69a0f8d58483fb8490cad0d71a2a7": {
          "model_module": "@jupyter-widgets/base",
          "model_name": "LayoutModel",
          "state": {
            "_view_name": "LayoutView",
            "grid_template_rows": null,
            "right": null,
            "justify_content": null,
            "_view_module": "@jupyter-widgets/base",
            "overflow": null,
            "_model_module_version": "1.2.0",
            "_view_count": null,
            "flex_flow": null,
            "width": null,
            "min_width": null,
            "border": null,
            "align_items": null,
            "bottom": null,
            "_model_module": "@jupyter-widgets/base",
            "top": null,
            "grid_column": null,
            "overflow_y": null,
            "overflow_x": null,
            "grid_auto_flow": null,
            "grid_area": null,
            "grid_template_columns": null,
            "flex": null,
            "_model_name": "LayoutModel",
            "justify_items": null,
            "grid_row": null,
            "max_height": null,
            "align_content": null,
            "visibility": null,
            "align_self": null,
            "height": null,
            "min_height": null,
            "padding": null,
            "grid_auto_rows": null,
            "grid_gap": null,
            "max_width": null,
            "order": null,
            "_view_module_version": "1.2.0",
            "grid_template_areas": null,
            "object_position": null,
            "object_fit": null,
            "grid_auto_columns": null,
            "margin": null,
            "display": null,
            "left": null
          }
        },
        "f3aac2069a4b4d6c9728e3c27be63dcc": {
          "model_module": "@jupyter-widgets/controls",
          "model_name": "DescriptionStyleModel",
          "state": {
            "_view_name": "StyleView",
            "_model_name": "DescriptionStyleModel",
            "description_width": "",
            "_view_module": "@jupyter-widgets/base",
            "_model_module_version": "1.5.0",
            "_view_count": null,
            "_view_module_version": "1.2.0",
            "_model_module": "@jupyter-widgets/controls"
          }
        },
        "492988fee2314b3f8b009abad1ee3b88": {
          "model_module": "@jupyter-widgets/base",
          "model_name": "LayoutModel",
          "state": {
            "_view_name": "LayoutView",
            "grid_template_rows": null,
            "right": null,
            "justify_content": null,
            "_view_module": "@jupyter-widgets/base",
            "overflow": null,
            "_model_module_version": "1.2.0",
            "_view_count": null,
            "flex_flow": null,
            "width": null,
            "min_width": null,
            "border": null,
            "align_items": null,
            "bottom": null,
            "_model_module": "@jupyter-widgets/base",
            "top": null,
            "grid_column": null,
            "overflow_y": null,
            "overflow_x": null,
            "grid_auto_flow": null,
            "grid_area": null,
            "grid_template_columns": null,
            "flex": null,
            "_model_name": "LayoutModel",
            "justify_items": null,
            "grid_row": null,
            "max_height": null,
            "align_content": null,
            "visibility": null,
            "align_self": null,
            "height": null,
            "min_height": null,
            "padding": null,
            "grid_auto_rows": null,
            "grid_gap": null,
            "max_width": null,
            "order": null,
            "_view_module_version": "1.2.0",
            "grid_template_areas": null,
            "object_position": null,
            "object_fit": null,
            "grid_auto_columns": null,
            "margin": null,
            "display": null,
            "left": null
          }
        },
        "9a7e3a27ef8f481996d3dd6b714f7db1": {
          "model_module": "@jupyter-widgets/controls",
          "model_name": "HBoxModel",
          "state": {
            "_view_name": "HBoxView",
            "_dom_classes": [],
            "_model_name": "HBoxModel",
            "_view_module": "@jupyter-widgets/controls",
            "_model_module_version": "1.5.0",
            "_view_count": null,
            "_view_module_version": "1.5.0",
            "box_style": "",
            "layout": "IPY_MODEL_6e3f4ff5502648f78551375fd62f509f",
            "_model_module": "@jupyter-widgets/controls",
            "children": [
              "IPY_MODEL_10abdb9a759d432eb377921d8a13e9d4",
              "IPY_MODEL_8c04344a2530406f844cd6c31601718b"
            ]
          }
        },
        "6e3f4ff5502648f78551375fd62f509f": {
          "model_module": "@jupyter-widgets/base",
          "model_name": "LayoutModel",
          "state": {
            "_view_name": "LayoutView",
            "grid_template_rows": null,
            "right": null,
            "justify_content": null,
            "_view_module": "@jupyter-widgets/base",
            "overflow": null,
            "_model_module_version": "1.2.0",
            "_view_count": null,
            "flex_flow": null,
            "width": null,
            "min_width": null,
            "border": null,
            "align_items": null,
            "bottom": null,
            "_model_module": "@jupyter-widgets/base",
            "top": null,
            "grid_column": null,
            "overflow_y": null,
            "overflow_x": null,
            "grid_auto_flow": null,
            "grid_area": null,
            "grid_template_columns": null,
            "flex": null,
            "_model_name": "LayoutModel",
            "justify_items": null,
            "grid_row": null,
            "max_height": null,
            "align_content": null,
            "visibility": null,
            "align_self": null,
            "height": null,
            "min_height": null,
            "padding": null,
            "grid_auto_rows": null,
            "grid_gap": null,
            "max_width": null,
            "order": null,
            "_view_module_version": "1.2.0",
            "grid_template_areas": null,
            "object_position": null,
            "object_fit": null,
            "grid_auto_columns": null,
            "margin": null,
            "display": null,
            "left": null
          }
        },
        "10abdb9a759d432eb377921d8a13e9d4": {
          "model_module": "@jupyter-widgets/controls",
          "model_name": "FloatProgressModel",
          "state": {
            "_view_name": "ProgressView",
            "style": "IPY_MODEL_ad4c117df4cd4c26a79572b4d9636af1",
            "_dom_classes": [],
            "description": "  0%",
            "_model_name": "FloatProgressModel",
            "bar_style": "danger",
            "max": 872,
            "_view_module": "@jupyter-widgets/controls",
            "_model_module_version": "1.5.0",
            "value": 0,
            "_view_count": null,
            "_view_module_version": "1.5.0",
            "orientation": "horizontal",
            "min": 0,
            "description_tooltip": null,
            "_model_module": "@jupyter-widgets/controls",
            "layout": "IPY_MODEL_939f35158af8412184a833080e09e499"
          }
        },
        "8c04344a2530406f844cd6c31601718b": {
          "model_module": "@jupyter-widgets/controls",
          "model_name": "HTMLModel",
          "state": {
            "_view_name": "HTMLView",
            "style": "IPY_MODEL_6656adc1aea743fabb51b631c11e57e6",
            "_dom_classes": [],
            "description": "",
            "_model_name": "HTMLModel",
            "placeholder": "​",
            "_view_module": "@jupyter-widgets/controls",
            "_model_module_version": "1.5.0",
            "value": " 0/872 [00:00&lt;?, ? examples/s]",
            "_view_count": null,
            "_view_module_version": "1.5.0",
            "description_tooltip": null,
            "_model_module": "@jupyter-widgets/controls",
            "layout": "IPY_MODEL_84ec4895396944ada39b0246052a8db4"
          }
        },
        "ad4c117df4cd4c26a79572b4d9636af1": {
          "model_module": "@jupyter-widgets/controls",
          "model_name": "ProgressStyleModel",
          "state": {
            "_view_name": "StyleView",
            "_model_name": "ProgressStyleModel",
            "description_width": "initial",
            "_view_module": "@jupyter-widgets/base",
            "_model_module_version": "1.5.0",
            "_view_count": null,
            "_view_module_version": "1.2.0",
            "bar_color": null,
            "_model_module": "@jupyter-widgets/controls"
          }
        },
        "939f35158af8412184a833080e09e499": {
          "model_module": "@jupyter-widgets/base",
          "model_name": "LayoutModel",
          "state": {
            "_view_name": "LayoutView",
            "grid_template_rows": null,
            "right": null,
            "justify_content": null,
            "_view_module": "@jupyter-widgets/base",
            "overflow": null,
            "_model_module_version": "1.2.0",
            "_view_count": null,
            "flex_flow": null,
            "width": null,
            "min_width": null,
            "border": null,
            "align_items": null,
            "bottom": null,
            "_model_module": "@jupyter-widgets/base",
            "top": null,
            "grid_column": null,
            "overflow_y": null,
            "overflow_x": null,
            "grid_auto_flow": null,
            "grid_area": null,
            "grid_template_columns": null,
            "flex": null,
            "_model_name": "LayoutModel",
            "justify_items": null,
            "grid_row": null,
            "max_height": null,
            "align_content": null,
            "visibility": null,
            "align_self": null,
            "height": null,
            "min_height": null,
            "padding": null,
            "grid_auto_rows": null,
            "grid_gap": null,
            "max_width": null,
            "order": null,
            "_view_module_version": "1.2.0",
            "grid_template_areas": null,
            "object_position": null,
            "object_fit": null,
            "grid_auto_columns": null,
            "margin": null,
            "display": null,
            "left": null
          }
        },
        "6656adc1aea743fabb51b631c11e57e6": {
          "model_module": "@jupyter-widgets/controls",
          "model_name": "DescriptionStyleModel",
          "state": {
            "_view_name": "StyleView",
            "_model_name": "DescriptionStyleModel",
            "description_width": "",
            "_view_module": "@jupyter-widgets/base",
            "_model_module_version": "1.5.0",
            "_view_count": null,
            "_view_module_version": "1.2.0",
            "_model_module": "@jupyter-widgets/controls"
          }
        },
        "84ec4895396944ada39b0246052a8db4": {
          "model_module": "@jupyter-widgets/base",
          "model_name": "LayoutModel",
          "state": {
            "_view_name": "LayoutView",
            "grid_template_rows": null,
            "right": null,
            "justify_content": null,
            "_view_module": "@jupyter-widgets/base",
            "overflow": null,
            "_model_module_version": "1.2.0",
            "_view_count": null,
            "flex_flow": null,
            "width": null,
            "min_width": null,
            "border": null,
            "align_items": null,
            "bottom": null,
            "_model_module": "@jupyter-widgets/base",
            "top": null,
            "grid_column": null,
            "overflow_y": null,
            "overflow_x": null,
            "grid_auto_flow": null,
            "grid_area": null,
            "grid_template_columns": null,
            "flex": null,
            "_model_name": "LayoutModel",
            "justify_items": null,
            "grid_row": null,
            "max_height": null,
            "align_content": null,
            "visibility": null,
            "align_self": null,
            "height": null,
            "min_height": null,
            "padding": null,
            "grid_auto_rows": null,
            "grid_gap": null,
            "max_width": null,
            "order": null,
            "_view_module_version": "1.2.0",
            "grid_template_areas": null,
            "object_position": null,
            "object_fit": null,
            "grid_auto_columns": null,
            "margin": null,
            "display": null,
            "left": null
          }
        },
        "e62f6e70daed46ad81b1593afa02dcc7": {
          "model_module": "@jupyter-widgets/controls",
          "model_name": "HBoxModel",
          "state": {
            "_view_name": "HBoxView",
            "_dom_classes": [],
            "_model_name": "HBoxModel",
            "_view_module": "@jupyter-widgets/controls",
            "_model_module_version": "1.5.0",
            "_view_count": null,
            "_view_module_version": "1.5.0",
            "box_style": "",
            "layout": "IPY_MODEL_9e2eb3dfc63247ee820223fa9e7383db",
            "_model_module": "@jupyter-widgets/controls",
            "children": [
              "IPY_MODEL_e96de17b72f54666a0bc61a8f0184841",
              "IPY_MODEL_279d21867a364c02999a7c6107920fae"
            ]
          }
        },
        "9e2eb3dfc63247ee820223fa9e7383db": {
          "model_module": "@jupyter-widgets/base",
          "model_name": "LayoutModel",
          "state": {
            "_view_name": "LayoutView",
            "grid_template_rows": null,
            "right": null,
            "justify_content": null,
            "_view_module": "@jupyter-widgets/base",
            "overflow": null,
            "_model_module_version": "1.2.0",
            "_view_count": null,
            "flex_flow": null,
            "width": null,
            "min_width": null,
            "border": null,
            "align_items": null,
            "bottom": null,
            "_model_module": "@jupyter-widgets/base",
            "top": null,
            "grid_column": null,
            "overflow_y": null,
            "overflow_x": null,
            "grid_auto_flow": null,
            "grid_area": null,
            "grid_template_columns": null,
            "flex": null,
            "_model_name": "LayoutModel",
            "justify_items": null,
            "grid_row": null,
            "max_height": null,
            "align_content": null,
            "visibility": null,
            "align_self": null,
            "height": null,
            "min_height": null,
            "padding": null,
            "grid_auto_rows": null,
            "grid_gap": null,
            "max_width": null,
            "order": null,
            "_view_module_version": "1.2.0",
            "grid_template_areas": null,
            "object_position": null,
            "object_fit": null,
            "grid_auto_columns": null,
            "margin": null,
            "display": null,
            "left": null
          }
        },
        "e96de17b72f54666a0bc61a8f0184841": {
          "model_module": "@jupyter-widgets/controls",
          "model_name": "FloatProgressModel",
          "state": {
            "_view_name": "ProgressView",
            "style": "IPY_MODEL_60ed8673082340ac898a71899e741710",
            "_dom_classes": [],
            "description": "",
            "_model_name": "FloatProgressModel",
            "bar_style": "info",
            "max": 1,
            "_view_module": "@jupyter-widgets/controls",
            "_model_module_version": "1.5.0",
            "value": 1,
            "_view_count": null,
            "_view_module_version": "1.5.0",
            "orientation": "horizontal",
            "min": 0,
            "description_tooltip": null,
            "_model_module": "@jupyter-widgets/controls",
            "layout": "IPY_MODEL_833b6f582cb84f73bed390291baca133"
          }
        },
        "279d21867a364c02999a7c6107920fae": {
          "model_module": "@jupyter-widgets/controls",
          "model_name": "HTMLModel",
          "state": {
            "_view_name": "HTMLView",
            "style": "IPY_MODEL_ff44124f8426426bb5a384ea1715bf40",
            "_dom_classes": [],
            "description": "",
            "_model_name": "HTMLModel",
            "placeholder": "​",
            "_view_module": "@jupyter-widgets/controls",
            "_model_module_version": "1.5.0",
            "value": " 1821/0 [00:00&lt;00:00, 2762.63 examples/s]",
            "_view_count": null,
            "_view_module_version": "1.5.0",
            "description_tooltip": null,
            "_model_module": "@jupyter-widgets/controls",
            "layout": "IPY_MODEL_bc488d8f542f40b394ac01c20d0dc7bc"
          }
        },
        "60ed8673082340ac898a71899e741710": {
          "model_module": "@jupyter-widgets/controls",
          "model_name": "ProgressStyleModel",
          "state": {
            "_view_name": "StyleView",
            "_model_name": "ProgressStyleModel",
            "description_width": "initial",
            "_view_module": "@jupyter-widgets/base",
            "_model_module_version": "1.5.0",
            "_view_count": null,
            "_view_module_version": "1.2.0",
            "bar_color": null,
            "_model_module": "@jupyter-widgets/controls"
          }
        },
        "833b6f582cb84f73bed390291baca133": {
          "model_module": "@jupyter-widgets/base",
          "model_name": "LayoutModel",
          "state": {
            "_view_name": "LayoutView",
            "grid_template_rows": null,
            "right": null,
            "justify_content": null,
            "_view_module": "@jupyter-widgets/base",
            "overflow": null,
            "_model_module_version": "1.2.0",
            "_view_count": null,
            "flex_flow": null,
            "width": null,
            "min_width": null,
            "border": null,
            "align_items": null,
            "bottom": null,
            "_model_module": "@jupyter-widgets/base",
            "top": null,
            "grid_column": null,
            "overflow_y": null,
            "overflow_x": null,
            "grid_auto_flow": null,
            "grid_area": null,
            "grid_template_columns": null,
            "flex": null,
            "_model_name": "LayoutModel",
            "justify_items": null,
            "grid_row": null,
            "max_height": null,
            "align_content": null,
            "visibility": null,
            "align_self": null,
            "height": null,
            "min_height": null,
            "padding": null,
            "grid_auto_rows": null,
            "grid_gap": null,
            "max_width": null,
            "order": null,
            "_view_module_version": "1.2.0",
            "grid_template_areas": null,
            "object_position": null,
            "object_fit": null,
            "grid_auto_columns": null,
            "margin": null,
            "display": null,
            "left": null
          }
        },
        "ff44124f8426426bb5a384ea1715bf40": {
          "model_module": "@jupyter-widgets/controls",
          "model_name": "DescriptionStyleModel",
          "state": {
            "_view_name": "StyleView",
            "_model_name": "DescriptionStyleModel",
            "description_width": "",
            "_view_module": "@jupyter-widgets/base",
            "_model_module_version": "1.5.0",
            "_view_count": null,
            "_view_module_version": "1.2.0",
            "_model_module": "@jupyter-widgets/controls"
          }
        },
        "bc488d8f542f40b394ac01c20d0dc7bc": {
          "model_module": "@jupyter-widgets/base",
          "model_name": "LayoutModel",
          "state": {
            "_view_name": "LayoutView",
            "grid_template_rows": null,
            "right": null,
            "justify_content": null,
            "_view_module": "@jupyter-widgets/base",
            "overflow": null,
            "_model_module_version": "1.2.0",
            "_view_count": null,
            "flex_flow": null,
            "width": null,
            "min_width": null,
            "border": null,
            "align_items": null,
            "bottom": null,
            "_model_module": "@jupyter-widgets/base",
            "top": null,
            "grid_column": null,
            "overflow_y": null,
            "overflow_x": null,
            "grid_auto_flow": null,
            "grid_area": null,
            "grid_template_columns": null,
            "flex": null,
            "_model_name": "LayoutModel",
            "justify_items": null,
            "grid_row": null,
            "max_height": null,
            "align_content": null,
            "visibility": null,
            "align_self": null,
            "height": null,
            "min_height": null,
            "padding": null,
            "grid_auto_rows": null,
            "grid_gap": null,
            "max_width": null,
            "order": null,
            "_view_module_version": "1.2.0",
            "grid_template_areas": null,
            "object_position": null,
            "object_fit": null,
            "grid_auto_columns": null,
            "margin": null,
            "display": null,
            "left": null
          }
        },
        "ff636af25839437e89d6680ee717163c": {
          "model_module": "@jupyter-widgets/controls",
          "model_name": "HBoxModel",
          "state": {
            "_view_name": "HBoxView",
            "_dom_classes": [],
            "_model_name": "HBoxModel",
            "_view_module": "@jupyter-widgets/controls",
            "_model_module_version": "1.5.0",
            "_view_count": null,
            "_view_module_version": "1.5.0",
            "box_style": "",
            "layout": "IPY_MODEL_91771d3ee4ab4444a1d91cc25e1ae764",
            "_model_module": "@jupyter-widgets/controls",
            "children": [
              "IPY_MODEL_aa41ba9291db447e8460525bee7779ac",
              "IPY_MODEL_1577034936d54a528309a66b4d1f7d5e"
            ]
          }
        },
        "91771d3ee4ab4444a1d91cc25e1ae764": {
          "model_module": "@jupyter-widgets/base",
          "model_name": "LayoutModel",
          "state": {
            "_view_name": "LayoutView",
            "grid_template_rows": null,
            "right": null,
            "justify_content": null,
            "_view_module": "@jupyter-widgets/base",
            "overflow": null,
            "_model_module_version": "1.2.0",
            "_view_count": null,
            "flex_flow": null,
            "width": null,
            "min_width": null,
            "border": null,
            "align_items": null,
            "bottom": null,
            "_model_module": "@jupyter-widgets/base",
            "top": null,
            "grid_column": null,
            "overflow_y": null,
            "overflow_x": null,
            "grid_auto_flow": null,
            "grid_area": null,
            "grid_template_columns": null,
            "flex": null,
            "_model_name": "LayoutModel",
            "justify_items": null,
            "grid_row": null,
            "max_height": null,
            "align_content": null,
            "visibility": null,
            "align_self": null,
            "height": null,
            "min_height": null,
            "padding": null,
            "grid_auto_rows": null,
            "grid_gap": null,
            "max_width": null,
            "order": null,
            "_view_module_version": "1.2.0",
            "grid_template_areas": null,
            "object_position": null,
            "object_fit": null,
            "grid_auto_columns": null,
            "margin": null,
            "display": null,
            "left": null
          }
        },
        "aa41ba9291db447e8460525bee7779ac": {
          "model_module": "@jupyter-widgets/controls",
          "model_name": "FloatProgressModel",
          "state": {
            "_view_name": "ProgressView",
            "style": "IPY_MODEL_e3c8187f31924fbfab8a843eb499ef02",
            "_dom_classes": [],
            "description": "  0%",
            "_model_name": "FloatProgressModel",
            "bar_style": "danger",
            "max": 1821,
            "_view_module": "@jupyter-widgets/controls",
            "_model_module_version": "1.5.0",
            "value": 0,
            "_view_count": null,
            "_view_module_version": "1.5.0",
            "orientation": "horizontal",
            "min": 0,
            "description_tooltip": null,
            "_model_module": "@jupyter-widgets/controls",
            "layout": "IPY_MODEL_10be7f2986274586988dbb12e5a3b35d"
          }
        },
        "1577034936d54a528309a66b4d1f7d5e": {
          "model_module": "@jupyter-widgets/controls",
          "model_name": "HTMLModel",
          "state": {
            "_view_name": "HTMLView",
            "style": "IPY_MODEL_6e29724c470649e3be9d84a714db26a6",
            "_dom_classes": [],
            "description": "",
            "_model_name": "HTMLModel",
            "placeholder": "​",
            "_view_module": "@jupyter-widgets/controls",
            "_model_module_version": "1.5.0",
            "value": " 0/1821 [00:00&lt;?, ? examples/s]",
            "_view_count": null,
            "_view_module_version": "1.5.0",
            "description_tooltip": null,
            "_model_module": "@jupyter-widgets/controls",
            "layout": "IPY_MODEL_e16381d1705c489c9fd4f9b0fa052daf"
          }
        },
        "e3c8187f31924fbfab8a843eb499ef02": {
          "model_module": "@jupyter-widgets/controls",
          "model_name": "ProgressStyleModel",
          "state": {
            "_view_name": "StyleView",
            "_model_name": "ProgressStyleModel",
            "description_width": "initial",
            "_view_module": "@jupyter-widgets/base",
            "_model_module_version": "1.5.0",
            "_view_count": null,
            "_view_module_version": "1.2.0",
            "bar_color": null,
            "_model_module": "@jupyter-widgets/controls"
          }
        },
        "10be7f2986274586988dbb12e5a3b35d": {
          "model_module": "@jupyter-widgets/base",
          "model_name": "LayoutModel",
          "state": {
            "_view_name": "LayoutView",
            "grid_template_rows": null,
            "right": null,
            "justify_content": null,
            "_view_module": "@jupyter-widgets/base",
            "overflow": null,
            "_model_module_version": "1.2.0",
            "_view_count": null,
            "flex_flow": null,
            "width": null,
            "min_width": null,
            "border": null,
            "align_items": null,
            "bottom": null,
            "_model_module": "@jupyter-widgets/base",
            "top": null,
            "grid_column": null,
            "overflow_y": null,
            "overflow_x": null,
            "grid_auto_flow": null,
            "grid_area": null,
            "grid_template_columns": null,
            "flex": null,
            "_model_name": "LayoutModel",
            "justify_items": null,
            "grid_row": null,
            "max_height": null,
            "align_content": null,
            "visibility": null,
            "align_self": null,
            "height": null,
            "min_height": null,
            "padding": null,
            "grid_auto_rows": null,
            "grid_gap": null,
            "max_width": null,
            "order": null,
            "_view_module_version": "1.2.0",
            "grid_template_areas": null,
            "object_position": null,
            "object_fit": null,
            "grid_auto_columns": null,
            "margin": null,
            "display": null,
            "left": null
          }
        },
        "6e29724c470649e3be9d84a714db26a6": {
          "model_module": "@jupyter-widgets/controls",
          "model_name": "DescriptionStyleModel",
          "state": {
            "_view_name": "StyleView",
            "_model_name": "DescriptionStyleModel",
            "description_width": "",
            "_view_module": "@jupyter-widgets/base",
            "_model_module_version": "1.5.0",
            "_view_count": null,
            "_view_module_version": "1.2.0",
            "_model_module": "@jupyter-widgets/controls"
          }
        },
        "e16381d1705c489c9fd4f9b0fa052daf": {
          "model_module": "@jupyter-widgets/base",
          "model_name": "LayoutModel",
          "state": {
            "_view_name": "LayoutView",
            "grid_template_rows": null,
            "right": null,
            "justify_content": null,
            "_view_module": "@jupyter-widgets/base",
            "overflow": null,
            "_model_module_version": "1.2.0",
            "_view_count": null,
            "flex_flow": null,
            "width": null,
            "min_width": null,
            "border": null,
            "align_items": null,
            "bottom": null,
            "_model_module": "@jupyter-widgets/base",
            "top": null,
            "grid_column": null,
            "overflow_y": null,
            "overflow_x": null,
            "grid_auto_flow": null,
            "grid_area": null,
            "grid_template_columns": null,
            "flex": null,
            "_model_name": "LayoutModel",
            "justify_items": null,
            "grid_row": null,
            "max_height": null,
            "align_content": null,
            "visibility": null,
            "align_self": null,
            "height": null,
            "min_height": null,
            "padding": null,
            "grid_auto_rows": null,
            "grid_gap": null,
            "max_width": null,
            "order": null,
            "_view_module_version": "1.2.0",
            "grid_template_areas": null,
            "object_position": null,
            "object_fit": null,
            "grid_auto_columns": null,
            "margin": null,
            "display": null,
            "left": null
          }
        }
      }
    }
  },
  "cells": [
    {
      "cell_type": "markdown",
      "metadata": {
        "id": "teOrWuQchA97",
        "colab_type": "text"
      },
      "source": [
        "models from EDA https://github.com/jasonwei20/eda_nlp/tree/d75e8bd4631f4d93260cb291aa47852d8eacd51d/experiments\n",
        "some parameters changed - size of model(lstm, CNN) layers "
      ]
    },
    {
      "cell_type": "code",
      "metadata": {
        "id": "_pUd-03e_Vrv",
        "colab_type": "code",
        "outputId": "fdff7fb2-72bc-4599-c7d0-0f58e876a0b9",
        "colab": {
          "base_uri": "https://localhost:8080/",
          "height": 35
        }
      },
      "source": [
        "from keras.layers.core import Dense, Activation, Dropout\n",
        "from keras.layers.recurrent import LSTM\n",
        "from keras.layers import Bidirectional\n",
        "import keras.layers as layers\n",
        "from keras.models import Sequential\n",
        "from keras.models import load_model\n",
        "from keras.callbacks import EarlyStopping\n",
        "import keras.backend as K\n",
        "from sklearn.utils import shuffle\n",
        "from sklearn.metrics import accuracy_score, f1_score\n",
        "\n",
        "import math\n",
        "import time\n",
        "import numpy as np\n",
        "import random\n",
        "from random import randint\n",
        "random.seed(3)\n",
        "import datetime, re, operator\n",
        "from random import shuffle\n",
        "from time import gmtime, strftime\n",
        "import gc\n",
        "import keras\n",
        "import tensorflow as tf\n",
        "\n",
        "import os\n",
        "from os import listdir\n",
        "from os.path import isfile, join, isdir\n",
        "import pickle"
      ],
      "execution_count": 0,
      "outputs": [
        {
          "output_type": "stream",
          "text": [
            "Using TensorFlow backend.\n"
          ],
          "name": "stderr"
        }
      ]
    },
    {
      "cell_type": "code",
      "metadata": {
        "id": "7YgDJcEhPBF1",
        "colab_type": "code",
        "outputId": "5b1c82fb-0bb1-450f-ccff-4b686f3550f0",
        "colab": {
          "base_uri": "https://localhost:8080/",
          "height": 553
        }
      },
      "source": [
        "from tensorflow.python.client import device_lib\n",
        "print(device_lib.list_local_devices())"
      ],
      "execution_count": 0,
      "outputs": [
        {
          "output_type": "stream",
          "text": [
            "[name: \"/device:CPU:0\"\n",
            "device_type: \"CPU\"\n",
            "memory_limit: 268435456\n",
            "locality {\n",
            "}\n",
            "incarnation: 13115621475811910657\n",
            ", name: \"/device:XLA_CPU:0\"\n",
            "device_type: \"XLA_CPU\"\n",
            "memory_limit: 17179869184\n",
            "locality {\n",
            "}\n",
            "incarnation: 10465228947228632213\n",
            "physical_device_desc: \"device: XLA_CPU device\"\n",
            ", name: \"/device:XLA_GPU:0\"\n",
            "device_type: \"XLA_GPU\"\n",
            "memory_limit: 17179869184\n",
            "locality {\n",
            "}\n",
            "incarnation: 7770808490716122124\n",
            "physical_device_desc: \"device: XLA_GPU device\"\n",
            ", name: \"/device:GPU:0\"\n",
            "device_type: \"GPU\"\n",
            "memory_limit: 15701463552\n",
            "locality {\n",
            "  bus_id: 1\n",
            "  links {\n",
            "  }\n",
            "}\n",
            "incarnation: 16989024056392473704\n",
            "physical_device_desc: \"device: 0, name: Tesla P100-PCIE-16GB, pci bus id: 0000:00:04.0, compute capability: 6.0\"\n",
            "]\n"
          ],
          "name": "stdout"
        }
      ]
    },
    {
      "cell_type": "code",
      "metadata": {
        "id": "4qWeQ3itCxgO",
        "colab_type": "code",
        "outputId": "8f780e99-92a2-49b6-ffe4-aa422b4238da",
        "colab": {
          "base_uri": "https://localhost:8080/",
          "height": 141
        }
      },
      "source": [
        "from google.colab import drive\n",
        "drive.mount('/content/drive')\n",
        "%cd drive/'My Drive'/UniversalEmb"
      ],
      "execution_count": 0,
      "outputs": [
        {
          "output_type": "stream",
          "text": [
            "Go to this URL in a browser: https://accounts.google.com/o/oauth2/auth?client_id=947318989803-6bn6qk8qdgf4n4g3pfee6491hc0brc4i.apps.googleusercontent.com&redirect_uri=urn%3aietf%3awg%3aoauth%3a2.0%3aoob&response_type=code&scope=email%20https%3a%2f%2fwww.googleapis.com%2fauth%2fdocs.test%20https%3a%2f%2fwww.googleapis.com%2fauth%2fdrive%20https%3a%2f%2fwww.googleapis.com%2fauth%2fdrive.photos.readonly%20https%3a%2f%2fwww.googleapis.com%2fauth%2fpeopleapi.readonly\n",
            "\n",
            "Enter your authorization code:\n",
            "··········\n",
            "Mounted at /content/drive\n",
            "/content/drive/My Drive/UniversalEmb\n"
          ],
          "name": "stdout"
        }
      ]
    },
    {
      "cell_type": "code",
      "metadata": {
        "id": "zVg5oSycQFMR",
        "colab_type": "code",
        "colab": {}
      },
      "source": [
        "!rm crawl-300d-2M.vec.zip"
      ],
      "execution_count": 0,
      "outputs": []
    },
    {
      "cell_type": "code",
      "metadata": {
        "id": "FRV_Yuk_OJWO",
        "colab_type": "code",
        "outputId": "14b3e422-3cde-4c75-82d0-ee1246327366",
        "colab": {
          "base_uri": "https://localhost:8080/",
          "height": 204
        }
      },
      "source": [
        "#!wget https://dl.fbaipublicfiles.com/fasttext/vectors-english/crawl-300d-2M.vec.zip"
      ],
      "execution_count": 0,
      "outputs": [
        {
          "output_type": "stream",
          "text": [
            "--2020-05-10 10:54:33--  https://dl.fbaipublicfiles.com/fasttext/vectors-english/crawl-300d-2M.vec.zip\n",
            "Resolving dl.fbaipublicfiles.com (dl.fbaipublicfiles.com)... 104.22.74.142, 104.22.75.142, 2606:4700:10::6816:4b8e, ...\n",
            "Connecting to dl.fbaipublicfiles.com (dl.fbaipublicfiles.com)|104.22.74.142|:443... connected.\n",
            "HTTP request sent, awaiting response... 200 OK\n",
            "Length: 1523785255 (1.4G) [application/zip]\n",
            "Saving to: ‘crawl-300d-2M.vec.zip’\n",
            "\n",
            "crawl-300d-2M.vec.z 100%[===================>]   1.42G  11.1MB/s    in 2m 12s  \n",
            "\n",
            "2020-05-10 10:56:46 (11.0 MB/s) - ‘crawl-300d-2M.vec.zip’ saved [1523785255/1523785255]\n",
            "\n"
          ],
          "name": "stdout"
        }
      ]
    },
    {
      "cell_type": "code",
      "metadata": {
        "id": "efdPeHyhPipS",
        "colab_type": "code",
        "outputId": "ac412ef5-edf1-4420-9f4a-d5a6ece31ffb",
        "colab": {
          "base_uri": "https://localhost:8080/",
          "height": 51
        }
      },
      "source": [
        "#!unzip crawl-300d-2M.vec.zip"
      ],
      "execution_count": 0,
      "outputs": [
        {
          "output_type": "stream",
          "text": [
            "Archive:  crawl-300d-2M.vec.zip\n",
            "  inflating: crawl-300d-2M.vec       \n"
          ],
          "name": "stdout"
        }
      ]
    },
    {
      "cell_type": "code",
      "metadata": {
        "id": "1n8npONbC9MO",
        "colab_type": "code",
        "outputId": "c5ffc5d0-f5e1-402d-b28c-e26dc89a4ab7",
        "colab": {
          "base_uri": "https://localhost:8080/",
          "height": 72
        }
      },
      "source": [
        "from gensim.models import KeyedVectors\n",
        "w2v_model = KeyedVectors.load_word2vec_format('crawl-300d-2M.vec', binary=False) "
      ],
      "execution_count": 0,
      "outputs": [
        {
          "output_type": "stream",
          "text": [
            "/usr/local/lib/python3.6/dist-packages/smart_open/smart_open_lib.py:253: UserWarning: This function is deprecated, use smart_open.open instead. See the migration notes for details: https://github.com/RaRe-Technologies/smart_open/blob/master/README.rst#migrating-to-the-new-open-function\n",
            "  'See the migration notes for details: %s' % _MIGRATION_NOTES_URL\n"
          ],
          "name": "stderr"
        }
      ]
    },
    {
      "cell_type": "markdown",
      "metadata": {
        "id": "2PFpc_s-dZ8k",
        "colab_type": "text"
      },
      "source": [
        "Preproc data"
      ]
    },
    {
      "cell_type": "code",
      "metadata": {
        "id": "-82Hj1lIMhxq",
        "colab_type": "code",
        "colab": {}
      },
      "source": [
        "def transform(data, w2i, n_classes, input_size):\n",
        "  x_matrix = np.zeros((data.shape[0], input_size))\n",
        "  y_matrix = np.zeros((data.shape[0], n_classes))\n",
        "  sent_len = []\n",
        "  found_word, unk_w = 0,0\n",
        "  for i, line in enumerate(data.iterrows()):\n",
        "    label = line[1]['lbl_index']\n",
        "    sentence = line[1]['text']\n",
        "    splited_sent = sentence.split(' ')\n",
        "    sent_len.append(len(splited_sent))\n",
        "\n",
        "    for enum, word in enumerate(splited_sent[:input_size]):\n",
        "      if word in w2i:\n",
        "        x_matrix[i][enum] = w2i[word]\n",
        "        found_word+=1\n",
        "      else:\n",
        "        x_matrix[i][enum] = w2i['unk']\n",
        "        unk_w+=1\n",
        "    y_matrix[i][label] = 1.0\n",
        "  print('Average sentence len: ', np.mean(sent_len))\n",
        "  print('Max sentence len: ', np.max(sent_len) )\n",
        "  print('{0:0.3f}% of tokens were replaced by unk token index'.format((unk_w/(unk_w+found_word))*100))\n",
        "\n",
        "  return x_matrix.astype(int), y_matrix \n",
        "\n",
        "\n",
        "def create_train_index(tr, w2v_model, max_s_l=128, n_classes=None):\n",
        "  w2i = {'pad': 0, 'unk': 1}\n",
        "\n",
        "  #create tokens list and types\n",
        "  tokens = []\n",
        "  for indx, line in tr.iterrows():\n",
        "    tokens.extend(line['text'].split(' '))\n",
        "  types = list(set(tokens))\n",
        "  #create w2i vocab and pretrained emb matrix\n",
        "  emb_matrix = []\n",
        "  emb_matrix.append(np.zeros(300)) #'pad'\n",
        "  emb_matrix.append(np.zeros(300)) #'unk'\n",
        "  s,d = 0,0\n",
        "  for i, t in enumerate(types):\n",
        "    if t in w2v_model:\n",
        "      indx = len(w2i)\n",
        "      w2i[t] = indx\n",
        "      emb_matrix.append(w2v_model[t])\n",
        "      d += 1\n",
        "    else:\n",
        "      s += 1\n",
        "  print('Not found vectors {} out of {} unique words'.format(s, d+s))\n",
        "  i2w = {j:i for i, j in w2i.items()}\n",
        "  #transform train tokens to index in each text\n",
        "  if n_classes is None:\n",
        "    n_classes = len(tr.lbl_index.unique())\n",
        "  x_tr, y_tr = transform(tr, w2i, n_classes, max_s_l)\n",
        "  return x_tr, y_tr, w2i, i2w, np.array(emb_matrix)"
      ],
      "execution_count": 0,
      "outputs": []
    },
    {
      "cell_type": "code",
      "metadata": {
        "id": "Pxu-WD37o4Ly",
        "colab_type": "code",
        "colab": {}
      },
      "source": [
        "def f1(y_true, y_pred): #taken from old keras source code\n",
        "    true_positives = K.sum(K.round(K.clip(y_true * y_pred, 0, 1)))\n",
        "    possible_positives = K.sum(K.round(K.clip(y_true, 0, 1)))\n",
        "    predicted_positives = K.sum(K.round(K.clip(y_pred, 0, 1)))\n",
        "    precision = true_positives / (predicted_positives + K.epsilon())\n",
        "    recall = true_positives / (possible_positives + K.epsilon())\n",
        "    f1_val = 2*(precision*recall)/(precision+recall+K.epsilon())\n",
        "    return f1_val"
      ],
      "execution_count": 0,
      "outputs": []
    },
    {
      "cell_type": "code",
      "metadata": {
        "id": "5jV2WkiZUtN8",
        "colab_type": "code",
        "colab": {}
      },
      "source": [
        "def one_hot_to_categorical(y):\n",
        "    assert len(y.shape) == 2\n",
        "    return np.argmax(y, axis=1)"
      ],
      "execution_count": 0,
      "outputs": []
    },
    {
      "cell_type": "markdown",
      "metadata": {
        "id": "i1m3GLhHdT1_",
        "colab_type": "text"
      },
      "source": [
        "Models"
      ]
    },
    {
      "cell_type": "code",
      "metadata": {
        "id": "j7WcyT2RG9xV",
        "colab_type": "code",
        "colab": {}
      },
      "source": [
        "import tensorflow as tf\n",
        "#building the model in keras with embeddings\n",
        "def build_lstm(word2vec_matrix, max_seq_len, num_classes):\n",
        "  model = None\n",
        "  model = Sequential()\n",
        "  model.add(layers.Embedding(word2vec_matrix.shape[0], word2vec_matrix.shape[1], input_length=max_seq_len,  weights=[word2vec_matrix], trainable=False))\n",
        "  model.add(Bidirectional(LSTM(256, return_sequences=True)))\n",
        "  model.add(Dropout(0.5))\n",
        "  model.add(Bidirectional(LSTM(128, return_sequences=False)))\n",
        "  model.add(Dropout(0.5))\n",
        "  model.add(Dense(100, activation='relu'))\n",
        "  model.add(Dense(num_classes, kernel_initializer='normal', activation='softmax'))\n",
        "  opt = tf.keras.optimizers.Adam(learning_rate=0.001, epsilon=1e-07)\n",
        "  model.compile(loss='categorical_crossentropy', optimizer=opt, metrics=['accuracy', f1 ])\n",
        "  #print(model.summary())\n",
        "  return model"
      ],
      "execution_count": 0,
      "outputs": []
    },
    {
      "cell_type": "code",
      "metadata": {
        "id": "hDpSbC5UOWze",
        "colab_type": "code",
        "colab": {}
      },
      "source": [
        "#building the cnn in keras\n",
        "def build_cnn(word2vec_matrix, max_seq_len, num_classes):\n",
        "  model = None\n",
        "  model = Sequential()\n",
        "  model.add(layers.Embedding(word2vec_matrix.shape[0], word2vec_matrix.shape[1], input_length=max_seq_len,  weights=[word2vec_matrix]))\n",
        "  model.add(layers.Conv1D(256, 5, activation='relu'))\n",
        "  model.add(layers.GlobalMaxPooling1D())\n",
        "  model.add(Dense(256, activation='relu'))\n",
        "  model.add(Dense(num_classes, kernel_initializer='normal', activation='softmax'))\n",
        "  opt = tf.keras.optimizers.Adam(learning_rate=0.001, epsilon=1e-07)\n",
        "  model.compile(loss='categorical_crossentropy', optimizer=opt, metrics=['accuracy', f1 ])\n",
        "  return model"
      ],
      "execution_count": 0,
      "outputs": []
    },
    {
      "cell_type": "markdown",
      "metadata": {
        "id": "WLDpHBU-dXFn",
        "colab_type": "text"
      },
      "source": [
        "Run models"
      ]
    },
    {
      "cell_type": "code",
      "metadata": {
        "id": "I6aYedlLOeg5",
        "colab_type": "code",
        "colab": {}
      },
      "source": [
        "from keras.callbacks import History\n",
        "def run_cnn(train_data, test_data, w2v_model, msl, n_c):\n",
        "\n",
        "  #load data\n",
        "  train_x, train_y, word2in, in2word, pretrained_vectors = create_train_index(train_data, w2v_model, msl)\n",
        "  test_x, test_y = transform(test_data, word2in, len(train_data.lbl_index.unique()), train_x.shape[1])\n",
        "\n",
        "  #initialize model\n",
        "  model = build_cnn(pretrained_vectors, msl, n_c)\n",
        "\n",
        "  #implement early stopping\n",
        "  history = History()\n",
        "  callbacks = [EarlyStopping(monitor='val_loss', patience=5), history]\n",
        "\n",
        "   #implement early stopping\n",
        "  history = History()\n",
        "  callbacks = [EarlyStopping(monitor='val_loss', patience=5), history]\n",
        "\n",
        "  #train model\n",
        "  hist = model.fit(train_x, \n",
        "        train_y, \n",
        "        epochs=100000, \n",
        "        callbacks=callbacks,\n",
        "        validation_data=(test_x, test_y), \n",
        "        batch_size=512, \n",
        "        shuffle=True, \n",
        "        verbose=1)\n",
        "  all_f1 = hist.history['val_f1']\n",
        "  all_acc = hist.history['val_accuracy']\n",
        "\n",
        "  print('Best F1:{0:0.3f}, best accuracy:{1:0.3f}'.format(max(all_f1), max(all_acc)))\n",
        "  return max(all_f1), max(all_acc)"
      ],
      "execution_count": 0,
      "outputs": []
    },
    {
      "cell_type": "code",
      "metadata": {
        "id": "7jAo4Zcfdgao",
        "colab_type": "code",
        "colab": {}
      },
      "source": [
        "from keras.callbacks import History\n",
        "def run_lstm(train_data, test_data, w2v_model, msl, n_c):\n",
        "\n",
        "  #load data\n",
        "  train_x, train_y, word2in, in2word, pretrained_vectors = create_train_index(train_data, w2v_model, msl)\n",
        "  test_x, test_y = transform(test_data, word2in, len(train_data.lbl_index.unique()), train_x.shape[1])\n",
        "\n",
        "  #initialize model\n",
        "  model = build_lstm(pretrained_vectors, msl, n_c)\n",
        "\n",
        "  #implement early stopping\n",
        "  history = History()\n",
        "  callbacks = [EarlyStopping(monitor='val_loss', patience=5), history]\n",
        "\n",
        "  #train model\n",
        "  hist = model.fit(train_x, \n",
        "        train_y, \n",
        "        epochs=100000, \n",
        "        callbacks=callbacks,\n",
        "        validation_data=(test_x, test_y), \n",
        "        batch_size=512, \n",
        "        shuffle=True, \n",
        "        verbose=1)\n",
        "  all_f1 = hist.history['val_f1']\n",
        "  all_acc = hist.history['val_accuracy']\n",
        "\n",
        "  print('Best F1:{0:0.3f}, best accuracy:{1:0.3f}'.format(max(all_f1), max(all_acc)))\n",
        "  return max(all_f1), max(all_acc)"
      ],
      "execution_count": 0,
      "outputs": []
    },
    {
      "cell_type": "markdown",
      "metadata": {
        "id": "AioyBJpijgHG",
        "colab_type": "text"
      },
      "source": [
        "#Trec-50"
      ]
    },
    {
      "cell_type": "markdown",
      "metadata": {
        "id": "GBq8qZ9zFV_Y",
        "colab_type": "text"
      },
      "source": [
        "### 3000 "
      ]
    },
    {
      "cell_type": "code",
      "metadata": {
        "id": "Bl9fdZycFn-a",
        "colab_type": "code",
        "colab": {}
      },
      "source": [
        "import pandas as pd\n",
        "def read_trec50(file_name, typ=1):\n",
        "  train = pd.read_csv(file_name, index_col=0)\n",
        "  lbl2indx = {i:j for j, i in enumerate(train.labels.unique())}\n",
        "  train.columns = ['text', 'labels']\n",
        "  train['lbl_index'] = train.labels.apply(lambda x:lbl2indx[x])\n",
        "\n",
        "\n",
        "  labels_t = [i.split(' ', 1)[0].split(':')[typ] for i in open('TREC_10.label', encoding = 'windows-1252').readlines()]\n",
        "  texts_t = [ i.split(' ', 1)[1][:-1] for i in open('TREC_10.label', encoding = 'windows-1252').readlines()]\n",
        "  test  = pd.DataFrame({'text':texts_t, 'labels': labels_t})\n",
        "  test['lbl_index'] = test.labels.apply(lambda x:lbl2indx[x])\n",
        "\n",
        "  return train, test, lbl2indx\n",
        "  "
      ],
      "execution_count": 0,
      "outputs": []
    },
    {
      "cell_type": "code",
      "metadata": {
        "id": "KGcWlLFchu4U",
        "colab_type": "code",
        "colab": {}
      },
      "source": [
        "number_of_attemp_to_fit = 3"
      ],
      "execution_count": 0,
      "outputs": []
    },
    {
      "cell_type": "code",
      "metadata": {
        "id": "PKXEpJW77qnx",
        "colab_type": "code",
        "colab": {}
      },
      "source": [
        "train_data, test_data, l2i = read_trec50('trec50_splited/trec50_3k.csv')"
      ],
      "execution_count": 0,
      "outputs": []
    },
    {
      "cell_type": "code",
      "metadata": {
        "id": "geF5Sa-kIahx",
        "colab_type": "code",
        "colab": {}
      },
      "source": [
        "MAX_SEQ_LEN, N_CLASSES = 37, len(train_data.lbl_index.unique())"
      ],
      "execution_count": 0,
      "outputs": []
    },
    {
      "cell_type": "code",
      "metadata": {
        "id": "6hkcILLuJ7gW",
        "colab_type": "code",
        "outputId": "3b42e8a0-8f11-4abb-c874-7e4f2c9d2b4d",
        "colab": {
          "base_uri": "https://localhost:8080/",
          "height": 1000
        }
      },
      "source": [
        "f1_scores, acc_scores = [], []\n",
        "for _ in range(number_of_attemp_to_fit):\n",
        "  f1_score, acc_score = run_lstm(train_data, test_data, w2v_model, MAX_SEQ_LEN, N_CLASSES )\n",
        "  f1_scores.append(f1_score)\n",
        "  acc_scores.append(acc_score)\n",
        "print(\"f1_average: {}, std:{}\".format(np.mean(f1_scores), np.std(f1_scores)))\n",
        "print(\"acc_average: {}, std:{}\".format(np.mean(acc_scores), np.std(acc_scores)))"
      ],
      "execution_count": 0,
      "outputs": [
        {
          "output_type": "stream",
          "text": [
            "Not found vectors 132 out of 6350 unique words\n",
            "Average sentence len:  10.240343347639485\n",
            "Max sentence len:  32\n",
            "1.802% of tokens were replaced by unk token index\n",
            "Average sentence len:  7.516\n",
            "Max sentence len:  17\n",
            "12.320% of tokens were replaced by unk token index\n",
            "Train on 3029 samples, validate on 500 samples\n",
            "Epoch 1/100000\n",
            "3029/3029 [==============================] - 3s 901us/step - loss: 3.7821 - accuracy: 0.1014 - f1: 0.0000e+00 - val_loss: 3.5443 - val_accuracy: 0.1100 - val_f1: 0.0000e+00\n",
            "Epoch 2/100000\n",
            "3029/3029 [==============================] - 2s 530us/step - loss: 3.4679 - accuracy: 0.1367 - f1: 0.0000e+00 - val_loss: 3.2471 - val_accuracy: 0.2240 - val_f1: 0.0000e+00\n",
            "Epoch 3/100000\n",
            "3029/3029 [==============================] - 2s 523us/step - loss: 3.3442 - accuracy: 0.1588 - f1: 0.0000e+00 - val_loss: 3.1232 - val_accuracy: 0.2460 - val_f1: 0.0000e+00\n",
            "Epoch 4/100000\n",
            "3029/3029 [==============================] - 2s 521us/step - loss: 3.2197 - accuracy: 0.2020 - f1: 0.0197 - val_loss: 2.9664 - val_accuracy: 0.2460 - val_f1: 0.0276\n",
            "Epoch 5/100000\n",
            "3029/3029 [==============================] - 2s 523us/step - loss: 3.0768 - accuracy: 0.2265 - f1: 0.1265 - val_loss: 2.7140 - val_accuracy: 0.4780 - val_f1: 0.1642\n",
            "Epoch 6/100000\n",
            "3029/3029 [==============================] - 2s 528us/step - loss: 2.9206 - accuracy: 0.2687 - f1: 0.1634 - val_loss: 2.5208 - val_accuracy: 0.4360 - val_f1: 0.1742\n",
            "Epoch 7/100000\n",
            "3029/3029 [==============================] - 2s 518us/step - loss: 2.7729 - accuracy: 0.2932 - f1: 0.1823 - val_loss: 2.3724 - val_accuracy: 0.4980 - val_f1: 0.1742\n",
            "Epoch 8/100000\n",
            "3029/3029 [==============================] - 2s 565us/step - loss: 2.6082 - accuracy: 0.3259 - f1: 0.1928 - val_loss: 2.2318 - val_accuracy: 0.4920 - val_f1: 0.1742\n",
            "Epoch 9/100000\n",
            "3029/3029 [==============================] - 2s 506us/step - loss: 2.4372 - accuracy: 0.3674 - f1: 0.2174 - val_loss: 2.0496 - val_accuracy: 0.5120 - val_f1: 0.4790\n",
            "Epoch 10/100000\n",
            "3029/3029 [==============================] - 2s 514us/step - loss: 2.2620 - accuracy: 0.4005 - f1: 0.2691 - val_loss: 1.9049 - val_accuracy: 0.5280 - val_f1: 0.5331\n",
            "Epoch 11/100000\n",
            "3029/3029 [==============================] - 2s 508us/step - loss: 2.0848 - accuracy: 0.4487 - f1: 0.3297 - val_loss: 1.7724 - val_accuracy: 0.5680 - val_f1: 0.5483\n",
            "Epoch 12/100000\n",
            "3029/3029 [==============================] - 2s 533us/step - loss: 1.9165 - accuracy: 0.4959 - f1: 0.3996 - val_loss: 1.7123 - val_accuracy: 0.5660 - val_f1: 0.5714\n",
            "Epoch 13/100000\n",
            "3029/3029 [==============================] - 2s 526us/step - loss: 1.7612 - accuracy: 0.5358 - f1: 0.4529 - val_loss: 1.5620 - val_accuracy: 0.6120 - val_f1: 0.6091\n",
            "Epoch 14/100000\n",
            "3029/3029 [==============================] - 2s 525us/step - loss: 1.5676 - accuracy: 0.5873 - f1: 0.4984 - val_loss: 1.4488 - val_accuracy: 0.6320 - val_f1: 0.6429\n",
            "Epoch 15/100000\n",
            "3029/3029 [==============================] - 2s 580us/step - loss: 1.4318 - accuracy: 0.6220 - f1: 0.5471 - val_loss: 1.3677 - val_accuracy: 0.6620 - val_f1: 0.6520\n",
            "Epoch 16/100000\n",
            "3029/3029 [==============================] - 2s 527us/step - loss: 1.2800 - accuracy: 0.6576 - f1: 0.6082 - val_loss: 1.3449 - val_accuracy: 0.6640 - val_f1: 0.6578\n",
            "Epoch 17/100000\n",
            "3029/3029 [==============================] - 2s 595us/step - loss: 1.1780 - accuracy: 0.6837 - f1: 0.6396 - val_loss: 1.2869 - val_accuracy: 0.6780 - val_f1: 0.6905\n",
            "Epoch 18/100000\n",
            "3029/3029 [==============================] - 2s 548us/step - loss: 1.0310 - accuracy: 0.7260 - f1: 0.6951 - val_loss: 1.1797 - val_accuracy: 0.6980 - val_f1: 0.7098\n",
            "Epoch 19/100000\n",
            "3029/3029 [==============================] - 2s 516us/step - loss: 0.9034 - accuracy: 0.7567 - f1: 0.7285 - val_loss: 1.1103 - val_accuracy: 0.7120 - val_f1: 0.7295\n",
            "Epoch 20/100000\n",
            "3029/3029 [==============================] - 2s 523us/step - loss: 0.8037 - accuracy: 0.7828 - f1: 0.7653 - val_loss: 1.1055 - val_accuracy: 0.7060 - val_f1: 0.7367\n",
            "Epoch 21/100000\n",
            "3029/3029 [==============================] - 2s 525us/step - loss: 0.7104 - accuracy: 0.8095 - f1: 0.7938 - val_loss: 1.0937 - val_accuracy: 0.7080 - val_f1: 0.7293\n",
            "Epoch 22/100000\n",
            "3029/3029 [==============================] - 2s 530us/step - loss: 0.6205 - accuracy: 0.8320 - f1: 0.8189 - val_loss: 1.1071 - val_accuracy: 0.7180 - val_f1: 0.7489\n",
            "Epoch 23/100000\n",
            "3029/3029 [==============================] - 2s 562us/step - loss: 0.5386 - accuracy: 0.8508 - f1: 0.8416 - val_loss: 1.1692 - val_accuracy: 0.7220 - val_f1: 0.7425\n",
            "Epoch 24/100000\n",
            "3029/3029 [==============================] - 2s 511us/step - loss: 0.5130 - accuracy: 0.8650 - f1: 0.8483 - val_loss: 1.1466 - val_accuracy: 0.7280 - val_f1: 0.7448\n",
            "Epoch 25/100000\n",
            "3029/3029 [==============================] - 2s 571us/step - loss: 0.4390 - accuracy: 0.8841 - f1: 0.8699 - val_loss: 1.0847 - val_accuracy: 0.7440 - val_f1: 0.7614\n",
            "Epoch 26/100000\n",
            "3029/3029 [==============================] - 2s 508us/step - loss: 0.4037 - accuracy: 0.8950 - f1: 0.8817 - val_loss: 1.1622 - val_accuracy: 0.7380 - val_f1: 0.7511\n",
            "Epoch 27/100000\n",
            "3029/3029 [==============================] - 2s 536us/step - loss: 0.3476 - accuracy: 0.9066 - f1: 0.9003 - val_loss: 0.9853 - val_accuracy: 0.7740 - val_f1: 0.7870\n",
            "Epoch 28/100000\n",
            "3029/3029 [==============================] - 2s 502us/step - loss: 0.3135 - accuracy: 0.9145 - f1: 0.9086 - val_loss: 0.9601 - val_accuracy: 0.7680 - val_f1: 0.7901\n",
            "Epoch 29/100000\n",
            "3029/3029 [==============================] - 2s 508us/step - loss: 0.2658 - accuracy: 0.9343 - f1: 0.9231 - val_loss: 1.0398 - val_accuracy: 0.7500 - val_f1: 0.7676\n",
            "Epoch 30/100000\n",
            "3029/3029 [==============================] - 2s 508us/step - loss: 0.2187 - accuracy: 0.9475 - f1: 0.9424 - val_loss: 1.0560 - val_accuracy: 0.7600 - val_f1: 0.7727\n",
            "Epoch 31/100000\n",
            "3029/3029 [==============================] - 2s 596us/step - loss: 0.2180 - accuracy: 0.9449 - f1: 0.9421 - val_loss: 1.1170 - val_accuracy: 0.7540 - val_f1: 0.7689\n",
            "Epoch 32/100000\n",
            "3029/3029 [==============================] - 2s 556us/step - loss: 0.1975 - accuracy: 0.9492 - f1: 0.9461 - val_loss: 1.1632 - val_accuracy: 0.7480 - val_f1: 0.7584\n",
            "Epoch 33/100000\n",
            "3029/3029 [==============================] - 2s 586us/step - loss: 0.1824 - accuracy: 0.9511 - f1: 0.9508 - val_loss: 1.1150 - val_accuracy: 0.7780 - val_f1: 0.7845\n",
            "Best F1:0.790, best accuracy:0.778\n",
            "Not found vectors 132 out of 6350 unique words\n",
            "Average sentence len:  10.240343347639485\n",
            "Max sentence len:  32\n",
            "1.802% of tokens were replaced by unk token index\n",
            "Average sentence len:  7.516\n",
            "Max sentence len:  17\n",
            "12.320% of tokens were replaced by unk token index\n",
            "Train on 3029 samples, validate on 500 samples\n",
            "Epoch 1/100000\n",
            "3029/3029 [==============================] - 3s 934us/step - loss: 3.7518 - accuracy: 0.1179 - f1: 0.0000e+00 - val_loss: 3.6374 - val_accuracy: 0.1100 - val_f1: 0.0000e+00\n",
            "Epoch 2/100000\n",
            "3029/3029 [==============================] - 2s 530us/step - loss: 3.4776 - accuracy: 0.1344 - f1: 0.0000e+00 - val_loss: 3.2789 - val_accuracy: 0.1100 - val_f1: 0.0000e+00\n",
            "Epoch 3/100000\n",
            "3029/3029 [==============================] - 2s 514us/step - loss: 3.3343 - accuracy: 0.1492 - f1: 0.0000e+00 - val_loss: 3.1005 - val_accuracy: 0.4200 - val_f1: 0.0000e+00\n",
            "Epoch 4/100000\n",
            "3029/3029 [==============================] - 2s 549us/step - loss: 3.2006 - accuracy: 0.2086 - f1: 0.0146 - val_loss: 2.9490 - val_accuracy: 0.4200 - val_f1: 0.0276\n",
            "Epoch 5/100000\n",
            "3029/3029 [==============================] - 2s 520us/step - loss: 3.0104 - accuracy: 0.2555 - f1: 0.0881 - val_loss: 2.6663 - val_accuracy: 0.4420 - val_f1: 0.1682\n",
            "Epoch 6/100000\n",
            "3029/3029 [==============================] - 2s 519us/step - loss: 2.8084 - accuracy: 0.2872 - f1: 0.1557 - val_loss: 2.4447 - val_accuracy: 0.4820 - val_f1: 0.1642\n",
            "Epoch 7/100000\n",
            "3029/3029 [==============================] - 2s 573us/step - loss: 2.5759 - accuracy: 0.3466 - f1: 0.1853 - val_loss: 2.1883 - val_accuracy: 0.5000 - val_f1: 0.2011\n",
            "Epoch 8/100000\n",
            "3029/3029 [==============================] - 2s 580us/step - loss: 2.3280 - accuracy: 0.4081 - f1: 0.2651 - val_loss: 1.9796 - val_accuracy: 0.5580 - val_f1: 0.5269\n",
            "Epoch 9/100000\n",
            "3029/3029 [==============================] - 2s 563us/step - loss: 2.0982 - accuracy: 0.4473 - f1: 0.3664 - val_loss: 1.8091 - val_accuracy: 0.5940 - val_f1: 0.5374\n",
            "Epoch 10/100000\n",
            "3029/3029 [==============================] - 2s 505us/step - loss: 1.8859 - accuracy: 0.4972 - f1: 0.4062 - val_loss: 1.7073 - val_accuracy: 0.6040 - val_f1: 0.5499\n",
            "Epoch 11/100000\n",
            "3029/3029 [==============================] - 2s 532us/step - loss: 1.7002 - accuracy: 0.5477 - f1: 0.4512 - val_loss: 1.5150 - val_accuracy: 0.6320 - val_f1: 0.6391\n",
            "Epoch 12/100000\n",
            "3029/3029 [==============================] - 2s 549us/step - loss: 1.4996 - accuracy: 0.5900 - f1: 0.5100 - val_loss: 1.4688 - val_accuracy: 0.6360 - val_f1: 0.6456\n",
            "Epoch 13/100000\n",
            "3029/3029 [==============================] - 2s 559us/step - loss: 1.3225 - accuracy: 0.6451 - f1: 0.5832 - val_loss: 1.4046 - val_accuracy: 0.6800 - val_f1: 0.6861\n",
            "Epoch 14/100000\n",
            "3029/3029 [==============================] - 2s 525us/step - loss: 1.1628 - accuracy: 0.6903 - f1: 0.6458 - val_loss: 1.4151 - val_accuracy: 0.6720 - val_f1: 0.6846\n",
            "Epoch 15/100000\n",
            "3029/3029 [==============================] - 2s 531us/step - loss: 1.0357 - accuracy: 0.7138 - f1: 0.6854 - val_loss: 1.2876 - val_accuracy: 0.7000 - val_f1: 0.7104\n",
            "Epoch 16/100000\n",
            "3029/3029 [==============================] - 2s 569us/step - loss: 0.9111 - accuracy: 0.7531 - f1: 0.7252 - val_loss: 1.1848 - val_accuracy: 0.7000 - val_f1: 0.7281\n",
            "Epoch 17/100000\n",
            "3029/3029 [==============================] - 2s 517us/step - loss: 0.8020 - accuracy: 0.7818 - f1: 0.7653 - val_loss: 1.1151 - val_accuracy: 0.7200 - val_f1: 0.7427\n",
            "Epoch 18/100000\n",
            "3029/3029 [==============================] - 2s 554us/step - loss: 0.7005 - accuracy: 0.8019 - f1: 0.7915 - val_loss: 1.1123 - val_accuracy: 0.7200 - val_f1: 0.7389\n",
            "Epoch 19/100000\n",
            "3029/3029 [==============================] - 2s 521us/step - loss: 0.6450 - accuracy: 0.8184 - f1: 0.8141 - val_loss: 1.1628 - val_accuracy: 0.7100 - val_f1: 0.7429\n",
            "Epoch 20/100000\n",
            "3029/3029 [==============================] - 2s 559us/step - loss: 0.5327 - accuracy: 0.8607 - f1: 0.8466 - val_loss: 1.1422 - val_accuracy: 0.7100 - val_f1: 0.7335\n",
            "Epoch 21/100000\n",
            "3029/3029 [==============================] - 2s 522us/step - loss: 0.4876 - accuracy: 0.8712 - f1: 0.8593 - val_loss: 1.0970 - val_accuracy: 0.7420 - val_f1: 0.7562\n",
            "Epoch 22/100000\n",
            "3029/3029 [==============================] - 2s 513us/step - loss: 0.4412 - accuracy: 0.8765 - f1: 0.8706 - val_loss: 1.1861 - val_accuracy: 0.7280 - val_f1: 0.7521\n",
            "Epoch 23/100000\n",
            "3029/3029 [==============================] - 2s 528us/step - loss: 0.3890 - accuracy: 0.8937 - f1: 0.8874 - val_loss: 1.1329 - val_accuracy: 0.7480 - val_f1: 0.7570\n",
            "Epoch 24/100000\n",
            "3029/3029 [==============================] - 2s 533us/step - loss: 0.3433 - accuracy: 0.9066 - f1: 0.9041 - val_loss: 1.1701 - val_accuracy: 0.7520 - val_f1: 0.7658\n",
            "Epoch 25/100000\n",
            "3029/3029 [==============================] - 2s 515us/step - loss: 0.3136 - accuracy: 0.9185 - f1: 0.9115 - val_loss: 1.1785 - val_accuracy: 0.7420 - val_f1: 0.7497\n",
            "Epoch 26/100000\n",
            "3029/3029 [==============================] - 2s 522us/step - loss: 0.2846 - accuracy: 0.9300 - f1: 0.9189 - val_loss: 1.0310 - val_accuracy: 0.7720 - val_f1: 0.7846\n",
            "Epoch 27/100000\n",
            "3029/3029 [==============================] - 2s 600us/step - loss: 0.2479 - accuracy: 0.9356 - f1: 0.9273 - val_loss: 1.1045 - val_accuracy: 0.7500 - val_f1: 0.7686\n",
            "Epoch 28/100000\n",
            "3029/3029 [==============================] - 2s 622us/step - loss: 0.2073 - accuracy: 0.9472 - f1: 0.9416 - val_loss: 1.1881 - val_accuracy: 0.7540 - val_f1: 0.7584\n",
            "Epoch 29/100000\n",
            "3029/3029 [==============================] - 2s 582us/step - loss: 0.1845 - accuracy: 0.9534 - f1: 0.9468 - val_loss: 1.1123 - val_accuracy: 0.7560 - val_f1: 0.7759\n",
            "Epoch 30/100000\n",
            "3029/3029 [==============================] - 2s 592us/step - loss: 0.1631 - accuracy: 0.9601 - f1: 0.9572 - val_loss: 1.1744 - val_accuracy: 0.7520 - val_f1: 0.7653\n",
            "Epoch 31/100000\n",
            "3029/3029 [==============================] - 2s 535us/step - loss: 0.1504 - accuracy: 0.9640 - f1: 0.9607 - val_loss: 1.2338 - val_accuracy: 0.7460 - val_f1: 0.7673\n",
            "Best F1:0.785, best accuracy:0.772\n",
            "Not found vectors 132 out of 6350 unique words\n",
            "Average sentence len:  10.240343347639485\n",
            "Max sentence len:  32\n",
            "1.802% of tokens were replaced by unk token index\n",
            "Average sentence len:  7.516\n",
            "Max sentence len:  17\n",
            "12.320% of tokens were replaced by unk token index\n",
            "Train on 3029 samples, validate on 500 samples\n",
            "Epoch 1/100000\n",
            "3029/3029 [==============================] - 3s 932us/step - loss: 3.7706 - accuracy: 0.0961 - f1: 0.0000e+00 - val_loss: 3.4737 - val_accuracy: 0.1100 - val_f1: 0.0000e+00\n",
            "Epoch 2/100000\n",
            "3029/3029 [==============================] - 2s 499us/step - loss: 3.4539 - accuracy: 0.1324 - f1: 0.0000e+00 - val_loss: 3.2039 - val_accuracy: 0.1100 - val_f1: 0.0000e+00\n",
            "Epoch 3/100000\n",
            "3029/3029 [==============================] - 2s 537us/step - loss: 3.3526 - accuracy: 0.1423 - f1: 0.0000e+00 - val_loss: 3.1551 - val_accuracy: 0.1340 - val_f1: 0.0000e+00\n",
            "Epoch 4/100000\n",
            "3029/3029 [==============================] - 2s 514us/step - loss: 3.2442 - accuracy: 0.1852 - f1: 0.0000e+00 - val_loss: 3.0034 - val_accuracy: 0.2420 - val_f1: 0.0000e+00\n",
            "Epoch 5/100000\n",
            "3029/3029 [==============================] - 2s 582us/step - loss: 3.0955 - accuracy: 0.2225 - f1: 0.0381 - val_loss: 2.7488 - val_accuracy: 0.4640 - val_f1: 0.1507\n",
            "Epoch 6/100000\n",
            "3029/3029 [==============================] - 2s 524us/step - loss: 2.8900 - accuracy: 0.2876 - f1: 0.1534 - val_loss: 2.4185 - val_accuracy: 0.4780 - val_f1: 0.1742\n",
            "Epoch 7/100000\n",
            "3029/3029 [==============================] - 2s 557us/step - loss: 2.6734 - accuracy: 0.3285 - f1: 0.1827 - val_loss: 2.1901 - val_accuracy: 0.5020 - val_f1: 0.1775\n",
            "Epoch 8/100000\n",
            "3029/3029 [==============================] - 2s 500us/step - loss: 2.4559 - accuracy: 0.3674 - f1: 0.2186 - val_loss: 2.0264 - val_accuracy: 0.5200 - val_f1: 0.3683\n",
            "Epoch 9/100000\n",
            "3029/3029 [==============================] - 2s 634us/step - loss: 2.2421 - accuracy: 0.4150 - f1: 0.2748 - val_loss: 1.8514 - val_accuracy: 0.5460 - val_f1: 0.5500\n",
            "Epoch 10/100000\n",
            "3029/3029 [==============================] - 2s 526us/step - loss: 2.0372 - accuracy: 0.4549 - f1: 0.3424 - val_loss: 1.6830 - val_accuracy: 0.6020 - val_f1: 0.5718\n",
            "Epoch 11/100000\n",
            "3029/3029 [==============================] - 2s 512us/step - loss: 1.8784 - accuracy: 0.4992 - f1: 0.4079 - val_loss: 1.6592 - val_accuracy: 0.5940 - val_f1: 0.5868\n",
            "Epoch 12/100000\n",
            "3029/3029 [==============================] - 2s 537us/step - loss: 1.7089 - accuracy: 0.5206 - f1: 0.4519 - val_loss: 1.4906 - val_accuracy: 0.6320 - val_f1: 0.6523\n",
            "Epoch 13/100000\n",
            "3029/3029 [==============================] - 2s 508us/step - loss: 1.5479 - accuracy: 0.5751 - f1: 0.4982 - val_loss: 1.5231 - val_accuracy: 0.6260 - val_f1: 0.6461\n",
            "Epoch 14/100000\n",
            "3029/3029 [==============================] - 2s 530us/step - loss: 1.4307 - accuracy: 0.6101 - f1: 0.5328 - val_loss: 1.4202 - val_accuracy: 0.6400 - val_f1: 0.6542\n",
            "Epoch 15/100000\n",
            "3029/3029 [==============================] - 2s 541us/step - loss: 1.2785 - accuracy: 0.6520 - f1: 0.5794 - val_loss: 1.2586 - val_accuracy: 0.6860 - val_f1: 0.6856\n",
            "Epoch 16/100000\n",
            "3029/3029 [==============================] - 2s 564us/step - loss: 1.1579 - accuracy: 0.6761 - f1: 0.6177 - val_loss: 1.2282 - val_accuracy: 0.6940 - val_f1: 0.7000\n",
            "Epoch 17/100000\n",
            "3029/3029 [==============================] - 2s 512us/step - loss: 1.0650 - accuracy: 0.7049 - f1: 0.6567 - val_loss: 1.1219 - val_accuracy: 0.7020 - val_f1: 0.6991\n",
            "Epoch 18/100000\n",
            "3029/3029 [==============================] - 2s 496us/step - loss: 0.9754 - accuracy: 0.7230 - f1: 0.6915 - val_loss: 1.1884 - val_accuracy: 0.6880 - val_f1: 0.7139\n",
            "Epoch 19/100000\n",
            "3029/3029 [==============================] - 2s 506us/step - loss: 0.8389 - accuracy: 0.7781 - f1: 0.7380 - val_loss: 1.1319 - val_accuracy: 0.7080 - val_f1: 0.7311\n",
            "Epoch 20/100000\n",
            "3029/3029 [==============================] - 2s 503us/step - loss: 0.7549 - accuracy: 0.7914 - f1: 0.7696 - val_loss: 1.0050 - val_accuracy: 0.7220 - val_f1: 0.7341\n",
            "Epoch 21/100000\n",
            "3029/3029 [==============================] - 2s 544us/step - loss: 0.6808 - accuracy: 0.8158 - f1: 0.7942 - val_loss: 1.0005 - val_accuracy: 0.7420 - val_f1: 0.7575\n",
            "Epoch 22/100000\n",
            "3029/3029 [==============================] - 2s 571us/step - loss: 0.5944 - accuracy: 0.8356 - f1: 0.8252 - val_loss: 1.0843 - val_accuracy: 0.7240 - val_f1: 0.7413\n",
            "Epoch 23/100000\n",
            "3029/3029 [==============================] - 2s 556us/step - loss: 0.5262 - accuracy: 0.8643 - f1: 0.8492 - val_loss: 0.9815 - val_accuracy: 0.7480 - val_f1: 0.7777\n",
            "Epoch 24/100000\n",
            "3029/3029 [==============================] - 2s 524us/step - loss: 0.4638 - accuracy: 0.8745 - f1: 0.8663 - val_loss: 1.0396 - val_accuracy: 0.7500 - val_f1: 0.7607\n",
            "Epoch 25/100000\n",
            "3029/3029 [==============================] - 2s 626us/step - loss: 0.4174 - accuracy: 0.8868 - f1: 0.8840 - val_loss: 1.1654 - val_accuracy: 0.7400 - val_f1: 0.7571\n",
            "Epoch 26/100000\n",
            "3029/3029 [==============================] - 2s 517us/step - loss: 0.3660 - accuracy: 0.9066 - f1: 0.8962 - val_loss: 1.0716 - val_accuracy: 0.7580 - val_f1: 0.7669\n",
            "Epoch 27/100000\n",
            "3029/3029 [==============================] - 2s 533us/step - loss: 0.3380 - accuracy: 0.9109 - f1: 0.9045 - val_loss: 0.9802 - val_accuracy: 0.7660 - val_f1: 0.7879\n",
            "Epoch 28/100000\n",
            "3029/3029 [==============================] - 2s 530us/step - loss: 0.3060 - accuracy: 0.9204 - f1: 0.9155 - val_loss: 1.0275 - val_accuracy: 0.7640 - val_f1: 0.7787\n",
            "Epoch 29/100000\n",
            "3029/3029 [==============================] - 2s 505us/step - loss: 0.2952 - accuracy: 0.9241 - f1: 0.9130 - val_loss: 1.0878 - val_accuracy: 0.7460 - val_f1: 0.7653\n",
            "Epoch 30/100000\n",
            "3029/3029 [==============================] - 2s 520us/step - loss: 0.2759 - accuracy: 0.9224 - f1: 0.9171 - val_loss: 1.0916 - val_accuracy: 0.7580 - val_f1: 0.7648\n",
            "Epoch 31/100000\n",
            "3029/3029 [==============================] - 2s 526us/step - loss: 0.2465 - accuracy: 0.9389 - f1: 0.9321 - val_loss: 1.0726 - val_accuracy: 0.7580 - val_f1: 0.7749\n",
            "Epoch 32/100000\n",
            "3029/3029 [==============================] - 2s 526us/step - loss: 0.2123 - accuracy: 0.9396 - f1: 0.9386 - val_loss: 1.1447 - val_accuracy: 0.7480 - val_f1: 0.7617\n",
            "Best F1:0.788, best accuracy:0.766\n",
            "f1_average: 0.7875630060831705, std:0.002240673138427171\n",
            "acc_average: 0.7719999949137369, std:0.004898989413652188\n"
          ],
          "name": "stdout"
        }
      ]
    },
    {
      "cell_type": "code",
      "metadata": {
        "id": "tgW3zSs1Ox9n",
        "colab_type": "code",
        "outputId": "3944acf5-f34e-41a1-d0d7-66cbc9110dca",
        "colab": {
          "base_uri": "https://localhost:8080/",
          "height": 1000
        }
      },
      "source": [
        "f1_scores, acc_scores = [], []\n",
        "for _ in range(number_of_attemp_to_fit):\n",
        "  f1_score, acc_score = run_cnn(train_data, test_data, w2v_model, MAX_SEQ_LEN, N_CLASSES )\n",
        "  f1_scores.append(f1_score)\n",
        "  acc_scores.append(acc_score)\n",
        "print(\"f1_average: {}, std:{}\".format(np.mean(f1_scores), np.std(f1_scores)))\n",
        "print(\"acc_average: {}, std:{}\".format(np.mean(acc_scores), np.std(acc_scores)))"
      ],
      "execution_count": 0,
      "outputs": [
        {
          "output_type": "stream",
          "text": [
            "Not found vectors 132 out of 6350 unique words\n",
            "Average sentence len:  10.240343347639485\n",
            "Max sentence len:  32\n",
            "1.802% of tokens were replaced by unk token index\n",
            "Average sentence len:  7.516\n",
            "Max sentence len:  17\n",
            "12.320% of tokens were replaced by unk token index\n",
            "Train on 3029 samples, validate on 500 samples\n",
            "Epoch 1/100000\n",
            "3029/3029 [==============================] - 0s 93us/step - loss: 3.6291 - accuracy: 0.1225 - f1: 0.0000e+00 - val_loss: 3.2968 - val_accuracy: 0.2360 - val_f1: 0.0000e+00\n",
            "Epoch 2/100000\n",
            "3029/3029 [==============================] - 0s 41us/step - loss: 3.1865 - accuracy: 0.1885 - f1: 7.0922e-04 - val_loss: 2.9458 - val_accuracy: 0.4400 - val_f1: 0.0000e+00\n",
            "Epoch 3/100000\n",
            "3029/3029 [==============================] - 0s 37us/step - loss: 2.8845 - accuracy: 0.3186 - f1: 0.0027 - val_loss: 2.6896 - val_accuracy: 0.5020 - val_f1: 0.0040\n",
            "Epoch 4/100000\n",
            "3029/3029 [==============================] - 0s 33us/step - loss: 2.5109 - accuracy: 0.3849 - f1: 0.1182 - val_loss: 2.3124 - val_accuracy: 0.5080 - val_f1: 0.1306\n",
            "Epoch 5/100000\n",
            "3029/3029 [==============================] - 0s 33us/step - loss: 2.1079 - accuracy: 0.4596 - f1: 0.3072 - val_loss: 2.0284 - val_accuracy: 0.5380 - val_f1: 0.4641\n",
            "Epoch 6/100000\n",
            "3029/3029 [==============================] - 0s 34us/step - loss: 1.7091 - accuracy: 0.6180 - f1: 0.4368 - val_loss: 1.7581 - val_accuracy: 0.5940 - val_f1: 0.5589\n",
            "Epoch 7/100000\n",
            "3029/3029 [==============================] - 0s 35us/step - loss: 1.3297 - accuracy: 0.7167 - f1: 0.5536 - val_loss: 1.5291 - val_accuracy: 0.6620 - val_f1: 0.5830\n",
            "Epoch 8/100000\n",
            "3029/3029 [==============================] - 0s 33us/step - loss: 0.9919 - accuracy: 0.8234 - f1: 0.6753 - val_loss: 1.3221 - val_accuracy: 0.7160 - val_f1: 0.6303\n",
            "Epoch 9/100000\n",
            "3029/3029 [==============================] - 0s 33us/step - loss: 0.7111 - accuracy: 0.8620 - f1: 0.7918 - val_loss: 1.1806 - val_accuracy: 0.7540 - val_f1: 0.6947\n",
            "Epoch 10/100000\n",
            "3029/3029 [==============================] - 0s 33us/step - loss: 0.4967 - accuracy: 0.9257 - f1: 0.8686 - val_loss: 1.0363 - val_accuracy: 0.7640 - val_f1: 0.7427\n",
            "Epoch 11/100000\n",
            "3029/3029 [==============================] - 0s 32us/step - loss: 0.3389 - accuracy: 0.9528 - f1: 0.9206 - val_loss: 0.9943 - val_accuracy: 0.7820 - val_f1: 0.7550\n",
            "Epoch 12/100000\n",
            "3029/3029 [==============================] - 0s 33us/step - loss: 0.2249 - accuracy: 0.9792 - f1: 0.9535 - val_loss: 0.8855 - val_accuracy: 0.8000 - val_f1: 0.7908\n",
            "Epoch 13/100000\n",
            "3029/3029 [==============================] - 0s 34us/step - loss: 0.1504 - accuracy: 0.9888 - f1: 0.9740 - val_loss: 0.8669 - val_accuracy: 0.8060 - val_f1: 0.7909\n",
            "Epoch 14/100000\n",
            "3029/3029 [==============================] - 0s 33us/step - loss: 0.0997 - accuracy: 0.9960 - f1: 0.9857 - val_loss: 0.8321 - val_accuracy: 0.8140 - val_f1: 0.7918\n",
            "Epoch 15/100000\n",
            "3029/3029 [==============================] - 0s 33us/step - loss: 0.0685 - accuracy: 0.9983 - f1: 0.9925 - val_loss: 0.8248 - val_accuracy: 0.8120 - val_f1: 0.8063\n",
            "Epoch 16/100000\n",
            "3029/3029 [==============================] - 0s 35us/step - loss: 0.0480 - accuracy: 0.9993 - f1: 0.9970 - val_loss: 0.7782 - val_accuracy: 0.8220 - val_f1: 0.8183\n",
            "Epoch 17/100000\n",
            "3029/3029 [==============================] - 0s 34us/step - loss: 0.0350 - accuracy: 0.9997 - f1: 0.9987 - val_loss: 0.7662 - val_accuracy: 0.8220 - val_f1: 0.8251\n",
            "Epoch 18/100000\n",
            "3029/3029 [==============================] - 0s 33us/step - loss: 0.0263 - accuracy: 0.9997 - f1: 0.9995 - val_loss: 0.7692 - val_accuracy: 0.8240 - val_f1: 0.8279\n",
            "Epoch 19/100000\n",
            "3029/3029 [==============================] - 0s 33us/step - loss: 0.0206 - accuracy: 1.0000 - f1: 1.0000 - val_loss: 0.7635 - val_accuracy: 0.8220 - val_f1: 0.8270\n",
            "Epoch 20/100000\n",
            "3029/3029 [==============================] - 0s 33us/step - loss: 0.0171 - accuracy: 1.0000 - f1: 1.0000 - val_loss: 0.7544 - val_accuracy: 0.8240 - val_f1: 0.8279\n",
            "Epoch 21/100000\n",
            "3029/3029 [==============================] - 0s 33us/step - loss: 0.0143 - accuracy: 1.0000 - f1: 1.0000 - val_loss: 0.7539 - val_accuracy: 0.8260 - val_f1: 0.8313\n",
            "Epoch 22/100000\n",
            "3029/3029 [==============================] - 0s 34us/step - loss: 0.0123 - accuracy: 1.0000 - f1: 1.0000 - val_loss: 0.7519 - val_accuracy: 0.8240 - val_f1: 0.8337\n",
            "Epoch 23/100000\n",
            "3029/3029 [==============================] - 0s 33us/step - loss: 0.0107 - accuracy: 1.0000 - f1: 1.0000 - val_loss: 0.7455 - val_accuracy: 0.8240 - val_f1: 0.8357\n",
            "Epoch 24/100000\n",
            "3029/3029 [==============================] - 0s 33us/step - loss: 0.0095 - accuracy: 1.0000 - f1: 1.0000 - val_loss: 0.7425 - val_accuracy: 0.8240 - val_f1: 0.8369\n",
            "Epoch 25/100000\n",
            "3029/3029 [==============================] - 0s 33us/step - loss: 0.0085 - accuracy: 1.0000 - f1: 1.0000 - val_loss: 0.7475 - val_accuracy: 0.8220 - val_f1: 0.8333\n",
            "Epoch 26/100000\n",
            "3029/3029 [==============================] - 0s 34us/step - loss: 0.0077 - accuracy: 1.0000 - f1: 1.0000 - val_loss: 0.7498 - val_accuracy: 0.8240 - val_f1: 0.8303\n",
            "Epoch 27/100000\n",
            "3029/3029 [==============================] - 0s 35us/step - loss: 0.0070 - accuracy: 1.0000 - f1: 1.0000 - val_loss: 0.7452 - val_accuracy: 0.8220 - val_f1: 0.8316\n",
            "Epoch 28/100000\n",
            "3029/3029 [==============================] - 0s 34us/step - loss: 0.0064 - accuracy: 1.0000 - f1: 1.0000 - val_loss: 0.7442 - val_accuracy: 0.8220 - val_f1: 0.8316\n",
            "Epoch 29/100000\n",
            "3029/3029 [==============================] - 0s 33us/step - loss: 0.0059 - accuracy: 1.0000 - f1: 1.0000 - val_loss: 0.7442 - val_accuracy: 0.8220 - val_f1: 0.8316\n",
            "Best F1:0.837, best accuracy:0.826\n",
            "Not found vectors 132 out of 6350 unique words\n",
            "Average sentence len:  10.240343347639485\n",
            "Max sentence len:  32\n",
            "1.802% of tokens were replaced by unk token index\n",
            "Average sentence len:  7.516\n",
            "Max sentence len:  17\n",
            "12.320% of tokens were replaced by unk token index\n",
            "Train on 3029 samples, validate on 500 samples\n",
            "Epoch 1/100000\n",
            "3029/3029 [==============================] - 0s 68us/step - loss: 3.6585 - accuracy: 0.1086 - f1: 0.0000e+00 - val_loss: 3.3012 - val_accuracy: 0.1700 - val_f1: 0.0000e+00\n",
            "Epoch 2/100000\n",
            "3029/3029 [==============================] - 0s 32us/step - loss: 3.1740 - accuracy: 0.1829 - f1: 0.0000e+00 - val_loss: 2.9662 - val_accuracy: 0.4780 - val_f1: 0.0000e+00\n",
            "Epoch 3/100000\n",
            "3029/3029 [==============================] - 0s 33us/step - loss: 2.8634 - accuracy: 0.3285 - f1: 0.0141 - val_loss: 2.6728 - val_accuracy: 0.5080 - val_f1: 0.0237\n",
            "Epoch 4/100000\n",
            "3029/3029 [==============================] - 0s 32us/step - loss: 2.4751 - accuracy: 0.3962 - f1: 0.1297 - val_loss: 2.2591 - val_accuracy: 0.5040 - val_f1: 0.1581\n",
            "Epoch 5/100000\n",
            "3029/3029 [==============================] - 0s 33us/step - loss: 2.0676 - accuracy: 0.4731 - f1: 0.3225 - val_loss: 1.9833 - val_accuracy: 0.5360 - val_f1: 0.4475\n",
            "Epoch 6/100000\n",
            "3029/3029 [==============================] - 0s 33us/step - loss: 1.6706 - accuracy: 0.6127 - f1: 0.4488 - val_loss: 1.7147 - val_accuracy: 0.6160 - val_f1: 0.5522\n",
            "Epoch 7/100000\n",
            "3029/3029 [==============================] - 0s 33us/step - loss: 1.2962 - accuracy: 0.7418 - f1: 0.5648 - val_loss: 1.5021 - val_accuracy: 0.6760 - val_f1: 0.5925\n",
            "Epoch 8/100000\n",
            "3029/3029 [==============================] - 0s 32us/step - loss: 0.9598 - accuracy: 0.8234 - f1: 0.6871 - val_loss: 1.2881 - val_accuracy: 0.7300 - val_f1: 0.6412\n",
            "Epoch 9/100000\n",
            "3029/3029 [==============================] - 0s 34us/step - loss: 0.6845 - accuracy: 0.8792 - f1: 0.7985 - val_loss: 1.1558 - val_accuracy: 0.7500 - val_f1: 0.7028\n",
            "Epoch 10/100000\n",
            "3029/3029 [==============================] - 0s 34us/step - loss: 0.4730 - accuracy: 0.9241 - f1: 0.8725 - val_loss: 1.0369 - val_accuracy: 0.7760 - val_f1: 0.7439\n",
            "Epoch 11/100000\n",
            "3029/3029 [==============================] - 0s 33us/step - loss: 0.3185 - accuracy: 0.9534 - f1: 0.9320 - val_loss: 0.9525 - val_accuracy: 0.7880 - val_f1: 0.7765\n",
            "Epoch 12/100000\n",
            "3029/3029 [==============================] - 0s 33us/step - loss: 0.2088 - accuracy: 0.9756 - f1: 0.9584 - val_loss: 0.9173 - val_accuracy: 0.7980 - val_f1: 0.7766\n",
            "Epoch 13/100000\n",
            "3029/3029 [==============================] - 0s 33us/step - loss: 0.1392 - accuracy: 0.9914 - f1: 0.9759 - val_loss: 0.8403 - val_accuracy: 0.8120 - val_f1: 0.7963\n",
            "Epoch 14/100000\n",
            "3029/3029 [==============================] - 0s 33us/step - loss: 0.0943 - accuracy: 0.9964 - f1: 0.9877 - val_loss: 0.8329 - val_accuracy: 0.8140 - val_f1: 0.8009\n",
            "Epoch 15/100000\n",
            "3029/3029 [==============================] - 0s 34us/step - loss: 0.0641 - accuracy: 0.9983 - f1: 0.9935 - val_loss: 0.8188 - val_accuracy: 0.8260 - val_f1: 0.8171\n",
            "Epoch 16/100000\n",
            "3029/3029 [==============================] - 0s 34us/step - loss: 0.0449 - accuracy: 0.9990 - f1: 0.9969 - val_loss: 0.7785 - val_accuracy: 0.8240 - val_f1: 0.8182\n",
            "Epoch 17/100000\n",
            "3029/3029 [==============================] - 0s 33us/step - loss: 0.0327 - accuracy: 0.9993 - f1: 0.9987 - val_loss: 0.7574 - val_accuracy: 0.8280 - val_f1: 0.8242\n",
            "Epoch 18/100000\n",
            "3029/3029 [==============================] - 0s 33us/step - loss: 0.0250 - accuracy: 0.9993 - f1: 0.9990 - val_loss: 0.7739 - val_accuracy: 0.8300 - val_f1: 0.8256\n",
            "Epoch 19/100000\n",
            "3029/3029 [==============================] - 0s 33us/step - loss: 0.0197 - accuracy: 1.0000 - f1: 1.0000 - val_loss: 0.7591 - val_accuracy: 0.8300 - val_f1: 0.8357\n",
            "Epoch 20/100000\n",
            "3029/3029 [==============================] - 0s 33us/step - loss: 0.0161 - accuracy: 1.0000 - f1: 1.0000 - val_loss: 0.7558 - val_accuracy: 0.8300 - val_f1: 0.8360\n",
            "Epoch 21/100000\n",
            "3029/3029 [==============================] - 0s 34us/step - loss: 0.0137 - accuracy: 1.0000 - f1: 1.0000 - val_loss: 0.7611 - val_accuracy: 0.8340 - val_f1: 0.8373\n",
            "Epoch 22/100000\n",
            "3029/3029 [==============================] - 0s 34us/step - loss: 0.0118 - accuracy: 1.0000 - f1: 1.0000 - val_loss: 0.7510 - val_accuracy: 0.8340 - val_f1: 0.8467\n",
            "Epoch 23/100000\n",
            "3029/3029 [==============================] - 0s 33us/step - loss: 0.0103 - accuracy: 1.0000 - f1: 1.0000 - val_loss: 0.7501 - val_accuracy: 0.8320 - val_f1: 0.8402\n",
            "Epoch 24/100000\n",
            "3029/3029 [==============================] - 0s 33us/step - loss: 0.0093 - accuracy: 1.0000 - f1: 1.0000 - val_loss: 0.7529 - val_accuracy: 0.8320 - val_f1: 0.8405\n",
            "Epoch 25/100000\n",
            "3029/3029 [==============================] - 0s 35us/step - loss: 0.0083 - accuracy: 1.0000 - f1: 1.0000 - val_loss: 0.7479 - val_accuracy: 0.8360 - val_f1: 0.8419\n",
            "Epoch 26/100000\n",
            "3029/3029 [==============================] - 0s 33us/step - loss: 0.0076 - accuracy: 1.0000 - f1: 1.0000 - val_loss: 0.7501 - val_accuracy: 0.8360 - val_f1: 0.8430\n",
            "Epoch 27/100000\n",
            "3029/3029 [==============================] - 0s 33us/step - loss: 0.0069 - accuracy: 1.0000 - f1: 1.0000 - val_loss: 0.7517 - val_accuracy: 0.8360 - val_f1: 0.8409\n",
            "Epoch 28/100000\n",
            "3029/3029 [==============================] - 0s 34us/step - loss: 0.0063 - accuracy: 1.0000 - f1: 1.0000 - val_loss: 0.7498 - val_accuracy: 0.8340 - val_f1: 0.8412\n",
            "Epoch 29/100000\n",
            "3029/3029 [==============================] - 0s 35us/step - loss: 0.0058 - accuracy: 1.0000 - f1: 1.0000 - val_loss: 0.7481 - val_accuracy: 0.8360 - val_f1: 0.8406\n",
            "Epoch 30/100000\n",
            "3029/3029 [==============================] - 0s 33us/step - loss: 0.0054 - accuracy: 1.0000 - f1: 1.0000 - val_loss: 0.7494 - val_accuracy: 0.8360 - val_f1: 0.8397\n",
            "Best F1:0.847, best accuracy:0.836\n",
            "Not found vectors 132 out of 6350 unique words\n",
            "Average sentence len:  10.240343347639485\n",
            "Max sentence len:  32\n",
            "1.802% of tokens were replaced by unk token index\n",
            "Average sentence len:  7.516\n",
            "Max sentence len:  17\n",
            "12.320% of tokens were replaced by unk token index\n",
            "Train on 3029 samples, validate on 500 samples\n",
            "Epoch 1/100000\n",
            "3029/3029 [==============================] - 0s 76us/step - loss: 3.6309 - accuracy: 0.1007 - f1: 0.0000e+00 - val_loss: 3.2113 - val_accuracy: 0.1140 - val_f1: 0.0000e+00\n",
            "Epoch 2/100000\n",
            "3029/3029 [==============================] - 0s 33us/step - loss: 3.1818 - accuracy: 0.1783 - f1: 0.0000e+00 - val_loss: 2.9703 - val_accuracy: 0.4700 - val_f1: 0.0000e+00\n",
            "Epoch 3/100000\n",
            "3029/3029 [==============================] - 0s 36us/step - loss: 2.8802 - accuracy: 0.3169 - f1: 0.0021 - val_loss: 2.7455 - val_accuracy: 0.4920 - val_f1: 0.0040\n",
            "Epoch 4/100000\n",
            "3029/3029 [==============================] - 0s 33us/step - loss: 2.5162 - accuracy: 0.3876 - f1: 0.0809 - val_loss: 2.3255 - val_accuracy: 0.4980 - val_f1: 0.1236\n",
            "Epoch 5/100000\n",
            "3029/3029 [==============================] - 0s 33us/step - loss: 2.1018 - accuracy: 0.4731 - f1: 0.3024 - val_loss: 1.9974 - val_accuracy: 0.5640 - val_f1: 0.4379\n",
            "Epoch 6/100000\n",
            "3029/3029 [==============================] - 0s 33us/step - loss: 1.6985 - accuracy: 0.6052 - f1: 0.4223 - val_loss: 1.7330 - val_accuracy: 0.6300 - val_f1: 0.5333\n",
            "Epoch 7/100000\n",
            "3029/3029 [==============================] - 0s 33us/step - loss: 1.3232 - accuracy: 0.7124 - f1: 0.5657 - val_loss: 1.4833 - val_accuracy: 0.6900 - val_f1: 0.5881\n",
            "Epoch 8/100000\n",
            "3029/3029 [==============================] - 0s 33us/step - loss: 0.9934 - accuracy: 0.8102 - f1: 0.6819 - val_loss: 1.2452 - val_accuracy: 0.7420 - val_f1: 0.6464\n",
            "Epoch 9/100000\n",
            "3029/3029 [==============================] - 0s 33us/step - loss: 0.7168 - accuracy: 0.8597 - f1: 0.7829 - val_loss: 1.1451 - val_accuracy: 0.7600 - val_f1: 0.6971\n",
            "Epoch 10/100000\n",
            "3029/3029 [==============================] - 0s 33us/step - loss: 0.5032 - accuracy: 0.9188 - f1: 0.8603 - val_loss: 0.9990 - val_accuracy: 0.7780 - val_f1: 0.7530\n",
            "Epoch 11/100000\n",
            "3029/3029 [==============================] - 0s 33us/step - loss: 0.3419 - accuracy: 0.9561 - f1: 0.9163 - val_loss: 0.9237 - val_accuracy: 0.7800 - val_f1: 0.7718\n",
            "Epoch 12/100000\n",
            "3029/3029 [==============================] - 0s 35us/step - loss: 0.2282 - accuracy: 0.9762 - f1: 0.9549 - val_loss: 0.8610 - val_accuracy: 0.8040 - val_f1: 0.7834\n",
            "Epoch 13/100000\n",
            "3029/3029 [==============================] - 0s 35us/step - loss: 0.1513 - accuracy: 0.9881 - f1: 0.9727 - val_loss: 0.8140 - val_accuracy: 0.8060 - val_f1: 0.8135\n",
            "Epoch 14/100000\n",
            "3029/3029 [==============================] - 0s 32us/step - loss: 0.0994 - accuracy: 0.9954 - f1: 0.9862 - val_loss: 0.7903 - val_accuracy: 0.8060 - val_f1: 0.8147\n",
            "Epoch 15/100000\n",
            "3029/3029 [==============================] - 0s 33us/step - loss: 0.0682 - accuracy: 0.9987 - f1: 0.9921 - val_loss: 0.7519 - val_accuracy: 0.8180 - val_f1: 0.8234\n",
            "Epoch 16/100000\n",
            "3029/3029 [==============================] - 0s 34us/step - loss: 0.0476 - accuracy: 0.9990 - f1: 0.9961 - val_loss: 0.7416 - val_accuracy: 0.8160 - val_f1: 0.8280\n",
            "Epoch 17/100000\n",
            "3029/3029 [==============================] - 0s 33us/step - loss: 0.0343 - accuracy: 0.9993 - f1: 0.9985 - val_loss: 0.7206 - val_accuracy: 0.8160 - val_f1: 0.8341\n",
            "Epoch 18/100000\n",
            "3029/3029 [==============================] - 0s 33us/step - loss: 0.0259 - accuracy: 0.9997 - f1: 0.9996 - val_loss: 0.7078 - val_accuracy: 0.8180 - val_f1: 0.8364\n",
            "Epoch 19/100000\n",
            "3029/3029 [==============================] - 0s 34us/step - loss: 0.0208 - accuracy: 0.9993 - f1: 0.9995 - val_loss: 0.7098 - val_accuracy: 0.8200 - val_f1: 0.8414\n",
            "Epoch 20/100000\n",
            "3029/3029 [==============================] - 0s 33us/step - loss: 0.0168 - accuracy: 0.9997 - f1: 0.9997 - val_loss: 0.7050 - val_accuracy: 0.8220 - val_f1: 0.8384\n",
            "Epoch 21/100000\n",
            "3029/3029 [==============================] - 0s 34us/step - loss: 0.0144 - accuracy: 0.9997 - f1: 0.9997 - val_loss: 0.7003 - val_accuracy: 0.8220 - val_f1: 0.8400\n",
            "Epoch 22/100000\n",
            "3029/3029 [==============================] - 0s 35us/step - loss: 0.0124 - accuracy: 0.9997 - f1: 0.9997 - val_loss: 0.7023 - val_accuracy: 0.8200 - val_f1: 0.8382\n",
            "Epoch 23/100000\n",
            "3029/3029 [==============================] - 0s 33us/step - loss: 0.0109 - accuracy: 0.9997 - f1: 0.9997 - val_loss: 0.6952 - val_accuracy: 0.8200 - val_f1: 0.8409\n",
            "Epoch 24/100000\n",
            "3029/3029 [==============================] - 0s 33us/step - loss: 0.0096 - accuracy: 1.0000 - f1: 1.0000 - val_loss: 0.6924 - val_accuracy: 0.8300 - val_f1: 0.8412\n",
            "Epoch 25/100000\n",
            "3029/3029 [==============================] - 0s 33us/step - loss: 0.0089 - accuracy: 0.9997 - f1: 0.9997 - val_loss: 0.7001 - val_accuracy: 0.8220 - val_f1: 0.8358\n",
            "Epoch 26/100000\n",
            "3029/3029 [==============================] - 0s 33us/step - loss: 0.0078 - accuracy: 1.0000 - f1: 1.0000 - val_loss: 0.7011 - val_accuracy: 0.8220 - val_f1: 0.8367\n",
            "Epoch 27/100000\n",
            "3029/3029 [==============================] - 0s 33us/step - loss: 0.0071 - accuracy: 1.0000 - f1: 1.0000 - val_loss: 0.6928 - val_accuracy: 0.8220 - val_f1: 0.8367\n",
            "Epoch 28/100000\n",
            "3029/3029 [==============================] - 0s 33us/step - loss: 0.0065 - accuracy: 1.0000 - f1: 1.0000 - val_loss: 0.6898 - val_accuracy: 0.8280 - val_f1: 0.8385\n",
            "Epoch 29/100000\n",
            "3029/3029 [==============================] - 0s 33us/step - loss: 0.0060 - accuracy: 1.0000 - f1: 1.0000 - val_loss: 0.6922 - val_accuracy: 0.8240 - val_f1: 0.8356\n",
            "Epoch 30/100000\n",
            "3029/3029 [==============================] - 0s 33us/step - loss: 0.0056 - accuracy: 1.0000 - f1: 1.0000 - val_loss: 0.6956 - val_accuracy: 0.8200 - val_f1: 0.8356\n",
            "Epoch 31/100000\n",
            "3029/3029 [==============================] - 0s 33us/step - loss: 0.0052 - accuracy: 1.0000 - f1: 1.0000 - val_loss: 0.6948 - val_accuracy: 0.8220 - val_f1: 0.8365\n",
            "Epoch 32/100000\n",
            "3029/3029 [==============================] - 0s 34us/step - loss: 0.0049 - accuracy: 1.0000 - f1: 1.0000 - val_loss: 0.6935 - val_accuracy: 0.8220 - val_f1: 0.8378\n",
            "Epoch 33/100000\n",
            "3029/3029 [==============================] - 0s 33us/step - loss: 0.0045 - accuracy: 1.0000 - f1: 1.0000 - val_loss: 0.6921 - val_accuracy: 0.8240 - val_f1: 0.8347\n",
            "Best F1:0.841, best accuracy:0.830\n",
            "f1_average: 0.8416619698206583, std:0.003980894043438776\n",
            "acc_average: 0.8306666612625122, std:0.004109630555878041\n"
          ],
          "name": "stdout"
        }
      ]
    },
    {
      "cell_type": "markdown",
      "metadata": {
        "id": "LnqeR9WFf25E",
        "colab_type": "text"
      },
      "source": [
        "### 4000k"
      ]
    },
    {
      "cell_type": "code",
      "metadata": {
        "colab_type": "code",
        "id": "7gCWoxF6j8Ay",
        "colab": {}
      },
      "source": [
        "number_of_attemp_to_fit = 3"
      ],
      "execution_count": 0,
      "outputs": []
    },
    {
      "cell_type": "code",
      "metadata": {
        "colab_type": "code",
        "id": "hPtuu6ITj8A2",
        "colab": {}
      },
      "source": [
        "train_data, test_data, l2i = read_trec50('trec50_splited/trec50_4k.csv')"
      ],
      "execution_count": 0,
      "outputs": []
    },
    {
      "cell_type": "code",
      "metadata": {
        "colab_type": "code",
        "id": "N1BjTuVqj8A5",
        "colab": {}
      },
      "source": [
        "MAX_SEQ_LEN, N_CLASSES = 37, len(train_data.lbl_index.unique())"
      ],
      "execution_count": 0,
      "outputs": []
    },
    {
      "cell_type": "code",
      "metadata": {
        "colab_type": "code",
        "outputId": "7a9376c0-3061-4196-8249-c17377654963",
        "id": "t-B63hAOj8A7",
        "colab": {
          "base_uri": "https://localhost:8080/",
          "height": 1000
        }
      },
      "source": [
        "f1_scores, acc_scores = [], []\n",
        "for _ in range(number_of_attemp_to_fit):\n",
        "  f1_score, acc_score = run_lstm(train_data, test_data, w2v_model, MAX_SEQ_LEN, N_CLASSES )\n",
        "  f1_scores.append(f1_score)\n",
        "  acc_scores.append(acc_score)\n",
        "print(\"f1_average: {}, std:{}\".format(np.mean(f1_scores), np.std(f1_scores)))\n",
        "print(\"acc_average: {}, std:{}\".format(np.mean(acc_scores), np.std(acc_scores)))"
      ],
      "execution_count": 0,
      "outputs": [
        {
          "output_type": "stream",
          "text": [
            "Not found vectors 171 out of 7707 unique words\n",
            "Average sentence len:  10.186639979984989\n",
            "Max sentence len:  37\n",
            "1.987% of tokens were replaced by unk token index\n",
            "Average sentence len:  7.516\n",
            "Max sentence len:  17\n",
            "11.336% of tokens were replaced by unk token index\n",
            "Train on 3997 samples, validate on 500 samples\n",
            "Epoch 1/100000\n",
            "3997/3997 [==============================] - 3s 817us/step - loss: 3.6224 - accuracy: 0.1529 - f1: 0.0000e+00 - val_loss: 3.3555 - val_accuracy: 0.1100 - val_f1: 0.0000e+00\n",
            "Epoch 2/100000\n",
            "3997/3997 [==============================] - 2s 585us/step - loss: 3.1959 - accuracy: 0.1636 - f1: 0.0000e+00 - val_loss: 3.0915 - val_accuracy: 0.1100 - val_f1: 0.0000e+00\n",
            "Epoch 3/100000\n",
            "3997/3997 [==============================] - 2s 562us/step - loss: 3.0118 - accuracy: 0.1979 - f1: 6.0386e-04 - val_loss: 2.9892 - val_accuracy: 0.2160 - val_f1: 0.0000e+00\n",
            "Epoch 4/100000\n",
            "3997/3997 [==============================] - 2s 560us/step - loss: 2.8231 - accuracy: 0.2735 - f1: 0.0735 - val_loss: 2.7822 - val_accuracy: 0.4520 - val_f1: 0.1541\n",
            "Epoch 5/100000\n",
            "3997/3997 [==============================] - 2s 565us/step - loss: 2.6642 - accuracy: 0.3135 - f1: 0.1612 - val_loss: 2.5837 - val_accuracy: 0.4400 - val_f1: 0.1642\n",
            "Epoch 6/100000\n",
            "3997/3997 [==============================] - 2s 530us/step - loss: 2.5344 - accuracy: 0.3543 - f1: 0.1986 - val_loss: 2.3935 - val_accuracy: 0.4620 - val_f1: 0.1673\n",
            "Epoch 7/100000\n",
            "3997/3997 [==============================] - 2s 561us/step - loss: 2.4504 - accuracy: 0.3705 - f1: 0.2269 - val_loss: 2.2849 - val_accuracy: 0.4980 - val_f1: 0.2312\n",
            "Epoch 8/100000\n",
            "3997/3997 [==============================] - 2s 518us/step - loss: 2.3352 - accuracy: 0.3960 - f1: 0.2799 - val_loss: 2.1448 - val_accuracy: 0.5180 - val_f1: 0.4620\n",
            "Epoch 9/100000\n",
            "3997/3997 [==============================] - 2s 522us/step - loss: 2.2445 - accuracy: 0.4131 - f1: 0.3226 - val_loss: 2.0391 - val_accuracy: 0.5440 - val_f1: 0.5320\n",
            "Epoch 10/100000\n",
            "3997/3997 [==============================] - 2s 547us/step - loss: 2.1429 - accuracy: 0.4378 - f1: 0.3715 - val_loss: 1.9232 - val_accuracy: 0.5360 - val_f1: 0.5908\n",
            "Epoch 11/100000\n",
            "3997/3997 [==============================] - 2s 527us/step - loss: 2.0638 - accuracy: 0.4513 - f1: 0.4092 - val_loss: 1.8228 - val_accuracy: 0.5820 - val_f1: 0.6126\n",
            "Epoch 12/100000\n",
            "3997/3997 [==============================] - 2s 511us/step - loss: 1.9598 - accuracy: 0.4769 - f1: 0.4515 - val_loss: 1.7829 - val_accuracy: 0.5740 - val_f1: 0.6164\n",
            "Epoch 13/100000\n",
            "3997/3997 [==============================] - 2s 536us/step - loss: 1.8558 - accuracy: 0.5056 - f1: 0.4936 - val_loss: 1.7673 - val_accuracy: 0.5760 - val_f1: 0.6238\n",
            "Epoch 14/100000\n",
            "3997/3997 [==============================] - 2s 566us/step - loss: 1.7372 - accuracy: 0.5274 - f1: 0.5345 - val_loss: 1.7254 - val_accuracy: 0.5940 - val_f1: 0.6410\n",
            "Epoch 15/100000\n",
            "3997/3997 [==============================] - 2s 538us/step - loss: 1.6173 - accuracy: 0.5694 - f1: 0.5653 - val_loss: 1.6060 - val_accuracy: 0.5900 - val_f1: 0.6448\n",
            "Epoch 16/100000\n",
            "3997/3997 [==============================] - 2s 555us/step - loss: 1.4941 - accuracy: 0.6007 - f1: 0.5879 - val_loss: 1.5411 - val_accuracy: 0.6000 - val_f1: 0.6691\n",
            "Epoch 17/100000\n",
            "3997/3997 [==============================] - 2s 526us/step - loss: 1.3895 - accuracy: 0.6280 - f1: 0.6266 - val_loss: 1.6250 - val_accuracy: 0.5960 - val_f1: 0.6764\n",
            "Epoch 18/100000\n",
            "3997/3997 [==============================] - 2s 566us/step - loss: 1.3453 - accuracy: 0.6347 - f1: 0.6224 - val_loss: 1.5329 - val_accuracy: 0.6080 - val_f1: 0.6667\n",
            "Epoch 19/100000\n",
            "3997/3997 [==============================] - 2s 559us/step - loss: 1.2640 - accuracy: 0.6620 - f1: 0.6608 - val_loss: 1.4978 - val_accuracy: 0.6280 - val_f1: 0.6832\n",
            "Epoch 20/100000\n",
            "3997/3997 [==============================] - 2s 523us/step - loss: 1.1438 - accuracy: 0.6815 - f1: 0.6868 - val_loss: 1.4842 - val_accuracy: 0.6320 - val_f1: 0.6819\n",
            "Epoch 21/100000\n",
            "3997/3997 [==============================] - 2s 516us/step - loss: 1.0467 - accuracy: 0.7108 - f1: 0.7112 - val_loss: 1.4575 - val_accuracy: 0.6420 - val_f1: 0.6787\n",
            "Epoch 22/100000\n",
            "3997/3997 [==============================] - 2s 506us/step - loss: 0.9564 - accuracy: 0.7376 - f1: 0.7267 - val_loss: 1.4575 - val_accuracy: 0.6540 - val_f1: 0.6934\n",
            "Epoch 23/100000\n",
            "3997/3997 [==============================] - 2s 532us/step - loss: 0.8749 - accuracy: 0.7641 - f1: 0.7583 - val_loss: 1.4235 - val_accuracy: 0.6600 - val_f1: 0.6966\n",
            "Epoch 24/100000\n",
            "3997/3997 [==============================] - 2s 507us/step - loss: 0.8162 - accuracy: 0.7781 - f1: 0.7625 - val_loss: 1.4308 - val_accuracy: 0.6700 - val_f1: 0.6850\n",
            "Epoch 25/100000\n",
            "3997/3997 [==============================] - 2s 522us/step - loss: 0.7487 - accuracy: 0.7928 - f1: 0.7880 - val_loss: 1.3319 - val_accuracy: 0.7080 - val_f1: 0.7302\n",
            "Epoch 26/100000\n",
            "3997/3997 [==============================] - 2s 529us/step - loss: 0.6953 - accuracy: 0.8051 - f1: 0.8018 - val_loss: 1.3692 - val_accuracy: 0.6820 - val_f1: 0.7119\n",
            "Epoch 27/100000\n",
            "3997/3997 [==============================] - 2s 525us/step - loss: 0.6358 - accuracy: 0.8299 - f1: 0.8199 - val_loss: 1.3836 - val_accuracy: 0.6860 - val_f1: 0.7171\n",
            "Epoch 28/100000\n",
            "3997/3997 [==============================] - 2s 528us/step - loss: 0.5677 - accuracy: 0.8479 - f1: 0.8417 - val_loss: 1.3672 - val_accuracy: 0.6900 - val_f1: 0.7172\n",
            "Epoch 29/100000\n",
            "3997/3997 [==============================] - 2s 536us/step - loss: 0.5176 - accuracy: 0.8624 - f1: 0.8552 - val_loss: 1.3508 - val_accuracy: 0.7060 - val_f1: 0.7257\n",
            "Epoch 30/100000\n",
            "3997/3997 [==============================] - 2s 539us/step - loss: 0.4854 - accuracy: 0.8659 - f1: 0.8610 - val_loss: 1.3873 - val_accuracy: 0.7000 - val_f1: 0.7298\n",
            "Best F1:0.730, best accuracy:0.708\n",
            "Not found vectors 171 out of 7707 unique words\n",
            "Average sentence len:  10.186639979984989\n",
            "Max sentence len:  37\n",
            "1.987% of tokens were replaced by unk token index\n",
            "Average sentence len:  7.516\n",
            "Max sentence len:  17\n",
            "11.336% of tokens were replaced by unk token index\n",
            "Train on 3997 samples, validate on 500 samples\n",
            "Epoch 1/100000\n",
            "3997/3997 [==============================] - 4s 889us/step - loss: 3.6385 - accuracy: 0.1534 - f1: 0.0000e+00 - val_loss: 3.3180 - val_accuracy: 0.1100 - val_f1: 0.0000e+00\n",
            "Epoch 2/100000\n",
            "3997/3997 [==============================] - 2s 606us/step - loss: 3.2213 - accuracy: 0.1636 - f1: 0.0000e+00 - val_loss: 3.1690 - val_accuracy: 0.1100 - val_f1: 0.0000e+00\n",
            "Epoch 3/100000\n",
            "3997/3997 [==============================] - 2s 509us/step - loss: 3.0778 - accuracy: 0.1841 - f1: 0.0000e+00 - val_loss: 3.0242 - val_accuracy: 0.1920 - val_f1: 0.0000e+00\n",
            "Epoch 4/100000\n",
            "3997/3997 [==============================] - 2s 517us/step - loss: 2.9031 - accuracy: 0.2537 - f1: 0.0093 - val_loss: 2.8280 - val_accuracy: 0.2380 - val_f1: 0.0000e+00\n",
            "Epoch 5/100000\n",
            "3997/3997 [==============================] - 2s 548us/step - loss: 2.7266 - accuracy: 0.3117 - f1: 0.0968 - val_loss: 2.6324 - val_accuracy: 0.4680 - val_f1: 0.1505\n",
            "Epoch 6/100000\n",
            "3997/3997 [==============================] - 2s 522us/step - loss: 2.6083 - accuracy: 0.3453 - f1: 0.1759 - val_loss: 2.4609 - val_accuracy: 0.4780 - val_f1: 0.1625\n",
            "Epoch 7/100000\n",
            "3997/3997 [==============================] - 2s 520us/step - loss: 2.5052 - accuracy: 0.3685 - f1: 0.2017 - val_loss: 2.3236 - val_accuracy: 0.4960 - val_f1: 0.1763\n",
            "Epoch 8/100000\n",
            "3997/3997 [==============================] - 2s 572us/step - loss: 2.3983 - accuracy: 0.3838 - f1: 0.2771 - val_loss: 2.1912 - val_accuracy: 0.4940 - val_f1: 0.5117\n",
            "Epoch 9/100000\n",
            "3997/3997 [==============================] - 2s 553us/step - loss: 2.2999 - accuracy: 0.4073 - f1: 0.3554 - val_loss: 2.1733 - val_accuracy: 0.4800 - val_f1: 0.5413\n",
            "Epoch 10/100000\n",
            "3997/3997 [==============================] - 2s 563us/step - loss: 2.1908 - accuracy: 0.4406 - f1: 0.4008 - val_loss: 2.1089 - val_accuracy: 0.5140 - val_f1: 0.5368\n",
            "Epoch 11/100000\n",
            "3997/3997 [==============================] - 2s 619us/step - loss: 2.1169 - accuracy: 0.4406 - f1: 0.4035 - val_loss: 2.0066 - val_accuracy: 0.5460 - val_f1: 0.5316\n",
            "Epoch 12/100000\n",
            "3997/3997 [==============================] - 2s 545us/step - loss: 1.9921 - accuracy: 0.4864 - f1: 0.4667 - val_loss: 1.8908 - val_accuracy: 0.5840 - val_f1: 0.5806\n",
            "Epoch 13/100000\n",
            "3997/3997 [==============================] - 2s 548us/step - loss: 1.8802 - accuracy: 0.5109 - f1: 0.5005 - val_loss: 1.8038 - val_accuracy: 0.5860 - val_f1: 0.5961\n",
            "Epoch 14/100000\n",
            "3997/3997 [==============================] - 2s 576us/step - loss: 1.7934 - accuracy: 0.5301 - f1: 0.5178 - val_loss: 1.7215 - val_accuracy: 0.6020 - val_f1: 0.6036\n",
            "Epoch 15/100000\n",
            "3997/3997 [==============================] - 2s 539us/step - loss: 1.7295 - accuracy: 0.5512 - f1: 0.5256 - val_loss: 1.6973 - val_accuracy: 0.5800 - val_f1: 0.6173\n",
            "Epoch 16/100000\n",
            "3997/3997 [==============================] - 2s 519us/step - loss: 1.6421 - accuracy: 0.5732 - f1: 0.5473 - val_loss: 1.6696 - val_accuracy: 0.5880 - val_f1: 0.6477\n",
            "Epoch 17/100000\n",
            "3997/3997 [==============================] - 2s 524us/step - loss: 1.5120 - accuracy: 0.5964 - f1: 0.5865 - val_loss: 1.6019 - val_accuracy: 0.6140 - val_f1: 0.6650\n",
            "Epoch 18/100000\n",
            "3997/3997 [==============================] - 2s 613us/step - loss: 1.4047 - accuracy: 0.6272 - f1: 0.6141 - val_loss: 1.5370 - val_accuracy: 0.6480 - val_f1: 0.6804\n",
            "Epoch 19/100000\n",
            "3997/3997 [==============================] - 2s 569us/step - loss: 1.2973 - accuracy: 0.6515 - f1: 0.6544 - val_loss: 1.5737 - val_accuracy: 0.6320 - val_f1: 0.6731\n",
            "Epoch 20/100000\n",
            "3997/3997 [==============================] - 2s 524us/step - loss: 1.2056 - accuracy: 0.6728 - f1: 0.6737 - val_loss: 1.4621 - val_accuracy: 0.6460 - val_f1: 0.6957\n",
            "Epoch 21/100000\n",
            "3997/3997 [==============================] - 2s 526us/step - loss: 1.1244 - accuracy: 0.6955 - f1: 0.6909 - val_loss: 1.4457 - val_accuracy: 0.6540 - val_f1: 0.7024\n",
            "Epoch 22/100000\n",
            "3997/3997 [==============================] - 2s 622us/step - loss: 1.0543 - accuracy: 0.7065 - f1: 0.7093 - val_loss: 1.4859 - val_accuracy: 0.6500 - val_f1: 0.6910\n",
            "Epoch 23/100000\n",
            "3997/3997 [==============================] - 2s 505us/step - loss: 0.9690 - accuracy: 0.7371 - f1: 0.7380 - val_loss: 1.4831 - val_accuracy: 0.6680 - val_f1: 0.6824\n",
            "Epoch 24/100000\n",
            "3997/3997 [==============================] - 2s 564us/step - loss: 0.8915 - accuracy: 0.7596 - f1: 0.7537 - val_loss: 1.4181 - val_accuracy: 0.6820 - val_f1: 0.7123\n",
            "Epoch 25/100000\n",
            "3997/3997 [==============================] - 2s 533us/step - loss: 0.8086 - accuracy: 0.7801 - f1: 0.7673 - val_loss: 1.5312 - val_accuracy: 0.6760 - val_f1: 0.6886\n",
            "Epoch 26/100000\n",
            "3997/3997 [==============================] - 2s 568us/step - loss: 0.7542 - accuracy: 0.7908 - f1: 0.7857 - val_loss: 1.4589 - val_accuracy: 0.6820 - val_f1: 0.7026\n",
            "Epoch 27/100000\n",
            "3997/3997 [==============================] - 2s 523us/step - loss: 0.7139 - accuracy: 0.8046 - f1: 0.7943 - val_loss: 1.4627 - val_accuracy: 0.6860 - val_f1: 0.7028\n",
            "Epoch 28/100000\n",
            "3997/3997 [==============================] - 2s 610us/step - loss: 0.6356 - accuracy: 0.8221 - f1: 0.8227 - val_loss: 1.3903 - val_accuracy: 0.6760 - val_f1: 0.7159\n",
            "Epoch 29/100000\n",
            "3997/3997 [==============================] - 2s 542us/step - loss: 0.5761 - accuracy: 0.8406 - f1: 0.8348 - val_loss: 1.4909 - val_accuracy: 0.6840 - val_f1: 0.7178\n",
            "Epoch 30/100000\n",
            "3997/3997 [==============================] - 2s 538us/step - loss: 0.5292 - accuracy: 0.8539 - f1: 0.8497 - val_loss: 1.4187 - val_accuracy: 0.6900 - val_f1: 0.7242\n",
            "Epoch 31/100000\n",
            "3997/3997 [==============================] - 2s 537us/step - loss: 0.4752 - accuracy: 0.8672 - f1: 0.8651 - val_loss: 1.3447 - val_accuracy: 0.7080 - val_f1: 0.7431\n",
            "Epoch 32/100000\n",
            "3997/3997 [==============================] - 2s 525us/step - loss: 0.4093 - accuracy: 0.8899 - f1: 0.8837 - val_loss: 1.4545 - val_accuracy: 0.6860 - val_f1: 0.7222\n",
            "Epoch 33/100000\n",
            "3997/3997 [==============================] - 2s 550us/step - loss: 0.3708 - accuracy: 0.8977 - f1: 0.8937 - val_loss: 1.3618 - val_accuracy: 0.7120 - val_f1: 0.7459\n",
            "Epoch 34/100000\n",
            "3997/3997 [==============================] - 2s 581us/step - loss: 0.3440 - accuracy: 0.9084 - f1: 0.9015 - val_loss: 1.4315 - val_accuracy: 0.7000 - val_f1: 0.7398\n",
            "Epoch 35/100000\n",
            "3997/3997 [==============================] - 2s 526us/step - loss: 0.3080 - accuracy: 0.9174 - f1: 0.9151 - val_loss: 1.4383 - val_accuracy: 0.7380 - val_f1: 0.7561\n",
            "Epoch 36/100000\n",
            "3997/3997 [==============================] - 2s 538us/step - loss: 0.2951 - accuracy: 0.9159 - f1: 0.9174 - val_loss: 1.5442 - val_accuracy: 0.7120 - val_f1: 0.7398\n",
            "Best F1:0.756, best accuracy:0.738\n",
            "Not found vectors 171 out of 7707 unique words\n",
            "Average sentence len:  10.186639979984989\n",
            "Max sentence len:  37\n",
            "1.987% of tokens were replaced by unk token index\n",
            "Average sentence len:  7.516\n",
            "Max sentence len:  17\n",
            "11.336% of tokens were replaced by unk token index\n",
            "Train on 3997 samples, validate on 500 samples\n",
            "Epoch 1/100000\n",
            "3997/3997 [==============================] - 3s 835us/step - loss: 3.6182 - accuracy: 0.1456 - f1: 0.0000e+00 - val_loss: 3.1932 - val_accuracy: 0.1100 - val_f1: 0.0000e+00\n",
            "Epoch 2/100000\n",
            "3997/3997 [==============================] - 2s 526us/step - loss: 3.2067 - accuracy: 0.1646 - f1: 0.0000e+00 - val_loss: 3.1561 - val_accuracy: 0.2340 - val_f1: 0.0000e+00\n",
            "Epoch 3/100000\n",
            "3997/3997 [==============================] - 2s 546us/step - loss: 3.0846 - accuracy: 0.1841 - f1: 9.7276e-04 - val_loss: 2.9599 - val_accuracy: 0.4200 - val_f1: 0.0000e+00\n",
            "Epoch 4/100000\n",
            "3997/3997 [==============================] - 2s 597us/step - loss: 2.8792 - accuracy: 0.2785 - f1: 0.0343 - val_loss: 2.7376 - val_accuracy: 0.4700 - val_f1: 0.1092\n",
            "Epoch 5/100000\n",
            "3997/3997 [==============================] - 2s 538us/step - loss: 2.6789 - accuracy: 0.3340 - f1: 0.1632 - val_loss: 2.5385 - val_accuracy: 0.4580 - val_f1: 0.1733\n",
            "Epoch 6/100000\n",
            "3997/3997 [==============================] - 2s 532us/step - loss: 2.5402 - accuracy: 0.3713 - f1: 0.2221 - val_loss: 2.3451 - val_accuracy: 0.4760 - val_f1: 0.2222\n",
            "Epoch 7/100000\n",
            "3997/3997 [==============================] - 2s 528us/step - loss: 2.4055 - accuracy: 0.3943 - f1: 0.3084 - val_loss: 2.1752 - val_accuracy: 0.4740 - val_f1: 0.5410\n",
            "Epoch 8/100000\n",
            "3997/3997 [==============================] - 2s 523us/step - loss: 2.2856 - accuracy: 0.4178 - f1: 0.3716 - val_loss: 2.0706 - val_accuracy: 0.4940 - val_f1: 0.5392\n",
            "Epoch 9/100000\n",
            "3997/3997 [==============================] - 2s 536us/step - loss: 2.1604 - accuracy: 0.4426 - f1: 0.4136 - val_loss: 1.9525 - val_accuracy: 0.5380 - val_f1: 0.5474\n",
            "Epoch 10/100000\n",
            "3997/3997 [==============================] - 3s 636us/step - loss: 2.0452 - accuracy: 0.4791 - f1: 0.4508 - val_loss: 1.8969 - val_accuracy: 0.5400 - val_f1: 0.5876\n",
            "Epoch 11/100000\n",
            "3997/3997 [==============================] - 2s 521us/step - loss: 1.9256 - accuracy: 0.5086 - f1: 0.4882 - val_loss: 1.9041 - val_accuracy: 0.5520 - val_f1: 0.5725\n",
            "Epoch 12/100000\n",
            "3997/3997 [==============================] - 2s 512us/step - loss: 1.8069 - accuracy: 0.5387 - f1: 0.5199 - val_loss: 1.7034 - val_accuracy: 0.6060 - val_f1: 0.6177\n",
            "Epoch 13/100000\n",
            "3997/3997 [==============================] - 2s 569us/step - loss: 1.6817 - accuracy: 0.5714 - f1: 0.5457 - val_loss: 1.7315 - val_accuracy: 0.5920 - val_f1: 0.6129\n",
            "Epoch 14/100000\n",
            "3997/3997 [==============================] - 2s 544us/step - loss: 1.5754 - accuracy: 0.5977 - f1: 0.5693 - val_loss: 1.5742 - val_accuracy: 0.6140 - val_f1: 0.6691\n",
            "Epoch 15/100000\n",
            "3997/3997 [==============================] - 2s 543us/step - loss: 1.5089 - accuracy: 0.6155 - f1: 0.5917 - val_loss: 1.6278 - val_accuracy: 0.6080 - val_f1: 0.6619\n",
            "Epoch 16/100000\n",
            "3997/3997 [==============================] - 2s 551us/step - loss: 1.3993 - accuracy: 0.6347 - f1: 0.6251 - val_loss: 1.5264 - val_accuracy: 0.6060 - val_f1: 0.6781\n",
            "Epoch 17/100000\n",
            "3997/3997 [==============================] - 2s 529us/step - loss: 1.3043 - accuracy: 0.6547 - f1: 0.6542 - val_loss: 1.4577 - val_accuracy: 0.6340 - val_f1: 0.6850\n",
            "Epoch 18/100000\n",
            "3997/3997 [==============================] - 2s 530us/step - loss: 1.1997 - accuracy: 0.6853 - f1: 0.6833 - val_loss: 1.4142 - val_accuracy: 0.6340 - val_f1: 0.6971\n",
            "Epoch 19/100000\n",
            "3997/3997 [==============================] - 2s 565us/step - loss: 1.1136 - accuracy: 0.7080 - f1: 0.7026 - val_loss: 1.3563 - val_accuracy: 0.6700 - val_f1: 0.6957\n",
            "Epoch 20/100000\n",
            "3997/3997 [==============================] - 2s 536us/step - loss: 1.0398 - accuracy: 0.7288 - f1: 0.7249 - val_loss: 1.3809 - val_accuracy: 0.6840 - val_f1: 0.6852\n",
            "Epoch 21/100000\n",
            "3997/3997 [==============================] - 2s 548us/step - loss: 0.9371 - accuracy: 0.7403 - f1: 0.7468 - val_loss: 1.3429 - val_accuracy: 0.6580 - val_f1: 0.6872\n",
            "Epoch 22/100000\n",
            "3997/3997 [==============================] - 2s 576us/step - loss: 0.8672 - accuracy: 0.7673 - f1: 0.7627 - val_loss: 1.4046 - val_accuracy: 0.6800 - val_f1: 0.6919\n",
            "Epoch 23/100000\n",
            "3997/3997 [==============================] - 2s 575us/step - loss: 0.8000 - accuracy: 0.7841 - f1: 0.7823 - val_loss: 1.3969 - val_accuracy: 0.6940 - val_f1: 0.6950\n",
            "Epoch 24/100000\n",
            "3997/3997 [==============================] - 2s 612us/step - loss: 0.7296 - accuracy: 0.8046 - f1: 0.8034 - val_loss: 1.2777 - val_accuracy: 0.7000 - val_f1: 0.7308\n",
            "Epoch 25/100000\n",
            "3997/3997 [==============================] - 2s 527us/step - loss: 0.6735 - accuracy: 0.8226 - f1: 0.8092 - val_loss: 1.3426 - val_accuracy: 0.6800 - val_f1: 0.7146\n",
            "Epoch 26/100000\n",
            "3997/3997 [==============================] - 2s 557us/step - loss: 0.6284 - accuracy: 0.8291 - f1: 0.8269 - val_loss: 1.4404 - val_accuracy: 0.6720 - val_f1: 0.7064\n",
            "Epoch 27/100000\n",
            "3997/3997 [==============================] - 2s 531us/step - loss: 0.5481 - accuracy: 0.8544 - f1: 0.8442 - val_loss: 1.3167 - val_accuracy: 0.7000 - val_f1: 0.7343\n",
            "Epoch 28/100000\n",
            "3997/3997 [==============================] - 2s 517us/step - loss: 0.4945 - accuracy: 0.8719 - f1: 0.8613 - val_loss: 1.3986 - val_accuracy: 0.7040 - val_f1: 0.7311\n",
            "Epoch 29/100000\n",
            "3997/3997 [==============================] - 2s 558us/step - loss: 0.4559 - accuracy: 0.8759 - f1: 0.8697 - val_loss: 1.3638 - val_accuracy: 0.7020 - val_f1: 0.7237\n",
            "Best F1:0.734, best accuracy:0.704\n",
            "f1_average: 0.740190327167511, std:0.011391914636737388\n",
            "acc_average: 0.7166666587193807, std:0.0151730644160614\n"
          ],
          "name": "stdout"
        }
      ]
    },
    {
      "cell_type": "code",
      "metadata": {
        "colab_type": "code",
        "outputId": "6e63adab-bdbb-4477-d6e3-9379e11a6437",
        "id": "SjoL4ebyj8A-",
        "colab": {
          "base_uri": "https://localhost:8080/",
          "height": 1000
        }
      },
      "source": [
        "f1_scores, acc_scores = [], []\n",
        "for _ in range(number_of_attemp_to_fit):\n",
        "  f1_score, acc_score = run_cnn(train_data, test_data, w2v_model, MAX_SEQ_LEN, N_CLASSES )\n",
        "  f1_scores.append(f1_score)\n",
        "  acc_scores.append(acc_score)\n",
        "print(\"f1_average: {}, std:{}\".format(np.mean(f1_scores), np.std(f1_scores)))\n",
        "print(\"acc_average: {}, std:{}\".format(np.mean(acc_scores), np.std(acc_scores)))"
      ],
      "execution_count": 0,
      "outputs": [
        {
          "output_type": "stream",
          "text": [
            "Not found vectors 171 out of 7707 unique words\n",
            "Average sentence len:  10.186639979984989\n",
            "Max sentence len:  37\n",
            "1.987% of tokens were replaced by unk token index\n",
            "Average sentence len:  7.516\n",
            "Max sentence len:  17\n",
            "11.336% of tokens were replaced by unk token index\n",
            "Train on 3997 samples, validate on 500 samples\n",
            "Epoch 1/100000\n",
            "3997/3997 [==============================] - 0s 87us/step - loss: 3.3881 - accuracy: 0.1479 - f1: 0.0000e+00 - val_loss: 3.0289 - val_accuracy: 0.3920 - val_f1: 0.0000e+00\n",
            "Epoch 2/100000\n",
            "3997/3997 [==============================] - 0s 32us/step - loss: 2.8624 - accuracy: 0.3247 - f1: 0.0190 - val_loss: 2.6770 - val_accuracy: 0.4540 - val_f1: 0.0119\n",
            "Epoch 3/100000\n",
            "3997/3997 [==============================] - 0s 34us/step - loss: 2.4359 - accuracy: 0.4058 - f1: 0.1709 - val_loss: 2.2796 - val_accuracy: 0.4980 - val_f1: 0.4299\n",
            "Epoch 4/100000\n",
            "3997/3997 [==============================] - 0s 35us/step - loss: 2.0264 - accuracy: 0.4899 - f1: 0.3862 - val_loss: 1.9399 - val_accuracy: 0.5560 - val_f1: 0.5582\n",
            "Epoch 5/100000\n",
            "3997/3997 [==============================] - 0s 33us/step - loss: 1.6473 - accuracy: 0.5912 - f1: 0.5143 - val_loss: 1.6878 - val_accuracy: 0.6040 - val_f1: 0.6059\n",
            "Epoch 6/100000\n",
            "3997/3997 [==============================] - 0s 34us/step - loss: 1.3076 - accuracy: 0.6928 - f1: 0.6267 - val_loss: 1.4882 - val_accuracy: 0.6560 - val_f1: 0.6537\n",
            "Epoch 7/100000\n",
            "3997/3997 [==============================] - 0s 33us/step - loss: 1.0141 - accuracy: 0.7711 - f1: 0.7174 - val_loss: 1.3413 - val_accuracy: 0.6800 - val_f1: 0.6877\n",
            "Epoch 8/100000\n",
            "3997/3997 [==============================] - 0s 34us/step - loss: 0.7598 - accuracy: 0.8486 - f1: 0.7911 - val_loss: 1.2383 - val_accuracy: 0.7180 - val_f1: 0.7169\n",
            "Epoch 9/100000\n",
            "3997/3997 [==============================] - 0s 33us/step - loss: 0.5393 - accuracy: 0.9087 - f1: 0.8540 - val_loss: 1.1057 - val_accuracy: 0.7520 - val_f1: 0.7589\n",
            "Epoch 10/100000\n",
            "3997/3997 [==============================] - 0s 32us/step - loss: 0.3687 - accuracy: 0.9465 - f1: 0.9037 - val_loss: 1.0353 - val_accuracy: 0.7580 - val_f1: 0.7703\n",
            "Epoch 11/100000\n",
            "3997/3997 [==============================] - 0s 34us/step - loss: 0.2433 - accuracy: 0.9715 - f1: 0.9400 - val_loss: 0.9756 - val_accuracy: 0.7720 - val_f1: 0.7897\n",
            "Epoch 12/100000\n",
            "3997/3997 [==============================] - 0s 33us/step - loss: 0.1568 - accuracy: 0.9885 - f1: 0.9694 - val_loss: 0.9384 - val_accuracy: 0.7820 - val_f1: 0.7954\n",
            "Epoch 13/100000\n",
            "3997/3997 [==============================] - 0s 33us/step - loss: 0.1026 - accuracy: 0.9930 - f1: 0.9833 - val_loss: 0.9037 - val_accuracy: 0.7900 - val_f1: 0.8136\n",
            "Epoch 14/100000\n",
            "3997/3997 [==============================] - 0s 33us/step - loss: 0.0677 - accuracy: 0.9980 - f1: 0.9921 - val_loss: 0.8690 - val_accuracy: 0.7960 - val_f1: 0.8072\n",
            "Epoch 15/100000\n",
            "3997/3997 [==============================] - 0s 33us/step - loss: 0.0456 - accuracy: 0.9995 - f1: 0.9957 - val_loss: 0.8636 - val_accuracy: 0.7980 - val_f1: 0.8138\n",
            "Epoch 16/100000\n",
            "3997/3997 [==============================] - 0s 34us/step - loss: 0.0331 - accuracy: 1.0000 - f1: 0.9981 - val_loss: 0.8515 - val_accuracy: 0.7980 - val_f1: 0.8168\n",
            "Epoch 17/100000\n",
            "3997/3997 [==============================] - 0s 33us/step - loss: 0.0240 - accuracy: 1.0000 - f1: 0.9994 - val_loss: 0.8374 - val_accuracy: 0.7960 - val_f1: 0.8224\n",
            "Epoch 18/100000\n",
            "3997/3997 [==============================] - 0s 33us/step - loss: 0.0188 - accuracy: 1.0000 - f1: 0.9995 - val_loss: 0.8406 - val_accuracy: 0.8060 - val_f1: 0.8188\n",
            "Epoch 19/100000\n",
            "3997/3997 [==============================] - 0s 35us/step - loss: 0.0151 - accuracy: 1.0000 - f1: 0.9998 - val_loss: 0.8411 - val_accuracy: 0.8080 - val_f1: 0.8256\n",
            "Epoch 20/100000\n",
            "3997/3997 [==============================] - 0s 33us/step - loss: 0.0125 - accuracy: 1.0000 - f1: 1.0000 - val_loss: 0.8366 - val_accuracy: 0.8040 - val_f1: 0.8221\n",
            "Epoch 21/100000\n",
            "3997/3997 [==============================] - 0s 33us/step - loss: 0.0106 - accuracy: 1.0000 - f1: 1.0000 - val_loss: 0.8420 - val_accuracy: 0.8040 - val_f1: 0.8198\n",
            "Epoch 22/100000\n",
            "3997/3997 [==============================] - 0s 33us/step - loss: 0.0091 - accuracy: 1.0000 - f1: 1.0000 - val_loss: 0.8357 - val_accuracy: 0.8060 - val_f1: 0.8198\n",
            "Epoch 23/100000\n",
            "3997/3997 [==============================] - 0s 33us/step - loss: 0.0079 - accuracy: 1.0000 - f1: 1.0000 - val_loss: 0.8407 - val_accuracy: 0.8080 - val_f1: 0.8211\n",
            "Epoch 24/100000\n",
            "3997/3997 [==============================] - 0s 34us/step - loss: 0.0071 - accuracy: 1.0000 - f1: 1.0000 - val_loss: 0.8432 - val_accuracy: 0.8080 - val_f1: 0.8202\n",
            "Epoch 25/100000\n",
            "3997/3997 [==============================] - 0s 33us/step - loss: 0.0063 - accuracy: 1.0000 - f1: 1.0000 - val_loss: 0.8409 - val_accuracy: 0.8080 - val_f1: 0.8181\n",
            "Epoch 26/100000\n",
            "3997/3997 [==============================] - 0s 34us/step - loss: 0.0057 - accuracy: 1.0000 - f1: 1.0000 - val_loss: 0.8429 - val_accuracy: 0.8080 - val_f1: 0.8185\n",
            "Epoch 27/100000\n",
            "3997/3997 [==============================] - 0s 33us/step - loss: 0.0052 - accuracy: 1.0000 - f1: 1.0000 - val_loss: 0.8446 - val_accuracy: 0.8080 - val_f1: 0.8189\n",
            "Best F1:0.826, best accuracy:0.808\n",
            "Not found vectors 171 out of 7707 unique words\n",
            "Average sentence len:  10.186639979984989\n",
            "Max sentence len:  37\n",
            "1.987% of tokens were replaced by unk token index\n",
            "Average sentence len:  7.516\n",
            "Max sentence len:  17\n",
            "11.336% of tokens were replaced by unk token index\n",
            "Train on 3997 samples, validate on 500 samples\n",
            "Epoch 1/100000\n",
            "3997/3997 [==============================] - 0s 60us/step - loss: 3.4722 - accuracy: 0.1381 - f1: 0.0000e+00 - val_loss: 3.1527 - val_accuracy: 0.1120 - val_f1: 0.0000e+00\n",
            "Epoch 2/100000\n",
            "3997/3997 [==============================] - 0s 32us/step - loss: 2.9451 - accuracy: 0.3047 - f1: 0.0174 - val_loss: 2.8679 - val_accuracy: 0.3880 - val_f1: 0.0119\n",
            "Epoch 3/100000\n",
            "3997/3997 [==============================] - 0s 33us/step - loss: 2.5379 - accuracy: 0.3775 - f1: 0.1320 - val_loss: 2.4654 - val_accuracy: 0.5180 - val_f1: 0.1547\n",
            "Epoch 4/100000\n",
            "3997/3997 [==============================] - 0s 34us/step - loss: 2.1141 - accuracy: 0.4749 - f1: 0.3435 - val_loss: 2.0440 - val_accuracy: 0.5240 - val_f1: 0.4790\n",
            "Epoch 5/100000\n",
            "3997/3997 [==============================] - 0s 33us/step - loss: 1.7230 - accuracy: 0.5724 - f1: 0.4905 - val_loss: 1.7432 - val_accuracy: 0.5880 - val_f1: 0.6088\n",
            "Epoch 6/100000\n",
            "3997/3997 [==============================] - 0s 33us/step - loss: 1.3828 - accuracy: 0.6780 - f1: 0.6026 - val_loss: 1.5172 - val_accuracy: 0.6440 - val_f1: 0.6384\n",
            "Epoch 7/100000\n",
            "3997/3997 [==============================] - 0s 33us/step - loss: 1.0742 - accuracy: 0.7656 - f1: 0.6950 - val_loss: 1.3730 - val_accuracy: 0.6740 - val_f1: 0.6752\n",
            "Epoch 8/100000\n",
            "3997/3997 [==============================] - 0s 34us/step - loss: 0.8076 - accuracy: 0.8379 - f1: 0.7717 - val_loss: 1.2373 - val_accuracy: 0.7020 - val_f1: 0.7101\n",
            "Epoch 9/100000\n",
            "3997/3997 [==============================] - 0s 33us/step - loss: 0.5803 - accuracy: 0.8934 - f1: 0.8409 - val_loss: 1.1467 - val_accuracy: 0.7280 - val_f1: 0.7257\n",
            "Epoch 10/100000\n",
            "3997/3997 [==============================] - 0s 32us/step - loss: 0.3933 - accuracy: 0.9395 - f1: 0.8961 - val_loss: 1.0588 - val_accuracy: 0.7520 - val_f1: 0.7589\n",
            "Epoch 11/100000\n",
            "3997/3997 [==============================] - 0s 33us/step - loss: 0.2598 - accuracy: 0.9730 - f1: 0.9365 - val_loss: 0.9923 - val_accuracy: 0.7720 - val_f1: 0.7719\n",
            "Epoch 12/100000\n",
            "3997/3997 [==============================] - 0s 33us/step - loss: 0.1688 - accuracy: 0.9855 - f1: 0.9646 - val_loss: 0.9517 - val_accuracy: 0.7720 - val_f1: 0.7818\n",
            "Epoch 13/100000\n",
            "3997/3997 [==============================] - 0s 32us/step - loss: 0.1075 - accuracy: 0.9940 - f1: 0.9829 - val_loss: 0.9019 - val_accuracy: 0.7840 - val_f1: 0.7964\n",
            "Epoch 14/100000\n",
            "3997/3997 [==============================] - 0s 33us/step - loss: 0.0709 - accuracy: 0.9972 - f1: 0.9903 - val_loss: 0.8880 - val_accuracy: 0.7820 - val_f1: 0.7964\n",
            "Epoch 15/100000\n",
            "3997/3997 [==============================] - 0s 32us/step - loss: 0.0473 - accuracy: 0.9990 - f1: 0.9959 - val_loss: 0.8793 - val_accuracy: 0.7900 - val_f1: 0.8049\n",
            "Epoch 16/100000\n",
            "3997/3997 [==============================] - 0s 32us/step - loss: 0.0329 - accuracy: 0.9995 - f1: 0.9981 - val_loss: 0.8554 - val_accuracy: 0.8000 - val_f1: 0.8075\n",
            "Epoch 17/100000\n",
            "3997/3997 [==============================] - 0s 33us/step - loss: 0.0242 - accuracy: 0.9997 - f1: 0.9995 - val_loss: 0.8499 - val_accuracy: 0.8040 - val_f1: 0.8119\n",
            "Epoch 18/100000\n",
            "3997/3997 [==============================] - 0s 33us/step - loss: 0.0184 - accuracy: 1.0000 - f1: 0.9997 - val_loss: 0.8546 - val_accuracy: 0.8020 - val_f1: 0.8123\n",
            "Epoch 19/100000\n",
            "3997/3997 [==============================] - 0s 34us/step - loss: 0.0148 - accuracy: 1.0000 - f1: 0.9999 - val_loss: 0.8568 - val_accuracy: 0.8000 - val_f1: 0.8118\n",
            "Epoch 20/100000\n",
            "3997/3997 [==============================] - 0s 33us/step - loss: 0.0122 - accuracy: 1.0000 - f1: 1.0000 - val_loss: 0.8455 - val_accuracy: 0.8060 - val_f1: 0.8087\n",
            "Epoch 21/100000\n",
            "3997/3997 [==============================] - 0s 33us/step - loss: 0.0103 - accuracy: 1.0000 - f1: 1.0000 - val_loss: 0.8553 - val_accuracy: 0.8020 - val_f1: 0.8148\n",
            "Epoch 22/100000\n",
            "3997/3997 [==============================] - 0s 32us/step - loss: 0.0089 - accuracy: 1.0000 - f1: 1.0000 - val_loss: 0.8524 - val_accuracy: 0.8020 - val_f1: 0.8122\n",
            "Epoch 23/100000\n",
            "3997/3997 [==============================] - 0s 32us/step - loss: 0.0078 - accuracy: 1.0000 - f1: 1.0000 - val_loss: 0.8540 - val_accuracy: 0.8020 - val_f1: 0.8104\n",
            "Epoch 24/100000\n",
            "3997/3997 [==============================] - 0s 33us/step - loss: 0.0069 - accuracy: 1.0000 - f1: 1.0000 - val_loss: 0.8562 - val_accuracy: 0.8020 - val_f1: 0.8103\n",
            "Epoch 25/100000\n",
            "3997/3997 [==============================] - 0s 33us/step - loss: 0.0062 - accuracy: 1.0000 - f1: 1.0000 - val_loss: 0.8576 - val_accuracy: 0.8020 - val_f1: 0.8095\n",
            "Best F1:0.815, best accuracy:0.806\n",
            "Not found vectors 171 out of 7707 unique words\n",
            "Average sentence len:  10.186639979984989\n",
            "Max sentence len:  37\n",
            "1.987% of tokens were replaced by unk token index\n",
            "Average sentence len:  7.516\n",
            "Max sentence len:  17\n",
            "11.336% of tokens were replaced by unk token index\n",
            "Train on 3997 samples, validate on 500 samples\n",
            "Epoch 1/100000\n",
            "3997/3997 [==============================] - 0s 59us/step - loss: 3.4345 - accuracy: 0.1491 - f1: 0.0000e+00 - val_loss: 3.0764 - val_accuracy: 0.3800 - val_f1: 0.0000e+00\n",
            "Epoch 2/100000\n",
            "3997/3997 [==============================] - 0s 32us/step - loss: 2.8520 - accuracy: 0.3265 - f1: 0.0187 - val_loss: 2.6871 - val_accuracy: 0.4720 - val_f1: 0.0276\n",
            "Epoch 3/100000\n",
            "3997/3997 [==============================] - 0s 33us/step - loss: 2.3923 - accuracy: 0.4281 - f1: 0.2084 - val_loss: 2.2625 - val_accuracy: 0.4940 - val_f1: 0.4383\n",
            "Epoch 4/100000\n",
            "3997/3997 [==============================] - 0s 33us/step - loss: 1.9893 - accuracy: 0.5066 - f1: 0.4183 - val_loss: 1.9457 - val_accuracy: 0.5340 - val_f1: 0.5642\n",
            "Epoch 5/100000\n",
            "3997/3997 [==============================] - 0s 33us/step - loss: 1.6278 - accuracy: 0.6052 - f1: 0.5350 - val_loss: 1.6757 - val_accuracy: 0.6140 - val_f1: 0.6092\n",
            "Epoch 6/100000\n",
            "3997/3997 [==============================] - 0s 33us/step - loss: 1.2935 - accuracy: 0.6988 - f1: 0.6417 - val_loss: 1.4812 - val_accuracy: 0.6580 - val_f1: 0.6606\n",
            "Epoch 7/100000\n",
            "3997/3997 [==============================] - 0s 34us/step - loss: 0.9957 - accuracy: 0.7716 - f1: 0.7255 - val_loss: 1.3350 - val_accuracy: 0.6780 - val_f1: 0.6927\n",
            "Epoch 8/100000\n",
            "3997/3997 [==============================] - 0s 34us/step - loss: 0.7386 - accuracy: 0.8551 - f1: 0.7912 - val_loss: 1.2067 - val_accuracy: 0.7080 - val_f1: 0.7186\n",
            "Epoch 9/100000\n",
            "3997/3997 [==============================] - 0s 34us/step - loss: 0.5146 - accuracy: 0.9109 - f1: 0.8570 - val_loss: 1.1215 - val_accuracy: 0.7500 - val_f1: 0.7373\n",
            "Epoch 10/100000\n",
            "3997/3997 [==============================] - 0s 34us/step - loss: 0.3498 - accuracy: 0.9532 - f1: 0.9058 - val_loss: 1.0430 - val_accuracy: 0.7640 - val_f1: 0.7691\n",
            "Epoch 11/100000\n",
            "3997/3997 [==============================] - 0s 33us/step - loss: 0.2235 - accuracy: 0.9777 - f1: 0.9494 - val_loss: 0.9890 - val_accuracy: 0.7760 - val_f1: 0.7751\n",
            "Epoch 12/100000\n",
            "3997/3997 [==============================] - 0s 34us/step - loss: 0.1430 - accuracy: 0.9900 - f1: 0.9726 - val_loss: 0.9805 - val_accuracy: 0.7720 - val_f1: 0.7831\n",
            "Epoch 13/100000\n",
            "3997/3997 [==============================] - 0s 33us/step - loss: 0.0927 - accuracy: 0.9947 - f1: 0.9843 - val_loss: 0.9189 - val_accuracy: 0.7980 - val_f1: 0.7923\n",
            "Epoch 14/100000\n",
            "3997/3997 [==============================] - 0s 37us/step - loss: 0.0616 - accuracy: 0.9980 - f1: 0.9922 - val_loss: 0.9268 - val_accuracy: 0.7920 - val_f1: 0.7905\n",
            "Epoch 15/100000\n",
            "3997/3997 [==============================] - 0s 33us/step - loss: 0.0421 - accuracy: 0.9995 - f1: 0.9967 - val_loss: 0.9176 - val_accuracy: 0.7980 - val_f1: 0.8009\n",
            "Epoch 16/100000\n",
            "3997/3997 [==============================] - 0s 33us/step - loss: 0.0302 - accuracy: 0.9995 - f1: 0.9987 - val_loss: 0.9000 - val_accuracy: 0.7980 - val_f1: 0.8000\n",
            "Epoch 17/100000\n",
            "3997/3997 [==============================] - 0s 33us/step - loss: 0.0228 - accuracy: 0.9997 - f1: 0.9987 - val_loss: 0.8885 - val_accuracy: 0.7980 - val_f1: 0.8044\n",
            "Epoch 18/100000\n",
            "3997/3997 [==============================] - 0s 32us/step - loss: 0.0178 - accuracy: 1.0000 - f1: 0.9995 - val_loss: 0.9072 - val_accuracy: 0.7980 - val_f1: 0.8062\n",
            "Epoch 19/100000\n",
            "3997/3997 [==============================] - 0s 33us/step - loss: 0.0145 - accuracy: 1.0000 - f1: 0.9998 - val_loss: 0.8981 - val_accuracy: 0.8000 - val_f1: 0.8075\n",
            "Epoch 20/100000\n",
            "3997/3997 [==============================] - 0s 33us/step - loss: 0.0119 - accuracy: 1.0000 - f1: 1.0000 - val_loss: 0.8992 - val_accuracy: 0.8000 - val_f1: 0.8083\n",
            "Epoch 21/100000\n",
            "3997/3997 [==============================] - 0s 34us/step - loss: 0.0100 - accuracy: 1.0000 - f1: 1.0000 - val_loss: 0.8976 - val_accuracy: 0.8000 - val_f1: 0.8109\n",
            "Epoch 22/100000\n",
            "3997/3997 [==============================] - 0s 33us/step - loss: 0.0087 - accuracy: 1.0000 - f1: 1.0000 - val_loss: 0.9030 - val_accuracy: 0.8000 - val_f1: 0.8109\n",
            "Best F1:0.811, best accuracy:0.800\n",
            "f1_average: 0.8170843323071798, std:0.006211818692057819\n",
            "acc_average: 0.8046666781107584, std:0.0033993493349167253\n"
          ],
          "name": "stdout"
        }
      ]
    },
    {
      "cell_type": "markdown",
      "metadata": {
        "id": "Z4g4HJovhrm5",
        "colab_type": "text"
      },
      "source": [
        "### 5000"
      ]
    },
    {
      "cell_type": "code",
      "metadata": {
        "colab_type": "code",
        "id": "14UZBM9CkQbQ",
        "colab": {}
      },
      "source": [
        "number_of_attemp_to_fit = 3"
      ],
      "execution_count": 0,
      "outputs": []
    },
    {
      "cell_type": "code",
      "metadata": {
        "colab_type": "code",
        "id": "75NxoUA5kQbT",
        "colab": {}
      },
      "source": [
        "train_data, test_data, l2i = read_trec50('trec50_splited/trec50_5k.csv')"
      ],
      "execution_count": 0,
      "outputs": []
    },
    {
      "cell_type": "code",
      "metadata": {
        "colab_type": "code",
        "id": "bSeU3AOmkQbV",
        "colab": {}
      },
      "source": [
        "MAX_SEQ_LEN, N_CLASSES = 37, len(train_data.lbl_index.unique())"
      ],
      "execution_count": 0,
      "outputs": []
    },
    {
      "cell_type": "code",
      "metadata": {
        "colab_type": "code",
        "outputId": "a637da86-1897-4535-ed1b-0996166344aa",
        "id": "dE8tbOn4kQbY",
        "colab": {
          "base_uri": "https://localhost:8080/",
          "height": 1000
        }
      },
      "source": [
        "f1_scores, acc_scores = [], []\n",
        "for _ in range(number_of_attemp_to_fit):\n",
        "  f1_score, acc_score = run_lstm(train_data, test_data, w2v_model, MAX_SEQ_LEN, N_CLASSES )\n",
        "  f1_scores.append(f1_score)\n",
        "  acc_scores.append(acc_score)\n",
        "print(\"f1_average: {}, std:{}\".format(np.mean(f1_scores), np.std(f1_scores)))\n",
        "print(\"acc_average: {}, std:{}\".format(np.mean(acc_scores), np.std(acc_scores)))"
      ],
      "execution_count": 0,
      "outputs": [
        {
          "output_type": "stream",
          "text": [
            "Not found vectors 200 out of 8924 unique words\n",
            "Average sentence len:  10.208824116590138\n",
            "Max sentence len:  37\n",
            "1.918% of tokens were replaced by unk token index\n",
            "Average sentence len:  7.516\n",
            "Max sentence len:  17\n",
            "10.378% of tokens were replaced by unk token index\n",
            "Train on 5009 samples, validate on 500 samples\n",
            "Epoch 1/100000\n",
            "5009/5009 [==============================] - 4s 774us/step - loss: 3.5453 - accuracy: 0.1523 - f1: 0.0000e+00 - val_loss: 3.2598 - val_accuracy: 0.1140 - val_f1: 0.0000e+00\n",
            "Epoch 2/100000\n",
            "5009/5009 [==============================] - 3s 543us/step - loss: 3.0566 - accuracy: 0.1976 - f1: 0.0000e+00 - val_loss: 3.0245 - val_accuracy: 0.2380 - val_f1: 0.0000e+00\n",
            "Epoch 3/100000\n",
            "5009/5009 [==============================] - 3s 548us/step - loss: 2.7919 - accuracy: 0.2801 - f1: 0.0323 - val_loss: 2.8363 - val_accuracy: 0.2460 - val_f1: 0.1096\n",
            "Epoch 4/100000\n",
            "5009/5009 [==============================] - 3s 526us/step - loss: 2.5684 - accuracy: 0.3354 - f1: 0.1684 - val_loss: 2.6184 - val_accuracy: 0.4360 - val_f1: 0.1863\n",
            "Epoch 5/100000\n",
            "5009/5009 [==============================] - 3s 545us/step - loss: 2.4221 - accuracy: 0.3825 - f1: 0.2331 - val_loss: 2.3892 - val_accuracy: 0.4400 - val_f1: 0.1937\n",
            "Epoch 6/100000\n",
            "5009/5009 [==============================] - 3s 523us/step - loss: 2.2572 - accuracy: 0.4196 - f1: 0.3184 - val_loss: 2.1779 - val_accuracy: 0.5060 - val_f1: 0.5525\n",
            "Epoch 7/100000\n",
            "5009/5009 [==============================] - 3s 545us/step - loss: 2.1235 - accuracy: 0.4624 - f1: 0.4093 - val_loss: 2.0084 - val_accuracy: 0.5560 - val_f1: 0.5330\n",
            "Epoch 8/100000\n",
            "5009/5009 [==============================] - 3s 524us/step - loss: 1.9928 - accuracy: 0.4903 - f1: 0.4606 - val_loss: 1.8783 - val_accuracy: 0.5600 - val_f1: 0.5819\n",
            "Epoch 9/100000\n",
            "5009/5009 [==============================] - 3s 529us/step - loss: 1.8439 - accuracy: 0.5251 - f1: 0.5121 - val_loss: 1.8516 - val_accuracy: 0.5760 - val_f1: 0.5826\n",
            "Epoch 10/100000\n",
            "5009/5009 [==============================] - 3s 533us/step - loss: 1.7224 - accuracy: 0.5492 - f1: 0.5459 - val_loss: 1.7716 - val_accuracy: 0.5840 - val_f1: 0.6182\n",
            "Epoch 11/100000\n",
            "5009/5009 [==============================] - 3s 558us/step - loss: 1.6243 - accuracy: 0.5808 - f1: 0.5675 - val_loss: 1.6704 - val_accuracy: 0.6060 - val_f1: 0.6386\n",
            "Epoch 12/100000\n",
            "5009/5009 [==============================] - 3s 558us/step - loss: 1.5045 - accuracy: 0.6049 - f1: 0.6031 - val_loss: 1.6225 - val_accuracy: 0.6180 - val_f1: 0.6535\n",
            "Epoch 13/100000\n",
            "5009/5009 [==============================] - 3s 551us/step - loss: 1.3892 - accuracy: 0.6295 - f1: 0.6318 - val_loss: 1.6067 - val_accuracy: 0.6040 - val_f1: 0.6472\n",
            "Epoch 14/100000\n",
            "5009/5009 [==============================] - 3s 528us/step - loss: 1.3333 - accuracy: 0.6592 - f1: 0.6496 - val_loss: 1.5419 - val_accuracy: 0.6500 - val_f1: 0.6667\n",
            "Epoch 15/100000\n",
            "5009/5009 [==============================] - 3s 521us/step - loss: 1.2428 - accuracy: 0.6736 - f1: 0.6855 - val_loss: 1.5195 - val_accuracy: 0.6380 - val_f1: 0.6785\n",
            "Epoch 16/100000\n",
            "5009/5009 [==============================] - 3s 527us/step - loss: 1.1839 - accuracy: 0.6918 - f1: 0.7006 - val_loss: 1.4527 - val_accuracy: 0.6500 - val_f1: 0.6867\n",
            "Epoch 17/100000\n",
            "5009/5009 [==============================] - 3s 591us/step - loss: 1.0875 - accuracy: 0.7155 - f1: 0.7217 - val_loss: 1.4114 - val_accuracy: 0.6720 - val_f1: 0.7034\n",
            "Epoch 18/100000\n",
            "5009/5009 [==============================] - 3s 526us/step - loss: 1.0083 - accuracy: 0.7403 - f1: 0.7393 - val_loss: 1.4465 - val_accuracy: 0.6580 - val_f1: 0.7009\n",
            "Epoch 19/100000\n",
            "5009/5009 [==============================] - 3s 524us/step - loss: 0.9292 - accuracy: 0.7618 - f1: 0.7628 - val_loss: 1.4704 - val_accuracy: 0.6560 - val_f1: 0.6849\n",
            "Epoch 20/100000\n",
            "5009/5009 [==============================] - 3s 515us/step - loss: 0.8496 - accuracy: 0.7744 - f1: 0.7796 - val_loss: 1.5343 - val_accuracy: 0.6480 - val_f1: 0.6803\n",
            "Epoch 21/100000\n",
            "5009/5009 [==============================] - 3s 581us/step - loss: 0.7954 - accuracy: 0.7900 - f1: 0.7899 - val_loss: 1.4568 - val_accuracy: 0.6700 - val_f1: 0.7012\n",
            "Epoch 22/100000\n",
            "5009/5009 [==============================] - 3s 627us/step - loss: 0.7305 - accuracy: 0.8075 - f1: 0.8108 - val_loss: 1.3622 - val_accuracy: 0.6940 - val_f1: 0.7204\n",
            "Epoch 23/100000\n",
            "5009/5009 [==============================] - 3s 545us/step - loss: 0.6805 - accuracy: 0.8159 - f1: 0.8172 - val_loss: 1.3934 - val_accuracy: 0.6960 - val_f1: 0.7246\n",
            "Epoch 24/100000\n",
            "5009/5009 [==============================] - 3s 602us/step - loss: 0.6120 - accuracy: 0.8351 - f1: 0.8389 - val_loss: 1.3948 - val_accuracy: 0.7000 - val_f1: 0.7242\n",
            "Epoch 25/100000\n",
            "5009/5009 [==============================] - 3s 574us/step - loss: 0.5585 - accuracy: 0.8485 - f1: 0.8509 - val_loss: 1.3782 - val_accuracy: 0.6980 - val_f1: 0.7261\n",
            "Epoch 26/100000\n",
            "5009/5009 [==============================] - 3s 511us/step - loss: 0.5141 - accuracy: 0.8565 - f1: 0.8592 - val_loss: 1.3258 - val_accuracy: 0.7060 - val_f1: 0.7338\n",
            "Epoch 27/100000\n",
            "5009/5009 [==============================] - 3s 574us/step - loss: 0.4904 - accuracy: 0.8674 - f1: 0.8689 - val_loss: 1.3921 - val_accuracy: 0.7160 - val_f1: 0.7251\n",
            "Epoch 28/100000\n",
            "5009/5009 [==============================] - 3s 564us/step - loss: 0.4341 - accuracy: 0.8816 - f1: 0.8851 - val_loss: 1.3694 - val_accuracy: 0.7240 - val_f1: 0.7422\n",
            "Epoch 29/100000\n",
            "5009/5009 [==============================] - 3s 584us/step - loss: 0.3688 - accuracy: 0.9046 - f1: 0.8960 - val_loss: 1.4460 - val_accuracy: 0.7040 - val_f1: 0.7318\n",
            "Epoch 30/100000\n",
            "5009/5009 [==============================] - 3s 529us/step - loss: 0.3320 - accuracy: 0.9132 - f1: 0.9126 - val_loss: 1.3114 - val_accuracy: 0.7480 - val_f1: 0.7654\n",
            "Epoch 31/100000\n",
            "5009/5009 [==============================] - 3s 543us/step - loss: 0.2995 - accuracy: 0.9195 - f1: 0.9169 - val_loss: 1.4394 - val_accuracy: 0.7380 - val_f1: 0.7427\n",
            "Epoch 32/100000\n",
            "5009/5009 [==============================] - 3s 527us/step - loss: 0.2688 - accuracy: 0.9283 - f1: 0.9277 - val_loss: 1.4420 - val_accuracy: 0.7300 - val_f1: 0.7524\n",
            "Epoch 33/100000\n",
            "5009/5009 [==============================] - 3s 570us/step - loss: 0.2344 - accuracy: 0.9379 - f1: 0.9375 - val_loss: 1.4423 - val_accuracy: 0.7420 - val_f1: 0.7527\n",
            "Epoch 34/100000\n",
            "5009/5009 [==============================] - 3s 541us/step - loss: 0.2150 - accuracy: 0.9443 - f1: 0.9427 - val_loss: 1.5104 - val_accuracy: 0.7420 - val_f1: 0.7531\n",
            "Epoch 35/100000\n",
            "5009/5009 [==============================] - 3s 531us/step - loss: 0.2040 - accuracy: 0.9475 - f1: 0.9457 - val_loss: 1.4989 - val_accuracy: 0.7440 - val_f1: 0.7577\n",
            "Best F1:0.765, best accuracy:0.748\n",
            "Not found vectors 200 out of 8924 unique words\n",
            "Average sentence len:  10.208824116590138\n",
            "Max sentence len:  37\n",
            "1.918% of tokens were replaced by unk token index\n",
            "Average sentence len:  7.516\n",
            "Max sentence len:  17\n",
            "10.378% of tokens were replaced by unk token index\n",
            "Train on 5009 samples, validate on 500 samples\n",
            "Epoch 1/100000\n",
            "5009/5009 [==============================] - 4s 768us/step - loss: 3.5459 - accuracy: 0.1659 - f1: 7.6923e-04 - val_loss: 3.2405 - val_accuracy: 0.1500 - val_f1: 0.0000e+00\n",
            "Epoch 2/100000\n",
            "5009/5009 [==============================] - 3s 538us/step - loss: 3.0610 - accuracy: 0.1789 - f1: 0.0000e+00 - val_loss: 2.9930 - val_accuracy: 0.3540 - val_f1: 0.0000e+00\n",
            "Epoch 3/100000\n",
            "5009/5009 [==============================] - 3s 568us/step - loss: 2.8059 - accuracy: 0.2899 - f1: 0.0349 - val_loss: 2.7541 - val_accuracy: 0.4180 - val_f1: 0.1476\n",
            "Epoch 4/100000\n",
            "5009/5009 [==============================] - 3s 543us/step - loss: 2.5565 - accuracy: 0.3512 - f1: 0.1880 - val_loss: 2.4332 - val_accuracy: 0.4720 - val_f1: 0.1709\n",
            "Epoch 5/100000\n",
            "5009/5009 [==============================] - 3s 536us/step - loss: 2.3474 - accuracy: 0.4115 - f1: 0.2751 - val_loss: 2.1895 - val_accuracy: 0.5000 - val_f1: 0.5308\n",
            "Epoch 6/100000\n",
            "5009/5009 [==============================] - 3s 539us/step - loss: 2.1762 - accuracy: 0.4484 - f1: 0.3889 - val_loss: 2.0012 - val_accuracy: 0.5220 - val_f1: 0.5737\n",
            "Epoch 7/100000\n",
            "5009/5009 [==============================] - 3s 528us/step - loss: 2.0115 - accuracy: 0.4889 - f1: 0.4597 - val_loss: 1.9394 - val_accuracy: 0.5360 - val_f1: 0.5823\n",
            "Epoch 8/100000\n",
            "5009/5009 [==============================] - 3s 518us/step - loss: 1.8532 - accuracy: 0.5267 - f1: 0.5110 - val_loss: 1.7506 - val_accuracy: 0.5660 - val_f1: 0.6332\n",
            "Epoch 9/100000\n",
            "5009/5009 [==============================] - 3s 552us/step - loss: 1.7056 - accuracy: 0.5556 - f1: 0.5598 - val_loss: 1.6738 - val_accuracy: 0.5760 - val_f1: 0.6313\n",
            "Epoch 10/100000\n",
            "5009/5009 [==============================] - 3s 604us/step - loss: 1.5905 - accuracy: 0.5857 - f1: 0.5799 - val_loss: 1.7199 - val_accuracy: 0.5720 - val_f1: 0.6181\n",
            "Epoch 11/100000\n",
            "5009/5009 [==============================] - 3s 539us/step - loss: 1.4522 - accuracy: 0.6157 - f1: 0.6121 - val_loss: 1.5270 - val_accuracy: 0.6020 - val_f1: 0.6756\n",
            "Epoch 12/100000\n",
            "5009/5009 [==============================] - 3s 516us/step - loss: 1.3330 - accuracy: 0.6482 - f1: 0.6502 - val_loss: 1.5648 - val_accuracy: 0.6000 - val_f1: 0.6586\n",
            "Epoch 13/100000\n",
            "5009/5009 [==============================] - 3s 556us/step - loss: 1.2118 - accuracy: 0.6796 - f1: 0.6847 - val_loss: 1.5323 - val_accuracy: 0.6360 - val_f1: 0.6798\n",
            "Epoch 14/100000\n",
            "5009/5009 [==============================] - 3s 621us/step - loss: 1.1098 - accuracy: 0.7095 - f1: 0.7064 - val_loss: 1.3765 - val_accuracy: 0.6540 - val_f1: 0.6965\n",
            "Epoch 15/100000\n",
            "5009/5009 [==============================] - 3s 596us/step - loss: 1.0044 - accuracy: 0.7313 - f1: 0.7348 - val_loss: 1.3518 - val_accuracy: 0.6640 - val_f1: 0.6927\n",
            "Epoch 16/100000\n",
            "5009/5009 [==============================] - 3s 539us/step - loss: 0.9126 - accuracy: 0.7524 - f1: 0.7542 - val_loss: 1.3533 - val_accuracy: 0.6620 - val_f1: 0.6877\n",
            "Epoch 17/100000\n",
            "5009/5009 [==============================] - 3s 537us/step - loss: 0.8274 - accuracy: 0.7758 - f1: 0.7765 - val_loss: 1.3338 - val_accuracy: 0.6720 - val_f1: 0.6977\n",
            "Epoch 18/100000\n",
            "5009/5009 [==============================] - 3s 515us/step - loss: 0.7405 - accuracy: 0.7980 - f1: 0.7965 - val_loss: 1.3747 - val_accuracy: 0.6960 - val_f1: 0.7005\n",
            "Epoch 19/100000\n",
            "5009/5009 [==============================] - 3s 551us/step - loss: 0.6824 - accuracy: 0.8205 - f1: 0.8153 - val_loss: 1.2412 - val_accuracy: 0.7060 - val_f1: 0.7262\n",
            "Epoch 20/100000\n",
            "5009/5009 [==============================] - 3s 584us/step - loss: 0.5969 - accuracy: 0.8399 - f1: 0.8365 - val_loss: 1.2735 - val_accuracy: 0.7060 - val_f1: 0.7315\n",
            "Epoch 21/100000\n",
            "5009/5009 [==============================] - 3s 547us/step - loss: 0.5509 - accuracy: 0.8511 - f1: 0.8533 - val_loss: 1.2087 - val_accuracy: 0.7220 - val_f1: 0.7422\n",
            "Epoch 22/100000\n",
            "5009/5009 [==============================] - 3s 559us/step - loss: 0.4820 - accuracy: 0.8692 - f1: 0.8650 - val_loss: 1.2570 - val_accuracy: 0.7380 - val_f1: 0.7590\n",
            "Epoch 23/100000\n",
            "5009/5009 [==============================] - 3s 525us/step - loss: 0.4700 - accuracy: 0.8722 - f1: 0.8684 - val_loss: 1.2477 - val_accuracy: 0.7260 - val_f1: 0.7505\n",
            "Epoch 24/100000\n",
            "5009/5009 [==============================] - 3s 520us/step - loss: 0.4196 - accuracy: 0.8826 - f1: 0.8852 - val_loss: 1.3030 - val_accuracy: 0.7200 - val_f1: 0.7379\n",
            "Epoch 25/100000\n",
            "5009/5009 [==============================] - 3s 570us/step - loss: 0.3844 - accuracy: 0.8948 - f1: 0.8923 - val_loss: 1.3280 - val_accuracy: 0.7360 - val_f1: 0.7459\n",
            "Epoch 26/100000\n",
            "5009/5009 [==============================] - 3s 539us/step - loss: 0.3241 - accuracy: 0.9122 - f1: 0.9097 - val_loss: 1.2919 - val_accuracy: 0.7220 - val_f1: 0.7403\n",
            "Best F1:0.759, best accuracy:0.738\n",
            "Not found vectors 200 out of 8924 unique words\n",
            "Average sentence len:  10.208824116590138\n",
            "Max sentence len:  37\n",
            "1.918% of tokens were replaced by unk token index\n",
            "Average sentence len:  7.516\n",
            "Max sentence len:  17\n",
            "10.378% of tokens were replaced by unk token index\n",
            "Train on 5009 samples, validate on 500 samples\n",
            "Epoch 1/100000\n",
            "5009/5009 [==============================] - 4s 734us/step - loss: 3.5264 - accuracy: 0.1593 - f1: 0.0000e+00 - val_loss: 3.2001 - val_accuracy: 0.1100 - val_f1: 0.0000e+00\n",
            "Epoch 2/100000\n",
            "5009/5009 [==============================] - 3s 515us/step - loss: 3.0765 - accuracy: 0.1877 - f1: 0.0000e+00 - val_loss: 3.1182 - val_accuracy: 0.1300 - val_f1: 0.0000e+00\n",
            "Epoch 3/100000\n",
            "5009/5009 [==============================] - 3s 569us/step - loss: 2.8913 - accuracy: 0.2521 - f1: 0.0292 - val_loss: 2.8417 - val_accuracy: 0.4740 - val_f1: 0.1023\n",
            "Epoch 4/100000\n",
            "5009/5009 [==============================] - 3s 537us/step - loss: 2.6538 - accuracy: 0.3500 - f1: 0.1639 - val_loss: 2.6231 - val_accuracy: 0.4800 - val_f1: 0.1667\n",
            "Epoch 5/100000\n",
            "5009/5009 [==============================] - 3s 521us/step - loss: 2.4359 - accuracy: 0.4115 - f1: 0.2500 - val_loss: 2.3917 - val_accuracy: 0.4540 - val_f1: 0.2070\n",
            "Epoch 6/100000\n",
            "5009/5009 [==============================] - 3s 528us/step - loss: 2.2566 - accuracy: 0.4400 - f1: 0.3666 - val_loss: 2.1836 - val_accuracy: 0.5120 - val_f1: 0.5427\n",
            "Epoch 7/100000\n",
            "5009/5009 [==============================] - 3s 513us/step - loss: 2.0968 - accuracy: 0.4700 - f1: 0.4484 - val_loss: 2.0599 - val_accuracy: 0.5160 - val_f1: 0.5486\n",
            "Epoch 8/100000\n",
            "5009/5009 [==============================] - 3s 510us/step - loss: 1.9613 - accuracy: 0.5077 - f1: 0.4844 - val_loss: 1.8994 - val_accuracy: 0.5540 - val_f1: 0.5904\n",
            "Epoch 9/100000\n",
            "5009/5009 [==============================] - 3s 534us/step - loss: 1.8187 - accuracy: 0.5340 - f1: 0.5124 - val_loss: 1.7992 - val_accuracy: 0.5780 - val_f1: 0.5919\n",
            "Epoch 10/100000\n",
            "5009/5009 [==============================] - 3s 532us/step - loss: 1.6808 - accuracy: 0.5666 - f1: 0.5558 - val_loss: 1.7244 - val_accuracy: 0.5820 - val_f1: 0.6353\n",
            "Epoch 11/100000\n",
            "5009/5009 [==============================] - 3s 516us/step - loss: 1.5588 - accuracy: 0.5895 - f1: 0.5918 - val_loss: 1.6227 - val_accuracy: 0.6020 - val_f1: 0.6625\n",
            "Epoch 12/100000\n",
            "5009/5009 [==============================] - 3s 523us/step - loss: 1.4376 - accuracy: 0.6253 - f1: 0.6263 - val_loss: 1.5400 - val_accuracy: 0.6240 - val_f1: 0.6675\n",
            "Epoch 13/100000\n",
            "5009/5009 [==============================] - 3s 644us/step - loss: 1.3420 - accuracy: 0.6416 - f1: 0.6496 - val_loss: 1.4877 - val_accuracy: 0.6240 - val_f1: 0.6839\n",
            "Epoch 14/100000\n",
            "5009/5009 [==============================] - 3s 554us/step - loss: 1.2457 - accuracy: 0.6668 - f1: 0.6672 - val_loss: 1.6273 - val_accuracy: 0.6120 - val_f1: 0.6690\n",
            "Epoch 15/100000\n",
            "5009/5009 [==============================] - 3s 536us/step - loss: 1.1871 - accuracy: 0.6894 - f1: 0.6896 - val_loss: 1.4486 - val_accuracy: 0.6560 - val_f1: 0.6901\n",
            "Epoch 16/100000\n",
            "5009/5009 [==============================] - 3s 517us/step - loss: 1.0919 - accuracy: 0.7155 - f1: 0.7117 - val_loss: 1.4036 - val_accuracy: 0.6500 - val_f1: 0.6902\n",
            "Epoch 17/100000\n",
            "5009/5009 [==============================] - 3s 584us/step - loss: 1.0172 - accuracy: 0.7347 - f1: 0.7320 - val_loss: 1.3588 - val_accuracy: 0.6760 - val_f1: 0.7084\n",
            "Epoch 18/100000\n",
            "5009/5009 [==============================] - 3s 504us/step - loss: 0.9538 - accuracy: 0.7491 - f1: 0.7459 - val_loss: 1.3998 - val_accuracy: 0.6620 - val_f1: 0.6791\n",
            "Epoch 19/100000\n",
            "5009/5009 [==============================] - 3s 518us/step - loss: 0.8705 - accuracy: 0.7610 - f1: 0.7704 - val_loss: 1.3558 - val_accuracy: 0.6800 - val_f1: 0.7000\n",
            "Epoch 20/100000\n",
            "5009/5009 [==============================] - 3s 520us/step - loss: 0.7904 - accuracy: 0.7922 - f1: 0.7934 - val_loss: 1.2571 - val_accuracy: 0.6940 - val_f1: 0.7204\n",
            "Epoch 21/100000\n",
            "5009/5009 [==============================] - 3s 541us/step - loss: 0.7119 - accuracy: 0.8107 - f1: 0.8119 - val_loss: 1.2595 - val_accuracy: 0.7060 - val_f1: 0.7195\n",
            "Epoch 22/100000\n",
            "5009/5009 [==============================] - 3s 535us/step - loss: 0.6577 - accuracy: 0.8287 - f1: 0.8280 - val_loss: 1.3198 - val_accuracy: 0.6960 - val_f1: 0.7358\n",
            "Epoch 23/100000\n",
            "5009/5009 [==============================] - 3s 503us/step - loss: 0.6070 - accuracy: 0.8393 - f1: 0.8392 - val_loss: 1.2538 - val_accuracy: 0.7120 - val_f1: 0.7365\n",
            "Epoch 24/100000\n",
            "5009/5009 [==============================] - 3s 520us/step - loss: 0.5399 - accuracy: 0.8527 - f1: 0.8530 - val_loss: 1.3267 - val_accuracy: 0.7200 - val_f1: 0.7338\n",
            "Epoch 25/100000\n",
            "5009/5009 [==============================] - 3s 578us/step - loss: 0.5034 - accuracy: 0.8656 - f1: 0.8652 - val_loss: 1.2964 - val_accuracy: 0.7000 - val_f1: 0.7309\n",
            "Epoch 26/100000\n",
            "5009/5009 [==============================] - 3s 547us/step - loss: 0.4546 - accuracy: 0.8760 - f1: 0.8742 - val_loss: 1.2657 - val_accuracy: 0.7300 - val_f1: 0.7478\n",
            "Epoch 27/100000\n",
            "5009/5009 [==============================] - 3s 574us/step - loss: 0.4081 - accuracy: 0.8938 - f1: 0.8918 - val_loss: 1.2871 - val_accuracy: 0.7260 - val_f1: 0.7416\n",
            "Epoch 28/100000\n",
            "5009/5009 [==============================] - 3s 573us/step - loss: 0.3807 - accuracy: 0.8986 - f1: 0.8973 - val_loss: 1.3049 - val_accuracy: 0.7240 - val_f1: 0.7486\n",
            "Best F1:0.749, best accuracy:0.730\n",
            "f1_average: 0.7576805750528971, std:0.00690747712937642\n",
            "acc_average: 0.7386666735013326, std:0.007363578141497755\n"
          ],
          "name": "stdout"
        }
      ]
    },
    {
      "cell_type": "code",
      "metadata": {
        "colab_type": "code",
        "outputId": "46a073c8-79ad-495d-a8eb-0eccf2c5395e",
        "id": "Z72HdJexkQba",
        "colab": {
          "base_uri": "https://localhost:8080/",
          "height": 1000
        }
      },
      "source": [
        "f1_scores, acc_scores = [], []\n",
        "for _ in range(number_of_attemp_to_fit):\n",
        "  f1_score, acc_score = run_cnn(train_data, test_data, w2v_model, MAX_SEQ_LEN, N_CLASSES )\n",
        "  f1_scores.append(f1_score)\n",
        "  acc_scores.append(acc_score)\n",
        "print(\"f1_average: {}, std:{}\".format(np.mean(f1_scores), np.std(f1_scores)))\n",
        "print(\"acc_average: {}, std:{}\".format(np.mean(acc_scores), np.std(acc_scores)))"
      ],
      "execution_count": 0,
      "outputs": [
        {
          "output_type": "stream",
          "text": [
            "Not found vectors 200 out of 8924 unique words\n",
            "Average sentence len:  10.208824116590138\n",
            "Max sentence len:  37\n",
            "1.918% of tokens were replaced by unk token index\n",
            "Average sentence len:  7.516\n",
            "Max sentence len:  17\n",
            "10.378% of tokens were replaced by unk token index\n",
            "Train on 5009 samples, validate on 500 samples\n",
            "Epoch 1/100000\n",
            "5009/5009 [==============================] - 0s 82us/step - loss: 3.3830 - accuracy: 0.1435 - f1: 0.0000e+00 - val_loss: 2.9972 - val_accuracy: 0.3980 - val_f1: 0.0000e+00\n",
            "Epoch 2/100000\n",
            "5009/5009 [==============================] - 0s 36us/step - loss: 2.6794 - accuracy: 0.3627 - f1: 0.0453 - val_loss: 2.5395 - val_accuracy: 0.4780 - val_f1: 0.1238\n",
            "Epoch 3/100000\n",
            "5009/5009 [==============================] - 0s 34us/step - loss: 2.1614 - accuracy: 0.4712 - f1: 0.3153 - val_loss: 2.1591 - val_accuracy: 0.4940 - val_f1: 0.5087\n",
            "Epoch 4/100000\n",
            "5009/5009 [==============================] - 0s 33us/step - loss: 1.7288 - accuracy: 0.5708 - f1: 0.4975 - val_loss: 1.7836 - val_accuracy: 0.5940 - val_f1: 0.5973\n",
            "Epoch 5/100000\n",
            "5009/5009 [==============================] - 0s 33us/step - loss: 1.3472 - accuracy: 0.6756 - f1: 0.6249 - val_loss: 1.5387 - val_accuracy: 0.6400 - val_f1: 0.6555\n",
            "Epoch 6/100000\n",
            "5009/5009 [==============================] - 0s 34us/step - loss: 1.0202 - accuracy: 0.7628 - f1: 0.7226 - val_loss: 1.3519 - val_accuracy: 0.6940 - val_f1: 0.6999\n",
            "Epoch 7/100000\n",
            "5009/5009 [==============================] - 0s 33us/step - loss: 0.7414 - accuracy: 0.8383 - f1: 0.8063 - val_loss: 1.2294 - val_accuracy: 0.7140 - val_f1: 0.7257\n",
            "Epoch 8/100000\n",
            "5009/5009 [==============================] - 0s 35us/step - loss: 0.5154 - accuracy: 0.9002 - f1: 0.8685 - val_loss: 1.1030 - val_accuracy: 0.7420 - val_f1: 0.7476\n",
            "Epoch 9/100000\n",
            "5009/5009 [==============================] - 0s 33us/step - loss: 0.3452 - accuracy: 0.9423 - f1: 0.9136 - val_loss: 1.0371 - val_accuracy: 0.7540 - val_f1: 0.7655\n",
            "Epoch 10/100000\n",
            "5009/5009 [==============================] - 0s 32us/step - loss: 0.2228 - accuracy: 0.9713 - f1: 0.9478 - val_loss: 0.9589 - val_accuracy: 0.7760 - val_f1: 0.7862\n",
            "Epoch 11/100000\n",
            "5009/5009 [==============================] - 0s 32us/step - loss: 0.1413 - accuracy: 0.9854 - f1: 0.9692 - val_loss: 0.9322 - val_accuracy: 0.7840 - val_f1: 0.7987\n",
            "Epoch 12/100000\n",
            "5009/5009 [==============================] - 0s 33us/step - loss: 0.0899 - accuracy: 0.9934 - f1: 0.9841 - val_loss: 0.9237 - val_accuracy: 0.7840 - val_f1: 0.8067\n",
            "Epoch 13/100000\n",
            "5009/5009 [==============================] - 0s 33us/step - loss: 0.0579 - accuracy: 0.9972 - f1: 0.9925 - val_loss: 0.8908 - val_accuracy: 0.7920 - val_f1: 0.8110\n",
            "Epoch 14/100000\n",
            "5009/5009 [==============================] - 0s 35us/step - loss: 0.0395 - accuracy: 0.9990 - f1: 0.9960 - val_loss: 0.8762 - val_accuracy: 0.8000 - val_f1: 0.8101\n",
            "Epoch 15/100000\n",
            "5009/5009 [==============================] - 0s 34us/step - loss: 0.0281 - accuracy: 0.9996 - f1: 0.9975 - val_loss: 0.8794 - val_accuracy: 0.7960 - val_f1: 0.8139\n",
            "Epoch 16/100000\n",
            "5009/5009 [==============================] - 0s 33us/step - loss: 0.0202 - accuracy: 1.0000 - f1: 0.9993 - val_loss: 0.8662 - val_accuracy: 0.7960 - val_f1: 0.8191\n",
            "Epoch 17/100000\n",
            "5009/5009 [==============================] - 0s 33us/step - loss: 0.0162 - accuracy: 0.9998 - f1: 0.9997 - val_loss: 0.8768 - val_accuracy: 0.7880 - val_f1: 0.8182\n",
            "Epoch 18/100000\n",
            "5009/5009 [==============================] - 0s 33us/step - loss: 0.0130 - accuracy: 0.9996 - f1: 0.9995 - val_loss: 0.8741 - val_accuracy: 0.7980 - val_f1: 0.8172\n",
            "Epoch 19/100000\n",
            "5009/5009 [==============================] - 0s 33us/step - loss: 0.0106 - accuracy: 0.9996 - f1: 0.9996 - val_loss: 0.8761 - val_accuracy: 0.7960 - val_f1: 0.8189\n",
            "Epoch 20/100000\n",
            "5009/5009 [==============================] - 0s 34us/step - loss: 0.0090 - accuracy: 0.9996 - f1: 0.9996 - val_loss: 0.8757 - val_accuracy: 0.7940 - val_f1: 0.8210\n",
            "Epoch 21/100000\n",
            "5009/5009 [==============================] - 0s 33us/step - loss: 0.0078 - accuracy: 0.9998 - f1: 0.9998 - val_loss: 0.8796 - val_accuracy: 0.8040 - val_f1: 0.8196\n",
            "Best F1:0.821, best accuracy:0.804\n",
            "Not found vectors 200 out of 8924 unique words\n",
            "Average sentence len:  10.208824116590138\n",
            "Max sentence len:  37\n",
            "1.918% of tokens were replaced by unk token index\n",
            "Average sentence len:  7.516\n",
            "Max sentence len:  17\n",
            "10.378% of tokens were replaced by unk token index\n",
            "Train on 5009 samples, validate on 500 samples\n",
            "Epoch 1/100000\n",
            "5009/5009 [==============================] - 0s 56us/step - loss: 3.2846 - accuracy: 0.1601 - f1: 0.0000e+00 - val_loss: 2.9995 - val_accuracy: 0.4620 - val_f1: 0.0000e+00\n",
            "Epoch 2/100000\n",
            "5009/5009 [==============================] - 0s 34us/step - loss: 2.6135 - accuracy: 0.3965 - f1: 0.0665 - val_loss: 2.4489 - val_accuracy: 0.4600 - val_f1: 0.2075\n",
            "Epoch 3/100000\n",
            "5009/5009 [==============================] - 0s 33us/step - loss: 2.0917 - accuracy: 0.4757 - f1: 0.3847 - val_loss: 2.0841 - val_accuracy: 0.5100 - val_f1: 0.5139\n",
            "Epoch 4/100000\n",
            "5009/5009 [==============================] - 0s 33us/step - loss: 1.6730 - accuracy: 0.5899 - f1: 0.5070 - val_loss: 1.7106 - val_accuracy: 0.6200 - val_f1: 0.6061\n",
            "Epoch 5/100000\n",
            "5009/5009 [==============================] - 0s 33us/step - loss: 1.2915 - accuracy: 0.6969 - f1: 0.6426 - val_loss: 1.4828 - val_accuracy: 0.6620 - val_f1: 0.6598\n",
            "Epoch 6/100000\n",
            "5009/5009 [==============================] - 0s 33us/step - loss: 0.9682 - accuracy: 0.7788 - f1: 0.7365 - val_loss: 1.3015 - val_accuracy: 0.6940 - val_f1: 0.7123\n",
            "Epoch 7/100000\n",
            "5009/5009 [==============================] - 0s 35us/step - loss: 0.7054 - accuracy: 0.8507 - f1: 0.8113 - val_loss: 1.1944 - val_accuracy: 0.7160 - val_f1: 0.7352\n",
            "Epoch 8/100000\n",
            "5009/5009 [==============================] - 0s 34us/step - loss: 0.4917 - accuracy: 0.9048 - f1: 0.8753 - val_loss: 1.1044 - val_accuracy: 0.7420 - val_f1: 0.7503\n",
            "Epoch 9/100000\n",
            "5009/5009 [==============================] - 0s 34us/step - loss: 0.3287 - accuracy: 0.9435 - f1: 0.9208 - val_loss: 1.0291 - val_accuracy: 0.7580 - val_f1: 0.7762\n",
            "Epoch 10/100000\n",
            "5009/5009 [==============================] - 0s 33us/step - loss: 0.2153 - accuracy: 0.9705 - f1: 0.9491 - val_loss: 0.9994 - val_accuracy: 0.7660 - val_f1: 0.7816\n",
            "Epoch 11/100000\n",
            "5009/5009 [==============================] - 0s 34us/step - loss: 0.1382 - accuracy: 0.9870 - f1: 0.9710 - val_loss: 0.8999 - val_accuracy: 0.7920 - val_f1: 0.7987\n",
            "Epoch 12/100000\n",
            "5009/5009 [==============================] - 0s 33us/step - loss: 0.0879 - accuracy: 0.9938 - f1: 0.9841 - val_loss: 0.8947 - val_accuracy: 0.7880 - val_f1: 0.7955\n",
            "Epoch 13/100000\n",
            "5009/5009 [==============================] - 0s 33us/step - loss: 0.0585 - accuracy: 0.9978 - f1: 0.9920 - val_loss: 0.8740 - val_accuracy: 0.7960 - val_f1: 0.8027\n",
            "Epoch 14/100000\n",
            "5009/5009 [==============================] - 0s 33us/step - loss: 0.0393 - accuracy: 0.9984 - f1: 0.9960 - val_loss: 0.8520 - val_accuracy: 0.8060 - val_f1: 0.8159\n",
            "Epoch 15/100000\n",
            "5009/5009 [==============================] - 0s 33us/step - loss: 0.0272 - accuracy: 0.9994 - f1: 0.9983 - val_loss: 0.8668 - val_accuracy: 0.8080 - val_f1: 0.8110\n",
            "Epoch 16/100000\n",
            "5009/5009 [==============================] - 0s 33us/step - loss: 0.0201 - accuracy: 0.9994 - f1: 0.9989 - val_loss: 0.8427 - val_accuracy: 0.8060 - val_f1: 0.8201\n",
            "Epoch 17/100000\n",
            "5009/5009 [==============================] - 0s 32us/step - loss: 0.0156 - accuracy: 0.9998 - f1: 0.9995 - val_loss: 0.8633 - val_accuracy: 0.8100 - val_f1: 0.8126\n",
            "Epoch 18/100000\n",
            "5009/5009 [==============================] - 0s 33us/step - loss: 0.0126 - accuracy: 0.9998 - f1: 0.9997 - val_loss: 0.8457 - val_accuracy: 0.8160 - val_f1: 0.8196\n",
            "Epoch 19/100000\n",
            "5009/5009 [==============================] - 0s 34us/step - loss: 0.0104 - accuracy: 0.9998 - f1: 0.9997 - val_loss: 0.8519 - val_accuracy: 0.8120 - val_f1: 0.8198\n",
            "Epoch 20/100000\n",
            "5009/5009 [==============================] - 0s 33us/step - loss: 0.0090 - accuracy: 0.9998 - f1: 0.9997 - val_loss: 0.8628 - val_accuracy: 0.8180 - val_f1: 0.8207\n",
            "Epoch 21/100000\n",
            "5009/5009 [==============================] - 0s 34us/step - loss: 0.0081 - accuracy: 0.9996 - f1: 0.9996 - val_loss: 0.8422 - val_accuracy: 0.8160 - val_f1: 0.8262\n",
            "Epoch 22/100000\n",
            "5009/5009 [==============================] - 0s 34us/step - loss: 0.0077 - accuracy: 0.9996 - f1: 0.9996 - val_loss: 0.8622 - val_accuracy: 0.8140 - val_f1: 0.8172\n",
            "Epoch 23/100000\n",
            "5009/5009 [==============================] - 0s 34us/step - loss: 0.0065 - accuracy: 0.9998 - f1: 0.9998 - val_loss: 0.8527 - val_accuracy: 0.8120 - val_f1: 0.8214\n",
            "Epoch 24/100000\n",
            "5009/5009 [==============================] - 0s 34us/step - loss: 0.0068 - accuracy: 0.9998 - f1: 0.9998 - val_loss: 0.8810 - val_accuracy: 0.8140 - val_f1: 0.8215\n",
            "Epoch 25/100000\n",
            "5009/5009 [==============================] - 0s 34us/step - loss: 0.0056 - accuracy: 0.9996 - f1: 0.9996 - val_loss: 0.8602 - val_accuracy: 0.8180 - val_f1: 0.8264\n",
            "Epoch 26/100000\n",
            "5009/5009 [==============================] - 0s 34us/step - loss: 0.0064 - accuracy: 0.9996 - f1: 0.9996 - val_loss: 0.8590 - val_accuracy: 0.8140 - val_f1: 0.8268\n",
            "Best F1:0.827, best accuracy:0.818\n",
            "Not found vectors 200 out of 8924 unique words\n",
            "Average sentence len:  10.208824116590138\n",
            "Max sentence len:  37\n",
            "1.918% of tokens were replaced by unk token index\n",
            "Average sentence len:  7.516\n",
            "Max sentence len:  17\n",
            "10.378% of tokens were replaced by unk token index\n",
            "Train on 5009 samples, validate on 500 samples\n",
            "Epoch 1/100000\n",
            "5009/5009 [==============================] - 0s 53us/step - loss: 3.3408 - accuracy: 0.1529 - f1: 0.0000e+00 - val_loss: 3.0324 - val_accuracy: 0.3620 - val_f1: 0.0000e+00\n",
            "Epoch 2/100000\n",
            "5009/5009 [==============================] - 0s 34us/step - loss: 2.7254 - accuracy: 0.3602 - f1: 0.0275 - val_loss: 2.6447 - val_accuracy: 0.4900 - val_f1: 0.0878\n",
            "Epoch 3/100000\n",
            "5009/5009 [==============================] - 0s 33us/step - loss: 2.1972 - accuracy: 0.4632 - f1: 0.2709 - val_loss: 2.1276 - val_accuracy: 0.4880 - val_f1: 0.5316\n",
            "Epoch 4/100000\n",
            "5009/5009 [==============================] - 0s 34us/step - loss: 1.7243 - accuracy: 0.5855 - f1: 0.4982 - val_loss: 1.7400 - val_accuracy: 0.6040 - val_f1: 0.6205\n",
            "Epoch 5/100000\n",
            "5009/5009 [==============================] - 0s 34us/step - loss: 1.3291 - accuracy: 0.6800 - f1: 0.6382 - val_loss: 1.4827 - val_accuracy: 0.6420 - val_f1: 0.6718\n",
            "Epoch 6/100000\n",
            "5009/5009 [==============================] - 0s 33us/step - loss: 1.0016 - accuracy: 0.7740 - f1: 0.7323 - val_loss: 1.3350 - val_accuracy: 0.6820 - val_f1: 0.7097\n",
            "Epoch 7/100000\n",
            "5009/5009 [==============================] - 0s 34us/step - loss: 0.7353 - accuracy: 0.8375 - f1: 0.8127 - val_loss: 1.2070 - val_accuracy: 0.7160 - val_f1: 0.7159\n",
            "Epoch 8/100000\n",
            "5009/5009 [==============================] - 0s 36us/step - loss: 0.5108 - accuracy: 0.9058 - f1: 0.8659 - val_loss: 1.0957 - val_accuracy: 0.7400 - val_f1: 0.7521\n",
            "Epoch 9/100000\n",
            "5009/5009 [==============================] - 0s 34us/step - loss: 0.3391 - accuracy: 0.9453 - f1: 0.9114 - val_loss: 1.0219 - val_accuracy: 0.7600 - val_f1: 0.7680\n",
            "Epoch 10/100000\n",
            "5009/5009 [==============================] - 0s 32us/step - loss: 0.2208 - accuracy: 0.9736 - f1: 0.9456 - val_loss: 0.9732 - val_accuracy: 0.7700 - val_f1: 0.7782\n",
            "Epoch 11/100000\n",
            "5009/5009 [==============================] - 0s 33us/step - loss: 0.1396 - accuracy: 0.9864 - f1: 0.9710 - val_loss: 0.9346 - val_accuracy: 0.7880 - val_f1: 0.7959\n",
            "Epoch 12/100000\n",
            "5009/5009 [==============================] - 0s 34us/step - loss: 0.0889 - accuracy: 0.9948 - f1: 0.9853 - val_loss: 0.8794 - val_accuracy: 0.8020 - val_f1: 0.8183\n",
            "Epoch 13/100000\n",
            "5009/5009 [==============================] - 0s 34us/step - loss: 0.0579 - accuracy: 0.9976 - f1: 0.9927 - val_loss: 0.8762 - val_accuracy: 0.8060 - val_f1: 0.8178\n",
            "Epoch 14/100000\n",
            "5009/5009 [==============================] - 0s 34us/step - loss: 0.0377 - accuracy: 0.9984 - f1: 0.9960 - val_loss: 0.8601 - val_accuracy: 0.8080 - val_f1: 0.8226\n",
            "Epoch 15/100000\n",
            "5009/5009 [==============================] - 0s 33us/step - loss: 0.0272 - accuracy: 0.9998 - f1: 0.9989 - val_loss: 0.8496 - val_accuracy: 0.8080 - val_f1: 0.8240\n",
            "Epoch 16/100000\n",
            "5009/5009 [==============================] - 0s 34us/step - loss: 0.0207 - accuracy: 0.9994 - f1: 0.9990 - val_loss: 0.8471 - val_accuracy: 0.8020 - val_f1: 0.8322\n",
            "Epoch 17/100000\n",
            "5009/5009 [==============================] - 0s 33us/step - loss: 0.0155 - accuracy: 0.9996 - f1: 0.9996 - val_loss: 0.8445 - val_accuracy: 0.8140 - val_f1: 0.8277\n",
            "Epoch 18/100000\n",
            "5009/5009 [==============================] - 0s 34us/step - loss: 0.0128 - accuracy: 0.9998 - f1: 0.9998 - val_loss: 0.8443 - val_accuracy: 0.8160 - val_f1: 0.8324\n",
            "Epoch 19/100000\n",
            "5009/5009 [==============================] - 0s 34us/step - loss: 0.0105 - accuracy: 0.9998 - f1: 0.9998 - val_loss: 0.8423 - val_accuracy: 0.8120 - val_f1: 0.8332\n",
            "Epoch 20/100000\n",
            "5009/5009 [==============================] - 0s 34us/step - loss: 0.0091 - accuracy: 0.9996 - f1: 0.9996 - val_loss: 0.8505 - val_accuracy: 0.8080 - val_f1: 0.8341\n",
            "Epoch 21/100000\n",
            "5009/5009 [==============================] - 0s 34us/step - loss: 0.0078 - accuracy: 0.9998 - f1: 0.9997 - val_loss: 0.8476 - val_accuracy: 0.8140 - val_f1: 0.8357\n",
            "Epoch 22/100000\n",
            "5009/5009 [==============================] - 0s 34us/step - loss: 0.0073 - accuracy: 0.9998 - f1: 0.9998 - val_loss: 0.8510 - val_accuracy: 0.8120 - val_f1: 0.8312\n",
            "Epoch 23/100000\n",
            "5009/5009 [==============================] - 0s 34us/step - loss: 0.0068 - accuracy: 0.9998 - f1: 0.9998 - val_loss: 0.8466 - val_accuracy: 0.8140 - val_f1: 0.8333\n",
            "Epoch 24/100000\n",
            "5009/5009 [==============================] - 0s 33us/step - loss: 0.0055 - accuracy: 0.9998 - f1: 0.9998 - val_loss: 0.8540 - val_accuracy: 0.8160 - val_f1: 0.8333\n",
            "Best F1:0.836, best accuracy:0.816\n",
            "f1_average: 0.8278159499168396, std:0.00602676001149695\n",
            "acc_average: 0.812666674455007, std:0.006182405577362549\n"
          ],
          "name": "stdout"
        }
      ]
    },
    {
      "cell_type": "markdown",
      "metadata": {
        "id": "NDNdHFlIVYnO",
        "colab_type": "text"
      },
      "source": [
        "### TREC-50 with our augmetation"
      ]
    },
    {
      "cell_type": "markdown",
      "metadata": {
        "id": "gSEsx6lPncOJ",
        "colab_type": "text"
      },
      "source": [
        "### 3000"
      ]
    },
    {
      "cell_type": "markdown",
      "metadata": {
        "id": "aEkMPjOjne1U",
        "colab_type": "text"
      },
      "source": [
        "### 4000"
      ]
    },
    {
      "cell_type": "markdown",
      "metadata": {
        "id": "J9ik6zy-ni7z",
        "colab_type": "text"
      },
      "source": [
        "### 5000"
      ]
    },
    {
      "cell_type": "code",
      "metadata": {
        "id": "4nlgfA97WEvM",
        "colab_type": "code",
        "colab": {}
      },
      "source": [
        "def read_aug(name, lbl2indx):\n",
        "  aug = pd.read_csv(name, index_col=0)\n",
        "  aug['lbl_index'] = aug.labels.apply(lambda x:lbl2indx[x])\n",
        "  aug = aug[['texts', 'lbl_index']]\n",
        "  aug.columns = ['text', 'lbl_index']\n",
        "  return aug"
      ],
      "execution_count": 0,
      "outputs": []
    },
    {
      "cell_type": "code",
      "metadata": {
        "colab_type": "code",
        "id": "lAh1lGd3n8ZA",
        "colab": {}
      },
      "source": [
        "number_of_attemp_to_fit = 1"
      ],
      "execution_count": 0,
      "outputs": []
    },
    {
      "cell_type": "code",
      "metadata": {
        "colab_type": "code",
        "id": "6Dk08mkgn8ZE",
        "colab": {}
      },
      "source": [
        "train_data, test_data, l2i = read_trec50('trec50_splited/trec50_5k.csv')"
      ],
      "execution_count": 0,
      "outputs": []
    },
    {
      "cell_type": "code",
      "metadata": {
        "colab_type": "code",
        "id": "S0TTl7xKn8ZG",
        "colab": {}
      },
      "source": [
        "MAX_SEQ_LEN, N_CLASSES = 128, len(train_data.lbl_index.unique())"
      ],
      "execution_count": 0,
      "outputs": []
    },
    {
      "cell_type": "code",
      "metadata": {
        "id": "2d7H8pzNXvFq",
        "colab_type": "code",
        "colab": {}
      },
      "source": [
        "augmentation = read_aug('trec50_n1_bert_squad_pr_b-0.5_min_b-min_max_b-max_coefs2-2.csv', l2i)"
      ],
      "execution_count": 0,
      "outputs": []
    },
    {
      "cell_type": "code",
      "metadata": {
        "colab_type": "code",
        "outputId": "f951f36c-2296-4cbd-fefa-72ca2204ec3a",
        "id": "fzXArV6un8ZJ",
        "colab": {
          "base_uri": "https://localhost:8080/",
          "height": 748
        }
      },
      "source": [
        "f1_scores, acc_scores = [], []\n",
        "for _ in range(number_of_attemp_to_fit):\n",
        "  f1_score, acc_score = run_lstm(pd.concat([train_data,augmentation]), test_data, w2v_model, MAX_SEQ_LEN, N_CLASSES )\n",
        "  f1_scores.append(f1_score)\n",
        "  acc_scores.append(acc_score)\n",
        "print(\"f1_average: {}, std:{}\".format(np.mean(f1_scores), np.std(f1_scores)))\n",
        "print(\"acc_average: {}, std:{}\".format(np.mean(acc_scores), np.std(acc_scores)))"
      ],
      "execution_count": 0,
      "outputs": [
        {
          "output_type": "stream",
          "text": [
            "Not found vectors 27605 out of 65709 unique words\n",
            "Average sentence len:  10.322054778517645\n",
            "Max sentence len:  25601\n",
            "12.171% of tokens were replaced by unk token index\n",
            "Average sentence len:  7.516\n",
            "Max sentence len:  17\n",
            "4.683% of tokens were replaced by unk token index\n",
            "Train on 94161 samples, validate on 500 samples\n",
            "Epoch 1/100000\n",
            "94161/94161 [==============================] - 159s 2ms/step - loss: 2.1130 - accuracy: 0.4713 - f1: 0.3077 - val_loss: 2.6949 - val_accuracy: 0.3460 - val_f1: 0.3784\n",
            "Epoch 2/100000\n",
            "94161/94161 [==============================] - 162s 2ms/step - loss: 1.6283 - accuracy: 0.5768 - f1: 0.5204 - val_loss: 1.9905 - val_accuracy: 0.6020 - val_f1: 0.3939\n",
            "Epoch 3/100000\n",
            "94161/94161 [==============================] - 160s 2ms/step - loss: 1.3355 - accuracy: 0.6429 - f1: 0.6097 - val_loss: 1.6804 - val_accuracy: 0.6820 - val_f1: 0.6239\n",
            "Epoch 4/100000\n",
            "94161/94161 [==============================] - 159s 2ms/step - loss: 1.0911 - accuracy: 0.7098 - f1: 0.7000 - val_loss: 1.3746 - val_accuracy: 0.7320 - val_f1: 0.7569\n",
            "Epoch 5/100000\n",
            "94161/94161 [==============================] - 160s 2ms/step - loss: 0.9146 - accuracy: 0.7571 - f1: 0.7539 - val_loss: 1.2343 - val_accuracy: 0.7520 - val_f1: 0.7893\n",
            "Epoch 6/100000\n",
            "94161/94161 [==============================] - 159s 2ms/step - loss: 0.7808 - accuracy: 0.7926 - f1: 0.7936 - val_loss: 1.1217 - val_accuracy: 0.7620 - val_f1: 0.7996\n",
            "Epoch 7/100000\n",
            "94161/94161 [==============================] - 161s 2ms/step - loss: 0.6716 - accuracy: 0.8199 - f1: 0.8227 - val_loss: 1.0865 - val_accuracy: 0.7820 - val_f1: 0.8004\n",
            "Epoch 8/100000\n",
            "94161/94161 [==============================] - 156s 2ms/step - loss: 0.5838 - accuracy: 0.8422 - f1: 0.8458 - val_loss: 0.9774 - val_accuracy: 0.7940 - val_f1: 0.8079\n",
            "Epoch 9/100000\n",
            "94161/94161 [==============================] - 157s 2ms/step - loss: 0.5111 - accuracy: 0.8612 - f1: 0.8642 - val_loss: 0.9681 - val_accuracy: 0.7860 - val_f1: 0.8056\n",
            "Epoch 10/100000\n",
            "94161/94161 [==============================] - 157s 2ms/step - loss: 0.4485 - accuracy: 0.8768 - f1: 0.8808 - val_loss: 0.9516 - val_accuracy: 0.8040 - val_f1: 0.8271\n",
            "Epoch 11/100000\n",
            "94161/94161 [==============================] - 161s 2ms/step - loss: 0.3990 - accuracy: 0.8885 - f1: 0.8931 - val_loss: 0.9060 - val_accuracy: 0.8120 - val_f1: 0.8288\n",
            "Epoch 12/100000\n",
            "94161/94161 [==============================] - 164s 2ms/step - loss: 0.3445 - accuracy: 0.9042 - f1: 0.9083 - val_loss: 0.9531 - val_accuracy: 0.8200 - val_f1: 0.8337\n",
            "Epoch 13/100000\n",
            "94161/94161 [==============================] - 162s 2ms/step - loss: 0.3014 - accuracy: 0.9164 - f1: 0.9189 - val_loss: 0.9133 - val_accuracy: 0.8180 - val_f1: 0.8361\n",
            "Epoch 14/100000\n",
            "94161/94161 [==============================] - 159s 2ms/step - loss: 0.2634 - accuracy: 0.9256 - f1: 0.9291 - val_loss: 0.9602 - val_accuracy: 0.8240 - val_f1: 0.8333\n",
            "Epoch 15/100000\n",
            "94161/94161 [==============================] - 157s 2ms/step - loss: 0.2336 - accuracy: 0.9347 - f1: 0.9368 - val_loss: 0.9089 - val_accuracy: 0.8340 - val_f1: 0.8504\n",
            "Epoch 16/100000\n",
            "94161/94161 [==============================] - 162s 2ms/step - loss: 0.2100 - accuracy: 0.9403 - f1: 0.9423 - val_loss: 1.0818 - val_accuracy: 0.8160 - val_f1: 0.8287\n",
            "Best F1:0.850, best accuracy:0.834\n",
            "f1_average: 0.850361168384552, std:0.0\n",
            "acc_average: 0.8339999914169312, std:0.0\n"
          ],
          "name": "stdout"
        }
      ]
    },
    {
      "cell_type": "code",
      "metadata": {
        "colab_type": "code",
        "outputId": "58320140-a60a-4b5c-bbb9-bc7a87946a5e",
        "id": "-WUzXbxFVxwv",
        "colab": {
          "base_uri": "https://localhost:8080/",
          "height": 187
        }
      },
      "source": [
        "f1_scores, acc_scores = [], []\n",
        "for _ in range(number_of_attemp_to_fit):\n",
        "  f1_score, acc_score = run_cnn(pd.concat([train_data,augmentation]), test_data, w2v_model, MAX_SEQ_LEN, N_CLASSES )\n",
        "  f1_scores.append(f1_score)\n",
        "  acc_scores.append(acc_score)\n",
        "print(\"f1_average: {}, std:{}\".format(np.mean(f1_scores), np.std(f1_scores)))\n",
        "print(\"acc_average: {}, std:{}\".format(np.mean(acc_scores), np.std(acc_scores)))"
      ],
      "execution_count": 0,
      "outputs": [
        {
          "output_type": "stream",
          "text": [
            "Not found vectors 27605 out of 65709 unique words\n",
            "Average sentence len:  10.322054778517645\n",
            "Max sentence len:  25601\n",
            "12.171% of tokens were replaced by unk token index\n",
            "Average sentence len:  7.516\n",
            "Max sentence len:  17\n",
            "4.683% of tokens were replaced by unk token index\n",
            "Best F1:0.857, best accuracy:0.854\n",
            "f1_average: 0.8565487861633301, std:0.0\n",
            "acc_average: 0.8539999723434448, std:0.0\n"
          ],
          "name": "stdout"
        }
      ]
    },
    {
      "cell_type": "markdown",
      "metadata": {
        "id": "d8w6ZW7WXp5h",
        "colab_type": "text"
      },
      "source": [
        "## Trec-50 with EDA"
      ]
    },
    {
      "cell_type": "markdown",
      "metadata": {
        "id": "m-fbnQvi6ld8",
        "colab_type": "text"
      },
      "source": [
        "### 5000"
      ]
    },
    {
      "cell_type": "code",
      "metadata": {
        "id": "wccvyrSZXTxr",
        "colab_type": "code",
        "colab": {}
      },
      "source": [
        "def read_eda_trec50(file_name, typ = 1):\n",
        "  \"type = 0 - trec6, type = 1 - trec50\"\n",
        "  labels = [i[:-1].split('\\t' )[0] for i in open(file_name, encoding = 'windows-1252').readlines()]\n",
        "  texts = [ i[:-1].split('\\t' )[1] for i in open(file_name, encoding = 'windows-1252').readlines()]\n",
        "  aug  = pd.DataFrame({'text':texts, 'labels': labels})\n",
        "  lbl2indx = {i:j for j, i in enumerate(aug.labels.unique())}\n",
        "  aug['lbl_index'] = aug.labels.apply(lambda x:lbl2indx[x])\n",
        "  return aug"
      ],
      "execution_count": 0,
      "outputs": []
    },
    {
      "cell_type": "code",
      "metadata": {
        "id": "Bi5ULKl2eiRz",
        "colab_type": "code",
        "colab": {}
      },
      "source": [
        "aug_data =  read_eda_trec50('trec50_splited/augmented_with_eda/trec-50_clear_5k_samples.txt')"
      ],
      "execution_count": 0,
      "outputs": []
    },
    {
      "cell_type": "code",
      "metadata": {
        "id": "QgT8jC6456uw",
        "colab_type": "code",
        "colab": {}
      },
      "source": [
        "train_data, test_data, l2i = read_trec50('trec50_splited/trec50_5k.csv')"
      ],
      "execution_count": 0,
      "outputs": []
    },
    {
      "cell_type": "code",
      "metadata": {
        "colab_type": "code",
        "id": "yTzkyArq4-nM",
        "colab": {}
      },
      "source": [
        "number_of_attemp_to_fit = 3"
      ],
      "execution_count": 0,
      "outputs": []
    },
    {
      "cell_type": "code",
      "metadata": {
        "colab_type": "code",
        "id": "azdyF27X4-nS",
        "colab": {}
      },
      "source": [
        "MAX_SEQ_LEN, N_CLASSES = 37, len(train_data.lbl_index.unique())"
      ],
      "execution_count": 0,
      "outputs": []
    },
    {
      "cell_type": "code",
      "metadata": {
        "colab_type": "code",
        "outputId": "c28cde4b-2179-4814-8307-f136e8c3c896",
        "id": "g6PA5nE04-nY",
        "colab": {
          "base_uri": "https://localhost:8080/",
          "height": 1000
        }
      },
      "source": [
        "f1_scores, acc_scores = [], []\n",
        "for _ in range(number_of_attemp_to_fit):\n",
        "  f1_score, acc_score = run_cnn(pd.concat([train_data,aug_data]), test_data, w2v_model, MAX_SEQ_LEN, N_CLASSES )\n",
        "  f1_scores.append(f1_score)\n",
        "  acc_scores.append(acc_score)\n",
        "print(\"f1_average: {}, std:{}\".format(np.mean(f1_scores), np.std(f1_scores)))\n",
        "print(\"acc_average: {}, std:{}\".format(np.mean(acc_scores), np.std(acc_scores)))"
      ],
      "execution_count": 0,
      "outputs": [
        {
          "output_type": "stream",
          "text": [
            "Not found vectors 564 out of 14248 unique words\n",
            "Average sentence len:  9.438543954215746\n",
            "Max sentence len:  37\n",
            "2.704% of tokens were replaced by unk token index\n",
            "Average sentence len:  7.516\n",
            "Max sentence len:  17\n",
            "9.180% of tokens were replaced by unk token index\n",
            "Train on 30054 samples, validate on 500 samples\n",
            "Epoch 1/100000\n",
            "30054/30054 [==============================] - 1s 41us/step - loss: 2.2800 - accuracy: 0.4438 - f1: 0.2995 - val_loss: 1.5262 - val_accuracy: 0.6320 - val_f1: 0.6385\n",
            "Epoch 2/100000\n",
            "30054/30054 [==============================] - 1s 33us/step - loss: 0.6988 - accuracy: 0.8346 - f1: 0.8135 - val_loss: 0.9098 - val_accuracy: 0.7740 - val_f1: 0.8027\n",
            "Epoch 3/100000\n",
            "30054/30054 [==============================] - 1s 33us/step - loss: 0.1643 - accuracy: 0.9711 - f1: 0.9622 - val_loss: 0.8169 - val_accuracy: 0.8080 - val_f1: 0.8264\n",
            "Epoch 4/100000\n",
            "30054/30054 [==============================] - 1s 34us/step - loss: 0.0480 - accuracy: 0.9946 - f1: 0.9924 - val_loss: 0.8112 - val_accuracy: 0.8200 - val_f1: 0.8269\n",
            "Epoch 5/100000\n",
            "30054/30054 [==============================] - 1s 33us/step - loss: 0.0198 - accuracy: 0.9983 - f1: 0.9979 - val_loss: 0.8470 - val_accuracy: 0.8140 - val_f1: 0.8333\n",
            "Epoch 6/100000\n",
            "30054/30054 [==============================] - 1s 33us/step - loss: 0.0112 - accuracy: 0.9991 - f1: 0.9988 - val_loss: 0.8548 - val_accuracy: 0.8180 - val_f1: 0.8311\n",
            "Epoch 7/100000\n",
            "30054/30054 [==============================] - 1s 33us/step - loss: 0.0083 - accuracy: 0.9991 - f1: 0.9991 - val_loss: 0.8826 - val_accuracy: 0.8140 - val_f1: 0.8276\n",
            "Epoch 8/100000\n",
            "30054/30054 [==============================] - 1s 33us/step - loss: 0.0060 - accuracy: 0.9993 - f1: 0.9992 - val_loss: 0.8952 - val_accuracy: 0.8120 - val_f1: 0.8303\n",
            "Epoch 9/100000\n",
            "30054/30054 [==============================] - 1s 33us/step - loss: 0.0057 - accuracy: 0.9991 - f1: 0.9991 - val_loss: 0.9324 - val_accuracy: 0.8120 - val_f1: 0.8325\n",
            "Best F1:0.833, best accuracy:0.820\n",
            "Not found vectors 564 out of 14248 unique words\n",
            "Average sentence len:  9.438543954215746\n",
            "Max sentence len:  37\n",
            "2.704% of tokens were replaced by unk token index\n",
            "Average sentence len:  7.516\n",
            "Max sentence len:  17\n",
            "9.180% of tokens were replaced by unk token index\n",
            "Train on 30054 samples, validate on 500 samples\n",
            "Epoch 1/100000\n",
            "30054/30054 [==============================] - 1s 40us/step - loss: 2.3039 - accuracy: 0.4383 - f1: 0.2865 - val_loss: 1.5271 - val_accuracy: 0.6460 - val_f1: 0.6381\n",
            "Epoch 2/100000\n",
            "30054/30054 [==============================] - 1s 33us/step - loss: 0.7024 - accuracy: 0.8353 - f1: 0.8121 - val_loss: 0.9648 - val_accuracy: 0.7780 - val_f1: 0.8009\n",
            "Epoch 3/100000\n",
            "30054/30054 [==============================] - 1s 33us/step - loss: 0.1629 - accuracy: 0.9712 - f1: 0.9620 - val_loss: 0.9030 - val_accuracy: 0.8060 - val_f1: 0.8239\n",
            "Epoch 4/100000\n",
            "30054/30054 [==============================] - 1s 33us/step - loss: 0.0458 - accuracy: 0.9944 - f1: 0.9928 - val_loss: 0.8638 - val_accuracy: 0.8320 - val_f1: 0.8379\n",
            "Epoch 5/100000\n",
            "30054/30054 [==============================] - 1s 33us/step - loss: 0.0196 - accuracy: 0.9979 - f1: 0.9977 - val_loss: 0.8884 - val_accuracy: 0.8240 - val_f1: 0.8251\n",
            "Epoch 6/100000\n",
            "30054/30054 [==============================] - 1s 33us/step - loss: 0.0110 - accuracy: 0.9989 - f1: 0.9988 - val_loss: 0.9276 - val_accuracy: 0.8280 - val_f1: 0.8328\n",
            "Epoch 7/100000\n",
            "30054/30054 [==============================] - 1s 33us/step - loss: 0.0079 - accuracy: 0.9991 - f1: 0.9991 - val_loss: 0.9582 - val_accuracy: 0.8280 - val_f1: 0.8321\n",
            "Epoch 8/100000\n",
            "30054/30054 [==============================] - 1s 34us/step - loss: 0.0063 - accuracy: 0.9991 - f1: 0.9991 - val_loss: 0.9527 - val_accuracy: 0.8280 - val_f1: 0.8373\n",
            "Epoch 9/100000\n",
            "30054/30054 [==============================] - 1s 33us/step - loss: 0.0051 - accuracy: 0.9993 - f1: 0.9993 - val_loss: 0.9637 - val_accuracy: 0.8300 - val_f1: 0.8321\n",
            "Best F1:0.838, best accuracy:0.832\n",
            "Not found vectors 564 out of 14248 unique words\n",
            "Average sentence len:  9.438543954215746\n",
            "Max sentence len:  37\n",
            "2.704% of tokens were replaced by unk token index\n",
            "Average sentence len:  7.516\n",
            "Max sentence len:  17\n",
            "9.180% of tokens were replaced by unk token index\n",
            "Train on 30054 samples, validate on 500 samples\n",
            "Epoch 1/100000\n",
            "30054/30054 [==============================] - 1s 41us/step - loss: 2.3201 - accuracy: 0.4346 - f1: 0.2835 - val_loss: 1.5914 - val_accuracy: 0.6380 - val_f1: 0.6364\n",
            "Epoch 2/100000\n",
            "30054/30054 [==============================] - 1s 34us/step - loss: 0.7302 - accuracy: 0.8279 - f1: 0.8050 - val_loss: 0.9423 - val_accuracy: 0.7620 - val_f1: 0.8054\n",
            "Epoch 3/100000\n",
            "30054/30054 [==============================] - 1s 33us/step - loss: 0.1713 - accuracy: 0.9699 - f1: 0.9601 - val_loss: 0.8550 - val_accuracy: 0.7980 - val_f1: 0.8225\n",
            "Epoch 4/100000\n",
            "30054/30054 [==============================] - 1s 33us/step - loss: 0.0490 - accuracy: 0.9936 - f1: 0.9920 - val_loss: 0.8584 - val_accuracy: 0.8080 - val_f1: 0.8243\n",
            "Epoch 5/100000\n",
            "30054/30054 [==============================] - 1s 33us/step - loss: 0.0206 - accuracy: 0.9985 - f1: 0.9978 - val_loss: 0.8770 - val_accuracy: 0.8120 - val_f1: 0.8279\n",
            "Epoch 6/100000\n",
            "30054/30054 [==============================] - 1s 33us/step - loss: 0.0111 - accuracy: 0.9990 - f1: 0.9988 - val_loss: 0.9005 - val_accuracy: 0.8180 - val_f1: 0.8277\n",
            "Epoch 7/100000\n",
            "30054/30054 [==============================] - 1s 33us/step - loss: 0.0081 - accuracy: 0.9991 - f1: 0.9991 - val_loss: 0.9080 - val_accuracy: 0.8160 - val_f1: 0.8332\n",
            "Epoch 8/100000\n",
            "30054/30054 [==============================] - 1s 33us/step - loss: 0.0059 - accuracy: 0.9992 - f1: 0.9992 - val_loss: 0.9090 - val_accuracy: 0.8200 - val_f1: 0.8363\n",
            "Best F1:0.836, best accuracy:0.820\n",
            "f1_average: 0.835838516553243, std:0.0018890598884977734\n",
            "acc_average: 0.8240000009536743, std:0.005656865713435175\n"
          ],
          "name": "stdout"
        }
      ]
    },
    {
      "cell_type": "code",
      "metadata": {
        "colab_type": "code",
        "outputId": "18d3585d-0bed-4280-c0c5-4dc852401684",
        "id": "seCE6jkC4-nW",
        "colab": {
          "base_uri": "https://localhost:8080/",
          "height": 1000
        }
      },
      "source": [
        "f1_scores, acc_scores = [], []\n",
        "for _ in range(number_of_attemp_to_fit):\n",
        "  f1_score, acc_score = run_lstm(pd.concat([train_data,aug_data]), test_data, w2v_model, MAX_SEQ_LEN, N_CLASSES )\n",
        "  f1_scores.append(f1_score)\n",
        "  acc_scores.append(acc_score)\n",
        "print(\"f1_average: {}, std:{}\".format(np.mean(f1_scores), np.std(f1_scores)))\n",
        "print(\"acc_average: {}, std:{}\".format(np.mean(acc_scores), np.std(acc_scores)))"
      ],
      "execution_count": 0,
      "outputs": [
        {
          "output_type": "stream",
          "text": [
            "Not found vectors 564 out of 14248 unique words\n",
            "Average sentence len:  9.438543954215746\n",
            "Max sentence len:  37\n",
            "2.704% of tokens were replaced by unk token index\n",
            "Average sentence len:  7.516\n",
            "Max sentence len:  17\n",
            "9.180% of tokens were replaced by unk token index\n",
            "Train on 30054 samples, validate on 500 samples\n",
            "Epoch 1/100000\n",
            "30054/30054 [==============================] - 18s 586us/step - loss: 2.9144 - accuracy: 0.2691 - f1: 0.0970 - val_loss: 2.3789 - val_accuracy: 0.4500 - val_f1: 0.1979\n",
            "Epoch 2/100000\n",
            "30054/30054 [==============================] - 16s 530us/step - loss: 2.0123 - accuracy: 0.4799 - f1: 0.4584 - val_loss: 1.7416 - val_accuracy: 0.5800 - val_f1: 0.6216\n",
            "Epoch 3/100000\n",
            "30054/30054 [==============================] - 16s 531us/step - loss: 1.5051 - accuracy: 0.6067 - f1: 0.5905 - val_loss: 1.4034 - val_accuracy: 0.6360 - val_f1: 0.6931\n",
            "Epoch 4/100000\n",
            "30054/30054 [==============================] - 16s 538us/step - loss: 1.0752 - accuracy: 0.7120 - f1: 0.7116 - val_loss: 1.3420 - val_accuracy: 0.6720 - val_f1: 0.7007\n",
            "Epoch 5/100000\n",
            "30054/30054 [==============================] - 16s 517us/step - loss: 0.7635 - accuracy: 0.7942 - f1: 0.7953 - val_loss: 1.1308 - val_accuracy: 0.7240 - val_f1: 0.7492\n",
            "Epoch 6/100000\n",
            "30054/30054 [==============================] - 16s 523us/step - loss: 0.5424 - accuracy: 0.8518 - f1: 0.8541 - val_loss: 1.0913 - val_accuracy: 0.7360 - val_f1: 0.7541\n",
            "Epoch 7/100000\n",
            "30054/30054 [==============================] - 16s 534us/step - loss: 0.3846 - accuracy: 0.8961 - f1: 0.8970 - val_loss: 1.1403 - val_accuracy: 0.7580 - val_f1: 0.7749\n",
            "Epoch 8/100000\n",
            "30054/30054 [==============================] - 16s 540us/step - loss: 0.2649 - accuracy: 0.9284 - f1: 0.9279 - val_loss: 1.1883 - val_accuracy: 0.7640 - val_f1: 0.7814\n",
            "Epoch 9/100000\n",
            "30054/30054 [==============================] - 16s 521us/step - loss: 0.2033 - accuracy: 0.9439 - f1: 0.9432 - val_loss: 1.1899 - val_accuracy: 0.7660 - val_f1: 0.7826\n",
            "Epoch 10/100000\n",
            "30054/30054 [==============================] - 16s 524us/step - loss: 0.1472 - accuracy: 0.9599 - f1: 0.9601 - val_loss: 1.2212 - val_accuracy: 0.7780 - val_f1: 0.7971\n",
            "Epoch 11/100000\n",
            "30054/30054 [==============================] - 16s 524us/step - loss: 0.1192 - accuracy: 0.9668 - f1: 0.9673 - val_loss: 1.3395 - val_accuracy: 0.7740 - val_f1: 0.7861\n",
            "Best F1:0.797, best accuracy:0.778\n",
            "Not found vectors 564 out of 14248 unique words\n",
            "Average sentence len:  9.438543954215746\n",
            "Max sentence len:  37\n",
            "2.704% of tokens were replaced by unk token index\n",
            "Average sentence len:  7.516\n",
            "Max sentence len:  17\n",
            "9.180% of tokens were replaced by unk token index\n",
            "Train on 30054 samples, validate on 500 samples\n",
            "Epoch 1/100000\n",
            "30054/30054 [==============================] - 17s 581us/step - loss: 2.9430 - accuracy: 0.2587 - f1: 0.0715 - val_loss: 2.3561 - val_accuracy: 0.4620 - val_f1: 0.3918\n",
            "Epoch 2/100000\n",
            "30054/30054 [==============================] - 16s 531us/step - loss: 2.0254 - accuracy: 0.4786 - f1: 0.4306 - val_loss: 1.8362 - val_accuracy: 0.5440 - val_f1: 0.5918\n",
            "Epoch 3/100000\n",
            "30054/30054 [==============================] - 16s 520us/step - loss: 1.4973 - accuracy: 0.6096 - f1: 0.5981 - val_loss: 1.4090 - val_accuracy: 0.6400 - val_f1: 0.6739\n",
            "Epoch 4/100000\n",
            "30054/30054 [==============================] - 16s 540us/step - loss: 1.1068 - accuracy: 0.7055 - f1: 0.7054 - val_loss: 1.2343 - val_accuracy: 0.7000 - val_f1: 0.7064\n",
            "Epoch 5/100000\n",
            "30054/30054 [==============================] - 16s 529us/step - loss: 0.8183 - accuracy: 0.7806 - f1: 0.7821 - val_loss: 1.1948 - val_accuracy: 0.7040 - val_f1: 0.7252\n",
            "Epoch 6/100000\n",
            "30054/30054 [==============================] - 17s 553us/step - loss: 0.5776 - accuracy: 0.8440 - f1: 0.8438 - val_loss: 1.1769 - val_accuracy: 0.7300 - val_f1: 0.7541\n",
            "Epoch 7/100000\n",
            "30054/30054 [==============================] - 17s 565us/step - loss: 0.4164 - accuracy: 0.8847 - f1: 0.8855 - val_loss: 1.0992 - val_accuracy: 0.7480 - val_f1: 0.7672\n",
            "Epoch 8/100000\n",
            "30054/30054 [==============================] - 16s 527us/step - loss: 0.2947 - accuracy: 0.9197 - f1: 0.9202 - val_loss: 1.1984 - val_accuracy: 0.7560 - val_f1: 0.7671\n",
            "Epoch 9/100000\n",
            "30054/30054 [==============================] - 16s 522us/step - loss: 0.2210 - accuracy: 0.9388 - f1: 0.9398 - val_loss: 1.1808 - val_accuracy: 0.7800 - val_f1: 0.7833\n",
            "Epoch 10/100000\n",
            "30054/30054 [==============================] - 16s 540us/step - loss: 0.1600 - accuracy: 0.9565 - f1: 0.9569 - val_loss: 1.2755 - val_accuracy: 0.7540 - val_f1: 0.7686\n",
            "Epoch 11/100000\n",
            "30054/30054 [==============================] - 15s 512us/step - loss: 0.1290 - accuracy: 0.9647 - f1: 0.9654 - val_loss: 1.2908 - val_accuracy: 0.7760 - val_f1: 0.7782\n",
            "Epoch 12/100000\n",
            "30054/30054 [==============================] - 16s 533us/step - loss: 0.0998 - accuracy: 0.9732 - f1: 0.9738 - val_loss: 1.4195 - val_accuracy: 0.7680 - val_f1: 0.7787\n",
            "Best F1:0.783, best accuracy:0.780\n",
            "Not found vectors 564 out of 14248 unique words\n",
            "Average sentence len:  9.438543954215746\n",
            "Max sentence len:  37\n",
            "2.704% of tokens were replaced by unk token index\n",
            "Average sentence len:  7.516\n",
            "Max sentence len:  17\n",
            "9.180% of tokens were replaced by unk token index\n",
            "Train on 30054 samples, validate on 500 samples\n",
            "Epoch 1/100000\n",
            "30054/30054 [==============================] - 17s 566us/step - loss: 2.9558 - accuracy: 0.2580 - f1: 0.0836 - val_loss: 2.4400 - val_accuracy: 0.4820 - val_f1: 0.2034\n",
            "Epoch 2/100000\n",
            "30054/30054 [==============================] - 16s 517us/step - loss: 2.0586 - accuracy: 0.4847 - f1: 0.4550 - val_loss: 1.7574 - val_accuracy: 0.5800 - val_f1: 0.6074\n",
            "Epoch 3/100000\n",
            "30054/30054 [==============================] - 16s 529us/step - loss: 1.5788 - accuracy: 0.5917 - f1: 0.5881 - val_loss: 1.5522 - val_accuracy: 0.6320 - val_f1: 0.6619\n",
            "Epoch 4/100000\n",
            "30054/30054 [==============================] - 16s 519us/step - loss: 1.1931 - accuracy: 0.6863 - f1: 0.6895 - val_loss: 1.4231 - val_accuracy: 0.6320 - val_f1: 0.6891\n",
            "Epoch 5/100000\n",
            "30054/30054 [==============================] - 15s 512us/step - loss: 0.8802 - accuracy: 0.7629 - f1: 0.7667 - val_loss: 1.1465 - val_accuracy: 0.7500 - val_f1: 0.7460\n",
            "Epoch 6/100000\n",
            "30054/30054 [==============================] - 15s 502us/step - loss: 0.6305 - accuracy: 0.8288 - f1: 0.8286 - val_loss: 1.1570 - val_accuracy: 0.7440 - val_f1: 0.7630\n",
            "Epoch 7/100000\n",
            "30054/30054 [==============================] - 16s 524us/step - loss: 0.4457 - accuracy: 0.8794 - f1: 0.8801 - val_loss: 1.1449 - val_accuracy: 0.7560 - val_f1: 0.7784\n",
            "Epoch 8/100000\n",
            "30054/30054 [==============================] - 16s 545us/step - loss: 0.3161 - accuracy: 0.9141 - f1: 0.9141 - val_loss: 1.2273 - val_accuracy: 0.7700 - val_f1: 0.7784\n",
            "Epoch 9/100000\n",
            "30054/30054 [==============================] - 15s 509us/step - loss: 0.2399 - accuracy: 0.9339 - f1: 0.9344 - val_loss: 1.2695 - val_accuracy: 0.7840 - val_f1: 0.7816\n",
            "Epoch 10/100000\n",
            "30054/30054 [==============================] - 15s 512us/step - loss: 0.1755 - accuracy: 0.9516 - f1: 0.9524 - val_loss: 1.3311 - val_accuracy: 0.7760 - val_f1: 0.7926\n",
            "Epoch 11/100000\n",
            "30054/30054 [==============================] - 16s 521us/step - loss: 0.1425 - accuracy: 0.9596 - f1: 0.9608 - val_loss: 1.4025 - val_accuracy: 0.7800 - val_f1: 0.7917\n",
            "Epoch 12/100000\n",
            "30054/30054 [==============================] - 15s 510us/step - loss: 0.1087 - accuracy: 0.9704 - f1: 0.9708 - val_loss: 1.4423 - val_accuracy: 0.7580 - val_f1: 0.7721\n",
            "Best F1:0.793, best accuracy:0.784\n",
            "f1_average: 0.7909913063049316, std:0.005718413912889998\n",
            "acc_average: 0.7806666493415833, std:0.0024944326929822722\n"
          ],
          "name": "stdout"
        }
      ]
    },
    {
      "cell_type": "markdown",
      "metadata": {
        "id": "rcrOl37s7r-b",
        "colab_type": "text"
      },
      "source": [
        "### 4000"
      ]
    },
    {
      "cell_type": "code",
      "metadata": {
        "colab_type": "code",
        "id": "skYpa0j37vS5",
        "colab": {}
      },
      "source": [
        "aug_data =  read_eda_trec50('trec50_splited/augmented_with_eda/trec-50_clear_4k_samples.txt')"
      ],
      "execution_count": 0,
      "outputs": []
    },
    {
      "cell_type": "code",
      "metadata": {
        "colab_type": "code",
        "id": "D8cnBrzz7vS8",
        "colab": {}
      },
      "source": [
        "train_data, test_data, l2i = read_trec50('trec50_splited/trec50_4k.csv')"
      ],
      "execution_count": 0,
      "outputs": []
    },
    {
      "cell_type": "code",
      "metadata": {
        "colab_type": "code",
        "id": "NnuL_fx97vS-",
        "colab": {}
      },
      "source": [
        "number_of_attemp_to_fit = 3"
      ],
      "execution_count": 0,
      "outputs": []
    },
    {
      "cell_type": "code",
      "metadata": {
        "colab_type": "code",
        "id": "H94ggyY87vTA",
        "colab": {}
      },
      "source": [
        "MAX_SEQ_LEN, N_CLASSES = 37, len(train_data.lbl_index.unique())"
      ],
      "execution_count": 0,
      "outputs": []
    },
    {
      "cell_type": "code",
      "metadata": {
        "colab_type": "code",
        "outputId": "1858db32-d5f1-4f84-a078-c4609214ea88",
        "id": "DWk3cK347vTD",
        "colab": {
          "base_uri": "https://localhost:8080/",
          "height": 1000
        }
      },
      "source": [
        "f1_scores, acc_scores = [], []\n",
        "for _ in range(number_of_attemp_to_fit):\n",
        "  f1_score, acc_score = run_cnn(pd.concat([train_data,aug_data]), test_data, w2v_model, MAX_SEQ_LEN, N_CLASSES )\n",
        "  f1_scores.append(f1_score)\n",
        "  acc_scores.append(acc_score)\n",
        "print(\"f1_average: {}, std:{}\".format(np.mean(f1_scores), np.std(f1_scores)))\n",
        "print(\"acc_average: {}, std:{}\".format(np.mean(acc_scores), np.std(acc_scores)))"
      ],
      "execution_count": 0,
      "outputs": [
        {
          "output_type": "stream",
          "text": [
            "Not found vectors 470 out of 12417 unique words\n",
            "Average sentence len:  9.427070302727046\n",
            "Max sentence len:  37\n",
            "2.730% of tokens were replaced by unk token index\n",
            "Average sentence len:  7.516\n",
            "Max sentence len:  17\n",
            "10.165% of tokens were replaced by unk token index\n",
            "Train on 23982 samples, validate on 500 samples\n",
            "Epoch 1/100000\n",
            "23982/23982 [==============================] - 1s 45us/step - loss: 2.6067 - accuracy: 0.3661 - f1: 0.1782 - val_loss: 1.8473 - val_accuracy: 0.5920 - val_f1: 0.5225\n",
            "Epoch 2/100000\n",
            "23982/23982 [==============================] - 1s 33us/step - loss: 1.0036 - accuracy: 0.7594 - f1: 0.7134 - val_loss: 0.9547 - val_accuracy: 0.7680 - val_f1: 0.7819\n",
            "Epoch 3/100000\n",
            "23982/23982 [==============================] - 1s 33us/step - loss: 0.2613 - accuracy: 0.9516 - f1: 0.9332 - val_loss: 0.7953 - val_accuracy: 0.8140 - val_f1: 0.8165\n",
            "Epoch 4/100000\n",
            "23982/23982 [==============================] - 1s 33us/step - loss: 0.0709 - accuracy: 0.9917 - f1: 0.9873 - val_loss: 0.7499 - val_accuracy: 0.8260 - val_f1: 0.8366\n",
            "Epoch 5/100000\n",
            "23982/23982 [==============================] - 1s 33us/step - loss: 0.0281 - accuracy: 0.9975 - f1: 0.9968 - val_loss: 0.7628 - val_accuracy: 0.8200 - val_f1: 0.8319\n",
            "Epoch 6/100000\n",
            "23982/23982 [==============================] - 1s 33us/step - loss: 0.0155 - accuracy: 0.9990 - f1: 0.9989 - val_loss: 0.7483 - val_accuracy: 0.8340 - val_f1: 0.8414\n",
            "Epoch 7/100000\n",
            "23982/23982 [==============================] - 1s 33us/step - loss: 0.0103 - accuracy: 0.9991 - f1: 0.9992 - val_loss: 0.7650 - val_accuracy: 0.8280 - val_f1: 0.8437\n",
            "Epoch 8/100000\n",
            "23982/23982 [==============================] - 1s 33us/step - loss: 0.0077 - accuracy: 0.9992 - f1: 0.9992 - val_loss: 0.8000 - val_accuracy: 0.8200 - val_f1: 0.8389\n",
            "Epoch 9/100000\n",
            "23982/23982 [==============================] - 1s 34us/step - loss: 0.0064 - accuracy: 0.9993 - f1: 0.9993 - val_loss: 0.7853 - val_accuracy: 0.8360 - val_f1: 0.8479\n",
            "Epoch 10/100000\n",
            "23982/23982 [==============================] - 1s 34us/step - loss: 0.0053 - accuracy: 0.9995 - f1: 0.9994 - val_loss: 0.8059 - val_accuracy: 0.8300 - val_f1: 0.8425\n",
            "Epoch 11/100000\n",
            "23982/23982 [==============================] - 1s 34us/step - loss: 0.0046 - accuracy: 0.9994 - f1: 0.9994 - val_loss: 0.7983 - val_accuracy: 0.8340 - val_f1: 0.8450\n",
            "Best F1:0.848, best accuracy:0.836\n",
            "Not found vectors 470 out of 12417 unique words\n",
            "Average sentence len:  9.427070302727046\n",
            "Max sentence len:  37\n",
            "2.730% of tokens were replaced by unk token index\n",
            "Average sentence len:  7.516\n",
            "Max sentence len:  17\n",
            "10.165% of tokens were replaced by unk token index\n",
            "Train on 23982 samples, validate on 500 samples\n",
            "Epoch 1/100000\n",
            "23982/23982 [==============================] - 1s 42us/step - loss: 2.5382 - accuracy: 0.3854 - f1: 0.2100 - val_loss: 1.7689 - val_accuracy: 0.6000 - val_f1: 0.5682\n",
            "Epoch 2/100000\n",
            "23982/23982 [==============================] - 1s 34us/step - loss: 0.9494 - accuracy: 0.7758 - f1: 0.7357 - val_loss: 1.0257 - val_accuracy: 0.7440 - val_f1: 0.7642\n",
            "Epoch 3/100000\n",
            "23982/23982 [==============================] - 1s 33us/step - loss: 0.2525 - accuracy: 0.9561 - f1: 0.9375 - val_loss: 0.8206 - val_accuracy: 0.8000 - val_f1: 0.8151\n",
            "Epoch 4/100000\n",
            "23982/23982 [==============================] - 1s 33us/step - loss: 0.0705 - accuracy: 0.9915 - f1: 0.9880 - val_loss: 0.7877 - val_accuracy: 0.8080 - val_f1: 0.8177\n",
            "Epoch 5/100000\n",
            "23982/23982 [==============================] - 1s 33us/step - loss: 0.0289 - accuracy: 0.9972 - f1: 0.9964 - val_loss: 0.7537 - val_accuracy: 0.8220 - val_f1: 0.8330\n",
            "Epoch 6/100000\n",
            "23982/23982 [==============================] - 1s 33us/step - loss: 0.0153 - accuracy: 0.9989 - f1: 0.9988 - val_loss: 0.7756 - val_accuracy: 0.8300 - val_f1: 0.8316\n",
            "Epoch 7/100000\n",
            "23982/23982 [==============================] - 1s 34us/step - loss: 0.0104 - accuracy: 0.9991 - f1: 0.9992 - val_loss: 0.7824 - val_accuracy: 0.8320 - val_f1: 0.8370\n",
            "Epoch 8/100000\n",
            "23982/23982 [==============================] - 1s 33us/step - loss: 0.0078 - accuracy: 0.9993 - f1: 0.9993 - val_loss: 0.7843 - val_accuracy: 0.8300 - val_f1: 0.8340\n",
            "Epoch 9/100000\n",
            "23982/23982 [==============================] - 1s 33us/step - loss: 0.0060 - accuracy: 0.9995 - f1: 0.9993 - val_loss: 0.8116 - val_accuracy: 0.8320 - val_f1: 0.8353\n",
            "Epoch 10/100000\n",
            "23982/23982 [==============================] - 1s 33us/step - loss: 0.0050 - accuracy: 0.9995 - f1: 0.9994 - val_loss: 0.8156 - val_accuracy: 0.8300 - val_f1: 0.8326\n",
            "Best F1:0.837, best accuracy:0.832\n",
            "Not found vectors 470 out of 12417 unique words\n",
            "Average sentence len:  9.427070302727046\n",
            "Max sentence len:  37\n",
            "2.730% of tokens were replaced by unk token index\n",
            "Average sentence len:  7.516\n",
            "Max sentence len:  17\n",
            "10.165% of tokens were replaced by unk token index\n",
            "Train on 23982 samples, validate on 500 samples\n",
            "Epoch 1/100000\n",
            "23982/23982 [==============================] - 1s 41us/step - loss: 2.5639 - accuracy: 0.3748 - f1: 0.1945 - val_loss: 1.7203 - val_accuracy: 0.6200 - val_f1: 0.5670\n",
            "Epoch 2/100000\n",
            "23982/23982 [==============================] - 1s 33us/step - loss: 0.9655 - accuracy: 0.7745 - f1: 0.7283 - val_loss: 1.0160 - val_accuracy: 0.7420 - val_f1: 0.7802\n",
            "Epoch 3/100000\n",
            "23982/23982 [==============================] - 1s 33us/step - loss: 0.2501 - accuracy: 0.9566 - f1: 0.9392 - val_loss: 0.7887 - val_accuracy: 0.7920 - val_f1: 0.8188\n",
            "Epoch 4/100000\n",
            "23982/23982 [==============================] - 1s 33us/step - loss: 0.0684 - accuracy: 0.9916 - f1: 0.9881 - val_loss: 0.7459 - val_accuracy: 0.8160 - val_f1: 0.8310\n",
            "Epoch 5/100000\n",
            "23982/23982 [==============================] - 1s 33us/step - loss: 0.0279 - accuracy: 0.9977 - f1: 0.9970 - val_loss: 0.7257 - val_accuracy: 0.8220 - val_f1: 0.8357\n",
            "Epoch 6/100000\n",
            "23982/23982 [==============================] - 1s 33us/step - loss: 0.0149 - accuracy: 0.9988 - f1: 0.9988 - val_loss: 0.7297 - val_accuracy: 0.8340 - val_f1: 0.8374\n",
            "Epoch 7/100000\n",
            "23982/23982 [==============================] - 1s 33us/step - loss: 0.0101 - accuracy: 0.9992 - f1: 0.9992 - val_loss: 0.7376 - val_accuracy: 0.8320 - val_f1: 0.8427\n",
            "Epoch 8/100000\n",
            "23982/23982 [==============================] - 1s 33us/step - loss: 0.0077 - accuracy: 0.9993 - f1: 0.9993 - val_loss: 0.7482 - val_accuracy: 0.8340 - val_f1: 0.8412\n",
            "Epoch 9/100000\n",
            "23982/23982 [==============================] - 1s 33us/step - loss: 0.0061 - accuracy: 0.9992 - f1: 0.9992 - val_loss: 0.7334 - val_accuracy: 0.8280 - val_f1: 0.8443\n",
            "Epoch 10/100000\n",
            "23982/23982 [==============================] - 1s 33us/step - loss: 0.0051 - accuracy: 0.9994 - f1: 0.9993 - val_loss: 0.7653 - val_accuracy: 0.8300 - val_f1: 0.8396\n",
            "Best F1:0.844, best accuracy:0.834\n",
            "f1_average: 0.8430784344673157, std:0.004534856444240313\n",
            "acc_average: 0.8340000112851461, std:0.0016329964712711142\n"
          ],
          "name": "stdout"
        }
      ]
    },
    {
      "cell_type": "code",
      "metadata": {
        "colab_type": "code",
        "id": "ONapWaBD7vTG",
        "outputId": "b88232f4-3b69-4782-edb6-5d3132bcc3b0",
        "colab": {
          "base_uri": "https://localhost:8080/",
          "height": 1000
        }
      },
      "source": [
        "f1_scores, acc_scores = [], []\n",
        "for _ in range(number_of_attemp_to_fit):\n",
        "  f1_score, acc_score = run_lstm(pd.concat([train_data,aug_data]), test_data, w2v_model, MAX_SEQ_LEN, N_CLASSES )\n",
        "  f1_scores.append(f1_score)\n",
        "  acc_scores.append(acc_score)\n",
        "print(\"f1_average: {}, std:{}\".format(np.mean(f1_scores), np.std(f1_scores)))\n",
        "print(\"acc_average: {}, std:{}\".format(np.mean(acc_scores), np.std(acc_scores)))"
      ],
      "execution_count": 0,
      "outputs": [
        {
          "output_type": "stream",
          "text": [
            "Not found vectors 470 out of 12417 unique words\n",
            "Average sentence len:  9.427070302727046\n",
            "Max sentence len:  37\n",
            "2.730% of tokens were replaced by unk token index\n",
            "Average sentence len:  7.516\n",
            "Max sentence len:  17\n",
            "10.165% of tokens were replaced by unk token index\n",
            "Train on 23982 samples, validate on 500 samples\n",
            "Epoch 1/100000\n",
            "23982/23982 [==============================] - 13s 557us/step - loss: 3.0853 - accuracy: 0.2397 - f1: 0.0604 - val_loss: 2.4413 - val_accuracy: 0.4680 - val_f1: 0.1703\n",
            "Epoch 2/100000\n",
            "23982/23982 [==============================] - 13s 529us/step - loss: 2.2538 - accuracy: 0.4295 - f1: 0.3648 - val_loss: 1.9129 - val_accuracy: 0.5540 - val_f1: 0.5572\n",
            "Epoch 3/100000\n",
            "23982/23982 [==============================] - 12s 509us/step - loss: 1.7552 - accuracy: 0.5458 - f1: 0.5262 - val_loss: 1.5282 - val_accuracy: 0.6040 - val_f1: 0.6410\n",
            "Epoch 4/100000\n",
            "23982/23982 [==============================] - 12s 516us/step - loss: 1.3445 - accuracy: 0.6417 - f1: 0.6352 - val_loss: 1.3352 - val_accuracy: 0.6660 - val_f1: 0.6707\n",
            "Epoch 5/100000\n",
            "23982/23982 [==============================] - 12s 514us/step - loss: 1.0122 - accuracy: 0.7246 - f1: 0.7184 - val_loss: 1.1716 - val_accuracy: 0.6960 - val_f1: 0.7025\n",
            "Epoch 6/100000\n",
            "23982/23982 [==============================] - 13s 535us/step - loss: 0.7603 - accuracy: 0.7922 - f1: 0.7894 - val_loss: 1.1830 - val_accuracy: 0.7000 - val_f1: 0.7281\n",
            "Epoch 7/100000\n",
            "23982/23982 [==============================] - 12s 513us/step - loss: 0.5430 - accuracy: 0.8514 - f1: 0.8492 - val_loss: 1.0812 - val_accuracy: 0.7520 - val_f1: 0.7535\n",
            "Epoch 8/100000\n",
            "23982/23982 [==============================] - 13s 529us/step - loss: 0.3916 - accuracy: 0.8935 - f1: 0.8924 - val_loss: 1.0776 - val_accuracy: 0.7580 - val_f1: 0.7696\n",
            "Epoch 9/100000\n",
            "23982/23982 [==============================] - 13s 541us/step - loss: 0.2929 - accuracy: 0.9199 - f1: 0.9191 - val_loss: 1.1974 - val_accuracy: 0.7340 - val_f1: 0.7566\n",
            "Epoch 10/100000\n",
            "23982/23982 [==============================] - 12s 520us/step - loss: 0.2349 - accuracy: 0.9348 - f1: 0.9340 - val_loss: 1.1429 - val_accuracy: 0.7500 - val_f1: 0.7686\n",
            "Epoch 11/100000\n",
            "23982/23982 [==============================] - 13s 523us/step - loss: 0.1896 - accuracy: 0.9480 - f1: 0.9483 - val_loss: 1.1421 - val_accuracy: 0.7440 - val_f1: 0.7661\n",
            "Epoch 12/100000\n",
            "23982/23982 [==============================] - 13s 534us/step - loss: 0.1472 - accuracy: 0.9596 - f1: 0.9589 - val_loss: 1.2511 - val_accuracy: 0.7620 - val_f1: 0.7801\n",
            "Epoch 13/100000\n",
            "23982/23982 [==============================] - 12s 514us/step - loss: 0.1150 - accuracy: 0.9691 - f1: 0.9685 - val_loss: 1.2335 - val_accuracy: 0.7720 - val_f1: 0.7779\n",
            "Best F1:0.780, best accuracy:0.772\n",
            "Not found vectors 470 out of 12417 unique words\n",
            "Average sentence len:  9.427070302727046\n",
            "Max sentence len:  37\n",
            "2.730% of tokens were replaced by unk token index\n",
            "Average sentence len:  7.516\n",
            "Max sentence len:  17\n",
            "10.165% of tokens were replaced by unk token index\n",
            "Train on 23982 samples, validate on 500 samples\n",
            "Epoch 1/100000\n",
            "23982/23982 [==============================] - 13s 562us/step - loss: 3.1237 - accuracy: 0.2280 - f1: 0.0208 - val_loss: 2.4730 - val_accuracy: 0.4520 - val_f1: 0.1700\n",
            "Epoch 2/100000\n",
            "23982/23982 [==============================] - 12s 510us/step - loss: 2.2568 - accuracy: 0.4326 - f1: 0.3838 - val_loss: 1.8250 - val_accuracy: 0.5480 - val_f1: 0.5636\n",
            "Epoch 3/100000\n",
            "23982/23982 [==============================] - 12s 513us/step - loss: 1.7816 - accuracy: 0.5436 - f1: 0.5173 - val_loss: 1.6874 - val_accuracy: 0.5920 - val_f1: 0.6106\n",
            "Epoch 4/100000\n",
            "23982/23982 [==============================] - 12s 516us/step - loss: 1.3738 - accuracy: 0.6430 - f1: 0.6306 - val_loss: 1.2955 - val_accuracy: 0.6720 - val_f1: 0.6843\n",
            "Epoch 5/100000\n",
            "23982/23982 [==============================] - 12s 511us/step - loss: 1.0386 - accuracy: 0.7216 - f1: 0.7213 - val_loss: 1.2008 - val_accuracy: 0.7040 - val_f1: 0.7091\n",
            "Epoch 6/100000\n",
            "23982/23982 [==============================] - 13s 522us/step - loss: 0.7713 - accuracy: 0.7906 - f1: 0.7885 - val_loss: 1.1744 - val_accuracy: 0.7080 - val_f1: 0.7248\n",
            "Epoch 7/100000\n",
            "23982/23982 [==============================] - 13s 534us/step - loss: 0.5635 - accuracy: 0.8457 - f1: 0.8455 - val_loss: 1.1249 - val_accuracy: 0.7340 - val_f1: 0.7543\n",
            "Epoch 8/100000\n",
            "23982/23982 [==============================] - 12s 516us/step - loss: 0.4062 - accuracy: 0.8884 - f1: 0.8876 - val_loss: 1.1503 - val_accuracy: 0.7300 - val_f1: 0.7524\n",
            "Epoch 9/100000\n",
            "23982/23982 [==============================] - 13s 526us/step - loss: 0.3079 - accuracy: 0.9155 - f1: 0.9145 - val_loss: 1.1427 - val_accuracy: 0.7580 - val_f1: 0.7736\n",
            "Epoch 10/100000\n",
            "23982/23982 [==============================] - 12s 516us/step - loss: 0.2147 - accuracy: 0.9411 - f1: 0.9415 - val_loss: 1.2160 - val_accuracy: 0.7480 - val_f1: 0.7626\n",
            "Epoch 11/100000\n",
            "23982/23982 [==============================] - 13s 534us/step - loss: 0.1713 - accuracy: 0.9533 - f1: 0.9553 - val_loss: 1.2787 - val_accuracy: 0.7480 - val_f1: 0.7593\n",
            "Epoch 12/100000\n",
            "23982/23982 [==============================] - 13s 548us/step - loss: 0.1353 - accuracy: 0.9640 - f1: 0.9639 - val_loss: 1.2727 - val_accuracy: 0.7780 - val_f1: 0.7784\n",
            "Best F1:0.778, best accuracy:0.778\n",
            "Not found vectors 470 out of 12417 unique words\n",
            "Average sentence len:  9.427070302727046\n",
            "Max sentence len:  37\n",
            "2.730% of tokens were replaced by unk token index\n",
            "Average sentence len:  7.516\n",
            "Max sentence len:  17\n",
            "10.165% of tokens were replaced by unk token index\n",
            "Train on 23982 samples, validate on 500 samples\n",
            "Epoch 1/100000\n",
            "23982/23982 [==============================] - 13s 563us/step - loss: 3.1470 - accuracy: 0.2147 - f1: 0.0301 - val_loss: 2.5263 - val_accuracy: 0.4560 - val_f1: 0.1667\n",
            "Epoch 2/100000\n",
            "23982/23982 [==============================] - 12s 517us/step - loss: 2.2757 - accuracy: 0.4358 - f1: 0.3791 - val_loss: 1.7384 - val_accuracy: 0.5780 - val_f1: 0.6231\n",
            "Epoch 3/100000\n",
            "23982/23982 [==============================] - 13s 524us/step - loss: 1.6785 - accuracy: 0.5667 - f1: 0.5502 - val_loss: 1.4129 - val_accuracy: 0.6440 - val_f1: 0.6771\n",
            "Epoch 4/100000\n",
            "23982/23982 [==============================] - 13s 524us/step - loss: 1.2192 - accuracy: 0.6786 - f1: 0.6766 - val_loss: 1.1987 - val_accuracy: 0.6880 - val_f1: 0.7067\n",
            "Epoch 5/100000\n",
            "23982/23982 [==============================] - 13s 530us/step - loss: 0.8854 - accuracy: 0.7638 - f1: 0.7617 - val_loss: 1.0818 - val_accuracy: 0.7360 - val_f1: 0.7377\n",
            "Epoch 6/100000\n",
            "23982/23982 [==============================] - 12s 516us/step - loss: 0.6354 - accuracy: 0.8260 - f1: 0.8239 - val_loss: 1.0964 - val_accuracy: 0.7320 - val_f1: 0.7604\n",
            "Epoch 7/100000\n",
            "23982/23982 [==============================] - 13s 529us/step - loss: 0.4643 - accuracy: 0.8719 - f1: 0.8704 - val_loss: 1.1212 - val_accuracy: 0.7480 - val_f1: 0.7583\n",
            "Epoch 8/100000\n",
            "23982/23982 [==============================] - 12s 516us/step - loss: 0.3401 - accuracy: 0.9073 - f1: 0.9057 - val_loss: 1.1595 - val_accuracy: 0.7620 - val_f1: 0.7653\n",
            "Epoch 9/100000\n",
            "23982/23982 [==============================] - 12s 511us/step - loss: 0.2463 - accuracy: 0.9325 - f1: 0.9331 - val_loss: 1.1586 - val_accuracy: 0.7620 - val_f1: 0.7799\n",
            "Epoch 10/100000\n",
            "23982/23982 [==============================] - 12s 517us/step - loss: 0.1798 - accuracy: 0.9496 - f1: 0.9501 - val_loss: 1.2518 - val_accuracy: 0.7600 - val_f1: 0.7718\n",
            "Best F1:0.780, best accuracy:0.762\n",
            "f1_average: 0.7794376214345297, std:0.0007697137792475997\n",
            "acc_average: 0.7706666787465414, std:0.0065996525817618515\n"
          ],
          "name": "stdout"
        }
      ]
    },
    {
      "cell_type": "markdown",
      "metadata": {
        "id": "uZVNou3t716a",
        "colab_type": "text"
      },
      "source": [
        "### 3000"
      ]
    },
    {
      "cell_type": "code",
      "metadata": {
        "colab_type": "code",
        "id": "VpQRZsa273xT",
        "colab": {}
      },
      "source": [
        "aug_data =  read_eda_trec50('trec50_splited/augmented_with_eda/trec-50_clear_3k_samples.txt')"
      ],
      "execution_count": 0,
      "outputs": []
    },
    {
      "cell_type": "code",
      "metadata": {
        "colab_type": "code",
        "id": "M-Gy4U8M73xV",
        "colab": {}
      },
      "source": [
        "train_data, test_data, l2i = read_trec50('trec50_splited/trec50_3k.csv')"
      ],
      "execution_count": 0,
      "outputs": []
    },
    {
      "cell_type": "code",
      "metadata": {
        "colab_type": "code",
        "id": "F8CZEmaL73xX",
        "colab": {}
      },
      "source": [
        "number_of_attemp_to_fit = 3"
      ],
      "execution_count": 0,
      "outputs": []
    },
    {
      "cell_type": "code",
      "metadata": {
        "colab_type": "code",
        "id": "Qz1piCbH73xZ",
        "colab": {}
      },
      "source": [
        "MAX_SEQ_LEN, N_CLASSES = 37, len(train_data.lbl_index.unique())"
      ],
      "execution_count": 0,
      "outputs": []
    },
    {
      "cell_type": "code",
      "metadata": {
        "colab_type": "code",
        "outputId": "2fb88ab6-cde2-4198-b84d-100d25eb5f25",
        "id": "wr1cYrVt73xb",
        "colab": {
          "base_uri": "https://localhost:8080/",
          "height": 1000
        }
      },
      "source": [
        "f1_scores, acc_scores = [], []\n",
        "for _ in range(number_of_attemp_to_fit):\n",
        "  f1_score, acc_score = run_cnn(pd.concat([train_data,aug_data]), test_data, w2v_model, MAX_SEQ_LEN, N_CLASSES )\n",
        "  f1_scores.append(f1_score)\n",
        "  acc_scores.append(acc_score)\n",
        "print(\"f1_average: {}, std:{}\".format(np.mean(f1_scores), np.std(f1_scores)))\n",
        "print(\"acc_average: {}, std:{}\".format(np.mean(acc_scores), np.std(acc_scores)))"
      ],
      "execution_count": 0,
      "outputs": [
        {
          "output_type": "stream",
          "text": [
            "Not found vectors 319 out of 9331 unique words\n",
            "Average sentence len:  9.484951603145795\n",
            "Max sentence len:  33\n",
            "2.700% of tokens were replaced by unk token index\n",
            "Average sentence len:  7.516\n",
            "Max sentence len:  17\n",
            "11.309% of tokens were replaced by unk token index\n",
            "Train on 13224 samples, validate on 500 samples\n",
            "Epoch 1/100000\n",
            "13224/13224 [==============================] - 1s 56us/step - loss: 2.6363 - accuracy: 0.3272 - f1: 0.0669 - val_loss: 2.6541 - val_accuracy: 0.4680 - val_f1: 0.1304\n",
            "Epoch 2/100000\n",
            "13224/13224 [==============================] - 0s 32us/step - loss: 1.2494 - accuracy: 0.7172 - f1: 0.6143 - val_loss: 1.8026 - val_accuracy: 0.6440 - val_f1: 0.5927\n",
            "Epoch 3/100000\n",
            "13224/13224 [==============================] - 0s 32us/step - loss: 0.5108 - accuracy: 0.8903 - f1: 0.8890 - val_loss: 1.4135 - val_accuracy: 0.6880 - val_f1: 0.7051\n",
            "Epoch 4/100000\n",
            "13224/13224 [==============================] - 0s 33us/step - loss: 0.2426 - accuracy: 0.9477 - f1: 0.9490 - val_loss: 1.1730 - val_accuracy: 0.7200 - val_f1: 0.7136\n",
            "Epoch 5/100000\n",
            "13224/13224 [==============================] - 0s 33us/step - loss: 0.1301 - accuracy: 0.9780 - f1: 0.9692 - val_loss: 1.0316 - val_accuracy: 0.7540 - val_f1: 0.7559\n",
            "Epoch 6/100000\n",
            "13224/13224 [==============================] - 0s 33us/step - loss: 0.0734 - accuracy: 0.9894 - f1: 0.9835 - val_loss: 0.9141 - val_accuracy: 0.7940 - val_f1: 0.7972\n",
            "Epoch 7/100000\n",
            "13224/13224 [==============================] - 0s 32us/step - loss: 0.0406 - accuracy: 0.9956 - f1: 0.9919 - val_loss: 0.8673 - val_accuracy: 0.8000 - val_f1: 0.8005\n",
            "Epoch 8/100000\n",
            "13224/13224 [==============================] - 0s 32us/step - loss: 0.0234 - accuracy: 0.9981 - f1: 0.9963 - val_loss: 0.8107 - val_accuracy: 0.8120 - val_f1: 0.8180\n",
            "Epoch 9/100000\n",
            "13224/13224 [==============================] - 0s 32us/step - loss: 0.0154 - accuracy: 0.9983 - f1: 0.9980 - val_loss: 0.8118 - val_accuracy: 0.8040 - val_f1: 0.8134\n",
            "Epoch 10/100000\n",
            "13224/13224 [==============================] - 0s 33us/step - loss: 0.0111 - accuracy: 0.9983 - f1: 0.9982 - val_loss: 0.7622 - val_accuracy: 0.8180 - val_f1: 0.8205\n",
            "Epoch 11/100000\n",
            "13224/13224 [==============================] - 0s 33us/step - loss: 0.0083 - accuracy: 0.9988 - f1: 0.9987 - val_loss: 0.7729 - val_accuracy: 0.8160 - val_f1: 0.8270\n",
            "Epoch 12/100000\n",
            "13224/13224 [==============================] - 0s 33us/step - loss: 0.0081 - accuracy: 0.9985 - f1: 0.9984 - val_loss: 0.7555 - val_accuracy: 0.8160 - val_f1: 0.8312\n",
            "Epoch 13/100000\n",
            "13224/13224 [==============================] - 0s 32us/step - loss: 0.0063 - accuracy: 0.9986 - f1: 0.9985 - val_loss: 0.7408 - val_accuracy: 0.8280 - val_f1: 0.8339\n",
            "Epoch 14/100000\n",
            "13224/13224 [==============================] - 0s 33us/step - loss: 0.0048 - accuracy: 0.9986 - f1: 0.9986 - val_loss: 0.7620 - val_accuracy: 0.8120 - val_f1: 0.8214\n",
            "Epoch 15/100000\n",
            "13224/13224 [==============================] - 0s 32us/step - loss: 0.0046 - accuracy: 0.9987 - f1: 0.9987 - val_loss: 0.7673 - val_accuracy: 0.8140 - val_f1: 0.8278\n",
            "Epoch 16/100000\n",
            "13224/13224 [==============================] - 0s 33us/step - loss: 0.0043 - accuracy: 0.9988 - f1: 0.9988 - val_loss: 0.7297 - val_accuracy: 0.8240 - val_f1: 0.8323\n",
            "Epoch 17/100000\n",
            "13224/13224 [==============================] - 0s 32us/step - loss: 0.0043 - accuracy: 0.9985 - f1: 0.9985 - val_loss: 0.7342 - val_accuracy: 0.8240 - val_f1: 0.8362\n",
            "Epoch 18/100000\n",
            "13224/13224 [==============================] - 0s 32us/step - loss: 0.0044 - accuracy: 0.9989 - f1: 0.9989 - val_loss: 0.7925 - val_accuracy: 0.8120 - val_f1: 0.8330\n",
            "Epoch 19/100000\n",
            "13224/13224 [==============================] - 0s 33us/step - loss: 0.0039 - accuracy: 0.9985 - f1: 0.9985 - val_loss: 0.7393 - val_accuracy: 0.8240 - val_f1: 0.8372\n",
            "Epoch 20/100000\n",
            "13224/13224 [==============================] - 0s 32us/step - loss: 0.0032 - accuracy: 0.9986 - f1: 0.9986 - val_loss: 0.7305 - val_accuracy: 0.8280 - val_f1: 0.8351\n",
            "Epoch 21/100000\n",
            "13224/13224 [==============================] - 0s 32us/step - loss: 0.0031 - accuracy: 0.9989 - f1: 0.9989 - val_loss: 0.7662 - val_accuracy: 0.8120 - val_f1: 0.8316\n",
            "Best F1:0.837, best accuracy:0.828\n",
            "Not found vectors 319 out of 9331 unique words\n",
            "Average sentence len:  9.484951603145795\n",
            "Max sentence len:  33\n",
            "2.700% of tokens were replaced by unk token index\n",
            "Average sentence len:  7.516\n",
            "Max sentence len:  17\n",
            "11.309% of tokens were replaced by unk token index\n",
            "Train on 13224 samples, validate on 500 samples\n",
            "Epoch 1/100000\n",
            "13224/13224 [==============================] - 1s 49us/step - loss: 2.6648 - accuracy: 0.3278 - f1: 0.0607 - val_loss: 2.7525 - val_accuracy: 0.4980 - val_f1: 0.1165\n",
            "Epoch 2/100000\n",
            "13224/13224 [==============================] - 0s 33us/step - loss: 1.2854 - accuracy: 0.7057 - f1: 0.5977 - val_loss: 1.8683 - val_accuracy: 0.6340 - val_f1: 0.6083\n",
            "Epoch 3/100000\n",
            "13224/13224 [==============================] - 0s 33us/step - loss: 0.5477 - accuracy: 0.8837 - f1: 0.8811 - val_loss: 1.4802 - val_accuracy: 0.6780 - val_f1: 0.6894\n",
            "Epoch 4/100000\n",
            "13224/13224 [==============================] - 0s 33us/step - loss: 0.2594 - accuracy: 0.9463 - f1: 0.9477 - val_loss: 1.1763 - val_accuracy: 0.7440 - val_f1: 0.7114\n",
            "Epoch 5/100000\n",
            "13224/13224 [==============================] - 0s 33us/step - loss: 0.1374 - accuracy: 0.9767 - f1: 0.9704 - val_loss: 1.0389 - val_accuracy: 0.7600 - val_f1: 0.7485\n",
            "Epoch 6/100000\n",
            "13224/13224 [==============================] - 0s 33us/step - loss: 0.0763 - accuracy: 0.9892 - f1: 0.9829 - val_loss: 0.9096 - val_accuracy: 0.7800 - val_f1: 0.7707\n",
            "Epoch 7/100000\n",
            "13224/13224 [==============================] - 0s 33us/step - loss: 0.0438 - accuracy: 0.9950 - f1: 0.9903 - val_loss: 0.9289 - val_accuracy: 0.7760 - val_f1: 0.7687\n",
            "Epoch 8/100000\n",
            "13224/13224 [==============================] - 0s 33us/step - loss: 0.0257 - accuracy: 0.9979 - f1: 0.9956 - val_loss: 0.8039 - val_accuracy: 0.7900 - val_f1: 0.8103\n",
            "Epoch 9/100000\n",
            "13224/13224 [==============================] - 0s 33us/step - loss: 0.0163 - accuracy: 0.9983 - f1: 0.9977 - val_loss: 0.8032 - val_accuracy: 0.7800 - val_f1: 0.7982\n",
            "Epoch 10/100000\n",
            "13224/13224 [==============================] - 0s 33us/step - loss: 0.0113 - accuracy: 0.9984 - f1: 0.9983 - val_loss: 0.7718 - val_accuracy: 0.8040 - val_f1: 0.8097\n",
            "Epoch 11/100000\n",
            "13224/13224 [==============================] - 0s 34us/step - loss: 0.0083 - accuracy: 0.9989 - f1: 0.9989 - val_loss: 0.7402 - val_accuracy: 0.8000 - val_f1: 0.8169\n",
            "Epoch 12/100000\n",
            "13224/13224 [==============================] - 0s 33us/step - loss: 0.0068 - accuracy: 0.9988 - f1: 0.9987 - val_loss: 0.7747 - val_accuracy: 0.7960 - val_f1: 0.8043\n",
            "Epoch 13/100000\n",
            "13224/13224 [==============================] - 0s 33us/step - loss: 0.0062 - accuracy: 0.9986 - f1: 0.9986 - val_loss: 0.7532 - val_accuracy: 0.8000 - val_f1: 0.8095\n",
            "Epoch 14/100000\n",
            "13224/13224 [==============================] - 0s 33us/step - loss: 0.0052 - accuracy: 0.9985 - f1: 0.9985 - val_loss: 0.7393 - val_accuracy: 0.8080 - val_f1: 0.8098\n",
            "Epoch 15/100000\n",
            "13224/13224 [==============================] - 0s 33us/step - loss: 0.0056 - accuracy: 0.9989 - f1: 0.9989 - val_loss: 0.7528 - val_accuracy: 0.8040 - val_f1: 0.8163\n",
            "Epoch 16/100000\n",
            "13224/13224 [==============================] - 0s 33us/step - loss: 0.0041 - accuracy: 0.9989 - f1: 0.9988 - val_loss: 0.7664 - val_accuracy: 0.8000 - val_f1: 0.8086\n",
            "Epoch 17/100000\n",
            "13224/13224 [==============================] - 0s 33us/step - loss: 0.0042 - accuracy: 0.9987 - f1: 0.9987 - val_loss: 0.7713 - val_accuracy: 0.7940 - val_f1: 0.8064\n",
            "Epoch 18/100000\n",
            "13224/13224 [==============================] - 0s 33us/step - loss: 0.0043 - accuracy: 0.9987 - f1: 0.9987 - val_loss: 0.7850 - val_accuracy: 0.8040 - val_f1: 0.8034\n",
            "Epoch 19/100000\n",
            "13224/13224 [==============================] - 0s 33us/step - loss: 0.0044 - accuracy: 0.9984 - f1: 0.9984 - val_loss: 0.7625 - val_accuracy: 0.8080 - val_f1: 0.8136\n",
            "Best F1:0.817, best accuracy:0.808\n",
            "Not found vectors 319 out of 9331 unique words\n",
            "Average sentence len:  9.484951603145795\n",
            "Max sentence len:  33\n",
            "2.700% of tokens were replaced by unk token index\n",
            "Average sentence len:  7.516\n",
            "Max sentence len:  17\n",
            "11.309% of tokens were replaced by unk token index\n",
            "Train on 13224 samples, validate on 500 samples\n",
            "Epoch 1/100000\n",
            "13224/13224 [==============================] - 1s 47us/step - loss: 2.7221 - accuracy: 0.3190 - f1: 0.0622 - val_loss: 2.7830 - val_accuracy: 0.4980 - val_f1: 0.1407\n",
            "Epoch 2/100000\n",
            "13224/13224 [==============================] - 0s 33us/step - loss: 1.3562 - accuracy: 0.6869 - f1: 0.5708 - val_loss: 1.9010 - val_accuracy: 0.6320 - val_f1: 0.5622\n",
            "Epoch 3/100000\n",
            "13224/13224 [==============================] - 0s 33us/step - loss: 0.5871 - accuracy: 0.8758 - f1: 0.8670 - val_loss: 1.4571 - val_accuracy: 0.6700 - val_f1: 0.6964\n",
            "Epoch 4/100000\n",
            "13224/13224 [==============================] - 0s 33us/step - loss: 0.2671 - accuracy: 0.9455 - f1: 0.9450 - val_loss: 1.2189 - val_accuracy: 0.7380 - val_f1: 0.7040\n",
            "Epoch 5/100000\n",
            "13224/13224 [==============================] - 0s 33us/step - loss: 0.1376 - accuracy: 0.9768 - f1: 0.9698 - val_loss: 1.0624 - val_accuracy: 0.7580 - val_f1: 0.7544\n",
            "Epoch 6/100000\n",
            "13224/13224 [==============================] - 0s 33us/step - loss: 0.0744 - accuracy: 0.9902 - f1: 0.9837 - val_loss: 1.0031 - val_accuracy: 0.7640 - val_f1: 0.7509\n",
            "Epoch 7/100000\n",
            "13224/13224 [==============================] - 0s 32us/step - loss: 0.0422 - accuracy: 0.9950 - f1: 0.9917 - val_loss: 0.8828 - val_accuracy: 0.8000 - val_f1: 0.7891\n",
            "Epoch 8/100000\n",
            "13224/13224 [==============================] - 0s 32us/step - loss: 0.0252 - accuracy: 0.9971 - f1: 0.9956 - val_loss: 0.8407 - val_accuracy: 0.8000 - val_f1: 0.8062\n",
            "Epoch 9/100000\n",
            "13224/13224 [==============================] - 0s 33us/step - loss: 0.0157 - accuracy: 0.9982 - f1: 0.9976 - val_loss: 0.8034 - val_accuracy: 0.8040 - val_f1: 0.8084\n",
            "Epoch 10/100000\n",
            "13224/13224 [==============================] - 0s 32us/step - loss: 0.0112 - accuracy: 0.9983 - f1: 0.9981 - val_loss: 0.7869 - val_accuracy: 0.8140 - val_f1: 0.8277\n",
            "Epoch 11/100000\n",
            "13224/13224 [==============================] - 0s 32us/step - loss: 0.0084 - accuracy: 0.9986 - f1: 0.9985 - val_loss: 0.7755 - val_accuracy: 0.8180 - val_f1: 0.8221\n",
            "Epoch 12/100000\n",
            "13224/13224 [==============================] - 0s 33us/step - loss: 0.0069 - accuracy: 0.9983 - f1: 0.9983 - val_loss: 0.7795 - val_accuracy: 0.8200 - val_f1: 0.8259\n",
            "Epoch 13/100000\n",
            "13224/13224 [==============================] - 0s 32us/step - loss: 0.0058 - accuracy: 0.9987 - f1: 0.9988 - val_loss: 0.7693 - val_accuracy: 0.8180 - val_f1: 0.8224\n",
            "Epoch 14/100000\n",
            "13224/13224 [==============================] - 0s 33us/step - loss: 0.0049 - accuracy: 0.9987 - f1: 0.9987 - val_loss: 0.8009 - val_accuracy: 0.8140 - val_f1: 0.8233\n",
            "Epoch 15/100000\n",
            "13224/13224 [==============================] - 0s 33us/step - loss: 0.0050 - accuracy: 0.9988 - f1: 0.9988 - val_loss: 0.8040 - val_accuracy: 0.8120 - val_f1: 0.8155\n",
            "Epoch 16/100000\n",
            "13224/13224 [==============================] - 0s 33us/step - loss: 0.0042 - accuracy: 0.9988 - f1: 0.9988 - val_loss: 0.7590 - val_accuracy: 0.8200 - val_f1: 0.8226\n",
            "Epoch 17/100000\n",
            "13224/13224 [==============================] - 0s 32us/step - loss: 0.0039 - accuracy: 0.9987 - f1: 0.9987 - val_loss: 0.7993 - val_accuracy: 0.8120 - val_f1: 0.8237\n",
            "Epoch 18/100000\n",
            "13224/13224 [==============================] - 0s 33us/step - loss: 0.0042 - accuracy: 0.9984 - f1: 0.9984 - val_loss: 0.7829 - val_accuracy: 0.8240 - val_f1: 0.8307\n",
            "Epoch 19/100000\n",
            "13224/13224 [==============================] - 0s 33us/step - loss: 0.0041 - accuracy: 0.9986 - f1: 0.9986 - val_loss: 0.7783 - val_accuracy: 0.8220 - val_f1: 0.8316\n",
            "Epoch 20/100000\n",
            "13224/13224 [==============================] - 0s 33us/step - loss: 0.0034 - accuracy: 0.9992 - f1: 0.9992 - val_loss: 0.7720 - val_accuracy: 0.8260 - val_f1: 0.8316\n",
            "Epoch 21/100000\n",
            "13224/13224 [==============================] - 0s 33us/step - loss: 0.0039 - accuracy: 0.9989 - f1: 0.9989 - val_loss: 0.7707 - val_accuracy: 0.8180 - val_f1: 0.8278\n",
            "Best F1:0.832, best accuracy:0.826\n",
            "f1_average: 0.828555703163147, std:0.008557915344795644\n",
            "acc_average: 0.8206666707992554, std:0.008993809395883415\n"
          ],
          "name": "stdout"
        }
      ]
    },
    {
      "cell_type": "code",
      "metadata": {
        "colab_type": "code",
        "id": "Mi2oTG6s73xe",
        "outputId": "2705cd2a-e8ff-46c2-dc60-45647dacfd03",
        "colab": {
          "base_uri": "https://localhost:8080/",
          "height": 1000
        }
      },
      "source": [
        "f1_scores, acc_scores = [], []\n",
        "for _ in range(number_of_attemp_to_fit):\n",
        "  f1_score, acc_score = run_lstm(pd.concat([train_data,aug_data]), test_data, w2v_model, MAX_SEQ_LEN, N_CLASSES )\n",
        "  f1_scores.append(f1_score)\n",
        "  acc_scores.append(acc_score)\n",
        "print(\"f1_average: {}, std:{}\".format(np.mean(f1_scores), np.std(f1_scores)))\n",
        "print(\"acc_average: {}, std:{}\".format(np.mean(acc_scores), np.std(acc_scores)))"
      ],
      "execution_count": 0,
      "outputs": [
        {
          "output_type": "stream",
          "text": [
            "Not found vectors 319 out of 9331 unique words\n",
            "Average sentence len:  9.484951603145795\n",
            "Max sentence len:  33\n",
            "2.700% of tokens were replaced by unk token index\n",
            "Average sentence len:  7.516\n",
            "Max sentence len:  17\n",
            "11.309% of tokens were replaced by unk token index\n",
            "Train on 13224 samples, validate on 500 samples\n",
            "Epoch 1/100000\n",
            "13224/13224 [==============================] - 8s 597us/step - loss: 3.0952 - accuracy: 0.2005 - f1: 0.0073 - val_loss: 3.1231 - val_accuracy: 0.2420 - val_f1: 0.0040\n",
            "Epoch 2/100000\n",
            "13224/13224 [==============================] - 7s 508us/step - loss: 2.3525 - accuracy: 0.3811 - f1: 0.2350 - val_loss: 2.6493 - val_accuracy: 0.4480 - val_f1: 0.1900\n",
            "Epoch 3/100000\n",
            "13224/13224 [==============================] - 7s 531us/step - loss: 1.7411 - accuracy: 0.5258 - f1: 0.4497 - val_loss: 2.2030 - val_accuracy: 0.5660 - val_f1: 0.2466\n",
            "Epoch 4/100000\n",
            "13224/13224 [==============================] - 7s 518us/step - loss: 1.2600 - accuracy: 0.6651 - f1: 0.6338 - val_loss: 1.8661 - val_accuracy: 0.5960 - val_f1: 0.4084\n",
            "Epoch 5/100000\n",
            "13224/13224 [==============================] - 7s 545us/step - loss: 0.9248 - accuracy: 0.7567 - f1: 0.7501 - val_loss: 1.6544 - val_accuracy: 0.6240 - val_f1: 0.6610\n",
            "Epoch 6/100000\n",
            "13224/13224 [==============================] - 7s 528us/step - loss: 0.6886 - accuracy: 0.8211 - f1: 0.8278 - val_loss: 1.4907 - val_accuracy: 0.6360 - val_f1: 0.6966\n",
            "Epoch 7/100000\n",
            "13224/13224 [==============================] - 7s 525us/step - loss: 0.5331 - accuracy: 0.8601 - f1: 0.8682 - val_loss: 1.5798 - val_accuracy: 0.6200 - val_f1: 0.6705\n",
            "Epoch 8/100000\n",
            "13224/13224 [==============================] - 7s 525us/step - loss: 0.4285 - accuracy: 0.8837 - f1: 0.8936 - val_loss: 1.4101 - val_accuracy: 0.6560 - val_f1: 0.6722\n",
            "Epoch 9/100000\n",
            "13224/13224 [==============================] - 7s 542us/step - loss: 0.3452 - accuracy: 0.9052 - f1: 0.9117 - val_loss: 1.3464 - val_accuracy: 0.6480 - val_f1: 0.6769\n",
            "Epoch 10/100000\n",
            "13224/13224 [==============================] - 7s 514us/step - loss: 0.2800 - accuracy: 0.9229 - f1: 0.9283 - val_loss: 1.4538 - val_accuracy: 0.6460 - val_f1: 0.6875\n",
            "Epoch 11/100000\n",
            "13224/13224 [==============================] - 7s 528us/step - loss: 0.2380 - accuracy: 0.9351 - f1: 0.9386 - val_loss: 1.4738 - val_accuracy: 0.6760 - val_f1: 0.6833\n",
            "Epoch 12/100000\n",
            "13224/13224 [==============================] - 7s 515us/step - loss: 0.2112 - accuracy: 0.9391 - f1: 0.9439 - val_loss: 1.3224 - val_accuracy: 0.6860 - val_f1: 0.7196\n",
            "Epoch 13/100000\n",
            "13224/13224 [==============================] - 7s 511us/step - loss: 0.1772 - accuracy: 0.9509 - f1: 0.9528 - val_loss: 1.4708 - val_accuracy: 0.6740 - val_f1: 0.6962\n",
            "Epoch 14/100000\n",
            "13224/13224 [==============================] - 7s 534us/step - loss: 0.1512 - accuracy: 0.9595 - f1: 0.9606 - val_loss: 1.3858 - val_accuracy: 0.6840 - val_f1: 0.7078\n",
            "Epoch 15/100000\n",
            "13224/13224 [==============================] - 7s 522us/step - loss: 0.1287 - accuracy: 0.9648 - f1: 0.9658 - val_loss: 1.3718 - val_accuracy: 0.7260 - val_f1: 0.7168\n",
            "Epoch 16/100000\n",
            "13224/13224 [==============================] - 7s 538us/step - loss: 0.1264 - accuracy: 0.9657 - f1: 0.9660 - val_loss: 1.6227 - val_accuracy: 0.6920 - val_f1: 0.7160\n",
            "Epoch 17/100000\n",
            "13224/13224 [==============================] - 7s 507us/step - loss: 0.1171 - accuracy: 0.9668 - f1: 0.9669 - val_loss: 1.3442 - val_accuracy: 0.7380 - val_f1: 0.7532\n",
            "Best F1:0.753, best accuracy:0.738\n",
            "Not found vectors 319 out of 9331 unique words\n",
            "Average sentence len:  9.484951603145795\n",
            "Max sentence len:  33\n",
            "2.700% of tokens were replaced by unk token index\n",
            "Average sentence len:  7.516\n",
            "Max sentence len:  17\n",
            "11.309% of tokens were replaced by unk token index\n",
            "Train on 13224 samples, validate on 500 samples\n",
            "Epoch 1/100000\n",
            "13224/13224 [==============================] - 8s 624us/step - loss: 3.1315 - accuracy: 0.1715 - f1: 0.0000e+00 - val_loss: 3.3220 - val_accuracy: 0.1100 - val_f1: 0.0000e+00\n",
            "Epoch 2/100000\n",
            "13224/13224 [==============================] - 7s 517us/step - loss: 2.5852 - accuracy: 0.2892 - f1: 0.1084 - val_loss: 2.8635 - val_accuracy: 0.3840 - val_f1: 0.1594\n",
            "Epoch 3/100000\n",
            "13224/13224 [==============================] - 7s 539us/step - loss: 1.9854 - accuracy: 0.4507 - f1: 0.3270 - val_loss: 2.5038 - val_accuracy: 0.4860 - val_f1: 0.1900\n",
            "Epoch 4/100000\n",
            "13224/13224 [==============================] - 7s 551us/step - loss: 1.4822 - accuracy: 0.5957 - f1: 0.5368 - val_loss: 2.0351 - val_accuracy: 0.5680 - val_f1: 0.3388\n",
            "Epoch 5/100000\n",
            "13224/13224 [==============================] - 7s 544us/step - loss: 1.0809 - accuracy: 0.7182 - f1: 0.6913 - val_loss: 1.9497 - val_accuracy: 0.5600 - val_f1: 0.4332\n",
            "Epoch 6/100000\n",
            "13224/13224 [==============================] - 7s 523us/step - loss: 0.7926 - accuracy: 0.7951 - f1: 0.7984 - val_loss: 1.7265 - val_accuracy: 0.5980 - val_f1: 0.6565\n",
            "Epoch 7/100000\n",
            "13224/13224 [==============================] - 7s 515us/step - loss: 0.6048 - accuracy: 0.8420 - f1: 0.8521 - val_loss: 1.5680 - val_accuracy: 0.6240 - val_f1: 0.6740\n",
            "Epoch 8/100000\n",
            "13224/13224 [==============================] - 7s 517us/step - loss: 0.4750 - accuracy: 0.8748 - f1: 0.8853 - val_loss: 1.4638 - val_accuracy: 0.6600 - val_f1: 0.6910\n",
            "Epoch 9/100000\n",
            "13224/13224 [==============================] - 7s 516us/step - loss: 0.3757 - accuracy: 0.8995 - f1: 0.9078 - val_loss: 1.4399 - val_accuracy: 0.6380 - val_f1: 0.6793\n",
            "Epoch 10/100000\n",
            "13224/13224 [==============================] - 7s 532us/step - loss: 0.3019 - accuracy: 0.9187 - f1: 0.9259 - val_loss: 1.4343 - val_accuracy: 0.6720 - val_f1: 0.6851\n",
            "Epoch 11/100000\n",
            "13224/13224 [==============================] - 7s 527us/step - loss: 0.2510 - accuracy: 0.9329 - f1: 0.9371 - val_loss: 1.3905 - val_accuracy: 0.6860 - val_f1: 0.6999\n",
            "Epoch 12/100000\n",
            "13224/13224 [==============================] - 7s 512us/step - loss: 0.2239 - accuracy: 0.9389 - f1: 0.9415 - val_loss: 1.3574 - val_accuracy: 0.6760 - val_f1: 0.7168\n",
            "Epoch 13/100000\n",
            "13224/13224 [==============================] - 7s 514us/step - loss: 0.1845 - accuracy: 0.9498 - f1: 0.9529 - val_loss: 1.3367 - val_accuracy: 0.7020 - val_f1: 0.7309\n",
            "Epoch 14/100000\n",
            "13224/13224 [==============================] - 7s 527us/step - loss: 0.1719 - accuracy: 0.9526 - f1: 0.9554 - val_loss: 1.5579 - val_accuracy: 0.6760 - val_f1: 0.6947\n",
            "Epoch 15/100000\n",
            "13224/13224 [==============================] - 7s 521us/step - loss: 0.1463 - accuracy: 0.9587 - f1: 0.9610 - val_loss: 1.3456 - val_accuracy: 0.6960 - val_f1: 0.7220\n",
            "Epoch 16/100000\n",
            "13224/13224 [==============================] - 7s 520us/step - loss: 0.1249 - accuracy: 0.9656 - f1: 0.9672 - val_loss: 1.4055 - val_accuracy: 0.7120 - val_f1: 0.7446\n",
            "Epoch 17/100000\n",
            "13224/13224 [==============================] - 7s 528us/step - loss: 0.1196 - accuracy: 0.9654 - f1: 0.9668 - val_loss: 1.5360 - val_accuracy: 0.7060 - val_f1: 0.7217\n",
            "Epoch 18/100000\n",
            "13224/13224 [==============================] - 7s 538us/step - loss: 0.1097 - accuracy: 0.9708 - f1: 0.9700 - val_loss: 1.7016 - val_accuracy: 0.5720 - val_f1: 0.5833\n",
            "Best F1:0.745, best accuracy:0.712\n",
            "Not found vectors 319 out of 9331 unique words\n",
            "Average sentence len:  9.484951603145795\n",
            "Max sentence len:  33\n",
            "2.700% of tokens were replaced by unk token index\n",
            "Average sentence len:  7.516\n",
            "Max sentence len:  17\n",
            "11.309% of tokens were replaced by unk token index\n",
            "Train on 13224 samples, validate on 500 samples\n",
            "Epoch 1/100000\n",
            "13224/13224 [==============================] - 8s 633us/step - loss: 3.0904 - accuracy: 0.1861 - f1: 0.0022 - val_loss: 3.2390 - val_accuracy: 0.2080 - val_f1: 0.0000e+00\n",
            "Epoch 2/100000\n",
            "13224/13224 [==============================] - 7s 556us/step - loss: 2.4305 - accuracy: 0.3472 - f1: 0.1761 - val_loss: 2.6847 - val_accuracy: 0.4020 - val_f1: 0.1609\n",
            "Epoch 3/100000\n",
            "13224/13224 [==============================] - 7s 521us/step - loss: 1.8531 - accuracy: 0.4862 - f1: 0.3860 - val_loss: 2.2650 - val_accuracy: 0.5760 - val_f1: 0.1935\n",
            "Epoch 4/100000\n",
            "13224/13224 [==============================] - 7s 527us/step - loss: 1.4048 - accuracy: 0.6122 - f1: 0.5584 - val_loss: 1.9658 - val_accuracy: 0.5860 - val_f1: 0.6027\n",
            "Epoch 5/100000\n",
            "13224/13224 [==============================] - 7s 539us/step - loss: 1.0337 - accuracy: 0.7278 - f1: 0.7063 - val_loss: 1.7845 - val_accuracy: 0.6060 - val_f1: 0.6400\n",
            "Epoch 6/100000\n",
            "13224/13224 [==============================] - 7s 542us/step - loss: 0.7877 - accuracy: 0.7964 - f1: 0.7985 - val_loss: 1.7240 - val_accuracy: 0.6040 - val_f1: 0.6584\n",
            "Epoch 7/100000\n",
            "13224/13224 [==============================] - 7s 529us/step - loss: 0.6192 - accuracy: 0.8367 - f1: 0.8440 - val_loss: 1.5744 - val_accuracy: 0.6240 - val_f1: 0.6792\n",
            "Epoch 8/100000\n",
            "13224/13224 [==============================] - 7s 537us/step - loss: 0.4695 - accuracy: 0.8760 - f1: 0.8837 - val_loss: 1.6329 - val_accuracy: 0.6060 - val_f1: 0.6651\n",
            "Epoch 9/100000\n",
            "13224/13224 [==============================] - 7s 526us/step - loss: 0.3751 - accuracy: 0.8986 - f1: 0.9068 - val_loss: 1.4218 - val_accuracy: 0.6700 - val_f1: 0.6918\n",
            "Epoch 10/100000\n",
            "13224/13224 [==============================] - 7s 515us/step - loss: 0.3159 - accuracy: 0.9164 - f1: 0.9205 - val_loss: 1.3515 - val_accuracy: 0.6540 - val_f1: 0.6981\n",
            "Epoch 11/100000\n",
            "13224/13224 [==============================] - 7s 504us/step - loss: 0.2553 - accuracy: 0.9291 - f1: 0.9333 - val_loss: 1.4347 - val_accuracy: 0.6720 - val_f1: 0.6875\n",
            "Epoch 12/100000\n",
            "13224/13224 [==============================] - 7s 520us/step - loss: 0.2204 - accuracy: 0.9388 - f1: 0.9415 - val_loss: 1.5386 - val_accuracy: 0.6640 - val_f1: 0.6897\n",
            "Epoch 13/100000\n",
            "13224/13224 [==============================] - 7s 523us/step - loss: 0.1975 - accuracy: 0.9468 - f1: 0.9483 - val_loss: 1.5467 - val_accuracy: 0.6840 - val_f1: 0.7000\n",
            "Epoch 14/100000\n",
            "13224/13224 [==============================] - 7s 513us/step - loss: 0.1854 - accuracy: 0.9475 - f1: 0.9501 - val_loss: 1.3524 - val_accuracy: 0.6980 - val_f1: 0.7261\n",
            "Epoch 15/100000\n",
            "13224/13224 [==============================] - 7s 561us/step - loss: 0.1485 - accuracy: 0.9588 - f1: 0.9595 - val_loss: 1.4770 - val_accuracy: 0.6920 - val_f1: 0.7204\n",
            "Best F1:0.726, best accuracy:0.698\n",
            "f1_average: 0.7412793437639872, std:0.011321724921750258\n",
            "acc_average: 0.7160000006357828, std:0.016573053761837115\n"
          ],
          "name": "stdout"
        }
      ]
    },
    {
      "cell_type": "markdown",
      "metadata": {
        "id": "8mKpmkYUlD7U",
        "colab_type": "text"
      },
      "source": [
        "#Trec-6"
      ]
    },
    {
      "cell_type": "code",
      "metadata": {
        "id": "c8uHcOTVGXPA",
        "colab_type": "code",
        "colab": {}
      },
      "source": [
        "import pandas as pd\n",
        "def read_trec6(file_name, typ=0):\n",
        "  train = pd.read_csv(file_name, index_col=0)\n",
        "  lbl2indx = {i:j for j, i in enumerate(train.labels.unique())}\n",
        "  train.columns = ['text', 'labels']\n",
        "  train['lbl_index'] = train.labels.apply(lambda x:lbl2indx[x])\n",
        "\n",
        "\n",
        "  labels_t = [i.split(' ', 1)[0].split(':')[typ] for i in open('TREC_10.label', encoding = 'windows-1252').readlines()]\n",
        "  texts_t = [ i.split(' ', 1)[1][:-1] for i in open('TREC_10.label', encoding = 'windows-1252').readlines()]\n",
        "  test  = pd.DataFrame({'text':texts_t, 'labels': labels_t})\n",
        "  test['lbl_index'] = test.labels.apply(lambda x:lbl2indx[x])\n",
        "\n",
        "  return train, test, lbl2indx"
      ],
      "execution_count": 0,
      "outputs": []
    },
    {
      "cell_type": "markdown",
      "metadata": {
        "id": "pYPuGv2-HEWl",
        "colab_type": "text"
      },
      "source": [
        "### 3000"
      ]
    },
    {
      "cell_type": "code",
      "metadata": {
        "colab_type": "code",
        "id": "mFYUgqVuGXpn",
        "colab": {}
      },
      "source": [
        "number_of_attemp_to_fit = 3"
      ],
      "execution_count": 0,
      "outputs": []
    },
    {
      "cell_type": "code",
      "metadata": {
        "colab_type": "code",
        "id": "vAJ6bGhDGXpr",
        "colab": {}
      },
      "source": [
        "train_data, test_data, l2i = read_trec6('trec6_splited/trec6_splited_3k.csv')"
      ],
      "execution_count": 0,
      "outputs": []
    },
    {
      "cell_type": "code",
      "metadata": {
        "colab_type": "code",
        "id": "2yOaG3MdGXpt",
        "colab": {}
      },
      "source": [
        "MAX_SEQ_LEN, N_CLASSES = 37, len(train_data.lbl_index.unique())"
      ],
      "execution_count": 0,
      "outputs": []
    },
    {
      "cell_type": "code",
      "metadata": {
        "colab_type": "code",
        "outputId": "58a80c73-15c9-46d9-ea14-6423de7ec46f",
        "id": "qejZJUDCGXp0",
        "colab": {
          "base_uri": "https://localhost:8080/",
          "height": 1000
        }
      },
      "source": [
        "f1_scores, acc_scores = [], []\n",
        "for _ in range(number_of_attemp_to_fit):\n",
        "  f1_score, acc_score = run_cnn(train_data, test_data, w2v_model, MAX_SEQ_LEN, N_CLASSES )\n",
        "  f1_scores.append(f1_score)\n",
        "  acc_scores.append(acc_score)\n",
        "print(\"f1_average: {}, std:{}\".format(np.mean(f1_scores), np.std(f1_scores)))\n",
        "print(\"acc_average: {}, std:{}\".format(np.mean(acc_scores), np.std(acc_scores)))"
      ],
      "execution_count": 0,
      "outputs": [
        {
          "output_type": "stream",
          "text": [
            "Not found vectors 132 out of 6440 unique words\n",
            "Average sentence len:  10.175099866844208\n",
            "Max sentence len:  37\n",
            "1.937% of tokens were replaced by unk token index\n",
            "Average sentence len:  7.516\n",
            "Max sentence len:  17\n",
            "13.199% of tokens were replaced by unk token index\n",
            "Train on 3004 samples, validate on 500 samples\n",
            "Epoch 1/100000\n",
            "3004/3004 [==============================] - 0s 142us/step - loss: 1.6344 - accuracy: 0.3532 - f1: 0.0000e+00 - val_loss: 1.4081 - val_accuracy: 0.5580 - val_f1: 0.0040\n",
            "Epoch 2/100000\n",
            "3004/3004 [==============================] - 0s 33us/step - loss: 1.2895 - accuracy: 0.5975 - f1: 0.1410 - val_loss: 1.1649 - val_accuracy: 0.5360 - val_f1: 0.5035\n",
            "Epoch 3/100000\n",
            "3004/3004 [==============================] - 0s 33us/step - loss: 0.9520 - accuracy: 0.6947 - f1: 0.5445 - val_loss: 0.9115 - val_accuracy: 0.6580 - val_f1: 0.6118\n",
            "Epoch 4/100000\n",
            "3004/3004 [==============================] - 0s 33us/step - loss: 0.6592 - accuracy: 0.8119 - f1: 0.7452 - val_loss: 0.6893 - val_accuracy: 0.7560 - val_f1: 0.7644\n",
            "Epoch 5/100000\n",
            "3004/3004 [==============================] - 0s 33us/step - loss: 0.4236 - accuracy: 0.8985 - f1: 0.8773 - val_loss: 0.5274 - val_accuracy: 0.8300 - val_f1: 0.8106\n",
            "Epoch 6/100000\n",
            "3004/3004 [==============================] - 0s 33us/step - loss: 0.2613 - accuracy: 0.9507 - f1: 0.9398 - val_loss: 0.5204 - val_accuracy: 0.8160 - val_f1: 0.8137\n",
            "Epoch 7/100000\n",
            "3004/3004 [==============================] - 0s 32us/step - loss: 0.1489 - accuracy: 0.9760 - f1: 0.9721 - val_loss: 0.4262 - val_accuracy: 0.8620 - val_f1: 0.8623\n",
            "Epoch 8/100000\n",
            "3004/3004 [==============================] - 0s 32us/step - loss: 0.0801 - accuracy: 0.9893 - f1: 0.9887 - val_loss: 0.4472 - val_accuracy: 0.8580 - val_f1: 0.8574\n",
            "Epoch 9/100000\n",
            "3004/3004 [==============================] - 0s 33us/step - loss: 0.0447 - accuracy: 0.9943 - f1: 0.9933 - val_loss: 0.4008 - val_accuracy: 0.8880 - val_f1: 0.8818\n",
            "Epoch 10/100000\n",
            "3004/3004 [==============================] - 0s 33us/step - loss: 0.0263 - accuracy: 0.9973 - f1: 0.9978 - val_loss: 0.4245 - val_accuracy: 0.8700 - val_f1: 0.8753\n",
            "Epoch 11/100000\n",
            "3004/3004 [==============================] - 0s 33us/step - loss: 0.0168 - accuracy: 0.9993 - f1: 0.9989 - val_loss: 0.4407 - val_accuracy: 0.8680 - val_f1: 0.8721\n",
            "Epoch 12/100000\n",
            "3004/3004 [==============================] - 0s 32us/step - loss: 0.0114 - accuracy: 0.9997 - f1: 0.9997 - val_loss: 0.4265 - val_accuracy: 0.8820 - val_f1: 0.8798\n",
            "Epoch 13/100000\n",
            "3004/3004 [==============================] - 0s 32us/step - loss: 0.0082 - accuracy: 0.9997 - f1: 0.9997 - val_loss: 0.4084 - val_accuracy: 0.8840 - val_f1: 0.8848\n",
            "Epoch 14/100000\n",
            "3004/3004 [==============================] - 0s 32us/step - loss: 0.0061 - accuracy: 0.9997 - f1: 0.9997 - val_loss: 0.4320 - val_accuracy: 0.8800 - val_f1: 0.8780\n",
            "Best F1:0.885, best accuracy:0.888\n",
            "Not found vectors 132 out of 6440 unique words\n",
            "Average sentence len:  10.175099866844208\n",
            "Max sentence len:  37\n",
            "1.937% of tokens were replaced by unk token index\n",
            "Average sentence len:  7.516\n",
            "Max sentence len:  17\n",
            "13.199% of tokens were replaced by unk token index\n",
            "Train on 3004 samples, validate on 500 samples\n",
            "Epoch 1/100000\n",
            "3004/3004 [==============================] - 0s 72us/step - loss: 1.6712 - accuracy: 0.2923 - f1: 0.0000e+00 - val_loss: 1.4993 - val_accuracy: 0.5260 - val_f1: 0.0000e+00\n",
            "Epoch 2/100000\n",
            "3004/3004 [==============================] - 0s 32us/step - loss: 1.3592 - accuracy: 0.6049 - f1: 0.0314 - val_loss: 1.1856 - val_accuracy: 0.6140 - val_f1: 0.1906\n",
            "Epoch 3/100000\n",
            "3004/3004 [==============================] - 0s 32us/step - loss: 1.0082 - accuracy: 0.6941 - f1: 0.4927 - val_loss: 0.9549 - val_accuracy: 0.6480 - val_f1: 0.6125\n",
            "Epoch 4/100000\n",
            "3004/3004 [==============================] - 0s 34us/step - loss: 0.6993 - accuracy: 0.7963 - f1: 0.7278 - val_loss: 0.7347 - val_accuracy: 0.7400 - val_f1: 0.7238\n",
            "Epoch 5/100000\n",
            "3004/3004 [==============================] - 0s 32us/step - loss: 0.4487 - accuracy: 0.8858 - f1: 0.8573 - val_loss: 0.5963 - val_accuracy: 0.7880 - val_f1: 0.7881\n",
            "Epoch 6/100000\n",
            "3004/3004 [==============================] - 0s 32us/step - loss: 0.2670 - accuracy: 0.9431 - f1: 0.9354 - val_loss: 0.4959 - val_accuracy: 0.8380 - val_f1: 0.8340\n",
            "Epoch 7/100000\n",
            "3004/3004 [==============================] - 0s 33us/step - loss: 0.1497 - accuracy: 0.9720 - f1: 0.9702 - val_loss: 0.4297 - val_accuracy: 0.8600 - val_f1: 0.8580\n",
            "Epoch 8/100000\n",
            "3004/3004 [==============================] - 0s 34us/step - loss: 0.0818 - accuracy: 0.9880 - f1: 0.9875 - val_loss: 0.4831 - val_accuracy: 0.8400 - val_f1: 0.8482\n",
            "Epoch 9/100000\n",
            "3004/3004 [==============================] - 0s 31us/step - loss: 0.0458 - accuracy: 0.9927 - f1: 0.9925 - val_loss: 0.3866 - val_accuracy: 0.8760 - val_f1: 0.8756\n",
            "Epoch 10/100000\n",
            "3004/3004 [==============================] - 0s 34us/step - loss: 0.0267 - accuracy: 0.9970 - f1: 0.9965 - val_loss: 0.4335 - val_accuracy: 0.8660 - val_f1: 0.8648\n",
            "Epoch 11/100000\n",
            "3004/3004 [==============================] - 0s 32us/step - loss: 0.0169 - accuracy: 0.9983 - f1: 0.9984 - val_loss: 0.4064 - val_accuracy: 0.8760 - val_f1: 0.8762\n",
            "Epoch 12/100000\n",
            "3004/3004 [==============================] - 0s 32us/step - loss: 0.0115 - accuracy: 0.9997 - f1: 0.9997 - val_loss: 0.4421 - val_accuracy: 0.8760 - val_f1: 0.8690\n",
            "Epoch 13/100000\n",
            "3004/3004 [==============================] - 0s 33us/step - loss: 0.0081 - accuracy: 0.9997 - f1: 0.9997 - val_loss: 0.4344 - val_accuracy: 0.8740 - val_f1: 0.8736\n",
            "Epoch 14/100000\n",
            "3004/3004 [==============================] - 0s 32us/step - loss: 0.0060 - accuracy: 0.9997 - f1: 0.9997 - val_loss: 0.4073 - val_accuracy: 0.8800 - val_f1: 0.8774\n",
            "Best F1:0.877, best accuracy:0.880\n",
            "Not found vectors 132 out of 6440 unique words\n",
            "Average sentence len:  10.175099866844208\n",
            "Max sentence len:  37\n",
            "1.937% of tokens were replaced by unk token index\n",
            "Average sentence len:  7.516\n",
            "Max sentence len:  17\n",
            "13.199% of tokens were replaced by unk token index\n",
            "Train on 3004 samples, validate on 500 samples\n",
            "Epoch 1/100000\n",
            "3004/3004 [==============================] - 0s 67us/step - loss: 1.6448 - accuracy: 0.3162 - f1: 0.0000e+00 - val_loss: 1.4339 - val_accuracy: 0.5620 - val_f1: 0.0000e+00\n",
            "Epoch 2/100000\n",
            "3004/3004 [==============================] - 0s 31us/step - loss: 1.3265 - accuracy: 0.6065 - f1: 0.1036 - val_loss: 1.1812 - val_accuracy: 0.5500 - val_f1: 0.4956\n",
            "Epoch 3/100000\n",
            "3004/3004 [==============================] - 0s 32us/step - loss: 0.9921 - accuracy: 0.6828 - f1: 0.4995 - val_loss: 0.9394 - val_accuracy: 0.6500 - val_f1: 0.6353\n",
            "Epoch 4/100000\n",
            "3004/3004 [==============================] - 0s 33us/step - loss: 0.6994 - accuracy: 0.8066 - f1: 0.7220 - val_loss: 0.7326 - val_accuracy: 0.7400 - val_f1: 0.7145\n",
            "Epoch 5/100000\n",
            "3004/3004 [==============================] - 0s 34us/step - loss: 0.4567 - accuracy: 0.8875 - f1: 0.8627 - val_loss: 0.5783 - val_accuracy: 0.7780 - val_f1: 0.7722\n",
            "Epoch 6/100000\n",
            "3004/3004 [==============================] - 0s 35us/step - loss: 0.2749 - accuracy: 0.9401 - f1: 0.9313 - val_loss: 0.4963 - val_accuracy: 0.8120 - val_f1: 0.8094\n",
            "Epoch 7/100000\n",
            "3004/3004 [==============================] - 0s 33us/step - loss: 0.1544 - accuracy: 0.9760 - f1: 0.9730 - val_loss: 0.4140 - val_accuracy: 0.8740 - val_f1: 0.8616\n",
            "Epoch 8/100000\n",
            "3004/3004 [==============================] - 0s 33us/step - loss: 0.0826 - accuracy: 0.9883 - f1: 0.9880 - val_loss: 0.4078 - val_accuracy: 0.8680 - val_f1: 0.8737\n",
            "Epoch 9/100000\n",
            "3004/3004 [==============================] - 0s 34us/step - loss: 0.0447 - accuracy: 0.9957 - f1: 0.9952 - val_loss: 0.3924 - val_accuracy: 0.8760 - val_f1: 0.8814\n",
            "Epoch 10/100000\n",
            "3004/3004 [==============================] - 0s 34us/step - loss: 0.0245 - accuracy: 0.9977 - f1: 0.9972 - val_loss: 0.4057 - val_accuracy: 0.8800 - val_f1: 0.8811\n",
            "Epoch 11/100000\n",
            "3004/3004 [==============================] - 0s 33us/step - loss: 0.0150 - accuracy: 0.9997 - f1: 0.9996 - val_loss: 0.3710 - val_accuracy: 0.8840 - val_f1: 0.8900\n",
            "Epoch 12/100000\n",
            "3004/3004 [==============================] - 0s 32us/step - loss: 0.0097 - accuracy: 0.9997 - f1: 0.9997 - val_loss: 0.4037 - val_accuracy: 0.8820 - val_f1: 0.8878\n",
            "Epoch 13/100000\n",
            "3004/3004 [==============================] - 0s 34us/step - loss: 0.0069 - accuracy: 1.0000 - f1: 1.0000 - val_loss: 0.3921 - val_accuracy: 0.8820 - val_f1: 0.8873\n",
            "Epoch 14/100000\n",
            "3004/3004 [==============================] - 0s 32us/step - loss: 0.0052 - accuracy: 0.9997 - f1: 0.9996 - val_loss: 0.3924 - val_accuracy: 0.8820 - val_f1: 0.8853\n",
            "Epoch 15/100000\n",
            "3004/3004 [==============================] - 0s 34us/step - loss: 0.0039 - accuracy: 1.0000 - f1: 1.0000 - val_loss: 0.4166 - val_accuracy: 0.8800 - val_f1: 0.8824\n",
            "Epoch 16/100000\n",
            "3004/3004 [==============================] - 0s 31us/step - loss: 0.0032 - accuracy: 1.0000 - f1: 1.0000 - val_loss: 0.4046 - val_accuracy: 0.8860 - val_f1: 0.8875\n",
            "Best F1:0.890, best accuracy:0.886\n",
            "f1_average: 0.8840793371200562, std:0.0051756489836278195\n",
            "acc_average: 0.8846666614214579, std:0.0033993493349167253\n"
          ],
          "name": "stdout"
        }
      ]
    },
    {
      "cell_type": "code",
      "metadata": {
        "colab_type": "code",
        "outputId": "36463244-2a31-4671-b20e-045f592e9a9a",
        "id": "1291tPbaGXpx",
        "colab": {
          "base_uri": "https://localhost:8080/",
          "height": 1000
        }
      },
      "source": [
        "f1_scores, acc_scores = [], []\n",
        "for _ in range(number_of_attemp_to_fit):\n",
        "  f1_score, acc_score = run_lstm(train_data, test_data, w2v_model, MAX_SEQ_LEN, N_CLASSES )\n",
        "  f1_scores.append(f1_score)\n",
        "  acc_scores.append(acc_score)\n",
        "print(\"f1_average: {}, std:{}\".format(np.mean(f1_scores), np.std(f1_scores)))\n",
        "print(\"acc_average: {}, std:{}\".format(np.mean(acc_scores), np.std(acc_scores)))"
      ],
      "execution_count": 0,
      "outputs": [
        {
          "output_type": "stream",
          "text": [
            "Not found vectors 132 out of 6440 unique words\n",
            "Average sentence len:  10.175099866844208\n",
            "Max sentence len:  37\n",
            "1.937% of tokens were replaced by unk token index\n",
            "Average sentence len:  7.516\n",
            "Max sentence len:  17\n",
            "13.199% of tokens were replaced by unk token index\n",
            "Train on 3004 samples, validate on 500 samples\n",
            "Epoch 1/100000\n",
            "3004/3004 [==============================] - 3s 922us/step - loss: 1.7305 - accuracy: 0.2796 - f1: 0.0000e+00 - val_loss: 1.6661 - val_accuracy: 0.2840 - val_f1: 0.0000e+00\n",
            "Epoch 2/100000\n",
            "3004/3004 [==============================] - 2s 532us/step - loss: 1.5446 - accuracy: 0.3848 - f1: 0.0148 - val_loss: 1.4295 - val_accuracy: 0.3440 - val_f1: 0.1789\n",
            "Epoch 3/100000\n",
            "3004/3004 [==============================] - 2s 570us/step - loss: 1.3021 - accuracy: 0.4611 - f1: 0.3057 - val_loss: 1.1516 - val_accuracy: 0.5700 - val_f1: 0.3207\n",
            "Epoch 4/100000\n",
            "3004/3004 [==============================] - 2s 513us/step - loss: 1.1292 - accuracy: 0.5649 - f1: 0.4198 - val_loss: 1.0504 - val_accuracy: 0.6240 - val_f1: 0.4431\n",
            "Epoch 5/100000\n",
            "3004/3004 [==============================] - 2s 543us/step - loss: 0.9887 - accuracy: 0.6338 - f1: 0.5458 - val_loss: 0.9026 - val_accuracy: 0.6460 - val_f1: 0.6586\n",
            "Epoch 6/100000\n",
            "3004/3004 [==============================] - 2s 551us/step - loss: 0.8685 - accuracy: 0.6781 - f1: 0.6580 - val_loss: 0.8285 - val_accuracy: 0.7080 - val_f1: 0.7157\n",
            "Epoch 7/100000\n",
            "3004/3004 [==============================] - 2s 536us/step - loss: 0.7815 - accuracy: 0.7194 - f1: 0.6859 - val_loss: 0.7272 - val_accuracy: 0.7520 - val_f1: 0.7565\n",
            "Epoch 8/100000\n",
            "3004/3004 [==============================] - 2s 531us/step - loss: 0.6893 - accuracy: 0.7540 - f1: 0.7477 - val_loss: 0.6176 - val_accuracy: 0.7740 - val_f1: 0.7866\n",
            "Epoch 9/100000\n",
            "3004/3004 [==============================] - 2s 515us/step - loss: 0.5840 - accuracy: 0.7956 - f1: 0.7883 - val_loss: 0.6655 - val_accuracy: 0.7720 - val_f1: 0.7709\n",
            "Epoch 10/100000\n",
            "3004/3004 [==============================] - 2s 515us/step - loss: 0.5134 - accuracy: 0.8329 - f1: 0.8214 - val_loss: 0.5828 - val_accuracy: 0.8100 - val_f1: 0.8154\n",
            "Epoch 11/100000\n",
            "3004/3004 [==============================] - 2s 550us/step - loss: 0.4452 - accuracy: 0.8479 - f1: 0.8489 - val_loss: 0.6901 - val_accuracy: 0.7740 - val_f1: 0.7745\n",
            "Epoch 12/100000\n",
            "3004/3004 [==============================] - 2s 571us/step - loss: 0.4034 - accuracy: 0.8635 - f1: 0.8632 - val_loss: 0.6273 - val_accuracy: 0.8040 - val_f1: 0.8021\n",
            "Epoch 13/100000\n",
            "3004/3004 [==============================] - 2s 526us/step - loss: 0.3561 - accuracy: 0.8802 - f1: 0.8816 - val_loss: 0.5672 - val_accuracy: 0.8220 - val_f1: 0.8340\n",
            "Epoch 14/100000\n",
            "3004/3004 [==============================] - 2s 547us/step - loss: 0.3134 - accuracy: 0.8965 - f1: 0.8983 - val_loss: 0.5816 - val_accuracy: 0.8220 - val_f1: 0.8282\n",
            "Epoch 15/100000\n",
            "3004/3004 [==============================] - 2s 544us/step - loss: 0.2664 - accuracy: 0.9178 - f1: 0.9136 - val_loss: 0.6483 - val_accuracy: 0.8200 - val_f1: 0.8226\n",
            "Epoch 16/100000\n",
            "3004/3004 [==============================] - 1s 499us/step - loss: 0.2436 - accuracy: 0.9248 - f1: 0.9266 - val_loss: 0.6531 - val_accuracy: 0.8220 - val_f1: 0.8238\n",
            "Epoch 17/100000\n",
            "3004/3004 [==============================] - 2s 506us/step - loss: 0.2154 - accuracy: 0.9361 - f1: 0.9348 - val_loss: 0.5903 - val_accuracy: 0.8380 - val_f1: 0.8470\n",
            "Epoch 18/100000\n",
            "3004/3004 [==============================] - 2s 521us/step - loss: 0.1719 - accuracy: 0.9511 - f1: 0.9494 - val_loss: 0.6954 - val_accuracy: 0.8160 - val_f1: 0.8234\n",
            "Best F1:0.847, best accuracy:0.838\n",
            "Not found vectors 132 out of 6440 unique words\n",
            "Average sentence len:  10.175099866844208\n",
            "Max sentence len:  37\n",
            "1.937% of tokens were replaced by unk token index\n",
            "Average sentence len:  7.516\n",
            "Max sentence len:  17\n",
            "13.199% of tokens were replaced by unk token index\n",
            "Train on 3004 samples, validate on 500 samples\n",
            "Epoch 1/100000\n",
            "3004/3004 [==============================] - 3s 918us/step - loss: 1.7236 - accuracy: 0.2803 - f1: 0.0000e+00 - val_loss: 1.6672 - val_accuracy: 0.1840 - val_f1: 0.0000e+00\n",
            "Epoch 2/100000\n",
            "3004/3004 [==============================] - 2s 509us/step - loss: 1.5403 - accuracy: 0.3898 - f1: 0.0150 - val_loss: 1.4030 - val_accuracy: 0.3320 - val_f1: 0.1786\n",
            "Epoch 3/100000\n",
            "3004/3004 [==============================] - 2s 572us/step - loss: 1.3127 - accuracy: 0.4564 - f1: 0.2788 - val_loss: 1.1903 - val_accuracy: 0.5920 - val_f1: 0.3429\n",
            "Epoch 4/100000\n",
            "3004/3004 [==============================] - 2s 524us/step - loss: 1.1197 - accuracy: 0.5436 - f1: 0.4215 - val_loss: 0.9735 - val_accuracy: 0.6640 - val_f1: 0.6205\n",
            "Epoch 5/100000\n",
            "3004/3004 [==============================] - 2s 523us/step - loss: 0.9624 - accuracy: 0.6368 - f1: 0.5615 - val_loss: 0.9861 - val_accuracy: 0.6800 - val_f1: 0.6461\n",
            "Epoch 6/100000\n",
            "3004/3004 [==============================] - 2s 540us/step - loss: 0.8224 - accuracy: 0.6911 - f1: 0.6513 - val_loss: 0.7774 - val_accuracy: 0.7140 - val_f1: 0.6888\n",
            "Epoch 7/100000\n",
            "3004/3004 [==============================] - 2s 502us/step - loss: 0.6994 - accuracy: 0.7517 - f1: 0.7300 - val_loss: 0.6486 - val_accuracy: 0.7700 - val_f1: 0.7522\n",
            "Epoch 8/100000\n",
            "3004/3004 [==============================] - 2s 524us/step - loss: 0.5988 - accuracy: 0.7933 - f1: 0.7864 - val_loss: 0.7608 - val_accuracy: 0.7220 - val_f1: 0.7292\n",
            "Epoch 9/100000\n",
            "3004/3004 [==============================] - 2s 519us/step - loss: 0.5412 - accuracy: 0.8119 - f1: 0.8069 - val_loss: 0.6272 - val_accuracy: 0.7920 - val_f1: 0.7867\n",
            "Epoch 10/100000\n",
            "3004/3004 [==============================] - 2s 533us/step - loss: 0.4525 - accuracy: 0.8542 - f1: 0.8500 - val_loss: 0.5004 - val_accuracy: 0.8120 - val_f1: 0.8195\n",
            "Epoch 11/100000\n",
            "3004/3004 [==============================] - 2s 509us/step - loss: 0.3986 - accuracy: 0.8642 - f1: 0.8629 - val_loss: 0.5696 - val_accuracy: 0.7960 - val_f1: 0.8049\n",
            "Epoch 12/100000\n",
            "3004/3004 [==============================] - 2s 526us/step - loss: 0.3538 - accuracy: 0.8891 - f1: 0.8885 - val_loss: 0.5246 - val_accuracy: 0.8180 - val_f1: 0.8226\n",
            "Epoch 13/100000\n",
            "3004/3004 [==============================] - 2s 529us/step - loss: 0.3082 - accuracy: 0.8968 - f1: 0.9011 - val_loss: 0.5101 - val_accuracy: 0.8380 - val_f1: 0.8429\n",
            "Epoch 14/100000\n",
            "3004/3004 [==============================] - 2s 564us/step - loss: 0.2677 - accuracy: 0.9181 - f1: 0.9177 - val_loss: 0.5367 - val_accuracy: 0.8260 - val_f1: 0.8327\n",
            "Epoch 15/100000\n",
            "3004/3004 [==============================] - 2s 550us/step - loss: 0.2133 - accuracy: 0.9334 - f1: 0.9334 - val_loss: 0.5668 - val_accuracy: 0.8360 - val_f1: 0.8418\n",
            "Best F1:0.843, best accuracy:0.838\n",
            "Not found vectors 132 out of 6440 unique words\n",
            "Average sentence len:  10.175099866844208\n",
            "Max sentence len:  37\n",
            "1.937% of tokens were replaced by unk token index\n",
            "Average sentence len:  7.516\n",
            "Max sentence len:  17\n",
            "13.199% of tokens were replaced by unk token index\n",
            "Train on 3004 samples, validate on 500 samples\n",
            "Epoch 1/100000\n",
            "3004/3004 [==============================] - 3s 1ms/step - loss: 1.7373 - accuracy: 0.3076 - f1: 0.0000e+00 - val_loss: 1.6522 - val_accuracy: 0.2540 - val_f1: 0.0000e+00\n",
            "Epoch 2/100000\n",
            "3004/3004 [==============================] - 2s 583us/step - loss: 1.5388 - accuracy: 0.3748 - f1: 0.0223 - val_loss: 1.4263 - val_accuracy: 0.3620 - val_f1: 0.1818\n",
            "Epoch 3/100000\n",
            "3004/3004 [==============================] - 2s 533us/step - loss: 1.3448 - accuracy: 0.4627 - f1: 0.3059 - val_loss: 1.2642 - val_accuracy: 0.4500 - val_f1: 0.3123\n",
            "Epoch 4/100000\n",
            "3004/3004 [==============================] - 2s 618us/step - loss: 1.1521 - accuracy: 0.5586 - f1: 0.4015 - val_loss: 1.1295 - val_accuracy: 0.6460 - val_f1: 0.3516\n",
            "Epoch 5/100000\n",
            "3004/3004 [==============================] - 2s 558us/step - loss: 0.9843 - accuracy: 0.6408 - f1: 0.5298 - val_loss: 0.9162 - val_accuracy: 0.7080 - val_f1: 0.5944\n",
            "Epoch 6/100000\n",
            "3004/3004 [==============================] - 2s 525us/step - loss: 0.8445 - accuracy: 0.6931 - f1: 0.6532 - val_loss: 0.8394 - val_accuracy: 0.7200 - val_f1: 0.7100\n",
            "Epoch 7/100000\n",
            "3004/3004 [==============================] - 2s 545us/step - loss: 0.7522 - accuracy: 0.7310 - f1: 0.7065 - val_loss: 0.6655 - val_accuracy: 0.7820 - val_f1: 0.7752\n",
            "Epoch 8/100000\n",
            "3004/3004 [==============================] - 2s 555us/step - loss: 0.6569 - accuracy: 0.7690 - f1: 0.7576 - val_loss: 0.5845 - val_accuracy: 0.8120 - val_f1: 0.8217\n",
            "Epoch 9/100000\n",
            "3004/3004 [==============================] - 2s 605us/step - loss: 0.5929 - accuracy: 0.7893 - f1: 0.7869 - val_loss: 0.6224 - val_accuracy: 0.7960 - val_f1: 0.7853\n",
            "Epoch 10/100000\n",
            "3004/3004 [==============================] - 2s 521us/step - loss: 0.5382 - accuracy: 0.8093 - f1: 0.8109 - val_loss: 0.5366 - val_accuracy: 0.8320 - val_f1: 0.8326\n",
            "Epoch 11/100000\n",
            "3004/3004 [==============================] - 2s 580us/step - loss: 0.4508 - accuracy: 0.8509 - f1: 0.8488 - val_loss: 0.5274 - val_accuracy: 0.8320 - val_f1: 0.8392\n",
            "Epoch 12/100000\n",
            "3004/3004 [==============================] - 2s 563us/step - loss: 0.4093 - accuracy: 0.8615 - f1: 0.8633 - val_loss: 0.6087 - val_accuracy: 0.8180 - val_f1: 0.8156\n",
            "Epoch 13/100000\n",
            "3004/3004 [==============================] - 2s 531us/step - loss: 0.3763 - accuracy: 0.8785 - f1: 0.8786 - val_loss: 0.6957 - val_accuracy: 0.7960 - val_f1: 0.7959\n",
            "Epoch 14/100000\n",
            "3004/3004 [==============================] - 2s 544us/step - loss: 0.3737 - accuracy: 0.8852 - f1: 0.8866 - val_loss: 0.6234 - val_accuracy: 0.7980 - val_f1: 0.8057\n",
            "Epoch 15/100000\n",
            "3004/3004 [==============================] - 2s 541us/step - loss: 0.3490 - accuracy: 0.8835 - f1: 0.8848 - val_loss: 0.6528 - val_accuracy: 0.8200 - val_f1: 0.8258\n",
            "Epoch 16/100000\n",
            "3004/3004 [==============================] - 2s 527us/step - loss: 0.3295 - accuracy: 0.8988 - f1: 0.8980 - val_loss: 0.7056 - val_accuracy: 0.8120 - val_f1: 0.8146\n",
            "Best F1:0.839, best accuracy:0.832\n",
            "f1_average: 0.8430388569831848, std:0.003171751663541704\n",
            "acc_average: 0.8360000054041544, std:0.002828418807768084\n"
          ],
          "name": "stdout"
        }
      ]
    },
    {
      "cell_type": "markdown",
      "metadata": {
        "id": "bK59lG-YHBn9",
        "colab_type": "text"
      },
      "source": [
        "### 4000"
      ]
    },
    {
      "cell_type": "code",
      "metadata": {
        "colab_type": "code",
        "id": "tTgUeDqgGXp3",
        "colab": {}
      },
      "source": [
        "number_of_attemp_to_fit = 3"
      ],
      "execution_count": 0,
      "outputs": []
    },
    {
      "cell_type": "code",
      "metadata": {
        "colab_type": "code",
        "id": "RY8TUcyoGXp5",
        "colab": {}
      },
      "source": [
        "train_data, test_data, l2i = read_trec6('trec6_splited/trec6_splited_4k.csv')"
      ],
      "execution_count": 0,
      "outputs": []
    },
    {
      "cell_type": "code",
      "metadata": {
        "colab_type": "code",
        "id": "tA8ommCgGXp7",
        "colab": {}
      },
      "source": [
        "MAX_SEQ_LEN, N_CLASSES = 37, len(train_data.lbl_index.unique())"
      ],
      "execution_count": 0,
      "outputs": []
    },
    {
      "cell_type": "code",
      "metadata": {
        "colab_type": "code",
        "outputId": "e2503696-96c7-4e36-aa85-8e21f2848bc9",
        "id": "1VKm0KqUGXp9",
        "colab": {
          "base_uri": "https://localhost:8080/",
          "height": 1000
        }
      },
      "source": [
        "f1_scores, acc_scores = [], []\n",
        "for _ in range(number_of_attemp_to_fit):\n",
        "  f1_score, acc_score = run_cnn(train_data, test_data, w2v_model, MAX_SEQ_LEN, N_CLASSES )\n",
        "  f1_scores.append(f1_score)\n",
        "  acc_scores.append(acc_score)\n",
        "print(\"f1_average: {}, std:{}\".format(np.mean(f1_scores), np.std(f1_scores)))\n",
        "print(\"acc_average: {}, std:{}\".format(np.mean(acc_scores), np.std(acc_scores)))"
      ],
      "execution_count": 0,
      "outputs": [
        {
          "output_type": "stream",
          "text": [
            "Not found vectors 161 out of 7745 unique words\n",
            "Average sentence len:  10.211788211788212\n",
            "Max sentence len:  37\n",
            "1.917% of tokens were replaced by unk token index\n",
            "Average sentence len:  7.516\n",
            "Max sentence len:  17\n",
            "11.336% of tokens were replaced by unk token index\n",
            "Train on 4004 samples, validate on 500 samples\n",
            "Epoch 1/100000\n",
            "4004/4004 [==============================] - 0s 86us/step - loss: 1.6264 - accuracy: 0.3487 - f1: 0.0065 - val_loss: 1.3990 - val_accuracy: 0.5180 - val_f1: 0.0119\n",
            "Epoch 2/100000\n",
            "4004/4004 [==============================] - 0s 39us/step - loss: 1.2346 - accuracy: 0.6026 - f1: 0.2161 - val_loss: 1.1107 - val_accuracy: 0.5640 - val_f1: 0.5513\n",
            "Epoch 3/100000\n",
            "4004/4004 [==============================] - 0s 34us/step - loss: 0.8906 - accuracy: 0.7065 - f1: 0.5988 - val_loss: 0.8187 - val_accuracy: 0.6620 - val_f1: 0.6207\n",
            "Epoch 4/100000\n",
            "4004/4004 [==============================] - 0s 32us/step - loss: 0.5758 - accuracy: 0.8362 - f1: 0.7960 - val_loss: 0.5693 - val_accuracy: 0.8000 - val_f1: 0.7728\n",
            "Epoch 5/100000\n",
            "4004/4004 [==============================] - 0s 32us/step - loss: 0.3373 - accuracy: 0.9241 - f1: 0.9118 - val_loss: 0.4259 - val_accuracy: 0.8580 - val_f1: 0.8550\n",
            "Epoch 6/100000\n",
            "4004/4004 [==============================] - 0s 32us/step - loss: 0.1867 - accuracy: 0.9675 - f1: 0.9627 - val_loss: 0.3962 - val_accuracy: 0.8700 - val_f1: 0.8699\n",
            "Epoch 7/100000\n",
            "4004/4004 [==============================] - 0s 32us/step - loss: 0.0959 - accuracy: 0.9843 - f1: 0.9849 - val_loss: 0.3579 - val_accuracy: 0.8840 - val_f1: 0.8820\n",
            "Epoch 8/100000\n",
            "4004/4004 [==============================] - 0s 32us/step - loss: 0.0492 - accuracy: 0.9920 - f1: 0.9929 - val_loss: 0.3265 - val_accuracy: 0.9060 - val_f1: 0.9052\n",
            "Epoch 9/100000\n",
            "4004/4004 [==============================] - 0s 32us/step - loss: 0.0259 - accuracy: 0.9970 - f1: 0.9971 - val_loss: 0.3362 - val_accuracy: 0.9000 - val_f1: 0.9026\n",
            "Epoch 10/100000\n",
            "4004/4004 [==============================] - 0s 32us/step - loss: 0.0157 - accuracy: 0.9983 - f1: 0.9980 - val_loss: 0.3368 - val_accuracy: 0.8980 - val_f1: 0.9000\n",
            "Epoch 11/100000\n",
            "4004/4004 [==============================] - 0s 33us/step - loss: 0.0101 - accuracy: 1.0000 - f1: 0.9998 - val_loss: 0.3153 - val_accuracy: 0.9040 - val_f1: 0.9070\n",
            "Epoch 12/100000\n",
            "4004/4004 [==============================] - 0s 31us/step - loss: 0.0071 - accuracy: 1.0000 - f1: 1.0000 - val_loss: 0.3370 - val_accuracy: 0.9020 - val_f1: 0.9004\n",
            "Epoch 13/100000\n",
            "4004/4004 [==============================] - 0s 32us/step - loss: 0.0053 - accuracy: 1.0000 - f1: 1.0000 - val_loss: 0.3273 - val_accuracy: 0.8980 - val_f1: 0.9011\n",
            "Epoch 14/100000\n",
            "4004/4004 [==============================] - 0s 32us/step - loss: 0.0041 - accuracy: 1.0000 - f1: 1.0000 - val_loss: 0.3274 - val_accuracy: 0.9000 - val_f1: 0.9032\n",
            "Epoch 15/100000\n",
            "4004/4004 [==============================] - 0s 32us/step - loss: 0.0033 - accuracy: 1.0000 - f1: 1.0000 - val_loss: 0.3361 - val_accuracy: 0.9000 - val_f1: 0.8984\n",
            "Epoch 16/100000\n",
            "4004/4004 [==============================] - 0s 32us/step - loss: 0.0028 - accuracy: 1.0000 - f1: 1.0000 - val_loss: 0.3354 - val_accuracy: 0.9000 - val_f1: 0.9006\n",
            "Best F1:0.907, best accuracy:0.906\n",
            "Not found vectors 161 out of 7745 unique words\n",
            "Average sentence len:  10.211788211788212\n",
            "Max sentence len:  37\n",
            "1.917% of tokens were replaced by unk token index\n",
            "Average sentence len:  7.516\n",
            "Max sentence len:  17\n",
            "11.336% of tokens were replaced by unk token index\n",
            "Train on 4004 samples, validate on 500 samples\n",
            "Epoch 1/100000\n",
            "4004/4004 [==============================] - 0s 59us/step - loss: 1.6059 - accuracy: 0.3452 - f1: 5.9382e-04 - val_loss: 1.3643 - val_accuracy: 0.5340 - val_f1: 0.0080\n",
            "Epoch 2/100000\n",
            "4004/4004 [==============================] - 0s 31us/step - loss: 1.2212 - accuracy: 0.6276 - f1: 0.2294 - val_loss: 1.0208 - val_accuracy: 0.6240 - val_f1: 0.5656\n",
            "Epoch 3/100000\n",
            "4004/4004 [==============================] - 0s 31us/step - loss: 0.8266 - accuracy: 0.7413 - f1: 0.6518 - val_loss: 0.7207 - val_accuracy: 0.7320 - val_f1: 0.7133\n",
            "Epoch 4/100000\n",
            "4004/4004 [==============================] - 0s 31us/step - loss: 0.5057 - accuracy: 0.8651 - f1: 0.8351 - val_loss: 0.5202 - val_accuracy: 0.8220 - val_f1: 0.8189\n",
            "Epoch 5/100000\n",
            "4004/4004 [==============================] - 0s 31us/step - loss: 0.2890 - accuracy: 0.9388 - f1: 0.9280 - val_loss: 0.3805 - val_accuracy: 0.8960 - val_f1: 0.8856\n",
            "Epoch 6/100000\n",
            "4004/4004 [==============================] - 0s 32us/step - loss: 0.1524 - accuracy: 0.9728 - f1: 0.9714 - val_loss: 0.3238 - val_accuracy: 0.9240 - val_f1: 0.9034\n",
            "Epoch 7/100000\n",
            "4004/4004 [==============================] - 0s 31us/step - loss: 0.0767 - accuracy: 0.9890 - f1: 0.9888 - val_loss: 0.3476 - val_accuracy: 0.8980 - val_f1: 0.8900\n",
            "Epoch 8/100000\n",
            "4004/4004 [==============================] - 0s 32us/step - loss: 0.0400 - accuracy: 0.9938 - f1: 0.9944 - val_loss: 0.3363 - val_accuracy: 0.8980 - val_f1: 0.8996\n",
            "Epoch 9/100000\n",
            "4004/4004 [==============================] - 0s 31us/step - loss: 0.0221 - accuracy: 0.9970 - f1: 0.9967 - val_loss: 0.3288 - val_accuracy: 0.9080 - val_f1: 0.9089\n",
            "Epoch 10/100000\n",
            "4004/4004 [==============================] - 0s 31us/step - loss: 0.0136 - accuracy: 0.9993 - f1: 0.9990 - val_loss: 0.3210 - val_accuracy: 0.9080 - val_f1: 0.9074\n",
            "Epoch 11/100000\n",
            "4004/4004 [==============================] - 0s 32us/step - loss: 0.0087 - accuracy: 0.9995 - f1: 0.9995 - val_loss: 0.3170 - val_accuracy: 0.9100 - val_f1: 0.9126\n",
            "Epoch 12/100000\n",
            "4004/4004 [==============================] - 0s 31us/step - loss: 0.0063 - accuracy: 0.9998 - f1: 0.9998 - val_loss: 0.3210 - val_accuracy: 0.9100 - val_f1: 0.9078\n",
            "Epoch 13/100000\n",
            "4004/4004 [==============================] - 0s 32us/step - loss: 0.0046 - accuracy: 1.0000 - f1: 1.0000 - val_loss: 0.3129 - val_accuracy: 0.9120 - val_f1: 0.9130\n",
            "Epoch 14/100000\n",
            "4004/4004 [==============================] - 0s 31us/step - loss: 0.0036 - accuracy: 1.0000 - f1: 1.0000 - val_loss: 0.3275 - val_accuracy: 0.9060 - val_f1: 0.9060\n",
            "Epoch 15/100000\n",
            "4004/4004 [==============================] - 0s 33us/step - loss: 0.0029 - accuracy: 1.0000 - f1: 1.0000 - val_loss: 0.3277 - val_accuracy: 0.9060 - val_f1: 0.9080\n",
            "Epoch 16/100000\n",
            "4004/4004 [==============================] - 0s 32us/step - loss: 0.0024 - accuracy: 1.0000 - f1: 1.0000 - val_loss: 0.3278 - val_accuracy: 0.9080 - val_f1: 0.9089\n",
            "Epoch 17/100000\n",
            "4004/4004 [==============================] - 0s 31us/step - loss: 0.0021 - accuracy: 1.0000 - f1: 1.0000 - val_loss: 0.3312 - val_accuracy: 0.9080 - val_f1: 0.9089\n",
            "Epoch 18/100000\n",
            "4004/4004 [==============================] - 0s 32us/step - loss: 0.0018 - accuracy: 1.0000 - f1: 1.0000 - val_loss: 0.3309 - val_accuracy: 0.9100 - val_f1: 0.9100\n",
            "Best F1:0.913, best accuracy:0.924\n",
            "Not found vectors 161 out of 7745 unique words\n",
            "Average sentence len:  10.211788211788212\n",
            "Max sentence len:  37\n",
            "1.917% of tokens were replaced by unk token index\n",
            "Average sentence len:  7.516\n",
            "Max sentence len:  17\n",
            "11.336% of tokens were replaced by unk token index\n",
            "Train on 4004 samples, validate on 500 samples\n",
            "Epoch 1/100000\n",
            "4004/4004 [==============================] - 0s 64us/step - loss: 1.6072 - accuracy: 0.3382 - f1: 0.0034 - val_loss: 1.3472 - val_accuracy: 0.5640 - val_f1: 0.0198\n",
            "Epoch 2/100000\n",
            "4004/4004 [==============================] - 0s 33us/step - loss: 1.2173 - accuracy: 0.6119 - f1: 0.2629 - val_loss: 1.0267 - val_accuracy: 0.6100 - val_f1: 0.5741\n",
            "Epoch 3/100000\n",
            "4004/4004 [==============================] - 0s 32us/step - loss: 0.8585 - accuracy: 0.7250 - f1: 0.6200 - val_loss: 0.7458 - val_accuracy: 0.7220 - val_f1: 0.6910\n",
            "Epoch 4/100000\n",
            "4004/4004 [==============================] - 0s 32us/step - loss: 0.5369 - accuracy: 0.8644 - f1: 0.8228 - val_loss: 0.5696 - val_accuracy: 0.8160 - val_f1: 0.7679\n",
            "Epoch 5/100000\n",
            "4004/4004 [==============================] - 0s 32us/step - loss: 0.3019 - accuracy: 0.9371 - f1: 0.9272 - val_loss: 0.4403 - val_accuracy: 0.8560 - val_f1: 0.8489\n",
            "Epoch 6/100000\n",
            "4004/4004 [==============================] - 0s 31us/step - loss: 0.1551 - accuracy: 0.9730 - f1: 0.9703 - val_loss: 0.3828 - val_accuracy: 0.8760 - val_f1: 0.8705\n",
            "Epoch 7/100000\n",
            "4004/4004 [==============================] - 0s 31us/step - loss: 0.0772 - accuracy: 0.9900 - f1: 0.9896 - val_loss: 0.3755 - val_accuracy: 0.8680 - val_f1: 0.8692\n",
            "Epoch 8/100000\n",
            "4004/4004 [==============================] - 0s 31us/step - loss: 0.0395 - accuracy: 0.9930 - f1: 0.9939 - val_loss: 0.3081 - val_accuracy: 0.9060 - val_f1: 0.9087\n",
            "Epoch 9/100000\n",
            "4004/4004 [==============================] - 0s 31us/step - loss: 0.0206 - accuracy: 0.9985 - f1: 0.9979 - val_loss: 0.3501 - val_accuracy: 0.8780 - val_f1: 0.8821\n",
            "Epoch 10/100000\n",
            "4004/4004 [==============================] - 0s 32us/step - loss: 0.0126 - accuracy: 0.9995 - f1: 0.9994 - val_loss: 0.3269 - val_accuracy: 0.8880 - val_f1: 0.9011\n",
            "Epoch 11/100000\n",
            "4004/4004 [==============================] - 0s 31us/step - loss: 0.0083 - accuracy: 0.9998 - f1: 0.9998 - val_loss: 0.3508 - val_accuracy: 0.8860 - val_f1: 0.8862\n",
            "Epoch 12/100000\n",
            "4004/4004 [==============================] - 0s 31us/step - loss: 0.0058 - accuracy: 1.0000 - f1: 1.0000 - val_loss: 0.3293 - val_accuracy: 0.8940 - val_f1: 0.8952\n",
            "Epoch 13/100000\n",
            "4004/4004 [==============================] - 0s 31us/step - loss: 0.0044 - accuracy: 1.0000 - f1: 1.0000 - val_loss: 0.3377 - val_accuracy: 0.8900 - val_f1: 0.8916\n",
            "Best F1:0.909, best accuracy:0.906\n",
            "f1_average: 0.9095737338066101, std:0.0024864893923243515\n",
            "acc_average: 0.9120000203450521, std:0.008485284521203259\n"
          ],
          "name": "stdout"
        }
      ]
    },
    {
      "cell_type": "code",
      "metadata": {
        "id": "YSpBGHozIk5i",
        "colab_type": "code",
        "outputId": "f8183ed4-3f38-4d9a-890a-b7f0f3486223",
        "colab": {
          "base_uri": "https://localhost:8080/",
          "height": 1000
        }
      },
      "source": [
        "f1_scores, acc_scores = [], []\n",
        "for _ in range(number_of_attemp_to_fit):\n",
        "  f1_score, acc_score = run_lstm(train_data, test_data, w2v_model, MAX_SEQ_LEN, N_CLASSES )\n",
        "  f1_scores.append(f1_score)\n",
        "  acc_scores.append(acc_score)\n",
        "print(\"f1_average: {}, std:{}\".format(np.mean(f1_scores), np.std(f1_scores)))\n",
        "print(\"acc_average: {}, std:{}\".format(np.mean(acc_scores), np.std(acc_scores)))"
      ],
      "execution_count": 0,
      "outputs": [
        {
          "output_type": "stream",
          "text": [
            "Not found vectors 161 out of 7745 unique words\n",
            "Average sentence len:  10.211788211788212\n",
            "Max sentence len:  37\n",
            "1.917% of tokens were replaced by unk token index\n",
            "Average sentence len:  7.516\n",
            "Max sentence len:  17\n",
            "11.336% of tokens were replaced by unk token index\n",
            "Train on 4004 samples, validate on 500 samples\n",
            "Epoch 1/100000\n",
            "4004/4004 [==============================] - 3s 872us/step - loss: 1.7028 - accuracy: 0.2810 - f1: 0.0000e+00 - val_loss: 1.5977 - val_accuracy: 0.3020 - val_f1: 0.0000e+00\n",
            "Epoch 2/100000\n",
            "4004/4004 [==============================] - 2s 521us/step - loss: 1.4682 - accuracy: 0.4136 - f1: 0.1028 - val_loss: 1.3399 - val_accuracy: 0.4580 - val_f1: 0.1763\n",
            "Epoch 3/100000\n",
            "4004/4004 [==============================] - 2s 576us/step - loss: 1.2257 - accuracy: 0.5125 - f1: 0.3435 - val_loss: 1.1442 - val_accuracy: 0.5680 - val_f1: 0.3473\n",
            "Epoch 4/100000\n",
            "4004/4004 [==============================] - 2s 560us/step - loss: 1.0494 - accuracy: 0.5877 - f1: 0.4762 - val_loss: 0.8894 - val_accuracy: 0.7060 - val_f1: 0.6263\n",
            "Epoch 5/100000\n",
            "4004/4004 [==============================] - 2s 523us/step - loss: 0.8867 - accuracy: 0.6533 - f1: 0.6206 - val_loss: 0.7212 - val_accuracy: 0.7280 - val_f1: 0.7344\n",
            "Epoch 6/100000\n",
            "4004/4004 [==============================] - 2s 543us/step - loss: 0.7338 - accuracy: 0.7288 - f1: 0.7199 - val_loss: 0.5746 - val_accuracy: 0.8320 - val_f1: 0.8156\n",
            "Epoch 7/100000\n",
            "4004/4004 [==============================] - 2s 574us/step - loss: 0.6096 - accuracy: 0.7792 - f1: 0.7718 - val_loss: 0.5612 - val_accuracy: 0.8060 - val_f1: 0.7958\n",
            "Epoch 8/100000\n",
            "4004/4004 [==============================] - 2s 553us/step - loss: 0.5285 - accuracy: 0.8144 - f1: 0.8117 - val_loss: 0.4794 - val_accuracy: 0.8440 - val_f1: 0.8405\n",
            "Epoch 9/100000\n",
            "4004/4004 [==============================] - 2s 541us/step - loss: 0.4646 - accuracy: 0.8389 - f1: 0.8377 - val_loss: 0.5110 - val_accuracy: 0.8180 - val_f1: 0.8235\n",
            "Epoch 10/100000\n",
            "4004/4004 [==============================] - 3s 644us/step - loss: 0.3933 - accuracy: 0.8716 - f1: 0.8705 - val_loss: 0.5097 - val_accuracy: 0.8380 - val_f1: 0.8446\n",
            "Epoch 11/100000\n",
            "4004/4004 [==============================] - 2s 543us/step - loss: 0.3626 - accuracy: 0.8814 - f1: 0.8815 - val_loss: 0.5816 - val_accuracy: 0.8180 - val_f1: 0.8102\n",
            "Epoch 12/100000\n",
            "4004/4004 [==============================] - 2s 522us/step - loss: 0.3402 - accuracy: 0.8891 - f1: 0.8917 - val_loss: 0.5005 - val_accuracy: 0.8340 - val_f1: 0.8428\n",
            "Epoch 13/100000\n",
            "4004/4004 [==============================] - 2s 572us/step - loss: 0.2858 - accuracy: 0.9088 - f1: 0.9091 - val_loss: 0.5144 - val_accuracy: 0.8540 - val_f1: 0.8618\n",
            "Best F1:0.862, best accuracy:0.854\n",
            "Not found vectors 161 out of 7745 unique words\n",
            "Average sentence len:  10.211788211788212\n",
            "Max sentence len:  37\n",
            "1.917% of tokens were replaced by unk token index\n",
            "Average sentence len:  7.516\n",
            "Max sentence len:  17\n",
            "11.336% of tokens were replaced by unk token index\n",
            "Train on 4004 samples, validate on 500 samples\n",
            "Epoch 1/100000\n",
            "4004/4004 [==============================] - 4s 907us/step - loss: 1.6995 - accuracy: 0.3249 - f1: 0.0000e+00 - val_loss: 1.5515 - val_accuracy: 0.2880 - val_f1: 0.0000e+00\n",
            "Epoch 2/100000\n",
            "4004/4004 [==============================] - 2s 546us/step - loss: 1.4139 - accuracy: 0.4331 - f1: 0.1611 - val_loss: 1.2795 - val_accuracy: 0.5420 - val_f1: 0.2122\n",
            "Epoch 3/100000\n",
            "4004/4004 [==============================] - 2s 611us/step - loss: 1.1899 - accuracy: 0.5267 - f1: 0.3650 - val_loss: 1.1895 - val_accuracy: 0.5540 - val_f1: 0.5098\n",
            "Epoch 4/100000\n",
            "4004/4004 [==============================] - 2s 549us/step - loss: 1.0074 - accuracy: 0.6094 - f1: 0.5311 - val_loss: 0.9063 - val_accuracy: 0.6860 - val_f1: 0.6737\n",
            "Epoch 5/100000\n",
            "4004/4004 [==============================] - 2s 517us/step - loss: 0.8205 - accuracy: 0.7045 - f1: 0.6712 - val_loss: 0.6417 - val_accuracy: 0.7720 - val_f1: 0.7691\n",
            "Epoch 6/100000\n",
            "4004/4004 [==============================] - 2s 580us/step - loss: 0.6540 - accuracy: 0.7675 - f1: 0.7608 - val_loss: 0.5735 - val_accuracy: 0.8160 - val_f1: 0.7975\n",
            "Epoch 7/100000\n",
            "4004/4004 [==============================] - 2s 515us/step - loss: 0.5245 - accuracy: 0.8287 - f1: 0.8175 - val_loss: 0.5579 - val_accuracy: 0.8120 - val_f1: 0.8041\n",
            "Epoch 8/100000\n",
            "4004/4004 [==============================] - 2s 555us/step - loss: 0.4616 - accuracy: 0.8424 - f1: 0.8425 - val_loss: 0.5971 - val_accuracy: 0.8020 - val_f1: 0.8045\n",
            "Epoch 9/100000\n",
            "4004/4004 [==============================] - 2s 542us/step - loss: 0.4286 - accuracy: 0.8549 - f1: 0.8553 - val_loss: 0.5818 - val_accuracy: 0.8040 - val_f1: 0.8094\n",
            "Epoch 10/100000\n",
            "4004/4004 [==============================] - 2s 589us/step - loss: 0.3623 - accuracy: 0.8784 - f1: 0.8783 - val_loss: 0.6047 - val_accuracy: 0.8080 - val_f1: 0.8062\n",
            "Epoch 11/100000\n",
            "4004/4004 [==============================] - 2s 580us/step - loss: 0.3093 - accuracy: 0.9033 - f1: 0.9039 - val_loss: 0.5489 - val_accuracy: 0.8380 - val_f1: 0.8379\n",
            "Epoch 12/100000\n",
            "4004/4004 [==============================] - 2s 554us/step - loss: 0.2592 - accuracy: 0.9188 - f1: 0.9204 - val_loss: 0.6156 - val_accuracy: 0.8220 - val_f1: 0.8264\n",
            "Epoch 13/100000\n",
            "4004/4004 [==============================] - 2s 546us/step - loss: 0.2403 - accuracy: 0.9256 - f1: 0.9272 - val_loss: 0.6227 - val_accuracy: 0.8220 - val_f1: 0.8256\n",
            "Epoch 14/100000\n",
            "4004/4004 [==============================] - 2s 545us/step - loss: 0.2137 - accuracy: 0.9356 - f1: 0.9367 - val_loss: 0.5415 - val_accuracy: 0.8480 - val_f1: 0.8514\n",
            "Epoch 15/100000\n",
            "4004/4004 [==============================] - 2s 533us/step - loss: 0.1866 - accuracy: 0.9403 - f1: 0.9396 - val_loss: 0.5098 - val_accuracy: 0.8500 - val_f1: 0.8502\n",
            "Epoch 16/100000\n",
            "4004/4004 [==============================] - 2s 533us/step - loss: 0.1647 - accuracy: 0.9500 - f1: 0.9521 - val_loss: 0.6142 - val_accuracy: 0.8360 - val_f1: 0.8364\n",
            "Epoch 17/100000\n",
            "4004/4004 [==============================] - 2s 540us/step - loss: 0.1725 - accuracy: 0.9478 - f1: 0.9466 - val_loss: 0.5085 - val_accuracy: 0.8680 - val_f1: 0.8643\n",
            "Epoch 18/100000\n",
            "4004/4004 [==============================] - 2s 534us/step - loss: 0.1365 - accuracy: 0.9588 - f1: 0.9595 - val_loss: 0.4964 - val_accuracy: 0.8640 - val_f1: 0.8663\n",
            "Epoch 19/100000\n",
            "4004/4004 [==============================] - 2s 514us/step - loss: 0.1235 - accuracy: 0.9685 - f1: 0.9683 - val_loss: 0.6198 - val_accuracy: 0.8640 - val_f1: 0.8663\n",
            "Epoch 20/100000\n",
            "4004/4004 [==============================] - 2s 521us/step - loss: 0.0867 - accuracy: 0.9768 - f1: 0.9768 - val_loss: 0.6511 - val_accuracy: 0.8500 - val_f1: 0.8511\n",
            "Epoch 21/100000\n",
            "4004/4004 [==============================] - 2s 556us/step - loss: 0.0810 - accuracy: 0.9788 - f1: 0.9789 - val_loss: 0.5870 - val_accuracy: 0.8660 - val_f1: 0.8672\n",
            "Epoch 22/100000\n",
            "4004/4004 [==============================] - 2s 575us/step - loss: 0.0736 - accuracy: 0.9798 - f1: 0.9802 - val_loss: 0.6400 - val_accuracy: 0.8640 - val_f1: 0.8623\n",
            "Epoch 23/100000\n",
            "4004/4004 [==============================] - 2s 564us/step - loss: 0.0817 - accuracy: 0.9765 - f1: 0.9771 - val_loss: 0.6003 - val_accuracy: 0.8820 - val_f1: 0.8815\n",
            "Best F1:0.882, best accuracy:0.882\n",
            "Not found vectors 161 out of 7745 unique words\n",
            "Average sentence len:  10.211788211788212\n",
            "Max sentence len:  37\n",
            "1.917% of tokens were replaced by unk token index\n",
            "Average sentence len:  7.516\n",
            "Max sentence len:  17\n",
            "11.336% of tokens were replaced by unk token index\n",
            "Train on 4004 samples, validate on 500 samples\n",
            "Epoch 1/100000\n",
            "4004/4004 [==============================] - 3s 853us/step - loss: 1.6862 - accuracy: 0.2852 - f1: 0.0000e+00 - val_loss: 1.5753 - val_accuracy: 0.3320 - val_f1: 0.0000e+00\n",
            "Epoch 2/100000\n",
            "4004/4004 [==============================] - 2s 564us/step - loss: 1.4313 - accuracy: 0.4403 - f1: 0.1091 - val_loss: 1.3020 - val_accuracy: 0.5720 - val_f1: 0.2343\n",
            "Epoch 3/100000\n",
            "4004/4004 [==============================] - 2s 521us/step - loss: 1.2023 - accuracy: 0.5027 - f1: 0.3705 - val_loss: 1.0610 - val_accuracy: 0.6060 - val_f1: 0.3925\n",
            "Epoch 4/100000\n",
            "4004/4004 [==============================] - 2s 518us/step - loss: 1.0296 - accuracy: 0.6031 - f1: 0.4851 - val_loss: 0.8667 - val_accuracy: 0.7140 - val_f1: 0.6515\n",
            "Epoch 5/100000\n",
            "4004/4004 [==============================] - 2s 512us/step - loss: 0.8607 - accuracy: 0.6818 - f1: 0.6249 - val_loss: 0.6846 - val_accuracy: 0.7300 - val_f1: 0.7317\n",
            "Epoch 6/100000\n",
            "4004/4004 [==============================] - 2s 552us/step - loss: 0.7142 - accuracy: 0.7418 - f1: 0.7224 - val_loss: 0.6234 - val_accuracy: 0.7480 - val_f1: 0.7618\n",
            "Epoch 7/100000\n",
            "4004/4004 [==============================] - 2s 522us/step - loss: 0.6251 - accuracy: 0.7737 - f1: 0.7735 - val_loss: 0.5739 - val_accuracy: 0.8040 - val_f1: 0.8084\n",
            "Epoch 8/100000\n",
            "4004/4004 [==============================] - 2s 533us/step - loss: 0.5375 - accuracy: 0.8154 - f1: 0.8082 - val_loss: 0.5698 - val_accuracy: 0.7980 - val_f1: 0.7909\n",
            "Epoch 9/100000\n",
            "4004/4004 [==============================] - 2s 564us/step - loss: 0.4710 - accuracy: 0.8364 - f1: 0.8307 - val_loss: 0.5051 - val_accuracy: 0.8260 - val_f1: 0.8245\n",
            "Epoch 10/100000\n",
            "4004/4004 [==============================] - 2s 524us/step - loss: 0.4147 - accuracy: 0.8636 - f1: 0.8593 - val_loss: 0.4552 - val_accuracy: 0.8420 - val_f1: 0.8494\n",
            "Epoch 11/100000\n",
            "4004/4004 [==============================] - 2s 565us/step - loss: 0.3771 - accuracy: 0.8794 - f1: 0.8712 - val_loss: 0.5180 - val_accuracy: 0.8320 - val_f1: 0.8352\n",
            "Epoch 12/100000\n",
            "4004/4004 [==============================] - 2s 523us/step - loss: 0.3257 - accuracy: 0.8946 - f1: 0.8966 - val_loss: 0.5322 - val_accuracy: 0.8320 - val_f1: 0.8417\n",
            "Epoch 13/100000\n",
            "4004/4004 [==============================] - 2s 516us/step - loss: 0.2922 - accuracy: 0.9081 - f1: 0.9075 - val_loss: 0.4815 - val_accuracy: 0.8760 - val_f1: 0.8755\n",
            "Epoch 14/100000\n",
            "4004/4004 [==============================] - 2s 527us/step - loss: 0.2689 - accuracy: 0.9181 - f1: 0.9191 - val_loss: 0.5926 - val_accuracy: 0.8220 - val_f1: 0.8248\n",
            "Epoch 15/100000\n",
            "4004/4004 [==============================] - 2s 577us/step - loss: 0.2326 - accuracy: 0.9251 - f1: 0.9246 - val_loss: 0.5601 - val_accuracy: 0.8380 - val_f1: 0.8354\n",
            "Best F1:0.876, best accuracy:0.876\n",
            "f1_average: 0.8729415734608968, std:0.00825994482505363\n",
            "acc_average: 0.8706666628519694, std:0.012037000048895278\n"
          ],
          "name": "stdout"
        }
      ]
    },
    {
      "cell_type": "markdown",
      "metadata": {
        "id": "5fODnB5XIo75",
        "colab_type": "text"
      },
      "source": [
        "### 5000"
      ]
    },
    {
      "cell_type": "code",
      "metadata": {
        "colab_type": "code",
        "id": "V0u-ZyK2GXp_",
        "colab": {}
      },
      "source": [
        "number_of_attemp_to_fit = 3"
      ],
      "execution_count": 0,
      "outputs": []
    },
    {
      "cell_type": "code",
      "metadata": {
        "colab_type": "code",
        "id": "6CxoXnXSGXqC",
        "colab": {}
      },
      "source": [
        "train_data, test_data, l2i = read_trec6('trec6_splited/trec6_splited_5k.csv')"
      ],
      "execution_count": 0,
      "outputs": []
    },
    {
      "cell_type": "code",
      "metadata": {
        "colab_type": "code",
        "id": "k9SXRA0FGXqE",
        "colab": {}
      },
      "source": [
        "MAX_SEQ_LEN, N_CLASSES = 37, len(train_data.lbl_index.unique())"
      ],
      "execution_count": 0,
      "outputs": []
    },
    {
      "cell_type": "code",
      "metadata": {
        "colab_type": "code",
        "outputId": "566a183e-6826-4b4b-a691-d14450963fb8",
        "id": "DM7AcVuqGXqG",
        "colab": {
          "base_uri": "https://localhost:8080/",
          "height": 1000
        }
      },
      "source": [
        "f1_scores, acc_scores = [], []\n",
        "for _ in range(number_of_attemp_to_fit):\n",
        "  f1_score, acc_score = run_lstm(train_data, test_data, w2v_model, MAX_SEQ_LEN, N_CLASSES )\n",
        "  f1_scores.append(f1_score)\n",
        "  acc_scores.append(acc_score)\n",
        "print(\"f1_average: {}, std:{}\".format(np.mean(f1_scores), np.std(f1_scores)))\n",
        "print(\"acc_average: {}, std:{}\".format(np.mean(acc_scores), np.std(acc_scores)))"
      ],
      "execution_count": 0,
      "outputs": [
        {
          "output_type": "stream",
          "text": [
            "Not found vectors 200 out of 8946 unique words\n",
            "Average sentence len:  10.192369157011585\n",
            "Max sentence len:  37\n",
            "1.897% of tokens were replaced by unk token index\n",
            "Average sentence len:  7.516\n",
            "Max sentence len:  17\n",
            "10.271% of tokens were replaced by unk token index\n",
            "Train on 5006 samples, validate on 500 samples\n",
            "Epoch 1/100000\n",
            "5006/5006 [==============================] - 4s 735us/step - loss: 1.6847 - accuracy: 0.2529 - f1: 3.8986e-04 - val_loss: 1.5297 - val_accuracy: 0.3720 - val_f1: 0.0000e+00\n",
            "Epoch 2/100000\n",
            "5006/5006 [==============================] - 3s 566us/step - loss: 1.3530 - accuracy: 0.4571 - f1: 0.2293 - val_loss: 1.2347 - val_accuracy: 0.4120 - val_f1: 0.3174\n",
            "Epoch 3/100000\n",
            "5006/5006 [==============================] - 3s 523us/step - loss: 1.0903 - accuracy: 0.5859 - f1: 0.4473 - val_loss: 0.9591 - val_accuracy: 0.7180 - val_f1: 0.4773\n",
            "Epoch 4/100000\n",
            "5006/5006 [==============================] - 3s 534us/step - loss: 0.8903 - accuracy: 0.6754 - f1: 0.6374 - val_loss: 0.8416 - val_accuracy: 0.6840 - val_f1: 0.6818\n",
            "Epoch 5/100000\n",
            "5006/5006 [==============================] - 3s 519us/step - loss: 0.7309 - accuracy: 0.7435 - f1: 0.7225 - val_loss: 0.6040 - val_accuracy: 0.7980 - val_f1: 0.7838\n",
            "Epoch 6/100000\n",
            "5006/5006 [==============================] - 3s 548us/step - loss: 0.6185 - accuracy: 0.7857 - f1: 0.7778 - val_loss: 0.5586 - val_accuracy: 0.8100 - val_f1: 0.8026\n",
            "Epoch 7/100000\n",
            "5006/5006 [==============================] - 3s 525us/step - loss: 0.5327 - accuracy: 0.8188 - f1: 0.8064 - val_loss: 0.4406 - val_accuracy: 0.8500 - val_f1: 0.8405\n",
            "Epoch 8/100000\n",
            "5006/5006 [==============================] - 3s 529us/step - loss: 0.4518 - accuracy: 0.8492 - f1: 0.8458 - val_loss: 0.4434 - val_accuracy: 0.8440 - val_f1: 0.8418\n",
            "Epoch 9/100000\n",
            "5006/5006 [==============================] - 3s 542us/step - loss: 0.3970 - accuracy: 0.8684 - f1: 0.8696 - val_loss: 0.4640 - val_accuracy: 0.8560 - val_f1: 0.8530\n",
            "Epoch 10/100000\n",
            "5006/5006 [==============================] - 3s 541us/step - loss: 0.3575 - accuracy: 0.8821 - f1: 0.8842 - val_loss: 0.4332 - val_accuracy: 0.8640 - val_f1: 0.8603\n",
            "Epoch 11/100000\n",
            "5006/5006 [==============================] - 3s 529us/step - loss: 0.3216 - accuracy: 0.8947 - f1: 0.8968 - val_loss: 0.4246 - val_accuracy: 0.8720 - val_f1: 0.8682\n",
            "Epoch 12/100000\n",
            "5006/5006 [==============================] - 3s 610us/step - loss: 0.3935 - accuracy: 0.8646 - f1: 0.8650 - val_loss: 0.5058 - val_accuracy: 0.8300 - val_f1: 0.8376\n",
            "Epoch 13/100000\n",
            "5006/5006 [==============================] - 3s 515us/step - loss: 0.3443 - accuracy: 0.8881 - f1: 0.8877 - val_loss: 0.4405 - val_accuracy: 0.8700 - val_f1: 0.8637\n",
            "Epoch 14/100000\n",
            "5006/5006 [==============================] - 3s 528us/step - loss: 0.2950 - accuracy: 0.9087 - f1: 0.9090 - val_loss: 0.4671 - val_accuracy: 0.8540 - val_f1: 0.8502\n",
            "Epoch 15/100000\n",
            "5006/5006 [==============================] - 3s 547us/step - loss: 0.2685 - accuracy: 0.9173 - f1: 0.9148 - val_loss: 0.3922 - val_accuracy: 0.8780 - val_f1: 0.8704\n",
            "Epoch 16/100000\n",
            "5006/5006 [==============================] - 3s 525us/step - loss: 0.2603 - accuracy: 0.9193 - f1: 0.9193 - val_loss: 0.4314 - val_accuracy: 0.8720 - val_f1: 0.8716\n",
            "Epoch 17/100000\n",
            "5006/5006 [==============================] - 3s 514us/step - loss: 0.2179 - accuracy: 0.9357 - f1: 0.9353 - val_loss: 0.5397 - val_accuracy: 0.8400 - val_f1: 0.8453\n",
            "Epoch 18/100000\n",
            "5006/5006 [==============================] - 3s 549us/step - loss: 0.1999 - accuracy: 0.9435 - f1: 0.9441 - val_loss: 0.4889 - val_accuracy: 0.8540 - val_f1: 0.8566\n",
            "Epoch 19/100000\n",
            "5006/5006 [==============================] - 3s 566us/step - loss: 0.1842 - accuracy: 0.9455 - f1: 0.9454 - val_loss: 0.5505 - val_accuracy: 0.8420 - val_f1: 0.8430\n",
            "Epoch 20/100000\n",
            "5006/5006 [==============================] - 3s 514us/step - loss: 0.1660 - accuracy: 0.9531 - f1: 0.9527 - val_loss: 0.5463 - val_accuracy: 0.8520 - val_f1: 0.8491\n",
            "Best F1:0.872, best accuracy:0.878\n",
            "Not found vectors 200 out of 8946 unique words\n",
            "Average sentence len:  10.192369157011585\n",
            "Max sentence len:  37\n",
            "1.897% of tokens were replaced by unk token index\n",
            "Average sentence len:  7.516\n",
            "Max sentence len:  17\n",
            "10.271% of tokens were replaced by unk token index\n",
            "Train on 5006 samples, validate on 500 samples\n",
            "Epoch 1/100000\n",
            "5006/5006 [==============================] - 4s 753us/step - loss: 1.6813 - accuracy: 0.3008 - f1: 0.0000e+00 - val_loss: 1.5068 - val_accuracy: 0.5560 - val_f1: 0.0000e+00\n",
            "Epoch 2/100000\n",
            "5006/5006 [==============================] - 3s 525us/step - loss: 1.3177 - accuracy: 0.4800 - f1: 0.2195 - val_loss: 1.1650 - val_accuracy: 0.6520 - val_f1: 0.3514\n",
            "Epoch 3/100000\n",
            "5006/5006 [==============================] - 3s 519us/step - loss: 1.0396 - accuracy: 0.6015 - f1: 0.5082 - val_loss: 0.9299 - val_accuracy: 0.6560 - val_f1: 0.6475\n",
            "Epoch 4/100000\n",
            "5006/5006 [==============================] - 3s 512us/step - loss: 0.8450 - accuracy: 0.6892 - f1: 0.6589 - val_loss: 0.7633 - val_accuracy: 0.7040 - val_f1: 0.7227\n",
            "Epoch 5/100000\n",
            "5006/5006 [==============================] - 3s 532us/step - loss: 0.7011 - accuracy: 0.7485 - f1: 0.7362 - val_loss: 0.6150 - val_accuracy: 0.7500 - val_f1: 0.7562\n",
            "Epoch 6/100000\n",
            "5006/5006 [==============================] - 3s 572us/step - loss: 0.5969 - accuracy: 0.7871 - f1: 0.7800 - val_loss: 0.6037 - val_accuracy: 0.7780 - val_f1: 0.7773\n",
            "Epoch 7/100000\n",
            "5006/5006 [==============================] - 3s 539us/step - loss: 0.5097 - accuracy: 0.8186 - f1: 0.8162 - val_loss: 0.4697 - val_accuracy: 0.8320 - val_f1: 0.8252\n",
            "Epoch 8/100000\n",
            "5006/5006 [==============================] - 3s 511us/step - loss: 0.4688 - accuracy: 0.8402 - f1: 0.8334 - val_loss: 0.4806 - val_accuracy: 0.8360 - val_f1: 0.8347\n",
            "Epoch 9/100000\n",
            "5006/5006 [==============================] - 3s 518us/step - loss: 0.4299 - accuracy: 0.8574 - f1: 0.8558 - val_loss: 0.4568 - val_accuracy: 0.8600 - val_f1: 0.8601\n",
            "Epoch 10/100000\n",
            "5006/5006 [==============================] - 3s 551us/step - loss: 0.3736 - accuracy: 0.8748 - f1: 0.8746 - val_loss: 0.5002 - val_accuracy: 0.8360 - val_f1: 0.8289\n",
            "Epoch 11/100000\n",
            "5006/5006 [==============================] - 3s 526us/step - loss: 0.3317 - accuracy: 0.8929 - f1: 0.8941 - val_loss: 0.4408 - val_accuracy: 0.8560 - val_f1: 0.8539\n",
            "Epoch 12/100000\n",
            "5006/5006 [==============================] - 3s 505us/step - loss: 0.3122 - accuracy: 0.9005 - f1: 0.9003 - val_loss: 0.3784 - val_accuracy: 0.8640 - val_f1: 0.8668\n",
            "Epoch 13/100000\n",
            "5006/5006 [==============================] - 3s 550us/step - loss: 0.2753 - accuracy: 0.9115 - f1: 0.9140 - val_loss: 0.4360 - val_accuracy: 0.8540 - val_f1: 0.8557\n",
            "Epoch 14/100000\n",
            "5006/5006 [==============================] - 3s 529us/step - loss: 0.2368 - accuracy: 0.9289 - f1: 0.9284 - val_loss: 0.4669 - val_accuracy: 0.8600 - val_f1: 0.8618\n",
            "Epoch 15/100000\n",
            "5006/5006 [==============================] - 3s 595us/step - loss: 0.1951 - accuracy: 0.9413 - f1: 0.9414 - val_loss: 0.5357 - val_accuracy: 0.8500 - val_f1: 0.8508\n",
            "Epoch 16/100000\n",
            "5006/5006 [==============================] - 3s 555us/step - loss: 0.1825 - accuracy: 0.9449 - f1: 0.9451 - val_loss: 0.4674 - val_accuracy: 0.8540 - val_f1: 0.8569\n",
            "Epoch 17/100000\n",
            "5006/5006 [==============================] - 3s 548us/step - loss: 0.1683 - accuracy: 0.9529 - f1: 0.9527 - val_loss: 0.5130 - val_accuracy: 0.8560 - val_f1: 0.8606\n",
            "Best F1:0.867, best accuracy:0.864\n",
            "Not found vectors 200 out of 8946 unique words\n",
            "Average sentence len:  10.192369157011585\n",
            "Max sentence len:  37\n",
            "1.897% of tokens were replaced by unk token index\n",
            "Average sentence len:  7.516\n",
            "Max sentence len:  17\n",
            "10.271% of tokens were replaced by unk token index\n",
            "Train on 5006 samples, validate on 500 samples\n",
            "Epoch 1/100000\n",
            "5006/5006 [==============================] - 4s 766us/step - loss: 1.6653 - accuracy: 0.3292 - f1: 3.8986e-04 - val_loss: 1.4952 - val_accuracy: 0.3340 - val_f1: 0.0000e+00\n",
            "Epoch 2/100000\n",
            "5006/5006 [==============================] - 3s 531us/step - loss: 1.3084 - accuracy: 0.4616 - f1: 0.2445 - val_loss: 1.1581 - val_accuracy: 0.6240 - val_f1: 0.3046\n",
            "Epoch 3/100000\n",
            "5006/5006 [==============================] - 3s 527us/step - loss: 1.0403 - accuracy: 0.5945 - f1: 0.4866 - val_loss: 0.8792 - val_accuracy: 0.6900 - val_f1: 0.6845\n",
            "Epoch 4/100000\n",
            "5006/5006 [==============================] - 3s 531us/step - loss: 0.8593 - accuracy: 0.6728 - f1: 0.6518 - val_loss: 0.7264 - val_accuracy: 0.7380 - val_f1: 0.7451\n",
            "Epoch 5/100000\n",
            "5006/5006 [==============================] - 3s 561us/step - loss: 0.6989 - accuracy: 0.7447 - f1: 0.7392 - val_loss: 0.5603 - val_accuracy: 0.8040 - val_f1: 0.7996\n",
            "Epoch 6/100000\n",
            "5006/5006 [==============================] - 3s 520us/step - loss: 0.5748 - accuracy: 0.7968 - f1: 0.7875 - val_loss: 0.5846 - val_accuracy: 0.8060 - val_f1: 0.7958\n",
            "Epoch 7/100000\n",
            "5006/5006 [==============================] - 3s 550us/step - loss: 0.4855 - accuracy: 0.8366 - f1: 0.8305 - val_loss: 0.4419 - val_accuracy: 0.8500 - val_f1: 0.8507\n",
            "Epoch 8/100000\n",
            "5006/5006 [==============================] - 3s 578us/step - loss: 0.4324 - accuracy: 0.8550 - f1: 0.8502 - val_loss: 0.4095 - val_accuracy: 0.8500 - val_f1: 0.8616\n",
            "Epoch 9/100000\n",
            "5006/5006 [==============================] - 3s 522us/step - loss: 0.4081 - accuracy: 0.8654 - f1: 0.8666 - val_loss: 0.4950 - val_accuracy: 0.8320 - val_f1: 0.8383\n",
            "Epoch 10/100000\n",
            "5006/5006 [==============================] - 3s 526us/step - loss: 0.3612 - accuracy: 0.8845 - f1: 0.8833 - val_loss: 0.4605 - val_accuracy: 0.8440 - val_f1: 0.8466\n",
            "Epoch 11/100000\n",
            "5006/5006 [==============================] - 3s 519us/step - loss: 0.3159 - accuracy: 0.8971 - f1: 0.8984 - val_loss: 0.5481 - val_accuracy: 0.8260 - val_f1: 0.8226\n",
            "Epoch 12/100000\n",
            "5006/5006 [==============================] - 3s 544us/step - loss: 0.2800 - accuracy: 0.9097 - f1: 0.9128 - val_loss: 0.4455 - val_accuracy: 0.8620 - val_f1: 0.8665\n",
            "Epoch 13/100000\n",
            "5006/5006 [==============================] - 3s 517us/step - loss: 0.2607 - accuracy: 0.9175 - f1: 0.9181 - val_loss: 0.4386 - val_accuracy: 0.8700 - val_f1: 0.8716\n",
            "Best F1:0.872, best accuracy:0.870\n",
            "f1_average: 0.8699926733970642, std:0.0022552778638179395\n",
            "acc_average: 0.8706666827201843, std:0.005734883585275591\n"
          ],
          "name": "stdout"
        }
      ]
    },
    {
      "cell_type": "code",
      "metadata": {
        "colab_type": "code",
        "outputId": "39743065-c80e-45d1-9dcd-b7d5488909ea",
        "id": "WDp9_TPYGXqJ",
        "colab": {
          "base_uri": "https://localhost:8080/",
          "height": 1000
        }
      },
      "source": [
        "f1_scores, acc_scores = [], []\n",
        "for _ in range(number_of_attemp_to_fit):\n",
        "  f1_score, acc_score = run_cnn(train_data, test_data, w2v_model, MAX_SEQ_LEN, N_CLASSES )\n",
        "  f1_scores.append(f1_score)\n",
        "  acc_scores.append(acc_score)\n",
        "print(\"f1_average: {}, std:{}\".format(np.mean(f1_scores), np.std(f1_scores)))\n",
        "print(\"acc_average: {}, std:{}\".format(np.mean(acc_scores), np.std(acc_scores)))"
      ],
      "execution_count": 0,
      "outputs": [
        {
          "output_type": "stream",
          "text": [
            "Not found vectors 200 out of 8946 unique words\n",
            "Average sentence len:  10.192369157011585\n",
            "Max sentence len:  37\n",
            "1.897% of tokens were replaced by unk token index\n",
            "Average sentence len:  7.516\n",
            "Max sentence len:  17\n",
            "10.271% of tokens were replaced by unk token index\n",
            "Train on 5006 samples, validate on 500 samples\n",
            "Epoch 1/100000\n",
            "5006/5006 [==============================] - 0s 73us/step - loss: 1.5555 - accuracy: 0.3989 - f1: 0.0035 - val_loss: 1.2834 - val_accuracy: 0.5640 - val_f1: 0.0431\n",
            "Epoch 2/100000\n",
            "5006/5006 [==============================] - 0s 33us/step - loss: 1.0454 - accuracy: 0.6670 - f1: 0.4315 - val_loss: 0.8592 - val_accuracy: 0.6920 - val_f1: 0.6807\n",
            "Epoch 3/100000\n",
            "5006/5006 [==============================] - 0s 32us/step - loss: 0.6166 - accuracy: 0.8116 - f1: 0.7742 - val_loss: 0.5445 - val_accuracy: 0.8000 - val_f1: 0.7920\n",
            "Epoch 4/100000\n",
            "5006/5006 [==============================] - 0s 33us/step - loss: 0.3313 - accuracy: 0.9117 - f1: 0.9056 - val_loss: 0.3786 - val_accuracy: 0.8780 - val_f1: 0.8725\n",
            "Epoch 5/100000\n",
            "5006/5006 [==============================] - 0s 33us/step - loss: 0.1646 - accuracy: 0.9632 - f1: 0.9627 - val_loss: 0.3613 - val_accuracy: 0.8740 - val_f1: 0.8751\n",
            "Epoch 6/100000\n",
            "5006/5006 [==============================] - 0s 33us/step - loss: 0.0754 - accuracy: 0.9888 - f1: 0.9888 - val_loss: 0.3200 - val_accuracy: 0.8940 - val_f1: 0.8959\n",
            "Epoch 7/100000\n",
            "5006/5006 [==============================] - 0s 33us/step - loss: 0.0372 - accuracy: 0.9942 - f1: 0.9941 - val_loss: 0.3291 - val_accuracy: 0.8920 - val_f1: 0.8943\n",
            "Epoch 8/100000\n",
            "5006/5006 [==============================] - 0s 33us/step - loss: 0.0211 - accuracy: 0.9974 - f1: 0.9976 - val_loss: 0.3283 - val_accuracy: 0.8920 - val_f1: 0.8977\n",
            "Epoch 9/100000\n",
            "5006/5006 [==============================] - 0s 33us/step - loss: 0.0129 - accuracy: 0.9980 - f1: 0.9978 - val_loss: 0.2835 - val_accuracy: 0.9080 - val_f1: 0.9076\n",
            "Epoch 10/100000\n",
            "5006/5006 [==============================] - 0s 34us/step - loss: 0.0082 - accuracy: 0.9994 - f1: 0.9996 - val_loss: 0.3290 - val_accuracy: 0.8980 - val_f1: 0.9006\n",
            "Epoch 11/100000\n",
            "5006/5006 [==============================] - 0s 33us/step - loss: 0.0055 - accuracy: 1.0000 - f1: 0.9999 - val_loss: 0.3008 - val_accuracy: 0.9040 - val_f1: 0.9108\n",
            "Epoch 12/100000\n",
            "5006/5006 [==============================] - 0s 34us/step - loss: 0.0040 - accuracy: 1.0000 - f1: 1.0000 - val_loss: 0.3142 - val_accuracy: 0.8980 - val_f1: 0.9010\n",
            "Epoch 13/100000\n",
            "5006/5006 [==============================] - 0s 33us/step - loss: 0.0031 - accuracy: 1.0000 - f1: 1.0000 - val_loss: 0.3117 - val_accuracy: 0.9040 - val_f1: 0.9058\n",
            "Epoch 14/100000\n",
            "5006/5006 [==============================] - 0s 32us/step - loss: 0.0025 - accuracy: 1.0000 - f1: 1.0000 - val_loss: 0.3170 - val_accuracy: 0.9020 - val_f1: 0.9049\n",
            "Best F1:0.911, best accuracy:0.908\n",
            "Not found vectors 200 out of 8946 unique words\n",
            "Average sentence len:  10.192369157011585\n",
            "Max sentence len:  37\n",
            "1.897% of tokens were replaced by unk token index\n",
            "Average sentence len:  7.516\n",
            "Max sentence len:  17\n",
            "10.271% of tokens were replaced by unk token index\n",
            "Train on 5006 samples, validate on 500 samples\n",
            "Epoch 1/100000\n",
            "5006/5006 [==============================] - 0s 57us/step - loss: 1.5482 - accuracy: 0.4051 - f1: 0.0126 - val_loss: 1.2699 - val_accuracy: 0.5920 - val_f1: 0.3601\n",
            "Epoch 2/100000\n",
            "5006/5006 [==============================] - 0s 32us/step - loss: 1.0570 - accuracy: 0.6536 - f1: 0.4235 - val_loss: 0.8587 - val_accuracy: 0.6940 - val_f1: 0.6460\n",
            "Epoch 3/100000\n",
            "5006/5006 [==============================] - 0s 33us/step - loss: 0.6229 - accuracy: 0.8090 - f1: 0.7706 - val_loss: 0.4963 - val_accuracy: 0.8480 - val_f1: 0.8239\n",
            "Epoch 4/100000\n",
            "5006/5006 [==============================] - 0s 33us/step - loss: 0.3382 - accuracy: 0.9089 - f1: 0.9006 - val_loss: 0.3908 - val_accuracy: 0.8700 - val_f1: 0.8655\n",
            "Epoch 5/100000\n",
            "5006/5006 [==============================] - 0s 34us/step - loss: 0.1648 - accuracy: 0.9656 - f1: 0.9641 - val_loss: 0.3372 - val_accuracy: 0.8900 - val_f1: 0.8884\n",
            "Epoch 6/100000\n",
            "5006/5006 [==============================] - 0s 33us/step - loss: 0.0776 - accuracy: 0.9870 - f1: 0.9871 - val_loss: 0.3228 - val_accuracy: 0.8920 - val_f1: 0.8930\n",
            "Epoch 7/100000\n",
            "5006/5006 [==============================] - 0s 33us/step - loss: 0.0373 - accuracy: 0.9944 - f1: 0.9947 - val_loss: 0.3437 - val_accuracy: 0.8820 - val_f1: 0.8855\n",
            "Epoch 8/100000\n",
            "5006/5006 [==============================] - 0s 33us/step - loss: 0.0208 - accuracy: 0.9970 - f1: 0.9975 - val_loss: 0.2992 - val_accuracy: 0.9120 - val_f1: 0.9113\n",
            "Epoch 9/100000\n",
            "5006/5006 [==============================] - 0s 33us/step - loss: 0.0126 - accuracy: 0.9986 - f1: 0.9984 - val_loss: 0.3186 - val_accuracy: 0.9020 - val_f1: 0.9026\n",
            "Epoch 10/100000\n",
            "5006/5006 [==============================] - 0s 33us/step - loss: 0.0081 - accuracy: 1.0000 - f1: 0.9999 - val_loss: 0.3286 - val_accuracy: 0.8980 - val_f1: 0.8997\n",
            "Epoch 11/100000\n",
            "5006/5006 [==============================] - 0s 34us/step - loss: 0.0058 - accuracy: 1.0000 - f1: 1.0000 - val_loss: 0.3041 - val_accuracy: 0.9140 - val_f1: 0.9117\n",
            "Epoch 12/100000\n",
            "5006/5006 [==============================] - 0s 33us/step - loss: 0.0044 - accuracy: 1.0000 - f1: 1.0000 - val_loss: 0.3413 - val_accuracy: 0.8960 - val_f1: 0.8938\n",
            "Epoch 13/100000\n",
            "5006/5006 [==============================] - 0s 33us/step - loss: 0.0033 - accuracy: 1.0000 - f1: 1.0000 - val_loss: 0.3110 - val_accuracy: 0.9100 - val_f1: 0.9142\n",
            "Best F1:0.914, best accuracy:0.914\n",
            "Not found vectors 200 out of 8946 unique words\n",
            "Average sentence len:  10.192369157011585\n",
            "Max sentence len:  37\n",
            "1.897% of tokens were replaced by unk token index\n",
            "Average sentence len:  7.516\n",
            "Max sentence len:  17\n",
            "10.271% of tokens were replaced by unk token index\n",
            "Train on 5006 samples, validate on 500 samples\n",
            "Epoch 1/100000\n",
            "5006/5006 [==============================] - 0s 54us/step - loss: 1.6047 - accuracy: 0.3524 - f1: 1.0000e-03 - val_loss: 1.3297 - val_accuracy: 0.6000 - val_f1: 0.0119\n",
            "Epoch 2/100000\n",
            "5006/5006 [==============================] - 0s 33us/step - loss: 1.1621 - accuracy: 0.6235 - f1: 0.3271 - val_loss: 0.9414 - val_accuracy: 0.6400 - val_f1: 0.5839\n",
            "Epoch 3/100000\n",
            "5006/5006 [==============================] - 0s 32us/step - loss: 0.7086 - accuracy: 0.7761 - f1: 0.7227 - val_loss: 0.5789 - val_accuracy: 0.8040 - val_f1: 0.7759\n",
            "Epoch 4/100000\n",
            "5006/5006 [==============================] - 0s 33us/step - loss: 0.3922 - accuracy: 0.8965 - f1: 0.8770 - val_loss: 0.4024 - val_accuracy: 0.8640 - val_f1: 0.8611\n",
            "Epoch 5/100000\n",
            "5006/5006 [==============================] - 0s 33us/step - loss: 0.1958 - accuracy: 0.9579 - f1: 0.9550 - val_loss: 0.3465 - val_accuracy: 0.8920 - val_f1: 0.8806\n",
            "Epoch 6/100000\n",
            "5006/5006 [==============================] - 0s 33us/step - loss: 0.0925 - accuracy: 0.9870 - f1: 0.9863 - val_loss: 0.3308 - val_accuracy: 0.8920 - val_f1: 0.8884\n",
            "Epoch 7/100000\n",
            "5006/5006 [==============================] - 0s 34us/step - loss: 0.0431 - accuracy: 0.9924 - f1: 0.9930 - val_loss: 0.3220 - val_accuracy: 0.8980 - val_f1: 0.8970\n",
            "Epoch 8/100000\n",
            "5006/5006 [==============================] - 0s 32us/step - loss: 0.0228 - accuracy: 0.9966 - f1: 0.9967 - val_loss: 0.3227 - val_accuracy: 0.8960 - val_f1: 0.8956\n",
            "Epoch 9/100000\n",
            "5006/5006 [==============================] - 0s 32us/step - loss: 0.0137 - accuracy: 0.9986 - f1: 0.9982 - val_loss: 0.2999 - val_accuracy: 0.9080 - val_f1: 0.9069\n",
            "Epoch 10/100000\n",
            "5006/5006 [==============================] - 0s 33us/step - loss: 0.0089 - accuracy: 0.9996 - f1: 0.9998 - val_loss: 0.3378 - val_accuracy: 0.8960 - val_f1: 0.8918\n",
            "Epoch 11/100000\n",
            "5006/5006 [==============================] - 0s 32us/step - loss: 0.0061 - accuracy: 1.0000 - f1: 0.9999 - val_loss: 0.3179 - val_accuracy: 0.9040 - val_f1: 0.9037\n",
            "Epoch 12/100000\n",
            "5006/5006 [==============================] - 0s 32us/step - loss: 0.0044 - accuracy: 1.0000 - f1: 1.0000 - val_loss: 0.3228 - val_accuracy: 0.9080 - val_f1: 0.9047\n",
            "Epoch 13/100000\n",
            "5006/5006 [==============================] - 0s 34us/step - loss: 0.0034 - accuracy: 1.0000 - f1: 1.0000 - val_loss: 0.3240 - val_accuracy: 0.9020 - val_f1: 0.9037\n",
            "Epoch 14/100000\n",
            "5006/5006 [==============================] - 0s 33us/step - loss: 0.0027 - accuracy: 1.0000 - f1: 1.0000 - val_loss: 0.3356 - val_accuracy: 0.9020 - val_f1: 0.8997\n",
            "Best F1:0.907, best accuracy:0.908\n",
            "f1_average: 0.9106202920277914, std:0.0030001731952160144\n",
            "acc_average: 0.9099999864896139, std:0.0028284188077680843\n"
          ],
          "name": "stdout"
        }
      ]
    },
    {
      "cell_type": "markdown",
      "metadata": {
        "id": "crshuUjmDD6B",
        "colab_type": "text"
      },
      "source": [
        "## Trec-6 with eda"
      ]
    },
    {
      "cell_type": "code",
      "metadata": {
        "colab_type": "code",
        "id": "IjXhV_rHDhfs",
        "colab": {}
      },
      "source": [
        "def read_eda_trec6(file_name):\n",
        "  \"type = 0 - trec6, type = 1 - trec50\"\n",
        "  labels = [i[:-1].split('\\t' )[0] for i in open(file_name, encoding = 'windows-1252').readlines()]\n",
        "  texts = [ i[:-1].split('\\t' )[1] for i in open(file_name, encoding = 'windows-1252').readlines()]\n",
        "  aug  = pd.DataFrame({'text':texts, 'labels': labels})\n",
        "  lbl2indx = {i:j for j, i in enumerate(aug.labels.unique())}\n",
        "  aug['lbl_index'] = aug.labels.apply(lambda x:lbl2indx[x])\n",
        "  return aug"
      ],
      "execution_count": 0,
      "outputs": []
    },
    {
      "cell_type": "markdown",
      "metadata": {
        "id": "b0sY6Pd2ETML",
        "colab_type": "text"
      },
      "source": [
        "### 5000"
      ]
    },
    {
      "cell_type": "code",
      "metadata": {
        "colab_type": "code",
        "id": "s5Lem3BADhfw",
        "colab": {}
      },
      "source": [
        "aug_data =  read_eda_trec6('trec6_splited/augmented_with_eda/trec-6_clear_5k_samples.txt')"
      ],
      "execution_count": 0,
      "outputs": []
    },
    {
      "cell_type": "code",
      "metadata": {
        "colab_type": "code",
        "id": "bq5KuhjuDhfz",
        "colab": {}
      },
      "source": [
        "train_data, test_data, l2i = read_trec6('trec6_splited/trec6_splited_5k.csv')"
      ],
      "execution_count": 0,
      "outputs": []
    },
    {
      "cell_type": "code",
      "metadata": {
        "colab_type": "code",
        "id": "_EWs4HY0Dhf3",
        "colab": {}
      },
      "source": [
        "number_of_attemp_to_fit = 3"
      ],
      "execution_count": 0,
      "outputs": []
    },
    {
      "cell_type": "code",
      "metadata": {
        "colab_type": "code",
        "id": "aSErJUyoDhf5",
        "colab": {}
      },
      "source": [
        "MAX_SEQ_LEN, N_CLASSES = 37, len(train_data.lbl_index.unique())"
      ],
      "execution_count": 0,
      "outputs": []
    },
    {
      "cell_type": "code",
      "metadata": {
        "colab_type": "code",
        "outputId": "01d16c81-86b6-4126-abdb-8f8863161060",
        "id": "wmZilgdYDhf8",
        "colab": {
          "base_uri": "https://localhost:8080/",
          "height": 1000
        }
      },
      "source": [
        "f1_scores, acc_scores = [], []\n",
        "for _ in range(number_of_attemp_to_fit):\n",
        "  f1_score, acc_score = run_cnn(pd.concat([train_data,aug_data]), test_data, w2v_model, MAX_SEQ_LEN, N_CLASSES )\n",
        "  f1_scores.append(f1_score)\n",
        "  acc_scores.append(acc_score)\n",
        "print(\"f1_average: {}, std:{}\".format(np.mean(f1_scores), np.std(f1_scores)))\n",
        "print(\"acc_average: {}, std:{}\".format(np.mean(acc_scores), np.std(acc_scores)))"
      ],
      "execution_count": 0,
      "outputs": [
        {
          "output_type": "stream",
          "text": [
            "Not found vectors 557 out of 14285 unique words\n",
            "Average sentence len:  9.430017312558263\n",
            "Max sentence len:  37\n",
            "2.707% of tokens were replaced by unk token index\n",
            "Average sentence len:  7.516\n",
            "Max sentence len:  17\n",
            "9.154% of tokens were replaced by unk token index\n",
            "Train on 30036 samples, validate on 500 samples\n",
            "Epoch 1/100000\n",
            "30036/30036 [==============================] - 8s 277us/step - loss: 0.8957 - accuracy: 0.6696 - f1: 0.5463 - val_loss: 0.4522 - val_accuracy: 0.8600 - val_f1: 0.8623\n",
            "Epoch 2/100000\n",
            "30036/30036 [==============================] - 1s 48us/step - loss: 0.1513 - accuracy: 0.9619 - f1: 0.9605 - val_loss: 0.3977 - val_accuracy: 0.8720 - val_f1: 0.8744\n",
            "Epoch 3/100000\n",
            "30036/30036 [==============================] - 1s 48us/step - loss: 0.0271 - accuracy: 0.9949 - f1: 0.9949 - val_loss: 0.3660 - val_accuracy: 0.8920 - val_f1: 0.8977\n",
            "Epoch 4/100000\n",
            "30036/30036 [==============================] - 1s 47us/step - loss: 0.0087 - accuracy: 0.9990 - f1: 0.9989 - val_loss: 0.3652 - val_accuracy: 0.8900 - val_f1: 0.8952\n",
            "Epoch 5/100000\n",
            "30036/30036 [==============================] - 1s 48us/step - loss: 0.0045 - accuracy: 0.9995 - f1: 0.9995 - val_loss: 0.4039 - val_accuracy: 0.8880 - val_f1: 0.8882\n",
            "Epoch 6/100000\n",
            "30036/30036 [==============================] - 1s 47us/step - loss: 0.0031 - accuracy: 0.9995 - f1: 0.9995 - val_loss: 0.4490 - val_accuracy: 0.8840 - val_f1: 0.8869\n",
            "Epoch 7/100000\n",
            "30036/30036 [==============================] - 1s 47us/step - loss: 0.0025 - accuracy: 0.9995 - f1: 0.9995 - val_loss: 0.4352 - val_accuracy: 0.8900 - val_f1: 0.8871\n",
            "Epoch 8/100000\n",
            "30036/30036 [==============================] - 1s 47us/step - loss: 0.0020 - accuracy: 0.9996 - f1: 0.9996 - val_loss: 0.4486 - val_accuracy: 0.8880 - val_f1: 0.8902\n",
            "Epoch 9/100000\n",
            "30036/30036 [==============================] - 1s 47us/step - loss: 0.0021 - accuracy: 0.9995 - f1: 0.9995 - val_loss: 0.4469 - val_accuracy: 0.8860 - val_f1: 0.8873\n",
            "Best F1:0.898, best accuracy:0.892\n",
            "Not found vectors 557 out of 14285 unique words\n",
            "Average sentence len:  9.430017312558263\n",
            "Max sentence len:  37\n",
            "2.707% of tokens were replaced by unk token index\n",
            "Average sentence len:  7.516\n",
            "Max sentence len:  17\n",
            "9.154% of tokens were replaced by unk token index\n",
            "Train on 30036 samples, validate on 500 samples\n",
            "Epoch 1/100000\n",
            "30036/30036 [==============================] - 2s 53us/step - loss: 0.9286 - accuracy: 0.6593 - f1: 0.5266 - val_loss: 0.5011 - val_accuracy: 0.8340 - val_f1: 0.8369\n",
            "Epoch 2/100000\n",
            "30036/30036 [==============================] - 1s 47us/step - loss: 0.1615 - accuracy: 0.9568 - f1: 0.9555 - val_loss: 0.3343 - val_accuracy: 0.8900 - val_f1: 0.8945\n",
            "Epoch 3/100000\n",
            "30036/30036 [==============================] - 1s 47us/step - loss: 0.0284 - accuracy: 0.9947 - f1: 0.9944 - val_loss: 0.3506 - val_accuracy: 0.8980 - val_f1: 0.8968\n",
            "Epoch 4/100000\n",
            "30036/30036 [==============================] - 1s 47us/step - loss: 0.0090 - accuracy: 0.9990 - f1: 0.9989 - val_loss: 0.3813 - val_accuracy: 0.8980 - val_f1: 0.8972\n",
            "Epoch 5/100000\n",
            "30036/30036 [==============================] - 1s 47us/step - loss: 0.0048 - accuracy: 0.9994 - f1: 0.9994 - val_loss: 0.3982 - val_accuracy: 0.8980 - val_f1: 0.8983\n",
            "Epoch 6/100000\n",
            "30036/30036 [==============================] - 1s 47us/step - loss: 0.0032 - accuracy: 0.9995 - f1: 0.9996 - val_loss: 0.3933 - val_accuracy: 0.9000 - val_f1: 0.8994\n",
            "Epoch 7/100000\n",
            "30036/30036 [==============================] - 1s 46us/step - loss: 0.0027 - accuracy: 0.9995 - f1: 0.9995 - val_loss: 0.4217 - val_accuracy: 0.8980 - val_f1: 0.8972\n",
            "Best F1:0.899, best accuracy:0.900\n",
            "Not found vectors 557 out of 14285 unique words\n",
            "Average sentence len:  9.430017312558263\n",
            "Max sentence len:  37\n",
            "2.707% of tokens were replaced by unk token index\n",
            "Average sentence len:  7.516\n",
            "Max sentence len:  17\n",
            "9.154% of tokens were replaced by unk token index\n",
            "Train on 30036 samples, validate on 500 samples\n",
            "Epoch 1/100000\n",
            "30036/30036 [==============================] - 1s 50us/step - loss: 0.9529 - accuracy: 0.6477 - f1: 0.5120 - val_loss: 0.4915 - val_accuracy: 0.8260 - val_f1: 0.8346\n",
            "Epoch 2/100000\n",
            "30036/30036 [==============================] - 1s 47us/step - loss: 0.1622 - accuracy: 0.9590 - f1: 0.9571 - val_loss: 0.3822 - val_accuracy: 0.8740 - val_f1: 0.8704\n",
            "Epoch 3/100000\n",
            "30036/30036 [==============================] - 1s 47us/step - loss: 0.0295 - accuracy: 0.9940 - f1: 0.9942 - val_loss: 0.3696 - val_accuracy: 0.8920 - val_f1: 0.8968\n",
            "Epoch 4/100000\n",
            "30036/30036 [==============================] - 1s 47us/step - loss: 0.0098 - accuracy: 0.9984 - f1: 0.9984 - val_loss: 0.4050 - val_accuracy: 0.8800 - val_f1: 0.8824\n",
            "Epoch 5/100000\n",
            "30036/30036 [==============================] - 1s 47us/step - loss: 0.0050 - accuracy: 0.9994 - f1: 0.9994 - val_loss: 0.3896 - val_accuracy: 0.8900 - val_f1: 0.8938\n",
            "Epoch 6/100000\n",
            "30036/30036 [==============================] - 1s 46us/step - loss: 0.0033 - accuracy: 0.9995 - f1: 0.9995 - val_loss: 0.4245 - val_accuracy: 0.8820 - val_f1: 0.8880\n",
            "Epoch 7/100000\n",
            "30036/30036 [==============================] - 1s 47us/step - loss: 0.0026 - accuracy: 0.9995 - f1: 0.9995 - val_loss: 0.4398 - val_accuracy: 0.8880 - val_f1: 0.8920\n",
            "Epoch 8/100000\n",
            "30036/30036 [==============================] - 1s 47us/step - loss: 0.0022 - accuracy: 0.9995 - f1: 0.9995 - val_loss: 0.4840 - val_accuracy: 0.8820 - val_f1: 0.8828\n",
            "Best F1:0.897, best accuracy:0.892\n",
            "f1_average: 0.8979423443476359, std:0.0010930045366669653\n",
            "acc_average: 0.8946666717529297, std:0.003771215711057776\n"
          ],
          "name": "stdout"
        }
      ]
    },
    {
      "cell_type": "code",
      "metadata": {
        "colab_type": "code",
        "outputId": "7d8a0d49-4ab4-4142-dcb2-ca43e970dd8a",
        "id": "Ty73MjUKDhf_",
        "colab": {
          "base_uri": "https://localhost:8080/",
          "height": 1000
        }
      },
      "source": [
        "f1_scores, acc_scores = [], []\n",
        "for _ in range(number_of_attemp_to_fit):\n",
        "  f1_score, acc_score = run_lstm(pd.concat([train_data,aug_data]), test_data, w2v_model, MAX_SEQ_LEN, N_CLASSES )\n",
        "  f1_scores.append(f1_score)\n",
        "  acc_scores.append(acc_score)\n",
        "print(\"f1_average: {}, std:{}\".format(np.mean(f1_scores), np.std(f1_scores)))\n",
        "print(\"acc_average: {}, std:{}\".format(np.mean(acc_scores), np.std(acc_scores)))"
      ],
      "execution_count": 0,
      "outputs": [
        {
          "output_type": "stream",
          "text": [
            "Not found vectors 557 out of 14285 unique words\n",
            "Average sentence len:  9.430017312558263\n",
            "Max sentence len:  37\n",
            "2.707% of tokens were replaced by unk token index\n",
            "Average sentence len:  7.516\n",
            "Max sentence len:  17\n",
            "9.154% of tokens were replaced by unk token index\n",
            "Train on 30036 samples, validate on 500 samples\n",
            "Epoch 1/100000\n",
            "30036/30036 [==============================] - 18s 605us/step - loss: 1.2271 - accuracy: 0.5115 - f1: 0.3539 - val_loss: 0.7527 - val_accuracy: 0.7420 - val_f1: 0.7239\n",
            "Epoch 2/100000\n",
            "30036/30036 [==============================] - 17s 567us/step - loss: 0.6968 - accuracy: 0.7466 - f1: 0.7324 - val_loss: 0.6165 - val_accuracy: 0.7880 - val_f1: 0.7795\n",
            "Epoch 3/100000\n",
            "30036/30036 [==============================] - 17s 570us/step - loss: 0.4925 - accuracy: 0.8259 - f1: 0.8239 - val_loss: 0.4738 - val_accuracy: 0.8300 - val_f1: 0.8306\n",
            "Epoch 4/100000\n",
            "30036/30036 [==============================] - 17s 567us/step - loss: 0.3554 - accuracy: 0.8790 - f1: 0.8805 - val_loss: 0.4370 - val_accuracy: 0.8440 - val_f1: 0.8414\n",
            "Epoch 5/100000\n",
            "30036/30036 [==============================] - 17s 571us/step - loss: 0.2433 - accuracy: 0.9207 - f1: 0.9215 - val_loss: 0.4498 - val_accuracy: 0.8560 - val_f1: 0.8540\n",
            "Epoch 6/100000\n",
            "30036/30036 [==============================] - 17s 570us/step - loss: 0.1693 - accuracy: 0.9461 - f1: 0.9463 - val_loss: 0.5825 - val_accuracy: 0.8220 - val_f1: 0.8257\n",
            "Epoch 7/100000\n",
            "30036/30036 [==============================] - 17s 565us/step - loss: 0.1295 - accuracy: 0.9590 - f1: 0.9593 - val_loss: 0.5970 - val_accuracy: 0.7600 - val_f1: 0.7525\n",
            "Epoch 8/100000\n",
            "30036/30036 [==============================] - 17s 570us/step - loss: 0.1009 - accuracy: 0.9670 - f1: 0.9669 - val_loss: 0.5898 - val_accuracy: 0.8420 - val_f1: 0.8409\n",
            "Epoch 9/100000\n",
            "30036/30036 [==============================] - 17s 564us/step - loss: 0.0828 - accuracy: 0.9729 - f1: 0.9731 - val_loss: 0.5129 - val_accuracy: 0.8660 - val_f1: 0.8618\n",
            "Best F1:0.862, best accuracy:0.866\n",
            "Not found vectors 557 out of 14285 unique words\n",
            "Average sentence len:  9.430017312558263\n",
            "Max sentence len:  37\n",
            "2.707% of tokens were replaced by unk token index\n",
            "Average sentence len:  7.516\n",
            "Max sentence len:  17\n",
            "9.154% of tokens were replaced by unk token index\n",
            "Train on 30036 samples, validate on 500 samples\n",
            "Epoch 1/100000\n",
            "30036/30036 [==============================] - 18s 611us/step - loss: 1.2069 - accuracy: 0.5177 - f1: 0.3709 - val_loss: 0.7384 - val_accuracy: 0.7360 - val_f1: 0.7112\n",
            "Epoch 2/100000\n",
            "30036/30036 [==============================] - 17s 570us/step - loss: 0.7041 - accuracy: 0.7433 - f1: 0.7297 - val_loss: 0.5895 - val_accuracy: 0.7960 - val_f1: 0.7906\n",
            "Epoch 3/100000\n",
            "30036/30036 [==============================] - 17s 575us/step - loss: 0.4948 - accuracy: 0.8289 - f1: 0.8286 - val_loss: 0.5794 - val_accuracy: 0.8060 - val_f1: 0.8058\n",
            "Epoch 4/100000\n",
            "30036/30036 [==============================] - 17s 575us/step - loss: 0.3535 - accuracy: 0.8780 - f1: 0.8793 - val_loss: 0.4832 - val_accuracy: 0.8440 - val_f1: 0.8469\n",
            "Epoch 5/100000\n",
            "30036/30036 [==============================] - 17s 576us/step - loss: 0.2552 - accuracy: 0.9144 - f1: 0.9156 - val_loss: 0.5641 - val_accuracy: 0.8200 - val_f1: 0.8257\n",
            "Epoch 6/100000\n",
            "30036/30036 [==============================] - 17s 572us/step - loss: 0.1830 - accuracy: 0.9396 - f1: 0.9408 - val_loss: 0.5479 - val_accuracy: 0.8400 - val_f1: 0.8415\n",
            "Epoch 7/100000\n",
            "30036/30036 [==============================] - 17s 581us/step - loss: 0.1532 - accuracy: 0.9501 - f1: 0.9499 - val_loss: 0.4946 - val_accuracy: 0.8600 - val_f1: 0.8635\n",
            "Epoch 8/100000\n",
            "30036/30036 [==============================] - 17s 571us/step - loss: 0.1023 - accuracy: 0.9667 - f1: 0.9671 - val_loss: 0.5073 - val_accuracy: 0.8680 - val_f1: 0.8658\n",
            "Epoch 9/100000\n",
            "30036/30036 [==============================] - 17s 579us/step - loss: 0.0777 - accuracy: 0.9745 - f1: 0.9749 - val_loss: 0.5252 - val_accuracy: 0.8680 - val_f1: 0.8675\n",
            "Best F1:0.867, best accuracy:0.868\n",
            "Not found vectors 557 out of 14285 unique words\n",
            "Average sentence len:  9.430017312558263\n",
            "Max sentence len:  37\n",
            "2.707% of tokens were replaced by unk token index\n",
            "Average sentence len:  7.516\n",
            "Max sentence len:  17\n",
            "9.154% of tokens were replaced by unk token index\n",
            "Train on 30036 samples, validate on 500 samples\n",
            "Epoch 1/100000\n",
            "30036/30036 [==============================] - 18s 612us/step - loss: 1.2202 - accuracy: 0.5063 - f1: 0.3620 - val_loss: 0.8630 - val_accuracy: 0.6520 - val_f1: 0.6305\n",
            "Epoch 2/100000\n",
            "30036/30036 [==============================] - 17s 578us/step - loss: 0.7257 - accuracy: 0.7321 - f1: 0.7179 - val_loss: 0.5632 - val_accuracy: 0.8040 - val_f1: 0.8080\n",
            "Epoch 3/100000\n",
            "30036/30036 [==============================] - 17s 578us/step - loss: 0.5173 - accuracy: 0.8192 - f1: 0.8174 - val_loss: 0.4951 - val_accuracy: 0.8360 - val_f1: 0.8363\n",
            "Epoch 4/100000\n",
            "30036/30036 [==============================] - 17s 572us/step - loss: 0.3758 - accuracy: 0.8749 - f1: 0.8739 - val_loss: 0.5392 - val_accuracy: 0.8200 - val_f1: 0.8132\n",
            "Epoch 5/100000\n",
            "30036/30036 [==============================] - 17s 580us/step - loss: 0.2619 - accuracy: 0.9152 - f1: 0.9150 - val_loss: 0.5734 - val_accuracy: 0.8280 - val_f1: 0.8350\n",
            "Epoch 6/100000\n",
            "30036/30036 [==============================] - 17s 577us/step - loss: 0.1875 - accuracy: 0.9402 - f1: 0.9410 - val_loss: 0.6138 - val_accuracy: 0.8320 - val_f1: 0.8327\n",
            "Epoch 7/100000\n",
            "30036/30036 [==============================] - 17s 576us/step - loss: 0.1448 - accuracy: 0.9535 - f1: 0.9539 - val_loss: 0.5627 - val_accuracy: 0.8340 - val_f1: 0.8340\n",
            "Epoch 8/100000\n",
            "30036/30036 [==============================] - 17s 580us/step - loss: 0.1108 - accuracy: 0.9642 - f1: 0.9647 - val_loss: 0.5533 - val_accuracy: 0.8440 - val_f1: 0.8528\n",
            "Best F1:0.853, best accuracy:0.844\n",
            "f1_average: 0.8606834014256796, std:0.00604303557193553\n",
            "acc_average: 0.859333316485087, std:0.010873004394073306\n"
          ],
          "name": "stdout"
        }
      ]
    },
    {
      "cell_type": "markdown",
      "metadata": {
        "id": "2ezAfq7FEWAT",
        "colab_type": "text"
      },
      "source": [
        "### 4000"
      ]
    },
    {
      "cell_type": "code",
      "metadata": {
        "colab_type": "code",
        "id": "LQJgMgr0DhgC",
        "colab": {}
      },
      "source": [
        "aug_data =  read_eda_trec6('trec6_splited/augmented_with_eda/trec-6_clear_4k_samples.txt')"
      ],
      "execution_count": 0,
      "outputs": []
    },
    {
      "cell_type": "code",
      "metadata": {
        "colab_type": "code",
        "id": "EzTTrDNaDhgE",
        "colab": {}
      },
      "source": [
        "train_data, test_data, l2i = read_trec6('trec6_splited/trec6_splited_4k.csv')"
      ],
      "execution_count": 0,
      "outputs": []
    },
    {
      "cell_type": "code",
      "metadata": {
        "colab_type": "code",
        "id": "zlSESycCDhgH",
        "colab": {}
      },
      "source": [
        "number_of_attemp_to_fit = 3"
      ],
      "execution_count": 0,
      "outputs": []
    },
    {
      "cell_type": "code",
      "metadata": {
        "colab_type": "code",
        "id": "0NGIb-EfDhgJ",
        "colab": {}
      },
      "source": [
        "MAX_SEQ_LEN, N_CLASSES = 37, len(train_data.lbl_index.unique())"
      ],
      "execution_count": 0,
      "outputs": []
    },
    {
      "cell_type": "code",
      "metadata": {
        "colab_type": "code",
        "outputId": "57a032f4-214b-498e-a4a7-6589ec7fc1ed",
        "id": "DlNjZrZ0DhgL",
        "colab": {
          "base_uri": "https://localhost:8080/",
          "height": 1000
        }
      },
      "source": [
        "f1_scores, acc_scores = [], []\n",
        "for _ in range(number_of_attemp_to_fit):\n",
        "  f1_score, acc_score = run_cnn(pd.concat([train_data,aug_data]), test_data, w2v_model, MAX_SEQ_LEN, N_CLASSES )\n",
        "  f1_scores.append(f1_score)\n",
        "  acc_scores.append(acc_score)\n",
        "print(\"f1_average: {}, std:{}\".format(np.mean(f1_scores), np.std(f1_scores)))\n",
        "print(\"acc_average: {}, std:{}\".format(np.mean(acc_scores), np.std(acc_scores)))"
      ],
      "execution_count": 0,
      "outputs": [
        {
          "output_type": "stream",
          "text": [
            "Not found vectors 469 out of 12445 unique words\n",
            "Average sentence len:  9.462204462204463\n",
            "Max sentence len:  37\n",
            "2.737% of tokens were replaced by unk token index\n",
            "Average sentence len:  7.516\n",
            "Max sentence len:  17\n",
            "10.271% of tokens were replaced by unk token index\n",
            "Train on 24024 samples, validate on 500 samples\n",
            "Epoch 1/100000\n",
            "24024/24024 [==============================] - 1s 56us/step - loss: 1.0876 - accuracy: 0.5952 - f1: 0.4126 - val_loss: 0.6500 - val_accuracy: 0.7520 - val_f1: 0.7392\n",
            "Epoch 2/100000\n",
            "24024/24024 [==============================] - 1s 46us/step - loss: 0.2338 - accuracy: 0.9402 - f1: 0.9358 - val_loss: 0.3878 - val_accuracy: 0.8520 - val_f1: 0.8613\n",
            "Epoch 3/100000\n",
            "24024/24024 [==============================] - 1s 46us/step - loss: 0.0403 - accuracy: 0.9921 - f1: 0.9921 - val_loss: 0.4251 - val_accuracy: 0.8760 - val_f1: 0.8801\n",
            "Epoch 4/100000\n",
            "24024/24024 [==============================] - 1s 46us/step - loss: 0.0133 - accuracy: 0.9979 - f1: 0.9979 - val_loss: 0.4654 - val_accuracy: 0.8700 - val_f1: 0.8704\n",
            "Epoch 5/100000\n",
            "24024/24024 [==============================] - 1s 46us/step - loss: 0.0066 - accuracy: 0.9990 - f1: 0.9990 - val_loss: 0.4575 - val_accuracy: 0.8720 - val_f1: 0.8765\n",
            "Epoch 6/100000\n",
            "24024/24024 [==============================] - 1s 46us/step - loss: 0.0044 - accuracy: 0.9993 - f1: 0.9993 - val_loss: 0.5055 - val_accuracy: 0.8720 - val_f1: 0.8721\n",
            "Epoch 7/100000\n",
            "24024/24024 [==============================] - 1s 46us/step - loss: 0.0036 - accuracy: 0.9993 - f1: 0.9993 - val_loss: 0.4989 - val_accuracy: 0.8620 - val_f1: 0.8704\n",
            "Best F1:0.880, best accuracy:0.876\n",
            "Not found vectors 469 out of 12445 unique words\n",
            "Average sentence len:  9.462204462204463\n",
            "Max sentence len:  37\n",
            "2.737% of tokens were replaced by unk token index\n",
            "Average sentence len:  7.516\n",
            "Max sentence len:  17\n",
            "10.271% of tokens were replaced by unk token index\n",
            "Train on 24024 samples, validate on 500 samples\n",
            "Epoch 1/100000\n",
            "24024/24024 [==============================] - 1s 53us/step - loss: 1.0307 - accuracy: 0.6218 - f1: 0.4622 - val_loss: 0.6215 - val_accuracy: 0.7980 - val_f1: 0.7687\n",
            "Epoch 2/100000\n",
            "24024/24024 [==============================] - 1s 47us/step - loss: 0.2180 - accuracy: 0.9460 - f1: 0.9406 - val_loss: 0.4234 - val_accuracy: 0.8600 - val_f1: 0.8657\n",
            "Epoch 3/100000\n",
            "24024/24024 [==============================] - 1s 47us/step - loss: 0.0386 - accuracy: 0.9928 - f1: 0.9926 - val_loss: 0.4325 - val_accuracy: 0.8700 - val_f1: 0.8726\n",
            "Epoch 4/100000\n",
            "24024/24024 [==============================] - 1s 46us/step - loss: 0.0131 - accuracy: 0.9980 - f1: 0.9981 - val_loss: 0.4400 - val_accuracy: 0.8720 - val_f1: 0.8711\n",
            "Epoch 5/100000\n",
            "24024/24024 [==============================] - 1s 46us/step - loss: 0.0069 - accuracy: 0.9988 - f1: 0.9989 - val_loss: 0.4518 - val_accuracy: 0.8780 - val_f1: 0.8768\n",
            "Epoch 6/100000\n",
            "24024/24024 [==============================] - 1s 46us/step - loss: 0.0047 - accuracy: 0.9992 - f1: 0.9991 - val_loss: 0.4578 - val_accuracy: 0.8740 - val_f1: 0.8750\n",
            "Epoch 7/100000\n",
            "24024/24024 [==============================] - 1s 47us/step - loss: 0.0033 - accuracy: 0.9995 - f1: 0.9995 - val_loss: 0.4974 - val_accuracy: 0.8680 - val_f1: 0.8716\n",
            "Best F1:0.877, best accuracy:0.878\n",
            "Not found vectors 469 out of 12445 unique words\n",
            "Average sentence len:  9.462204462204463\n",
            "Max sentence len:  37\n",
            "2.737% of tokens were replaced by unk token index\n",
            "Average sentence len:  7.516\n",
            "Max sentence len:  17\n",
            "10.271% of tokens were replaced by unk token index\n",
            "Train on 24024 samples, validate on 500 samples\n",
            "Epoch 1/100000\n",
            "24024/24024 [==============================] - 1s 51us/step - loss: 1.0282 - accuracy: 0.6257 - f1: 0.4519 - val_loss: 0.5608 - val_accuracy: 0.7940 - val_f1: 0.7764\n",
            "Epoch 2/100000\n",
            "24024/24024 [==============================] - 1s 46us/step - loss: 0.2180 - accuracy: 0.9460 - f1: 0.9405 - val_loss: 0.3912 - val_accuracy: 0.8680 - val_f1: 0.8687\n",
            "Epoch 3/100000\n",
            "24024/24024 [==============================] - 1s 46us/step - loss: 0.0399 - accuracy: 0.9928 - f1: 0.9927 - val_loss: 0.3932 - val_accuracy: 0.8880 - val_f1: 0.8889\n",
            "Epoch 4/100000\n",
            "24024/24024 [==============================] - 1s 46us/step - loss: 0.0132 - accuracy: 0.9978 - f1: 0.9980 - val_loss: 0.4071 - val_accuracy: 0.8940 - val_f1: 0.8878\n",
            "Epoch 5/100000\n",
            "24024/24024 [==============================] - 1s 46us/step - loss: 0.0070 - accuracy: 0.9988 - f1: 0.9989 - val_loss: 0.3885 - val_accuracy: 0.8960 - val_f1: 0.8949\n",
            "Epoch 6/100000\n",
            "24024/24024 [==============================] - 1s 46us/step - loss: 0.0047 - accuracy: 0.9990 - f1: 0.9990 - val_loss: 0.4692 - val_accuracy: 0.8820 - val_f1: 0.8846\n",
            "Epoch 7/100000\n",
            "24024/24024 [==============================] - 1s 47us/step - loss: 0.0035 - accuracy: 0.9994 - f1: 0.9994 - val_loss: 0.4196 - val_accuracy: 0.8900 - val_f1: 0.8920\n",
            "Epoch 8/100000\n",
            "24024/24024 [==============================] - 1s 47us/step - loss: 0.0029 - accuracy: 0.9994 - f1: 0.9994 - val_loss: 0.4489 - val_accuracy: 0.8840 - val_f1: 0.8828\n",
            "Epoch 9/100000\n",
            "24024/24024 [==============================] - 1s 47us/step - loss: 0.0029 - accuracy: 0.9994 - f1: 0.9994 - val_loss: 0.4354 - val_accuracy: 0.8980 - val_f1: 0.8940\n",
            "Epoch 10/100000\n",
            "24024/24024 [==============================] - 1s 47us/step - loss: 0.0029 - accuracy: 0.9994 - f1: 0.9994 - val_loss: 0.5204 - val_accuracy: 0.8780 - val_f1: 0.8770\n",
            "Best F1:0.895, best accuracy:0.898\n",
            "f1_average: 0.8839327692985535, std:0.00790655413544442\n",
            "acc_average: 0.8840000033378601, std:0.009933109745190084\n"
          ],
          "name": "stdout"
        }
      ]
    },
    {
      "cell_type": "code",
      "metadata": {
        "colab_type": "code",
        "outputId": "96699ab9-6bf7-4957-f255-8fde52fcca26",
        "id": "OK9RFtjWDhgO",
        "colab": {
          "base_uri": "https://localhost:8080/",
          "height": 1000
        }
      },
      "source": [
        "f1_scores, acc_scores = [], []\n",
        "for _ in range(number_of_attemp_to_fit):\n",
        "  f1_score, acc_score = run_lstm(pd.concat([train_data,aug_data]), test_data, w2v_model, MAX_SEQ_LEN, N_CLASSES )\n",
        "  f1_scores.append(f1_score)\n",
        "  acc_scores.append(acc_score)\n",
        "print(\"f1_average: {}, std:{}\".format(np.mean(f1_scores), np.std(f1_scores)))\n",
        "print(\"acc_average: {}, std:{}\".format(np.mean(acc_scores), np.std(acc_scores)))"
      ],
      "execution_count": 0,
      "outputs": [
        {
          "output_type": "stream",
          "text": [
            "Not found vectors 469 out of 12445 unique words\n",
            "Average sentence len:  9.462204462204463\n",
            "Max sentence len:  37\n",
            "2.737% of tokens were replaced by unk token index\n",
            "Average sentence len:  7.516\n",
            "Max sentence len:  17\n",
            "10.271% of tokens were replaced by unk token index\n",
            "Train on 24024 samples, validate on 500 samples\n",
            "Epoch 1/100000\n",
            "24024/24024 [==============================] - 15s 639us/step - loss: 1.2900 - accuracy: 0.4748 - f1: 0.3057 - val_loss: 0.9062 - val_accuracy: 0.6840 - val_f1: 0.6683\n",
            "Epoch 2/100000\n",
            "24024/24024 [==============================] - 14s 595us/step - loss: 0.7683 - accuracy: 0.7145 - f1: 0.6938 - val_loss: 0.6422 - val_accuracy: 0.7820 - val_f1: 0.7833\n",
            "Epoch 3/100000\n",
            "24024/24024 [==============================] - 14s 600us/step - loss: 0.5560 - accuracy: 0.8033 - f1: 0.7984 - val_loss: 0.5837 - val_accuracy: 0.8080 - val_f1: 0.8096\n",
            "Epoch 4/100000\n",
            "24024/24024 [==============================] - 14s 601us/step - loss: 0.3909 - accuracy: 0.8675 - f1: 0.8677 - val_loss: 0.6143 - val_accuracy: 0.7980 - val_f1: 0.7971\n",
            "Epoch 5/100000\n",
            "24024/24024 [==============================] - 14s 598us/step - loss: 0.3002 - accuracy: 0.9016 - f1: 0.9016 - val_loss: 0.5787 - val_accuracy: 0.8040 - val_f1: 0.8004\n",
            "Epoch 6/100000\n",
            "24024/24024 [==============================] - 15s 607us/step - loss: 0.2197 - accuracy: 0.9279 - f1: 0.9288 - val_loss: 0.6335 - val_accuracy: 0.8180 - val_f1: 0.8204\n",
            "Epoch 7/100000\n",
            "24024/24024 [==============================] - 14s 582us/step - loss: 0.1558 - accuracy: 0.9508 - f1: 0.9516 - val_loss: 0.6423 - val_accuracy: 0.8180 - val_f1: 0.8130\n",
            "Epoch 8/100000\n",
            "24024/24024 [==============================] - 14s 580us/step - loss: 0.1239 - accuracy: 0.9606 - f1: 0.9604 - val_loss: 0.5837 - val_accuracy: 0.8460 - val_f1: 0.8511\n",
            "Epoch 9/100000\n",
            "24024/24024 [==============================] - 14s 585us/step - loss: 0.1140 - accuracy: 0.9635 - f1: 0.9639 - val_loss: 0.5709 - val_accuracy: 0.8520 - val_f1: 0.8502\n",
            "Epoch 10/100000\n",
            "24024/24024 [==============================] - 14s 583us/step - loss: 0.0800 - accuracy: 0.9745 - f1: 0.9747 - val_loss: 0.7667 - val_accuracy: 0.8220 - val_f1: 0.8206\n",
            "Epoch 11/100000\n",
            "24024/24024 [==============================] - 14s 592us/step - loss: 0.0792 - accuracy: 0.9739 - f1: 0.9736 - val_loss: 0.6584 - val_accuracy: 0.8440 - val_f1: 0.8470\n",
            "Epoch 12/100000\n",
            "24024/24024 [==============================] - 14s 589us/step - loss: 0.0509 - accuracy: 0.9833 - f1: 0.9835 - val_loss: 0.8745 - val_accuracy: 0.8260 - val_f1: 0.8290\n",
            "Epoch 13/100000\n",
            "24024/24024 [==============================] - 14s 587us/step - loss: 0.0508 - accuracy: 0.9841 - f1: 0.9841 - val_loss: 0.7396 - val_accuracy: 0.8500 - val_f1: 0.8531\n",
            "Epoch 14/100000\n",
            "24024/24024 [==============================] - 14s 588us/step - loss: 0.0400 - accuracy: 0.9879 - f1: 0.9877 - val_loss: 0.8166 - val_accuracy: 0.8480 - val_f1: 0.8471\n",
            "Best F1:0.853, best accuracy:0.852\n",
            "Not found vectors 469 out of 12445 unique words\n",
            "Average sentence len:  9.462204462204463\n",
            "Max sentence len:  37\n",
            "2.737% of tokens were replaced by unk token index\n",
            "Average sentence len:  7.516\n",
            "Max sentence len:  17\n",
            "10.271% of tokens were replaced by unk token index\n",
            "Train on 24024 samples, validate on 500 samples\n",
            "Epoch 1/100000\n",
            "24024/24024 [==============================] - 16s 646us/step - loss: 1.2734 - accuracy: 0.4903 - f1: 0.3148 - val_loss: 0.9486 - val_accuracy: 0.6340 - val_f1: 0.6401\n",
            "Epoch 2/100000\n",
            "24024/24024 [==============================] - 14s 591us/step - loss: 0.7567 - accuracy: 0.7160 - f1: 0.6980 - val_loss: 0.6672 - val_accuracy: 0.7680 - val_f1: 0.7814\n",
            "Epoch 3/100000\n",
            "24024/24024 [==============================] - 14s 584us/step - loss: 0.5419 - accuracy: 0.8095 - f1: 0.8044 - val_loss: 0.6592 - val_accuracy: 0.7820 - val_f1: 0.7879\n",
            "Epoch 4/100000\n",
            "24024/24024 [==============================] - 14s 588us/step - loss: 0.4006 - accuracy: 0.8620 - f1: 0.8619 - val_loss: 0.5472 - val_accuracy: 0.8200 - val_f1: 0.8205\n",
            "Epoch 5/100000\n",
            "24024/24024 [==============================] - 14s 592us/step - loss: 0.2905 - accuracy: 0.9040 - f1: 0.9044 - val_loss: 0.6145 - val_accuracy: 0.8300 - val_f1: 0.8308\n",
            "Epoch 6/100000\n",
            "24024/24024 [==============================] - 14s 583us/step - loss: 0.2098 - accuracy: 0.9326 - f1: 0.9327 - val_loss: 0.5911 - val_accuracy: 0.8360 - val_f1: 0.8347\n",
            "Epoch 7/100000\n",
            "24024/24024 [==============================] - 14s 579us/step - loss: 0.1543 - accuracy: 0.9504 - f1: 0.9510 - val_loss: 0.7088 - val_accuracy: 0.8040 - val_f1: 0.8082\n",
            "Epoch 8/100000\n",
            "24024/24024 [==============================] - 14s 578us/step - loss: 0.1288 - accuracy: 0.9580 - f1: 0.9583 - val_loss: 0.6941 - val_accuracy: 0.8320 - val_f1: 0.8400\n",
            "Epoch 9/100000\n",
            "24024/24024 [==============================] - 14s 575us/step - loss: 0.0872 - accuracy: 0.9716 - f1: 0.9720 - val_loss: 0.6671 - val_accuracy: 0.8460 - val_f1: 0.8479\n",
            "Best F1:0.848, best accuracy:0.846\n",
            "Not found vectors 469 out of 12445 unique words\n",
            "Average sentence len:  9.462204462204463\n",
            "Max sentence len:  37\n",
            "2.737% of tokens were replaced by unk token index\n",
            "Average sentence len:  7.516\n",
            "Max sentence len:  17\n",
            "10.271% of tokens were replaced by unk token index\n",
            "Train on 24024 samples, validate on 500 samples\n",
            "Epoch 1/100000\n",
            "24024/24024 [==============================] - 15s 638us/step - loss: 1.2996 - accuracy: 0.4749 - f1: 0.2900 - val_loss: 0.9350 - val_accuracy: 0.6380 - val_f1: 0.6447\n",
            "Epoch 2/100000\n",
            "24024/24024 [==============================] - 14s 578us/step - loss: 0.7787 - accuracy: 0.7090 - f1: 0.6859 - val_loss: 0.6252 - val_accuracy: 0.7960 - val_f1: 0.7788\n",
            "Epoch 3/100000\n",
            "24024/24024 [==============================] - 14s 583us/step - loss: 0.5513 - accuracy: 0.8049 - f1: 0.8003 - val_loss: 0.6637 - val_accuracy: 0.7600 - val_f1: 0.7605\n",
            "Epoch 4/100000\n",
            "24024/24024 [==============================] - 14s 577us/step - loss: 0.3924 - accuracy: 0.8643 - f1: 0.8645 - val_loss: 0.7092 - val_accuracy: 0.7600 - val_f1: 0.7755\n",
            "Epoch 5/100000\n",
            "24024/24024 [==============================] - 14s 583us/step - loss: 0.2856 - accuracy: 0.9042 - f1: 0.9049 - val_loss: 0.6508 - val_accuracy: 0.8000 - val_f1: 0.8045\n",
            "Epoch 6/100000\n",
            "24024/24024 [==============================] - 14s 579us/step - loss: 0.2194 - accuracy: 0.9284 - f1: 0.9289 - val_loss: 0.6415 - val_accuracy: 0.8260 - val_f1: 0.8248\n",
            "Epoch 7/100000\n",
            "24024/24024 [==============================] - 14s 577us/step - loss: 0.1593 - accuracy: 0.9495 - f1: 0.9499 - val_loss: 0.5951 - val_accuracy: 0.8600 - val_f1: 0.8603\n",
            "Epoch 8/100000\n",
            "24024/24024 [==============================] - 14s 569us/step - loss: 0.1207 - accuracy: 0.9610 - f1: 0.9618 - val_loss: 0.6788 - val_accuracy: 0.8320 - val_f1: 0.8377\n",
            "Epoch 9/100000\n",
            "24024/24024 [==============================] - 14s 570us/step - loss: 0.1018 - accuracy: 0.9679 - f1: 0.9683 - val_loss: 0.6541 - val_accuracy: 0.8480 - val_f1: 0.8476\n",
            "Epoch 10/100000\n",
            "24024/24024 [==============================] - 14s 580us/step - loss: 0.0773 - accuracy: 0.9761 - f1: 0.9761 - val_loss: 0.8719 - val_accuracy: 0.8200 - val_f1: 0.8202\n",
            "Epoch 11/100000\n",
            "24024/24024 [==============================] - 14s 580us/step - loss: 0.0663 - accuracy: 0.9788 - f1: 0.9793 - val_loss: 0.8438 - val_accuracy: 0.8280 - val_f1: 0.8273\n",
            "Epoch 12/100000\n",
            "24024/24024 [==============================] - 14s 569us/step - loss: 0.0458 - accuracy: 0.9857 - f1: 0.9857 - val_loss: 0.8449 - val_accuracy: 0.8380 - val_f1: 0.8422\n",
            "Best F1:0.860, best accuracy:0.860\n",
            "f1_average: 0.853792667388916, std:0.005079928579351083\n",
            "acc_average: 0.8526666760444641, std:0.005734883585275591\n"
          ],
          "name": "stdout"
        }
      ]
    },
    {
      "cell_type": "markdown",
      "metadata": {
        "id": "xTtOqDuiEZ2Z",
        "colab_type": "text"
      },
      "source": [
        "### 3000"
      ]
    },
    {
      "cell_type": "code",
      "metadata": {
        "colab_type": "code",
        "id": "D8THeyT-DhgQ",
        "colab": {}
      },
      "source": [
        "aug_data =  read_eda_trec6('trec6_splited/augmented_with_eda/trec-6_clear_3k_samples.txt')"
      ],
      "execution_count": 0,
      "outputs": []
    },
    {
      "cell_type": "code",
      "metadata": {
        "colab_type": "code",
        "id": "OI2CdxCxDhgS",
        "colab": {}
      },
      "source": [
        "train_data, test_data, l2i = read_trec6('trec6_splited/trec6_splited_3k.csv')"
      ],
      "execution_count": 0,
      "outputs": []
    },
    {
      "cell_type": "code",
      "metadata": {
        "colab_type": "code",
        "id": "cBx8BUczDhgV",
        "colab": {}
      },
      "source": [
        "number_of_attemp_to_fit = 3"
      ],
      "execution_count": 0,
      "outputs": []
    },
    {
      "cell_type": "code",
      "metadata": {
        "colab_type": "code",
        "id": "n12Bx1mKDhgY",
        "colab": {}
      },
      "source": [
        "MAX_SEQ_LEN, N_CLASSES = 37, len(train_data.lbl_index.unique())"
      ],
      "execution_count": 0,
      "outputs": []
    },
    {
      "cell_type": "code",
      "metadata": {
        "colab_type": "code",
        "outputId": "86a5a1d4-78ab-4862-e01d-0637218cec70",
        "id": "7lhGaB3MDhga",
        "colab": {
          "base_uri": "https://localhost:8080/",
          "height": 1000
        }
      },
      "source": [
        "f1_scores, acc_scores = [], []\n",
        "for _ in range(number_of_attemp_to_fit):\n",
        "  f1_score, acc_score = run_cnn(pd.concat([train_data,aug_data]), test_data, w2v_model, MAX_SEQ_LEN, N_CLASSES )\n",
        "  f1_scores.append(f1_score)\n",
        "  acc_scores.append(acc_score)\n",
        "print(\"f1_average: {}, std:{}\".format(np.mean(f1_scores), np.std(f1_scores)))\n",
        "print(\"acc_average: {}, std:{}\".format(np.mean(acc_scores), np.std(acc_scores)))"
      ],
      "execution_count": 0,
      "outputs": [
        {
          "output_type": "stream",
          "text": [
            "Not found vectors 305 out of 9471 unique words\n",
            "Average sentence len:  9.435468128237856\n",
            "Max sentence len:  37\n",
            "2.695% of tokens were replaced by unk token index\n",
            "Average sentence len:  7.516\n",
            "Max sentence len:  17\n",
            "12.267% of tokens were replaced by unk token index\n",
            "Train on 13319 samples, validate on 500 samples\n",
            "Epoch 1/100000\n",
            "13319/13319 [==============================] - 1s 73us/step - loss: 1.1722 - accuracy: 0.5553 - f1: 0.3452 - val_loss: 1.3702 - val_accuracy: 0.4380 - val_f1: 0.4503\n",
            "Epoch 2/100000\n",
            "13319/13319 [==============================] - 1s 45us/step - loss: 0.5254 - accuracy: 0.8231 - f1: 0.8109 - val_loss: 0.8298 - val_accuracy: 0.6980 - val_f1: 0.6906\n",
            "Epoch 3/100000\n",
            "13319/13319 [==============================] - 1s 45us/step - loss: 0.2125 - accuracy: 0.9395 - f1: 0.9383 - val_loss: 0.6824 - val_accuracy: 0.7600 - val_f1: 0.7371\n",
            "Epoch 4/100000\n",
            "13319/13319 [==============================] - 1s 46us/step - loss: 0.0945 - accuracy: 0.9764 - f1: 0.9759 - val_loss: 0.5718 - val_accuracy: 0.8080 - val_f1: 0.8122\n",
            "Epoch 5/100000\n",
            "13319/13319 [==============================] - 1s 46us/step - loss: 0.0411 - accuracy: 0.9932 - f1: 0.9927 - val_loss: 0.5579 - val_accuracy: 0.8040 - val_f1: 0.8000\n",
            "Epoch 6/100000\n",
            "13319/13319 [==============================] - 1s 46us/step - loss: 0.0202 - accuracy: 0.9979 - f1: 0.9978 - val_loss: 0.6036 - val_accuracy: 0.7980 - val_f1: 0.7979\n",
            "Epoch 7/100000\n",
            "13319/13319 [==============================] - 1s 45us/step - loss: 0.0171 - accuracy: 0.9968 - f1: 0.9966 - val_loss: 0.5710 - val_accuracy: 0.8120 - val_f1: 0.8096\n",
            "Epoch 8/100000\n",
            "13319/13319 [==============================] - 1s 45us/step - loss: 0.0084 - accuracy: 0.9988 - f1: 0.9990 - val_loss: 0.5210 - val_accuracy: 0.8460 - val_f1: 0.8411\n",
            "Epoch 9/100000\n",
            "13319/13319 [==============================] - 1s 46us/step - loss: 0.0063 - accuracy: 0.9989 - f1: 0.9990 - val_loss: 0.5290 - val_accuracy: 0.8280 - val_f1: 0.8338\n",
            "Epoch 10/100000\n",
            "13319/13319 [==============================] - 1s 46us/step - loss: 0.0049 - accuracy: 0.9989 - f1: 0.9990 - val_loss: 0.5389 - val_accuracy: 0.8240 - val_f1: 0.8335\n",
            "Epoch 11/100000\n",
            "13319/13319 [==============================] - 1s 45us/step - loss: 0.0048 - accuracy: 0.9989 - f1: 0.9990 - val_loss: 0.5663 - val_accuracy: 0.8200 - val_f1: 0.8277\n",
            "Epoch 12/100000\n",
            "13319/13319 [==============================] - 1s 46us/step - loss: 0.0037 - accuracy: 0.9991 - f1: 0.9992 - val_loss: 0.5283 - val_accuracy: 0.8380 - val_f1: 0.8378\n",
            "Epoch 13/100000\n",
            "13319/13319 [==============================] - 1s 45us/step - loss: 0.0041 - accuracy: 0.9986 - f1: 0.9987 - val_loss: 0.5420 - val_accuracy: 0.8420 - val_f1: 0.8373\n",
            "Best F1:0.841, best accuracy:0.846\n",
            "Not found vectors 305 out of 9471 unique words\n",
            "Average sentence len:  9.435468128237856\n",
            "Max sentence len:  37\n",
            "2.695% of tokens were replaced by unk token index\n",
            "Average sentence len:  7.516\n",
            "Max sentence len:  17\n",
            "12.267% of tokens were replaced by unk token index\n",
            "Train on 13319 samples, validate on 500 samples\n",
            "Epoch 1/100000\n",
            "13319/13319 [==============================] - 1s 53us/step - loss: 1.1593 - accuracy: 0.5719 - f1: 0.3797 - val_loss: 1.3288 - val_accuracy: 0.4840 - val_f1: 0.4892\n",
            "Epoch 2/100000\n",
            "13319/13319 [==============================] - 1s 45us/step - loss: 0.4815 - accuracy: 0.8480 - f1: 0.8379 - val_loss: 0.8298 - val_accuracy: 0.7100 - val_f1: 0.6280\n",
            "Epoch 3/100000\n",
            "13319/13319 [==============================] - 1s 45us/step - loss: 0.1979 - accuracy: 0.9404 - f1: 0.9429 - val_loss: 0.9348 - val_accuracy: 0.6600 - val_f1: 0.6659\n",
            "Epoch 4/100000\n",
            "13319/13319 [==============================] - 1s 45us/step - loss: 0.0831 - accuracy: 0.9812 - f1: 0.9795 - val_loss: 0.5734 - val_accuracy: 0.8280 - val_f1: 0.8097\n",
            "Epoch 5/100000\n",
            "13319/13319 [==============================] - 1s 45us/step - loss: 0.0349 - accuracy: 0.9947 - f1: 0.9942 - val_loss: 0.5308 - val_accuracy: 0.8320 - val_f1: 0.8283\n",
            "Epoch 6/100000\n",
            "13319/13319 [==============================] - 1s 45us/step - loss: 0.0179 - accuracy: 0.9981 - f1: 0.9980 - val_loss: 0.4831 - val_accuracy: 0.8420 - val_f1: 0.8520\n",
            "Epoch 7/100000\n",
            "13319/13319 [==============================] - 1s 46us/step - loss: 0.0108 - accuracy: 0.9986 - f1: 0.9987 - val_loss: 0.4847 - val_accuracy: 0.8460 - val_f1: 0.8462\n",
            "Epoch 8/100000\n",
            "13319/13319 [==============================] - 1s 47us/step - loss: 0.0078 - accuracy: 0.9989 - f1: 0.9990 - val_loss: 0.4673 - val_accuracy: 0.8540 - val_f1: 0.8577\n",
            "Epoch 9/100000\n",
            "13319/13319 [==============================] - 1s 47us/step - loss: 0.0060 - accuracy: 0.9989 - f1: 0.9989 - val_loss: 0.4614 - val_accuracy: 0.8580 - val_f1: 0.8654\n",
            "Epoch 10/100000\n",
            "13319/13319 [==============================] - 1s 46us/step - loss: 0.0050 - accuracy: 0.9989 - f1: 0.9989 - val_loss: 0.4721 - val_accuracy: 0.8560 - val_f1: 0.8580\n",
            "Epoch 11/100000\n",
            "13319/13319 [==============================] - 1s 47us/step - loss: 0.0044 - accuracy: 0.9990 - f1: 0.9991 - val_loss: 0.4640 - val_accuracy: 0.8540 - val_f1: 0.8613\n",
            "Epoch 12/100000\n",
            "13319/13319 [==============================] - 1s 47us/step - loss: 0.0041 - accuracy: 0.9991 - f1: 0.9991 - val_loss: 0.4473 - val_accuracy: 0.8560 - val_f1: 0.8595\n",
            "Epoch 13/100000\n",
            "13319/13319 [==============================] - 1s 47us/step - loss: 0.0037 - accuracy: 0.9992 - f1: 0.9993 - val_loss: 0.4640 - val_accuracy: 0.8540 - val_f1: 0.8645\n",
            "Epoch 14/100000\n",
            "13319/13319 [==============================] - 1s 47us/step - loss: 0.0036 - accuracy: 0.9991 - f1: 0.9992 - val_loss: 0.4536 - val_accuracy: 0.8620 - val_f1: 0.8674\n",
            "Epoch 15/100000\n",
            "13319/13319 [==============================] - 1s 48us/step - loss: 0.0033 - accuracy: 0.9989 - f1: 0.9990 - val_loss: 0.4591 - val_accuracy: 0.8620 - val_f1: 0.8639\n",
            "Epoch 16/100000\n",
            "13319/13319 [==============================] - 1s 47us/step - loss: 0.0033 - accuracy: 0.9990 - f1: 0.9991 - val_loss: 0.4596 - val_accuracy: 0.8620 - val_f1: 0.8715\n",
            "Epoch 17/100000\n",
            "13319/13319 [==============================] - 1s 47us/step - loss: 0.0033 - accuracy: 0.9992 - f1: 0.9992 - val_loss: 0.4565 - val_accuracy: 0.8600 - val_f1: 0.8673\n",
            "Best F1:0.872, best accuracy:0.862\n",
            "Not found vectors 305 out of 9471 unique words\n",
            "Average sentence len:  9.435468128237856\n",
            "Max sentence len:  37\n",
            "2.695% of tokens were replaced by unk token index\n",
            "Average sentence len:  7.516\n",
            "Max sentence len:  17\n",
            "12.267% of tokens were replaced by unk token index\n",
            "Train on 13319 samples, validate on 500 samples\n",
            "Epoch 1/100000\n",
            "13319/13319 [==============================] - 1s 54us/step - loss: 1.1546 - accuracy: 0.5745 - f1: 0.3681 - val_loss: 1.3099 - val_accuracy: 0.4780 - val_f1: 0.4613\n",
            "Epoch 2/100000\n",
            "13319/13319 [==============================] - 1s 45us/step - loss: 0.5195 - accuracy: 0.8278 - f1: 0.8155 - val_loss: 0.8935 - val_accuracy: 0.6500 - val_f1: 0.6493\n",
            "Epoch 3/100000\n",
            "13319/13319 [==============================] - 1s 46us/step - loss: 0.2096 - accuracy: 0.9408 - f1: 0.9431 - val_loss: 0.6767 - val_accuracy: 0.7720 - val_f1: 0.7430\n",
            "Epoch 4/100000\n",
            "13319/13319 [==============================] - 1s 45us/step - loss: 0.0820 - accuracy: 0.9840 - f1: 0.9812 - val_loss: 0.6067 - val_accuracy: 0.8040 - val_f1: 0.7948\n",
            "Epoch 5/100000\n",
            "13319/13319 [==============================] - 1s 45us/step - loss: 0.0460 - accuracy: 0.9922 - f1: 0.9920 - val_loss: 0.5639 - val_accuracy: 0.8220 - val_f1: 0.8228\n",
            "Epoch 6/100000\n",
            "13319/13319 [==============================] - 1s 46us/step - loss: 0.0202 - accuracy: 0.9974 - f1: 0.9971 - val_loss: 0.5582 - val_accuracy: 0.8260 - val_f1: 0.8372\n",
            "Epoch 7/100000\n",
            "13319/13319 [==============================] - 1s 46us/step - loss: 0.0116 - accuracy: 0.9986 - f1: 0.9987 - val_loss: 0.5305 - val_accuracy: 0.8300 - val_f1: 0.8328\n",
            "Epoch 8/100000\n",
            "13319/13319 [==============================] - 1s 45us/step - loss: 0.0076 - accuracy: 0.9990 - f1: 0.9990 - val_loss: 0.4980 - val_accuracy: 0.8300 - val_f1: 0.8388\n",
            "Epoch 9/100000\n",
            "13319/13319 [==============================] - 1s 46us/step - loss: 0.0059 - accuracy: 0.9991 - f1: 0.9992 - val_loss: 0.4777 - val_accuracy: 0.8380 - val_f1: 0.8480\n",
            "Epoch 10/100000\n",
            "13319/13319 [==============================] - 1s 46us/step - loss: 0.0050 - accuracy: 0.9989 - f1: 0.9989 - val_loss: 0.5042 - val_accuracy: 0.8380 - val_f1: 0.8483\n",
            "Epoch 11/100000\n",
            "13319/13319 [==============================] - 1s 45us/step - loss: 0.0043 - accuracy: 0.9989 - f1: 0.9990 - val_loss: 0.5212 - val_accuracy: 0.8400 - val_f1: 0.8436\n",
            "Epoch 12/100000\n",
            "13319/13319 [==============================] - 1s 46us/step - loss: 0.0039 - accuracy: 0.9989 - f1: 0.9990 - val_loss: 0.5306 - val_accuracy: 0.8340 - val_f1: 0.8396\n",
            "Epoch 13/100000\n",
            "13319/13319 [==============================] - 1s 46us/step - loss: 0.0037 - accuracy: 0.9990 - f1: 0.9991 - val_loss: 0.5745 - val_accuracy: 0.8260 - val_f1: 0.8352\n",
            "Epoch 14/100000\n",
            "13319/13319 [==============================] - 1s 46us/step - loss: 0.0035 - accuracy: 0.9991 - f1: 0.9992 - val_loss: 0.5497 - val_accuracy: 0.8360 - val_f1: 0.8408\n",
            "Best F1:0.848, best accuracy:0.840\n",
            "f1_average: 0.8536499540011088, std:0.012978914509623364\n",
            "acc_average: 0.8493333260218302, std:0.00928559388513952\n"
          ],
          "name": "stdout"
        }
      ]
    },
    {
      "cell_type": "code",
      "metadata": {
        "colab_type": "code",
        "outputId": "e44ca3c8-a73f-4a22-cc10-86fa86e7c8fd",
        "id": "5rI8GAlyDhgc",
        "colab": {
          "base_uri": "https://localhost:8080/",
          "height": 1000
        }
      },
      "source": [
        "f1_scores, acc_scores = [], []\n",
        "for _ in range(number_of_attemp_to_fit):\n",
        "  f1_score, acc_score = run_lstm(pd.concat([train_data,aug_data]), test_data, w2v_model, MAX_SEQ_LEN, N_CLASSES )\n",
        "  f1_scores.append(f1_score)\n",
        "  acc_scores.append(acc_score)\n",
        "print(\"f1_average: {}, std:{}\".format(np.mean(f1_scores), np.std(f1_scores)))\n",
        "print(\"acc_average: {}, std:{}\".format(np.mean(acc_scores), np.std(acc_scores)))"
      ],
      "execution_count": 0,
      "outputs": [
        {
          "output_type": "stream",
          "text": [
            "Not found vectors 305 out of 9471 unique words\n",
            "Average sentence len:  9.435468128237856\n",
            "Max sentence len:  37\n",
            "2.695% of tokens were replaced by unk token index\n",
            "Average sentence len:  7.516\n",
            "Max sentence len:  17\n",
            "12.267% of tokens were replaced by unk token index\n",
            "Train on 13319 samples, validate on 500 samples\n",
            "Epoch 1/100000\n",
            "13319/13319 [==============================] - 9s 673us/step - loss: 1.4096 - accuracy: 0.4228 - f1: 0.1283 - val_loss: 1.7733 - val_accuracy: 0.4080 - val_f1: 0.2050\n",
            "Epoch 2/100000\n",
            "13319/13319 [==============================] - 8s 581us/step - loss: 1.0601 - accuracy: 0.5807 - f1: 0.5208 - val_loss: 1.4262 - val_accuracy: 0.4460 - val_f1: 0.4406\n",
            "Epoch 3/100000\n",
            "13319/13319 [==============================] - 8s 574us/step - loss: 0.8480 - accuracy: 0.6640 - f1: 0.6434 - val_loss: 1.0167 - val_accuracy: 0.6200 - val_f1: 0.5799\n",
            "Epoch 4/100000\n",
            "13319/13319 [==============================] - 8s 582us/step - loss: 0.6979 - accuracy: 0.7316 - f1: 0.7212 - val_loss: 1.0671 - val_accuracy: 0.6000 - val_f1: 0.6085\n",
            "Epoch 5/100000\n",
            "13319/13319 [==============================] - 8s 587us/step - loss: 0.5861 - accuracy: 0.7826 - f1: 0.7850 - val_loss: 0.7768 - val_accuracy: 0.6920 - val_f1: 0.6848\n",
            "Epoch 6/100000\n",
            "13319/13319 [==============================] - 8s 580us/step - loss: 0.4733 - accuracy: 0.8271 - f1: 0.8265 - val_loss: 0.9405 - val_accuracy: 0.6900 - val_f1: 0.6891\n",
            "Epoch 7/100000\n",
            "13319/13319 [==============================] - 8s 576us/step - loss: 0.4296 - accuracy: 0.8504 - f1: 0.8544 - val_loss: 0.7567 - val_accuracy: 0.7060 - val_f1: 0.7108\n",
            "Epoch 8/100000\n",
            "13319/13319 [==============================] - 8s 572us/step - loss: 0.3385 - accuracy: 0.8817 - f1: 0.8858 - val_loss: 0.8979 - val_accuracy: 0.6720 - val_f1: 0.6674\n",
            "Epoch 9/100000\n",
            "13319/13319 [==============================] - 8s 577us/step - loss: 0.2661 - accuracy: 0.9120 - f1: 0.9130 - val_loss: 1.0048 - val_accuracy: 0.7120 - val_f1: 0.7183\n",
            "Epoch 10/100000\n",
            "13319/13319 [==============================] - 8s 592us/step - loss: 0.3152 - accuracy: 0.8965 - f1: 0.8999 - val_loss: 0.7064 - val_accuracy: 0.7400 - val_f1: 0.7379\n",
            "Epoch 11/100000\n",
            "13319/13319 [==============================] - 8s 577us/step - loss: 0.2178 - accuracy: 0.9284 - f1: 0.9315 - val_loss: 0.7438 - val_accuracy: 0.7320 - val_f1: 0.7340\n",
            "Epoch 12/100000\n",
            "13319/13319 [==============================] - 8s 591us/step - loss: 0.1661 - accuracy: 0.9456 - f1: 0.9488 - val_loss: 0.7005 - val_accuracy: 0.7680 - val_f1: 0.7650\n",
            "Epoch 13/100000\n",
            "13319/13319 [==============================] - 8s 591us/step - loss: 0.1543 - accuracy: 0.9489 - f1: 0.9514 - val_loss: 0.6774 - val_accuracy: 0.7980 - val_f1: 0.8013\n",
            "Epoch 14/100000\n",
            "13319/13319 [==============================] - 8s 600us/step - loss: 0.1493 - accuracy: 0.9514 - f1: 0.9430 - val_loss: 0.8164 - val_accuracy: 0.7600 - val_f1: 0.7612\n",
            "Epoch 15/100000\n",
            "13319/13319 [==============================] - 8s 587us/step - loss: 0.3371 - accuracy: 0.8967 - f1: 0.9008 - val_loss: 0.7819 - val_accuracy: 0.7380 - val_f1: 0.7352\n",
            "Epoch 16/100000\n",
            "13319/13319 [==============================] - 8s 585us/step - loss: 0.1691 - accuracy: 0.9461 - f1: 0.9483 - val_loss: 0.7158 - val_accuracy: 0.7740 - val_f1: 0.7739\n",
            "Epoch 17/100000\n",
            "13319/13319 [==============================] - 8s 577us/step - loss: 0.1147 - accuracy: 0.9644 - f1: 0.9555 - val_loss: 0.8349 - val_accuracy: 0.7600 - val_f1: 0.7082\n",
            "Epoch 18/100000\n",
            "13319/13319 [==============================] - 8s 580us/step - loss: 0.1702 - accuracy: 0.9479 - f1: 0.9497 - val_loss: 0.7042 - val_accuracy: 0.7660 - val_f1: 0.7571\n",
            "Best F1:0.801, best accuracy:0.798\n",
            "Not found vectors 305 out of 9471 unique words\n",
            "Average sentence len:  9.435468128237856\n",
            "Max sentence len:  37\n",
            "2.695% of tokens were replaced by unk token index\n",
            "Average sentence len:  7.516\n",
            "Max sentence len:  17\n",
            "12.267% of tokens were replaced by unk token index\n",
            "Train on 13319 samples, validate on 500 samples\n",
            "Epoch 1/100000\n",
            "13319/13319 [==============================] - 9s 681us/step - loss: 1.4000 - accuracy: 0.4218 - f1: 0.1343 - val_loss: 1.8241 - val_accuracy: 0.3820 - val_f1: 0.4092\n",
            "Epoch 2/100000\n",
            "13319/13319 [==============================] - 8s 582us/step - loss: 1.0588 - accuracy: 0.5751 - f1: 0.5045 - val_loss: 1.3737 - val_accuracy: 0.4980 - val_f1: 0.4601\n",
            "Epoch 3/100000\n",
            "13319/13319 [==============================] - 8s 591us/step - loss: 0.8130 - accuracy: 0.6760 - f1: 0.6653 - val_loss: 1.2151 - val_accuracy: 0.5100 - val_f1: 0.4930\n",
            "Epoch 4/100000\n",
            "13319/13319 [==============================] - 8s 585us/step - loss: 0.6714 - accuracy: 0.7427 - f1: 0.7399 - val_loss: 0.8885 - val_accuracy: 0.6620 - val_f1: 0.6471\n",
            "Epoch 5/100000\n",
            "13319/13319 [==============================] - 8s 579us/step - loss: 0.5332 - accuracy: 0.8080 - f1: 0.8127 - val_loss: 1.0476 - val_accuracy: 0.6560 - val_f1: 0.6299\n",
            "Epoch 6/100000\n",
            "13319/13319 [==============================] - 8s 580us/step - loss: 0.4320 - accuracy: 0.8471 - f1: 0.8519 - val_loss: 0.7607 - val_accuracy: 0.6840 - val_f1: 0.6951\n",
            "Epoch 7/100000\n",
            "13319/13319 [==============================] - 8s 585us/step - loss: 0.3628 - accuracy: 0.8761 - f1: 0.8812 - val_loss: 0.7297 - val_accuracy: 0.7300 - val_f1: 0.7216\n",
            "Epoch 8/100000\n",
            "13319/13319 [==============================] - 8s 583us/step - loss: 0.3112 - accuracy: 0.8935 - f1: 0.8963 - val_loss: 1.0884 - val_accuracy: 0.6660 - val_f1: 0.6554\n",
            "Epoch 9/100000\n",
            "13319/13319 [==============================] - 8s 587us/step - loss: 0.2762 - accuracy: 0.9098 - f1: 0.9133 - val_loss: 0.7266 - val_accuracy: 0.7600 - val_f1: 0.7418\n",
            "Epoch 10/100000\n",
            "13319/13319 [==============================] - 8s 581us/step - loss: 0.2270 - accuracy: 0.9260 - f1: 0.9276 - val_loss: 0.9050 - val_accuracy: 0.7280 - val_f1: 0.7333\n",
            "Epoch 11/100000\n",
            "13319/13319 [==============================] - 8s 596us/step - loss: 0.2103 - accuracy: 0.9335 - f1: 0.9338 - val_loss: 0.6490 - val_accuracy: 0.7760 - val_f1: 0.7694\n",
            "Epoch 12/100000\n",
            "13319/13319 [==============================] - 8s 597us/step - loss: 0.2068 - accuracy: 0.9346 - f1: 0.9329 - val_loss: 0.7731 - val_accuracy: 0.7560 - val_f1: 0.7676\n",
            "Epoch 13/100000\n",
            "13319/13319 [==============================] - 8s 592us/step - loss: 0.1542 - accuracy: 0.9504 - f1: 0.9477 - val_loss: 0.7303 - val_accuracy: 0.7720 - val_f1: 0.7756\n",
            "Epoch 14/100000\n",
            "13319/13319 [==============================] - 8s 598us/step - loss: 0.1148 - accuracy: 0.9656 - f1: 0.9677 - val_loss: 0.7381 - val_accuracy: 0.7780 - val_f1: 0.7867\n",
            "Epoch 15/100000\n",
            "13319/13319 [==============================] - 8s 588us/step - loss: 0.0948 - accuracy: 0.9706 - f1: 0.9717 - val_loss: 0.7453 - val_accuracy: 0.7860 - val_f1: 0.7888\n",
            "Epoch 16/100000\n",
            "13319/13319 [==============================] - 8s 589us/step - loss: 0.0876 - accuracy: 0.9736 - f1: 0.9754 - val_loss: 0.8597 - val_accuracy: 0.6640 - val_f1: 0.6721\n",
            "Best F1:0.789, best accuracy:0.786\n",
            "Not found vectors 305 out of 9471 unique words\n",
            "Average sentence len:  9.435468128237856\n",
            "Max sentence len:  37\n",
            "2.695% of tokens were replaced by unk token index\n",
            "Average sentence len:  7.516\n",
            "Max sentence len:  17\n",
            "12.267% of tokens were replaced by unk token index\n",
            "Train on 13319 samples, validate on 500 samples\n",
            "Epoch 1/100000\n",
            "13319/13319 [==============================] - 9s 676us/step - loss: 1.3676 - accuracy: 0.4427 - f1: 0.1841 - val_loss: 1.7546 - val_accuracy: 0.3900 - val_f1: 0.1935\n",
            "Epoch 2/100000\n",
            "13319/13319 [==============================] - 8s 587us/step - loss: 0.9565 - accuracy: 0.6157 - f1: 0.5742 - val_loss: 1.3252 - val_accuracy: 0.5320 - val_f1: 0.4310\n",
            "Epoch 3/100000\n",
            "13319/13319 [==============================] - 8s 592us/step - loss: 0.7391 - accuracy: 0.7089 - f1: 0.6906 - val_loss: 1.0352 - val_accuracy: 0.6760 - val_f1: 0.4691\n",
            "Epoch 4/100000\n",
            "13319/13319 [==============================] - 8s 587us/step - loss: 0.6648 - accuracy: 0.7442 - f1: 0.7288 - val_loss: 0.9813 - val_accuracy: 0.6200 - val_f1: 0.6175\n",
            "Epoch 5/100000\n",
            "13319/13319 [==============================] - 8s 593us/step - loss: 0.5695 - accuracy: 0.7780 - f1: 0.7775 - val_loss: 0.8080 - val_accuracy: 0.6800 - val_f1: 0.6793\n",
            "Epoch 6/100000\n",
            "13319/13319 [==============================] - 8s 590us/step - loss: 0.4682 - accuracy: 0.8248 - f1: 0.8231 - val_loss: 0.8085 - val_accuracy: 0.6820 - val_f1: 0.6947\n",
            "Epoch 7/100000\n",
            "13319/13319 [==============================] - 8s 617us/step - loss: 0.4206 - accuracy: 0.8467 - f1: 0.8533 - val_loss: 0.8074 - val_accuracy: 0.6980 - val_f1: 0.6903\n",
            "Epoch 8/100000\n",
            "13319/13319 [==============================] - 8s 590us/step - loss: 0.3202 - accuracy: 0.8887 - f1: 0.8843 - val_loss: 0.8578 - val_accuracy: 0.6880 - val_f1: 0.6897\n",
            "Epoch 9/100000\n",
            "13319/13319 [==============================] - 8s 593us/step - loss: 0.3575 - accuracy: 0.8742 - f1: 0.8788 - val_loss: 1.1745 - val_accuracy: 0.6740 - val_f1: 0.6790\n",
            "Epoch 10/100000\n",
            "13319/13319 [==============================] - 8s 596us/step - loss: 0.2907 - accuracy: 0.9032 - f1: 0.9015 - val_loss: 0.5875 - val_accuracy: 0.7920 - val_f1: 0.7922\n",
            "Epoch 11/100000\n",
            "13319/13319 [==============================] - 8s 600us/step - loss: 0.2379 - accuracy: 0.9230 - f1: 0.9266 - val_loss: 0.6523 - val_accuracy: 0.7600 - val_f1: 0.7728\n",
            "Epoch 12/100000\n",
            "13319/13319 [==============================] - 8s 592us/step - loss: 0.1726 - accuracy: 0.9447 - f1: 0.9415 - val_loss: 0.6813 - val_accuracy: 0.7660 - val_f1: 0.7720\n",
            "Epoch 13/100000\n",
            "13319/13319 [==============================] - 8s 601us/step - loss: 0.2214 - accuracy: 0.9281 - f1: 0.9313 - val_loss: 0.6540 - val_accuracy: 0.8040 - val_f1: 0.7875\n",
            "Epoch 14/100000\n",
            "13319/13319 [==============================] - 8s 595us/step - loss: 0.1922 - accuracy: 0.9373 - f1: 0.9356 - val_loss: 0.7402 - val_accuracy: 0.7680 - val_f1: 0.7697\n",
            "Epoch 15/100000\n",
            "13319/13319 [==============================] - 8s 602us/step - loss: 0.1865 - accuracy: 0.9366 - f1: 0.9401 - val_loss: 0.7291 - val_accuracy: 0.7580 - val_f1: 0.7691\n",
            "Best F1:0.792, best accuracy:0.804\n",
            "f1_average: 0.7941104173660278, std:0.005247053166382267\n",
            "acc_average: 0.7960000038146973, std:0.007483314008929943\n"
          ],
          "name": "stdout"
        }
      ]
    },
    {
      "cell_type": "markdown",
      "metadata": {
        "id": "Dn0nF29z2iiw",
        "colab_type": "text"
      },
      "source": [
        "#SST-2"
      ]
    },
    {
      "cell_type": "markdown",
      "metadata": {
        "id": "N7FDJq7Fdoyj",
        "colab_type": "text"
      },
      "source": [
        "### 3000"
      ]
    },
    {
      "cell_type": "code",
      "metadata": {
        "id": "hL9L3Hy9agmh",
        "colab_type": "code",
        "colab": {}
      },
      "source": [
        "train_data = pd.read_csv(\"sst2-splited/sst2_full_rev_3k.csv\", index_col=0)\n",
        "train_data.columns = ['text', 'lbl_index']"
      ],
      "execution_count": 0,
      "outputs": []
    },
    {
      "cell_type": "code",
      "metadata": {
        "id": "vdR3ktcecPGk",
        "colab_type": "code",
        "colab": {}
      },
      "source": [
        "test_data = pd.read_csv(\"sst2-splited/test.csv\", sep = '\\t')\n",
        "test_data.columns = ['text', 'lbl_index']"
      ],
      "execution_count": 0,
      "outputs": []
    },
    {
      "cell_type": "code",
      "metadata": {
        "colab_type": "code",
        "id": "oZKLl99mcg28",
        "colab": {}
      },
      "source": [
        "number_of_attemp_to_fit = 3"
      ],
      "execution_count": 0,
      "outputs": []
    },
    {
      "cell_type": "code",
      "metadata": {
        "colab_type": "code",
        "id": "_LONUXj8cg2_",
        "colab": {}
      },
      "source": [
        "MAX_SEQ_LEN, N_CLASSES = 50, len(train_data.lbl_index.unique())"
      ],
      "execution_count": 0,
      "outputs": []
    },
    {
      "cell_type": "code",
      "metadata": {
        "colab_type": "code",
        "outputId": "f85a53e4-f0d5-4294-e55c-875ad8dca2f7",
        "id": "R8-m6TwScg3B",
        "colab": {
          "base_uri": "https://localhost:8080/",
          "height": 1000
        }
      },
      "source": [
        "f1_scores, acc_scores = [], []\n",
        "for _ in range(number_of_attemp_to_fit):\n",
        "  f1_score, acc_score = run_cnn(train_data, test_data, w2v_model, MAX_SEQ_LEN, N_CLASSES )\n",
        "  f1_scores.append(f1_score)\n",
        "  acc_scores.append(acc_score)\n",
        "print(\"f1_average: {}, std:{}\".format(np.mean(f1_scores), np.std(f1_scores)))\n",
        "print(\"acc_average: {}, std:{}\".format(np.mean(acc_scores), np.std(acc_scores)))"
      ],
      "execution_count": 0,
      "outputs": [
        {
          "output_type": "stream",
          "text": [
            "Not found vectors 245 out of 9053 unique words\n",
            "Average sentence len:  18.787333333333333\n",
            "Max sentence len:  50\n",
            "1.728% of tokens were replaced by unk token index\n",
            "Average sentence len:  18.480505216913784\n",
            "Max sentence len:  53\n",
            "10.139% of tokens were replaced by unk token index\n",
            "Train on 3000 samples, validate on 1821 samples\n",
            "Epoch 1/100000\n",
            "3000/3000 [==============================] - 1s 203us/step - loss: 0.7206 - accuracy: 0.5487 - f1: 0.5507 - val_loss: 0.6515 - val_accuracy: 0.7490 - val_f1: 0.7461\n",
            "Epoch 2/100000\n",
            "3000/3000 [==============================] - 0s 155us/step - loss: 0.5985 - accuracy: 0.7857 - f1: 0.7880 - val_loss: 0.5945 - val_accuracy: 0.7359 - val_f1: 0.7340\n",
            "Epoch 3/100000\n",
            "3000/3000 [==============================] - 0s 154us/step - loss: 0.4898 - accuracy: 0.8473 - f1: 0.8482 - val_loss: 0.5030 - val_accuracy: 0.8045 - val_f1: 0.8013\n",
            "Epoch 4/100000\n",
            "3000/3000 [==============================] - 0s 151us/step - loss: 0.3532 - accuracy: 0.8960 - f1: 0.8960 - val_loss: 0.4414 - val_accuracy: 0.8018 - val_f1: 0.7992\n",
            "Epoch 5/100000\n",
            "3000/3000 [==============================] - 0s 155us/step - loss: 0.2320 - accuracy: 0.9270 - f1: 0.9273 - val_loss: 0.4135 - val_accuracy: 0.8122 - val_f1: 0.8093\n",
            "Epoch 6/100000\n",
            "3000/3000 [==============================] - 0s 156us/step - loss: 0.1440 - accuracy: 0.9597 - f1: 0.9598 - val_loss: 0.4008 - val_accuracy: 0.8298 - val_f1: 0.8296\n",
            "Epoch 7/100000\n",
            "3000/3000 [==============================] - 0s 156us/step - loss: 0.0749 - accuracy: 0.9850 - f1: 0.9851 - val_loss: 0.4209 - val_accuracy: 0.8237 - val_f1: 0.8230\n",
            "Epoch 8/100000\n",
            "3000/3000 [==============================] - 0s 153us/step - loss: 0.0348 - accuracy: 0.9953 - f1: 0.9953 - val_loss: 0.4523 - val_accuracy: 0.8193 - val_f1: 0.8184\n",
            "Epoch 9/100000\n",
            "3000/3000 [==============================] - 0s 154us/step - loss: 0.0170 - accuracy: 0.9990 - f1: 0.9990 - val_loss: 0.4707 - val_accuracy: 0.8226 - val_f1: 0.8221\n",
            "Epoch 10/100000\n",
            "3000/3000 [==============================] - 0s 152us/step - loss: 0.0095 - accuracy: 0.9993 - f1: 0.9993 - val_loss: 0.4993 - val_accuracy: 0.8210 - val_f1: 0.8198\n",
            "Epoch 11/100000\n",
            "3000/3000 [==============================] - 0s 153us/step - loss: 0.0060 - accuracy: 0.9993 - f1: 0.9993 - val_loss: 0.5356 - val_accuracy: 0.8133 - val_f1: 0.8114\n",
            "Best F1:0.830, best accuracy:0.830\n",
            "Not found vectors 245 out of 9053 unique words\n",
            "Average sentence len:  18.787333333333333\n",
            "Max sentence len:  50\n",
            "1.728% of tokens were replaced by unk token index\n",
            "Average sentence len:  18.480505216913784\n",
            "Max sentence len:  53\n",
            "10.139% of tokens were replaced by unk token index\n",
            "Train on 3000 samples, validate on 1821 samples\n",
            "Epoch 1/100000\n",
            "3000/3000 [==============================] - 1s 185us/step - loss: 0.6869 - accuracy: 0.5617 - f1: 0.5612 - val_loss: 0.6374 - val_accuracy: 0.7084 - val_f1: 0.7096\n",
            "Epoch 2/100000\n",
            "3000/3000 [==============================] - 0s 151us/step - loss: 0.5605 - accuracy: 0.7950 - f1: 0.7961 - val_loss: 0.5455 - val_accuracy: 0.7891 - val_f1: 0.7872\n",
            "Epoch 3/100000\n",
            "3000/3000 [==============================] - 0s 153us/step - loss: 0.4189 - accuracy: 0.8757 - f1: 0.8758 - val_loss: 0.4607 - val_accuracy: 0.7941 - val_f1: 0.7904\n",
            "Epoch 4/100000\n",
            "3000/3000 [==============================] - 0s 152us/step - loss: 0.2716 - accuracy: 0.9177 - f1: 0.9184 - val_loss: 0.4112 - val_accuracy: 0.8188 - val_f1: 0.8190\n",
            "Epoch 5/100000\n",
            "3000/3000 [==============================] - 0s 153us/step - loss: 0.1649 - accuracy: 0.9540 - f1: 0.9545 - val_loss: 0.4111 - val_accuracy: 0.8204 - val_f1: 0.8186\n",
            "Epoch 6/100000\n",
            "3000/3000 [==============================] - 0s 150us/step - loss: 0.0844 - accuracy: 0.9823 - f1: 0.9825 - val_loss: 0.4570 - val_accuracy: 0.8127 - val_f1: 0.8117\n",
            "Epoch 7/100000\n",
            "3000/3000 [==============================] - 0s 156us/step - loss: 0.0376 - accuracy: 0.9953 - f1: 0.9954 - val_loss: 0.4483 - val_accuracy: 0.8292 - val_f1: 0.8287\n",
            "Epoch 8/100000\n",
            "3000/3000 [==============================] - 0s 152us/step - loss: 0.0165 - accuracy: 0.9987 - f1: 0.9987 - val_loss: 0.4839 - val_accuracy: 0.8199 - val_f1: 0.8196\n",
            "Epoch 9/100000\n",
            "3000/3000 [==============================] - 0s 152us/step - loss: 0.0085 - accuracy: 0.9993 - f1: 0.9993 - val_loss: 0.5045 - val_accuracy: 0.8237 - val_f1: 0.8226\n",
            "Epoch 10/100000\n",
            "3000/3000 [==============================] - 0s 155us/step - loss: 0.0045 - accuracy: 0.9997 - f1: 0.9997 - val_loss: 0.5608 - val_accuracy: 0.8133 - val_f1: 0.8134\n",
            "Best F1:0.829, best accuracy:0.829\n",
            "Not found vectors 245 out of 9053 unique words\n",
            "Average sentence len:  18.787333333333333\n",
            "Max sentence len:  50\n",
            "1.728% of tokens were replaced by unk token index\n",
            "Average sentence len:  18.480505216913784\n",
            "Max sentence len:  53\n",
            "10.139% of tokens were replaced by unk token index\n",
            "Train on 3000 samples, validate on 1821 samples\n",
            "Epoch 1/100000\n",
            "3000/3000 [==============================] - 1s 187us/step - loss: 0.6900 - accuracy: 0.5410 - f1: 0.5420 - val_loss: 0.6536 - val_accuracy: 0.5321 - val_f1: 0.5299\n",
            "Epoch 2/100000\n",
            "3000/3000 [==============================] - 0s 153us/step - loss: 0.5627 - accuracy: 0.7543 - f1: 0.7568 - val_loss: 0.5479 - val_accuracy: 0.7644 - val_f1: 0.7625\n",
            "Epoch 3/100000\n",
            "3000/3000 [==============================] - 0s 155us/step - loss: 0.4165 - accuracy: 0.8770 - f1: 0.8778 - val_loss: 0.4544 - val_accuracy: 0.8067 - val_f1: 0.8044\n",
            "Epoch 4/100000\n",
            "3000/3000 [==============================] - 0s 153us/step - loss: 0.2727 - accuracy: 0.9177 - f1: 0.9183 - val_loss: 0.4076 - val_accuracy: 0.8160 - val_f1: 0.8143\n",
            "Epoch 5/100000\n",
            "3000/3000 [==============================] - 0s 153us/step - loss: 0.1646 - accuracy: 0.9517 - f1: 0.9517 - val_loss: 0.4190 - val_accuracy: 0.8094 - val_f1: 0.8084\n",
            "Epoch 6/100000\n",
            "3000/3000 [==============================] - 0s 154us/step - loss: 0.0853 - accuracy: 0.9823 - f1: 0.9824 - val_loss: 0.4357 - val_accuracy: 0.8166 - val_f1: 0.8167\n",
            "Epoch 7/100000\n",
            "3000/3000 [==============================] - 0s 153us/step - loss: 0.0378 - accuracy: 0.9940 - f1: 0.9941 - val_loss: 0.4309 - val_accuracy: 0.8270 - val_f1: 0.8256\n",
            "Epoch 8/100000\n",
            "3000/3000 [==============================] - 0s 156us/step - loss: 0.0167 - accuracy: 0.9990 - f1: 0.9990 - val_loss: 0.4765 - val_accuracy: 0.8188 - val_f1: 0.8175\n",
            "Epoch 9/100000\n",
            "3000/3000 [==============================] - 0s 154us/step - loss: 0.0091 - accuracy: 0.9993 - f1: 0.9993 - val_loss: 0.4880 - val_accuracy: 0.8276 - val_f1: 0.8268\n",
            "Best F1:0.827, best accuracy:0.828\n",
            "f1_average: 0.8283733526865641, std:0.001138424688285967\n",
            "acc_average: 0.8288486202557882, std:0.0009333739155622044\n"
          ],
          "name": "stdout"
        }
      ]
    },
    {
      "cell_type": "code",
      "metadata": {
        "colab_type": "code",
        "outputId": "5af751e8-a0d0-46d0-d0ac-d6bad2eb0504",
        "id": "qeX1Px6Vcg3E",
        "colab": {
          "base_uri": "https://localhost:8080/",
          "height": 1000
        }
      },
      "source": [
        "f1_scores, acc_scores = [], []\n",
        "for _ in range(number_of_attemp_to_fit):\n",
        "  f1_score, acc_score = run_lstm(train_data, test_data, w2v_model, MAX_SEQ_LEN, N_CLASSES )\n",
        "  f1_scores.append(f1_score)\n",
        "  acc_scores.append(acc_score)\n",
        "print(\"f1_average: {}, std:{}\".format(np.mean(f1_scores), np.std(f1_scores)))\n",
        "print(\"acc_average: {}, std:{}\".format(np.mean(acc_scores), np.std(acc_scores)))"
      ],
      "execution_count": 0,
      "outputs": [
        {
          "output_type": "stream",
          "text": [
            "Not found vectors 245 out of 9053 unique words\n",
            "Average sentence len:  18.787333333333333\n",
            "Max sentence len:  50\n",
            "1.728% of tokens were replaced by unk token index\n",
            "Average sentence len:  18.480505216913784\n",
            "Max sentence len:  53\n",
            "10.139% of tokens were replaced by unk token index\n",
            "Train on 3000 samples, validate on 1821 samples\n",
            "Epoch 1/100000\n",
            "3000/3000 [==============================] - 7s 2ms/step - loss: 0.6806 - accuracy: 0.5330 - f1: 0.5341 - val_loss: 0.6337 - val_accuracy: 0.7194 - val_f1: 0.7217\n",
            "Epoch 2/100000\n",
            "3000/3000 [==============================] - 6s 2ms/step - loss: 0.5641 - accuracy: 0.7633 - f1: 0.7630 - val_loss: 0.5025 - val_accuracy: 0.7732 - val_f1: 0.7723\n",
            "Epoch 3/100000\n",
            "3000/3000 [==============================] - 6s 2ms/step - loss: 0.4670 - accuracy: 0.7833 - f1: 0.7840 - val_loss: 0.4517 - val_accuracy: 0.7924 - val_f1: 0.7913\n",
            "Epoch 4/100000\n",
            "3000/3000 [==============================] - 6s 2ms/step - loss: 0.4142 - accuracy: 0.8043 - f1: 0.8055 - val_loss: 0.4230 - val_accuracy: 0.8083 - val_f1: 0.8059\n",
            "Epoch 5/100000\n",
            "3000/3000 [==============================] - 6s 2ms/step - loss: 0.3811 - accuracy: 0.8327 - f1: 0.8321 - val_loss: 0.4364 - val_accuracy: 0.7990 - val_f1: 0.7956\n",
            "Epoch 6/100000\n",
            "3000/3000 [==============================] - 6s 2ms/step - loss: 0.3622 - accuracy: 0.8500 - f1: 0.8496 - val_loss: 0.4431 - val_accuracy: 0.7957 - val_f1: 0.7935\n",
            "Epoch 7/100000\n",
            "3000/3000 [==============================] - 6s 2ms/step - loss: 0.3360 - accuracy: 0.8603 - f1: 0.8604 - val_loss: 0.4927 - val_accuracy: 0.7968 - val_f1: 0.7937\n",
            "Epoch 8/100000\n",
            "3000/3000 [==============================] - 6s 2ms/step - loss: 0.3264 - accuracy: 0.8703 - f1: 0.8706 - val_loss: 0.4486 - val_accuracy: 0.7974 - val_f1: 0.7969\n",
            "Epoch 9/100000\n",
            "3000/3000 [==============================] - 6s 2ms/step - loss: 0.3109 - accuracy: 0.8727 - f1: 0.8728 - val_loss: 0.5446 - val_accuracy: 0.7776 - val_f1: 0.7750\n",
            "Best F1:0.806, best accuracy:0.808\n",
            "Not found vectors 245 out of 9053 unique words\n",
            "Average sentence len:  18.787333333333333\n",
            "Max sentence len:  50\n",
            "1.728% of tokens were replaced by unk token index\n",
            "Average sentence len:  18.480505216913784\n",
            "Max sentence len:  53\n",
            "10.139% of tokens were replaced by unk token index\n",
            "Train on 3000 samples, validate on 1821 samples\n",
            "Epoch 1/100000\n",
            "3000/3000 [==============================] - 7s 2ms/step - loss: 0.6784 - accuracy: 0.5947 - f1: 0.5972 - val_loss: 0.6293 - val_accuracy: 0.7265 - val_f1: 0.7292\n",
            "Epoch 2/100000\n",
            "3000/3000 [==============================] - 6s 2ms/step - loss: 0.5486 - accuracy: 0.7567 - f1: 0.7588 - val_loss: 0.5746 - val_accuracy: 0.7529 - val_f1: 0.7534\n",
            "Epoch 3/100000\n",
            "3000/3000 [==============================] - 6s 2ms/step - loss: 0.4664 - accuracy: 0.7937 - f1: 0.7933 - val_loss: 0.4951 - val_accuracy: 0.7792 - val_f1: 0.7769\n",
            "Epoch 4/100000\n",
            "3000/3000 [==============================] - 6s 2ms/step - loss: 0.4186 - accuracy: 0.8160 - f1: 0.8166 - val_loss: 0.4689 - val_accuracy: 0.7886 - val_f1: 0.7860\n",
            "Epoch 5/100000\n",
            "3000/3000 [==============================] - 6s 2ms/step - loss: 0.3737 - accuracy: 0.8417 - f1: 0.8422 - val_loss: 0.4906 - val_accuracy: 0.7847 - val_f1: 0.7825\n",
            "Epoch 6/100000\n",
            "3000/3000 [==============================] - 6s 2ms/step - loss: 0.3561 - accuracy: 0.8507 - f1: 0.8512 - val_loss: 0.4690 - val_accuracy: 0.7902 - val_f1: 0.7878\n",
            "Epoch 7/100000\n",
            "3000/3000 [==============================] - 6s 2ms/step - loss: 0.3435 - accuracy: 0.8550 - f1: 0.8539 - val_loss: 0.4295 - val_accuracy: 0.8040 - val_f1: 0.8008\n",
            "Epoch 8/100000\n",
            "3000/3000 [==============================] - 6s 2ms/step - loss: 0.3366 - accuracy: 0.8640 - f1: 0.8632 - val_loss: 0.4251 - val_accuracy: 0.7985 - val_f1: 0.7998\n",
            "Epoch 9/100000\n",
            "3000/3000 [==============================] - 6s 2ms/step - loss: 0.3295 - accuracy: 0.8637 - f1: 0.8641 - val_loss: 0.4181 - val_accuracy: 0.8056 - val_f1: 0.8034\n",
            "Epoch 10/100000\n",
            "3000/3000 [==============================] - 6s 2ms/step - loss: 0.2929 - accuracy: 0.8827 - f1: 0.8825 - val_loss: 0.5918 - val_accuracy: 0.7765 - val_f1: 0.7752\n",
            "Epoch 11/100000\n",
            "3000/3000 [==============================] - 6s 2ms/step - loss: 0.2876 - accuracy: 0.8803 - f1: 0.8804 - val_loss: 0.4837 - val_accuracy: 0.7880 - val_f1: 0.7847\n",
            "Epoch 12/100000\n",
            "3000/3000 [==============================] - 6s 2ms/step - loss: 0.2591 - accuracy: 0.8983 - f1: 0.8984 - val_loss: 0.4652 - val_accuracy: 0.7996 - val_f1: 0.7973\n",
            "Epoch 13/100000\n",
            "3000/3000 [==============================] - 6s 2ms/step - loss: 0.2337 - accuracy: 0.9107 - f1: 0.9103 - val_loss: 0.5038 - val_accuracy: 0.8040 - val_f1: 0.8008\n",
            "Epoch 14/100000\n",
            "3000/3000 [==============================] - 6s 2ms/step - loss: 0.2020 - accuracy: 0.9223 - f1: 0.9225 - val_loss: 0.5444 - val_accuracy: 0.7930 - val_f1: 0.7902\n",
            "Best F1:0.803, best accuracy:0.806\n",
            "Not found vectors 245 out of 9053 unique words\n",
            "Average sentence len:  18.787333333333333\n",
            "Max sentence len:  50\n",
            "1.728% of tokens were replaced by unk token index\n",
            "Average sentence len:  18.480505216913784\n",
            "Max sentence len:  53\n",
            "10.139% of tokens were replaced by unk token index\n",
            "Train on 3000 samples, validate on 1821 samples\n",
            "Epoch 1/100000\n",
            "3000/3000 [==============================] - 7s 2ms/step - loss: 0.6794 - accuracy: 0.5707 - f1: 0.5711 - val_loss: 0.6320 - val_accuracy: 0.7463 - val_f1: 0.7491\n",
            "Epoch 2/100000\n",
            "3000/3000 [==============================] - 6s 2ms/step - loss: 0.5711 - accuracy: 0.7377 - f1: 0.7388 - val_loss: 0.9389 - val_accuracy: 0.6041 - val_f1: 0.6059\n",
            "Epoch 3/100000\n",
            "3000/3000 [==============================] - 6s 2ms/step - loss: 0.5829 - accuracy: 0.7223 - f1: 0.7223 - val_loss: 0.5026 - val_accuracy: 0.7798 - val_f1: 0.7809\n",
            "Epoch 4/100000\n",
            "3000/3000 [==============================] - 6s 2ms/step - loss: 0.4929 - accuracy: 0.7813 - f1: 0.7820 - val_loss: 0.5193 - val_accuracy: 0.7386 - val_f1: 0.7376\n",
            "Epoch 5/100000\n",
            "3000/3000 [==============================] - 6s 2ms/step - loss: 0.4303 - accuracy: 0.8053 - f1: 0.8057 - val_loss: 0.4253 - val_accuracy: 0.8166 - val_f1: 0.8140\n",
            "Epoch 6/100000\n",
            "3000/3000 [==============================] - 6s 2ms/step - loss: 0.3959 - accuracy: 0.8303 - f1: 0.8299 - val_loss: 0.4397 - val_accuracy: 0.7908 - val_f1: 0.7887\n",
            "Epoch 7/100000\n",
            "3000/3000 [==============================] - 6s 2ms/step - loss: 0.3686 - accuracy: 0.8440 - f1: 0.8441 - val_loss: 0.4230 - val_accuracy: 0.7979 - val_f1: 0.7970\n",
            "Epoch 8/100000\n",
            "3000/3000 [==============================] - 6s 2ms/step - loss: 0.3526 - accuracy: 0.8550 - f1: 0.8547 - val_loss: 0.4309 - val_accuracy: 0.7974 - val_f1: 0.7949\n",
            "Epoch 9/100000\n",
            "3000/3000 [==============================] - 6s 2ms/step - loss: 0.3286 - accuracy: 0.8687 - f1: 0.8685 - val_loss: 0.4333 - val_accuracy: 0.8029 - val_f1: 0.7998\n",
            "Epoch 10/100000\n",
            "3000/3000 [==============================] - 6s 2ms/step - loss: 0.3144 - accuracy: 0.8743 - f1: 0.8744 - val_loss: 0.4780 - val_accuracy: 0.7886 - val_f1: 0.7852\n",
            "Epoch 11/100000\n",
            "3000/3000 [==============================] - 6s 2ms/step - loss: 0.3052 - accuracy: 0.8780 - f1: 0.8784 - val_loss: 0.4843 - val_accuracy: 0.7891 - val_f1: 0.7861\n",
            "Epoch 12/100000\n",
            "3000/3000 [==============================] - 6s 2ms/step - loss: 0.2822 - accuracy: 0.8903 - f1: 0.8902 - val_loss: 0.5011 - val_accuracy: 0.7858 - val_f1: 0.7835\n",
            "Best F1:0.814, best accuracy:0.817\n",
            "f1_average: 0.8077530066172282, std:0.004506396658341584\n",
            "acc_average: 0.8101775447527567, std:0.00466687347319057\n"
          ],
          "name": "stdout"
        }
      ]
    },
    {
      "cell_type": "code",
      "metadata": {
        "id": "SXM_rRD0d06r",
        "colab_type": "code",
        "colab": {}
      },
      "source": [
        ""
      ],
      "execution_count": 0,
      "outputs": []
    },
    {
      "cell_type": "markdown",
      "metadata": {
        "id": "LZobtysid1zX",
        "colab_type": "text"
      },
      "source": [
        "### 4000"
      ]
    },
    {
      "cell_type": "code",
      "metadata": {
        "colab_type": "code",
        "id": "RxVaHkxud1LM",
        "colab": {}
      },
      "source": [
        "train_data = pd.read_csv(\"sst2-splited/sst2_full_rev_4k.csv\", index_col=0)\n",
        "train_data.columns = ['text', 'lbl_index']"
      ],
      "execution_count": 0,
      "outputs": []
    },
    {
      "cell_type": "code",
      "metadata": {
        "colab_type": "code",
        "id": "T6qaTsScd1LP",
        "colab": {}
      },
      "source": [
        "test_data = pd.read_csv(\"sst2-splited/test.csv\", sep = '\\t')\n",
        "test_data.columns = ['text', 'lbl_index']"
      ],
      "execution_count": 0,
      "outputs": []
    },
    {
      "cell_type": "code",
      "metadata": {
        "colab_type": "code",
        "id": "pLkY06Qud1LT",
        "colab": {}
      },
      "source": [
        "number_of_attemp_to_fit = 3"
      ],
      "execution_count": 0,
      "outputs": []
    },
    {
      "cell_type": "code",
      "metadata": {
        "colab_type": "code",
        "id": "KHXjNIapd1LV",
        "colab": {}
      },
      "source": [
        "MAX_SEQ_LEN, N_CLASSES = 65, len(train_data.lbl_index.unique())"
      ],
      "execution_count": 0,
      "outputs": []
    },
    {
      "cell_type": "code",
      "metadata": {
        "colab_type": "code",
        "outputId": "b1516bd9-cd96-4e19-ab29-12c622f4ed87",
        "id": "Of6ODPPad1LX",
        "colab": {
          "base_uri": "https://localhost:8080/",
          "height": 1000
        }
      },
      "source": [
        "f1_scores, acc_scores = [], []\n",
        "for _ in range(number_of_attemp_to_fit):\n",
        "  f1_score, acc_score = run_cnn(train_data, test_data, w2v_model, MAX_SEQ_LEN, N_CLASSES )\n",
        "  f1_scores.append(f1_score)\n",
        "  acc_scores.append(acc_score)\n",
        "print(\"f1_average: {}, std:{}\".format(np.mean(f1_scores), np.std(f1_scores)))\n",
        "print(\"acc_average: {}, std:{}\".format(np.mean(acc_scores), np.std(acc_scores)))"
      ],
      "execution_count": 0,
      "outputs": [
        {
          "output_type": "stream",
          "text": [
            "Not found vectors 309 out of 10528 unique words\n",
            "Average sentence len:  18.64375\n",
            "Max sentence len:  50\n",
            "1.730% of tokens were replaced by unk token index\n",
            "Average sentence len:  18.480505216913784\n",
            "Max sentence len:  53\n",
            "8.730% of tokens were replaced by unk token index\n",
            "Train on 4000 samples, validate on 1821 samples\n",
            "Epoch 1/100000\n",
            "4000/4000 [==============================] - 1s 162us/step - loss: 0.6395 - accuracy: 0.6590 - f1: 0.6612 - val_loss: 0.5504 - val_accuracy: 0.8029 - val_f1: 0.8018\n",
            "Epoch 2/100000\n",
            "4000/4000 [==============================] - 0s 83us/step - loss: 0.4319 - accuracy: 0.8493 - f1: 0.8486 - val_loss: 0.4321 - val_accuracy: 0.8127 - val_f1: 0.8113\n",
            "Epoch 3/100000\n",
            "4000/4000 [==============================] - 0s 80us/step - loss: 0.2631 - accuracy: 0.9068 - f1: 0.9070 - val_loss: 0.3861 - val_accuracy: 0.8259 - val_f1: 0.8258\n",
            "Epoch 4/100000\n",
            "4000/4000 [==============================] - 0s 81us/step - loss: 0.1409 - accuracy: 0.9603 - f1: 0.9603 - val_loss: 0.3902 - val_accuracy: 0.8320 - val_f1: 0.8300\n",
            "Epoch 5/100000\n",
            "4000/4000 [==============================] - 0s 79us/step - loss: 0.0597 - accuracy: 0.9885 - f1: 0.9887 - val_loss: 0.4176 - val_accuracy: 0.8281 - val_f1: 0.8262\n",
            "Epoch 6/100000\n",
            "4000/4000 [==============================] - 0s 79us/step - loss: 0.0216 - accuracy: 0.9980 - f1: 0.9980 - val_loss: 0.4321 - val_accuracy: 0.8265 - val_f1: 0.8255\n",
            "Epoch 7/100000\n",
            "4000/4000 [==============================] - 0s 81us/step - loss: 0.0085 - accuracy: 0.9998 - f1: 0.9997 - val_loss: 0.4556 - val_accuracy: 0.8342 - val_f1: 0.8335\n",
            "Epoch 8/100000\n",
            "4000/4000 [==============================] - 0s 80us/step - loss: 0.0045 - accuracy: 0.9998 - f1: 0.9998 - val_loss: 0.4796 - val_accuracy: 0.8281 - val_f1: 0.8281\n",
            "Best F1:0.833, best accuracy:0.834\n",
            "Not found vectors 309 out of 10528 unique words\n",
            "Average sentence len:  18.64375\n",
            "Max sentence len:  50\n",
            "1.730% of tokens were replaced by unk token index\n",
            "Average sentence len:  18.480505216913784\n",
            "Max sentence len:  53\n",
            "8.730% of tokens were replaced by unk token index\n",
            "Train on 4000 samples, validate on 1821 samples\n",
            "Epoch 1/100000\n",
            "4000/4000 [==============================] - 0s 109us/step - loss: 0.6677 - accuracy: 0.5735 - f1: 0.5777 - val_loss: 0.5945 - val_accuracy: 0.7743 - val_f1: 0.7721\n",
            "Epoch 2/100000\n",
            "4000/4000 [==============================] - 0s 81us/step - loss: 0.4861 - accuracy: 0.8422 - f1: 0.8428 - val_loss: 0.4571 - val_accuracy: 0.8105 - val_f1: 0.8082\n",
            "Epoch 3/100000\n",
            "4000/4000 [==============================] - 0s 81us/step - loss: 0.3088 - accuracy: 0.8925 - f1: 0.8928 - val_loss: 0.4033 - val_accuracy: 0.8210 - val_f1: 0.8190\n",
            "Epoch 4/100000\n",
            "4000/4000 [==============================] - 0s 80us/step - loss: 0.1828 - accuracy: 0.9377 - f1: 0.9380 - val_loss: 0.4351 - val_accuracy: 0.8138 - val_f1: 0.8150\n",
            "Epoch 5/100000\n",
            "4000/4000 [==============================] - 0s 79us/step - loss: 0.0944 - accuracy: 0.9730 - f1: 0.9731 - val_loss: 0.4343 - val_accuracy: 0.8204 - val_f1: 0.8209\n",
            "Epoch 6/100000\n",
            "4000/4000 [==============================] - 0s 79us/step - loss: 0.0410 - accuracy: 0.9948 - f1: 0.9948 - val_loss: 0.4449 - val_accuracy: 0.8281 - val_f1: 0.8269\n",
            "Epoch 7/100000\n",
            "4000/4000 [==============================] - 0s 82us/step - loss: 0.0175 - accuracy: 0.9990 - f1: 0.9990 - val_loss: 0.4343 - val_accuracy: 0.8270 - val_f1: 0.8260\n",
            "Epoch 8/100000\n",
            "4000/4000 [==============================] - 0s 79us/step - loss: 0.0082 - accuracy: 0.9998 - f1: 0.9998 - val_loss: 0.4682 - val_accuracy: 0.8259 - val_f1: 0.8242\n",
            "Best F1:0.827, best accuracy:0.828\n",
            "Not found vectors 309 out of 10528 unique words\n",
            "Average sentence len:  18.64375\n",
            "Max sentence len:  50\n",
            "1.730% of tokens were replaced by unk token index\n",
            "Average sentence len:  18.480505216913784\n",
            "Max sentence len:  53\n",
            "8.730% of tokens were replaced by unk token index\n",
            "Train on 4000 samples, validate on 1821 samples\n",
            "Epoch 1/100000\n",
            "4000/4000 [==============================] - 0s 107us/step - loss: 0.6826 - accuracy: 0.5645 - f1: 0.5689 - val_loss: 0.6087 - val_accuracy: 0.7666 - val_f1: 0.7641\n",
            "Epoch 2/100000\n",
            "4000/4000 [==============================] - 0s 82us/step - loss: 0.5169 - accuracy: 0.8023 - f1: 0.8027 - val_loss: 0.4848 - val_accuracy: 0.7985 - val_f1: 0.7975\n",
            "Epoch 3/100000\n",
            "4000/4000 [==============================] - 0s 79us/step - loss: 0.3451 - accuracy: 0.8825 - f1: 0.8828 - val_loss: 0.3928 - val_accuracy: 0.8248 - val_f1: 0.8236\n",
            "Epoch 4/100000\n",
            "4000/4000 [==============================] - 0s 80us/step - loss: 0.2120 - accuracy: 0.9287 - f1: 0.9286 - val_loss: 0.3796 - val_accuracy: 0.8320 - val_f1: 0.8304\n",
            "Epoch 5/100000\n",
            "4000/4000 [==============================] - 0s 81us/step - loss: 0.1101 - accuracy: 0.9693 - f1: 0.9691 - val_loss: 0.3903 - val_accuracy: 0.8281 - val_f1: 0.8277\n",
            "Epoch 6/100000\n",
            "4000/4000 [==============================] - 0s 80us/step - loss: 0.0464 - accuracy: 0.9923 - f1: 0.9924 - val_loss: 0.4315 - val_accuracy: 0.8254 - val_f1: 0.8249\n",
            "Epoch 7/100000\n",
            "4000/4000 [==============================] - 0s 80us/step - loss: 0.0187 - accuracy: 0.9985 - f1: 0.9985 - val_loss: 0.4469 - val_accuracy: 0.8281 - val_f1: 0.8273\n",
            "Epoch 8/100000\n",
            "4000/4000 [==============================] - 0s 80us/step - loss: 0.0086 - accuracy: 0.9995 - f1: 0.9995 - val_loss: 0.4698 - val_accuracy: 0.8254 - val_f1: 0.8249\n",
            "Epoch 9/100000\n",
            "4000/4000 [==============================] - 0s 81us/step - loss: 0.0047 - accuracy: 0.9998 - f1: 0.9998 - val_loss: 0.5145 - val_accuracy: 0.8232 - val_f1: 0.8222\n",
            "Best F1:0.830, best accuracy:0.832\n",
            "f1_average: 0.830263078212738, std:0.0026699925560525685\n",
            "acc_average: 0.8314113020896912, std:0.0024964608282309012\n"
          ],
          "name": "stdout"
        }
      ]
    },
    {
      "cell_type": "code",
      "metadata": {
        "colab_type": "code",
        "outputId": "041c734f-2bab-4143-8c7c-0e58e31efa46",
        "id": "STIt2tTOd1La",
        "colab": {
          "base_uri": "https://localhost:8080/",
          "height": 1000
        }
      },
      "source": [
        "f1_scores, acc_scores = [], []\n",
        "for _ in range(number_of_attemp_to_fit):\n",
        "  f1_score, acc_score = run_lstm(train_data, test_data, w2v_model, MAX_SEQ_LEN, N_CLASSES )\n",
        "  f1_scores.append(f1_score)\n",
        "  acc_scores.append(acc_score)\n",
        "print(\"f1_average: {}, std:{}\".format(np.mean(f1_scores), np.std(f1_scores)))\n",
        "print(\"acc_average: {}, std:{}\".format(np.mean(acc_scores), np.std(acc_scores)))"
      ],
      "execution_count": 0,
      "outputs": [
        {
          "output_type": "stream",
          "text": [
            "Not found vectors 309 out of 10528 unique words\n",
            "Average sentence len:  18.64375\n",
            "Max sentence len:  50\n",
            "1.730% of tokens were replaced by unk token index\n",
            "Average sentence len:  18.480505216913784\n",
            "Max sentence len:  53\n",
            "8.730% of tokens were replaced by unk token index\n",
            "Train on 4000 samples, validate on 1821 samples\n",
            "Epoch 1/100000\n",
            "4000/4000 [==============================] - 5s 1ms/step - loss: 0.6632 - accuracy: 0.6168 - f1: 0.6200 - val_loss: 0.5530 - val_accuracy: 0.7573 - val_f1: 0.7566\n",
            "Epoch 2/100000\n",
            "4000/4000 [==============================] - 4s 973us/step - loss: 0.4995 - accuracy: 0.7793 - f1: 0.7803 - val_loss: 0.4393 - val_accuracy: 0.8023 - val_f1: 0.8013\n",
            "Epoch 3/100000\n",
            "4000/4000 [==============================] - 4s 982us/step - loss: 0.4129 - accuracy: 0.8240 - f1: 0.8245 - val_loss: 0.4443 - val_accuracy: 0.7946 - val_f1: 0.7948\n",
            "Epoch 4/100000\n",
            "4000/4000 [==============================] - 4s 997us/step - loss: 0.3694 - accuracy: 0.8475 - f1: 0.8467 - val_loss: 0.4094 - val_accuracy: 0.8083 - val_f1: 0.8094\n",
            "Epoch 5/100000\n",
            "4000/4000 [==============================] - 4s 996us/step - loss: 0.3427 - accuracy: 0.8580 - f1: 0.8583 - val_loss: 0.4046 - val_accuracy: 0.8034 - val_f1: 0.8038\n",
            "Epoch 6/100000\n",
            "4000/4000 [==============================] - 4s 1ms/step - loss: 0.3195 - accuracy: 0.8695 - f1: 0.8692 - val_loss: 0.4410 - val_accuracy: 0.8018 - val_f1: 0.8004\n",
            "Epoch 7/100000\n",
            "4000/4000 [==============================] - 4s 977us/step - loss: 0.3109 - accuracy: 0.8685 - f1: 0.8682 - val_loss: 0.4591 - val_accuracy: 0.7996 - val_f1: 0.7996\n",
            "Epoch 8/100000\n",
            "4000/4000 [==============================] - 4s 990us/step - loss: 0.2933 - accuracy: 0.8860 - f1: 0.8864 - val_loss: 0.4845 - val_accuracy: 0.7957 - val_f1: 0.7954\n",
            "Epoch 9/100000\n",
            "4000/4000 [==============================] - 4s 999us/step - loss: 0.2633 - accuracy: 0.8935 - f1: 0.8930 - val_loss: 0.4571 - val_accuracy: 0.7908 - val_f1: 0.7918\n",
            "Epoch 10/100000\n",
            "4000/4000 [==============================] - 4s 1ms/step - loss: 0.2362 - accuracy: 0.9080 - f1: 0.9091 - val_loss: 0.5425 - val_accuracy: 0.7886 - val_f1: 0.7883\n",
            "Best F1:0.809, best accuracy:0.808\n",
            "Not found vectors 309 out of 10528 unique words\n",
            "Average sentence len:  18.64375\n",
            "Max sentence len:  50\n",
            "1.730% of tokens were replaced by unk token index\n",
            "Average sentence len:  18.480505216913784\n",
            "Max sentence len:  53\n",
            "8.730% of tokens were replaced by unk token index\n",
            "Train on 4000 samples, validate on 1821 samples\n",
            "Epoch 1/100000\n",
            "4000/4000 [==============================] - 5s 1ms/step - loss: 0.6609 - accuracy: 0.6102 - f1: 0.6135 - val_loss: 0.5526 - val_accuracy: 0.7611 - val_f1: 0.7596\n",
            "Epoch 2/100000\n",
            "4000/4000 [==============================] - 4s 981us/step - loss: 0.4881 - accuracy: 0.7820 - f1: 0.7825 - val_loss: 0.4549 - val_accuracy: 0.7770 - val_f1: 0.7765\n",
            "Epoch 3/100000\n",
            "4000/4000 [==============================] - 4s 999us/step - loss: 0.4055 - accuracy: 0.8188 - f1: 0.8179 - val_loss: 0.4172 - val_accuracy: 0.8040 - val_f1: 0.8035\n",
            "Epoch 4/100000\n",
            "4000/4000 [==============================] - 4s 991us/step - loss: 0.3739 - accuracy: 0.8342 - f1: 0.8345 - val_loss: 0.4327 - val_accuracy: 0.7924 - val_f1: 0.7925\n",
            "Epoch 5/100000\n",
            "4000/4000 [==============================] - 4s 982us/step - loss: 0.3486 - accuracy: 0.8528 - f1: 0.8529 - val_loss: 0.4027 - val_accuracy: 0.8062 - val_f1: 0.8059\n",
            "Epoch 6/100000\n",
            "4000/4000 [==============================] - 4s 994us/step - loss: 0.3266 - accuracy: 0.8583 - f1: 0.8586 - val_loss: 0.4131 - val_accuracy: 0.8149 - val_f1: 0.8141\n",
            "Epoch 7/100000\n",
            "4000/4000 [==============================] - 4s 986us/step - loss: 0.3009 - accuracy: 0.8680 - f1: 0.8681 - val_loss: 0.4499 - val_accuracy: 0.7968 - val_f1: 0.7972\n",
            "Epoch 8/100000\n",
            "4000/4000 [==============================] - 4s 989us/step - loss: 0.2824 - accuracy: 0.8808 - f1: 0.8812 - val_loss: 0.4457 - val_accuracy: 0.8029 - val_f1: 0.8025\n",
            "Epoch 9/100000\n",
            "4000/4000 [==============================] - 4s 990us/step - loss: 0.2784 - accuracy: 0.8798 - f1: 0.8798 - val_loss: 0.4985 - val_accuracy: 0.7858 - val_f1: 0.7858\n",
            "Epoch 10/100000\n",
            "4000/4000 [==============================] - 4s 983us/step - loss: 0.2592 - accuracy: 0.8870 - f1: 0.8871 - val_loss: 0.4559 - val_accuracy: 0.8029 - val_f1: 0.8029\n",
            "Best F1:0.814, best accuracy:0.815\n",
            "Not found vectors 309 out of 10528 unique words\n",
            "Average sentence len:  18.64375\n",
            "Max sentence len:  50\n",
            "1.730% of tokens were replaced by unk token index\n",
            "Average sentence len:  18.480505216913784\n",
            "Max sentence len:  53\n",
            "8.730% of tokens were replaced by unk token index\n",
            "Train on 4000 samples, validate on 1821 samples\n",
            "Epoch 1/100000\n",
            "4000/4000 [==============================] - 5s 1ms/step - loss: 0.6565 - accuracy: 0.6265 - f1: 0.6305 - val_loss: 0.5195 - val_accuracy: 0.7809 - val_f1: 0.7803\n",
            "Epoch 2/100000\n",
            "4000/4000 [==============================] - 4s 960us/step - loss: 0.5300 - accuracy: 0.7600 - f1: 0.7613 - val_loss: 0.5459 - val_accuracy: 0.7584 - val_f1: 0.7599\n",
            "Epoch 3/100000\n",
            "4000/4000 [==============================] - 4s 991us/step - loss: 0.4629 - accuracy: 0.7920 - f1: 0.7929 - val_loss: 0.4515 - val_accuracy: 0.7891 - val_f1: 0.7888\n",
            "Epoch 4/100000\n",
            "4000/4000 [==============================] - 4s 992us/step - loss: 0.3968 - accuracy: 0.8295 - f1: 0.8298 - val_loss: 0.4217 - val_accuracy: 0.8051 - val_f1: 0.8037\n",
            "Epoch 5/100000\n",
            "4000/4000 [==============================] - 4s 981us/step - loss: 0.3571 - accuracy: 0.8430 - f1: 0.8434 - val_loss: 0.4077 - val_accuracy: 0.8133 - val_f1: 0.8130\n",
            "Epoch 6/100000\n",
            "4000/4000 [==============================] - 4s 996us/step - loss: 0.3473 - accuracy: 0.8550 - f1: 0.8554 - val_loss: 0.3956 - val_accuracy: 0.8144 - val_f1: 0.8132\n",
            "Epoch 7/100000\n",
            "4000/4000 [==============================] - 4s 1ms/step - loss: 0.3253 - accuracy: 0.8687 - f1: 0.8679 - val_loss: 0.4294 - val_accuracy: 0.8122 - val_f1: 0.8097\n",
            "Epoch 8/100000\n",
            "4000/4000 [==============================] - 4s 1ms/step - loss: 0.3059 - accuracy: 0.8800 - f1: 0.8800 - val_loss: 0.4278 - val_accuracy: 0.8056 - val_f1: 0.8046\n",
            "Epoch 9/100000\n",
            "4000/4000 [==============================] - 4s 978us/step - loss: 0.2879 - accuracy: 0.8848 - f1: 0.8845 - val_loss: 0.4518 - val_accuracy: 0.8138 - val_f1: 0.8123\n",
            "Epoch 10/100000\n",
            "4000/4000 [==============================] - 4s 999us/step - loss: 0.2789 - accuracy: 0.8880 - f1: 0.8881 - val_loss: 0.4520 - val_accuracy: 0.8034 - val_f1: 0.8026\n",
            "Epoch 11/100000\n",
            "4000/4000 [==============================] - 4s 969us/step - loss: 0.2660 - accuracy: 0.8928 - f1: 0.8928 - val_loss: 0.4562 - val_accuracy: 0.7952 - val_f1: 0.7957\n",
            "Best F1:0.813, best accuracy:0.814\n",
            "f1_average: 0.8122023940086365, std:0.00203711387378493\n",
            "acc_average: 0.8125572005907694, std:0.0029854595714310303\n"
          ],
          "name": "stdout"
        }
      ]
    },
    {
      "cell_type": "markdown",
      "metadata": {
        "id": "AGJCkBsTd4p5",
        "colab_type": "text"
      },
      "source": [
        "### 5000"
      ]
    },
    {
      "cell_type": "code",
      "metadata": {
        "colab_type": "code",
        "id": "KeoevDbEd5CM",
        "colab": {}
      },
      "source": [
        "train_data = pd.read_csv(\"sst2-splited/sst2_full_rev_5k.csv\", index_col=0)\n",
        "train_data.columns = ['text', 'lbl_index']"
      ],
      "execution_count": 0,
      "outputs": []
    },
    {
      "cell_type": "code",
      "metadata": {
        "colab_type": "code",
        "id": "ESrL2JERd5CO",
        "colab": {}
      },
      "source": [
        "test_data = pd.read_csv(\"sst2-splited/test.csv\", sep = '\\t')\n",
        "test_data.columns = ['text', 'lbl_index']"
      ],
      "execution_count": 0,
      "outputs": []
    },
    {
      "cell_type": "code",
      "metadata": {
        "colab_type": "code",
        "id": "V1dqmSOid5CQ",
        "colab": {}
      },
      "source": [
        "number_of_attemp_to_fit = 3"
      ],
      "execution_count": 0,
      "outputs": []
    },
    {
      "cell_type": "code",
      "metadata": {
        "colab_type": "code",
        "id": "fIS-AZ9id5CU",
        "colab": {}
      },
      "source": [
        "MAX_SEQ_LEN, N_CLASSES = 65, len(train_data.lbl_index.unique())"
      ],
      "execution_count": 0,
      "outputs": []
    },
    {
      "cell_type": "code",
      "metadata": {
        "colab_type": "code",
        "outputId": "bbfccad1-8fc5-42ae-85a0-bfd4d8e21544",
        "id": "w9YWpLeHd5CW",
        "colab": {
          "base_uri": "https://localhost:8080/",
          "height": 1000
        }
      },
      "source": [
        "f1_scores, acc_scores = [], []\n",
        "for _ in range(number_of_attemp_to_fit):\n",
        "  f1_score, acc_score = run_cnn(train_data, test_data, w2v_model, MAX_SEQ_LEN, N_CLASSES )\n",
        "  f1_scores.append(f1_score)\n",
        "  acc_scores.append(acc_score)\n",
        "print(\"f1_average: {}, std:{}\".format(np.mean(f1_scores), np.std(f1_scores)))\n",
        "print(\"acc_average: {}, std:{}\".format(np.mean(acc_scores), np.std(acc_scores)))"
      ],
      "execution_count": 0,
      "outputs": [
        {
          "output_type": "stream",
          "text": [
            "Not found vectors 361 out of 11811 unique words\n",
            "Average sentence len:  18.5056\n",
            "Max sentence len:  51\n",
            "1.735% of tokens were replaced by unk token index\n",
            "Average sentence len:  18.480505216913784\n",
            "Max sentence len:  53\n",
            "7.824% of tokens were replaced by unk token index\n",
            "Train on 5000 samples, validate on 1821 samples\n",
            "Epoch 1/100000\n",
            "5000/5000 [==============================] - 1s 115us/step - loss: 0.6494 - accuracy: 0.6352 - f1: 0.6383 - val_loss: 0.5622 - val_accuracy: 0.7655 - val_f1: 0.7654\n",
            "Epoch 2/100000\n",
            "5000/5000 [==============================] - 0s 79us/step - loss: 0.4434 - accuracy: 0.8368 - f1: 0.8375 - val_loss: 0.4211 - val_accuracy: 0.8182 - val_f1: 0.8162\n",
            "Epoch 3/100000\n",
            "5000/5000 [==============================] - 0s 80us/step - loss: 0.2691 - accuracy: 0.8974 - f1: 0.8978 - val_loss: 0.3827 - val_accuracy: 0.8309 - val_f1: 0.8282\n",
            "Epoch 4/100000\n",
            "5000/5000 [==============================] - 0s 78us/step - loss: 0.1442 - accuracy: 0.9536 - f1: 0.9536 - val_loss: 0.4052 - val_accuracy: 0.8314 - val_f1: 0.8307\n",
            "Epoch 5/100000\n",
            "5000/5000 [==============================] - 0s 78us/step - loss: 0.0605 - accuracy: 0.9876 - f1: 0.9876 - val_loss: 0.3839 - val_accuracy: 0.8391 - val_f1: 0.8387\n",
            "Epoch 6/100000\n",
            "5000/5000 [==============================] - 0s 80us/step - loss: 0.0212 - accuracy: 0.9980 - f1: 0.9980 - val_loss: 0.4230 - val_accuracy: 0.8435 - val_f1: 0.8429\n",
            "Epoch 7/100000\n",
            "5000/5000 [==============================] - 0s 78us/step - loss: 0.0091 - accuracy: 0.9994 - f1: 0.9994 - val_loss: 0.4485 - val_accuracy: 0.8391 - val_f1: 0.8387\n",
            "Epoch 8/100000\n",
            "5000/5000 [==============================] - 0s 78us/step - loss: 0.0046 - accuracy: 0.9998 - f1: 0.9998 - val_loss: 0.4801 - val_accuracy: 0.8418 - val_f1: 0.8419\n",
            "Best F1:0.843, best accuracy:0.843\n",
            "Not found vectors 361 out of 11811 unique words\n",
            "Average sentence len:  18.5056\n",
            "Max sentence len:  51\n",
            "1.735% of tokens were replaced by unk token index\n",
            "Average sentence len:  18.480505216913784\n",
            "Max sentence len:  53\n",
            "7.824% of tokens were replaced by unk token index\n",
            "Train on 5000 samples, validate on 1821 samples\n",
            "Epoch 1/100000\n",
            "5000/5000 [==============================] - 1s 101us/step - loss: 0.6442 - accuracy: 0.6298 - f1: 0.6330 - val_loss: 0.5730 - val_accuracy: 0.6914 - val_f1: 0.6894\n",
            "Epoch 2/100000\n",
            "5000/5000 [==============================] - 0s 79us/step - loss: 0.4413 - accuracy: 0.8272 - f1: 0.8281 - val_loss: 0.4109 - val_accuracy: 0.8281 - val_f1: 0.8254\n",
            "Epoch 3/100000\n",
            "5000/5000 [==============================] - 0s 81us/step - loss: 0.2772 - accuracy: 0.8944 - f1: 0.8952 - val_loss: 0.3847 - val_accuracy: 0.8303 - val_f1: 0.8297\n",
            "Epoch 4/100000\n",
            "5000/5000 [==============================] - 0s 79us/step - loss: 0.1551 - accuracy: 0.9518 - f1: 0.9519 - val_loss: 0.3934 - val_accuracy: 0.8364 - val_f1: 0.8350\n",
            "Epoch 5/100000\n",
            "5000/5000 [==============================] - 0s 77us/step - loss: 0.0709 - accuracy: 0.9868 - f1: 0.9868 - val_loss: 0.3819 - val_accuracy: 0.8407 - val_f1: 0.8401\n",
            "Epoch 6/100000\n",
            "5000/5000 [==============================] - 0s 78us/step - loss: 0.0269 - accuracy: 0.9974 - f1: 0.9974 - val_loss: 0.4089 - val_accuracy: 0.8369 - val_f1: 0.8371\n",
            "Epoch 7/100000\n",
            "5000/5000 [==============================] - 0s 77us/step - loss: 0.0112 - accuracy: 0.9996 - f1: 0.9996 - val_loss: 0.4384 - val_accuracy: 0.8391 - val_f1: 0.8390\n",
            "Epoch 8/100000\n",
            "5000/5000 [==============================] - 0s 79us/step - loss: 0.0054 - accuracy: 0.9998 - f1: 0.9998 - val_loss: 0.4701 - val_accuracy: 0.8402 - val_f1: 0.8396\n",
            "Epoch 9/100000\n",
            "5000/5000 [==============================] - 0s 78us/step - loss: 0.0027 - accuracy: 0.9998 - f1: 0.9998 - val_loss: 0.5071 - val_accuracy: 0.8358 - val_f1: 0.8361\n",
            "Epoch 10/100000\n",
            "5000/5000 [==============================] - 0s 78us/step - loss: 0.0016 - accuracy: 1.0000 - f1: 1.0000 - val_loss: 0.5174 - val_accuracy: 0.8380 - val_f1: 0.8381\n",
            "Best F1:0.840, best accuracy:0.841\n",
            "Not found vectors 361 out of 11811 unique words\n",
            "Average sentence len:  18.5056\n",
            "Max sentence len:  51\n",
            "1.735% of tokens were replaced by unk token index\n",
            "Average sentence len:  18.480505216913784\n",
            "Max sentence len:  53\n",
            "7.824% of tokens were replaced by unk token index\n",
            "Train on 5000 samples, validate on 1821 samples\n",
            "Epoch 1/100000\n",
            "5000/5000 [==============================] - 0s 99us/step - loss: 0.6486 - accuracy: 0.5968 - f1: 0.6005 - val_loss: 0.5555 - val_accuracy: 0.7924 - val_f1: 0.7913\n",
            "Epoch 2/100000\n",
            "5000/5000 [==============================] - 0s 79us/step - loss: 0.4399 - accuracy: 0.8378 - f1: 0.8383 - val_loss: 0.4111 - val_accuracy: 0.8281 - val_f1: 0.8262\n",
            "Epoch 3/100000\n",
            "5000/5000 [==============================] - 0s 80us/step - loss: 0.2686 - accuracy: 0.8978 - f1: 0.8980 - val_loss: 0.3780 - val_accuracy: 0.8336 - val_f1: 0.8322\n",
            "Epoch 4/100000\n",
            "5000/5000 [==============================] - 0s 79us/step - loss: 0.1442 - accuracy: 0.9522 - f1: 0.9523 - val_loss: 0.3833 - val_accuracy: 0.8413 - val_f1: 0.8410\n",
            "Epoch 5/100000\n",
            "5000/5000 [==============================] - 0s 79us/step - loss: 0.0589 - accuracy: 0.9890 - f1: 0.9891 - val_loss: 0.3914 - val_accuracy: 0.8375 - val_f1: 0.8376\n",
            "Epoch 6/100000\n",
            "5000/5000 [==============================] - 0s 80us/step - loss: 0.0213 - accuracy: 0.9982 - f1: 0.9982 - val_loss: 0.4190 - val_accuracy: 0.8364 - val_f1: 0.8362\n",
            "Epoch 7/100000\n",
            "5000/5000 [==============================] - 0s 81us/step - loss: 0.0087 - accuracy: 0.9994 - f1: 0.9994 - val_loss: 0.4565 - val_accuracy: 0.8342 - val_f1: 0.8335\n",
            "Epoch 8/100000\n",
            "5000/5000 [==============================] - 0s 81us/step - loss: 0.0040 - accuracy: 0.9998 - f1: 0.9998 - val_loss: 0.4849 - val_accuracy: 0.8358 - val_f1: 0.8349\n",
            "Best F1:0.841, best accuracy:0.841\n",
            "f1_average: 0.8413553237915039, std:0.0011829777990623603\n",
            "acc_average: 0.8418451348940531, std:0.0011862911757648345\n"
          ],
          "name": "stdout"
        }
      ]
    },
    {
      "cell_type": "code",
      "metadata": {
        "colab_type": "code",
        "outputId": "69029fcc-ca5a-4f83-96cd-3a7db4ff2759",
        "id": "cWdodSbcd5CY",
        "colab": {
          "base_uri": "https://localhost:8080/",
          "height": 1000
        }
      },
      "source": [
        "f1_scores, acc_scores = [], []\n",
        "for _ in range(number_of_attemp_to_fit):\n",
        "  f1_score, acc_score = run_lstm(train_data, test_data, w2v_model, MAX_SEQ_LEN, N_CLASSES )\n",
        "  f1_scores.append(f1_score)\n",
        "  acc_scores.append(acc_score)\n",
        "print(\"f1_average: {}, std:{}\".format(np.mean(f1_scores), np.std(f1_scores)))\n",
        "print(\"acc_average: {}, std:{}\".format(np.mean(acc_scores), np.std(acc_scores)))"
      ],
      "execution_count": 0,
      "outputs": [
        {
          "output_type": "stream",
          "text": [
            "Not found vectors 361 out of 11811 unique words\n",
            "Average sentence len:  18.5056\n",
            "Max sentence len:  51\n",
            "1.735% of tokens were replaced by unk token index\n",
            "Average sentence len:  18.480505216913784\n",
            "Max sentence len:  53\n",
            "7.824% of tokens were replaced by unk token index\n",
            "Train on 5000 samples, validate on 1821 samples\n",
            "Epoch 1/100000\n",
            "5000/5000 [==============================] - 6s 1ms/step - loss: 0.6521 - accuracy: 0.6216 - f1: 0.6247 - val_loss: 0.4939 - val_accuracy: 0.7897 - val_f1: 0.7865\n",
            "Epoch 2/100000\n",
            "5000/5000 [==============================] - 5s 976us/step - loss: 0.5075 - accuracy: 0.7662 - f1: 0.7661 - val_loss: 0.4481 - val_accuracy: 0.8105 - val_f1: 0.8102\n",
            "Epoch 3/100000\n",
            "5000/5000 [==============================] - 5s 961us/step - loss: 0.4350 - accuracy: 0.8068 - f1: 0.8067 - val_loss: 0.4637 - val_accuracy: 0.7869 - val_f1: 0.7876\n",
            "Epoch 4/100000\n",
            "5000/5000 [==============================] - 5s 957us/step - loss: 0.3961 - accuracy: 0.8276 - f1: 0.8276 - val_loss: 0.4169 - val_accuracy: 0.8056 - val_f1: 0.8054\n",
            "Epoch 5/100000\n",
            "5000/5000 [==============================] - 5s 960us/step - loss: 0.3667 - accuracy: 0.8416 - f1: 0.8420 - val_loss: 0.3850 - val_accuracy: 0.8182 - val_f1: 0.8182\n",
            "Epoch 6/100000\n",
            "5000/5000 [==============================] - 5s 981us/step - loss: 0.3434 - accuracy: 0.8538 - f1: 0.8537 - val_loss: 0.3953 - val_accuracy: 0.8127 - val_f1: 0.8117\n",
            "Epoch 7/100000\n",
            "5000/5000 [==============================] - 5s 959us/step - loss: 0.3235 - accuracy: 0.8596 - f1: 0.8589 - val_loss: 0.4030 - val_accuracy: 0.8100 - val_f1: 0.8093\n",
            "Epoch 8/100000\n",
            "5000/5000 [==============================] - 5s 961us/step - loss: 0.3062 - accuracy: 0.8706 - f1: 0.8708 - val_loss: 0.4307 - val_accuracy: 0.7941 - val_f1: 0.7928\n",
            "Epoch 9/100000\n",
            "5000/5000 [==============================] - 5s 976us/step - loss: 0.2993 - accuracy: 0.8698 - f1: 0.8695 - val_loss: 0.4447 - val_accuracy: 0.7913 - val_f1: 0.7907\n",
            "Epoch 10/100000\n",
            "5000/5000 [==============================] - 5s 987us/step - loss: 0.2832 - accuracy: 0.8832 - f1: 0.8829 - val_loss: 0.4220 - val_accuracy: 0.8062 - val_f1: 0.8066\n",
            "Best F1:0.818, best accuracy:0.818\n",
            "Not found vectors 361 out of 11811 unique words\n",
            "Average sentence len:  18.5056\n",
            "Max sentence len:  51\n",
            "1.735% of tokens were replaced by unk token index\n",
            "Average sentence len:  18.480505216913784\n",
            "Max sentence len:  53\n",
            "7.824% of tokens were replaced by unk token index\n",
            "Train on 5000 samples, validate on 1821 samples\n",
            "Epoch 1/100000\n",
            "5000/5000 [==============================] - 6s 1ms/step - loss: 0.6377 - accuracy: 0.6468 - f1: 0.6482 - val_loss: 0.4873 - val_accuracy: 0.7886 - val_f1: 0.7871\n",
            "Epoch 2/100000\n",
            "5000/5000 [==============================] - 5s 964us/step - loss: 0.4728 - accuracy: 0.7870 - f1: 0.7871 - val_loss: 0.4332 - val_accuracy: 0.8078 - val_f1: 0.8050\n",
            "Epoch 3/100000\n",
            "5000/5000 [==============================] - 5s 952us/step - loss: 0.4119 - accuracy: 0.8220 - f1: 0.8220 - val_loss: 0.4437 - val_accuracy: 0.7853 - val_f1: 0.7850\n",
            "Epoch 4/100000\n",
            "5000/5000 [==============================] - 5s 1ms/step - loss: 0.3735 - accuracy: 0.8394 - f1: 0.8388 - val_loss: 0.4009 - val_accuracy: 0.8122 - val_f1: 0.8128\n",
            "Epoch 5/100000\n",
            "5000/5000 [==============================] - 5s 980us/step - loss: 0.3565 - accuracy: 0.8450 - f1: 0.8455 - val_loss: 0.4325 - val_accuracy: 0.7853 - val_f1: 0.7854\n",
            "Epoch 6/100000\n",
            "5000/5000 [==============================] - 5s 958us/step - loss: 0.3431 - accuracy: 0.8532 - f1: 0.8532 - val_loss: 0.3921 - val_accuracy: 0.8144 - val_f1: 0.8147\n",
            "Epoch 7/100000\n",
            "5000/5000 [==============================] - 5s 980us/step - loss: 0.3350 - accuracy: 0.8636 - f1: 0.8631 - val_loss: 0.4122 - val_accuracy: 0.8078 - val_f1: 0.8081\n",
            "Epoch 8/100000\n",
            "5000/5000 [==============================] - 5s 960us/step - loss: 0.3164 - accuracy: 0.8694 - f1: 0.8695 - val_loss: 0.4078 - val_accuracy: 0.8007 - val_f1: 0.8002\n",
            "Epoch 9/100000\n",
            "5000/5000 [==============================] - 5s 945us/step - loss: 0.2988 - accuracy: 0.8762 - f1: 0.8759 - val_loss: 0.4233 - val_accuracy: 0.8062 - val_f1: 0.8066\n",
            "Epoch 10/100000\n",
            "5000/5000 [==============================] - 5s 981us/step - loss: 0.2810 - accuracy: 0.8830 - f1: 0.8827 - val_loss: 0.4331 - val_accuracy: 0.8062 - val_f1: 0.8066\n",
            "Epoch 11/100000\n",
            "5000/5000 [==============================] - 5s 996us/step - loss: 0.2630 - accuracy: 0.8910 - f1: 0.8910 - val_loss: 0.4685 - val_accuracy: 0.7957 - val_f1: 0.7942\n",
            "Best F1:0.815, best accuracy:0.814\n",
            "Not found vectors 361 out of 11811 unique words\n",
            "Average sentence len:  18.5056\n",
            "Max sentence len:  51\n",
            "1.735% of tokens were replaced by unk token index\n",
            "Average sentence len:  18.480505216913784\n",
            "Max sentence len:  53\n",
            "7.824% of tokens were replaced by unk token index\n",
            "Train on 5000 samples, validate on 1821 samples\n",
            "Epoch 1/100000\n",
            "5000/5000 [==============================] - 6s 1ms/step - loss: 0.6512 - accuracy: 0.6410 - f1: 0.6433 - val_loss: 0.5024 - val_accuracy: 0.7738 - val_f1: 0.7747\n",
            "Epoch 2/100000\n",
            "5000/5000 [==============================] - 5s 993us/step - loss: 0.4639 - accuracy: 0.7976 - f1: 0.7977 - val_loss: 0.4848 - val_accuracy: 0.7743 - val_f1: 0.7756\n",
            "Epoch 3/100000\n",
            "5000/5000 [==============================] - 5s 953us/step - loss: 0.4057 - accuracy: 0.8224 - f1: 0.8228 - val_loss: 0.4506 - val_accuracy: 0.7858 - val_f1: 0.7862\n",
            "Epoch 4/100000\n",
            "5000/5000 [==============================] - 5s 977us/step - loss: 0.3819 - accuracy: 0.8370 - f1: 0.8369 - val_loss: 0.4400 - val_accuracy: 0.7985 - val_f1: 0.7979\n",
            "Epoch 5/100000\n",
            "5000/5000 [==============================] - 5s 958us/step - loss: 0.3535 - accuracy: 0.8496 - f1: 0.8494 - val_loss: 0.3848 - val_accuracy: 0.8210 - val_f1: 0.8210\n",
            "Epoch 6/100000\n",
            "5000/5000 [==============================] - 5s 964us/step - loss: 0.3274 - accuracy: 0.8596 - f1: 0.8595 - val_loss: 0.4020 - val_accuracy: 0.8100 - val_f1: 0.8101\n",
            "Epoch 7/100000\n",
            "5000/5000 [==============================] - 5s 973us/step - loss: 0.3136 - accuracy: 0.8686 - f1: 0.8689 - val_loss: 0.4306 - val_accuracy: 0.7968 - val_f1: 0.7944\n",
            "Epoch 8/100000\n",
            "5000/5000 [==============================] - 5s 986us/step - loss: 0.2997 - accuracy: 0.8704 - f1: 0.8709 - val_loss: 0.4368 - val_accuracy: 0.7897 - val_f1: 0.7893\n",
            "Epoch 9/100000\n",
            "5000/5000 [==============================] - 5s 986us/step - loss: 0.2785 - accuracy: 0.8866 - f1: 0.8863 - val_loss: 0.4791 - val_accuracy: 0.7913 - val_f1: 0.7907\n",
            "Epoch 10/100000\n",
            "5000/5000 [==============================] - 5s 970us/step - loss: 0.2572 - accuracy: 0.8968 - f1: 0.8977 - val_loss: 0.5292 - val_accuracy: 0.7869 - val_f1: 0.7876\n",
            "Best F1:0.821, best accuracy:0.821\n",
            "f1_average: 0.8179595271746317, std:0.0025546135398444424\n",
            "acc_average: 0.8178656498591105, std:0.002702713805922343\n"
          ],
          "name": "stdout"
        }
      ]
    },
    {
      "cell_type": "markdown",
      "metadata": {
        "id": "SacJHc2ZPKih",
        "colab_type": "text"
      },
      "source": [
        "## EDA with SST"
      ]
    },
    {
      "cell_type": "code",
      "metadata": {
        "id": "irP6y2uW4Tnt",
        "colab_type": "code",
        "colab": {}
      },
      "source": [
        "def read_eda_sst2(file_name):\n",
        "  labels = [i[:-1].split('\\t' )[0] for i in open(file_name, encoding = 'windows-1252').readlines()]\n",
        "  texts = [ i[:-1].split('\\t' )[1] for i in open(file_name, encoding = 'windows-1252').readlines()]\n",
        "  aug  = pd.DataFrame({'text':texts, 'lbl_index': [int(i) for i in labels]})\n",
        "  return aug"
      ],
      "execution_count": 0,
      "outputs": []
    },
    {
      "cell_type": "code",
      "metadata": {
        "id": "jkV9DTj2jTJB",
        "colab_type": "code",
        "colab": {}
      },
      "source": [
        ""
      ],
      "execution_count": 0,
      "outputs": []
    },
    {
      "cell_type": "markdown",
      "metadata": {
        "id": "J7WJYnXnhz_j",
        "colab_type": "text"
      },
      "source": [
        "### 3000"
      ]
    },
    {
      "cell_type": "code",
      "metadata": {
        "id": "wCiRfSAxhnnl",
        "colab_type": "code",
        "colab": {}
      },
      "source": [
        "aug_data = read_eda_sst2('sst2-splited/augmented_with_eda/sst2_full_rev_3k.txt')"
      ],
      "execution_count": 0,
      "outputs": []
    },
    {
      "cell_type": "code",
      "metadata": {
        "colab_type": "code",
        "id": "qK3NOEfvhT68",
        "colab": {}
      },
      "source": [
        "train_data = pd.read_csv(\"sst2-splited/sst2_full_rev_3k.csv\", index_col=0)\n",
        "train_data.columns = ['text', 'lbl_index']"
      ],
      "execution_count": 0,
      "outputs": []
    },
    {
      "cell_type": "code",
      "metadata": {
        "colab_type": "code",
        "id": "FUgH-qc5hT7B",
        "colab": {}
      },
      "source": [
        "test_data = pd.read_csv(\"sst2-splited/test.csv\", sep = '\\t')\n",
        "test_data.columns = ['text', 'lbl_index']"
      ],
      "execution_count": 0,
      "outputs": []
    },
    {
      "cell_type": "code",
      "metadata": {
        "colab_type": "code",
        "id": "lYpPPz4QhT7E",
        "colab": {}
      },
      "source": [
        "number_of_attemp_to_fit = 3"
      ],
      "execution_count": 0,
      "outputs": []
    },
    {
      "cell_type": "code",
      "metadata": {
        "colab_type": "code",
        "id": "8_RA_1M3hT7H",
        "colab": {}
      },
      "source": [
        "MAX_SEQ_LEN, N_CLASSES = 50, len(train_data.lbl_index.unique())"
      ],
      "execution_count": 0,
      "outputs": []
    },
    {
      "cell_type": "code",
      "metadata": {
        "colab_type": "code",
        "outputId": "b07085f8-fc6e-484c-e1db-8c61718d638b",
        "id": "YdVmIxXzh8Lk",
        "colab": {
          "base_uri": "https://localhost:8080/",
          "height": 1000
        }
      },
      "source": [
        "f1_scores, acc_scores = [], []\n",
        "for _ in range(number_of_attemp_to_fit):\n",
        "  f1_score, acc_score = run_cnn(pd.concat([aug_data, train_data]), test_data, w2v_model, MAX_SEQ_LEN, N_CLASSES )\n",
        "  f1_scores.append(f1_score)\n",
        "  acc_scores.append(acc_score)\n",
        "print(\"f1_average: {}, std:{}\".format(np.mean(f1_scores), np.std(f1_scores)))\n",
        "print(\"acc_average: {}, std:{}\".format(np.mean(acc_scores), np.std(acc_scores)))"
      ],
      "execution_count": 0,
      "outputs": [
        {
          "output_type": "stream",
          "text": [
            "Not found vectors 355 out of 11503 unique words\n",
            "Average sentence len:  17.972055555555556\n",
            "Max sentence len:  53\n",
            "1.069% of tokens were replaced by unk token index\n",
            "Average sentence len:  18.480505216913784\n",
            "Max sentence len:  53\n",
            "9.180% of tokens were replaced by unk token index\n",
            "Train on 18000 samples, validate on 1821 samples\n",
            "Epoch 1/100000\n",
            "18000/18000 [==============================] - 2s 85us/step - loss: 0.6401 - accuracy: 0.6474 - f1: 0.6527 - val_loss: 0.6084 - val_accuracy: 0.6711 - val_f1: 0.6749\n",
            "Epoch 2/100000\n",
            "18000/18000 [==============================] - 1s 58us/step - loss: 0.2054 - accuracy: 0.9514 - f1: 0.9526 - val_loss: 0.6133 - val_accuracy: 0.7364 - val_f1: 0.7380\n",
            "Epoch 3/100000\n",
            "18000/18000 [==============================] - 1s 58us/step - loss: 0.0115 - accuracy: 0.9986 - f1: 0.9984 - val_loss: 0.7512 - val_accuracy: 0.7419 - val_f1: 0.7421\n",
            "Epoch 4/100000\n",
            "18000/18000 [==============================] - 1s 58us/step - loss: 0.0015 - accuracy: 0.9999 - f1: 0.9999 - val_loss: 0.8535 - val_accuracy: 0.7392 - val_f1: 0.7397\n",
            "Epoch 5/100000\n",
            "18000/18000 [==============================] - 1s 57us/step - loss: 5.9358e-04 - accuracy: 0.9999 - f1: 0.9999 - val_loss: 0.9288 - val_accuracy: 0.7397 - val_f1: 0.7402\n",
            "Epoch 6/100000\n",
            "18000/18000 [==============================] - 1s 57us/step - loss: 3.9607e-04 - accuracy: 0.9999 - f1: 0.9999 - val_loss: 0.9678 - val_accuracy: 0.7408 - val_f1: 0.7415\n",
            "Best F1:0.742, best accuracy:0.742\n",
            "Not found vectors 355 out of 11503 unique words\n",
            "Average sentence len:  17.972055555555556\n",
            "Max sentence len:  53\n",
            "1.069% of tokens were replaced by unk token index\n",
            "Average sentence len:  18.480505216913784\n",
            "Max sentence len:  53\n",
            "9.180% of tokens were replaced by unk token index\n",
            "Train on 18000 samples, validate on 1821 samples\n",
            "Epoch 1/100000\n",
            "18000/18000 [==============================] - 1s 66us/step - loss: 0.6232 - accuracy: 0.6732 - f1: 0.6773 - val_loss: 0.6037 - val_accuracy: 0.6656 - val_f1: 0.6669\n",
            "Epoch 2/100000\n",
            "18000/18000 [==============================] - 1s 58us/step - loss: 0.1765 - accuracy: 0.9594 - f1: 0.9600 - val_loss: 0.5703 - val_accuracy: 0.7468 - val_f1: 0.7485\n",
            "Epoch 3/100000\n",
            "18000/18000 [==============================] - 1s 58us/step - loss: 0.0110 - accuracy: 0.9989 - f1: 0.9989 - val_loss: 0.7321 - val_accuracy: 0.7348 - val_f1: 0.7330\n",
            "Epoch 4/100000\n",
            "18000/18000 [==============================] - 1s 58us/step - loss: 0.0018 - accuracy: 0.9999 - f1: 0.9999 - val_loss: 0.7539 - val_accuracy: 0.7468 - val_f1: 0.7461\n",
            "Epoch 5/100000\n",
            "18000/18000 [==============================] - 1s 58us/step - loss: 7.5242e-04 - accuracy: 0.9999 - f1: 0.9999 - val_loss: 0.7893 - val_accuracy: 0.7501 - val_f1: 0.7518\n",
            "Epoch 6/100000\n",
            "18000/18000 [==============================] - 1s 58us/step - loss: 4.6326e-04 - accuracy: 0.9999 - f1: 0.9999 - val_loss: 0.8485 - val_accuracy: 0.7452 - val_f1: 0.7466\n",
            "Epoch 7/100000\n",
            "18000/18000 [==============================] - 1s 57us/step - loss: 2.9154e-04 - accuracy: 0.9999 - f1: 0.9999 - val_loss: 0.8861 - val_accuracy: 0.7490 - val_f1: 0.7504\n",
            "Best F1:0.752, best accuracy:0.750\n",
            "Not found vectors 355 out of 11503 unique words\n",
            "Average sentence len:  17.972055555555556\n",
            "Max sentence len:  53\n",
            "1.069% of tokens were replaced by unk token index\n",
            "Average sentence len:  18.480505216913784\n",
            "Max sentence len:  53\n",
            "9.180% of tokens were replaced by unk token index\n",
            "Train on 18000 samples, validate on 1821 samples\n",
            "Epoch 1/100000\n",
            "18000/18000 [==============================] - 1s 64us/step - loss: 0.6194 - accuracy: 0.6828 - f1: 0.6861 - val_loss: 0.6005 - val_accuracy: 0.6733 - val_f1: 0.6721\n",
            "Epoch 2/100000\n",
            "18000/18000 [==============================] - 1s 58us/step - loss: 0.1554 - accuracy: 0.9654 - f1: 0.9662 - val_loss: 0.6518 - val_accuracy: 0.7227 - val_f1: 0.7242\n",
            "Epoch 3/100000\n",
            "18000/18000 [==============================] - 1s 57us/step - loss: 0.0076 - accuracy: 0.9993 - f1: 0.9993 - val_loss: 0.7727 - val_accuracy: 0.7265 - val_f1: 0.7277\n",
            "Epoch 4/100000\n",
            "18000/18000 [==============================] - 1s 58us/step - loss: 0.0016 - accuracy: 0.9999 - f1: 0.9999 - val_loss: 0.7989 - val_accuracy: 0.7342 - val_f1: 0.7368\n",
            "Epoch 5/100000\n",
            "18000/18000 [==============================] - 1s 58us/step - loss: 7.3813e-04 - accuracy: 0.9999 - f1: 0.9999 - val_loss: 0.8342 - val_accuracy: 0.7364 - val_f1: 0.7396\n",
            "Epoch 6/100000\n",
            "18000/18000 [==============================] - 1s 57us/step - loss: 4.9196e-04 - accuracy: 0.9999 - f1: 0.9999 - val_loss: 0.8774 - val_accuracy: 0.7359 - val_f1: 0.7387\n",
            "Best F1:0.740, best accuracy:0.736\n",
            "f1_average: 0.7444866498311361, std:0.005257612979220452\n",
            "acc_average: 0.7428152958552042, std:0.005641952353955746\n"
          ],
          "name": "stdout"
        }
      ]
    },
    {
      "cell_type": "code",
      "metadata": {
        "colab_type": "code",
        "outputId": "724f7c42-a191-4743-a88f-96c750c23fbd",
        "id": "vMfN9Akeh8Ln",
        "colab": {
          "base_uri": "https://localhost:8080/",
          "height": 1000
        }
      },
      "source": [
        "f1_scores, acc_scores = [], []\n",
        "for _ in range(number_of_attemp_to_fit):\n",
        "  f1_score, acc_score = run_lstm(pd.concat([aug_data, train_data]), test_data, w2v_model, MAX_SEQ_LEN, N_CLASSES )\n",
        "  f1_scores.append(f1_score)\n",
        "  acc_scores.append(acc_score)\n",
        "print(\"f1_average: {}, std:{}\".format(np.mean(f1_scores), np.std(f1_scores)))\n",
        "print(\"acc_average: {}, std:{}\".format(np.mean(acc_scores), np.std(acc_scores)))"
      ],
      "execution_count": 0,
      "outputs": [
        {
          "output_type": "stream",
          "text": [
            "Not found vectors 355 out of 11503 unique words\n",
            "Average sentence len:  17.972055555555556\n",
            "Max sentence len:  53\n",
            "1.069% of tokens were replaced by unk token index\n",
            "Average sentence len:  18.480505216913784\n",
            "Max sentence len:  53\n",
            "9.180% of tokens were replaced by unk token index\n",
            "Train on 18000 samples, validate on 1821 samples\n",
            "Epoch 1/100000\n",
            "18000/18000 [==============================] - 14s 791us/step - loss: 0.6597 - accuracy: 0.5952 - f1: 0.5988 - val_loss: 0.6388 - val_accuracy: 0.6282 - val_f1: 0.6309\n",
            "Epoch 2/100000\n",
            "18000/18000 [==============================] - 13s 731us/step - loss: 0.5600 - accuracy: 0.7161 - f1: 0.7148 - val_loss: 0.6803 - val_accuracy: 0.6502 - val_f1: 0.6512\n",
            "Epoch 3/100000\n",
            "18000/18000 [==============================] - 13s 740us/step - loss: 0.4353 - accuracy: 0.7967 - f1: 0.7956 - val_loss: 0.7127 - val_accuracy: 0.6425 - val_f1: 0.6440\n",
            "Epoch 4/100000\n",
            "18000/18000 [==============================] - 13s 742us/step - loss: 0.3193 - accuracy: 0.8610 - f1: 0.8625 - val_loss: 0.9211 - val_accuracy: 0.6463 - val_f1: 0.6474\n",
            "Epoch 5/100000\n",
            "18000/18000 [==============================] - 13s 741us/step - loss: 0.1914 - accuracy: 0.9204 - f1: 0.9214 - val_loss: 1.3796 - val_accuracy: 0.6661 - val_f1: 0.6654\n",
            "Epoch 6/100000\n",
            "18000/18000 [==============================] - 13s 730us/step - loss: 0.1933 - accuracy: 0.9262 - f1: 0.9267 - val_loss: 1.3477 - val_accuracy: 0.6513 - val_f1: 0.6503\n",
            "Best F1:0.665, best accuracy:0.666\n",
            "Not found vectors 355 out of 11503 unique words\n",
            "Average sentence len:  17.972055555555556\n",
            "Max sentence len:  53\n",
            "1.069% of tokens were replaced by unk token index\n",
            "Average sentence len:  18.480505216913784\n",
            "Max sentence len:  53\n",
            "9.180% of tokens were replaced by unk token index\n",
            "Train on 18000 samples, validate on 1821 samples\n",
            "Epoch 1/100000\n",
            "18000/18000 [==============================] - 14s 792us/step - loss: 0.6525 - accuracy: 0.6099 - f1: 0.6138 - val_loss: 0.6958 - val_accuracy: 0.5914 - val_f1: 0.5912\n",
            "Epoch 2/100000\n",
            "18000/18000 [==============================] - 13s 723us/step - loss: 0.5561 - accuracy: 0.7188 - f1: 0.7187 - val_loss: 0.6657 - val_accuracy: 0.6398 - val_f1: 0.6385\n",
            "Epoch 3/100000\n",
            "18000/18000 [==============================] - 13s 727us/step - loss: 0.4643 - accuracy: 0.7831 - f1: 0.7850 - val_loss: 0.7124 - val_accuracy: 0.6612 - val_f1: 0.6633\n",
            "Epoch 4/100000\n",
            "18000/18000 [==============================] - 13s 735us/step - loss: 0.3194 - accuracy: 0.8640 - f1: 0.8651 - val_loss: 0.8887 - val_accuracy: 0.6518 - val_f1: 0.6484\n",
            "Epoch 5/100000\n",
            "18000/18000 [==============================] - 13s 737us/step - loss: 0.1862 - accuracy: 0.9272 - f1: 0.9283 - val_loss: 1.3539 - val_accuracy: 0.6442 - val_f1: 0.6396\n",
            "Epoch 6/100000\n",
            "18000/18000 [==============================] - 13s 719us/step - loss: 0.1371 - accuracy: 0.9465 - f1: 0.9475 - val_loss: 1.4035 - val_accuracy: 0.6579 - val_f1: 0.6589\n",
            "Epoch 7/100000\n",
            "18000/18000 [==============================] - 13s 739us/step - loss: 0.0693 - accuracy: 0.9737 - f1: 0.9740 - val_loss: 1.5315 - val_accuracy: 0.6617 - val_f1: 0.6630\n",
            "Best F1:0.663, best accuracy:0.662\n",
            "Not found vectors 355 out of 11503 unique words\n",
            "Average sentence len:  17.972055555555556\n",
            "Max sentence len:  53\n",
            "1.069% of tokens were replaced by unk token index\n",
            "Average sentence len:  18.480505216913784\n",
            "Max sentence len:  53\n",
            "9.180% of tokens were replaced by unk token index\n",
            "Train on 18000 samples, validate on 1821 samples\n",
            "Epoch 1/100000\n",
            "18000/18000 [==============================] - 14s 786us/step - loss: 0.6589 - accuracy: 0.5963 - f1: 0.6002 - val_loss: 0.6428 - val_accuracy: 0.6431 - val_f1: 0.6449\n",
            "Epoch 2/100000\n",
            "18000/18000 [==============================] - 13s 741us/step - loss: 0.5650 - accuracy: 0.7100 - f1: 0.7092 - val_loss: 0.6487 - val_accuracy: 0.6315 - val_f1: 0.6358\n",
            "Epoch 3/100000\n",
            "18000/18000 [==============================] - 13s 730us/step - loss: 0.4563 - accuracy: 0.7883 - f1: 0.7891 - val_loss: 0.7982 - val_accuracy: 0.6326 - val_f1: 0.6376\n",
            "Epoch 4/100000\n",
            "18000/18000 [==============================] - 13s 728us/step - loss: 0.3495 - accuracy: 0.8447 - f1: 0.8448 - val_loss: 0.8712 - val_accuracy: 0.6271 - val_f1: 0.6280\n",
            "Epoch 5/100000\n",
            "18000/18000 [==============================] - 13s 717us/step - loss: 0.2207 - accuracy: 0.9073 - f1: 0.9071 - val_loss: 1.1120 - val_accuracy: 0.6414 - val_f1: 0.6450\n",
            "Epoch 6/100000\n",
            "18000/18000 [==============================] - 13s 726us/step - loss: 0.1173 - accuracy: 0.9553 - f1: 0.9560 - val_loss: 1.4282 - val_accuracy: 0.6332 - val_f1: 0.6361\n",
            "Best F1:0.645, best accuracy:0.643\n",
            "f1_average: 0.6579078038533529, std:0.00917753768735002\n",
            "acc_average: 0.6569650371869405, std:0.009999247619410213\n"
          ],
          "name": "stdout"
        }
      ]
    },
    {
      "cell_type": "markdown",
      "metadata": {
        "id": "wkoK-QXoiUpA",
        "colab_type": "text"
      },
      "source": [
        "### 4000"
      ]
    },
    {
      "cell_type": "code",
      "metadata": {
        "colab_type": "code",
        "id": "2zRIwHtQibGS",
        "colab": {}
      },
      "source": [
        "aug_data = read_eda_sst2('sst2-splited/augmented_with_eda/sst2_full_rev_4k.txt')"
      ],
      "execution_count": 0,
      "outputs": []
    },
    {
      "cell_type": "code",
      "metadata": {
        "colab_type": "code",
        "id": "WnxkTklxibGV",
        "colab": {}
      },
      "source": [
        "train_data = pd.read_csv(\"sst2-splited/sst2_full_rev_4k.csv\", index_col=0)\n",
        "train_data.columns = ['text', 'lbl_index']"
      ],
      "execution_count": 0,
      "outputs": []
    },
    {
      "cell_type": "code",
      "metadata": {
        "colab_type": "code",
        "id": "V3cjyLwHibGX",
        "colab": {}
      },
      "source": [
        "test_data = pd.read_csv(\"sst2-splited/test.csv\", sep = '\\t')\n",
        "test_data.columns = ['text', 'lbl_index']"
      ],
      "execution_count": 0,
      "outputs": []
    },
    {
      "cell_type": "code",
      "metadata": {
        "colab_type": "code",
        "id": "XeoCAASvibGa",
        "colab": {}
      },
      "source": [
        "number_of_attemp_to_fit = 3"
      ],
      "execution_count": 0,
      "outputs": []
    },
    {
      "cell_type": "code",
      "metadata": {
        "colab_type": "code",
        "id": "hzgVooHribGd",
        "colab": {}
      },
      "source": [
        "MAX_SEQ_LEN, N_CLASSES = 50, len(train_data.lbl_index.unique())"
      ],
      "execution_count": 0,
      "outputs": []
    },
    {
      "cell_type": "code",
      "metadata": {
        "colab_type": "code",
        "outputId": "b02a6d1f-58cd-4a7c-a4e8-38ebc9fd5d69",
        "id": "rgVbDfj0ibGg",
        "colab": {
          "base_uri": "https://localhost:8080/",
          "height": 1000
        }
      },
      "source": [
        "f1_scores, acc_scores = [], []\n",
        "for _ in range(number_of_attemp_to_fit):\n",
        "  f1_score, acc_score = run_cnn(pd.concat([aug_data, train_data]), test_data, w2v_model, MAX_SEQ_LEN, N_CLASSES )\n",
        "  f1_scores.append(f1_score)\n",
        "  acc_scores.append(acc_score)\n",
        "print(\"f1_average: {}, std:{}\".format(np.mean(f1_scores), np.std(f1_scores)))\n",
        "print(\"acc_average: {}, std:{}\".format(np.mean(acc_scores), np.std(acc_scores)))"
      ],
      "execution_count": 0,
      "outputs": [
        {
          "output_type": "stream",
          "text": [
            "Not found vectors 431 out of 13272 unique words\n",
            "Average sentence len:  17.875125\n",
            "Max sentence len:  57\n",
            "1.060% of tokens were replaced by unk token index\n",
            "Average sentence len:  18.480505216913784\n",
            "Max sentence len:  53\n",
            "7.926% of tokens were replaced by unk token index\n",
            "Train on 24000 samples, validate on 1821 samples\n",
            "Epoch 1/100000\n",
            "24000/24000 [==============================] - 2s 66us/step - loss: 0.6071 - accuracy: 0.6803 - f1: 0.6808 - val_loss: 0.5681 - val_accuracy: 0.7068 - val_f1: 0.7109\n",
            "Epoch 2/100000\n",
            "24000/24000 [==============================] - 1s 57us/step - loss: 0.1271 - accuracy: 0.9697 - f1: 0.9698 - val_loss: 0.6031 - val_accuracy: 0.7529 - val_f1: 0.7542\n",
            "Epoch 3/100000\n",
            "24000/24000 [==============================] - 1s 58us/step - loss: 0.0061 - accuracy: 0.9992 - f1: 0.9993 - val_loss: 0.7227 - val_accuracy: 0.7573 - val_f1: 0.7597\n",
            "Epoch 4/100000\n",
            "24000/24000 [==============================] - 1s 57us/step - loss: 9.9055e-04 - accuracy: 0.9999 - f1: 0.9999 - val_loss: 0.7980 - val_accuracy: 0.7606 - val_f1: 0.7622\n",
            "Epoch 5/100000\n",
            "24000/24000 [==============================] - 1s 57us/step - loss: 3.3495e-04 - accuracy: 1.0000 - f1: 1.0000 - val_loss: 0.8791 - val_accuracy: 0.7589 - val_f1: 0.7619\n",
            "Epoch 6/100000\n",
            "24000/24000 [==============================] - 1s 58us/step - loss: 1.5930e-04 - accuracy: 1.0000 - f1: 1.0000 - val_loss: 0.9403 - val_accuracy: 0.7606 - val_f1: 0.7630\n",
            "Best F1:0.763, best accuracy:0.761\n",
            "Not found vectors 431 out of 13272 unique words\n",
            "Average sentence len:  17.875125\n",
            "Max sentence len:  57\n",
            "1.060% of tokens were replaced by unk token index\n",
            "Average sentence len:  18.480505216913784\n",
            "Max sentence len:  53\n",
            "7.926% of tokens were replaced by unk token index\n",
            "Train on 24000 samples, validate on 1821 samples\n",
            "Epoch 1/100000\n",
            "24000/24000 [==============================] - 1s 62us/step - loss: 0.5810 - accuracy: 0.7078 - f1: 0.7083 - val_loss: 0.5763 - val_accuracy: 0.7035 - val_f1: 0.7068\n",
            "Epoch 2/100000\n",
            "24000/24000 [==============================] - 1s 58us/step - loss: 0.0994 - accuracy: 0.9794 - f1: 0.9794 - val_loss: 0.6139 - val_accuracy: 0.7534 - val_f1: 0.7551\n",
            "Epoch 3/100000\n",
            "24000/24000 [==============================] - 1s 58us/step - loss: 0.0053 - accuracy: 0.9994 - f1: 0.9994 - val_loss: 0.7163 - val_accuracy: 0.7468 - val_f1: 0.7477\n",
            "Epoch 4/100000\n",
            "24000/24000 [==============================] - 1s 57us/step - loss: 0.0011 - accuracy: 0.9998 - f1: 0.9998 - val_loss: 0.8003 - val_accuracy: 0.7468 - val_f1: 0.7481\n",
            "Epoch 5/100000\n",
            "24000/24000 [==============================] - 1s 58us/step - loss: 4.5381e-04 - accuracy: 0.9999 - f1: 0.9999 - val_loss: 0.8706 - val_accuracy: 0.7474 - val_f1: 0.7486\n",
            "Epoch 6/100000\n",
            "24000/24000 [==============================] - 1s 57us/step - loss: 2.0212e-04 - accuracy: 1.0000 - f1: 1.0000 - val_loss: 0.9293 - val_accuracy: 0.7463 - val_f1: 0.7476\n",
            "Best F1:0.755, best accuracy:0.753\n",
            "Not found vectors 431 out of 13272 unique words\n",
            "Average sentence len:  17.875125\n",
            "Max sentence len:  57\n",
            "1.060% of tokens were replaced by unk token index\n",
            "Average sentence len:  18.480505216913784\n",
            "Max sentence len:  53\n",
            "7.926% of tokens were replaced by unk token index\n",
            "Train on 24000 samples, validate on 1821 samples\n",
            "Epoch 1/100000\n",
            "24000/24000 [==============================] - 1s 62us/step - loss: 0.5558 - accuracy: 0.7271 - f1: 0.7276 - val_loss: 0.5602 - val_accuracy: 0.7062 - val_f1: 0.7100\n",
            "Epoch 2/100000\n",
            "24000/24000 [==============================] - 1s 58us/step - loss: 0.0711 - accuracy: 0.9861 - f1: 0.9861 - val_loss: 0.6238 - val_accuracy: 0.7534 - val_f1: 0.7563\n",
            "Epoch 3/100000\n",
            "24000/24000 [==============================] - 1s 57us/step - loss: 0.0037 - accuracy: 0.9998 - f1: 0.9998 - val_loss: 0.7311 - val_accuracy: 0.7518 - val_f1: 0.7556\n",
            "Epoch 4/100000\n",
            "24000/24000 [==============================] - 1s 57us/step - loss: 9.0769e-04 - accuracy: 1.0000 - f1: 1.0000 - val_loss: 0.7644 - val_accuracy: 0.7556 - val_f1: 0.7578\n",
            "Epoch 5/100000\n",
            "24000/24000 [==============================] - 1s 57us/step - loss: 3.7711e-04 - accuracy: 1.0000 - f1: 1.0000 - val_loss: 0.8359 - val_accuracy: 0.7578 - val_f1: 0.7594\n",
            "Epoch 6/100000\n",
            "24000/24000 [==============================] - 1s 57us/step - loss: 1.5537e-04 - accuracy: 1.0000 - f1: 1.0000 - val_loss: 0.9053 - val_accuracy: 0.7606 - val_f1: 0.7622\n",
            "Best F1:0.762, best accuracy:0.761\n",
            "f1_average: 0.7601030667622884, std:0.003556535219157058\n",
            "acc_average: 0.7581914663314819, std:0.0033653415598978668\n"
          ],
          "name": "stdout"
        }
      ]
    },
    {
      "cell_type": "code",
      "metadata": {
        "colab_type": "code",
        "outputId": "2f293f3b-3fcf-4933-bf46-d598ab5490fe",
        "id": "KlqohTPEibGi",
        "colab": {
          "base_uri": "https://localhost:8080/",
          "height": 1000
        }
      },
      "source": [
        "f1_scores, acc_scores = [], []\n",
        "for _ in range(number_of_attemp_to_fit):\n",
        "  f1_score, acc_score = run_lstm(pd.concat([aug_data, train_data]), test_data, w2v_model, MAX_SEQ_LEN, N_CLASSES )\n",
        "  f1_scores.append(f1_score)\n",
        "  acc_scores.append(acc_score)\n",
        "print(\"f1_average: {}, std:{}\".format(np.mean(f1_scores), np.std(f1_scores)))\n",
        "print(\"acc_average: {}, std:{}\".format(np.mean(acc_scores), np.std(acc_scores)))"
      ],
      "execution_count": 0,
      "outputs": [
        {
          "output_type": "stream",
          "text": [
            "Not found vectors 431 out of 13272 unique words\n",
            "Average sentence len:  17.875125\n",
            "Max sentence len:  57\n",
            "1.060% of tokens were replaced by unk token index\n",
            "Average sentence len:  18.480505216913784\n",
            "Max sentence len:  53\n",
            "7.926% of tokens were replaced by unk token index\n",
            "Train on 24000 samples, validate on 1821 samples\n",
            "Epoch 1/100000\n",
            "24000/24000 [==============================] - 18s 742us/step - loss: 0.6474 - accuracy: 0.6159 - f1: 0.6160 - val_loss: 0.6530 - val_accuracy: 0.6293 - val_f1: 0.6296\n",
            "Epoch 2/100000\n",
            "24000/24000 [==============================] - 17s 711us/step - loss: 0.5503 - accuracy: 0.7208 - f1: 0.7210 - val_loss: 0.6958 - val_accuracy: 0.6452 - val_f1: 0.6472\n",
            "Epoch 3/100000\n",
            "24000/24000 [==============================] - 17s 711us/step - loss: 0.4115 - accuracy: 0.8091 - f1: 0.8093 - val_loss: 0.8843 - val_accuracy: 0.6458 - val_f1: 0.6446\n",
            "Epoch 4/100000\n",
            "24000/24000 [==============================] - 17s 708us/step - loss: 0.2599 - accuracy: 0.8900 - f1: 0.8901 - val_loss: 1.1095 - val_accuracy: 0.6771 - val_f1: 0.6814\n",
            "Epoch 5/100000\n",
            "24000/24000 [==============================] - 17s 711us/step - loss: 0.1397 - accuracy: 0.9457 - f1: 0.9457 - val_loss: 1.2394 - val_accuracy: 0.6749 - val_f1: 0.6755\n",
            "Epoch 6/100000\n",
            "24000/24000 [==============================] - 17s 703us/step - loss: 0.0726 - accuracy: 0.9722 - f1: 0.9723 - val_loss: 1.4889 - val_accuracy: 0.6826 - val_f1: 0.6843\n",
            "Best F1:0.684, best accuracy:0.683\n",
            "Not found vectors 431 out of 13272 unique words\n",
            "Average sentence len:  17.875125\n",
            "Max sentence len:  57\n",
            "1.060% of tokens were replaced by unk token index\n",
            "Average sentence len:  18.480505216913784\n",
            "Max sentence len:  53\n",
            "7.926% of tokens were replaced by unk token index\n",
            "Train on 24000 samples, validate on 1821 samples\n",
            "Epoch 1/100000\n",
            "24000/24000 [==============================] - 18s 759us/step - loss: 0.6430 - accuracy: 0.6228 - f1: 0.6230 - val_loss: 0.6452 - val_accuracy: 0.6310 - val_f1: 0.6353\n",
            "Epoch 2/100000\n",
            "24000/24000 [==============================] - 17s 714us/step - loss: 0.5327 - accuracy: 0.7362 - f1: 0.7362 - val_loss: 0.6550 - val_accuracy: 0.6387 - val_f1: 0.6422\n",
            "Epoch 3/100000\n",
            "24000/24000 [==============================] - 17s 708us/step - loss: 0.4232 - accuracy: 0.8038 - f1: 0.8039 - val_loss: 0.7281 - val_accuracy: 0.6595 - val_f1: 0.6619\n",
            "Epoch 4/100000\n",
            "24000/24000 [==============================] - 17s 707us/step - loss: 0.2607 - accuracy: 0.8890 - f1: 0.8891 - val_loss: 0.9931 - val_accuracy: 0.6727 - val_f1: 0.6736\n",
            "Epoch 5/100000\n",
            "24000/24000 [==============================] - 17s 714us/step - loss: 0.1453 - accuracy: 0.9418 - f1: 0.9418 - val_loss: 1.1399 - val_accuracy: 0.6727 - val_f1: 0.6759\n",
            "Epoch 6/100000\n",
            "24000/24000 [==============================] - 17s 701us/step - loss: 0.0922 - accuracy: 0.9656 - f1: 0.9656 - val_loss: 1.3046 - val_accuracy: 0.6892 - val_f1: 0.6937\n",
            "Best F1:0.694, best accuracy:0.689\n",
            "Not found vectors 431 out of 13272 unique words\n",
            "Average sentence len:  17.875125\n",
            "Max sentence len:  57\n",
            "1.060% of tokens were replaced by unk token index\n",
            "Average sentence len:  18.480505216913784\n",
            "Max sentence len:  53\n",
            "7.926% of tokens were replaced by unk token index\n",
            "Train on 24000 samples, validate on 1821 samples\n",
            "Epoch 1/100000\n",
            "24000/24000 [==============================] - 18s 743us/step - loss: 0.6397 - accuracy: 0.6269 - f1: 0.6271 - val_loss: 0.6608 - val_accuracy: 0.6118 - val_f1: 0.6147\n",
            "Epoch 2/100000\n",
            "24000/24000 [==============================] - 17s 701us/step - loss: 0.5328 - accuracy: 0.7364 - f1: 0.7365 - val_loss: 0.7458 - val_accuracy: 0.6194 - val_f1: 0.6204\n",
            "Epoch 3/100000\n",
            "24000/24000 [==============================] - 17s 699us/step - loss: 0.3975 - accuracy: 0.8205 - f1: 0.8205 - val_loss: 0.8268 - val_accuracy: 0.6623 - val_f1: 0.6678\n",
            "Epoch 4/100000\n",
            "24000/24000 [==============================] - 17s 710us/step - loss: 0.2405 - accuracy: 0.9009 - f1: 0.9009 - val_loss: 1.0218 - val_accuracy: 0.6749 - val_f1: 0.6748\n",
            "Epoch 5/100000\n",
            "24000/24000 [==============================] - 17s 705us/step - loss: 0.1410 - accuracy: 0.9462 - f1: 0.9462 - val_loss: 1.3566 - val_accuracy: 0.6683 - val_f1: 0.6689\n",
            "Epoch 6/100000\n",
            "24000/24000 [==============================] - 17s 718us/step - loss: 0.0644 - accuracy: 0.9765 - f1: 0.9766 - val_loss: 1.4577 - val_accuracy: 0.6639 - val_f1: 0.6642\n",
            "Best F1:0.675, best accuracy:0.675\n",
            "f1_average: 0.6842607061068217, std:0.007723349798754969\n",
            "acc_average: 0.6822258631388346, std:0.005834664224988125\n"
          ],
          "name": "stdout"
        }
      ]
    },
    {
      "cell_type": "markdown",
      "metadata": {
        "id": "9BIBMocsVRQz",
        "colab_type": "text"
      },
      "source": [
        "### 5000"
      ]
    },
    {
      "cell_type": "code",
      "metadata": {
        "id": "SO8XTNZ3igbJ",
        "colab_type": "code",
        "colab": {}
      },
      "source": [
        ""
      ],
      "execution_count": 0,
      "outputs": []
    },
    {
      "cell_type": "code",
      "metadata": {
        "colab_type": "code",
        "id": "h8pZkW2Tigqq",
        "colab": {}
      },
      "source": [
        "aug_data = read_eda_sst2('sst2-splited/augmented_with_eda/sst2_full_rev_5k.txt')"
      ],
      "execution_count": 0,
      "outputs": []
    },
    {
      "cell_type": "code",
      "metadata": {
        "colab_type": "code",
        "id": "cKujnSGGigqt",
        "colab": {}
      },
      "source": [
        "train_data = pd.read_csv(\"sst2-splited/sst2_full_rev_5k.csv\", index_col=0)\n",
        "train_data.columns = ['text', 'lbl_index']"
      ],
      "execution_count": 0,
      "outputs": []
    },
    {
      "cell_type": "code",
      "metadata": {
        "colab_type": "code",
        "id": "td2kBIa7igqv",
        "colab": {}
      },
      "source": [
        "test_data = pd.read_csv(\"sst2-splited/test.csv\", sep = '\\t')\n",
        "test_data.columns = ['text', 'lbl_index']"
      ],
      "execution_count": 0,
      "outputs": []
    },
    {
      "cell_type": "code",
      "metadata": {
        "colab_type": "code",
        "id": "Q73gfNl9igqx",
        "colab": {}
      },
      "source": [
        "number_of_attemp_to_fit = 3"
      ],
      "execution_count": 0,
      "outputs": []
    },
    {
      "cell_type": "code",
      "metadata": {
        "colab_type": "code",
        "id": "pWhgqzq4igq0",
        "colab": {}
      },
      "source": [
        "MAX_SEQ_LEN, N_CLASSES = 50, len(train_data.lbl_index.unique())"
      ],
      "execution_count": 0,
      "outputs": []
    },
    {
      "cell_type": "code",
      "metadata": {
        "colab_type": "code",
        "outputId": "e5378452-206f-425a-e596-6aab6d346c47",
        "id": "bTgBn-Leigq2",
        "colab": {
          "base_uri": "https://localhost:8080/",
          "height": 1000
        }
      },
      "source": [
        "f1_scores, acc_scores = [], []\n",
        "for _ in range(number_of_attemp_to_fit):\n",
        "  f1_score, acc_score = run_cnn(pd.concat([aug_data, train_data]), test_data, w2v_model, MAX_SEQ_LEN, N_CLASSES )\n",
        "  f1_scores.append(f1_score)\n",
        "  acc_scores.append(acc_score)\n",
        "print(\"f1_average: {}, std:{}\".format(np.mean(f1_scores), np.std(f1_scores)))\n",
        "print(\"acc_average: {}, std:{}\".format(np.mean(acc_scores), np.std(acc_scores)))"
      ],
      "execution_count": 0,
      "outputs": [
        {
          "output_type": "stream",
          "text": [
            "Not found vectors 514 out of 14580 unique words\n",
            "Average sentence len:  17.726650726503586\n",
            "Max sentence len:  54\n",
            "1.077% of tokens were replaced by unk token index\n",
            "Average sentence len:  18.480505216913784\n",
            "Max sentence len:  53\n",
            "7.153% of tokens were replaced by unk token index\n",
            "Train on 27185 samples, validate on 1821 samples\n",
            "Epoch 1/100000\n",
            "27185/27185 [==============================] - 2s 72us/step - loss: 0.5781 - accuracy: 0.7045 - f1: 0.7074 - val_loss: 0.5295 - val_accuracy: 0.7287 - val_f1: 0.7281\n",
            "Epoch 2/100000\n",
            "27185/27185 [==============================] - 2s 59us/step - loss: 0.1078 - accuracy: 0.9724 - f1: 0.9725 - val_loss: 0.5688 - val_accuracy: 0.7738 - val_f1: 0.7739\n",
            "Epoch 3/100000\n",
            "27185/27185 [==============================] - 2s 59us/step - loss: 0.0094 - accuracy: 0.9989 - f1: 0.9989 - val_loss: 0.6436 - val_accuracy: 0.7792 - val_f1: 0.7812\n",
            "Epoch 4/100000\n",
            "27185/27185 [==============================] - 2s 58us/step - loss: 0.0015 - accuracy: 0.9999 - f1: 0.9999 - val_loss: 0.7232 - val_accuracy: 0.7781 - val_f1: 0.7810\n",
            "Epoch 5/100000\n",
            "27185/27185 [==============================] - 2s 58us/step - loss: 4.4436e-04 - accuracy: 1.0000 - f1: 1.0000 - val_loss: 0.7979 - val_accuracy: 0.7792 - val_f1: 0.7815\n",
            "Epoch 6/100000\n",
            "27185/27185 [==============================] - 2s 58us/step - loss: 1.8551e-04 - accuracy: 1.0000 - f1: 1.0000 - val_loss: 0.8649 - val_accuracy: 0.7798 - val_f1: 0.7816\n",
            "Best F1:0.782, best accuracy:0.780\n",
            "Not found vectors 514 out of 14580 unique words\n",
            "Average sentence len:  17.726650726503586\n",
            "Max sentence len:  54\n",
            "1.077% of tokens were replaced by unk token index\n",
            "Average sentence len:  18.480505216913784\n",
            "Max sentence len:  53\n",
            "7.153% of tokens were replaced by unk token index\n",
            "Train on 27185 samples, validate on 1821 samples\n",
            "Epoch 1/100000\n",
            "27185/27185 [==============================] - 2s 62us/step - loss: 0.5852 - accuracy: 0.6946 - f1: 0.6987 - val_loss: 0.5296 - val_accuracy: 0.7287 - val_f1: 0.7339\n",
            "Epoch 2/100000\n",
            "27185/27185 [==============================] - 2s 59us/step - loss: 0.0980 - accuracy: 0.9755 - f1: 0.9756 - val_loss: 0.7768 - val_accuracy: 0.7271 - val_f1: 0.7282\n",
            "Epoch 3/100000\n",
            "27185/27185 [==============================] - 2s 60us/step - loss: 0.0087 - accuracy: 0.9988 - f1: 0.9988 - val_loss: 0.6796 - val_accuracy: 0.7661 - val_f1: 0.7683\n",
            "Epoch 4/100000\n",
            "27185/27185 [==============================] - 2s 58us/step - loss: 0.0013 - accuracy: 1.0000 - f1: 1.0000 - val_loss: 0.7146 - val_accuracy: 0.7688 - val_f1: 0.7727\n",
            "Epoch 5/100000\n",
            "27185/27185 [==============================] - 2s 58us/step - loss: 5.0322e-04 - accuracy: 1.0000 - f1: 1.0000 - val_loss: 0.7619 - val_accuracy: 0.7683 - val_f1: 0.7726\n",
            "Epoch 6/100000\n",
            "27185/27185 [==============================] - 2s 59us/step - loss: 2.6324e-04 - accuracy: 1.0000 - f1: 1.0000 - val_loss: 0.8082 - val_accuracy: 0.7677 - val_f1: 0.7725\n",
            "Best F1:0.773, best accuracy:0.769\n",
            "Not found vectors 514 out of 14580 unique words\n",
            "Average sentence len:  17.726650726503586\n",
            "Max sentence len:  54\n",
            "1.077% of tokens were replaced by unk token index\n",
            "Average sentence len:  18.480505216913784\n",
            "Max sentence len:  53\n",
            "7.153% of tokens were replaced by unk token index\n",
            "Train on 27185 samples, validate on 1821 samples\n",
            "Epoch 1/100000\n",
            "27185/27185 [==============================] - 2s 63us/step - loss: 0.5583 - accuracy: 0.7174 - f1: 0.7215 - val_loss: 0.6021 - val_accuracy: 0.6897 - val_f1: 0.6903\n",
            "Epoch 2/100000\n",
            "27185/27185 [==============================] - 2s 59us/step - loss: 0.0805 - accuracy: 0.9807 - f1: 0.9810 - val_loss: 0.6150 - val_accuracy: 0.7512 - val_f1: 0.7531\n",
            "Epoch 3/100000\n",
            "27185/27185 [==============================] - 2s 59us/step - loss: 0.0056 - accuracy: 0.9993 - f1: 0.9993 - val_loss: 0.7013 - val_accuracy: 0.7639 - val_f1: 0.7640\n",
            "Epoch 4/100000\n",
            "27185/27185 [==============================] - 2s 58us/step - loss: 0.0010 - accuracy: 1.0000 - f1: 1.0000 - val_loss: 0.7557 - val_accuracy: 0.7600 - val_f1: 0.7598\n",
            "Epoch 5/100000\n",
            "27185/27185 [==============================] - 2s 58us/step - loss: 4.9254e-04 - accuracy: 1.0000 - f1: 1.0000 - val_loss: 0.8225 - val_accuracy: 0.7595 - val_f1: 0.7605\n",
            "Epoch 6/100000\n",
            "27185/27185 [==============================] - 2s 58us/step - loss: 2.1516e-04 - accuracy: 1.0000 - f1: 1.0000 - val_loss: 0.8646 - val_accuracy: 0.7611 - val_f1: 0.7619\n",
            "Best F1:0.764, best accuracy:0.764\n",
            "f1_average: 0.7727595567703247, std:0.007210178256275095\n",
            "acc_average: 0.7708218892415365, std:0.0066555446242413325\n"
          ],
          "name": "stdout"
        }
      ]
    },
    {
      "cell_type": "code",
      "metadata": {
        "colab_type": "code",
        "outputId": "e905ee9f-e3c0-4679-e911-3a2b782ed1d7",
        "id": "KDYKU5TNigq4",
        "colab": {
          "base_uri": "https://localhost:8080/",
          "height": 1000
        }
      },
      "source": [
        "f1_scores, acc_scores = [], []\n",
        "for _ in range(number_of_attemp_to_fit):\n",
        "  f1_score, acc_score = run_lstm(pd.concat([aug_data, train_data]), test_data, w2v_model, MAX_SEQ_LEN, N_CLASSES )\n",
        "  f1_scores.append(f1_score)\n",
        "  acc_scores.append(acc_score)\n",
        "print(\"f1_average: {}, std:{}\".format(np.mean(f1_scores), np.std(f1_scores)))\n",
        "print(\"acc_average: {}, std:{}\".format(np.mean(acc_scores), np.std(acc_scores)))"
      ],
      "execution_count": 0,
      "outputs": [
        {
          "output_type": "stream",
          "text": [
            "Not found vectors 514 out of 14580 unique words\n",
            "Average sentence len:  17.726650726503586\n",
            "Max sentence len:  54\n",
            "1.077% of tokens were replaced by unk token index\n",
            "Average sentence len:  18.480505216913784\n",
            "Max sentence len:  53\n",
            "7.153% of tokens were replaced by unk token index\n",
            "Train on 27185 samples, validate on 1821 samples\n",
            "Epoch 1/100000\n",
            "27185/27185 [==============================] - 21s 761us/step - loss: 0.6500 - accuracy: 0.6097 - f1: 0.6111 - val_loss: 0.7131 - val_accuracy: 0.5947 - val_f1: 0.5922\n",
            "Epoch 2/100000\n",
            "27185/27185 [==============================] - 19s 716us/step - loss: 0.5574 - accuracy: 0.7092 - f1: 0.7106 - val_loss: 0.6619 - val_accuracy: 0.6535 - val_f1: 0.6569\n",
            "Epoch 3/100000\n",
            "27185/27185 [==============================] - 20s 732us/step - loss: 0.4343 - accuracy: 0.7925 - f1: 0.7935 - val_loss: 0.7504 - val_accuracy: 0.6727 - val_f1: 0.6744\n",
            "Epoch 4/100000\n",
            "27185/27185 [==============================] - 20s 731us/step - loss: 0.2744 - accuracy: 0.8830 - f1: 0.8839 - val_loss: 0.9457 - val_accuracy: 0.6705 - val_f1: 0.6732\n",
            "Epoch 5/100000\n",
            "27185/27185 [==============================] - 20s 729us/step - loss: 0.1639 - accuracy: 0.9358 - f1: 0.9365 - val_loss: 1.1968 - val_accuracy: 0.6744 - val_f1: 0.6789\n",
            "Epoch 6/100000\n",
            "27185/27185 [==============================] - 20s 722us/step - loss: 0.0804 - accuracy: 0.9708 - f1: 0.9706 - val_loss: 1.1763 - val_accuracy: 0.6952 - val_f1: 0.6987\n",
            "Epoch 7/100000\n",
            "27185/27185 [==============================] - 20s 722us/step - loss: 0.0727 - accuracy: 0.9748 - f1: 0.9753 - val_loss: 1.2234 - val_accuracy: 0.6760 - val_f1: 0.6800\n",
            "Best F1:0.699, best accuracy:0.695\n",
            "Not found vectors 514 out of 14580 unique words\n",
            "Average sentence len:  17.726650726503586\n",
            "Max sentence len:  54\n",
            "1.077% of tokens were replaced by unk token index\n",
            "Average sentence len:  18.480505216913784\n",
            "Max sentence len:  53\n",
            "7.153% of tokens were replaced by unk token index\n",
            "Train on 27185 samples, validate on 1821 samples\n",
            "Epoch 1/100000\n",
            "27185/27185 [==============================] - 21s 768us/step - loss: 0.6558 - accuracy: 0.6067 - f1: 0.6096 - val_loss: 0.7154 - val_accuracy: 0.5991 - val_f1: 0.5965\n",
            "Epoch 2/100000\n",
            "27185/27185 [==============================] - 20s 719us/step - loss: 0.5543 - accuracy: 0.7191 - f1: 0.7190 - val_loss: 0.6242 - val_accuracy: 0.6513 - val_f1: 0.6534\n",
            "Epoch 3/100000\n",
            "27185/27185 [==============================] - 19s 715us/step - loss: 0.4086 - accuracy: 0.8138 - f1: 0.8131 - val_loss: 0.7379 - val_accuracy: 0.6711 - val_f1: 0.6745\n",
            "Epoch 4/100000\n",
            "27185/27185 [==============================] - 20s 720us/step - loss: 0.2568 - accuracy: 0.8932 - f1: 0.8936 - val_loss: 1.0218 - val_accuracy: 0.6672 - val_f1: 0.6679\n",
            "Epoch 5/100000\n",
            "27185/27185 [==============================] - 20s 723us/step - loss: 0.1570 - accuracy: 0.9386 - f1: 0.9393 - val_loss: 1.2764 - val_accuracy: 0.6711 - val_f1: 0.6760\n",
            "Epoch 6/100000\n",
            "27185/27185 [==============================] - 20s 721us/step - loss: 0.0882 - accuracy: 0.9699 - f1: 0.9704 - val_loss: 1.2347 - val_accuracy: 0.6826 - val_f1: 0.6843\n",
            "Epoch 7/100000\n",
            "27185/27185 [==============================] - 19s 711us/step - loss: 0.0522 - accuracy: 0.9813 - f1: 0.9812 - val_loss: 1.3903 - val_accuracy: 0.6661 - val_f1: 0.6712\n",
            "Best F1:0.684, best accuracy:0.683\n",
            "Not found vectors 514 out of 14580 unique words\n",
            "Average sentence len:  17.726650726503586\n",
            "Max sentence len:  54\n",
            "1.077% of tokens were replaced by unk token index\n",
            "Average sentence len:  18.480505216913784\n",
            "Max sentence len:  53\n",
            "7.153% of tokens were replaced by unk token index\n",
            "Train on 27185 samples, validate on 1821 samples\n",
            "Epoch 1/100000\n",
            "27185/27185 [==============================] - 21s 772us/step - loss: 0.6539 - accuracy: 0.6048 - f1: 0.6063 - val_loss: 0.6424 - val_accuracy: 0.6189 - val_f1: 0.6184\n",
            "Epoch 2/100000\n",
            "27185/27185 [==============================] - 20s 723us/step - loss: 0.5531 - accuracy: 0.7145 - f1: 0.7166 - val_loss: 0.6753 - val_accuracy: 0.6507 - val_f1: 0.6525\n",
            "Epoch 3/100000\n",
            "27185/27185 [==============================] - 19s 711us/step - loss: 0.4302 - accuracy: 0.7986 - f1: 0.8003 - val_loss: 0.7293 - val_accuracy: 0.6623 - val_f1: 0.6631\n",
            "Epoch 4/100000\n",
            "27185/27185 [==============================] - 19s 711us/step - loss: 0.2823 - accuracy: 0.8784 - f1: 0.8797 - val_loss: 0.8850 - val_accuracy: 0.6628 - val_f1: 0.6675\n",
            "Epoch 5/100000\n",
            "27185/27185 [==============================] - 19s 716us/step - loss: 0.1496 - accuracy: 0.9425 - f1: 0.9432 - val_loss: 1.0735 - val_accuracy: 0.6875 - val_f1: 0.6891\n",
            "Epoch 6/100000\n",
            "27185/27185 [==============================] - 20s 741us/step - loss: 0.0860 - accuracy: 0.9690 - f1: 0.9692 - val_loss: 1.1407 - val_accuracy: 0.6919 - val_f1: 0.6946\n",
            "Best F1:0.695, best accuracy:0.692\n",
            "f1_average: 0.692522664864858, std:0.006031718775387036\n",
            "acc_average: 0.6899139483769735, std:0.005349301546896869\n"
          ],
          "name": "stdout"
        }
      ]
    },
    {
      "cell_type": "markdown",
      "metadata": {
        "id": "Yljk7RSXO6Mb",
        "colab_type": "text"
      },
      "source": [
        "OLD EDA code without batching embeding vectors"
      ]
    },
    {
      "cell_type": "code",
      "metadata": {
        "id": "j_k9j8niBZIl",
        "colab_type": "code",
        "colab": {}
      },
      "source": [
        "#getting the x and y inputs in numpy array form from the text file\n",
        "def get_x_y(train_data, num_classes, word2vec, word2vec_len=300, input_size=64):\n",
        "  num_lines = train_data.shape[0]\n",
        "\n",
        "  #initialize x and y matrix\n",
        "  x_matrix = None\n",
        "  y_matrix = None\n",
        "\n",
        "  try:\n",
        "    x_matrix = np.zeros((num_lines, input_size, word2vec_len))\n",
        "  except:\n",
        "    print(\"Error!\", num_lines, input_size, word2vec_len)\n",
        "  y_matrix = np.zeros((num_lines, num_classes))\n",
        "  s,d = 0,0\n",
        "  #insert values\n",
        "  for i, line in enumerate(train_data.iterrows()):\n",
        "    label = line[1]['lbl_index']\n",
        "    sentence = line[1]['texts']\n",
        "\n",
        "    #insert x\n",
        "    words = sentence.split(' ')\n",
        "    words = words[:x_matrix.shape[1]] #cut off if too long\n",
        "    for j, word in enumerate(words):\n",
        "      if word in word2vec:\n",
        "        x_matrix[i, j, :] = word2vec[word]\n",
        "        d += 1\n",
        "      else:\n",
        "        s += 1\n",
        "\n",
        "    #insert y\n",
        "    y_matrix[i][label] = 1.0\n",
        "  print('Not found vectors {} out of {} words in dateset'.format(s, d))\n",
        "  return x_matrix, y_matrix"
      ],
      "execution_count": 0,
      "outputs": []
    },
    {
      "cell_type": "code",
      "metadata": {
        "id": "Bf7krrcZBnKN",
        "colab_type": "code",
        "colab": {}
      },
      "source": [
        "###################################################\n",
        "##################### model #######################\n",
        "###################################################\n",
        "\n",
        "#building the model in keras\n",
        "def build_model(sentence_length, word2vec_len, num_classes):\n",
        "\tmodel = None\n",
        "\tmodel = Sequential()\n",
        " \n",
        "\tmodel.add(Bidirectional(LSTM(256, return_sequences=True), input_shape=(sentence_length, word2vec_len)))\n",
        "\tmodel.add(Dropout(0.5))\n",
        "\tmodel.add(Bidirectional(LSTM(128, return_sequences=False)))\n",
        "\tmodel.add(Dropout(0.5))\n",
        "\tmodel.add(Dense(100, activation='relu'))\n",
        "\tmodel.add(Dense(num_classes, kernel_initializer='normal', activation='softmax'))\n",
        "\tmodel.compile(loss='categorical_crossentropy', optimizer='adam', metrics=['accuracy', f1 ])\n",
        "\t#print(model.summary())\n",
        "\treturn model\n",
        "\n",
        "#building the cnn in keras\n",
        "def build_cnn(sentence_length, word2vec_matrix, max_seq_len, num_classes):\n",
        "\tmodel = None\n",
        "\tmodel = Sequential()\n",
        "  model.add(Embedding(word2vec_matrix.shape[0], word2vec_matrix[1], input_length=max_seq_len,  weights=[word2vec_matrix]))\n",
        "\tmodel.add(layers.Conv1D(256, 5, activation='relu', input_shape=(sentence_length, word2vec_len)))\n",
        "\tmodel.add(layers.GlobalMaxPooling1D())\n",
        "\tmodel.add(Dense(100, activation='relu'))\n",
        "\tmodel.add(Dense(num_classes, kernel_initializer='normal', activation='softmax'))\n",
        "\tmodel.compile(loss='categorical_crossentropy', optimizer='adam', metrics=['accuracy', f1])\n",
        "\treturn model"
      ],
      "execution_count": 0,
      "outputs": []
    },
    {
      "cell_type": "code",
      "metadata": {
        "id": "7vWShG8FBjhD",
        "colab_type": "code",
        "colab": {}
      },
      "source": [
        "def run_model(train_data, test_data, num_classes, word2vec, input_size=64, word2vec_len=300):\n",
        "\n",
        "  #initialize model\n",
        "  model = build_model(input_size, word2vec_len, num_classes)\n",
        "\n",
        "  #load data\n",
        "  train_x, train_y = get_x_y(train_data, num_classes, w2v_model)\n",
        "  test_x, test_y = get_x_y(test_data, num_classes, w2v_model)\n",
        "\n",
        "  #implement early stopping\n",
        "  callbacks = [EarlyStopping(monitor='val_loss', patience=5)]\n",
        "\n",
        "  #train model\n",
        "  model.fit(train_x, \n",
        "        train_y, \n",
        "        epochs=100000, \n",
        "        callbacks=callbacks,\n",
        "        validation_data=(test_x, test_y), \n",
        "        batch_size=512, \n",
        "        shuffle=True, \n",
        "        verbose=1)\n",
        "  #model.save('checkpoints/lol')\n",
        "  #model = load_model('checkpoints/lol')\n",
        "\n",
        "  #evaluate model\n",
        "  y_pred = model.predict(test_x)\n",
        "  test_y_cat = one_hot_to_categorical(test_y)\n",
        "  y_pred_cat = one_hot_to_categorical(y_pred)\n",
        "  f1 = f1_score(test_y_cat, y_pred_cat, average='micro')\n",
        "  acc = accuracy_score(test_y_cat, y_pred_cat)\n",
        "\n",
        "  print('Best F1:{}, best accuracy:{}'.format(acc, f1))\n",
        "  return acc"
      ],
      "execution_count": 0,
      "outputs": []
    },
    {
      "cell_type": "code",
      "metadata": {
        "id": "nIrDe2m7Vviu",
        "colab_type": "code",
        "colab": {}
      },
      "source": [
        "def run_cnn(train_data, test_data, num_classes, word2vec, input_size =64, word2vec_len=300):\n",
        "\n",
        "  #initialize model\n",
        "  model = build_cnn(input_size, word2vec_len, num_classes)\n",
        "\n",
        "  #load data\n",
        "  train_x, train_y = get_x_y(train_data, num_classes, w2v_model)\n",
        "  test_x, test_y = get_x_y(test_data, num_classes, w2v_model)\n",
        "\n",
        "  #implement early stopping\n",
        "  callbacks = [EarlyStopping(monitor='val_loss', patience=5)]\n",
        "\n",
        "  #train model\n",
        "  model.fit(\ttrain_x, \n",
        "        train_y, \n",
        "        epochs=100000, \n",
        "        callbacks=callbacks,\n",
        "        validation_data=(test_x, test_y), \n",
        "        batch_size=1024, \n",
        "        shuffle=True, \n",
        "        verbose=1)\n",
        "  #model.save('checkpoints/lol')\n",
        "  #model = load_model('checkpoints/lol')\n",
        "\n",
        "  #evaluate model\n",
        "  \n",
        "  y_pred = model.predict(test_x)\n",
        "  test_y_cat = one_hot_to_categorical(test_y)\n",
        "  y_pred_cat = one_hot_to_categorical(y_pred)\n",
        "  f1 = f1_score(test_y_cat, y_pred_cat, average='micro')\n",
        "  acc = accuracy_score(test_y_cat, y_pred_cat)\n",
        "  \n",
        "  print('Best F1:{}, best accuracy:{}'.format(acc, f1))\n",
        "\n",
        "  #clean memory???\n",
        "  train_x, train_y, model = None, None, None\n",
        "  gc.collect()\n",
        "\n",
        "  #return the accuracy\n",
        "  #print(\"data with shape:\", train_x.shape, train_y.shape, 'train=', train_file, 'test=', test_file, 'with fraction', percent_dataset, 'had acc', acc)\n",
        "  return acc"
      ],
      "execution_count": 0,
      "outputs": []
    },
    {
      "cell_type": "code",
      "metadata": {
        "id": "VuVHzi6zmVq1",
        "colab_type": "code",
        "colab": {}
      },
      "source": [
        ""
      ],
      "execution_count": 0,
      "outputs": []
    },
    {
      "cell_type": "code",
      "metadata": {
        "id": "84eOT_2hlEot",
        "colab_type": "code",
        "outputId": "dcaa3338-581c-4089-9a39-c6b4d2e442f6",
        "colab": {
          "base_uri": "https://localhost:8080/",
          "height": 1000,
          "referenced_widgets": [
            "85526564d7be4f49809799f5011eb0c8",
            "390d75289b82477fad00d1e8442db183",
            "5bc7069f80754c998908155165141b38",
            "15d470c3b0694bba8383605dde844472",
            "fdd697959e7e4f65950cfd845280aa27",
            "ff9ebdc3f94841bf97d987ac4f268af9",
            "8a43cddc576d4d1c9b527a3fed5d012d",
            "35af4186551a45df92cd1fd6fb4f9c17",
            "871e88c5b0b7494386bd0764fde39442",
            "c1df8a9307ae421286dce283de775cd7",
            "1c617008e0d5400287c8e65b728a0aed",
            "2391e246b2544144bebadb99f5b52af7",
            "f67920a624fa49f18629c40520bc796e",
            "625cc82df2604793bcc54052fd918e64",
            "4a31c0882ce7463a80f22aae3f637c42",
            "d14cc95f758149749f313db86871e0eb",
            "efa6d9b4c32341ada427ae00deece104",
            "ec6b2906731946ec9dc5e6ab4900069b",
            "984713c120d54955ab6c33cc17317a42",
            "15f74194e2ab45f18a2b2ff3a9a6aff6",
            "523e9006396c4a4d9ded92829b96c497",
            "6165f7f3a3374f4dad0b88b3d52f481f",
            "90b32fe301874deeb61033add9bc48a6",
            "714f27bff3d0451089fcb76b775299e5",
            "5d9c15b6905d42c7aa9442aaab0d4ba4",
            "fd1ff3ea737942e3ac25ec87ad81fdc1",
            "e55561f2df04497ea13a4bac279174f8",
            "b1a23b6fe3124c10802af9bda23f6e62",
            "ae5de66a61654ff68dd824fd1072cc93",
            "3fe3dafc82f2422db4cf2ba4a852192b",
            "4683e45acae44541bcbfc38c6cf15d8a",
            "e0ad3cc259ad4031811c9c9b47e13c00",
            "516a3eef712f4478bd45435b6752cb0d",
            "dff64391df6643c198415229e2af34bd",
            "b09c911f7a664030a247d46aa2e31ca2",
            "a359c96f132a4374b50200e154881ac6",
            "c2c16eff5ff54180890a70da03ee1d63",
            "5ff3472489254b38a50f88aba0d9d236",
            "d22c47438487437b82350f06344db942",
            "ad24038758d044f6bb9b0e3db4cae80d",
            "1d0b484a0d5c4d8f90c09770116cda5a",
            "09bfb33b99b7479bbf2764b5275e7437",
            "b247b77bb4b24fbc846cfae362f636cc",
            "f284d9e80c124b929ed31489372e2dce",
            "e4bd1c154f1b43f2ac3bf6b73ffc6bfd",
            "3cb83206e0b546c38cb8bb67e6407904",
            "fd8f214a1a86460f870571270a61c7c7",
            "c36efa87db6841e1b3ca24b29bb1649c",
            "e1f45e72db6a4d5d823cd66b313d6763",
            "88c30d3ad9f64c25a54d4687082dda23",
            "6dd277e13bcb4406925f726b281ffc3c",
            "a8b0676505be4fcba99f85691efda6f0",
            "31a923f9216b4590be6a5d55c1c0f5b8",
            "3cbe3349ad844d59a805ffce779d387c",
            "16b314abff084042b9299ae367f1154b",
            "b31889154ef241a99d4feae4d4ede970",
            "dad6b6b4cd094a24a91f735a9aebad72",
            "66170716de1b4f4b9279fdc529e95e25",
            "3c68287d3ae74f7db19d37ccf69d554f",
            "823328e71b964a129f309a6e41961596",
            "3d5703ed9c7b47208f122af31ec789e8",
            "bd26b9004ebb40a5a92d6c1e64941e6a",
            "b5d98aa9d46e4a9e9a2ba9c91dac8898",
            "cbf14c5c291540a5a60313fffaa9b93f",
            "0fdc4d05ee4c48d3907402b04ab52e86",
            "9425e2a636c94d1185b7cdccc12b3578",
            "2fb3ea548b46433787752860a150ecc2",
            "16c234f169e84d658cf8b7c9b9c7bb5d",
            "b8556ff465614b7fa0c7240914bb3657",
            "d1a69a0f8d58483fb8490cad0d71a2a7",
            "f3aac2069a4b4d6c9728e3c27be63dcc",
            "492988fee2314b3f8b009abad1ee3b88",
            "9a7e3a27ef8f481996d3dd6b714f7db1",
            "6e3f4ff5502648f78551375fd62f509f",
            "10abdb9a759d432eb377921d8a13e9d4",
            "8c04344a2530406f844cd6c31601718b",
            "ad4c117df4cd4c26a79572b4d9636af1",
            "939f35158af8412184a833080e09e499",
            "6656adc1aea743fabb51b631c11e57e6",
            "84ec4895396944ada39b0246052a8db4",
            "e62f6e70daed46ad81b1593afa02dcc7",
            "9e2eb3dfc63247ee820223fa9e7383db",
            "e96de17b72f54666a0bc61a8f0184841",
            "279d21867a364c02999a7c6107920fae",
            "60ed8673082340ac898a71899e741710",
            "833b6f582cb84f73bed390291baca133",
            "ff44124f8426426bb5a384ea1715bf40",
            "bc488d8f542f40b394ac01c20d0dc7bc",
            "ff636af25839437e89d6680ee717163c",
            "91771d3ee4ab4444a1d91cc25e1ae764",
            "aa41ba9291db447e8460525bee7779ac",
            "1577034936d54a528309a66b4d1f7d5e",
            "e3c8187f31924fbfab8a843eb499ef02",
            "10be7f2986274586988dbb12e5a3b35d",
            "6e29724c470649e3be9d84a714db26a6",
            "e16381d1705c489c9fd4f9b0fa052daf"
          ]
        }
      },
      "source": [
        "import os\n",
        "\n",
        "import tensorflow as tf\n",
        "import tensorflow_datasets\n",
        "\n",
        "from transformers import (\n",
        "    BertConfig,\n",
        "    BertForSequenceClassification,\n",
        "    BertTokenizer,\n",
        "    TFBertForSequenceClassification,\n",
        "    glue_convert_examples_to_features,\n",
        "    glue_processors,\n",
        ")\n",
        "\n",
        "\n",
        "# script parameters\n",
        "BATCH_SIZE = 32\n",
        "EVAL_BATCH_SIZE = BATCH_SIZE * 2\n",
        "\n",
        "EPOCHS = 5\n",
        "\n",
        "TASK = \"sst-2\"\n",
        "num_labels = 2\n",
        "\n",
        "tf.config.optimizer.set_jit(False)\n",
        "tf.config.optimizer.set_experimental_options({\"auto_mixed_precision\": False})\n",
        "\n",
        "# Load tokenizer and model from pretrained model/vocabulary. Specify the number of labels to classify (2+: classification, 1: regression)\n",
        "config = BertConfig.from_pretrained(\"bert-base-cased\", num_labels=num_labels)\n",
        "tokenizer = BertTokenizer.from_pretrained(\"bert-base-cased\")\n",
        "model = TFBertForSequenceClassification.from_pretrained(\"bert-base-cased\", config=config) #build_cnn()\n",
        "\n",
        "\n",
        "# Load dataset via TensorFlow Datasets\n",
        "data, info = tensorflow_datasets.load(f\"glue/sst2\", with_info=True)\n",
        "train_examples = 6000#info.splits[\"train\"].num_examples\n",
        "print(train_examples)\n",
        "\n",
        "# MNLI expects either validation_matched or validation_mismatched\n",
        "valid_examples = info.splits[\"validation\"].num_examples\n",
        "print(info.splits[\"validation\"].num_examples)\n",
        "\n",
        "# Prepare dataset for GLUE as a tf.data.Dataset instance\n",
        "train_dataset = glue_convert_examples_to_features(data[\"train\"], tokenizer, max_length=128, task=TASK)\n",
        "\n",
        "# MNLI expects either validation_matched or validation_mismatched\n",
        "valid_dataset = glue_convert_examples_to_features(data[\"validation\"], tokenizer, max_length=128, task=TASK)\n",
        "train_dataset = train_dataset.shuffle(128).take(train_examples).batch(BATCH_SIZE).repeat(-1)\n",
        "valid_dataset = valid_dataset.batch(EVAL_BATCH_SIZE)\n",
        "\n",
        "# Prepare training: Compile tf.keras model with optimizer, loss and learning rate schedule\n",
        "opt = tf.keras.optimizers.Adam(learning_rate=3e-5, epsilon=1e-08)\n",
        "\n",
        "\n",
        "loss = tf.keras.losses.SparseCategoricalCrossentropy(from_logits=True)\n",
        "\n",
        "metric = tf.keras.metrics.SparseCategoricalAccuracy(\"accuracy\")\n",
        "model.compile(optimizer=opt, loss=loss, metrics=[metric, f1])\n",
        "\n",
        "# Train and evaluate using tf.keras.Model.fit()\n",
        "train_steps = train_examples // BATCH_SIZE\n",
        "valid_steps = valid_examples // EVAL_BATCH_SIZE\n",
        "\n",
        "history = model.fit(\n",
        "    train_dataset,\n",
        "    epochs=EPOCHS,\n",
        "    steps_per_epoch=train_steps,\n",
        "    validation_data=valid_dataset,\n",
        "    validation_steps=valid_steps,\n",
        ")"
      ],
      "execution_count": 0,
      "outputs": [
        {
          "output_type": "display_data",
          "data": {
            "application/vnd.jupyter.widget-view+json": {
              "model_id": "85526564d7be4f49809799f5011eb0c8",
              "version_minor": 0,
              "version_major": 2
            },
            "text/plain": [
              "HBox(children=(FloatProgress(value=0.0, description='Downloading', max=433.0, style=ProgressStyle(description_…"
            ]
          },
          "metadata": {
            "tags": []
          }
        },
        {
          "output_type": "stream",
          "text": [
            "\n"
          ],
          "name": "stdout"
        },
        {
          "output_type": "display_data",
          "data": {
            "application/vnd.jupyter.widget-view+json": {
              "model_id": "871e88c5b0b7494386bd0764fde39442",
              "version_minor": 0,
              "version_major": 2
            },
            "text/plain": [
              "HBox(children=(FloatProgress(value=0.0, description='Downloading', max=213450.0, style=ProgressStyle(descripti…"
            ]
          },
          "metadata": {
            "tags": []
          }
        },
        {
          "output_type": "stream",
          "text": [
            "\n"
          ],
          "name": "stdout"
        },
        {
          "output_type": "display_data",
          "data": {
            "application/vnd.jupyter.widget-view+json": {
              "model_id": "efa6d9b4c32341ada427ae00deece104",
              "version_minor": 0,
              "version_major": 2
            },
            "text/plain": [
              "HBox(children=(FloatProgress(value=0.0, description='Downloading', max=526681800.0, style=ProgressStyle(descri…"
            ]
          },
          "metadata": {
            "tags": []
          }
        },
        {
          "output_type": "stream",
          "text": [
            "\n"
          ],
          "name": "stdout"
        },
        {
          "output_type": "stream",
          "text": [
            "INFO:absl:Load pre-computed datasetinfo (eg: splits) from bucket.\n",
            "INFO:absl:Loading info from GCS for glue/sst2/1.0.0\n",
            "INFO:absl:Field info.description from disk and from code do not match. Keeping the one from code.\n",
            "INFO:absl:Field info.location from disk and from code do not match. Keeping the one from code.\n",
            "INFO:absl:Generating dataset glue (/root/tensorflow_datasets/glue/sst2/1.0.0)\n"
          ],
          "name": "stderr"
        },
        {
          "output_type": "stream",
          "text": [
            "\u001b[1mDownloading and preparing dataset glue/sst2/1.0.0 (download: 7.09 MiB, generated: Unknown size, total: 7.09 MiB) to /root/tensorflow_datasets/glue/sst2/1.0.0...\u001b[0m\n"
          ],
          "name": "stdout"
        },
        {
          "output_type": "display_data",
          "data": {
            "application/vnd.jupyter.widget-view+json": {
              "model_id": "5d9c15b6905d42c7aa9442aaab0d4ba4",
              "version_minor": 0,
              "version_major": 2
            },
            "text/plain": [
              "HBox(children=(FloatProgress(value=1.0, bar_style='info', description='Dl Completed...', max=1.0, style=Progre…"
            ]
          },
          "metadata": {
            "tags": []
          }
        },
        {
          "output_type": "display_data",
          "data": {
            "application/vnd.jupyter.widget-view+json": {
              "model_id": "516a3eef712f4478bd45435b6752cb0d",
              "version_minor": 0,
              "version_major": 2
            },
            "text/plain": [
              "HBox(children=(FloatProgress(value=1.0, bar_style='info', description='Dl Size...', max=1.0, style=ProgressSty…"
            ]
          },
          "metadata": {
            "tags": []
          }
        },
        {
          "output_type": "display_data",
          "data": {
            "application/vnd.jupyter.widget-view+json": {
              "model_id": "1d0b484a0d5c4d8f90c09770116cda5a",
              "version_minor": 0,
              "version_major": 2
            },
            "text/plain": [
              "HBox(children=(FloatProgress(value=1.0, bar_style='info', description='Extraction completed...', max=1.0, styl…"
            ]
          },
          "metadata": {
            "tags": []
          }
        },
        {
          "output_type": "stream",
          "text": [
            "INFO:absl:Downloading https://firebasestorage.googleapis.com/v0/b/mtl-sentence-representations.appspot.com/o/data%2FSST-2.zip?alt=media&token=aabc5f6b-e466-44a2-b9b4-cf6337f84ac8 into /root/tensorflow_datasets/downloads/fire.goog.com_v0_b_mtl-sent-repr.apps.cowOhVrpNUsvqdZqI70Nq3ISu63l9SOhTqYqoz6uEW3-Y.zipalt=media&token=aabc5f6b-e466-44a2-b9b4-cf6337f84ac8.tmp.f383cd306f334141ab36fd7d0f8787c6...\n",
            "/usr/local/lib/python3.6/dist-packages/urllib3/connectionpool.py:847: InsecureRequestWarning: Unverified HTTPS request is being made. Adding certificate verification is strongly advised. See: https://urllib3.readthedocs.io/en/latest/advanced-usage.html#ssl-warnings\n",
            "  InsecureRequestWarning)\n",
            "INFO:absl:Generating split train\n"
          ],
          "name": "stderr"
        },
        {
          "output_type": "stream",
          "text": [
            "\n",
            "\n",
            "\n",
            "\n",
            "\n",
            "\n"
          ],
          "name": "stdout"
        },
        {
          "output_type": "display_data",
          "data": {
            "application/vnd.jupyter.widget-view+json": {
              "model_id": "e1f45e72db6a4d5d823cd66b313d6763",
              "version_minor": 0,
              "version_major": 2
            },
            "text/plain": [
              "HBox(children=(FloatProgress(value=1.0, bar_style='info', max=1.0), HTML(value='')))"
            ]
          },
          "metadata": {
            "tags": []
          }
        },
        {
          "output_type": "stream",
          "text": [
            "\rShuffling and writing examples to /root/tensorflow_datasets/glue/sst2/1.0.0.incompleteP8IX4E/glue-train.tfrecord\n"
          ],
          "name": "stdout"
        },
        {
          "output_type": "display_data",
          "data": {
            "application/vnd.jupyter.widget-view+json": {
              "model_id": "dad6b6b4cd094a24a91f735a9aebad72",
              "version_minor": 0,
              "version_major": 2
            },
            "text/plain": [
              "HBox(children=(FloatProgress(value=0.0, max=67349.0), HTML(value='')))"
            ]
          },
          "metadata": {
            "tags": []
          }
        },
        {
          "output_type": "stream",
          "text": [
            "INFO:absl:Done writing /root/tensorflow_datasets/glue/sst2/1.0.0.incompleteP8IX4E/glue-train.tfrecord. Shard lengths: [67349]\n",
            "INFO:absl:Generating split validation\n"
          ],
          "name": "stderr"
        },
        {
          "output_type": "stream",
          "text": [
            "\r"
          ],
          "name": "stdout"
        },
        {
          "output_type": "display_data",
          "data": {
            "application/vnd.jupyter.widget-view+json": {
              "model_id": "0fdc4d05ee4c48d3907402b04ab52e86",
              "version_minor": 0,
              "version_major": 2
            },
            "text/plain": [
              "HBox(children=(FloatProgress(value=1.0, bar_style='info', max=1.0), HTML(value='')))"
            ]
          },
          "metadata": {
            "tags": []
          }
        },
        {
          "output_type": "stream",
          "text": [
            "\rShuffling and writing examples to /root/tensorflow_datasets/glue/sst2/1.0.0.incompleteP8IX4E/glue-validation.tfrecord\n"
          ],
          "name": "stdout"
        },
        {
          "output_type": "display_data",
          "data": {
            "application/vnd.jupyter.widget-view+json": {
              "model_id": "9a7e3a27ef8f481996d3dd6b714f7db1",
              "version_minor": 0,
              "version_major": 2
            },
            "text/plain": [
              "HBox(children=(FloatProgress(value=0.0, max=872.0), HTML(value='')))"
            ]
          },
          "metadata": {
            "tags": []
          }
        },
        {
          "output_type": "stream",
          "text": [
            "INFO:absl:Done writing /root/tensorflow_datasets/glue/sst2/1.0.0.incompleteP8IX4E/glue-validation.tfrecord. Shard lengths: [872]\n",
            "INFO:absl:Generating split test\n"
          ],
          "name": "stderr"
        },
        {
          "output_type": "display_data",
          "data": {
            "application/vnd.jupyter.widget-view+json": {
              "model_id": "e62f6e70daed46ad81b1593afa02dcc7",
              "version_minor": 0,
              "version_major": 2
            },
            "text/plain": [
              "HBox(children=(FloatProgress(value=1.0, bar_style='info', max=1.0), HTML(value='')))"
            ]
          },
          "metadata": {
            "tags": []
          }
        },
        {
          "output_type": "stream",
          "text": [
            "\rShuffling and writing examples to /root/tensorflow_datasets/glue/sst2/1.0.0.incompleteP8IX4E/glue-test.tfrecord\n"
          ],
          "name": "stdout"
        },
        {
          "output_type": "display_data",
          "data": {
            "application/vnd.jupyter.widget-view+json": {
              "model_id": "ff636af25839437e89d6680ee717163c",
              "version_minor": 0,
              "version_major": 2
            },
            "text/plain": [
              "HBox(children=(FloatProgress(value=0.0, max=1821.0), HTML(value='')))"
            ]
          },
          "metadata": {
            "tags": []
          }
        },
        {
          "output_type": "stream",
          "text": [
            "INFO:absl:Done writing /root/tensorflow_datasets/glue/sst2/1.0.0.incompleteP8IX4E/glue-test.tfrecord. Shard lengths: [1821]\n",
            "INFO:absl:Skipping computing stats for mode ComputeStatsMode.AUTO.\n",
            "INFO:absl:Constructing tf.data.Dataset for split None, from /root/tensorflow_datasets/glue/sst2/1.0.0\n"
          ],
          "name": "stderr"
        },
        {
          "output_type": "stream",
          "text": [
            "\r\u001b[1mDataset glue downloaded and prepared to /root/tensorflow_datasets/glue/sst2/1.0.0. Subsequent calls will reuse this data.\u001b[0m\n",
            "6000\n",
            "872\n",
            "Epoch 1/5\n",
            "187/187 [==============================] - 199s 1s/step - loss: 0.3466 - accuracy: 0.8509 - f1: 0.6644 - val_loss: 0.3620 - val_accuracy: 0.8474 - val_f1: 0.7192\n",
            "Epoch 2/5\n",
            "187/187 [==============================] - 198s 1s/step - loss: 0.1543 - accuracy: 0.9452 - f1: 0.7082 - val_loss: 0.3197 - val_accuracy: 0.8858 - val_f1: 0.6761\n",
            "Epoch 3/5\n",
            "187/187 [==============================] - 196s 1s/step - loss: 0.0734 - accuracy: 0.9762 - f1: 0.7150 - val_loss: 0.3237 - val_accuracy: 0.8918 - val_f1: 0.6659\n",
            "Epoch 4/5\n",
            "187/187 [==============================] - 196s 1s/step - loss: 0.0654 - accuracy: 0.9787 - f1: 0.7133 - val_loss: 0.4249 - val_accuracy: 0.8858 - val_f1: 0.6710\n",
            "Epoch 5/5\n",
            "187/187 [==============================] - 196s 1s/step - loss: 0.0353 - accuracy: 0.9891 - f1: 0.7133 - val_loss: 0.4886 - val_accuracy: 0.8882 - val_f1: 0.6751\n"
          ],
          "name": "stdout"
        }
      ]
    },
    {
      "cell_type": "markdown",
      "metadata": {
        "id": "GaeXR94x7oVi",
        "colab_type": "text"
      },
      "source": [
        ""
      ]
    },
    {
      "cell_type": "markdown",
      "metadata": {
        "id": "5liShnW1FK6B",
        "colab_type": "text"
      },
      "source": [
        "# SST2 aug bert "
      ]
    },
    {
      "cell_type": "code",
      "metadata": {
        "id": "rVTp10lLFmKc",
        "colab_type": "code",
        "colab": {}
      },
      "source": [
        "import pandas as pd\n",
        "def read_sst(file_name):\n",
        "  i2l = {1:\"pos\", 0:\"neg\"}\n",
        "  train_data = pd.read_csv(file_name, index_col=0)\n",
        "  train_data.columns = ['text', 'lbl_index']\n",
        "  train_data[\"labels\"] = train_data.lbl_index.apply(lambda x:i2l[x])\n",
        "  test_data = pd.read_csv(\"sst2-splited/test.csv\", sep = '\\t')\n",
        "  test_data.columns = ['text', 'lbl_index']\n",
        "  test_data[\"labels\"] = test_data.lbl_index.apply(lambda x:i2l[x])\n",
        "  return train_data, test_data, {i:j for j,i in i2l.items()}"
      ],
      "execution_count": 0,
      "outputs": []
    },
    {
      "cell_type": "markdown",
      "metadata": {
        "id": "ARA9mPgZFRTw",
        "colab_type": "text"
      },
      "source": [
        "## 3k"
      ]
    },
    {
      "cell_type": "code",
      "metadata": {
        "id": "VRSqhr5_GkfU",
        "colab_type": "code",
        "colab": {}
      },
      "source": [
        "!ls"
      ],
      "execution_count": 0,
      "outputs": []
    },
    {
      "cell_type": "code",
      "metadata": {
        "id": "s085aMqfRZJA",
        "colab_type": "code",
        "colab": {}
      },
      "source": [
        "train_data, test_data, l2i = read_sst('sst2-splited/sst2_full_rev_3k.csv')"
      ],
      "execution_count": 0,
      "outputs": []
    },
    {
      "cell_type": "code",
      "metadata": {
        "colab_type": "code",
        "id": "oRBLnOyuSb4b",
        "colab": {}
      },
      "source": [
        "from glob import glob \n",
        "files = glob('./sst2-splited/sst_Splited_3k_bert_*')\n",
        "all_augs = pd.concat([pd.read_csv(i, index_col=0) for i in files])"
      ],
      "execution_count": 0,
      "outputs": []
    },
    {
      "cell_type": "code",
      "metadata": {
        "id": "lxdk6yhVG5d6",
        "colab_type": "code",
        "colab": {}
      },
      "source": [
        "MAX_SEQ_LEN, N_CLASSES = 50, len(train_data.lbl_index.unique())"
      ],
      "execution_count": 0,
      "outputs": []
    },
    {
      "cell_type": "code",
      "metadata": {
        "colab_type": "code",
        "outputId": "0dafde70-d21a-44ff-91e7-e53a7a6b7a20",
        "id": "26jAkjnbGwii",
        "colab": {
          "base_uri": "https://localhost:8080/",
          "height": 207
        }
      },
      "source": [
        "f1_score, acc_score, aug_lstm, w2i = re_fit_lstm(pd.concat([all_augs[:500000], train_data]), test_data, w2v_model, MAX_SEQ_LEN, N_CLASSES, epochs=1)"
      ],
      "execution_count": 0,
      "outputs": [
        {
          "output_type": "stream",
          "text": [
            "Not found vectors 266487 out of 392639 unique words\n",
            "Average sentence len:  19.741760992003904\n",
            "Max sentence len:  79\n",
            "8.959% of tokens were replaced by unk token index\n",
            "Average sentence len:  18.480505216913784\n",
            "Max sentence len:  53\n",
            "2.606% of tokens were replaced by unk token index\n",
            "Train on 475482 samples, validate on 1821 samples\n",
            "Epoch 1/1\n",
            "475482/475482 [==============================] - 288s 606us/step - loss: 0.5164 - accuracy: 0.7399 - f1: 0.7399 - val_loss: 0.4367 - val_accuracy: 0.7957 - val_f1: 0.7939\n",
            "Best F1:0.794, best accuracy:0.796\n"
          ],
          "name": "stdout"
        }
      ]
    },
    {
      "cell_type": "code",
      "metadata": {
        "colab_type": "code",
        "outputId": "9e53c9b4-d126-4762-f59d-34720ee2133e",
        "id": "NKzApCqIGwil",
        "colab": {
          "base_uri": "https://localhost:8080/",
          "height": 363
        }
      },
      "source": [
        "f1_score, acc_score, res_lstm, _ = re_fit_lstm(train_data, test_data, w2v_model, MAX_SEQ_LEN, N_CLASSES, model=aug_lstm, word2ind_aug=w2i)"
      ],
      "execution_count": 0,
      "outputs": [
        {
          "output_type": "stream",
          "text": [
            "Average sentence len:  18.787333333333333\n",
            "Max sentence len:  50\n",
            "1.728% of tokens were replaced by unk token index\n",
            "Average sentence len:  18.480505216913784\n",
            "Max sentence len:  53\n",
            "2.606% of tokens were replaced by unk token index\n",
            "Train on 3000 samples, validate on 1821 samples\n",
            "Epoch 1/100\n",
            "3000/3000 [==============================] - 2s 662us/step - loss: 0.4122 - accuracy: 0.8023 - f1: 0.8027 - val_loss: 0.4180 - val_accuracy: 0.8012 - val_f1: 0.8003\n",
            "Epoch 2/100\n",
            "3000/3000 [==============================] - 2s 670us/step - loss: 0.3711 - accuracy: 0.8293 - f1: 0.8289 - val_loss: 0.4264 - val_accuracy: 0.8051 - val_f1: 0.8037\n",
            "Epoch 3/100\n",
            "3000/3000 [==============================] - 2s 682us/step - loss: 0.3214 - accuracy: 0.8623 - f1: 0.8625 - val_loss: 0.4242 - val_accuracy: 0.8160 - val_f1: 0.8119\n",
            "Epoch 4/100\n",
            "3000/3000 [==============================] - 2s 656us/step - loss: 0.2651 - accuracy: 0.8887 - f1: 0.8886 - val_loss: 0.4522 - val_accuracy: 0.8111 - val_f1: 0.8099\n",
            "Epoch 5/100\n",
            "3000/3000 [==============================] - 2s 657us/step - loss: 0.2074 - accuracy: 0.9200 - f1: 0.9199 - val_loss: 0.5537 - val_accuracy: 0.8078 - val_f1: 0.8062\n",
            "Epoch 6/100\n",
            "3000/3000 [==============================] - 2s 649us/step - loss: 0.1581 - accuracy: 0.9433 - f1: 0.9434 - val_loss: 0.5981 - val_accuracy: 0.8040 - val_f1: 0.8016\n",
            "Best F1:0.812, best accuracy:0.816\n"
          ],
          "name": "stdout"
        }
      ]
    },
    {
      "cell_type": "code",
      "metadata": {
        "colab_type": "code",
        "outputId": "a45f3610-93dc-4718-b87e-e98ebf9e9e49",
        "id": "jIJavLNXHMUn",
        "colab": {
          "base_uri": "https://localhost:8080/",
          "height": 207
        }
      },
      "source": [
        "f1_score, acc_score, aug_cnn, w2i = re_fit_cnn(pd.concat([all_augs[:500000], train_data]), test_data, w2v_model, MAX_SEQ_LEN, N_CLASSES, epochs=1)"
      ],
      "execution_count": 0,
      "outputs": [
        {
          "output_type": "stream",
          "text": [
            "Not found vectors 266487 out of 392639 unique words\n",
            "Average sentence len:  19.741760992003904\n",
            "Max sentence len:  79\n",
            "8.959% of tokens were replaced by unk token index\n",
            "Average sentence len:  18.480505216913784\n",
            "Max sentence len:  53\n",
            "2.606% of tokens were replaced by unk token index\n",
            "Train on 475482 samples, validate on 1821 samples\n",
            "Epoch 1/1\n",
            "475482/475482 [==============================] - 28s 59us/step - loss: 0.4303 - accuracy: 0.7943 - f1: 0.7943 - val_loss: 0.3501 - val_accuracy: 0.8369 - val_f1: 0.8379\n",
            "Best F1:0.838, best accuracy:0.837\n"
          ],
          "name": "stdout"
        }
      ]
    },
    {
      "cell_type": "code",
      "metadata": {
        "colab_type": "code",
        "outputId": "4c854156-c455-4567-9d44-5bbf6b84c4b9",
        "id": "bjLkrd9jHMUq",
        "colab": {
          "base_uri": "https://localhost:8080/",
          "height": 363
        }
      },
      "source": [
        "f1_score, acc_score, res_cnn, _ = re_fit_cnn(train_data, test_data, w2v_model, MAX_SEQ_LEN, N_CLASSES, model=aug_cnn, word2ind_aug=w2i)"
      ],
      "execution_count": 0,
      "outputs": [
        {
          "output_type": "stream",
          "text": [
            "Average sentence len:  18.787333333333333\n",
            "Max sentence len:  50\n",
            "1.728% of tokens were replaced by unk token index\n",
            "Average sentence len:  18.480505216913784\n",
            "Max sentence len:  53\n",
            "2.606% of tokens were replaced by unk token index\n",
            "Train on 3000 samples, validate on 1821 samples\n",
            "Epoch 1/100\n",
            "3000/3000 [==============================] - 0s 68us/step - loss: 0.2293 - accuracy: 0.9107 - f1: 0.9105 - val_loss: 0.3375 - val_accuracy: 0.8418 - val_f1: 0.8415\n",
            "Epoch 2/100\n",
            "3000/3000 [==============================] - 0s 55us/step - loss: 0.1571 - accuracy: 0.9447 - f1: 0.9447 - val_loss: 0.3566 - val_accuracy: 0.8484 - val_f1: 0.8477\n",
            "Epoch 3/100\n",
            "3000/3000 [==============================] - 0s 56us/step - loss: 0.0820 - accuracy: 0.9800 - f1: 0.9803 - val_loss: 0.3772 - val_accuracy: 0.8550 - val_f1: 0.8551\n",
            "Epoch 4/100\n",
            "3000/3000 [==============================] - 0s 55us/step - loss: 0.0341 - accuracy: 0.9953 - f1: 0.9954 - val_loss: 0.3999 - val_accuracy: 0.8528 - val_f1: 0.8532\n",
            "Epoch 5/100\n",
            "3000/3000 [==============================] - 0s 56us/step - loss: 0.0154 - accuracy: 0.9980 - f1: 0.9980 - val_loss: 0.4393 - val_accuracy: 0.8539 - val_f1: 0.8546\n",
            "Epoch 6/100\n",
            "3000/3000 [==============================] - 0s 55us/step - loss: 0.0074 - accuracy: 0.9993 - f1: 0.9993 - val_loss: 0.4662 - val_accuracy: 0.8550 - val_f1: 0.8559\n",
            "Best F1:0.856, best accuracy:0.855\n"
          ],
          "name": "stdout"
        }
      ]
    },
    {
      "cell_type": "markdown",
      "metadata": {
        "id": "nTwnj56oFT47",
        "colab_type": "text"
      },
      "source": [
        "## 4k"
      ]
    },
    {
      "cell_type": "code",
      "metadata": {
        "id": "Qat5jMivFVuO",
        "colab_type": "code",
        "colab": {}
      },
      "source": [
        ""
      ],
      "execution_count": 0,
      "outputs": []
    },
    {
      "cell_type": "code",
      "metadata": {
        "colab_type": "code",
        "id": "31eAYf7RK3kL",
        "colab": {}
      },
      "source": [
        "train_data, test_data, l2i = read_sst('sst2-splited/sst2_full_rev_4k.csv')"
      ],
      "execution_count": 0,
      "outputs": []
    },
    {
      "cell_type": "code",
      "metadata": {
        "colab_type": "code",
        "id": "WNhBPUcWK3kO",
        "colab": {}
      },
      "source": [
        "from glob import glob \n",
        "files = glob('./sst2-splited/sst_Splited_4k_bert_*')\n",
        "all_augs = pd.concat([pd.read_csv(i, index_col=0) for i in files])"
      ],
      "execution_count": 0,
      "outputs": []
    },
    {
      "cell_type": "code",
      "metadata": {
        "colab_type": "code",
        "id": "hob9E2ukK3kQ",
        "colab": {}
      },
      "source": [
        "MAX_SEQ_LEN, N_CLASSES = 50, len(train_data.lbl_index.unique())"
      ],
      "execution_count": 0,
      "outputs": []
    },
    {
      "cell_type": "code",
      "metadata": {
        "colab_type": "code",
        "id": "ITuiZbmMK3kS",
        "outputId": "27f55741-0444-4e56-d8da-3e9fcfe4a4bf",
        "colab": {
          "base_uri": "https://localhost:8080/",
          "height": 207
        }
      },
      "source": [
        "f1_score, acc_score, aug_lstm, w2i = re_fit_lstm(pd.concat([all_augs[:500000], train_data]), test_data, w2v_model, MAX_SEQ_LEN, N_CLASSES, epochs=1)"
      ],
      "execution_count": 0,
      "outputs": [
        {
          "output_type": "stream",
          "text": [
            "Not found vectors 267107 out of 393569 unique words\n",
            "Average sentence len:  19.725626621384794\n",
            "Max sentence len:  79\n",
            "8.950% of tokens were replaced by unk token index\n",
            "Average sentence len:  18.480505216913784\n",
            "Max sentence len:  53\n",
            "2.529% of tokens were replaced by unk token index\n",
            "Train on 477601 samples, validate on 1821 samples\n",
            "Epoch 1/1\n",
            "477601/477601 [==============================] - 295s 618us/step - loss: 0.5064 - accuracy: 0.7458 - f1: 0.7458 - val_loss: 0.4314 - val_accuracy: 0.7979 - val_f1: 0.7981\n",
            "Best F1:0.798, best accuracy:0.798\n"
          ],
          "name": "stdout"
        }
      ]
    },
    {
      "cell_type": "code",
      "metadata": {
        "colab_type": "code",
        "id": "vi1O2AIMK3kV",
        "outputId": "21500e45-849b-4034-87b9-b96f0fcafa68",
        "colab": {
          "base_uri": "https://localhost:8080/",
          "height": 432
        }
      },
      "source": [
        "f1_score, acc_score, res_lstm, _ = re_fit_lstm(train_data, test_data, w2v_model, MAX_SEQ_LEN, N_CLASSES, model=aug_lstm, word2ind_aug=w2i)"
      ],
      "execution_count": 0,
      "outputs": [
        {
          "output_type": "stream",
          "text": [
            "Average sentence len:  18.64375\n",
            "Max sentence len:  50\n",
            "1.730% of tokens were replaced by unk token index\n",
            "Average sentence len:  18.480505216913784\n",
            "Max sentence len:  53\n",
            "2.529% of tokens were replaced by unk token index\n",
            "Train on 4000 samples, validate on 1821 samples\n",
            "Epoch 1/100\n",
            "4000/4000 [==============================] - 3s 665us/step - loss: 0.3986 - accuracy: 0.8185 - f1: 0.8184 - val_loss: 0.4313 - val_accuracy: 0.7952 - val_f1: 0.7938\n",
            "Epoch 2/100\n",
            "4000/4000 [==============================] - 3s 662us/step - loss: 0.3513 - accuracy: 0.8438 - f1: 0.8440 - val_loss: 0.4332 - val_accuracy: 0.8034 - val_f1: 0.8015\n",
            "Epoch 3/100\n",
            "4000/4000 [==============================] - 3s 671us/step - loss: 0.3105 - accuracy: 0.8673 - f1: 0.8673 - val_loss: 0.4217 - val_accuracy: 0.8243 - val_f1: 0.8212\n",
            "Epoch 4/100\n",
            "4000/4000 [==============================] - 3s 676us/step - loss: 0.2451 - accuracy: 0.8992 - f1: 0.9003 - val_loss: 0.4672 - val_accuracy: 0.8248 - val_f1: 0.8252\n",
            "Epoch 5/100\n",
            "4000/4000 [==============================] - 3s 672us/step - loss: 0.1770 - accuracy: 0.9312 - f1: 0.9316 - val_loss: 0.5587 - val_accuracy: 0.8116 - val_f1: 0.8104\n",
            "Epoch 6/100\n",
            "4000/4000 [==============================] - 3s 668us/step - loss: 0.1553 - accuracy: 0.9383 - f1: 0.9387 - val_loss: 0.5661 - val_accuracy: 0.8089 - val_f1: 0.8091\n",
            "Epoch 7/100\n",
            "4000/4000 [==============================] - 3s 666us/step - loss: 0.0971 - accuracy: 0.9665 - f1: 0.9667 - val_loss: 0.8326 - val_accuracy: 0.8034 - val_f1: 0.8026\n",
            "Epoch 8/100\n",
            "4000/4000 [==============================] - 3s 661us/step - loss: 0.0645 - accuracy: 0.9808 - f1: 0.9810 - val_loss: 0.9220 - val_accuracy: 0.7902 - val_f1: 0.7890\n",
            "Best F1:0.825, best accuracy:0.825\n"
          ],
          "name": "stdout"
        }
      ]
    },
    {
      "cell_type": "code",
      "metadata": {
        "colab_type": "code",
        "id": "-M8irdb_K3kX",
        "outputId": "8e138349-a1ea-4114-8cf6-6e67c45fa0f4",
        "colab": {
          "base_uri": "https://localhost:8080/",
          "height": 207
        }
      },
      "source": [
        "f1_score, acc_score, aug_cnn, w2i = re_fit_cnn(pd.concat([all_augs[:500000], train_data]), test_data, w2v_model, MAX_SEQ_LEN, N_CLASSES, epochs=1)"
      ],
      "execution_count": 0,
      "outputs": [
        {
          "output_type": "stream",
          "text": [
            "Not found vectors 267107 out of 393569 unique words\n",
            "Average sentence len:  19.725626621384794\n",
            "Max sentence len:  79\n",
            "8.950% of tokens were replaced by unk token index\n",
            "Average sentence len:  18.480505216913784\n",
            "Max sentence len:  53\n",
            "2.529% of tokens were replaced by unk token index\n",
            "Train on 477601 samples, validate on 1821 samples\n",
            "Epoch 1/1\n",
            "477601/477601 [==============================] - 24s 50us/step - loss: 0.4204 - accuracy: 0.7983 - f1: 0.7983 - val_loss: 0.3430 - val_accuracy: 0.8435 - val_f1: 0.8437\n",
            "Best F1:0.844, best accuracy:0.843\n"
          ],
          "name": "stdout"
        }
      ]
    },
    {
      "cell_type": "code",
      "metadata": {
        "colab_type": "code",
        "id": "48wal_eVK3kZ",
        "outputId": "d31e7ed7-927c-4d64-a39b-d7c16fd07f20",
        "colab": {
          "base_uri": "https://localhost:8080/",
          "height": 363
        }
      },
      "source": [
        "f1_score, acc_score, res_cnn, _ = re_fit_cnn(train_data, test_data, w2v_model, MAX_SEQ_LEN, N_CLASSES, model=aug_cnn, word2ind_aug=w2i)"
      ],
      "execution_count": 0,
      "outputs": [
        {
          "output_type": "stream",
          "text": [
            "Average sentence len:  18.64375\n",
            "Max sentence len:  50\n",
            "1.730% of tokens were replaced by unk token index\n",
            "Average sentence len:  18.480505216913784\n",
            "Max sentence len:  53\n",
            "2.529% of tokens were replaced by unk token index\n",
            "Train on 4000 samples, validate on 1821 samples\n",
            "Epoch 1/100\n",
            "4000/4000 [==============================] - 0s 63us/step - loss: 0.2226 - accuracy: 0.9180 - f1: 0.9182 - val_loss: 0.3461 - val_accuracy: 0.8462 - val_f1: 0.8477\n",
            "Epoch 2/100\n",
            "4000/4000 [==============================] - 0s 57us/step - loss: 0.1458 - accuracy: 0.9530 - f1: 0.9530 - val_loss: 0.3677 - val_accuracy: 0.8468 - val_f1: 0.8470\n",
            "Epoch 3/100\n",
            "4000/4000 [==============================] - 0s 55us/step - loss: 0.0694 - accuracy: 0.9847 - f1: 0.9846 - val_loss: 0.4022 - val_accuracy: 0.8440 - val_f1: 0.8446\n",
            "Epoch 4/100\n",
            "4000/4000 [==============================] - 0s 55us/step - loss: 0.0294 - accuracy: 0.9942 - f1: 0.9943 - val_loss: 0.4523 - val_accuracy: 0.8424 - val_f1: 0.8428\n",
            "Epoch 5/100\n",
            "4000/4000 [==============================] - 0s 54us/step - loss: 0.0117 - accuracy: 0.9987 - f1: 0.9988 - val_loss: 0.4798 - val_accuracy: 0.8457 - val_f1: 0.8457\n",
            "Epoch 6/100\n",
            "4000/4000 [==============================] - 0s 55us/step - loss: 0.0056 - accuracy: 0.9995 - f1: 0.9995 - val_loss: 0.5151 - val_accuracy: 0.8468 - val_f1: 0.8463\n",
            "Best F1:0.848, best accuracy:0.847\n"
          ],
          "name": "stdout"
        }
      ]
    },
    {
      "cell_type": "markdown",
      "metadata": {
        "id": "4tCojuwjFWDN",
        "colab_type": "text"
      },
      "source": [
        "## 5k"
      ]
    },
    {
      "cell_type": "code",
      "metadata": {
        "id": "XMfrDu9kFYAB",
        "colab_type": "code",
        "colab": {}
      },
      "source": [
        ""
      ],
      "execution_count": 0,
      "outputs": []
    },
    {
      "cell_type": "code",
      "metadata": {
        "colab_type": "code",
        "id": "8uYwuSymK8y8",
        "colab": {}
      },
      "source": [
        "train_data, test_data, l2i = read_sst('sst2-splited/sst2_full_rev_5k.csv')"
      ],
      "execution_count": 0,
      "outputs": []
    },
    {
      "cell_type": "code",
      "metadata": {
        "colab_type": "code",
        "id": "iOyLj8VKK8y-",
        "colab": {}
      },
      "source": [
        "from glob import glob \n",
        "files = glob('./sst2-splited/sst_Splited_4k_bert_*')\n",
        "all_augs = pd.concat([pd.read_csv(i, index_col=0) for i in files])"
      ],
      "execution_count": 0,
      "outputs": []
    },
    {
      "cell_type": "code",
      "metadata": {
        "colab_type": "code",
        "id": "0nOFYgPVK8zA",
        "colab": {}
      },
      "source": [
        "MAX_SEQ_LEN, N_CLASSES = 50, len(train_data.lbl_index.unique())"
      ],
      "execution_count": 0,
      "outputs": []
    },
    {
      "cell_type": "code",
      "metadata": {
        "colab_type": "code",
        "id": "QBgYeCZkK8zC",
        "outputId": "16f044f4-ec84-4bd3-b8e7-427688092d0c",
        "colab": {
          "base_uri": "https://localhost:8080/",
          "height": 207
        }
      },
      "source": [
        "f1_score, acc_score, aug_lstm, w2i = re_fit_lstm(pd.concat([all_augs[:500000], train_data]), test_data, w2v_model, MAX_SEQ_LEN, N_CLASSES, epochs=1)"
      ],
      "execution_count": 0,
      "outputs": [
        {
          "output_type": "stream",
          "text": [
            "Not found vectors 267156 out of 393779 unique words\n",
            "Average sentence len:  19.72192285431915\n",
            "Max sentence len:  79\n",
            "8.937% of tokens were replaced by unk token index\n",
            "Average sentence len:  18.480505216913784\n",
            "Max sentence len:  53\n",
            "2.449% of tokens were replaced by unk token index\n",
            "Train on 478601 samples, validate on 1821 samples\n",
            "Epoch 1/1\n",
            "478601/478601 [==============================] - 291s 608us/step - loss: 0.5105 - accuracy: 0.7429 - f1: 0.7429 - val_loss: 0.4264 - val_accuracy: 0.8105 - val_f1: 0.8113\n",
            "Best F1:0.811, best accuracy:0.811\n"
          ],
          "name": "stdout"
        }
      ]
    },
    {
      "cell_type": "code",
      "metadata": {
        "colab_type": "code",
        "id": "OV390o-MK8zD",
        "outputId": "337fdd09-3612-4660-ec9e-d39027bd5b1e",
        "colab": {
          "base_uri": "https://localhost:8080/",
          "height": 397
        }
      },
      "source": [
        "f1_score, acc_score, res_lstm, _ = re_fit_lstm(train_data, test_data, w2v_model, MAX_SEQ_LEN, N_CLASSES, model=aug_lstm, word2ind_aug=w2i)"
      ],
      "execution_count": 0,
      "outputs": [
        {
          "output_type": "stream",
          "text": [
            "Average sentence len:  18.5056\n",
            "Max sentence len:  51\n",
            "1.735% of tokens were replaced by unk token index\n",
            "Average sentence len:  18.480505216913784\n",
            "Max sentence len:  53\n",
            "2.449% of tokens were replaced by unk token index\n",
            "Train on 5000 samples, validate on 1821 samples\n",
            "Epoch 1/100\n",
            "5000/5000 [==============================] - 3s 636us/step - loss: 0.4093 - accuracy: 0.8080 - f1: 0.8080 - val_loss: 0.4270 - val_accuracy: 0.8001 - val_f1: 0.7997\n",
            "Epoch 2/100\n",
            "5000/5000 [==============================] - 3s 652us/step - loss: 0.3552 - accuracy: 0.8386 - f1: 0.8385 - val_loss: 0.4048 - val_accuracy: 0.8193 - val_f1: 0.8172\n",
            "Epoch 3/100\n",
            "5000/5000 [==============================] - 3s 654us/step - loss: 0.3028 - accuracy: 0.8710 - f1: 0.8711 - val_loss: 0.4201 - val_accuracy: 0.8243 - val_f1: 0.8227\n",
            "Epoch 4/100\n",
            "5000/5000 [==============================] - 3s 643us/step - loss: 0.2485 - accuracy: 0.8990 - f1: 0.8990 - val_loss: 0.4811 - val_accuracy: 0.8007 - val_f1: 0.7975\n",
            "Epoch 5/100\n",
            "5000/5000 [==============================] - 3s 640us/step - loss: 0.1901 - accuracy: 0.9278 - f1: 0.9279 - val_loss: 0.5225 - val_accuracy: 0.8111 - val_f1: 0.8130\n",
            "Epoch 6/100\n",
            "5000/5000 [==============================] - 3s 645us/step - loss: 0.1423 - accuracy: 0.9490 - f1: 0.9489 - val_loss: 0.5594 - val_accuracy: 0.7968 - val_f1: 0.7948\n",
            "Epoch 7/100\n",
            "5000/5000 [==============================] - 3s 628us/step - loss: 0.1124 - accuracy: 0.9588 - f1: 0.9591 - val_loss: 0.6499 - val_accuracy: 0.8072 - val_f1: 0.8076\n",
            "Best F1:0.823, best accuracy:0.824\n"
          ],
          "name": "stdout"
        }
      ]
    },
    {
      "cell_type": "code",
      "metadata": {
        "colab_type": "code",
        "id": "ki2oZUwIK8zF",
        "outputId": "0de8e135-cdc0-45db-83aa-e1ab2a7f04c8",
        "colab": {
          "base_uri": "https://localhost:8080/",
          "height": 207
        }
      },
      "source": [
        "f1_score, acc_score, aug_cnn, w2i = re_fit_cnn(pd.concat([all_augs[:500000], train_data]), test_data, w2v_model, MAX_SEQ_LEN, N_CLASSES, epochs=1)"
      ],
      "execution_count": 0,
      "outputs": [
        {
          "output_type": "stream",
          "text": [
            "Not found vectors 267156 out of 393779 unique words\n",
            "Average sentence len:  19.72192285431915\n",
            "Max sentence len:  79\n",
            "8.937% of tokens were replaced by unk token index\n",
            "Average sentence len:  18.480505216913784\n",
            "Max sentence len:  53\n",
            "2.449% of tokens were replaced by unk token index\n",
            "Train on 478601 samples, validate on 1821 samples\n",
            "Epoch 1/1\n",
            "478601/478601 [==============================] - 23s 49us/step - loss: 0.4187 - accuracy: 0.7990 - f1: 0.7990 - val_loss: 0.3624 - val_accuracy: 0.8347 - val_f1: 0.8347\n",
            "Best F1:0.835, best accuracy:0.835\n"
          ],
          "name": "stdout"
        }
      ]
    },
    {
      "cell_type": "code",
      "metadata": {
        "colab_type": "code",
        "id": "0HiBPvjAK8zH",
        "outputId": "81961084-9fe0-4885-e8fd-e9846140c497",
        "colab": {
          "base_uri": "https://localhost:8080/",
          "height": 363
        }
      },
      "source": [
        "f1_score, acc_score, res_cnn, _ = re_fit_cnn(train_data, test_data, w2v_model, MAX_SEQ_LEN, N_CLASSES, model=aug_cnn, word2ind_aug=w2i)"
      ],
      "execution_count": 0,
      "outputs": [
        {
          "output_type": "stream",
          "text": [
            "Average sentence len:  18.5056\n",
            "Max sentence len:  51\n",
            "1.735% of tokens were replaced by unk token index\n",
            "Average sentence len:  18.480505216913784\n",
            "Max sentence len:  53\n",
            "2.449% of tokens were replaced by unk token index\n",
            "Train on 5000 samples, validate on 1821 samples\n",
            "Epoch 1/100\n",
            "5000/5000 [==============================] - 0s 60us/step - loss: 0.2365 - accuracy: 0.9056 - f1: 0.9050 - val_loss: 0.3766 - val_accuracy: 0.8391 - val_f1: 0.8387\n",
            "Epoch 2/100\n",
            "5000/5000 [==============================] - 0s 55us/step - loss: 0.1336 - accuracy: 0.9570 - f1: 0.9568 - val_loss: 0.3926 - val_accuracy: 0.8468 - val_f1: 0.8451\n",
            "Epoch 3/100\n",
            "5000/5000 [==============================] - 0s 54us/step - loss: 0.0588 - accuracy: 0.9870 - f1: 0.9871 - val_loss: 0.4132 - val_accuracy: 0.8468 - val_f1: 0.8447\n",
            "Epoch 4/100\n",
            "5000/5000 [==============================] - 0s 54us/step - loss: 0.0213 - accuracy: 0.9968 - f1: 0.9968 - val_loss: 0.4669 - val_accuracy: 0.8479 - val_f1: 0.8457\n",
            "Epoch 5/100\n",
            "5000/5000 [==============================] - 0s 53us/step - loss: 0.0083 - accuracy: 0.9990 - f1: 0.9990 - val_loss: 0.4900 - val_accuracy: 0.8506 - val_f1: 0.8497\n",
            "Epoch 6/100\n",
            "5000/5000 [==============================] - 0s 53us/step - loss: 0.0039 - accuracy: 0.9998 - f1: 0.9998 - val_loss: 0.5174 - val_accuracy: 0.8506 - val_f1: 0.8493\n",
            "Best F1:0.850, best accuracy:0.851\n"
          ],
          "name": "stdout"
        }
      ]
    },
    {
      "cell_type": "markdown",
      "metadata": {
        "id": "ce0RrO03fIn7",
        "colab_type": "text"
      },
      "source": [
        "# TREC-6 aug bert"
      ]
    },
    {
      "cell_type": "code",
      "metadata": {
        "colab_type": "code",
        "id": "SSxdugbxfQ6t",
        "colab": {}
      },
      "source": [
        "import pandas as pd\n",
        "def read_trec6(file_name, typ=0):\n",
        "  train = pd.read_csv(file_name, index_col=0)\n",
        "  lbl2indx = {i:j for j, i in enumerate(train.labels.unique())}\n",
        "  train.columns = ['text', 'labels']\n",
        "  train['lbl_index'] = train.labels.apply(lambda x:lbl2indx[x])\n",
        "\n",
        "\n",
        "  labels_t = [i.split(' ', 1)[0].split(':')[typ] for i in open('TREC_10.label', encoding = 'windows-1252').readlines()]\n",
        "  texts_t = [ i.split(' ', 1)[1][:-1] for i in open('TREC_10.label', encoding = 'windows-1252').readlines()]\n",
        "  test  = pd.DataFrame({'text':texts_t, 'labels': labels_t})\n",
        "  test['lbl_index'] = test.labels.apply(lambda x:lbl2indx[x])\n",
        "\n",
        "  return train, test, lbl2indx\n",
        "  "
      ],
      "execution_count": 0,
      "outputs": []
    },
    {
      "cell_type": "code",
      "metadata": {
        "id": "ld12dSNJgWFR",
        "colab_type": "code",
        "colab": {}
      },
      "source": [
        "from keras.callbacks import History\n",
        "def re_fit_lstm(train_data, test_data, w2v_model, msl, n_c, model=None, epochs=100, word2ind_aug=None):\n",
        "\n",
        "  #load data\n",
        "  word2ind=None\n",
        "  if word2ind_aug is None:\n",
        "    train_x, train_y, word2ind, in2word, pretrained_vectors = create_train_index(train_data, w2v_model, msl, n_c)\n",
        "    test_x, test_y = transform(test_data, word2ind, n_c, msl)\n",
        "  else:\n",
        "    train_x, train_y = transform(train_data, word2ind_aug, n_c, msl)\n",
        "    test_x, test_y = transform(test_data, word2ind_aug, n_c, msl)\n",
        "\n",
        "  #initialize model\n",
        "  if model is None:\n",
        "    model = build_lstm(pretrained_vectors, msl, n_c)\n",
        "\n",
        "  #implement early stopping\n",
        "  history = History()\n",
        "  callbacks = [EarlyStopping(monitor='val_loss', patience=5), history]\n",
        "\n",
        "  #train model\n",
        "  hist = model.fit(train_x, \n",
        "        train_y, \n",
        "        epochs=epochs, \n",
        "        callbacks=callbacks,\n",
        "        validation_data=(test_x, test_y), \n",
        "        batch_size=512, \n",
        "        shuffle=True, \n",
        "        verbose=1)\n",
        "  all_f1 = hist.history['val_f1']\n",
        "  all_acc = hist.history['val_accuracy']\n",
        "\n",
        "  print('Best F1:{0:0.3f}, best accuracy:{1:0.3f}'.format(max(all_f1), max(all_acc)))\n",
        "  return max(all_f1), max(all_acc), model, word2ind"
      ],
      "execution_count": 0,
      "outputs": []
    },
    {
      "cell_type": "code",
      "metadata": {
        "id": "EbGX5ihassDO",
        "colab_type": "code",
        "colab": {}
      },
      "source": [
        "def re_fit_cnn(train_data, test_data, w2v_model, msl, n_c, model=None, epochs=100, word2ind_aug=None):\n",
        "\n",
        "  #load data\n",
        "  word2ind=None\n",
        "  if word2ind_aug is None:\n",
        "    train_x, train_y, word2ind, in2word, pretrained_vectors = create_train_index(train_data, w2v_model, msl, n_c)\n",
        "    test_x, test_y = transform(test_data, word2ind, n_c, msl)\n",
        "  else:\n",
        "    train_x, train_y = transform(train_data, word2ind_aug, n_c, msl)\n",
        "    test_x, test_y = transform(test_data, word2ind_aug, n_c, msl)\n",
        "\n",
        "  #initialize model\n",
        "  if model is None:\n",
        "    model = build_cnn(pretrained_vectors, msl, n_c)\n",
        "\n",
        "  #implement early stopping\n",
        "  history = History()\n",
        "  callbacks = [EarlyStopping(monitor='val_loss', patience=5), history]\n",
        "\n",
        "  #train model\n",
        "  hist = model.fit(train_x, \n",
        "        train_y, \n",
        "        epochs=epochs, \n",
        "        callbacks=callbacks,\n",
        "        validation_data=(test_x, test_y), \n",
        "        batch_size=512, \n",
        "        shuffle=True, \n",
        "        verbose=1)\n",
        "  all_f1 = hist.history['val_f1']\n",
        "  all_acc = hist.history['val_accuracy']\n",
        "\n",
        "  print('Best F1:{0:0.3f}, best accuracy:{1:0.3f}'.format(max(all_f1), max(all_acc)))\n",
        "  return max(all_f1), max(all_acc), model, word2ind"
      ],
      "execution_count": 0,
      "outputs": []
    },
    {
      "cell_type": "markdown",
      "metadata": {
        "id": "o_FB8KhzitsE",
        "colab_type": "text"
      },
      "source": [
        "## 3k"
      ]
    },
    {
      "cell_type": "code",
      "metadata": {
        "colab_type": "code",
        "id": "gWqk16FOfQ6y",
        "colab": {}
      },
      "source": [
        "train_data, test_data, l2i = read_trec6('trec6_splited/trec6_splited_3k.csv')"
      ],
      "execution_count": 0,
      "outputs": []
    },
    {
      "cell_type": "code",
      "metadata": {
        "colab_type": "code",
        "id": "_0EQLfO_fQ60",
        "colab": {}
      },
      "source": [
        "MAX_SEQ_LEN, N_CLASSES = 37, len(train_data.lbl_index.unique())"
      ],
      "execution_count": 0,
      "outputs": []
    },
    {
      "cell_type": "code",
      "metadata": {
        "id": "HAIhzsbcizhW",
        "colab_type": "code",
        "colab": {}
      },
      "source": [
        "from glob import glob \n",
        "import pandas as pd\n",
        "files = glob('./Question_augmentation/TREC6_3k_bert_0.7__*')\n",
        "all_augs = pd.concat([pd.read_csv(i, index_col=0) for i in files])"
      ],
      "execution_count": 0,
      "outputs": []
    },
    {
      "cell_type": "code",
      "metadata": {
        "colab_type": "code",
        "id": "DZEXyHrjfQ62",
        "outputId": "649d9c0d-97d6-4fa1-912c-84116fb26438",
        "colab": {
          "base_uri": "https://localhost:8080/",
          "height": 204
        }
      },
      "source": [
        "f1_score, acc_score, aug_lstm, w2i = re_fit_lstm(all_augs[:300000], test_data, w2v_model, MAX_SEQ_LEN, N_CLASSES, epochs=1)"
      ],
      "execution_count": 0,
      "outputs": [
        {
          "output_type": "stream",
          "text": [
            "Not found vectors 39860 out of 108255 unique words\n",
            "Average sentence len:  9.719566666666667\n",
            "Max sentence len:  25601\n",
            "5.920% of tokens were replaced by unk token index\n",
            "Average sentence len:  7.516\n",
            "Max sentence len:  17\n",
            "3.353% of tokens were replaced by unk token index\n",
            "Train on 300000 samples, validate on 500 samples\n",
            "Epoch 1/1\n",
            "300000/300000 [==============================] - 273s 912us/step - loss: 0.4846 - accuracy: 0.8230 - f1: 0.8090 - val_loss: 0.3982 - val_accuracy: 0.8520 - val_f1: 0.8457\n",
            "Best F1:0.846, best accuracy:0.852\n"
          ],
          "name": "stdout"
        }
      ]
    },
    {
      "cell_type": "code",
      "metadata": {
        "id": "BA9RsJ3mg1Ud",
        "colab_type": "code",
        "outputId": "84be9465-35f2-4fd6-a0fe-78e3eef23b63",
        "colab": {
          "base_uri": "https://localhost:8080/",
          "height": 527
        }
      },
      "source": [
        "f1_score, acc_score, res_lstm, _ = re_fit_lstm(train_data, test_data, w2v_model, MAX_SEQ_LEN, N_CLASSES, model=aug_lstm, word2ind_aug=w2i)"
      ],
      "execution_count": 0,
      "outputs": [
        {
          "output_type": "stream",
          "text": [
            "Average sentence len:  10.175099866844208\n",
            "Max sentence len:  37\n",
            "6.517% of tokens were replaced by unk token index\n",
            "Average sentence len:  7.516\n",
            "Max sentence len:  17\n",
            "3.353% of tokens were replaced by unk token index\n",
            "Train on 3004 samples, validate on 500 samples\n",
            "Epoch 1/100\n",
            "3004/3004 [==============================] - 3s 963us/step - loss: 0.3856 - accuracy: 0.8715 - f1: 0.8692 - val_loss: 0.4496 - val_accuracy: 0.8060 - val_f1: 0.7853\n",
            "Epoch 2/100\n",
            "3004/3004 [==============================] - 3s 974us/step - loss: 0.3374 - accuracy: 0.8878 - f1: 0.8834 - val_loss: 0.2936 - val_accuracy: 0.9040 - val_f1: 0.9119\n",
            "Epoch 3/100\n",
            "3004/3004 [==============================] - 3s 957us/step - loss: 0.2902 - accuracy: 0.9005 - f1: 0.9024 - val_loss: 0.2840 - val_accuracy: 0.9140 - val_f1: 0.9109\n",
            "Epoch 4/100\n",
            "3004/3004 [==============================] - 3s 951us/step - loss: 0.2453 - accuracy: 0.9144 - f1: 0.9170 - val_loss: 0.2688 - val_accuracy: 0.9140 - val_f1: 0.9133\n",
            "Epoch 5/100\n",
            "3004/3004 [==============================] - 3s 922us/step - loss: 0.2166 - accuracy: 0.9288 - f1: 0.9293 - val_loss: 0.2898 - val_accuracy: 0.9140 - val_f1: 0.9162\n",
            "Epoch 6/100\n",
            "3004/3004 [==============================] - 3s 968us/step - loss: 0.1823 - accuracy: 0.9381 - f1: 0.9381 - val_loss: 0.2588 - val_accuracy: 0.9140 - val_f1: 0.9168\n",
            "Epoch 7/100\n",
            "3004/3004 [==============================] - 3s 955us/step - loss: 0.1522 - accuracy: 0.9514 - f1: 0.9520 - val_loss: 0.3038 - val_accuracy: 0.9140 - val_f1: 0.9158\n",
            "Epoch 8/100\n",
            "3004/3004 [==============================] - 3s 946us/step - loss: 0.1288 - accuracy: 0.9584 - f1: 0.9593 - val_loss: 0.2682 - val_accuracy: 0.9280 - val_f1: 0.9269\n",
            "Epoch 9/100\n",
            "3004/3004 [==============================] - 3s 946us/step - loss: 0.0999 - accuracy: 0.9717 - f1: 0.9716 - val_loss: 0.2825 - val_accuracy: 0.9300 - val_f1: 0.9336\n",
            "Epoch 10/100\n",
            "3004/3004 [==============================] - 3s 936us/step - loss: 0.0783 - accuracy: 0.9770 - f1: 0.9766 - val_loss: 0.2861 - val_accuracy: 0.9280 - val_f1: 0.9268\n",
            "Epoch 11/100\n",
            "3004/3004 [==============================] - 3s 945us/step - loss: 0.0662 - accuracy: 0.9797 - f1: 0.9805 - val_loss: 0.3261 - val_accuracy: 0.9260 - val_f1: 0.9248\n",
            "Best F1:0.934, best accuracy:0.930\n"
          ],
          "name": "stdout"
        }
      ]
    },
    {
      "cell_type": "code",
      "metadata": {
        "id": "ullfVhDRtVIQ",
        "colab_type": "code",
        "colab": {}
      },
      "source": [
        ""
      ],
      "execution_count": 0,
      "outputs": []
    },
    {
      "cell_type": "code",
      "metadata": {
        "colab_type": "code",
        "outputId": "b3822e16-fd8f-4746-dc53-3a8c672ff269",
        "id": "dS2nJkd8taMq",
        "colab": {
          "base_uri": "https://localhost:8080/",
          "height": 204
        }
      },
      "source": [
        "f1_score, acc_score, aug_cnn, w2i = re_fit_cnn(all_augs[:300000], test_data, w2v_model, MAX_SEQ_LEN, N_CLASSES, epochs=1)"
      ],
      "execution_count": 0,
      "outputs": [
        {
          "output_type": "stream",
          "text": [
            "Not found vectors 39860 out of 108255 unique words\n",
            "Average sentence len:  9.719566666666667\n",
            "Max sentence len:  25601\n",
            "5.920% of tokens were replaced by unk token index\n",
            "Average sentence len:  7.516\n",
            "Max sentence len:  17\n",
            "3.353% of tokens were replaced by unk token index\n",
            "Train on 300000 samples, validate on 500 samples\n",
            "Epoch 1/1\n",
            "300000/300000 [==============================] - 32s 107us/step - loss: 0.3634 - accuracy: 0.8660 - f1: 0.8557 - val_loss: 0.2180 - val_accuracy: 0.9360 - val_f1: 0.9371\n",
            "Best F1:0.937, best accuracy:0.936\n"
          ],
          "name": "stdout"
        }
      ]
    },
    {
      "cell_type": "code",
      "metadata": {
        "colab_type": "code",
        "outputId": "d65fbcbd-d5a9-4015-e5e0-33cd6410a8e2",
        "id": "vD7e4fGztaMt",
        "colab": {
          "base_uri": "https://localhost:8080/",
          "height": 765
        }
      },
      "source": [
        "f1_score, acc_score, res_cnn, _ = re_fit_lstm(train_data, test_data, w2v_model, MAX_SEQ_LEN, N_CLASSES, model=aug_lstm, word2ind_aug=w2i)"
      ],
      "execution_count": 0,
      "outputs": [
        {
          "output_type": "stream",
          "text": [
            "Average sentence len:  10.175099866844208\n",
            "Max sentence len:  37\n",
            "6.517% of tokens were replaced by unk token index\n",
            "Average sentence len:  7.516\n",
            "Max sentence len:  17\n",
            "3.353% of tokens were replaced by unk token index\n",
            "Train on 3004 samples, validate on 500 samples\n",
            "Epoch 1/100\n",
            "3004/3004 [==============================] - 1s 167us/step - loss: 0.2561 - accuracy: 0.9111 - f1: 0.9091 - val_loss: 0.2114 - val_accuracy: 0.9400 - val_f1: 0.9431\n",
            "Epoch 2/100\n",
            "3004/3004 [==============================] - 0s 102us/step - loss: 0.1597 - accuracy: 0.9517 - f1: 0.9513 - val_loss: 0.1523 - val_accuracy: 0.9580 - val_f1: 0.9544\n",
            "Epoch 3/100\n",
            "3004/3004 [==============================] - 0s 96us/step - loss: 0.0941 - accuracy: 0.9780 - f1: 0.9781 - val_loss: 0.1590 - val_accuracy: 0.9540 - val_f1: 0.9577\n",
            "Epoch 4/100\n",
            "3004/3004 [==============================] - 0s 97us/step - loss: 0.0557 - accuracy: 0.9903 - f1: 0.9901 - val_loss: 0.1334 - val_accuracy: 0.9600 - val_f1: 0.9587\n",
            "Epoch 5/100\n",
            "3004/3004 [==============================] - 0s 95us/step - loss: 0.0375 - accuracy: 0.9917 - f1: 0.9917 - val_loss: 0.1384 - val_accuracy: 0.9540 - val_f1: 0.9549\n",
            "Epoch 6/100\n",
            "3004/3004 [==============================] - 0s 95us/step - loss: 0.0264 - accuracy: 0.9937 - f1: 0.9934 - val_loss: 0.1354 - val_accuracy: 0.9600 - val_f1: 0.9608\n",
            "Epoch 7/100\n",
            "3004/3004 [==============================] - 0s 95us/step - loss: 0.0212 - accuracy: 0.9947 - f1: 0.9946 - val_loss: 0.1349 - val_accuracy: 0.9520 - val_f1: 0.9567\n",
            "Epoch 8/100\n",
            "3004/3004 [==============================] - 0s 96us/step - loss: 0.0182 - accuracy: 0.9947 - f1: 0.9947 - val_loss: 0.1343 - val_accuracy: 0.9540 - val_f1: 0.9598\n",
            "Epoch 9/100\n",
            "3004/3004 [==============================] - 0s 96us/step - loss: 0.0159 - accuracy: 0.9953 - f1: 0.9954 - val_loss: 0.1318 - val_accuracy: 0.9580 - val_f1: 0.9598\n",
            "Epoch 10/100\n",
            "3004/3004 [==============================] - 0s 97us/step - loss: 0.0152 - accuracy: 0.9947 - f1: 0.9946 - val_loss: 0.1312 - val_accuracy: 0.9500 - val_f1: 0.9518\n",
            "Epoch 11/100\n",
            "3004/3004 [==============================] - 0s 96us/step - loss: 0.0142 - accuracy: 0.9950 - f1: 0.9951 - val_loss: 0.1363 - val_accuracy: 0.9500 - val_f1: 0.9508\n",
            "Epoch 12/100\n",
            "3004/3004 [==============================] - 0s 95us/step - loss: 0.0142 - accuracy: 0.9953 - f1: 0.9953 - val_loss: 0.1341 - val_accuracy: 0.9520 - val_f1: 0.9537\n",
            "Epoch 13/100\n",
            "3004/3004 [==============================] - 0s 98us/step - loss: 0.0136 - accuracy: 0.9950 - f1: 0.9951 - val_loss: 0.1302 - val_accuracy: 0.9560 - val_f1: 0.9568\n",
            "Epoch 14/100\n",
            "3004/3004 [==============================] - 0s 97us/step - loss: 0.0133 - accuracy: 0.9943 - f1: 0.9944 - val_loss: 0.1387 - val_accuracy: 0.9520 - val_f1: 0.9547\n",
            "Epoch 15/100\n",
            "3004/3004 [==============================] - 0s 97us/step - loss: 0.0133 - accuracy: 0.9950 - f1: 0.9950 - val_loss: 0.1303 - val_accuracy: 0.9520 - val_f1: 0.9548\n",
            "Epoch 16/100\n",
            "3004/3004 [==============================] - 0s 95us/step - loss: 0.0136 - accuracy: 0.9947 - f1: 0.9946 - val_loss: 0.1374 - val_accuracy: 0.9520 - val_f1: 0.9547\n",
            "Epoch 17/100\n",
            "3004/3004 [==============================] - 0s 95us/step - loss: 0.0141 - accuracy: 0.9930 - f1: 0.9931 - val_loss: 0.1351 - val_accuracy: 0.9520 - val_f1: 0.9548\n",
            "Epoch 18/100\n",
            "3004/3004 [==============================] - 0s 97us/step - loss: 0.0123 - accuracy: 0.9947 - f1: 0.9947 - val_loss: 0.1313 - val_accuracy: 0.9560 - val_f1: 0.9588\n",
            "Best F1:0.961, best accuracy:0.960\n"
          ],
          "name": "stdout"
        }
      ]
    },
    {
      "cell_type": "markdown",
      "metadata": {
        "id": "rja-mR9yrkhW",
        "colab_type": "text"
      },
      "source": [
        "## 4k"
      ]
    },
    {
      "cell_type": "code",
      "metadata": {
        "colab_type": "code",
        "id": "g6dxCkNWrl3L",
        "colab": {}
      },
      "source": [
        "train_data, test_data, l2i = read_trec6('trec6_splited/trec6_splited_4k.csv')"
      ],
      "execution_count": 0,
      "outputs": []
    },
    {
      "cell_type": "code",
      "metadata": {
        "colab_type": "code",
        "id": "DIsLx6jirl3O",
        "colab": {}
      },
      "source": [
        "MAX_SEQ_LEN, N_CLASSES = 37, len(train_data.lbl_index.unique())"
      ],
      "execution_count": 0,
      "outputs": []
    },
    {
      "cell_type": "code",
      "metadata": {
        "colab_type": "code",
        "id": "cDRI0bhtrl3Q",
        "colab": {}
      },
      "source": [
        "from glob import glob \n",
        "import pandas as pd\n",
        "files = glob('./Question_augmentation/TREC6_4k_bert_0.7__*')\n",
        "all_augs = pd.concat([pd.read_csv(i, index_col=0) for i in files])"
      ],
      "execution_count": 0,
      "outputs": []
    },
    {
      "cell_type": "code",
      "metadata": {
        "colab_type": "code",
        "outputId": "e861cb00-b6d0-41b9-b7d1-e454b5029254",
        "id": "Itmq43wMrl3S",
        "colab": {
          "base_uri": "https://localhost:8080/",
          "height": 204
        }
      },
      "source": [
        "f1_score, acc_score, aug_lstm, w2i = re_fit_lstm(all_augs[:300000], test_data, w2v_model, MAX_SEQ_LEN, N_CLASSES, epochs=1)"
      ],
      "execution_count": 0,
      "outputs": [
        {
          "output_type": "stream",
          "text": [
            "Not found vectors 39948 out of 108102 unique words\n",
            "Average sentence len:  9.71283\n",
            "Max sentence len:  25601\n",
            "5.950% of tokens were replaced by unk token index\n",
            "Average sentence len:  7.516\n",
            "Max sentence len:  17\n",
            "3.353% of tokens were replaced by unk token index\n",
            "Train on 300000 samples, validate on 500 samples\n",
            "Epoch 1/1\n",
            "300000/300000 [==============================] - 275s 918us/step - loss: 0.4746 - accuracy: 0.8265 - f1: 0.8146 - val_loss: 0.3884 - val_accuracy: 0.8520 - val_f1: 0.8462\n",
            "Best F1:0.846, best accuracy:0.852\n"
          ],
          "name": "stdout"
        }
      ]
    },
    {
      "cell_type": "code",
      "metadata": {
        "colab_type": "code",
        "outputId": "44c85de5-6814-40ab-a441-eb1913f128ab",
        "id": "EfSLBXizrl3V",
        "colab": {
          "base_uri": "https://localhost:8080/",
          "height": 459
        }
      },
      "source": [
        "f1_score, acc_score, res_lstm, _ = re_fit_lstm(train_data, test_data, w2v_model, MAX_SEQ_LEN, N_CLASSES, model=aug_lstm, word2ind_aug=w2i)"
      ],
      "execution_count": 0,
      "outputs": [
        {
          "output_type": "stream",
          "text": [
            "Average sentence len:  10.211788211788212\n",
            "Max sentence len:  37\n",
            "6.283% of tokens were replaced by unk token index\n",
            "Average sentence len:  7.516\n",
            "Max sentence len:  17\n",
            "3.353% of tokens were replaced by unk token index\n",
            "Train on 4004 samples, validate on 500 samples\n",
            "Epoch 1/100\n",
            "4004/4004 [==============================] - 4s 957us/step - loss: 0.3641 - accuracy: 0.8734 - f1: 0.8728 - val_loss: 0.2905 - val_accuracy: 0.9080 - val_f1: 0.9058\n",
            "Epoch 2/100\n",
            "4004/4004 [==============================] - 4s 952us/step - loss: 0.3077 - accuracy: 0.8996 - f1: 0.8985 - val_loss: 0.2520 - val_accuracy: 0.9120 - val_f1: 0.9082\n",
            "Epoch 3/100\n",
            "4004/4004 [==============================] - 4s 944us/step - loss: 0.2592 - accuracy: 0.9163 - f1: 0.9182 - val_loss: 0.2422 - val_accuracy: 0.9120 - val_f1: 0.9153\n",
            "Epoch 4/100\n",
            "4004/4004 [==============================] - 4s 956us/step - loss: 0.2093 - accuracy: 0.9301 - f1: 0.9312 - val_loss: 0.2344 - val_accuracy: 0.9160 - val_f1: 0.9188\n",
            "Epoch 5/100\n",
            "4004/4004 [==============================] - 4s 936us/step - loss: 0.1670 - accuracy: 0.9498 - f1: 0.9502 - val_loss: 0.2591 - val_accuracy: 0.9180 - val_f1: 0.9198\n",
            "Epoch 6/100\n",
            "4004/4004 [==============================] - 4s 929us/step - loss: 0.1453 - accuracy: 0.9580 - f1: 0.9573 - val_loss: 0.2635 - val_accuracy: 0.9240 - val_f1: 0.9217\n",
            "Epoch 7/100\n",
            "4004/4004 [==============================] - 4s 941us/step - loss: 0.1151 - accuracy: 0.9675 - f1: 0.9675 - val_loss: 0.2791 - val_accuracy: 0.9100 - val_f1: 0.9144\n",
            "Epoch 8/100\n",
            "4004/4004 [==============================] - 4s 935us/step - loss: 0.0990 - accuracy: 0.9715 - f1: 0.9720 - val_loss: 0.2799 - val_accuracy: 0.9160 - val_f1: 0.9186\n",
            "Epoch 9/100\n",
            "4004/4004 [==============================] - 4s 957us/step - loss: 0.0891 - accuracy: 0.9758 - f1: 0.9754 - val_loss: 0.3305 - val_accuracy: 0.9240 - val_f1: 0.9208\n",
            "Best F1:0.922, best accuracy:0.924\n"
          ],
          "name": "stdout"
        }
      ]
    },
    {
      "cell_type": "code",
      "metadata": {
        "id": "rG6Cen3nuKXv",
        "colab_type": "code",
        "colab": {}
      },
      "source": [
        ""
      ],
      "execution_count": 0,
      "outputs": []
    },
    {
      "cell_type": "code",
      "metadata": {
        "colab_type": "code",
        "outputId": "28d065d2-f0c7-41e0-8e37-1383f5f2c107",
        "id": "VnyPWmQ1uKpn",
        "colab": {
          "base_uri": "https://localhost:8080/",
          "height": 204
        }
      },
      "source": [
        "f1_score, acc_score, aug_cnn, w2i = re_fit_cnn(all_augs[:300000], test_data, w2v_model, MAX_SEQ_LEN, N_CLASSES, epochs=1)"
      ],
      "execution_count": 0,
      "outputs": [
        {
          "output_type": "stream",
          "text": [
            "Not found vectors 39948 out of 108102 unique words\n",
            "Average sentence len:  9.71283\n",
            "Max sentence len:  25601\n",
            "5.950% of tokens were replaced by unk token index\n",
            "Average sentence len:  7.516\n",
            "Max sentence len:  17\n",
            "3.353% of tokens were replaced by unk token index\n",
            "Train on 300000 samples, validate on 500 samples\n",
            "Epoch 1/1\n",
            "300000/300000 [==============================] - 27s 91us/step - loss: 0.3524 - accuracy: 0.8714 - f1: 0.8609 - val_loss: 0.2392 - val_accuracy: 0.9360 - val_f1: 0.9275\n",
            "Best F1:0.927, best accuracy:0.936\n"
          ],
          "name": "stdout"
        }
      ]
    },
    {
      "cell_type": "code",
      "metadata": {
        "colab_type": "code",
        "outputId": "a6129a97-606d-4036-cb05-6dbad095afc7",
        "id": "QvYuihtUuKpr",
        "colab": {
          "base_uri": "https://localhost:8080/",
          "height": 493
        }
      },
      "source": [
        "f1_score, acc_score, res_cnn, _ = re_fit_lstm(train_data, test_data, w2v_model, MAX_SEQ_LEN, N_CLASSES, model=aug_cnn, word2ind_aug=w2i)"
      ],
      "execution_count": 0,
      "outputs": [
        {
          "output_type": "stream",
          "text": [
            "Average sentence len:  10.211788211788212\n",
            "Max sentence len:  37\n",
            "6.283% of tokens were replaced by unk token index\n",
            "Average sentence len:  7.516\n",
            "Max sentence len:  17\n",
            "3.353% of tokens were replaced by unk token index\n",
            "Train on 4004 samples, validate on 500 samples\n",
            "Epoch 1/100\n",
            "4004/4004 [==============================] - 0s 99us/step - loss: 0.2206 - accuracy: 0.9251 - f1: 0.9256 - val_loss: 0.1536 - val_accuracy: 0.9560 - val_f1: 0.9557\n",
            "Epoch 2/100\n",
            "4004/4004 [==============================] - 0s 95us/step - loss: 0.1223 - accuracy: 0.9673 - f1: 0.9661 - val_loss: 0.1434 - val_accuracy: 0.9580 - val_f1: 0.9546\n",
            "Epoch 3/100\n",
            "4004/4004 [==============================] - 0s 95us/step - loss: 0.0627 - accuracy: 0.9880 - f1: 0.9882 - val_loss: 0.1350 - val_accuracy: 0.9640 - val_f1: 0.9618\n",
            "Epoch 4/100\n",
            "4004/4004 [==============================] - 0s 95us/step - loss: 0.0355 - accuracy: 0.9948 - f1: 0.9944 - val_loss: 0.1372 - val_accuracy: 0.9540 - val_f1: 0.9558\n",
            "Epoch 5/100\n",
            "4004/4004 [==============================] - 0s 95us/step - loss: 0.0236 - accuracy: 0.9965 - f1: 0.9965 - val_loss: 0.1283 - val_accuracy: 0.9600 - val_f1: 0.9599\n",
            "Epoch 6/100\n",
            "4004/4004 [==============================] - 0s 95us/step - loss: 0.0168 - accuracy: 0.9968 - f1: 0.9968 - val_loss: 0.1324 - val_accuracy: 0.9600 - val_f1: 0.9568\n",
            "Epoch 7/100\n",
            "4004/4004 [==============================] - 0s 94us/step - loss: 0.0139 - accuracy: 0.9973 - f1: 0.9972 - val_loss: 0.1312 - val_accuracy: 0.9600 - val_f1: 0.9619\n",
            "Epoch 8/100\n",
            "4004/4004 [==============================] - 0s 95us/step - loss: 0.0121 - accuracy: 0.9973 - f1: 0.9973 - val_loss: 0.1366 - val_accuracy: 0.9540 - val_f1: 0.9529\n",
            "Epoch 9/100\n",
            "4004/4004 [==============================] - 0s 93us/step - loss: 0.0114 - accuracy: 0.9970 - f1: 0.9970 - val_loss: 0.1341 - val_accuracy: 0.9540 - val_f1: 0.9519\n",
            "Epoch 10/100\n",
            "4004/4004 [==============================] - 0s 94us/step - loss: 0.0109 - accuracy: 0.9973 - f1: 0.9973 - val_loss: 0.1311 - val_accuracy: 0.9600 - val_f1: 0.9590\n",
            "Best F1:0.962, best accuracy:0.964\n"
          ],
          "name": "stdout"
        }
      ]
    },
    {
      "cell_type": "markdown",
      "metadata": {
        "id": "TTh08TJjrsMF",
        "colab_type": "text"
      },
      "source": [
        "## 5k"
      ]
    },
    {
      "cell_type": "code",
      "metadata": {
        "id": "pDegMCz1rqc7",
        "colab_type": "code",
        "colab": {}
      },
      "source": [
        ""
      ],
      "execution_count": 0,
      "outputs": []
    },
    {
      "cell_type": "code",
      "metadata": {
        "colab_type": "code",
        "id": "TP5OGMMNrtqe",
        "colab": {}
      },
      "source": [
        "number_of_attemp_to_fit = 1"
      ],
      "execution_count": 0,
      "outputs": []
    },
    {
      "cell_type": "code",
      "metadata": {
        "colab_type": "code",
        "id": "dh0QuBFertqh",
        "colab": {}
      },
      "source": [
        "train_data, test_data, l2i = read_trec6('trec6_splited/trec6_splited_5k.csv')"
      ],
      "execution_count": 0,
      "outputs": []
    },
    {
      "cell_type": "code",
      "metadata": {
        "colab_type": "code",
        "id": "ESZqcXelrtql",
        "colab": {}
      },
      "source": [
        "MAX_SEQ_LEN, N_CLASSES = 37, len(train_data.lbl_index.unique())"
      ],
      "execution_count": 0,
      "outputs": []
    },
    {
      "cell_type": "code",
      "metadata": {
        "colab_type": "code",
        "id": "JyGsP7gHrtqn",
        "colab": {}
      },
      "source": [
        "from glob import glob \n",
        "import pandas as pd\n",
        "files = glob('./Question_augmentation/TREC6_5k_bert_0.7__*')\n",
        "all_augs = pd.concat([pd.read_csv(i, index_col=0) for i in files])"
      ],
      "execution_count": 0,
      "outputs": []
    },
    {
      "cell_type": "code",
      "metadata": {
        "colab_type": "code",
        "outputId": "a499cdf2-d474-42ed-a1c7-f243cf7752b7",
        "id": "Yd1amrUArtqp",
        "colab": {
          "base_uri": "https://localhost:8080/",
          "height": 204
        }
      },
      "source": [
        "f1_score, acc_score, aug_lstm, w2i = re_fit_lstm(all_augs[:300000], test_data, w2v_model, MAX_SEQ_LEN, N_CLASSES, epochs=1)"
      ],
      "execution_count": 0,
      "outputs": [
        {
          "output_type": "stream",
          "text": [
            "Not found vectors 39961 out of 108223 unique words\n",
            "Average sentence len:  9.717636666666667\n",
            "Max sentence len:  25601\n",
            "5.955% of tokens were replaced by unk token index\n",
            "Average sentence len:  7.516\n",
            "Max sentence len:  17\n",
            "3.379% of tokens were replaced by unk token index\n",
            "Train on 300000 samples, validate on 500 samples\n",
            "Epoch 1/1\n",
            "300000/300000 [==============================] - 270s 900us/step - loss: 0.4835 - accuracy: 0.8234 - f1: 0.8103 - val_loss: 0.4590 - val_accuracy: 0.8000 - val_f1: 0.8025\n",
            "Best F1:0.802, best accuracy:0.800\n"
          ],
          "name": "stdout"
        }
      ]
    },
    {
      "cell_type": "code",
      "metadata": {
        "colab_type": "code",
        "outputId": "baafd219-35f2-4348-e93c-10c35047af7c",
        "id": "aQy18pVcrtqr",
        "colab": {
          "base_uri": "https://localhost:8080/",
          "height": 561
        }
      },
      "source": [
        "f1_score, acc_score, res_lstm, _ = re_fit_lstm(train_data, test_data, w2v_model, MAX_SEQ_LEN, N_CLASSES, model=aug_lstm, word2ind_aug=w2i)"
      ],
      "execution_count": 0,
      "outputs": [
        {
          "output_type": "stream",
          "text": [
            "Average sentence len:  10.192369157011585\n",
            "Max sentence len:  37\n",
            "6.381% of tokens were replaced by unk token index\n",
            "Average sentence len:  7.516\n",
            "Max sentence len:  17\n",
            "3.379% of tokens were replaced by unk token index\n",
            "Train on 5006 samples, validate on 500 samples\n",
            "Epoch 1/100\n",
            "5006/5006 [==============================] - 5s 935us/step - loss: 0.3860 - accuracy: 0.8646 - f1: 0.8641 - val_loss: 0.3112 - val_accuracy: 0.8920 - val_f1: 0.8912\n",
            "Epoch 2/100\n",
            "5006/5006 [==============================] - 5s 914us/step - loss: 0.3166 - accuracy: 0.8915 - f1: 0.8916 - val_loss: 0.2895 - val_accuracy: 0.8960 - val_f1: 0.8986\n",
            "Epoch 3/100\n",
            "5006/5006 [==============================] - 5s 926us/step - loss: 0.2707 - accuracy: 0.9099 - f1: 0.9104 - val_loss: 0.2605 - val_accuracy: 0.9100 - val_f1: 0.9124\n",
            "Epoch 4/100\n",
            "5006/5006 [==============================] - 5s 915us/step - loss: 0.2250 - accuracy: 0.9257 - f1: 0.9247 - val_loss: 0.2673 - val_accuracy: 0.9240 - val_f1: 0.9256\n",
            "Epoch 5/100\n",
            "5006/5006 [==============================] - 5s 929us/step - loss: 0.1910 - accuracy: 0.9379 - f1: 0.9367 - val_loss: 0.2638 - val_accuracy: 0.9300 - val_f1: 0.9319\n",
            "Epoch 6/100\n",
            "5006/5006 [==============================] - 5s 937us/step - loss: 0.1641 - accuracy: 0.9473 - f1: 0.9469 - val_loss: 0.2758 - val_accuracy: 0.9260 - val_f1: 0.9279\n",
            "Epoch 7/100\n",
            "5006/5006 [==============================] - 5s 940us/step - loss: 0.1422 - accuracy: 0.9541 - f1: 0.9551 - val_loss: 0.2537 - val_accuracy: 0.9300 - val_f1: 0.9319\n",
            "Epoch 8/100\n",
            "5006/5006 [==============================] - 5s 944us/step - loss: 0.1210 - accuracy: 0.9604 - f1: 0.9604 - val_loss: 0.3061 - val_accuracy: 0.9240 - val_f1: 0.9268\n",
            "Epoch 9/100\n",
            "5006/5006 [==============================] - 5s 958us/step - loss: 0.1099 - accuracy: 0.9684 - f1: 0.9686 - val_loss: 0.2699 - val_accuracy: 0.9320 - val_f1: 0.9339\n",
            "Epoch 10/100\n",
            "5006/5006 [==============================] - 5s 929us/step - loss: 0.0779 - accuracy: 0.9776 - f1: 0.9778 - val_loss: 0.3052 - val_accuracy: 0.9320 - val_f1: 0.9309\n",
            "Epoch 11/100\n",
            "5006/5006 [==============================] - 5s 939us/step - loss: 0.0649 - accuracy: 0.9824 - f1: 0.9823 - val_loss: 0.3289 - val_accuracy: 0.9320 - val_f1: 0.9339\n",
            "Epoch 12/100\n",
            "5006/5006 [==============================] - 5s 928us/step - loss: 0.0542 - accuracy: 0.9864 - f1: 0.9861 - val_loss: 0.3317 - val_accuracy: 0.9260 - val_f1: 0.9268\n",
            "Best F1:0.934, best accuracy:0.932\n"
          ],
          "name": "stdout"
        }
      ]
    },
    {
      "cell_type": "code",
      "metadata": {
        "id": "-4YPWkWJrxE5",
        "colab_type": "code",
        "colab": {}
      },
      "source": [
        ""
      ],
      "execution_count": 0,
      "outputs": []
    },
    {
      "cell_type": "code",
      "metadata": {
        "colab_type": "code",
        "id": "RK5kLfTvu5eT",
        "outputId": "3a77152f-84c7-4bf7-af41-8763e33121bf",
        "colab": {
          "base_uri": "https://localhost:8080/",
          "height": 204
        }
      },
      "source": [
        "f1_score, acc_score, aug_cnn, w2i = re_fit_cnn(all_augs[:300000], test_data, w2v_model, MAX_SEQ_LEN, N_CLASSES, epochs=1)"
      ],
      "execution_count": 0,
      "outputs": [
        {
          "output_type": "stream",
          "text": [
            "Not found vectors 39961 out of 108223 unique words\n",
            "Average sentence len:  9.717636666666667\n",
            "Max sentence len:  25601\n",
            "5.955% of tokens were replaced by unk token index\n",
            "Average sentence len:  7.516\n",
            "Max sentence len:  17\n",
            "3.379% of tokens were replaced by unk token index\n",
            "Train on 300000 samples, validate on 500 samples\n",
            "Epoch 1/1\n",
            "300000/300000 [==============================] - 27s 91us/step - loss: 0.3584 - accuracy: 0.8682 - f1: 0.8568 - val_loss: 0.2725 - val_accuracy: 0.9060 - val_f1: 0.9072\n",
            "Best F1:0.907, best accuracy:0.906\n"
          ],
          "name": "stdout"
        }
      ]
    },
    {
      "cell_type": "code",
      "metadata": {
        "colab_type": "code",
        "id": "CaIsnBvou5eX",
        "outputId": "7cb0828d-b2bc-479d-a218-9a8ffa274acd",
        "colab": {
          "base_uri": "https://localhost:8080/",
          "height": 459
        }
      },
      "source": [
        "f1_score, acc_score, res_cnn, _ = re_fit_lstm(train_data, test_data, w2v_model, MAX_SEQ_LEN, N_CLASSES, model=aug_cnn, word2ind_aug=w2i)"
      ],
      "execution_count": 0,
      "outputs": [
        {
          "output_type": "stream",
          "text": [
            "Average sentence len:  10.192369157011585\n",
            "Max sentence len:  37\n",
            "6.381% of tokens were replaced by unk token index\n",
            "Average sentence len:  7.516\n",
            "Max sentence len:  17\n",
            "3.379% of tokens were replaced by unk token index\n",
            "Train on 5006 samples, validate on 500 samples\n",
            "Epoch 1/100\n",
            "5006/5006 [==============================] - 1s 115us/step - loss: 0.2263 - accuracy: 0.9279 - f1: 0.9271 - val_loss: 0.1519 - val_accuracy: 0.9660 - val_f1: 0.9648\n",
            "Epoch 2/100\n",
            "5006/5006 [==============================] - 0s 94us/step - loss: 0.1192 - accuracy: 0.9692 - f1: 0.9693 - val_loss: 0.1325 - val_accuracy: 0.9680 - val_f1: 0.9690\n",
            "Epoch 3/100\n",
            "5006/5006 [==============================] - 0s 94us/step - loss: 0.0604 - accuracy: 0.9870 - f1: 0.9866 - val_loss: 0.1430 - val_accuracy: 0.9620 - val_f1: 0.9648\n",
            "Epoch 4/100\n",
            "5006/5006 [==============================] - 0s 93us/step - loss: 0.0343 - accuracy: 0.9936 - f1: 0.9935 - val_loss: 0.1207 - val_accuracy: 0.9740 - val_f1: 0.9729\n",
            "Epoch 5/100\n",
            "5006/5006 [==============================] - 0s 93us/step - loss: 0.0232 - accuracy: 0.9958 - f1: 0.9959 - val_loss: 0.1221 - val_accuracy: 0.9680 - val_f1: 0.9690\n",
            "Epoch 6/100\n",
            "5006/5006 [==============================] - 0s 94us/step - loss: 0.0180 - accuracy: 0.9962 - f1: 0.9962 - val_loss: 0.1272 - val_accuracy: 0.9720 - val_f1: 0.9719\n",
            "Epoch 7/100\n",
            "5006/5006 [==============================] - 0s 94us/step - loss: 0.0151 - accuracy: 0.9968 - f1: 0.9969 - val_loss: 0.1274 - val_accuracy: 0.9720 - val_f1: 0.9730\n",
            "Epoch 8/100\n",
            "5006/5006 [==============================] - 0s 93us/step - loss: 0.0132 - accuracy: 0.9962 - f1: 0.9962 - val_loss: 0.1250 - val_accuracy: 0.9680 - val_f1: 0.9690\n",
            "Epoch 9/100\n",
            "5006/5006 [==============================] - 0s 93us/step - loss: 0.0134 - accuracy: 0.9968 - f1: 0.9968 - val_loss: 0.1462 - val_accuracy: 0.9660 - val_f1: 0.9659\n",
            "Best F1:0.973, best accuracy:0.974\n"
          ],
          "name": "stdout"
        }
      ]
    },
    {
      "cell_type": "code",
      "metadata": {
        "id": "5ZpGLjW1vcfp",
        "colab_type": "code",
        "colab": {}
      },
      "source": [
        ""
      ],
      "execution_count": 0,
      "outputs": []
    },
    {
      "cell_type": "markdown",
      "metadata": {
        "id": "xvYqklgdxtZk",
        "colab_type": "text"
      },
      "source": [
        "# TREC-50 aug bert"
      ]
    },
    {
      "cell_type": "markdown",
      "metadata": {
        "id": "EFMO6c2ixwIj",
        "colab_type": "text"
      },
      "source": [
        "## 3k"
      ]
    },
    {
      "cell_type": "code",
      "metadata": {
        "colab_type": "code",
        "id": "EH5sTCrXxvO8",
        "colab": {}
      },
      "source": [
        "number_of_attemp_to_fit = 1"
      ],
      "execution_count": 0,
      "outputs": []
    },
    {
      "cell_type": "code",
      "metadata": {
        "colab_type": "code",
        "id": "RpiB3ijJxvPA",
        "colab": {}
      },
      "source": [
        "train_data, test_data, l2i = read_trec50('trec50_splited/trec50_3k.csv')"
      ],
      "execution_count": 0,
      "outputs": []
    },
    {
      "cell_type": "code",
      "metadata": {
        "colab_type": "code",
        "id": "Wpvr8pQ6xvPC",
        "colab": {}
      },
      "source": [
        "MAX_SEQ_LEN, N_CLASSES = 37, len(train_data.lbl_index.unique())"
      ],
      "execution_count": 0,
      "outputs": []
    },
    {
      "cell_type": "code",
      "metadata": {
        "colab_type": "code",
        "id": "7A_Pa8AFxvPD",
        "colab": {}
      },
      "source": [
        "from glob import glob \n",
        "import pandas as pd\n",
        "files = glob('./Question_augmentation/TREC50_3k_bert_0.7__*')\n",
        "all_augs = pd.concat([pd.read_csv(i, index_col=0) for i in files])"
      ],
      "execution_count": 0,
      "outputs": []
    },
    {
      "cell_type": "code",
      "metadata": {
        "colab_type": "code",
        "outputId": "08a3d144-ead0-4334-d6fd-f1064f010c8d",
        "id": "O3m7-h0_xvPF",
        "colab": {
          "base_uri": "https://localhost:8080/",
          "height": 204
        }
      },
      "source": [
        "f1_score, acc_score, aug_lstm, w2i = re_fit_lstm(all_augs[:300000], test_data, w2v_model, MAX_SEQ_LEN, N_CLASSES, epochs=1)"
      ],
      "execution_count": 0,
      "outputs": [
        {
          "output_type": "stream",
          "text": [
            "Not found vectors 37930 out of 106794 unique words\n",
            "Average sentence len:  9.77545\n",
            "Max sentence len:  25601\n",
            "5.303% of tokens were replaced by unk token index\n",
            "Average sentence len:  7.516\n",
            "Max sentence len:  17\n",
            "3.406% of tokens were replaced by unk token index\n",
            "Train on 300000 samples, validate on 500 samples\n",
            "Epoch 1/1\n",
            "300000/300000 [==============================] - 271s 904us/step - loss: 1.0645 - accuracy: 0.7185 - f1: 0.7085 - val_loss: 1.6822 - val_accuracy: 0.7080 - val_f1: 0.6923\n",
            "Best F1:0.692, best accuracy:0.708\n"
          ],
          "name": "stdout"
        }
      ]
    },
    {
      "cell_type": "code",
      "metadata": {
        "colab_type": "code",
        "outputId": "e4729475-6aab-4a4a-8e27-42480ba9d205",
        "id": "Mqq1SoKuxvPI",
        "colab": {
          "base_uri": "https://localhost:8080/",
          "height": 663
        }
      },
      "source": [
        "f1_score, acc_score, res_lstm, _ = re_fit_lstm(train_data, test_data, w2v_model, MAX_SEQ_LEN, N_CLASSES, model=aug_lstm, word2ind_aug=w2i)"
      ],
      "execution_count": 0,
      "outputs": [
        {
          "output_type": "stream",
          "text": [
            "Average sentence len:  10.240343347639485\n",
            "Max sentence len:  32\n",
            "6.254% of tokens were replaced by unk token index\n",
            "Average sentence len:  7.516\n",
            "Max sentence len:  17\n",
            "3.406% of tokens were replaced by unk token index\n",
            "Train on 3029 samples, validate on 500 samples\n",
            "Epoch 1/100\n",
            "3029/3029 [==============================] - 3s 954us/step - loss: 1.4528 - accuracy: 0.6659 - f1: 0.6415 - val_loss: 1.4816 - val_accuracy: 0.7080 - val_f1: 0.6625\n",
            "Epoch 2/100\n",
            "3029/3029 [==============================] - 3s 957us/step - loss: 1.2471 - accuracy: 0.7022 - f1: 0.6698 - val_loss: 1.2989 - val_accuracy: 0.7360 - val_f1: 0.6913\n",
            "Epoch 3/100\n",
            "3029/3029 [==============================] - 3s 938us/step - loss: 1.0672 - accuracy: 0.7389 - f1: 0.7162 - val_loss: 1.1568 - val_accuracy: 0.7600 - val_f1: 0.7486\n",
            "Epoch 4/100\n",
            "3029/3029 [==============================] - 3s 942us/step - loss: 0.9343 - accuracy: 0.7597 - f1: 0.7486 - val_loss: 1.0032 - val_accuracy: 0.7960 - val_f1: 0.7928\n",
            "Epoch 5/100\n",
            "3029/3029 [==============================] - 3s 944us/step - loss: 0.8363 - accuracy: 0.7788 - f1: 0.7671 - val_loss: 1.0154 - val_accuracy: 0.7720 - val_f1: 0.7725\n",
            "Epoch 6/100\n",
            "3029/3029 [==============================] - 3s 929us/step - loss: 0.7126 - accuracy: 0.8052 - f1: 0.8061 - val_loss: 0.9668 - val_accuracy: 0.7660 - val_f1: 0.7892\n",
            "Epoch 7/100\n",
            "3029/3029 [==============================] - 3s 985us/step - loss: 0.6412 - accuracy: 0.8224 - f1: 0.8228 - val_loss: 0.9189 - val_accuracy: 0.7860 - val_f1: 0.8072\n",
            "Epoch 8/100\n",
            "3029/3029 [==============================] - 3s 967us/step - loss: 0.5643 - accuracy: 0.8422 - f1: 0.8402 - val_loss: 0.8914 - val_accuracy: 0.7800 - val_f1: 0.8026\n",
            "Epoch 9/100\n",
            "3029/3029 [==============================] - 3s 953us/step - loss: 0.4768 - accuracy: 0.8742 - f1: 0.8711 - val_loss: 0.9213 - val_accuracy: 0.7840 - val_f1: 0.7949\n",
            "Epoch 10/100\n",
            "3029/3029 [==============================] - 3s 963us/step - loss: 0.4121 - accuracy: 0.8868 - f1: 0.8877 - val_loss: 0.8835 - val_accuracy: 0.8020 - val_f1: 0.8110\n",
            "Epoch 11/100\n",
            "3029/3029 [==============================] - 3s 935us/step - loss: 0.3625 - accuracy: 0.9006 - f1: 0.8948 - val_loss: 0.8993 - val_accuracy: 0.8000 - val_f1: 0.8139\n",
            "Epoch 12/100\n",
            "3029/3029 [==============================] - 3s 952us/step - loss: 0.3300 - accuracy: 0.9062 - f1: 0.9034 - val_loss: 0.9075 - val_accuracy: 0.7980 - val_f1: 0.7954\n",
            "Epoch 13/100\n",
            "3029/3029 [==============================] - 3s 992us/step - loss: 0.2651 - accuracy: 0.9221 - f1: 0.9233 - val_loss: 0.9159 - val_accuracy: 0.7940 - val_f1: 0.8117\n",
            "Epoch 14/100\n",
            "3029/3029 [==============================] - 3s 933us/step - loss: 0.2226 - accuracy: 0.9422 - f1: 0.9379 - val_loss: 0.9014 - val_accuracy: 0.7920 - val_f1: 0.8021\n",
            "Epoch 15/100\n",
            "3029/3029 [==============================] - 3s 939us/step - loss: 0.1929 - accuracy: 0.9442 - f1: 0.9458 - val_loss: 0.9162 - val_accuracy: 0.8000 - val_f1: 0.8122\n",
            "Best F1:0.814, best accuracy:0.802\n"
          ],
          "name": "stdout"
        }
      ]
    },
    {
      "cell_type": "code",
      "metadata": {
        "colab_type": "code",
        "outputId": "54387c04-3a53-4915-80e9-ed334877a627",
        "id": "ggbgg-RcxvPK",
        "colab": {
          "base_uri": "https://localhost:8080/",
          "height": 204
        }
      },
      "source": [
        "f1_score, acc_score, aug_cnn, w2i = re_fit_cnn(all_augs[:300000], test_data, w2v_model, MAX_SEQ_LEN, N_CLASSES, epochs=1)"
      ],
      "execution_count": 0,
      "outputs": [
        {
          "output_type": "stream",
          "text": [
            "Not found vectors 37930 out of 106794 unique words\n",
            "Average sentence len:  9.77545\n",
            "Max sentence len:  25601\n",
            "5.303% of tokens were replaced by unk token index\n",
            "Average sentence len:  7.516\n",
            "Max sentence len:  17\n",
            "3.406% of tokens were replaced by unk token index\n",
            "Train on 300000 samples, validate on 500 samples\n",
            "Epoch 1/1\n",
            "300000/300000 [==============================] - 28s 92us/step - loss: 0.6300 - accuracy: 0.8255 - f1: 0.8171 - val_loss: 1.1564 - val_accuracy: 0.8340 - val_f1: 0.8436\n",
            "Best F1:0.844, best accuracy:0.834\n"
          ],
          "name": "stdout"
        }
      ]
    },
    {
      "cell_type": "code",
      "metadata": {
        "colab_type": "code",
        "id": "FfJLDPdPxvPM",
        "outputId": "d8bc4c35-40e9-4ffd-8f51-c31ecfff6ac3",
        "colab": {
          "base_uri": "https://localhost:8080/",
          "height": 663
        }
      },
      "source": [
        "f1_score, acc_score, res_cnn, _ = re_fit_cnn(train_data, test_data, w2v_model, MAX_SEQ_LEN, N_CLASSES, model=aug_cnn, word2ind_aug=w2i)"
      ],
      "execution_count": 0,
      "outputs": [
        {
          "output_type": "stream",
          "text": [
            "Average sentence len:  10.240343347639485\n",
            "Max sentence len:  32\n",
            "6.254% of tokens were replaced by unk token index\n",
            "Average sentence len:  7.516\n",
            "Max sentence len:  17\n",
            "3.406% of tokens were replaced by unk token index\n",
            "Train on 3029 samples, validate on 500 samples\n",
            "Epoch 1/100\n",
            "3029/3029 [==============================] - 1s 169us/step - loss: 0.7982 - accuracy: 0.8455 - f1: 0.8495 - val_loss: 0.8906 - val_accuracy: 0.8400 - val_f1: 0.8520\n",
            "Epoch 2/100\n",
            "3029/3029 [==============================] - 0s 100us/step - loss: 0.5041 - accuracy: 0.8973 - f1: 0.8984 - val_loss: 0.6642 - val_accuracy: 0.8720 - val_f1: 0.8803\n",
            "Epoch 3/100\n",
            "3029/3029 [==============================] - 0s 97us/step - loss: 0.3190 - accuracy: 0.9376 - f1: 0.9345 - val_loss: 0.5530 - val_accuracy: 0.8700 - val_f1: 0.8787\n",
            "Epoch 4/100\n",
            "3029/3029 [==============================] - 0s 96us/step - loss: 0.2051 - accuracy: 0.9614 - f1: 0.9612 - val_loss: 0.5003 - val_accuracy: 0.8860 - val_f1: 0.8963\n",
            "Epoch 5/100\n",
            "3029/3029 [==============================] - 0s 97us/step - loss: 0.1355 - accuracy: 0.9716 - f1: 0.9745 - val_loss: 0.5197 - val_accuracy: 0.8800 - val_f1: 0.8854\n",
            "Epoch 6/100\n",
            "3029/3029 [==============================] - 0s 95us/step - loss: 0.0898 - accuracy: 0.9832 - f1: 0.9820 - val_loss: 0.4739 - val_accuracy: 0.9020 - val_f1: 0.8981\n",
            "Epoch 7/100\n",
            "3029/3029 [==============================] - 0s 95us/step - loss: 0.0639 - accuracy: 0.9914 - f1: 0.9864 - val_loss: 0.4933 - val_accuracy: 0.9000 - val_f1: 0.8956\n",
            "Epoch 8/100\n",
            "3029/3029 [==============================] - 0s 98us/step - loss: 0.0432 - accuracy: 0.9947 - f1: 0.9908 - val_loss: 0.4563 - val_accuracy: 0.9160 - val_f1: 0.9087\n",
            "Epoch 9/100\n",
            "3029/3029 [==============================] - 0s 95us/step - loss: 0.0350 - accuracy: 0.9947 - f1: 0.9934 - val_loss: 0.4740 - val_accuracy: 0.9100 - val_f1: 0.9028\n",
            "Epoch 10/100\n",
            "3029/3029 [==============================] - 0s 95us/step - loss: 0.0267 - accuracy: 0.9944 - f1: 0.9942 - val_loss: 0.4380 - val_accuracy: 0.9140 - val_f1: 0.9111\n",
            "Epoch 11/100\n",
            "3029/3029 [==============================] - 0s 94us/step - loss: 0.0224 - accuracy: 0.9954 - f1: 0.9954 - val_loss: 0.4593 - val_accuracy: 0.9120 - val_f1: 0.9113\n",
            "Epoch 12/100\n",
            "3029/3029 [==============================] - 0s 95us/step - loss: 0.0192 - accuracy: 0.9957 - f1: 0.9955 - val_loss: 0.4608 - val_accuracy: 0.9120 - val_f1: 0.9102\n",
            "Epoch 13/100\n",
            "3029/3029 [==============================] - 0s 95us/step - loss: 0.0179 - accuracy: 0.9957 - f1: 0.9956 - val_loss: 0.4424 - val_accuracy: 0.9140 - val_f1: 0.9156\n",
            "Epoch 14/100\n",
            "3029/3029 [==============================] - 0s 95us/step - loss: 0.0154 - accuracy: 0.9960 - f1: 0.9961 - val_loss: 0.4807 - val_accuracy: 0.8680 - val_f1: 0.8699\n",
            "Epoch 15/100\n",
            "3029/3029 [==============================] - 0s 98us/step - loss: 0.0150 - accuracy: 0.9954 - f1: 0.9954 - val_loss: 0.4493 - val_accuracy: 0.9100 - val_f1: 0.9156\n",
            "Best F1:0.916, best accuracy:0.916\n"
          ],
          "name": "stdout"
        }
      ]
    },
    {
      "cell_type": "code",
      "metadata": {
        "id": "BEzX8ra8yIHF",
        "colab_type": "code",
        "colab": {}
      },
      "source": [
        ""
      ],
      "execution_count": 0,
      "outputs": []
    },
    {
      "cell_type": "markdown",
      "metadata": {
        "id": "aV7iEpSu0q8E",
        "colab_type": "text"
      },
      "source": [
        "## 4k"
      ]
    },
    {
      "cell_type": "code",
      "metadata": {
        "colab_type": "code",
        "id": "7h9vMN8Z0uUw",
        "colab": {}
      },
      "source": [
        "train_data, test_data, l2i = read_trec50('trec50_splited/trec50_4k.csv')"
      ],
      "execution_count": 0,
      "outputs": []
    },
    {
      "cell_type": "code",
      "metadata": {
        "colab_type": "code",
        "id": "oeB6-P8B0uUz",
        "colab": {}
      },
      "source": [
        "MAX_SEQ_LEN, N_CLASSES = 37, len(train_data.lbl_index.unique())"
      ],
      "execution_count": 0,
      "outputs": []
    },
    {
      "cell_type": "code",
      "metadata": {
        "colab_type": "code",
        "id": "xuXShNGA0uU0",
        "colab": {}
      },
      "source": [
        "from glob import glob \n",
        "import pandas as pd\n",
        "files = glob('./Question_augmentation/TREC50_4k_bert_0.7__*')\n",
        "all_augs = pd.concat([pd.read_csv(i, index_col=0) for i in files])"
      ],
      "execution_count": 0,
      "outputs": []
    },
    {
      "cell_type": "code",
      "metadata": {
        "colab_type": "code",
        "id": "UrCTrm_B0uU2",
        "outputId": "70e43908-9c2b-45a6-e8aa-29579ba54c66",
        "colab": {
          "base_uri": "https://localhost:8080/",
          "height": 204
        }
      },
      "source": [
        "f1_score, acc_score, aug_lstm, w2i = re_fit_lstm(all_augs[:300000], test_data, w2v_model, MAX_SEQ_LEN, N_CLASSES, epochs=1)"
      ],
      "execution_count": 0,
      "outputs": [
        {
          "output_type": "stream",
          "text": [
            "Not found vectors 38602 out of 107541 unique words\n",
            "Average sentence len:  9.76348\n",
            "Max sentence len:  25601\n",
            "5.503% of tokens were replaced by unk token index\n",
            "Average sentence len:  7.516\n",
            "Max sentence len:  17\n",
            "3.433% of tokens were replaced by unk token index\n",
            "Train on 300000 samples, validate on 500 samples\n",
            "Epoch 1/1\n",
            "300000/300000 [==============================] - 273s 908us/step - loss: 1.1151 - accuracy: 0.7030 - f1: 0.6899 - val_loss: 1.4083 - val_accuracy: 0.7340 - val_f1: 0.7211\n",
            "Best F1:0.721, best accuracy:0.734\n"
          ],
          "name": "stdout"
        }
      ]
    },
    {
      "cell_type": "code",
      "metadata": {
        "colab_type": "code",
        "id": "L919etxI0uU4",
        "outputId": "820620af-4339-42a7-8392-221d16d5ec0e",
        "colab": {
          "base_uri": "https://localhost:8080/",
          "height": 629
        }
      },
      "source": [
        "f1_score, acc_score, res_lstm, _ = re_fit_lstm(train_data, test_data, w2v_model, MAX_SEQ_LEN, N_CLASSES, model=aug_lstm, word2ind_aug=w2i)"
      ],
      "execution_count": 0,
      "outputs": [
        {
          "output_type": "stream",
          "text": [
            "Average sentence len:  10.186639979984989\n",
            "Max sentence len:  37\n",
            "6.469% of tokens were replaced by unk token index\n",
            "Average sentence len:  7.516\n",
            "Max sentence len:  17\n",
            "3.433% of tokens were replaced by unk token index\n",
            "Train on 3997 samples, validate on 500 samples\n",
            "Epoch 1/100\n",
            "3997/3997 [==============================] - 4s 952us/step - loss: 1.1669 - accuracy: 0.7223 - f1: 0.7159 - val_loss: 1.1433 - val_accuracy: 0.7700 - val_f1: 0.7290\n",
            "Epoch 2/100\n",
            "3997/3997 [==============================] - 4s 919us/step - loss: 0.9604 - accuracy: 0.7598 - f1: 0.7533 - val_loss: 0.9513 - val_accuracy: 0.8040 - val_f1: 0.7978\n",
            "Epoch 3/100\n",
            "3997/3997 [==============================] - 4s 929us/step - loss: 0.8024 - accuracy: 0.7991 - f1: 0.7895 - val_loss: 0.8392 - val_accuracy: 0.8200 - val_f1: 0.8256\n",
            "Epoch 4/100\n",
            "3997/3997 [==============================] - 4s 964us/step - loss: 0.6869 - accuracy: 0.8136 - f1: 0.8181 - val_loss: 0.8343 - val_accuracy: 0.8200 - val_f1: 0.8104\n",
            "Epoch 5/100\n",
            "3997/3997 [==============================] - 4s 958us/step - loss: 0.5810 - accuracy: 0.8384 - f1: 0.8399 - val_loss: 0.8405 - val_accuracy: 0.8200 - val_f1: 0.8179\n",
            "Epoch 6/100\n",
            "3997/3997 [==============================] - 4s 951us/step - loss: 0.5088 - accuracy: 0.8629 - f1: 0.8606 - val_loss: 0.7804 - val_accuracy: 0.8140 - val_f1: 0.8232\n",
            "Epoch 7/100\n",
            "3997/3997 [==============================] - 4s 947us/step - loss: 0.4165 - accuracy: 0.8804 - f1: 0.8830 - val_loss: 0.7983 - val_accuracy: 0.8260 - val_f1: 0.8370\n",
            "Epoch 8/100\n",
            "3997/3997 [==============================] - 4s 945us/step - loss: 0.3644 - accuracy: 0.8927 - f1: 0.8971 - val_loss: 0.7772 - val_accuracy: 0.8220 - val_f1: 0.8361\n",
            "Epoch 9/100\n",
            "3997/3997 [==============================] - 4s 951us/step - loss: 0.3171 - accuracy: 0.9089 - f1: 0.9074 - val_loss: 0.7631 - val_accuracy: 0.8360 - val_f1: 0.8408\n",
            "Epoch 10/100\n",
            "3997/3997 [==============================] - 4s 943us/step - loss: 0.2660 - accuracy: 0.9269 - f1: 0.9238 - val_loss: 0.8897 - val_accuracy: 0.8120 - val_f1: 0.8215\n",
            "Epoch 11/100\n",
            "3997/3997 [==============================] - 4s 973us/step - loss: 0.2489 - accuracy: 0.9282 - f1: 0.9236 - val_loss: 0.8152 - val_accuracy: 0.8280 - val_f1: 0.8422\n",
            "Epoch 12/100\n",
            "3997/3997 [==============================] - 4s 942us/step - loss: 0.2111 - accuracy: 0.9422 - f1: 0.9379 - val_loss: 0.8483 - val_accuracy: 0.8380 - val_f1: 0.8475\n",
            "Epoch 13/100\n",
            "3997/3997 [==============================] - 4s 974us/step - loss: 0.1743 - accuracy: 0.9492 - f1: 0.9490 - val_loss: 0.9143 - val_accuracy: 0.8200 - val_f1: 0.8311\n",
            "Epoch 14/100\n",
            "3997/3997 [==============================] - 4s 938us/step - loss: 0.1362 - accuracy: 0.9622 - f1: 0.9611 - val_loss: 0.9197 - val_accuracy: 0.8300 - val_f1: 0.8323\n",
            "Best F1:0.847, best accuracy:0.838\n"
          ],
          "name": "stdout"
        }
      ]
    },
    {
      "cell_type": "code",
      "metadata": {
        "colab_type": "code",
        "outputId": "98be1388-93df-4690-8dfb-04da0b7013ce",
        "id": "VHJ5E64P0uU6",
        "colab": {
          "base_uri": "https://localhost:8080/",
          "height": 204
        }
      },
      "source": [
        "f1_score, acc_score, aug_cnn, w2i = re_fit_cnn(all_augs[:300000], test_data, w2v_model, MAX_SEQ_LEN, N_CLASSES, epochs=1)"
      ],
      "execution_count": 0,
      "outputs": [
        {
          "output_type": "stream",
          "text": [
            "Not found vectors 38602 out of 107541 unique words\n",
            "Average sentence len:  9.76348\n",
            "Max sentence len:  25601\n",
            "5.503% of tokens were replaced by unk token index\n",
            "Average sentence len:  7.516\n",
            "Max sentence len:  17\n",
            "3.433% of tokens were replaced by unk token index\n",
            "Train on 300000 samples, validate on 500 samples\n",
            "Epoch 1/1\n",
            "300000/300000 [==============================] - 27s 92us/step - loss: 0.6621 - accuracy: 0.8161 - f1: 0.8075 - val_loss: 0.9511 - val_accuracy: 0.8460 - val_f1: 0.8448\n",
            "Best F1:0.845, best accuracy:0.846\n"
          ],
          "name": "stdout"
        }
      ]
    },
    {
      "cell_type": "code",
      "metadata": {
        "colab_type": "code",
        "outputId": "d2dd2de2-1c87-42a9-faec-dc45ecf0979f",
        "id": "aiQSsR520uU9",
        "colab": {
          "base_uri": "https://localhost:8080/",
          "height": 595
        }
      },
      "source": [
        "f1_score, acc_score, res_cnn, _ = re_fit_cnn(train_data, test_data, w2v_model, MAX_SEQ_LEN, N_CLASSES, model=aug_cnn, word2ind_aug=w2i)"
      ],
      "execution_count": 0,
      "outputs": [
        {
          "output_type": "stream",
          "text": [
            "Average sentence len:  10.186639979984989\n",
            "Max sentence len:  37\n",
            "6.469% of tokens were replaced by unk token index\n",
            "Average sentence len:  7.516\n",
            "Max sentence len:  17\n",
            "3.433% of tokens were replaced by unk token index\n",
            "Train on 3997 samples, validate on 500 samples\n",
            "Epoch 1/100\n",
            "3997/3997 [==============================] - 1s 126us/step - loss: 0.6211 - accuracy: 0.8624 - f1: 0.8644 - val_loss: 0.7304 - val_accuracy: 0.8780 - val_f1: 0.8779\n",
            "Epoch 2/100\n",
            "3997/3997 [==============================] - 0s 97us/step - loss: 0.3626 - accuracy: 0.9199 - f1: 0.9208 - val_loss: 0.5915 - val_accuracy: 0.8780 - val_f1: 0.8866\n",
            "Epoch 3/100\n",
            "3997/3997 [==============================] - 0s 95us/step - loss: 0.2153 - accuracy: 0.9575 - f1: 0.9558 - val_loss: 0.5188 - val_accuracy: 0.8880 - val_f1: 0.9000\n",
            "Epoch 4/100\n",
            "3997/3997 [==============================] - 0s 97us/step - loss: 0.1296 - accuracy: 0.9750 - f1: 0.9745 - val_loss: 0.5129 - val_accuracy: 0.8880 - val_f1: 0.9029\n",
            "Epoch 5/100\n",
            "3997/3997 [==============================] - 0s 95us/step - loss: 0.0824 - accuracy: 0.9862 - f1: 0.9861 - val_loss: 0.5102 - val_accuracy: 0.8960 - val_f1: 0.9055\n",
            "Epoch 6/100\n",
            "3997/3997 [==============================] - 0s 94us/step - loss: 0.0556 - accuracy: 0.9920 - f1: 0.9903 - val_loss: 0.4887 - val_accuracy: 0.8980 - val_f1: 0.9023\n",
            "Epoch 7/100\n",
            "3997/3997 [==============================] - 0s 94us/step - loss: 0.0398 - accuracy: 0.9950 - f1: 0.9933 - val_loss: 0.4880 - val_accuracy: 0.9040 - val_f1: 0.9025\n",
            "Epoch 8/100\n",
            "3997/3997 [==============================] - 0s 96us/step - loss: 0.0305 - accuracy: 0.9960 - f1: 0.9950 - val_loss: 0.4829 - val_accuracy: 0.9000 - val_f1: 0.9080\n",
            "Epoch 9/100\n",
            "3997/3997 [==============================] - 0s 96us/step - loss: 0.0253 - accuracy: 0.9962 - f1: 0.9959 - val_loss: 0.4867 - val_accuracy: 0.9020 - val_f1: 0.9029\n",
            "Epoch 10/100\n",
            "3997/3997 [==============================] - 0s 95us/step - loss: 0.0219 - accuracy: 0.9955 - f1: 0.9953 - val_loss: 0.4830 - val_accuracy: 0.9020 - val_f1: 0.9029\n",
            "Epoch 11/100\n",
            "3997/3997 [==============================] - 0s 95us/step - loss: 0.0209 - accuracy: 0.9962 - f1: 0.9962 - val_loss: 0.4861 - val_accuracy: 0.9000 - val_f1: 0.8999\n",
            "Epoch 12/100\n",
            "3997/3997 [==============================] - 0s 96us/step - loss: 0.0184 - accuracy: 0.9957 - f1: 0.9958 - val_loss: 0.4869 - val_accuracy: 0.9040 - val_f1: 0.9052\n",
            "Epoch 13/100\n",
            "3997/3997 [==============================] - 0s 95us/step - loss: 0.0170 - accuracy: 0.9962 - f1: 0.9962 - val_loss: 0.4881 - val_accuracy: 0.9060 - val_f1: 0.9052\n",
            "Best F1:0.908, best accuracy:0.906\n"
          ],
          "name": "stdout"
        }
      ]
    },
    {
      "cell_type": "markdown",
      "metadata": {
        "id": "8TJecb_40srx",
        "colab_type": "text"
      },
      "source": [
        "## 5k"
      ]
    },
    {
      "cell_type": "code",
      "metadata": {
        "colab_type": "code",
        "id": "H5kVpNs00vaa",
        "colab": {}
      },
      "source": [
        "train_data, test_data, l2i = read_trec50('trec50_splited/trec50_5k.csv')"
      ],
      "execution_count": 0,
      "outputs": []
    },
    {
      "cell_type": "code",
      "metadata": {
        "colab_type": "code",
        "id": "fuXOEaog0vac",
        "colab": {}
      },
      "source": [
        "MAX_SEQ_LEN, N_CLASSES = 37, len(train_data.lbl_index.unique())"
      ],
      "execution_count": 0,
      "outputs": []
    },
    {
      "cell_type": "code",
      "metadata": {
        "colab_type": "code",
        "id": "EgVVzIDd0vae",
        "colab": {}
      },
      "source": [
        "from glob import glob \n",
        "import pandas as pd\n",
        "files = glob('./Question_augmentation/TREC50_5k_bert_0.7__*')\n",
        "all_augs = pd.concat([pd.read_csv(i, index_col=0) for i in files])"
      ],
      "execution_count": 0,
      "outputs": []
    },
    {
      "cell_type": "code",
      "metadata": {
        "colab_type": "code",
        "id": "G3-F1LWx0vaf",
        "outputId": "9a07d51f-4794-43dc-8619-fe4e64c3b0ff",
        "colab": {
          "base_uri": "https://localhost:8080/",
          "height": 204
        }
      },
      "source": [
        "f1_score, acc_score, aug_lstm, w2i = re_fit_lstm(all_augs[:300000], test_data, w2v_model, MAX_SEQ_LEN, N_CLASSES, epochs=1)"
      ],
      "execution_count": 0,
      "outputs": [
        {
          "output_type": "stream",
          "text": [
            "Not found vectors 38687 out of 107462 unique words\n",
            "Average sentence len:  9.754986666666667\n",
            "Max sentence len:  25601\n",
            "5.533% of tokens were replaced by unk token index\n",
            "Average sentence len:  7.516\n",
            "Max sentence len:  17\n",
            "3.406% of tokens were replaced by unk token index\n",
            "Train on 300000 samples, validate on 500 samples\n",
            "Epoch 1/1\n",
            "300000/300000 [==============================] - 276s 921us/step - loss: 1.1597 - accuracy: 0.6919 - f1: 0.6723 - val_loss: 1.3174 - val_accuracy: 0.7180 - val_f1: 0.7004\n",
            "Best F1:0.700, best accuracy:0.718\n"
          ],
          "name": "stdout"
        }
      ]
    },
    {
      "cell_type": "code",
      "metadata": {
        "colab_type": "code",
        "id": "Rg0lEHJk0vah",
        "outputId": "6ff4a1e5-7151-4579-a2af-9fd0ce321b4b",
        "colab": {
          "base_uri": "https://localhost:8080/",
          "height": 493
        }
      },
      "source": [
        "f1_score, acc_score, res_lstm, _ = re_fit_lstm(train_data, test_data, w2v_model, MAX_SEQ_LEN, N_CLASSES, model=aug_lstm, word2ind_aug=w2i)"
      ],
      "execution_count": 0,
      "outputs": [
        {
          "output_type": "stream",
          "text": [
            "Average sentence len:  10.208824116590138\n",
            "Max sentence len:  37\n",
            "6.358% of tokens were replaced by unk token index\n",
            "Average sentence len:  7.516\n",
            "Max sentence len:  17\n",
            "3.406% of tokens were replaced by unk token index\n",
            "Train on 5009 samples, validate on 500 samples\n",
            "Epoch 1/100\n",
            "5009/5009 [==============================] - 5s 966us/step - loss: 1.0527 - accuracy: 0.7255 - f1: 0.7245 - val_loss: 1.0749 - val_accuracy: 0.7620 - val_f1: 0.7557\n",
            "Epoch 2/100\n",
            "5009/5009 [==============================] - 5s 950us/step - loss: 0.8960 - accuracy: 0.7648 - f1: 0.7655 - val_loss: 0.9760 - val_accuracy: 0.7820 - val_f1: 0.7852\n",
            "Epoch 3/100\n",
            "5009/5009 [==============================] - 5s 972us/step - loss: 0.7605 - accuracy: 0.8012 - f1: 0.7956 - val_loss: 0.9250 - val_accuracy: 0.7900 - val_f1: 0.7978\n",
            "Epoch 4/100\n",
            "5009/5009 [==============================] - 5s 951us/step - loss: 0.6564 - accuracy: 0.8205 - f1: 0.8202 - val_loss: 0.8926 - val_accuracy: 0.7800 - val_f1: 0.8148\n",
            "Epoch 5/100\n",
            "5009/5009 [==============================] - 5s 950us/step - loss: 0.5791 - accuracy: 0.8477 - f1: 0.8456 - val_loss: 0.8137 - val_accuracy: 0.8000 - val_f1: 0.8132\n",
            "Epoch 6/100\n",
            "5009/5009 [==============================] - 5s 946us/step - loss: 0.4973 - accuracy: 0.8624 - f1: 0.8610 - val_loss: 0.8151 - val_accuracy: 0.8020 - val_f1: 0.8147\n",
            "Epoch 7/100\n",
            "5009/5009 [==============================] - 5s 951us/step - loss: 0.4195 - accuracy: 0.8860 - f1: 0.8862 - val_loss: 0.8793 - val_accuracy: 0.7980 - val_f1: 0.8160\n",
            "Epoch 8/100\n",
            "5009/5009 [==============================] - 5s 979us/step - loss: 0.3767 - accuracy: 0.8948 - f1: 0.8953 - val_loss: 0.8406 - val_accuracy: 0.7920 - val_f1: 0.8131\n",
            "Epoch 9/100\n",
            "5009/5009 [==============================] - 5s 947us/step - loss: 0.3207 - accuracy: 0.9108 - f1: 0.9087 - val_loss: 0.8596 - val_accuracy: 0.8060 - val_f1: 0.8300\n",
            "Epoch 10/100\n",
            "5009/5009 [==============================] - 5s 956us/step - loss: 0.2789 - accuracy: 0.9225 - f1: 0.9216 - val_loss: 0.8689 - val_accuracy: 0.8100 - val_f1: 0.8257\n",
            "Best F1:0.830, best accuracy:0.810\n"
          ],
          "name": "stdout"
        }
      ]
    },
    {
      "cell_type": "code",
      "metadata": {
        "colab_type": "code",
        "outputId": "b4883c60-282c-408f-9318-ed71d45f5ed7",
        "id": "ZjP_of4D0vaj",
        "colab": {
          "base_uri": "https://localhost:8080/",
          "height": 204
        }
      },
      "source": [
        "f1_score, acc_score, aug_cnn, w2i = re_fit_cnn(all_augs[:300000], test_data, w2v_model, MAX_SEQ_LEN, N_CLASSES, epochs=1)"
      ],
      "execution_count": 0,
      "outputs": [
        {
          "output_type": "stream",
          "text": [
            "Not found vectors 38687 out of 107462 unique words\n",
            "Average sentence len:  9.754986666666667\n",
            "Max sentence len:  25601\n",
            "5.533% of tokens were replaced by unk token index\n",
            "Average sentence len:  7.516\n",
            "Max sentence len:  17\n",
            "3.406% of tokens were replaced by unk token index\n",
            "Train on 300000 samples, validate on 500 samples\n",
            "Epoch 1/1\n",
            "300000/300000 [==============================] - 28s 92us/step - loss: 0.6881 - accuracy: 0.8099 - f1: 0.7985 - val_loss: 0.8763 - val_accuracy: 0.8520 - val_f1: 0.8574\n",
            "Best F1:0.857, best accuracy:0.852\n"
          ],
          "name": "stdout"
        }
      ]
    },
    {
      "cell_type": "code",
      "metadata": {
        "colab_type": "code",
        "outputId": "0ce184b7-0e3c-41cd-e03b-64915f851a6e",
        "id": "0BwX5V3l0val",
        "colab": {
          "base_uri": "https://localhost:8080/",
          "height": 595
        }
      },
      "source": [
        "f1_score, acc_score, res_cnn, _ = re_fit_cnn(train_data, test_data, w2v_model, MAX_SEQ_LEN, N_CLASSES, model=aug_cnn, word2ind_aug=w2i)"
      ],
      "execution_count": 0,
      "outputs": [
        {
          "output_type": "stream",
          "text": [
            "Average sentence len:  10.208824116590138\n",
            "Max sentence len:  37\n",
            "6.358% of tokens were replaced by unk token index\n",
            "Average sentence len:  7.516\n",
            "Max sentence len:  17\n",
            "3.406% of tokens were replaced by unk token index\n",
            "Train on 5009 samples, validate on 500 samples\n",
            "Epoch 1/100\n",
            "5009/5009 [==============================] - 0s 94us/step - loss: 0.5207 - accuracy: 0.8754 - f1: 0.8730 - val_loss: 0.6837 - val_accuracy: 0.8780 - val_f1: 0.8725\n",
            "Epoch 2/100\n",
            "5009/5009 [==============================] - 0s 95us/step - loss: 0.2985 - accuracy: 0.9333 - f1: 0.9313 - val_loss: 0.5626 - val_accuracy: 0.8760 - val_f1: 0.8875\n",
            "Epoch 3/100\n",
            "5009/5009 [==============================] - 0s 96us/step - loss: 0.1668 - accuracy: 0.9675 - f1: 0.9674 - val_loss: 0.4930 - val_accuracy: 0.8880 - val_f1: 0.8914\n",
            "Epoch 4/100\n",
            "5009/5009 [==============================] - 0s 96us/step - loss: 0.0997 - accuracy: 0.9822 - f1: 0.9827 - val_loss: 0.4836 - val_accuracy: 0.8960 - val_f1: 0.8969\n",
            "Epoch 5/100\n",
            "5009/5009 [==============================] - 0s 94us/step - loss: 0.0647 - accuracy: 0.9894 - f1: 0.9879 - val_loss: 0.4737 - val_accuracy: 0.8940 - val_f1: 0.8941\n",
            "Epoch 6/100\n",
            "5009/5009 [==============================] - 0s 96us/step - loss: 0.0440 - accuracy: 0.9944 - f1: 0.9934 - val_loss: 0.4836 - val_accuracy: 0.8940 - val_f1: 0.8971\n",
            "Epoch 7/100\n",
            "5009/5009 [==============================] - 0s 96us/step - loss: 0.0332 - accuracy: 0.9968 - f1: 0.9955 - val_loss: 0.4759 - val_accuracy: 0.9000 - val_f1: 0.9052\n",
            "Epoch 8/100\n",
            "5009/5009 [==============================] - 0s 96us/step - loss: 0.0262 - accuracy: 0.9970 - f1: 0.9961 - val_loss: 0.4677 - val_accuracy: 0.9020 - val_f1: 0.9016\n",
            "Epoch 9/100\n",
            "5009/5009 [==============================] - 0s 98us/step - loss: 0.0218 - accuracy: 0.9974 - f1: 0.9974 - val_loss: 0.4762 - val_accuracy: 0.9020 - val_f1: 0.9009\n",
            "Epoch 10/100\n",
            "5009/5009 [==============================] - 0s 95us/step - loss: 0.0194 - accuracy: 0.9976 - f1: 0.9976 - val_loss: 0.4736 - val_accuracy: 0.9060 - val_f1: 0.9061\n",
            "Epoch 11/100\n",
            "5009/5009 [==============================] - 0s 94us/step - loss: 0.0174 - accuracy: 0.9976 - f1: 0.9976 - val_loss: 0.4750 - val_accuracy: 0.9040 - val_f1: 0.9052\n",
            "Epoch 12/100\n",
            "5009/5009 [==============================] - 0s 95us/step - loss: 0.0158 - accuracy: 0.9974 - f1: 0.9974 - val_loss: 0.4804 - val_accuracy: 0.9040 - val_f1: 0.9032\n",
            "Epoch 13/100\n",
            "5009/5009 [==============================] - 0s 95us/step - loss: 0.0148 - accuracy: 0.9976 - f1: 0.9976 - val_loss: 0.4810 - val_accuracy: 0.9020 - val_f1: 0.9043\n",
            "Best F1:0.906, best accuracy:0.906\n"
          ],
          "name": "stdout"
        }
      ]
    },
    {
      "cell_type": "code",
      "metadata": {
        "id": "1JasyHdC04WQ",
        "colab_type": "code",
        "colab": {}
      },
      "source": [
        ""
      ],
      "execution_count": 0,
      "outputs": []
    },
    {
      "cell_type": "markdown",
      "metadata": {
        "id": "ThUyYj8f4XBH",
        "colab_type": "text"
      },
      "source": [
        "# TREC-6 aug bert faiss"
      ]
    },
    {
      "cell_type": "code",
      "metadata": {
        "id": "zqqctlqP4a67",
        "colab_type": "code",
        "colab": {}
      },
      "source": [
        "!ls"
      ],
      "execution_count": 0,
      "outputs": []
    },
    {
      "cell_type": "markdown",
      "metadata": {
        "id": "0LVXgAid4b2v",
        "colab_type": "text"
      },
      "source": [
        "## 3k"
      ]
    },
    {
      "cell_type": "code",
      "metadata": {
        "colab_type": "code",
        "id": "82ieWFQQ4ksb",
        "colab": {}
      },
      "source": [
        "train_data, test_data, l2i = read_trec6('trec6_splited/trec6_splited_3k.csv')"
      ],
      "execution_count": 0,
      "outputs": []
    },
    {
      "cell_type": "code",
      "metadata": {
        "colab_type": "code",
        "id": "ssMmWU4A4kse",
        "colab": {}
      },
      "source": [
        "MAX_SEQ_LEN, N_CLASSES = 37, len(train_data.lbl_index.unique())"
      ],
      "execution_count": 0,
      "outputs": []
    },
    {
      "cell_type": "code",
      "metadata": {
        "colab_type": "code",
        "id": "yXITwMI74ksg",
        "colab": {}
      },
      "source": [
        "from glob import glob \n",
        "import pandas as pd\n",
        "files = glob('./USE_filtring_3k_*')\n",
        "all_augs = pd.concat([pd.read_csv(i, index_col=0) for i in files])"
      ],
      "execution_count": 0,
      "outputs": []
    },
    {
      "cell_type": "code",
      "metadata": {
        "colab_type": "code",
        "outputId": "4262e34b-efe5-412d-b972-5da28b90209c",
        "id": "llxjuMBo4ksk",
        "colab": {
          "base_uri": "https://localhost:8080/",
          "height": 207
        }
      },
      "source": [
        "f1_score, acc_score, aug_lstm, w2i = re_fit_lstm(all_augs, test_data, w2v_model, MAX_SEQ_LEN, N_CLASSES, epochs=1)"
      ],
      "execution_count": 0,
      "outputs": [
        {
          "output_type": "stream",
          "text": [
            "Not found vectors 10527 out of 36905 unique words\n",
            "Average sentence len:  8.895179521172649\n",
            "Max sentence len:  33\n",
            "6.460% of tokens were replaced by unk token index\n",
            "Average sentence len:  7.516\n",
            "Max sentence len:  17\n",
            "6.360% of tokens were replaced by unk token index\n",
            "Train on 319823 samples, validate on 500 samples\n",
            "Epoch 1/1\n",
            "319823/319823 [==============================] - 152s 475us/step - loss: 0.3288 - accuracy: 0.8838 - f1: 0.8752 - val_loss: 0.3163 - val_accuracy: 0.8980 - val_f1: 0.9008\n",
            "Best F1:0.901, best accuracy:0.898\n"
          ],
          "name": "stdout"
        }
      ]
    },
    {
      "cell_type": "code",
      "metadata": {
        "colab_type": "code",
        "outputId": "3a0882ac-49ec-4db8-9695-59e811c23ddd",
        "id": "hMT4fAlK4ksm",
        "colab": {
          "base_uri": "https://localhost:8080/",
          "height": 397
        }
      },
      "source": [
        "f1_score, acc_score, res_lstm, _ = re_fit_lstm(train_data, test_data, w2v_model, MAX_SEQ_LEN, N_CLASSES, model=aug_lstm, word2ind_aug=w2i)"
      ],
      "execution_count": 0,
      "outputs": [
        {
          "output_type": "stream",
          "text": [
            "Average sentence len:  10.175099866844208\n",
            "Max sentence len:  37\n",
            "9.236% of tokens were replaced by unk token index\n",
            "Average sentence len:  7.516\n",
            "Max sentence len:  17\n",
            "6.360% of tokens were replaced by unk token index\n",
            "Train on 3004 samples, validate on 500 samples\n",
            "Epoch 1/100\n",
            "3004/3004 [==============================] - 2s 506us/step - loss: 0.3684 - accuracy: 0.8765 - f1: 0.8762 - val_loss: 0.2654 - val_accuracy: 0.9180 - val_f1: 0.9181\n",
            "Epoch 2/100\n",
            "3004/3004 [==============================] - 1s 476us/step - loss: 0.3013 - accuracy: 0.8988 - f1: 0.8977 - val_loss: 0.2171 - val_accuracy: 0.9320 - val_f1: 0.9359\n",
            "Epoch 3/100\n",
            "3004/3004 [==============================] - 1s 485us/step - loss: 0.2544 - accuracy: 0.9138 - f1: 0.9148 - val_loss: 0.2473 - val_accuracy: 0.9260 - val_f1: 0.9242\n",
            "Epoch 4/100\n",
            "3004/3004 [==============================] - 1s 473us/step - loss: 0.2042 - accuracy: 0.9334 - f1: 0.9327 - val_loss: 0.2185 - val_accuracy: 0.9360 - val_f1: 0.9356\n",
            "Epoch 5/100\n",
            "3004/3004 [==============================] - 1s 474us/step - loss: 0.1666 - accuracy: 0.9447 - f1: 0.9449 - val_loss: 0.2405 - val_accuracy: 0.9340 - val_f1: 0.9337\n",
            "Epoch 6/100\n",
            "3004/3004 [==============================] - 1s 488us/step - loss: 0.1473 - accuracy: 0.9514 - f1: 0.9514 - val_loss: 0.2463 - val_accuracy: 0.9280 - val_f1: 0.9296\n",
            "Epoch 7/100\n",
            "3004/3004 [==============================] - 1s 474us/step - loss: 0.1174 - accuracy: 0.9654 - f1: 0.9651 - val_loss: 0.2757 - val_accuracy: 0.9260 - val_f1: 0.9288\n",
            "Best F1:0.936, best accuracy:0.936\n"
          ],
          "name": "stdout"
        }
      ]
    },
    {
      "cell_type": "code",
      "metadata": {
        "colab_type": "code",
        "outputId": "003e015c-6158-40a4-856d-7c1f89294aeb",
        "id": "QuvqO1oh4kso",
        "colab": {
          "base_uri": "https://localhost:8080/",
          "height": 207
        }
      },
      "source": [
        "f1_score, acc_score, aug_cnn, w2i = re_fit_cnn(all_augs, test_data, w2v_model, MAX_SEQ_LEN, N_CLASSES, epochs=1)"
      ],
      "execution_count": 0,
      "outputs": [
        {
          "output_type": "stream",
          "text": [
            "Not found vectors 10527 out of 36905 unique words\n",
            "Average sentence len:  8.895179521172649\n",
            "Max sentence len:  33\n",
            "6.460% of tokens were replaced by unk token index\n",
            "Average sentence len:  7.516\n",
            "Max sentence len:  17\n",
            "6.360% of tokens were replaced by unk token index\n",
            "Train on 319823 samples, validate on 500 samples\n",
            "Epoch 1/1\n",
            "319823/319823 [==============================] - 15s 46us/step - loss: 0.1495 - accuracy: 0.9487 - f1: 0.9386 - val_loss: 0.2189 - val_accuracy: 0.9400 - val_f1: 0.9378\n",
            "Best F1:0.938, best accuracy:0.940\n"
          ],
          "name": "stdout"
        }
      ]
    },
    {
      "cell_type": "code",
      "metadata": {
        "colab_type": "code",
        "outputId": "edc637ee-ddf1-494f-cd57-482dc64d7b2f",
        "id": "KAkvcAX64ksr",
        "colab": {
          "base_uri": "https://localhost:8080/",
          "height": 501
        }
      },
      "source": [
        "f1_score, acc_score, res_cnn, _ = re_fit_cnn(train_data, test_data, w2v_model, MAX_SEQ_LEN, N_CLASSES, model=aug_cnn, word2ind_aug=w2i)"
      ],
      "execution_count": 0,
      "outputs": [
        {
          "output_type": "stream",
          "text": [
            "Average sentence len:  10.175099866844208\n",
            "Max sentence len:  37\n",
            "9.236% of tokens were replaced by unk token index\n",
            "Average sentence len:  7.516\n",
            "Max sentence len:  17\n",
            "6.360% of tokens were replaced by unk token index\n",
            "Train on 3004 samples, validate on 500 samples\n",
            "Epoch 1/100\n",
            "3004/3004 [==============================] - 0s 43us/step - loss: 0.3306 - accuracy: 0.9068 - f1: 0.9072 - val_loss: 0.2107 - val_accuracy: 0.9480 - val_f1: 0.9509\n",
            "Epoch 2/100\n",
            "3004/3004 [==============================] - 0s 34us/step - loss: 0.1030 - accuracy: 0.9667 - f1: 0.9672 - val_loss: 0.1785 - val_accuracy: 0.9540 - val_f1: 0.9518\n",
            "Epoch 3/100\n",
            "3004/3004 [==============================] - 0s 34us/step - loss: 0.0434 - accuracy: 0.9883 - f1: 0.9882 - val_loss: 0.2369 - val_accuracy: 0.9400 - val_f1: 0.9399\n",
            "Epoch 4/100\n",
            "3004/3004 [==============================] - 0s 33us/step - loss: 0.0238 - accuracy: 0.9940 - f1: 0.9939 - val_loss: 0.1945 - val_accuracy: 0.9520 - val_f1: 0.9498\n",
            "Epoch 5/100\n",
            "3004/3004 [==============================] - 0s 32us/step - loss: 0.0182 - accuracy: 0.9950 - f1: 0.9951 - val_loss: 0.1654 - val_accuracy: 0.9580 - val_f1: 0.9578\n",
            "Epoch 6/100\n",
            "3004/3004 [==============================] - 0s 32us/step - loss: 0.0152 - accuracy: 0.9950 - f1: 0.9948 - val_loss: 0.2065 - val_accuracy: 0.9520 - val_f1: 0.9530\n",
            "Epoch 7/100\n",
            "3004/3004 [==============================] - 0s 33us/step - loss: 0.0138 - accuracy: 0.9950 - f1: 0.9950 - val_loss: 0.2121 - val_accuracy: 0.9540 - val_f1: 0.9530\n",
            "Epoch 8/100\n",
            "3004/3004 [==============================] - 0s 33us/step - loss: 0.0132 - accuracy: 0.9947 - f1: 0.9946 - val_loss: 0.2017 - val_accuracy: 0.9520 - val_f1: 0.9520\n",
            "Epoch 9/100\n",
            "3004/3004 [==============================] - 0s 34us/step - loss: 0.0140 - accuracy: 0.9947 - f1: 0.9947 - val_loss: 0.1923 - val_accuracy: 0.9500 - val_f1: 0.9499\n",
            "Epoch 10/100\n",
            "3004/3004 [==============================] - 0s 34us/step - loss: 0.0138 - accuracy: 0.9940 - f1: 0.9939 - val_loss: 0.1911 - val_accuracy: 0.9520 - val_f1: 0.9539\n",
            "Best F1:0.958, best accuracy:0.958\n"
          ],
          "name": "stdout"
        }
      ]
    },
    {
      "cell_type": "code",
      "metadata": {
        "id": "69liK10M49i-",
        "colab_type": "code",
        "colab": {}
      },
      "source": [
        "!ls"
      ],
      "execution_count": 0,
      "outputs": []
    },
    {
      "cell_type": "markdown",
      "metadata": {
        "id": "44BD725C6axC",
        "colab_type": "text"
      },
      "source": [
        "## 4k"
      ]
    },
    {
      "cell_type": "code",
      "metadata": {
        "colab_type": "code",
        "id": "vpXQo4iW6bGo",
        "colab": {}
      },
      "source": [
        "train_data, test_data, l2i = read_trec6('trec6_splited/trec6_splited_4k.csv')"
      ],
      "execution_count": 0,
      "outputs": []
    },
    {
      "cell_type": "code",
      "metadata": {
        "colab_type": "code",
        "id": "SLf04ynz6bGr",
        "colab": {}
      },
      "source": [
        "MAX_SEQ_LEN, N_CLASSES = 37, len(train_data.lbl_index.unique())"
      ],
      "execution_count": 0,
      "outputs": []
    },
    {
      "cell_type": "code",
      "metadata": {
        "colab_type": "code",
        "id": "2Cocy_9o6bGt",
        "colab": {}
      },
      "source": [
        "from glob import glob \n",
        "import pandas as pd\n",
        "files = glob('./USE_filtring_trec6_4k*')\n",
        "all_augs = pd.concat([pd.read_csv(i, index_col=0) for i in files])"
      ],
      "execution_count": 0,
      "outputs": []
    },
    {
      "cell_type": "code",
      "metadata": {
        "colab_type": "code",
        "outputId": "970b4000-5ca0-4f8d-f1e9-481f874110cc",
        "id": "eD0_R4Dq6bGv",
        "colab": {
          "base_uri": "https://localhost:8080/",
          "height": 207
        }
      },
      "source": [
        "f1_score, acc_score, aug_lstm, w2i = re_fit_lstm(all_augs, test_data, w2v_model, MAX_SEQ_LEN, N_CLASSES, epochs=1)"
      ],
      "execution_count": 0,
      "outputs": [
        {
          "output_type": "stream",
          "text": [
            "Not found vectors 12101 out of 41371 unique words\n",
            "Average sentence len:  8.899900982627369\n",
            "Max sentence len:  36\n",
            "6.367% of tokens were replaced by unk token index\n",
            "Average sentence len:  7.516\n",
            "Max sentence len:  17\n",
            "5.828% of tokens were replaced by unk token index\n",
            "Train on 437297 samples, validate on 500 samples\n",
            "Epoch 1/1\n",
            "437297/437297 [==============================] - 209s 479us/step - loss: 0.2806 - accuracy: 0.9017 - f1: 0.8950 - val_loss: 0.2519 - val_accuracy: 0.9140 - val_f1: 0.9127\n",
            "Best F1:0.913, best accuracy:0.914\n"
          ],
          "name": "stdout"
        }
      ]
    },
    {
      "cell_type": "code",
      "metadata": {
        "colab_type": "code",
        "outputId": "76eca419-f659-4441-d14f-014be3475435",
        "id": "sSWaOnp66bGx",
        "colab": {
          "base_uri": "https://localhost:8080/",
          "height": 397
        }
      },
      "source": [
        "f1_score, acc_score, res_lstm, _ = re_fit_lstm(train_data, test_data, w2v_model, MAX_SEQ_LEN, N_CLASSES, model=aug_lstm, word2ind_aug=w2i)"
      ],
      "execution_count": 0,
      "outputs": [
        {
          "output_type": "stream",
          "text": [
            "Average sentence len:  10.211788211788212\n",
            "Max sentence len:  37\n",
            "8.787% of tokens were replaced by unk token index\n",
            "Average sentence len:  7.516\n",
            "Max sentence len:  17\n",
            "5.828% of tokens were replaced by unk token index\n",
            "Train on 4004 samples, validate on 500 samples\n",
            "Epoch 1/100\n",
            "4004/4004 [==============================] - 2s 516us/step - loss: 0.3375 - accuracy: 0.8854 - f1: 0.8874 - val_loss: 0.1965 - val_accuracy: 0.9280 - val_f1: 0.9333\n",
            "Epoch 2/100\n",
            "4004/4004 [==============================] - 2s 480us/step - loss: 0.2446 - accuracy: 0.9213 - f1: 0.9220 - val_loss: 0.1910 - val_accuracy: 0.9440 - val_f1: 0.9458\n",
            "Epoch 3/100\n",
            "4004/4004 [==============================] - 2s 498us/step - loss: 0.1900 - accuracy: 0.9391 - f1: 0.9395 - val_loss: 0.1943 - val_accuracy: 0.9420 - val_f1: 0.9448\n",
            "Epoch 4/100\n",
            "4004/4004 [==============================] - 2s 476us/step - loss: 0.1405 - accuracy: 0.9603 - f1: 0.9605 - val_loss: 0.2195 - val_accuracy: 0.9400 - val_f1: 0.9399\n",
            "Epoch 5/100\n",
            "4004/4004 [==============================] - 2s 491us/step - loss: 0.1094 - accuracy: 0.9678 - f1: 0.9686 - val_loss: 0.2333 - val_accuracy: 0.9480 - val_f1: 0.9479\n",
            "Epoch 6/100\n",
            "4004/4004 [==============================] - 2s 485us/step - loss: 0.0931 - accuracy: 0.9733 - f1: 0.9724 - val_loss: 0.2314 - val_accuracy: 0.9440 - val_f1: 0.9439\n",
            "Epoch 7/100\n",
            "4004/4004 [==============================] - 2s 495us/step - loss: 0.0776 - accuracy: 0.9765 - f1: 0.9760 - val_loss: 0.2033 - val_accuracy: 0.9540 - val_f1: 0.9540\n",
            "Best F1:0.954, best accuracy:0.954\n"
          ],
          "name": "stdout"
        }
      ]
    },
    {
      "cell_type": "code",
      "metadata": {
        "colab_type": "code",
        "outputId": "01411876-0b94-4864-acef-6b0627e4f112",
        "id": "lbwq5Jsm6bG1",
        "colab": {
          "base_uri": "https://localhost:8080/",
          "height": 207
        }
      },
      "source": [
        "f1_score, acc_score, aug_cnn, w2i = re_fit_cnn(all_augs, test_data, w2v_model, MAX_SEQ_LEN, N_CLASSES, epochs=1)"
      ],
      "execution_count": 0,
      "outputs": [
        {
          "output_type": "stream",
          "text": [
            "Not found vectors 12101 out of 41371 unique words\n",
            "Average sentence len:  8.899900982627369\n",
            "Max sentence len:  36\n",
            "6.367% of tokens were replaced by unk token index\n",
            "Average sentence len:  7.516\n",
            "Max sentence len:  17\n",
            "5.828% of tokens were replaced by unk token index\n",
            "Train on 437297 samples, validate on 500 samples\n",
            "Epoch 1/1\n",
            "437297/437297 [==============================] - 14s 32us/step - loss: 0.1162 - accuracy: 0.9605 - f1: 0.9536 - val_loss: 0.2095 - val_accuracy: 0.9600 - val_f1: 0.9588\n",
            "Best F1:0.959, best accuracy:0.960\n"
          ],
          "name": "stdout"
        }
      ]
    },
    {
      "cell_type": "code",
      "metadata": {
        "colab_type": "code",
        "outputId": "1eb7ce16-3e57-4612-ed45-dc876c6be54f",
        "id": "8RyQnwzC6bG3",
        "colab": {
          "base_uri": "https://localhost:8080/",
          "height": 466
        }
      },
      "source": [
        "f1_score, acc_score, res_cnn, _ = re_fit_cnn(train_data, test_data, w2v_model, MAX_SEQ_LEN, N_CLASSES, model=aug_cnn, word2ind_aug=w2i)"
      ],
      "execution_count": 0,
      "outputs": [
        {
          "output_type": "stream",
          "text": [
            "Average sentence len:  10.211788211788212\n",
            "Max sentence len:  37\n",
            "8.787% of tokens were replaced by unk token index\n",
            "Average sentence len:  7.516\n",
            "Max sentence len:  17\n",
            "5.828% of tokens were replaced by unk token index\n",
            "Train on 4004 samples, validate on 500 samples\n",
            "Epoch 1/100\n",
            "4004/4004 [==============================] - 0s 40us/step - loss: 0.3088 - accuracy: 0.9128 - f1: 0.9143 - val_loss: 0.2355 - val_accuracy: 0.9500 - val_f1: 0.9499\n",
            "Epoch 2/100\n",
            "4004/4004 [==============================] - 0s 32us/step - loss: 0.0694 - accuracy: 0.9793 - f1: 0.9800 - val_loss: 0.1451 - val_accuracy: 0.9720 - val_f1: 0.9719\n",
            "Epoch 3/100\n",
            "4004/4004 [==============================] - 0s 34us/step - loss: 0.0271 - accuracy: 0.9938 - f1: 0.9939 - val_loss: 0.1831 - val_accuracy: 0.9700 - val_f1: 0.9700\n",
            "Epoch 4/100\n",
            "4004/4004 [==============================] - 0s 32us/step - loss: 0.0145 - accuracy: 0.9963 - f1: 0.9963 - val_loss: 0.1415 - val_accuracy: 0.9740 - val_f1: 0.9750\n",
            "Epoch 5/100\n",
            "4004/4004 [==============================] - 0s 32us/step - loss: 0.0107 - accuracy: 0.9973 - f1: 0.9973 - val_loss: 0.1564 - val_accuracy: 0.9760 - val_f1: 0.9769\n",
            "Epoch 6/100\n",
            "4004/4004 [==============================] - 0s 33us/step - loss: 0.0095 - accuracy: 0.9970 - f1: 0.9971 - val_loss: 0.1631 - val_accuracy: 0.9760 - val_f1: 0.9760\n",
            "Epoch 7/100\n",
            "4004/4004 [==============================] - 0s 34us/step - loss: 0.0087 - accuracy: 0.9973 - f1: 0.9972 - val_loss: 0.1588 - val_accuracy: 0.9780 - val_f1: 0.9780\n",
            "Epoch 8/100\n",
            "4004/4004 [==============================] - 0s 32us/step - loss: 0.0081 - accuracy: 0.9973 - f1: 0.9973 - val_loss: 0.1569 - val_accuracy: 0.9800 - val_f1: 0.9800\n",
            "Epoch 9/100\n",
            "4004/4004 [==============================] - 0s 33us/step - loss: 0.0081 - accuracy: 0.9970 - f1: 0.9970 - val_loss: 0.1577 - val_accuracy: 0.9780 - val_f1: 0.9780\n",
            "Best F1:0.980, best accuracy:0.980\n"
          ],
          "name": "stdout"
        }
      ]
    },
    {
      "cell_type": "code",
      "metadata": {
        "id": "6Vs2vys86n4O",
        "colab_type": "code",
        "colab": {}
      },
      "source": [
        ""
      ],
      "execution_count": 0,
      "outputs": []
    },
    {
      "cell_type": "markdown",
      "metadata": {
        "id": "nwW4x1zY6s-5",
        "colab_type": "text"
      },
      "source": [
        "## 5k"
      ]
    },
    {
      "cell_type": "code",
      "metadata": {
        "id": "367R6hQr6t3x",
        "colab_type": "code",
        "colab": {}
      },
      "source": [
        ""
      ],
      "execution_count": 0,
      "outputs": []
    },
    {
      "cell_type": "code",
      "metadata": {
        "colab_type": "code",
        "id": "7eQT-FEZ6uHs",
        "colab": {}
      },
      "source": [
        "train_data, test_data, l2i = read_trec6('trec6_splited/trec6_splited_5k.csv')"
      ],
      "execution_count": 0,
      "outputs": []
    },
    {
      "cell_type": "code",
      "metadata": {
        "colab_type": "code",
        "id": "NEcsmMSi6uHu",
        "colab": {}
      },
      "source": [
        "MAX_SEQ_LEN, N_CLASSES = 37, len(train_data.lbl_index.unique())"
      ],
      "execution_count": 0,
      "outputs": []
    },
    {
      "cell_type": "code",
      "metadata": {
        "colab_type": "code",
        "id": "mbko9q3D6uHw",
        "colab": {}
      },
      "source": [
        "from glob import glob \n",
        "import pandas as pd\n",
        "files = glob('./USE_filtring_trec6_5k*')\n",
        "all_augs = pd.concat([pd.read_csv(i, index_col=0) for i in files])"
      ],
      "execution_count": 0,
      "outputs": []
    },
    {
      "cell_type": "code",
      "metadata": {
        "colab_type": "code",
        "id": "K3zrx7RM6uHz",
        "outputId": "7d34abb5-2928-413e-b8d5-b1a5e14e3541",
        "colab": {
          "base_uri": "https://localhost:8080/",
          "height": 207
        }
      },
      "source": [
        "f1_score, acc_score, aug_lstm, w2i = re_fit_lstm(all_augs, test_data, w2v_model, MAX_SEQ_LEN, N_CLASSES, epochs=1)"
      ],
      "execution_count": 0,
      "outputs": [
        {
          "output_type": "stream",
          "text": [
            "Not found vectors 13259 out of 44601 unique words\n",
            "Average sentence len:  8.897830424456007\n",
            "Max sentence len:  33\n",
            "6.432% of tokens were replaced by unk token index\n",
            "Average sentence len:  7.516\n",
            "Max sentence len:  17\n",
            "5.695% of tokens were replaced by unk token index\n",
            "Train on 531763 samples, validate on 500 samples\n",
            "Epoch 1/1\n",
            "531763/531763 [==============================] - 253s 476us/step - loss: 0.2615 - accuracy: 0.9092 - f1: 0.9040 - val_loss: 0.2325 - val_accuracy: 0.9320 - val_f1: 0.9263\n",
            "Best F1:0.926, best accuracy:0.932\n"
          ],
          "name": "stdout"
        }
      ]
    },
    {
      "cell_type": "code",
      "metadata": {
        "colab_type": "code",
        "id": "0d9VkOYD6uH0",
        "outputId": "5e0d093f-45a2-4555-a26b-e6a7d7ef7b61",
        "colab": {
          "base_uri": "https://localhost:8080/",
          "height": 432
        }
      },
      "source": [
        "f1_score, acc_score, res_lstm, _ = re_fit_lstm(train_data, test_data, w2v_model, MAX_SEQ_LEN, N_CLASSES, model=aug_lstm, word2ind_aug=w2i)"
      ],
      "execution_count": 0,
      "outputs": [
        {
          "output_type": "stream",
          "text": [
            "Average sentence len:  10.192369157011585\n",
            "Max sentence len:  37\n",
            "8.624% of tokens were replaced by unk token index\n",
            "Average sentence len:  7.516\n",
            "Max sentence len:  17\n",
            "5.695% of tokens were replaced by unk token index\n",
            "Train on 5006 samples, validate on 500 samples\n",
            "Epoch 1/100\n",
            "5006/5006 [==============================] - 3s 504us/step - loss: 0.3235 - accuracy: 0.8945 - f1: 0.8950 - val_loss: 0.2041 - val_accuracy: 0.9320 - val_f1: 0.9320\n",
            "Epoch 2/100\n",
            "5006/5006 [==============================] - 2s 481us/step - loss: 0.2403 - accuracy: 0.9189 - f1: 0.9205 - val_loss: 0.1849 - val_accuracy: 0.9420 - val_f1: 0.9416\n",
            "Epoch 3/100\n",
            "5006/5006 [==============================] - 2s 485us/step - loss: 0.1806 - accuracy: 0.9429 - f1: 0.9429 - val_loss: 0.1726 - val_accuracy: 0.9460 - val_f1: 0.9438\n",
            "Epoch 4/100\n",
            "5006/5006 [==============================] - 2s 483us/step - loss: 0.1397 - accuracy: 0.9573 - f1: 0.9580 - val_loss: 0.1759 - val_accuracy: 0.9500 - val_f1: 0.9510\n",
            "Epoch 5/100\n",
            "5006/5006 [==============================] - 3s 500us/step - loss: 0.1092 - accuracy: 0.9648 - f1: 0.9652 - val_loss: 0.1862 - val_accuracy: 0.9500 - val_f1: 0.9528\n",
            "Epoch 6/100\n",
            "5006/5006 [==============================] - 2s 483us/step - loss: 0.0815 - accuracy: 0.9754 - f1: 0.9754 - val_loss: 0.2106 - val_accuracy: 0.9460 - val_f1: 0.9449\n",
            "Epoch 7/100\n",
            "5006/5006 [==============================] - 2s 486us/step - loss: 0.0674 - accuracy: 0.9808 - f1: 0.9813 - val_loss: 0.2460 - val_accuracy: 0.9380 - val_f1: 0.9369\n",
            "Epoch 8/100\n",
            "5006/5006 [==============================] - 2s 488us/step - loss: 0.0578 - accuracy: 0.9828 - f1: 0.9830 - val_loss: 0.2724 - val_accuracy: 0.9340 - val_f1: 0.9359\n",
            "Best F1:0.953, best accuracy:0.950\n"
          ],
          "name": "stdout"
        }
      ]
    },
    {
      "cell_type": "code",
      "metadata": {
        "colab_type": "code",
        "id": "nv0yUh0o6uH2",
        "outputId": "41e17345-3407-4a9a-c9b1-7a7f64a1aa47",
        "colab": {
          "base_uri": "https://localhost:8080/",
          "height": 207
        }
      },
      "source": [
        "f1_score, acc_score, aug_cnn, w2i = re_fit_cnn(all_augs, test_data, w2v_model, MAX_SEQ_LEN, N_CLASSES, epochs=1)"
      ],
      "execution_count": 0,
      "outputs": [
        {
          "output_type": "stream",
          "text": [
            "Not found vectors 13259 out of 44601 unique words\n",
            "Average sentence len:  8.897830424456007\n",
            "Max sentence len:  33\n",
            "6.432% of tokens were replaced by unk token index\n",
            "Average sentence len:  7.516\n",
            "Max sentence len:  17\n",
            "5.695% of tokens were replaced by unk token index\n",
            "Train on 531763 samples, validate on 500 samples\n",
            "Epoch 1/1\n",
            "531763/531763 [==============================] - 17s 32us/step - loss: 0.1069 - accuracy: 0.9644 - f1: 0.9588 - val_loss: 0.1959 - val_accuracy: 0.9460 - val_f1: 0.9449\n",
            "Best F1:0.945, best accuracy:0.946\n"
          ],
          "name": "stdout"
        }
      ]
    },
    {
      "cell_type": "code",
      "metadata": {
        "colab_type": "code",
        "id": "RHEK_0l-6uH4",
        "outputId": "0227b86e-b570-4703-f7d4-7315f4155d03",
        "colab": {
          "base_uri": "https://localhost:8080/",
          "height": 501
        }
      },
      "source": [
        "f1_score, acc_score, res_cnn, _ = re_fit_cnn(train_data, test_data, w2v_model, MAX_SEQ_LEN, N_CLASSES, model=aug_cnn, word2ind_aug=w2i)"
      ],
      "execution_count": 0,
      "outputs": [
        {
          "output_type": "stream",
          "text": [
            "Average sentence len:  10.192369157011585\n",
            "Max sentence len:  37\n",
            "8.624% of tokens were replaced by unk token index\n",
            "Average sentence len:  7.516\n",
            "Max sentence len:  17\n",
            "5.695% of tokens were replaced by unk token index\n",
            "Train on 5006 samples, validate on 500 samples\n",
            "Epoch 1/100\n",
            "5006/5006 [==============================] - 0s 33us/step - loss: 0.2977 - accuracy: 0.9139 - f1: 0.9140 - val_loss: 0.2088 - val_accuracy: 0.9520 - val_f1: 0.9509\n",
            "Epoch 2/100\n",
            "5006/5006 [==============================] - 0s 33us/step - loss: 0.0650 - accuracy: 0.9816 - f1: 0.9820 - val_loss: 0.1518 - val_accuracy: 0.9640 - val_f1: 0.9640\n",
            "Epoch 3/100\n",
            "5006/5006 [==============================] - 0s 33us/step - loss: 0.0237 - accuracy: 0.9946 - f1: 0.9946 - val_loss: 0.1434 - val_accuracy: 0.9540 - val_f1: 0.9550\n",
            "Epoch 4/100\n",
            "5006/5006 [==============================] - 0s 33us/step - loss: 0.0139 - accuracy: 0.9966 - f1: 0.9967 - val_loss: 0.1396 - val_accuracy: 0.9680 - val_f1: 0.9670\n",
            "Epoch 5/100\n",
            "5006/5006 [==============================] - 0s 32us/step - loss: 0.0115 - accuracy: 0.9966 - f1: 0.9965 - val_loss: 0.1314 - val_accuracy: 0.9640 - val_f1: 0.9639\n",
            "Epoch 6/100\n",
            "5006/5006 [==============================] - 0s 33us/step - loss: 0.0099 - accuracy: 0.9964 - f1: 0.9964 - val_loss: 0.1455 - val_accuracy: 0.9620 - val_f1: 0.9609\n",
            "Epoch 7/100\n",
            "5006/5006 [==============================] - 0s 33us/step - loss: 0.0098 - accuracy: 0.9966 - f1: 0.9966 - val_loss: 0.1433 - val_accuracy: 0.9620 - val_f1: 0.9619\n",
            "Epoch 8/100\n",
            "5006/5006 [==============================] - 0s 33us/step - loss: 0.0093 - accuracy: 0.9966 - f1: 0.9966 - val_loss: 0.1391 - val_accuracy: 0.9680 - val_f1: 0.9659\n",
            "Epoch 9/100\n",
            "5006/5006 [==============================] - 0s 33us/step - loss: 0.0095 - accuracy: 0.9966 - f1: 0.9966 - val_loss: 0.1447 - val_accuracy: 0.9640 - val_f1: 0.9619\n",
            "Epoch 10/100\n",
            "5006/5006 [==============================] - 0s 32us/step - loss: 0.0096 - accuracy: 0.9958 - f1: 0.9959 - val_loss: 0.1499 - val_accuracy: 0.9620 - val_f1: 0.9599\n",
            "Best F1:0.967, best accuracy:0.968\n"
          ],
          "name": "stdout"
        }
      ]
    },
    {
      "cell_type": "code",
      "metadata": {
        "id": "j7hHWpGc6yJz",
        "colab_type": "code",
        "colab": {}
      },
      "source": [
        ""
      ],
      "execution_count": 0,
      "outputs": []
    },
    {
      "cell_type": "markdown",
      "metadata": {
        "id": "32QzbEK2-_6U",
        "colab_type": "text"
      },
      "source": [
        "# TREC-50 aug bert faiss"
      ]
    },
    {
      "cell_type": "markdown",
      "metadata": {
        "id": "7kW7Qtsl_FMo",
        "colab_type": "text"
      },
      "source": [
        "## 3k"
      ]
    },
    {
      "cell_type": "code",
      "metadata": {
        "id": "VURk5Hmu_Gc4",
        "colab_type": "code",
        "colab": {}
      },
      "source": [
        "!ls"
      ],
      "execution_count": 0,
      "outputs": []
    },
    {
      "cell_type": "code",
      "metadata": {
        "colab_type": "code",
        "id": "01A9Z-mp_GtC",
        "colab": {}
      },
      "source": [
        "train_data, test_data, l2i = read_trec50('trec50_splited/trec50_3k.csv')"
      ],
      "execution_count": 0,
      "outputs": []
    },
    {
      "cell_type": "code",
      "metadata": {
        "colab_type": "code",
        "id": "updubmK4_GtE",
        "colab": {}
      },
      "source": [
        "MAX_SEQ_LEN, N_CLASSES = 37, len(train_data.lbl_index.unique())"
      ],
      "execution_count": 0,
      "outputs": []
    },
    {
      "cell_type": "code",
      "metadata": {
        "colab_type": "code",
        "id": "DtgWJ767_GtG",
        "colab": {}
      },
      "source": [
        "from glob import glob \n",
        "import pandas as pd\n",
        "files = glob('./USE_filtring_trec50_3k_*')\n",
        "all_augs = pd.concat([pd.read_csv(i, index_col=0) for i in files])"
      ],
      "execution_count": 0,
      "outputs": []
    },
    {
      "cell_type": "code",
      "metadata": {
        "colab_type": "code",
        "outputId": "73e01148-dd7a-41b3-f357-c2ad1afaba06",
        "id": "jAk0-ypI_GtI",
        "colab": {
          "base_uri": "https://localhost:8080/",
          "height": 207
        }
      },
      "source": [
        "f1_score, acc_score, aug_lstm, w2i = re_fit_lstm(all_augs, test_data, w2v_model, MAX_SEQ_LEN, N_CLASSES, epochs=1)"
      ],
      "execution_count": 0,
      "outputs": [
        {
          "output_type": "stream",
          "text": [
            "Not found vectors 9406 out of 32921 unique words\n",
            "Average sentence len:  8.937510601928572\n",
            "Max sentence len:  31\n",
            "6.157% of tokens were replaced by unk token index\n",
            "Average sentence len:  7.516\n",
            "Max sentence len:  17\n",
            "6.919% of tokens were replaced by unk token index\n",
            "Train on 383185 samples, validate on 500 samples\n",
            "Epoch 1/1\n",
            "383185/383185 [==============================] - 184s 481us/step - loss: 0.7831 - accuracy: 0.7907 - f1: 0.7782 - val_loss: 1.4505 - val_accuracy: 0.8060 - val_f1: 0.8090\n",
            "Best F1:0.809, best accuracy:0.806\n"
          ],
          "name": "stdout"
        }
      ]
    },
    {
      "cell_type": "code",
      "metadata": {
        "colab_type": "code",
        "outputId": "f1c504d7-6c38-4a51-e68c-ad26275fb4f8",
        "id": "WqyI6i5K_GtK",
        "colab": {
          "base_uri": "https://localhost:8080/",
          "height": 570
        }
      },
      "source": [
        "f1_score, acc_score, res_lstm, _ = re_fit_lstm(train_data, test_data, w2v_model, MAX_SEQ_LEN, N_CLASSES, model=aug_lstm, word2ind_aug=w2i)"
      ],
      "execution_count": 0,
      "outputs": [
        {
          "output_type": "stream",
          "text": [
            "Average sentence len:  10.240343347639485\n",
            "Max sentence len:  32\n",
            "9.572% of tokens were replaced by unk token index\n",
            "Average sentence len:  7.516\n",
            "Max sentence len:  17\n",
            "6.919% of tokens were replaced by unk token index\n",
            "Train on 3029 samples, validate on 500 samples\n",
            "Epoch 1/100\n",
            "3029/3029 [==============================] - 1s 484us/step - loss: 1.0970 - accuracy: 0.7838 - f1: 0.7971 - val_loss: 0.9491 - val_accuracy: 0.8260 - val_f1: 0.8273\n",
            "Epoch 2/100\n",
            "3029/3029 [==============================] - 1s 482us/step - loss: 0.8126 - accuracy: 0.8181 - f1: 0.8162 - val_loss: 0.8580 - val_accuracy: 0.8280 - val_f1: 0.8170\n",
            "Epoch 3/100\n",
            "3029/3029 [==============================] - 2s 501us/step - loss: 0.6690 - accuracy: 0.8366 - f1: 0.8363 - val_loss: 0.7538 - val_accuracy: 0.8300 - val_f1: 0.8457\n",
            "Epoch 4/100\n",
            "3029/3029 [==============================] - 1s 477us/step - loss: 0.5478 - accuracy: 0.8640 - f1: 0.8670 - val_loss: 0.6920 - val_accuracy: 0.8380 - val_f1: 0.8494\n",
            "Epoch 5/100\n",
            "3029/3029 [==============================] - 1s 483us/step - loss: 0.4543 - accuracy: 0.8805 - f1: 0.8845 - val_loss: 0.5816 - val_accuracy: 0.8480 - val_f1: 0.8641\n",
            "Epoch 6/100\n",
            "3029/3029 [==============================] - 1s 484us/step - loss: 0.3768 - accuracy: 0.8963 - f1: 0.8995 - val_loss: 0.6049 - val_accuracy: 0.8580 - val_f1: 0.8625\n",
            "Epoch 7/100\n",
            "3029/3029 [==============================] - 1s 489us/step - loss: 0.3221 - accuracy: 0.9161 - f1: 0.9162 - val_loss: 0.5760 - val_accuracy: 0.8620 - val_f1: 0.8633\n",
            "Epoch 8/100\n",
            "3029/3029 [==============================] - 2s 500us/step - loss: 0.2612 - accuracy: 0.9320 - f1: 0.9275 - val_loss: 0.5923 - val_accuracy: 0.8620 - val_f1: 0.8663\n",
            "Epoch 9/100\n",
            "3029/3029 [==============================] - 1s 480us/step - loss: 0.2298 - accuracy: 0.9356 - f1: 0.9382 - val_loss: 0.5820 - val_accuracy: 0.8640 - val_f1: 0.8671\n",
            "Epoch 10/100\n",
            "3029/3029 [==============================] - 1s 490us/step - loss: 0.1847 - accuracy: 0.9521 - f1: 0.9545 - val_loss: 0.6292 - val_accuracy: 0.8540 - val_f1: 0.8648\n",
            "Epoch 11/100\n",
            "3029/3029 [==============================] - 1s 494us/step - loss: 0.1634 - accuracy: 0.9554 - f1: 0.9547 - val_loss: 0.6484 - val_accuracy: 0.8500 - val_f1: 0.8551\n",
            "Epoch 12/100\n",
            "3029/3029 [==============================] - 1s 489us/step - loss: 0.1467 - accuracy: 0.9627 - f1: 0.9594 - val_loss: 0.6368 - val_accuracy: 0.8620 - val_f1: 0.8633\n",
            "Best F1:0.867, best accuracy:0.864\n"
          ],
          "name": "stdout"
        }
      ]
    },
    {
      "cell_type": "code",
      "metadata": {
        "colab_type": "code",
        "outputId": "e78766e0-e512-4f2c-8399-a36af5321e77",
        "id": "UmZVyBsc_GtM",
        "colab": {
          "base_uri": "https://localhost:8080/",
          "height": 207
        }
      },
      "source": [
        "f1_score, acc_score, aug_cnn, w2i = re_fit_cnn(all_augs, test_data, w2v_model, MAX_SEQ_LEN, N_CLASSES, epochs=1)"
      ],
      "execution_count": 0,
      "outputs": [
        {
          "output_type": "stream",
          "text": [
            "Not found vectors 9406 out of 32921 unique words\n",
            "Average sentence len:  8.937510601928572\n",
            "Max sentence len:  31\n",
            "6.157% of tokens were replaced by unk token index\n",
            "Average sentence len:  7.516\n",
            "Max sentence len:  17\n",
            "6.919% of tokens were replaced by unk token index\n",
            "Train on 383185 samples, validate on 500 samples\n",
            "Epoch 1/1\n",
            "383185/383185 [==============================] - 12s 31us/step - loss: 0.2917 - accuracy: 0.9254 - f1: 0.9157 - val_loss: 1.6292 - val_accuracy: 0.8420 - val_f1: 0.8528\n",
            "Best F1:0.853, best accuracy:0.842\n"
          ],
          "name": "stdout"
        }
      ]
    },
    {
      "cell_type": "code",
      "metadata": {
        "colab_type": "code",
        "outputId": "37f1651f-a345-4169-fe56-d8f426638784",
        "id": "iNuX27lp_GtO",
        "colab": {
          "base_uri": "https://localhost:8080/",
          "height": 605
        }
      },
      "source": [
        "f1_score, acc_score, res_cnn, _ = re_fit_cnn(train_data, test_data, w2v_model, MAX_SEQ_LEN, N_CLASSES, model=aug_cnn, word2ind_aug=w2i)"
      ],
      "execution_count": 0,
      "outputs": [
        {
          "output_type": "stream",
          "text": [
            "Average sentence len:  10.240343347639485\n",
            "Max sentence len:  32\n",
            "9.572% of tokens were replaced by unk token index\n",
            "Average sentence len:  7.516\n",
            "Max sentence len:  17\n",
            "6.919% of tokens were replaced by unk token index\n",
            "Train on 3029 samples, validate on 500 samples\n",
            "Epoch 1/100\n",
            "3029/3029 [==============================] - 0s 34us/step - loss: 0.9999 - accuracy: 0.8392 - f1: 0.8483 - val_loss: 1.1355 - val_accuracy: 0.8360 - val_f1: 0.8504\n",
            "Epoch 2/100\n",
            "3029/3029 [==============================] - 0s 33us/step - loss: 0.3823 - accuracy: 0.9204 - f1: 0.9264 - val_loss: 0.7142 - val_accuracy: 0.8440 - val_f1: 0.8607\n",
            "Epoch 3/100\n",
            "3029/3029 [==============================] - 0s 33us/step - loss: 0.1872 - accuracy: 0.9607 - f1: 0.9591 - val_loss: 0.6082 - val_accuracy: 0.8620 - val_f1: 0.8792\n",
            "Epoch 4/100\n",
            "3029/3029 [==============================] - 0s 36us/step - loss: 0.1023 - accuracy: 0.9766 - f1: 0.9752 - val_loss: 0.6452 - val_accuracy: 0.8560 - val_f1: 0.8693\n",
            "Epoch 5/100\n",
            "3029/3029 [==============================] - 0s 34us/step - loss: 0.0623 - accuracy: 0.9878 - f1: 0.9848 - val_loss: 0.5915 - val_accuracy: 0.8740 - val_f1: 0.8868\n",
            "Epoch 6/100\n",
            "3029/3029 [==============================] - 0s 33us/step - loss: 0.0396 - accuracy: 0.9917 - f1: 0.9897 - val_loss: 0.5736 - val_accuracy: 0.8880 - val_f1: 0.8946\n",
            "Epoch 7/100\n",
            "3029/3029 [==============================] - 0s 33us/step - loss: 0.0311 - accuracy: 0.9917 - f1: 0.9901 - val_loss: 0.5885 - val_accuracy: 0.8900 - val_f1: 0.8916\n",
            "Epoch 8/100\n",
            "3029/3029 [==============================] - 0s 32us/step - loss: 0.0246 - accuracy: 0.9941 - f1: 0.9931 - val_loss: 0.5566 - val_accuracy: 0.8920 - val_f1: 0.8919\n",
            "Epoch 9/100\n",
            "3029/3029 [==============================] - 0s 34us/step - loss: 0.0185 - accuracy: 0.9944 - f1: 0.9944 - val_loss: 0.6392 - val_accuracy: 0.8160 - val_f1: 0.8111\n",
            "Epoch 10/100\n",
            "3029/3029 [==============================] - 0s 34us/step - loss: 0.0158 - accuracy: 0.9934 - f1: 0.9936 - val_loss: 0.5822 - val_accuracy: 0.8940 - val_f1: 0.8951\n",
            "Epoch 11/100\n",
            "3029/3029 [==============================] - 0s 34us/step - loss: 0.0145 - accuracy: 0.9944 - f1: 0.9944 - val_loss: 0.5785 - val_accuracy: 0.8920 - val_f1: 0.8951\n",
            "Epoch 12/100\n",
            "3029/3029 [==============================] - 0s 35us/step - loss: 0.0135 - accuracy: 0.9944 - f1: 0.9943 - val_loss: 0.6082 - val_accuracy: 0.8160 - val_f1: 0.8156\n",
            "Epoch 13/100\n",
            "3029/3029 [==============================] - 0s 34us/step - loss: 0.0123 - accuracy: 0.9947 - f1: 0.9947 - val_loss: 0.5793 - val_accuracy: 0.8940 - val_f1: 0.8948\n",
            "Best F1:0.895, best accuracy:0.894\n"
          ],
          "name": "stdout"
        }
      ]
    },
    {
      "cell_type": "code",
      "metadata": {
        "id": "HQF0sKlSA3aX",
        "colab_type": "code",
        "colab": {}
      },
      "source": [
        ""
      ],
      "execution_count": 0,
      "outputs": []
    },
    {
      "cell_type": "markdown",
      "metadata": {
        "id": "3_E4g1TGBDM6",
        "colab_type": "text"
      },
      "source": [
        "## 4k"
      ]
    },
    {
      "cell_type": "code",
      "metadata": {
        "id": "tV3AjF_UBD3i",
        "colab_type": "code",
        "colab": {}
      },
      "source": [
        ""
      ],
      "execution_count": 0,
      "outputs": []
    },
    {
      "cell_type": "code",
      "metadata": {
        "colab_type": "code",
        "id": "DWs59omeBEGl",
        "colab": {}
      },
      "source": [
        "train_data, test_data, l2i = read_trec50('trec50_splited/trec50_4k.csv')"
      ],
      "execution_count": 0,
      "outputs": []
    },
    {
      "cell_type": "code",
      "metadata": {
        "colab_type": "code",
        "id": "c29QU_wFBEGn",
        "colab": {}
      },
      "source": [
        "MAX_SEQ_LEN, N_CLASSES = 37, len(train_data.lbl_index.unique())"
      ],
      "execution_count": 0,
      "outputs": []
    },
    {
      "cell_type": "code",
      "metadata": {
        "colab_type": "code",
        "id": "FrRtLxwBBEGp",
        "colab": {}
      },
      "source": [
        "from glob import glob \n",
        "import pandas as pd\n",
        "files = glob('./USE_filtring_trec50_4k_*')\n",
        "all_augs = pd.concat([pd.read_csv(i, index_col=0) for i in files])"
      ],
      "execution_count": 0,
      "outputs": []
    },
    {
      "cell_type": "code",
      "metadata": {
        "colab_type": "code",
        "outputId": "9880fccd-1d10-4b3b-ec9b-7681a21e4424",
        "id": "wN6aHEJ4BEGr",
        "colab": {
          "base_uri": "https://localhost:8080/",
          "height": 207
        }
      },
      "source": [
        "f1_score, acc_score, aug_lstm, w2i = re_fit_lstm(all_augs, test_data, w2v_model, MAX_SEQ_LEN, N_CLASSES, epochs=1)"
      ],
      "execution_count": 0,
      "outputs": [
        {
          "output_type": "stream",
          "text": [
            "Not found vectors 11193 out of 38025 unique words\n",
            "Average sentence len:  8.881059186959808\n",
            "Max sentence len:  36\n",
            "6.930% of tokens were replaced by unk token index\n",
            "Average sentence len:  7.516\n",
            "Max sentence len:  17\n",
            "6.253% of tokens were replaced by unk token index\n",
            "Train on 365148 samples, validate on 500 samples\n",
            "Epoch 1/1\n",
            "365148/365148 [==============================] - 176s 481us/step - loss: 0.8536 - accuracy: 0.7720 - f1: 0.7599 - val_loss: 1.0332 - val_accuracy: 0.8260 - val_f1: 0.8374\n",
            "Best F1:0.837, best accuracy:0.826\n"
          ],
          "name": "stdout"
        }
      ]
    },
    {
      "cell_type": "code",
      "metadata": {
        "colab_type": "code",
        "outputId": "f9dc7572-78ce-497d-e034-5c6bb763445b",
        "id": "ekdbnqksBEGt",
        "colab": {
          "base_uri": "https://localhost:8080/",
          "height": 501
        }
      },
      "source": [
        "f1_score, acc_score, res_lstm, _ = re_fit_lstm(train_data, test_data, w2v_model, MAX_SEQ_LEN, N_CLASSES, model=aug_lstm, word2ind_aug=w2i)"
      ],
      "execution_count": 0,
      "outputs": [
        {
          "output_type": "stream",
          "text": [
            "Average sentence len:  10.186639979984989\n",
            "Max sentence len:  37\n",
            "9.222% of tokens were replaced by unk token index\n",
            "Average sentence len:  7.516\n",
            "Max sentence len:  17\n",
            "6.253% of tokens were replaced by unk token index\n",
            "Train on 3997 samples, validate on 500 samples\n",
            "Epoch 1/100\n",
            "3997/3997 [==============================] - 2s 508us/step - loss: 0.8165 - accuracy: 0.8159 - f1: 0.8239 - val_loss: 0.8052 - val_accuracy: 0.8420 - val_f1: 0.8351\n",
            "Epoch 2/100\n",
            "3997/3997 [==============================] - 2s 510us/step - loss: 0.6504 - accuracy: 0.8389 - f1: 0.8368 - val_loss: 0.6619 - val_accuracy: 0.8540 - val_f1: 0.8611\n",
            "Epoch 3/100\n",
            "3997/3997 [==============================] - 2s 498us/step - loss: 0.5316 - accuracy: 0.8614 - f1: 0.8619 - val_loss: 0.6178 - val_accuracy: 0.8580 - val_f1: 0.8678\n",
            "Epoch 4/100\n",
            "3997/3997 [==============================] - 2s 497us/step - loss: 0.4422 - accuracy: 0.8832 - f1: 0.8827 - val_loss: 0.6143 - val_accuracy: 0.8460 - val_f1: 0.8607\n",
            "Epoch 5/100\n",
            "3997/3997 [==============================] - 2s 482us/step - loss: 0.3734 - accuracy: 0.8989 - f1: 0.9012 - val_loss: 0.5724 - val_accuracy: 0.8720 - val_f1: 0.8740\n",
            "Epoch 6/100\n",
            "3997/3997 [==============================] - 2s 500us/step - loss: 0.2988 - accuracy: 0.9177 - f1: 0.9199 - val_loss: 0.6239 - val_accuracy: 0.8660 - val_f1: 0.8651\n",
            "Epoch 7/100\n",
            "3997/3997 [==============================] - 2s 486us/step - loss: 0.2544 - accuracy: 0.9309 - f1: 0.9293 - val_loss: 0.6200 - val_accuracy: 0.8640 - val_f1: 0.8656\n",
            "Epoch 8/100\n",
            "3997/3997 [==============================] - 2s 482us/step - loss: 0.2206 - accuracy: 0.9387 - f1: 0.9364 - val_loss: 0.6096 - val_accuracy: 0.8680 - val_f1: 0.8688\n",
            "Epoch 9/100\n",
            "3997/3997 [==============================] - 2s 500us/step - loss: 0.1764 - accuracy: 0.9515 - f1: 0.9507 - val_loss: 0.6357 - val_accuracy: 0.8740 - val_f1: 0.8796\n",
            "Epoch 10/100\n",
            "3997/3997 [==============================] - 2s 480us/step - loss: 0.1501 - accuracy: 0.9602 - f1: 0.9592 - val_loss: 0.6433 - val_accuracy: 0.8680 - val_f1: 0.8721\n",
            "Best F1:0.880, best accuracy:0.874\n"
          ],
          "name": "stdout"
        }
      ]
    },
    {
      "cell_type": "code",
      "metadata": {
        "colab_type": "code",
        "id": "m9sa_ZxoBEGv",
        "outputId": "dab147f7-9917-4c57-9d1b-29c20faecac6",
        "colab": {
          "base_uri": "https://localhost:8080/",
          "height": 207
        }
      },
      "source": [
        "f1_score, acc_score, aug_cnn, w2i = re_fit_cnn(all_augs, test_data, w2v_model, MAX_SEQ_LEN, N_CLASSES, epochs=1)"
      ],
      "execution_count": 0,
      "outputs": [
        {
          "output_type": "stream",
          "text": [
            "Not found vectors 11193 out of 38025 unique words\n",
            "Average sentence len:  8.881059186959808\n",
            "Max sentence len:  36\n",
            "6.930% of tokens were replaced by unk token index\n",
            "Average sentence len:  7.516\n",
            "Max sentence len:  17\n",
            "6.253% of tokens were replaced by unk token index\n",
            "Train on 365148 samples, validate on 500 samples\n",
            "Epoch 1/1\n",
            "365148/365148 [==============================] - 12s 32us/step - loss: 0.3309 - accuracy: 0.9146 - f1: 0.9054 - val_loss: 1.1233 - val_accuracy: 0.8460 - val_f1: 0.8536\n",
            "Best F1:0.854, best accuracy:0.846\n"
          ],
          "name": "stdout"
        }
      ]
    },
    {
      "cell_type": "code",
      "metadata": {
        "colab_type": "code",
        "id": "MIDU0JNqBEGx",
        "outputId": "b7091c9d-f1db-4747-e5b9-9894439a110e",
        "colab": {
          "base_uri": "https://localhost:8080/",
          "height": 535
        }
      },
      "source": [
        "f1_score, acc_score, res_cnn, _ = re_fit_cnn(train_data, test_data, w2v_model, MAX_SEQ_LEN, N_CLASSES, model=aug_cnn, word2ind_aug=w2i)"
      ],
      "execution_count": 0,
      "outputs": [
        {
          "output_type": "stream",
          "text": [
            "Average sentence len:  10.186639979984989\n",
            "Max sentence len:  37\n",
            "9.222% of tokens were replaced by unk token index\n",
            "Average sentence len:  7.516\n",
            "Max sentence len:  17\n",
            "6.253% of tokens were replaced by unk token index\n",
            "Train on 3997 samples, validate on 500 samples\n",
            "Epoch 1/100\n",
            "3997/3997 [==============================] - 0s 40us/step - loss: 0.7129 - accuracy: 0.8639 - f1: 0.8697 - val_loss: 0.8089 - val_accuracy: 0.8800 - val_f1: 0.8805\n",
            "Epoch 2/100\n",
            "3997/3997 [==============================] - 0s 32us/step - loss: 0.2318 - accuracy: 0.9455 - f1: 0.9502 - val_loss: 0.6450 - val_accuracy: 0.8580 - val_f1: 0.8669\n",
            "Epoch 3/100\n",
            "3997/3997 [==============================] - 0s 32us/step - loss: 0.1006 - accuracy: 0.9780 - f1: 0.9795 - val_loss: 0.5982 - val_accuracy: 0.8600 - val_f1: 0.8669\n",
            "Epoch 4/100\n",
            "3997/3997 [==============================] - 0s 34us/step - loss: 0.0542 - accuracy: 0.9887 - f1: 0.9876 - val_loss: 0.5690 - val_accuracy: 0.8780 - val_f1: 0.8882\n",
            "Epoch 5/100\n",
            "3997/3997 [==============================] - 0s 32us/step - loss: 0.0351 - accuracy: 0.9940 - f1: 0.9924 - val_loss: 0.5939 - val_accuracy: 0.8820 - val_f1: 0.8848\n",
            "Epoch 6/100\n",
            "3997/3997 [==============================] - 0s 33us/step - loss: 0.0256 - accuracy: 0.9947 - f1: 0.9941 - val_loss: 0.5659 - val_accuracy: 0.8960 - val_f1: 0.8887\n",
            "Epoch 7/100\n",
            "3997/3997 [==============================] - 0s 32us/step - loss: 0.0208 - accuracy: 0.9947 - f1: 0.9946 - val_loss: 0.5715 - val_accuracy: 0.8880 - val_f1: 0.8878\n",
            "Epoch 8/100\n",
            "3997/3997 [==============================] - 0s 33us/step - loss: 0.0174 - accuracy: 0.9950 - f1: 0.9950 - val_loss: 0.5795 - val_accuracy: 0.8940 - val_f1: 0.8896\n",
            "Epoch 9/100\n",
            "3997/3997 [==============================] - 0s 32us/step - loss: 0.0156 - accuracy: 0.9952 - f1: 0.9953 - val_loss: 0.5814 - val_accuracy: 0.8940 - val_f1: 0.8887\n",
            "Epoch 10/100\n",
            "3997/3997 [==============================] - 0s 34us/step - loss: 0.0149 - accuracy: 0.9957 - f1: 0.9958 - val_loss: 0.5882 - val_accuracy: 0.8960 - val_f1: 0.8907\n",
            "Epoch 11/100\n",
            "3997/3997 [==============================] - 0s 32us/step - loss: 0.0141 - accuracy: 0.9957 - f1: 0.9958 - val_loss: 0.5860 - val_accuracy: 0.8940 - val_f1: 0.8921\n",
            "Best F1:0.892, best accuracy:0.896\n"
          ],
          "name": "stdout"
        }
      ]
    },
    {
      "cell_type": "code",
      "metadata": {
        "id": "rQyS5Q_qBHVB",
        "colab_type": "code",
        "colab": {}
      },
      "source": [
        ""
      ],
      "execution_count": 0,
      "outputs": []
    },
    {
      "cell_type": "markdown",
      "metadata": {
        "id": "go2IQfS-BHy2",
        "colab_type": "text"
      },
      "source": [
        "## 5k"
      ]
    },
    {
      "cell_type": "code",
      "metadata": {
        "id": "jvuf8QQ8BIje",
        "colab_type": "code",
        "colab": {}
      },
      "source": [
        ""
      ],
      "execution_count": 0,
      "outputs": []
    },
    {
      "cell_type": "code",
      "metadata": {
        "colab_type": "code",
        "id": "vrXMGlYaBI5d",
        "colab": {}
      },
      "source": [
        "train_data, test_data, l2i = read_trec50('trec50_splited/trec50_5k.csv')"
      ],
      "execution_count": 0,
      "outputs": []
    },
    {
      "cell_type": "code",
      "metadata": {
        "colab_type": "code",
        "id": "FSW67ZqMBI5f",
        "colab": {}
      },
      "source": [
        "MAX_SEQ_LEN, N_CLASSES = 37, len(train_data.lbl_index.unique())"
      ],
      "execution_count": 0,
      "outputs": []
    },
    {
      "cell_type": "code",
      "metadata": {
        "colab_type": "code",
        "id": "O1VRC2U-BI5h",
        "colab": {}
      },
      "source": [
        "from glob import glob \n",
        "import pandas as pd\n",
        "files = glob('./USE_filtring_trec50_5k_*')\n",
        "all_augs = pd.concat([pd.read_csv(i, index_col=0) for i in files])"
      ],
      "execution_count": 0,
      "outputs": []
    },
    {
      "cell_type": "code",
      "metadata": {
        "colab_type": "code",
        "outputId": "713ddb90-b6f3-44b3-f5c4-06662df17b54",
        "id": "LY30H3tUBI5k",
        "colab": {
          "base_uri": "https://localhost:8080/",
          "height": 207
        }
      },
      "source": [
        "f1_score, acc_score, aug_lstm, w2i = re_fit_lstm(all_augs, test_data, w2v_model, MAX_SEQ_LEN, N_CLASSES, epochs=1)"
      ],
      "execution_count": 0,
      "outputs": [
        {
          "output_type": "stream",
          "text": [
            "Not found vectors 12493 out of 41393 unique words\n",
            "Average sentence len:  8.866279771675474\n",
            "Max sentence len:  36\n",
            "6.867% of tokens were replaced by unk token index\n",
            "Average sentence len:  7.516\n",
            "Max sentence len:  17\n",
            "5.854% of tokens were replaced by unk token index\n",
            "Train on 472135 samples, validate on 500 samples\n",
            "Epoch 1/1\n",
            "472135/472135 [==============================] - 227s 480us/step - loss: 0.7227 - accuracy: 0.8054 - f1: 0.7975 - val_loss: 0.9395 - val_accuracy: 0.8480 - val_f1: 0.8566\n",
            "Best F1:0.857, best accuracy:0.848\n"
          ],
          "name": "stdout"
        }
      ]
    },
    {
      "cell_type": "code",
      "metadata": {
        "colab_type": "code",
        "outputId": "a5e64f65-724e-4f3f-bb4c-35b67510e0fc",
        "id": "gaQtpvGNBI5m",
        "colab": {
          "base_uri": "https://localhost:8080/",
          "height": 432
        }
      },
      "source": [
        "f1_score, acc_score, res_lstm, _ = re_fit_lstm(train_data, test_data, w2v_model, MAX_SEQ_LEN, N_CLASSES, model=aug_lstm, word2ind_aug=w2i)"
      ],
      "execution_count": 0,
      "outputs": [
        {
          "output_type": "stream",
          "text": [
            "Average sentence len:  10.208824116590138\n",
            "Max sentence len:  37\n",
            "8.976% of tokens were replaced by unk token index\n",
            "Average sentence len:  7.516\n",
            "Max sentence len:  17\n",
            "5.854% of tokens were replaced by unk token index\n",
            "Train on 5009 samples, validate on 500 samples\n",
            "Epoch 1/100\n",
            "5009/5009 [==============================] - 2s 494us/step - loss: 0.6814 - accuracy: 0.8385 - f1: 0.8456 - val_loss: 0.7570 - val_accuracy: 0.8460 - val_f1: 0.8568\n",
            "Epoch 2/100\n",
            "5009/5009 [==============================] - 2s 483us/step - loss: 0.5288 - accuracy: 0.8607 - f1: 0.8644 - val_loss: 0.5969 - val_accuracy: 0.8640 - val_f1: 0.8641\n",
            "Epoch 3/100\n",
            "5009/5009 [==============================] - 2s 489us/step - loss: 0.4278 - accuracy: 0.8808 - f1: 0.8856 - val_loss: 0.5444 - val_accuracy: 0.8640 - val_f1: 0.8715\n",
            "Epoch 4/100\n",
            "5009/5009 [==============================] - 2s 488us/step - loss: 0.3508 - accuracy: 0.9130 - f1: 0.9128 - val_loss: 0.5786 - val_accuracy: 0.8620 - val_f1: 0.8697\n",
            "Epoch 5/100\n",
            "5009/5009 [==============================] - 2s 496us/step - loss: 0.2859 - accuracy: 0.9249 - f1: 0.9250 - val_loss: 0.5902 - val_accuracy: 0.8580 - val_f1: 0.8659\n",
            "Epoch 6/100\n",
            "5009/5009 [==============================] - 2s 494us/step - loss: 0.2336 - accuracy: 0.9347 - f1: 0.9370 - val_loss: 0.5925 - val_accuracy: 0.8560 - val_f1: 0.8624\n",
            "Epoch 7/100\n",
            "5009/5009 [==============================] - 3s 514us/step - loss: 0.1983 - accuracy: 0.9471 - f1: 0.9467 - val_loss: 0.6496 - val_accuracy: 0.8520 - val_f1: 0.8650\n",
            "Epoch 8/100\n",
            "5009/5009 [==============================] - 3s 523us/step - loss: 0.1612 - accuracy: 0.9573 - f1: 0.9563 - val_loss: 0.6131 - val_accuracy: 0.8720 - val_f1: 0.8711\n",
            "Best F1:0.872, best accuracy:0.872\n"
          ],
          "name": "stdout"
        }
      ]
    },
    {
      "cell_type": "code",
      "metadata": {
        "colab_type": "code",
        "id": "6kKJgs9mBI5p",
        "outputId": "367c21fe-c104-4b38-d234-6ee602b32ee5",
        "colab": {
          "base_uri": "https://localhost:8080/",
          "height": 207
        }
      },
      "source": [
        "f1_score, acc_score, aug_cnn, w2i = re_fit_cnn(all_augs, test_data, w2v_model, MAX_SEQ_LEN, N_CLASSES, epochs=1)"
      ],
      "execution_count": 0,
      "outputs": [
        {
          "output_type": "stream",
          "text": [
            "Not found vectors 12493 out of 41393 unique words\n",
            "Average sentence len:  8.866279771675474\n",
            "Max sentence len:  36\n",
            "6.867% of tokens were replaced by unk token index\n",
            "Average sentence len:  7.516\n",
            "Max sentence len:  17\n",
            "5.854% of tokens were replaced by unk token index\n",
            "Train on 472135 samples, validate on 500 samples\n",
            "Epoch 1/1\n",
            "472135/472135 [==============================] - 15s 32us/step - loss: 0.2774 - accuracy: 0.9286 - f1: 0.9212 - val_loss: 1.1222 - val_accuracy: 0.8640 - val_f1: 0.8650\n",
            "Best F1:0.865, best accuracy:0.864\n"
          ],
          "name": "stdout"
        }
      ]
    },
    {
      "cell_type": "code",
      "metadata": {
        "colab_type": "code",
        "id": "Uj1VIkpoBI5s",
        "outputId": "a01c334d-9558-4a28-c2bd-2c45e89b0466",
        "colab": {
          "base_uri": "https://localhost:8080/",
          "height": 501
        }
      },
      "source": [
        "f1_score, acc_score, res_cnn, _ = re_fit_cnn(train_data, test_data, w2v_model, MAX_SEQ_LEN, N_CLASSES, model=aug_cnn, word2ind_aug=w2i)"
      ],
      "execution_count": 0,
      "outputs": [
        {
          "output_type": "stream",
          "text": [
            "Average sentence len:  10.208824116590138\n",
            "Max sentence len:  37\n",
            "8.976% of tokens were replaced by unk token index\n",
            "Average sentence len:  7.516\n",
            "Max sentence len:  17\n",
            "5.854% of tokens were replaced by unk token index\n",
            "Train on 5009 samples, validate on 500 samples\n",
            "Epoch 1/100\n",
            "5009/5009 [==============================] - 0s 39us/step - loss: 0.6139 - accuracy: 0.8646 - f1: 0.8712 - val_loss: 0.7894 - val_accuracy: 0.8620 - val_f1: 0.8755\n",
            "Epoch 2/100\n",
            "5009/5009 [==============================] - 0s 33us/step - loss: 0.1853 - accuracy: 0.9565 - f1: 0.9585 - val_loss: 0.5796 - val_accuracy: 0.8780 - val_f1: 0.8850\n",
            "Epoch 3/100\n",
            "5009/5009 [==============================] - 0s 33us/step - loss: 0.0754 - accuracy: 0.9818 - f1: 0.9829 - val_loss: 0.5477 - val_accuracy: 0.8980 - val_f1: 0.9000\n",
            "Epoch 4/100\n",
            "5009/5009 [==============================] - 0s 33us/step - loss: 0.0381 - accuracy: 0.9928 - f1: 0.9908 - val_loss: 0.5265 - val_accuracy: 0.9020 - val_f1: 0.9085\n",
            "Epoch 5/100\n",
            "5009/5009 [==============================] - 0s 33us/step - loss: 0.0235 - accuracy: 0.9952 - f1: 0.9947 - val_loss: 0.5239 - val_accuracy: 0.9040 - val_f1: 0.9041\n",
            "Epoch 6/100\n",
            "5009/5009 [==============================] - 0s 33us/step - loss: 0.0179 - accuracy: 0.9960 - f1: 0.9957 - val_loss: 0.5383 - val_accuracy: 0.9020 - val_f1: 0.8991\n",
            "Epoch 7/100\n",
            "5009/5009 [==============================] - 0s 33us/step - loss: 0.0156 - accuracy: 0.9964 - f1: 0.9963 - val_loss: 0.5259 - val_accuracy: 0.9080 - val_f1: 0.9078\n",
            "Epoch 8/100\n",
            "5009/5009 [==============================] - 0s 33us/step - loss: 0.0141 - accuracy: 0.9962 - f1: 0.9961 - val_loss: 0.5335 - val_accuracy: 0.9080 - val_f1: 0.9076\n",
            "Epoch 9/100\n",
            "5009/5009 [==============================] - 0s 34us/step - loss: 0.0128 - accuracy: 0.9966 - f1: 0.9964 - val_loss: 0.5360 - val_accuracy: 0.9060 - val_f1: 0.9039\n",
            "Epoch 10/100\n",
            "5009/5009 [==============================] - 0s 33us/step - loss: 0.0123 - accuracy: 0.9966 - f1: 0.9966 - val_loss: 0.5359 - val_accuracy: 0.9080 - val_f1: 0.9062\n",
            "Best F1:0.909, best accuracy:0.908\n"
          ],
          "name": "stdout"
        }
      ]
    },
    {
      "cell_type": "code",
      "metadata": {
        "id": "5X62LmHJBNTH",
        "colab_type": "code",
        "colab": {}
      },
      "source": [
        ""
      ],
      "execution_count": 0,
      "outputs": []
    }
  ]
}